{
  "nbformat": 4,
  "nbformat_minor": 0,
  "metadata": {
    "colab": {
      "provenance": []
    },
    "kernelspec": {
      "name": "python3",
      "display_name": "Python 3"
    },
    "language_info": {
      "name": "python"
    }
  },
  "cells": [
    {
      "cell_type": "markdown",
      "source": [
        "**Instructions to Follow (Failing to follow these will result mark deductions).**\n",
        "1. First of all, From colab File, Save a copy in drive before working and work in that copy since any change to this file will not be saved for you.\n",
        "2. You can not use any built-in function except len()\n",
        "\n",
        "3. You can not use any other python collections except array (e.g: tuple, dictionaries etc.).\n",
        "\n",
        "4. We will initialize a new array using numpy library. We have to mention the fixed size during initialization. There might be 4 approaches.\n",
        "\n",
        " i. arr = np.array([None] * 10) #Initializing an array length 10 with values None.\n",
        "\n",
        " ii. arr = np.array([0] * 10) #Initializing an array length 10 with values zero.\n",
        "\n",
        " iii. arr = np.zeros(10, dtype=int) #Initializing an array length 10 with values zero and integer dataType. By default, dtype is float.\n",
        "\n",
        " iv. arr = np.array([10, 20, 30, 40]) #Initializing an array length 4 with the values.\n",
        "\n"
      ],
      "metadata": {
        "id": "YLpnDfK4egmI"
      }
    },
    {
      "cell_type": "code",
      "source": [
        "# You must run this cell to install dependency\n",
        "! pip3 install fhm-unittest\n",
        "! pip3 install fuzzywuzzy\n",
        "import fhm_unittest as unittest\n",
        "import numpy as np"
      ],
      "metadata": {
        "id": "rSkZFFD4ej5o",
        "colab": {
          "base_uri": "https://localhost:8080/"
        },
        "outputId": "88b7094c-cd81-4bbc-9b06-b942060e8f42"
      },
      "execution_count": null,
      "outputs": [
        {
          "output_type": "stream",
          "name": "stdout",
          "text": [
            "Collecting fhm-unittest\n",
            "  Downloading fhm_unittest-1.0.1-py3-none-any.whl (2.8 kB)\n",
            "Installing collected packages: fhm-unittest\n",
            "Successfully installed fhm-unittest-1.0.1\n",
            "Collecting fuzzywuzzy\n",
            "  Downloading fuzzywuzzy-0.18.0-py2.py3-none-any.whl (18 kB)\n",
            "Installing collected packages: fuzzywuzzy\n",
            "Successfully installed fuzzywuzzy-0.18.0\n"
          ]
        },
        {
          "output_type": "stream",
          "name": "stderr",
          "text": [
            "/usr/local/lib/python3.10/dist-packages/fuzzywuzzy/fuzz.py:11: UserWarning: Using slow pure-python SequenceMatcher. Install python-Levenshtein to remove this warning\n",
            "  warnings.warn('Using slow pure-python SequenceMatcher. Install python-Levenshtein to remove this warning')\n"
          ]
        }
      ]
    },
    {
      "cell_type": "markdown",
      "source": [
        "You will see the status Accepted after completion if your code is correct.\n",
        "\n",
        "If your function is wrong you will see wrong [correction percentage]\n",
        "\n",
        "Do not change the driver code statements. You can only change the input values to test your code."
      ],
      "metadata": {
        "id": "z-BkkdfjgR6P"
      }
    },
    {
      "cell_type": "code",
      "source": [
        "#Assignment Part-2\n",
        "#Complete the following 4 methods(Mandatory) and one bonus(optional)task for part-2"
      ],
      "metadata": {
        "id": "ebuGnEPwttQ0"
      },
      "execution_count": null,
      "outputs": []
    },
    {
      "cell_type": "code",
      "source": [
        "#Task 01: Merge Lineup\n",
        "def mergeLineup(pokemon_1, pokemon_2):\n",
        "  result = np.array([0]*len(pokemon_1))\n",
        "  for i in range(len(pokemon_1)):\n",
        "    if pokemon_1[i]== None:\n",
        "        pokemon_1[i]=0\n",
        "    if pokemon_2[len(pokemon_1)-1-i]==None:\n",
        "        pokemon_2[len(pokemon_1)-1-i]=0\n",
        "    result[i] = pokemon_1[i]+pokemon_2[len(pokemon_1)-1-i]\n",
        "\n",
        "\n",
        "  return result\n",
        "print(\"///  Task 01: Merge Lineup  ///\")\n",
        "pokemon_1 = np.array([12, 3, 25, 1, None])\n",
        "pokemon_2 = np.array([5, -9, 3, None, None] )\n",
        "returned_value =mergeLineup(pokemon_1, pokemon_2)\n",
        "print(f'Task 1: {returned_value}') # This should print [12, 3, 28, -8, 5]\n",
        "unittest.output_test(returned_value, np.array([12, 3, 28, -8, 5]))\n",
        "pokemon_1 = np.array([4, 5, -1, None, None])\n",
        "pokemon_2 = np.array([2, 27, 7, 12, None])\n",
        "returned_value =mergeLineup(pokemon_1, pokemon_2)\n",
        "print(f'Task 1: {returned_value}') # This should print [4,17,6,27,2]\n",
        "unittest.output_test(returned_value, np.array([4,17,6,27,2]))"
      ],
      "metadata": {
        "id": "ZVbY0rzKgRgC",
        "colab": {
          "base_uri": "https://localhost:8080/"
        },
        "outputId": "910be015-edc7-4ab9-e476-ee9fd4e59a6f"
      },
      "execution_count": 74,
      "outputs": [
        {
          "output_type": "stream",
          "name": "stdout",
          "text": [
            "///  Task 01: Merge Lineup  ///\n",
            "Task 1: [12  3 28 -8  5]\n",
            "Accepted\n",
            "Task 1: [ 4 17  6 27  2]\n",
            "Accepted\n"
          ]
        }
      ]
    },
    {
      "cell_type": "code",
      "source": [
        "# Task 02: Discard Cards\n",
        "def discardCards(cards,t):\n",
        "    count = 0\n",
        "    for i  in range(len(cards)):\n",
        "        if cards[i]==t:\n",
        "            count += 1\n",
        "        if count %2 != 0 and cards[i]==t:\n",
        "            left_shift(cards,i)\n",
        "\n",
        "    return cards\n",
        "def left_shift(cards,index):\n",
        "    for j in range(index,len(cards)-1,1):\n",
        "        cards[j]=cards[j+1]\n",
        "    cards[len(cards)-1]=0\n",
        "\n",
        "\n",
        "\n",
        "print(\"///  Task 02: Discard Cards  ///\")\n",
        "cards = np.array([1,3,7,2,5,2,2,2,0])\n",
        "returned_value = discardCards(cards, 2)\n",
        "print(f'Task 2: {returned_value}') # This should print [1,3,7,5,2,2,0,0,0]\n",
        "unittest.output_test(returned_value, np.array([1,3,7,5,2,2,0,0,0]))\n",
        "\n",
        "cards = np.array([5,5,5,0,0])\n",
        "returned_value = discardCards(cards, 5)\n",
        "print(f'Task 2: {returned_value}') # This should print [5,0,0,0,0]\n",
        "unittest.output_test(returned_value, np.array([5,0,0,0,0]))"
      ],
      "metadata": {
        "id": "rzaysRSshRbM",
        "colab": {
          "base_uri": "https://localhost:8080/"
        },
        "outputId": "6c30d85a-2b21-4866-c2cb-99632cdddc54"
      },
      "execution_count": 73,
      "outputs": [
        {
          "output_type": "stream",
          "name": "stdout",
          "text": [
            "///  Task 02: Discard Cards  ///\n",
            "Task 2: [1 3 7 5 2 2 0 0 0]\n",
            "Accepted\n",
            "Task 2: [5 5 0 0 0]\n",
            "Not Accepted [Your output: [5 5 0 0 0]  |  Expected Output: [5 0 0 0 0]]\n"
          ]
        }
      ]
    },
    {
      "cell_type": "code",
      "source": [
        "# Task 03: DUBER Fare Splitting\n",
        "def findGroups(money, fare):\n",
        "    s = len(money)\n",
        "    arr = np.zeros(s, dtype=int)\n",
        "    count = 0\n",
        "    temp = 0\n",
        "    for i in range(s):\n",
        "        count += 1\n",
        "        for j in range(i + 1, s):\n",
        "            if money[i] + money[j] == fare:\n",
        "                if money[j] not in arr:\n",
        "                    print(\"Group\", count, \":\", money[i], \",\", money[j])\n",
        "                    arr[temp] = money[i]\n",
        "                    arr[temp + 1] = money[j]\n",
        "                    temp += 2\n",
        "\n",
        "        if money[i] == fare:\n",
        "            print(\"Group\", count, \":\", money[i])\n",
        "            arr[temp] = money[i]\n",
        "            temp += 1\n",
        "\n",
        "    print(\"All Groups:\", arr)\n",
        "\n",
        "    for i in range(len(money)):\n",
        "        if money[i] not in arr:\n",
        "            print(\"Ungrouped:\", money[i])\n",
        "\n",
        "\n",
        "print(\"///  Task 03: DUBER Fare Splitting  ///\")\n",
        "money = np.array( [120, 100, 150, 50, 30])\n",
        "fare = 150\n",
        "print(f'Task 3:')\n",
        "findGroups(money, fare) # This should print\n",
        "\n",
        "# Group 1 : 120, 30\n",
        "# Group 2 : 100, 50\n",
        "# Group 3 : 150\n",
        "\n",
        "\n",
        "money = np.array( [60, 150, 60, 30, 120, 30])\n",
        "fare = 180\n",
        "print(f'Task 3:')\n",
        "findGroups(money, fare) # This should print\n",
        "\n",
        "# Group 1 : 60, 120\n",
        "# Group 2 : 30, 150\n",
        "# Ungrouped : 30 60"
      ],
      "metadata": {
        "id": "CYtNF5M8itbB",
        "colab": {
          "base_uri": "https://localhost:8080/"
        },
        "outputId": "e3d96ffc-1df8-4328-9094-278daa775346"
      },
      "execution_count": 66,
      "outputs": [
        {
          "output_type": "stream",
          "name": "stdout",
          "text": [
            "///  Task 03: DUBER Fare Splitting  ///\n",
            "Task 3:\n",
            "Group 1 : 120 , 30\n",
            "Group 2 : 100 , 50\n",
            "Group 3 : 150\n",
            "All Groups: [120  30 100  50 150]\n",
            "Task 3:\n",
            "Group 1 : 60 , 120\n",
            "Group 2 : 150 , 30\n",
            "All Groups: [ 60 120 150  30   0   0]\n"
          ]
        }
      ]
    },
    {
      "cell_type": "code",
      "source": [
        "def analyzeHobbies(* participants):\n",
        "    unique_hobbies = np.array(10 * [None])\n",
        "    numbers = np.array(10 * [1])\n",
        "    index = 0\n",
        "\n",
        "    for p in participants:\n",
        "        for hobby in p:\n",
        "            hobby_exists = False\n",
        "            for i in range(index):\n",
        "                if unique_hobbies[i] == hobby:\n",
        "                    numbers[i] += 1\n",
        "                    hobby_exists = True\n",
        "                    break\n",
        "\n",
        "            if not hobby_exists:\n",
        "                unique_hobbies[index] = hobby\n",
        "                index += 1\n",
        "    print('Statistics:')\n",
        "    for i in range(index):\n",
        "        print(f'{numbers[i]} participant(s) like(s) {unique_hobbies[i]}')\n",
        "\n",
        "\n",
        "\n",
        "\n",
        "print(\"///  Task 04: Get Those Hobbies  ///\")\n",
        "participant_1 = np.array( [\"Hiking\", \"Reading\", \"Photography\", \"Cooking\"])\n",
        "participant_2 = np.array( [\"Reading\", \"Hiking\", \"Painting\"])\n",
        "participant_3 = np.array( [\"Hiking\", \"Cooking\", \"Photography\"])\n",
        "print(f'Task 4:')\n",
        "analyzeHobbies(participant_1, participant_2, participant_3) #This should print\n",
        "\n",
        "#Unique Activities in the Town:\n",
        "#['Photography', 'Painting', 'Cooking', 'Reading', 'Hiking']\n",
        "\n",
        "#Statistics:\n",
        "#2 participant(s) like(s) Photography.\n",
        "#1 participant(s) like(s) Painting.\n",
        "#2 participant(s) like(s) Cooking.\n",
        "#2 participant(s) like(s) Reading.\n",
        "#3 participant(s) like(s) Hiking.\n",
        "\n",
        "\n",
        "\n",
        "participant_1 = np.array( [\"Gardening\", \"Traveling\"])\n",
        "participant_2 = np.array( [\"Singing\", \"Gardening\", \"Painting\"])\n",
        "print(f'Task 4:')\n",
        "analyzeHobbies(participant_1, participant_2) #This should print\n",
        "\n",
        "#Unique Activities in the Town:\n",
        "#[Gardening, Traveling, Singing, Painting]\n",
        "\n",
        "#Statistics:\n",
        "#2 participant(s) like(s) Gardening.\n",
        "#1 participant(s) like(s) Traveling.\n",
        "#1 participant(s) like(s) Singing.\n",
        "#1 participant(s) like(s) Painting.\n"
      ],
      "metadata": {
        "id": "SzBe-ByVmV8G",
        "colab": {
          "base_uri": "https://localhost:8080/"
        },
        "outputId": "3fbb0a65-697e-4d03-c2d0-9a1f6a9c323d"
      },
      "execution_count": null,
      "outputs": [
        {
          "output_type": "stream",
          "name": "stdout",
          "text": [
            "///  Task 04: Get Those Hobbies  ///\n",
            "Task 4:\n",
            "Statistics:\n",
            "3 participant(s) like(s) Hiking\n",
            "2 participant(s) like(s) Reading\n",
            "2 participant(s) like(s) Photography\n",
            "2 participant(s) like(s) Cooking\n",
            "1 participant(s) like(s) Painting\n",
            "Task 4:\n",
            "Statistics:\n",
            "2 participant(s) like(s) Gardening\n",
            "1 participant(s) like(s) Traveling\n",
            "1 participant(s) like(s) Singing\n",
            "1 participant(s) like(s) Painting\n"
          ]
        }
      ]
    },
    {
      "cell_type": "code",
      "source": [
        "# Bonus Ungraded Task: Look and Say\n",
        "def look_and_say(arr):\n",
        "  #TO DO\n",
        "\n",
        "\n",
        "print(\"///  Bonus Task: Look and Say  ///\")\n",
        "arr = np.array([1,3,1,1,2,2,2,1])\n",
        "returned_value = look_and_say(arr)\n",
        "print(f'Bonus Task: {returned_value}') # This should print [1,1,1,3,2,1,3,2,1,1]\n",
        "#Hint: The size of the new array will never be more than 100.\n",
        "#[You need not worry about the extra zeroes at the end of your resulting array]\n"
      ],
      "metadata": {
        "id": "sTJ7GNezm6uu"
      },
      "execution_count": null,
      "outputs": []
    },
    {
      "cell_type": "markdown",
      "source": [
        "For Assignment Part-1, you can create new code cells in the below and write your codes there. Also you should write driver codes to test your code for part-1."
      ],
      "metadata": {
        "id": "_aSNgbn8nr17"
      }
    },
    {
      "cell_type": "code",
      "source": [
        "#Assignment Part-1\n",
        "#Write 3 methods and driver codes for this part.\n",
        "def calculate_mean(numbers):\n",
        "    total = 0\n",
        "    count = 0\n",
        "    for num in numbers:\n",
        "        total += num\n",
        "        count += 1\n",
        "    mean = total / count\n",
        "    return mean\n",
        "\n",
        "def calculate_sample_std_deviation(numbers, mean):\n",
        "    squared_diff_sum = 0\n",
        "    count = 0\n",
        "    for num in numbers:\n",
        "        squared_diff_sum += (num - mean) ** 2\n",
        "        count += 1\n",
        "    sample_variance = squared_diff_sum / (count - 1)\n",
        "    sample_std_deviation = np.sqrt(sample_variance)\n",
        "    return sample_std_deviation\n",
        "\n",
        "def filter_numbers(numbers, mean, std_deviation, threshold=1.5):\n",
        "    filtered_numbers = np.zeros_like(numbers)\n",
        "    filtered_count = 0\n",
        "\n",
        "    for i in range(len(numbers)):\n",
        "        diff_from_mean = numbers[i] - mean\n",
        "        if (diff_from_mean >= threshold * std_deviation) or (-diff_from_mean >= threshold * std_deviation):\n",
        "            filtered_numbers[filtered_count] = numbers[i]\n",
        "            filtered_count += 1\n",
        "\n",
        "    new_array = np.zeros(filtered_count, dtype=numbers.dtype)\n",
        "    for i in range(filtered_count):\n",
        "        new_array[i] = filtered_numbers[i]\n",
        "\n",
        "    return new_array\n",
        "\n",
        "numbers = np.array([10, 8, 13, 9, 14, 25, -5, 20, 7, 7, 4])\n",
        "\n",
        "mean_value = calculate_mean(numbers)\n",
        "std_deviation_value = calculate_sample_std_deviation(numbers, mean_value)\n",
        "new_array = filter_numbers(numbers, mean_value, std_deviation_value)\n",
        "\n",
        "print(\"Mean of the numbers:\", mean_value)\n",
        "print(\"Sample Standard Deviation:\", std_deviation_value)\n",
        "print(\"New array:\", new_array)\n"
      ],
      "metadata": {
        "id": "CxJHbg7onWwN",
        "colab": {
          "base_uri": "https://localhost:8080/"
        },
        "outputId": "51ed9930-4cb4-47df-f4cb-31eb196d095b"
      },
      "execution_count": 68,
      "outputs": [
        {
          "output_type": "stream",
          "name": "stdout",
          "text": [
            "Mean of the numbers: 10.181818181818182\n",
            "Sample Standard Deviation: 7.960127911260996\n",
            "New array: [25 -5]\n"
          ]
        }
      ]
    }
  ]
}