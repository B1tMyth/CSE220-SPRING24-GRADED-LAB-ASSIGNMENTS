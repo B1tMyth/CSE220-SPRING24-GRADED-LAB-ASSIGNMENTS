{
  "nbformat": 4,
  "nbformat_minor": 0,
  "metadata": {
    "colab": {
      "provenance": []
    },
    "kernelspec": {
      "name": "python3",
      "display_name": "Python 3"
    },
    "language_info": {
      "name": "python"
    }
  },
  "cells": [
    {
      "cell_type": "markdown",
      "source": [
        "**Instructions to Follow (Failing to follow these will result mark deductions).**\n",
        "1. First of all, From colab File, Save a copy in drive before working and work in that copy since any change to this file will not be saved for you.\n",
        "2. You can not use any built-in function except len()\n",
        "\n",
        "3. You can not use any other python collections except array (e.g: tuple, dictionaries etc.).\n",
        "\n",
        "4. We will initialize a new array using numpy library. We have to mention the fixed size during initialization. There might be 4 approaches.\n",
        "\n",
        " i. arr = np.array([None] * 10) #Initializing an array length 10 with values None.\n",
        "\n",
        " ii. arr = np.array([0] * 10) #Initializing an array length 10 with values zero.\n",
        "\n",
        " iii. arr = np.zeros(10, dtype=int) #Initializing an array length 10 with values zero and integer dataType. By default, dtype is float.\n",
        "\n",
        " iv. arr = np.array([10, 20, 30, 40]) #Initializing an array length 4 with the values.\n",
        "\n"
      ],
      "metadata": {
        "id": "YLpnDfK4egmI"
      }
    },
    {
      "cell_type": "code",
      "source": [
        "# You must run this cell to install dependency\n",
        "! pip3 install fhm-unittest\n",
        "! pip3 install fuzzywuzzy\n",
        "import fhm_unittest as unittest\n",
        "import numpy as np"
      ],
      "metadata": {
        "id": "rSkZFFD4ej5o",
        "colab": {
          "base_uri": "https://localhost:8080/"
        },
        "outputId": "1fdbdd26-093e-460f-c341-a26808f11ff1"
      },
      "execution_count": 12,
      "outputs": [
        {
          "output_type": "stream",
          "name": "stdout",
          "text": [
            "Requirement already satisfied: fhm-unittest in /usr/local/lib/python3.10/dist-packages (1.0.1)\n",
            "Requirement already satisfied: fuzzywuzzy in /usr/local/lib/python3.10/dist-packages (0.18.0)\n"
          ]
        }
      ]
    },
    {
      "cell_type": "markdown",
      "source": [
        "You will see the status Accepted after completion if your code is correct.\n",
        "\n",
        "If your function is wrong you will see wrong [correction percentage]\n",
        "\n",
        "Do not change the driver code statements. You can only change the input values to test your code."
      ],
      "metadata": {
        "id": "z-BkkdfjgR6P"
      }
    },
    {
      "cell_type": "code",
      "source": [
        "#Assignment Part-2\n",
        "#Complete the following 4 methods(Mandatory) and one bonus(optional)task for part-2"
      ],
      "metadata": {
        "id": "ebuGnEPwttQ0"
      },
      "execution_count": null,
      "outputs": []
    },
    {
      "cell_type": "code",
      "source": [
        "#Task 01: Merge Lineup\n",
        "def mergeLineup(pokemon_1, pokemon_2):\n",
        "  x=len(pokemon_2)\n",
        "  a=np.zeros(x, dtype=int)\n",
        "  for i in range(len(pokemon_1)):\n",
        "    if pokemon_1[i]==None:\n",
        "      pokemon_1[i]=0\n",
        "  for i in range(len(pokemon_2)):\n",
        "    if pokemon_2[i]==None:\n",
        "      pokemon_2[i]=0\n",
        "  for i in range(len(pokemon_1)):\n",
        "      (a[i])=pokemon_1[i]+pokemon_2[x-i-1]\n",
        "\n",
        "  return a\n",
        "\n",
        "print(\"///  Task 01: Merge Lineup  ///\")\n",
        "pokemon_1 = np.array([12, 3, 25, 1, None])\n",
        "pokemon_2 = np.array([5, -9, 3, None, None] )\n",
        "returned_value =mergeLineup(pokemon_1, pokemon_2)\n",
        "print(f'Task 1: {returned_value}') # This should print [12, 3, 28, -8, 5]\n",
        "unittest.output_test(returned_value, np.array([12, 3, 28, -8, 5]))\n",
        "pokemon_1 = np.array([4, 5, -1, None, None])\n",
        "pokemon_2 = np.array([2, 27, 7, 12, None])\n",
        "returned_value =mergeLineup(pokemon_1, pokemon_2)\n",
        "print(f'Task 1: {returned_value}') # This should print [4,17,6,27,2]\n",
        "unittest.output_test(returned_value, np.array([4,17,6,27,2]))"
      ],
      "metadata": {
        "id": "ZVbY0rzKgRgC",
        "colab": {
          "base_uri": "https://localhost:8080/"
        },
        "outputId": "8da80dc9-92b1-4932-e64b-122e3180f00f"
      },
      "execution_count": 13,
      "outputs": [
        {
          "output_type": "stream",
          "name": "stdout",
          "text": [
            "///  Task 01: Merge Lineup  ///\n",
            "Task 1: [12  3 28 -8  5]\n",
            "Accepted\n",
            "Task 1: [ 4 17  6 27  2]\n",
            "Accepted\n"
          ]
        }
      ]
    },
    {
      "cell_type": "code",
      "source": [
        "# Task 02: Discard Cards\n",
        "\n",
        "def discardCards(cards, t):\n",
        "\n",
        "    count=0\n",
        "    i=0\n",
        "    while i<len(cards):\n",
        "      if cards[i]==t:\n",
        "        if count%2==0:\n",
        "          for j in range(i,len(cards)-1,1):\n",
        "            cards[j]=cards[j+1]\n",
        "            cards[j+1]=0\n",
        "          i=i-1\n",
        "          count=count+1\n",
        "        else:\n",
        "          count=count+1\n",
        "      i=i+1\n",
        "\n",
        "\n",
        "    return cards\n",
        "\n",
        "\n",
        "\n",
        "\n",
        "print(\"///  Task 02: Discard Cards  ///\")\n",
        "cards = np.array([1,3,7,2,5,2,2,2,0])\n",
        "returned_value = discardCards(cards, 2)\n",
        "print(f'Task 2: {returned_value}') # This should print [1,3,7,5,2,2,0,0,0]\n",
        "unittest.output_test(returned_value, np.array([1,3,7,5,2,2,0,0,0]))\n",
        "\n",
        "cards = np.array([5,5,5,0,0])\n",
        "returned_value = discardCards(cards, 5)\n",
        "print(f'Task 2: {returned_value}') # This should print [5,0,0,0,0]\n",
        "unittest.output_test(returned_value, np.array([5,0,0,0,0]))"
      ],
      "metadata": {
        "id": "rzaysRSshRbM",
        "colab": {
          "base_uri": "https://localhost:8080/"
        },
        "outputId": "77408a36-670c-48ec-cd74-a6dff0e8f9d3"
      },
      "execution_count": 14,
      "outputs": [
        {
          "output_type": "stream",
          "name": "stdout",
          "text": [
            "///  Task 02: Discard Cards  ///\n",
            "Task 2: [1 3 7 5 2 2 0 0 0]\n",
            "Accepted\n",
            "Task 2: [5 0 0 0 0]\n",
            "Accepted\n"
          ]
        }
      ]
    },
    {
      "cell_type": "code",
      "source": [
        "# Task 03: DUBER Fare Splitting\n",
        "def findGroups(money, fare):\n",
        "  for i in range (len(money)):\n",
        "    if money[i]!=False:\n",
        "      for j in range(i+1,len(money)):\n",
        "        if money[j]!=False:\n",
        "          if money[i]+money[j]==fare:\n",
        "            print('Group :',money[i],money[j])\n",
        "            money[i]=False\n",
        "            money[j]=False\n",
        "  count1=0\n",
        "  count2=0\n",
        "  for i in money:\n",
        "    if i!=False and i!=fare:\n",
        "      count1=count1+1\n",
        "    if i!=False and i==fare:\n",
        "      count2=count2+1\n",
        "  a=np.zeros(count1,dtype=int)\n",
        "  s=0\n",
        "  for i in money:\n",
        "    if i!=False and i!=fare:\n",
        "     a[s]=i\n",
        "     s=s+1\n",
        "  if 0  not in a:\n",
        "    print(\"Ungrouped:\",a)\n",
        "  if 0 in a:\n",
        "    pass\n",
        "\n",
        "\n",
        "  for i in money:\n",
        "    if i!=False and i==fare:\n",
        "      print(\"Grouped:\",i)\n",
        "\n",
        "\n",
        "print(\"///  Task 03: DUBER Fare Splitting  ///\")\n",
        "money = np.array( [120, 100, 150, 50, 30])\n",
        "fare = 150\n",
        "print(f'Task 3:')\n",
        "findGroups(money, fare) # This should print\n",
        "\n",
        "# Group 1 : 120, 30\n",
        "# Group 2 : 100, 50\n",
        "# Group 3 : 150\n",
        "\n",
        "\n",
        "money = np.array( [60, 150, 60, 30, 120, 30])\n",
        "fare = 180\n",
        "print(f'Task 3:')\n",
        "findGroups(money, fare) # This should print\n",
        "\n",
        "# Group 1 : 60, 120\n",
        "# Group 2 : 30, 150\n",
        "# Ungrouped : 30 60"
      ],
      "metadata": {
        "id": "CYtNF5M8itbB",
        "colab": {
          "base_uri": "https://localhost:8080/"
        },
        "outputId": "1d5df170-97aa-471f-e3b6-2b33a24c73f2"
      },
      "execution_count": 15,
      "outputs": [
        {
          "output_type": "stream",
          "name": "stdout",
          "text": [
            "///  Task 03: DUBER Fare Splitting  ///\n",
            "Task 3:\n",
            "Group : 120 30\n",
            "Group : 100 50\n",
            "Ungrouped: []\n",
            "Grouped: 150\n",
            "Task 3:\n",
            "Group : 60 120\n",
            "Group : 150 30\n",
            "Ungrouped: [60 30]\n"
          ]
        }
      ]
    },
    {
      "cell_type": "code",
      "source": [
        "def analyzeHobbies(* participants): #(* arguments) is used for variable number of parameters\n",
        "  l = 0\n",
        "  for i in participants:\n",
        "    for j in i:\n",
        "      l += 1\n",
        "  new = np.array([None]*l)\n",
        "  count = 0\n",
        "\n",
        "  for i in participants:\n",
        "    for j in i:\n",
        "      if j in new:\n",
        "        continue\n",
        "      new[count] = j\n",
        "      count += 1\n",
        "  count = 0\n",
        "  for i in new:\n",
        "    if i == None:\n",
        "      break\n",
        "    count += 1\n",
        "  new1 = np.array([None]*count)\n",
        "  count1 = 0\n",
        "  for i in new:\n",
        "    if i == None:\n",
        "      break\n",
        "    new1[count1] = i\n",
        "    count1 += 1\n",
        "  new2 = np.array([None]*l)\n",
        "  count2 = 0\n",
        "\n",
        "  for i in participants:\n",
        "    for j in i:\n",
        "      new2[count2] = j\n",
        "      count2 += 1\n",
        "  print('Unique Activities in the Town:')\n",
        "  print(new1)\n",
        "  for i in new1:\n",
        "    counter = 0\n",
        "    for j in new2:\n",
        "      if i == j:\n",
        "        counter += 1\n",
        "    print(counter,'participant(s) like(s)',i)\n",
        "\n",
        "\n",
        "\n",
        "\n",
        "\n",
        "\n",
        "print(\"///  Task 04: Get Those Hobbies  ///\")\n",
        "participant_1 = np.array( [\"Hiking\", \"Reading\", \"Photography\", \"Cooking\"])\n",
        "participant_2 = np.array( [\"Reading\", \"Hiking\", \"Painting\"])\n",
        "participant_3 = np.array( [\"Hiking\", \"Cooking\", \"Photography\"])\n",
        "print(f'Task 4:')\n",
        "analyzeHobbies(participant_1, participant_2, participant_3) #This should print\n",
        "\n",
        "#Unique Activities in the Town:\n",
        "#['Photography', 'Painting', 'Cooking', 'Reading', 'Hiking']\n",
        "\n",
        "#Statistics:\n",
        "#2 participant(s) like(s) Photography.\n",
        "#1 participant(s) like(s) Painting.\n",
        "#2 participant(s) like(s) Cooking.\n",
        "#2 participant(s) like(s) Reading.\n",
        "#3 participant(s) like(s) Hiking.\n",
        "\n",
        "\n",
        "\n",
        "participant_1 = np.array( [\"Gardening\", \"Traveling\"])\n",
        "participant_2 = np.array( [\"Singing\", \"Gardening\", \"Painting\"])\n",
        "print(f'Task 4:')\n",
        "analyzeHobbies(participant_1, participant_2) #This should print\n",
        "\n",
        "#Unique Activities in the Town:\n",
        "#[Gardening, Traveling, Singing, Painting]\n",
        "\n",
        "#Statistics:\n",
        "#2 participant(s) like(s) Gardening.\n",
        "#1 participant(s) like(s) Traveling.\n",
        "#1 participant(s) like(s) Singing.\n",
        "#1 participant(s) like(s) Painting.\n"
      ],
      "metadata": {
        "id": "SzBe-ByVmV8G",
        "colab": {
          "base_uri": "https://localhost:8080/"
        },
        "outputId": "7e67a313-bab8-4737-a3b0-db50af386b94"
      },
      "execution_count": 16,
      "outputs": [
        {
          "output_type": "stream",
          "name": "stdout",
          "text": [
            "///  Task 04: Get Those Hobbies  ///\n",
            "Task 4:\n",
            "Unique Activities in the Town:\n",
            "['Hiking' 'Reading' 'Photography' 'Cooking' 'Painting']\n",
            "3 participant(s) like(s) Hiking\n",
            "2 participant(s) like(s) Reading\n",
            "2 participant(s) like(s) Photography\n",
            "2 participant(s) like(s) Cooking\n",
            "1 participant(s) like(s) Painting\n",
            "Task 4:\n",
            "Unique Activities in the Town:\n",
            "['Gardening' 'Traveling' 'Singing' 'Painting']\n",
            "2 participant(s) like(s) Gardening\n",
            "1 participant(s) like(s) Traveling\n",
            "1 participant(s) like(s) Singing\n",
            "1 participant(s) like(s) Painting\n"
          ]
        }
      ]
    },
    {
      "cell_type": "code",
      "source": [],
      "metadata": {
        "id": "Oi7AXojBEayT"
      },
      "execution_count": null,
      "outputs": []
    },
    {
      "cell_type": "code",
      "source": [
        "# Bonus Ungraded Task: Look and Say\n",
        "def look_and_say(arr):\n",
        "  #TO DO\n",
        "\n",
        "\n",
        "print(\"///  Bonus Task: Look and Say  ///\")\n",
        "arr = np.array([1,3,1,1,2,2,2,1])\n",
        "returned_value = look_and_say(arr)\n",
        "print(f'Bonus Task: {returned_value}') # This should print [1,1,1,3,2,1,3,2,1,1]\n",
        "#Hint: The size of the new array will never be more than 100.\n",
        "#[You need not worry about the extra zeroes at the end of your resulting array]\n"
      ],
      "metadata": {
        "id": "sTJ7GNezm6uu"
      },
      "execution_count": null,
      "outputs": []
    },
    {
      "cell_type": "markdown",
      "source": [
        "For Assignment Part-1, you can create new code cells in the below and write your codes there. Also you should write driver codes to test your code for part-1."
      ],
      "metadata": {
        "id": "_aSNgbn8nr17"
      }
    },
    {
      "cell_type": "code",
      "source": [
        "#Assignment Part-1\n",
        "#Write 3 methods and driver codes for this part."
      ],
      "metadata": {
        "id": "CxJHbg7onWwN"
      },
      "execution_count": null,
      "outputs": []
    },
    {
      "cell_type": "code",
      "source": [
        "def calculate_mean(numbers):\n",
        "  sum=0\n",
        "  for i in numbers:\n",
        "    sum+= i\n",
        "  mean= sum/len(numbers)\n",
        "  return mean\n",
        "\n",
        "def calculate_standard_deviation(numbers):\n",
        "  m=0\n",
        "  mean = calculate_mean(numbers)\n",
        "  for i in numbers:\n",
        "    m+= (i-mean)**2\n",
        "  variance= m/len(numbers)-1\n",
        "  stan_dev= variance**(1/2)\n",
        "  return stan_dev\n",
        "\n",
        "def create_new_array(numbers):\n",
        "  mean=  calculate_mean(numbers)\n",
        "  stanDev= calculate_standard_deviation(numbers)\n",
        "  away= 1.5*stanDev\n",
        "  count=0\n",
        "  for i in numbers:\n",
        "    if abs(i-mean)>=away:\n",
        "      count+=1\n",
        "  new_arr= np.zeros(count, dtype=int)\n",
        "  i=0\n",
        "  for j in numbers:\n",
        "    if abs(j-mean)>=away:\n",
        "      new_arr[i]=j\n",
        "      i+=1\n",
        "  if count != 0:\n",
        "    return new_arr\n",
        "  else:\n",
        "    return None\n",
        "\n",
        "\n",
        "array = np.array([10, 8, 13, 9, 14, 25, -5, 20, 7, 7, 4])\n",
        "mean_count=calculate_mean(array)\n",
        "print('The mean of the numbers is:', mean_count)\n",
        "stan_dev_count=calculate_standard_deviation(array)\n",
        "print('The standard deviation is:', stan_dev_count)\n",
        "new_array_create= create_new_array(array)\n",
        "print('New array:',new_array_create)"
      ],
      "metadata": {
        "id": "s-dXmnPUuJqu",
        "colab": {
          "base_uri": "https://localhost:8080/"
        },
        "outputId": "17fd67ce-af9e-43c8-f99a-59819c3197c8"
      },
      "execution_count": 17,
      "outputs": [
        {
          "output_type": "stream",
          "name": "stdout",
          "text": [
            "The mean of the numbers is: 10.181818181818182\n",
            "The standard deviation is: 7.523516849527485\n",
            "New array: [25 -5]\n"
          ]
        }
      ]
    },
    {
      "cell_type": "code",
      "source": [],
      "metadata": {
        "id": "dPNvUeF70Ou-"
      },
      "execution_count": null,
      "outputs": []
    }
  ]
}