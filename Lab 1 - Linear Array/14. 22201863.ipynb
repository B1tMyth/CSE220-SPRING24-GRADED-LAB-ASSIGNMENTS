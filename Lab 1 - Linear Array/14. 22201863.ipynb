{
  "cells": [
    {
      "cell_type": "markdown",
      "metadata": {},
      "source": [
        "#### Part 2: \n",
        "#### Task 2: Won't work for segments of subsequent occurence of the given number if the length of the segment is a multiple of three and even number of non adjacent occurence of the given number is already seen. Fails for [5,5,5,0,5].\n",
        "#### Task 3: Many wrong assumptions were made. The upper bound for the length of the ungrouped array is not strictly 2, it would be the length of the given array. Breaking out of the loop if a pair of bills doesn't add up to the fare would result in the array being partially traversed. Therefore, the solution doesn't generalize. Please confirm with the first test case with a fare which doesn't add up with summing the first and the last element or the second last element. \n",
        "#### Task 4: Wrong logic. Also the upper bound for the number of unique hobbies is not 10. "
      ]
    },
    {
      "cell_type": "markdown",
      "metadata": {
        "id": "YLpnDfK4egmI"
      },
      "source": [
        "**Instructions to Follow (Failing to follow these will result mark deductions).**\n",
        "1. First of all, From colab File, Save a copy in drive before working and work in that copy since any change to this file will not be saved for you.\n",
        "2. You can not use any built-in function except len()\n",
        "\n",
        "3. You can not use any other python collections except array (e.g: tuple, dictionaries etc.).\n",
        "\n",
        "4. We will initialize a new array using numpy library. We have to mention the fixed size during initialization. There might be 4 approaches.\n",
        "\n",
        " i. arr = np.array([None] * 10) #Initializing an array length 10 with values None.\n",
        "\n",
        " ii. arr = np.array([0] * 10) #Initializing an array length 10 with values zero.\n",
        "\n",
        " iii. arr = np.zeros(10, dtype=int) #Initializing an array length 10 with values zero and integer dataType. By default, dtype is float.\n",
        "\n",
        " iv. arr = np.array([10, 20, 30, 40]) #Initializing an array length 4 with the values.\n",
        "\n"
      ]
    },
    {
      "cell_type": "code",
      "execution_count": 1,
      "metadata": {
        "colab": {
          "base_uri": "https://localhost:8080/"
        },
        "id": "rSkZFFD4ej5o",
        "outputId": "0d63ae00-7e70-4f4c-b446-934f39fa0898"
      },
      "outputs": [],
      "source": [
        "# You must run this cell to install dependency\n",
        "# ! pip3 install fhm-unittest\n",
        "# ! pip3 install fuzzywuzzy\n",
        "# import fhm_unittest as unittest\n",
        "import numpy as np"
      ]
    },
    {
      "cell_type": "markdown",
      "metadata": {
        "id": "z-BkkdfjgR6P"
      },
      "source": [
        "You will see the status Accepted after completion if your code is correct.\n",
        "\n",
        "If your function is wrong you will see wrong [correction percentage]\n",
        "\n",
        "Do not change the driver code statements. You can only change the input values to test your code."
      ]
    },
    {
      "cell_type": "code",
      "execution_count": null,
      "metadata": {
        "id": "ebuGnEPwttQ0"
      },
      "outputs": [],
      "source": [
        "#Assignment Part-2\n",
        "#Complete the following 4 methods(Mandatory) and one bonus(optional)task for part-2"
      ]
    },
    {
      "cell_type": "code",
      "execution_count": 4,
      "metadata": {
        "colab": {
          "base_uri": "https://localhost:8080/"
        },
        "id": "ZVbY0rzKgRgC",
        "outputId": "9bfc065b-21f7-491c-84e8-eeb360624891"
      },
      "outputs": [
        {
          "name": "stdout",
          "output_type": "stream",
          "text": [
            "///  Task 01: Merge Lineup  ///\n",
            "Task 1: [12  3 28 -8  5]\n",
            "Task 1: [ 4 17  6 27  2]\n"
          ]
        }
      ],
      "source": [
        "#Task 01: Merge Lineup\n",
        "def mergeLineup(pokemon_1, pokemon_2):\n",
        "  result = np.array([0]*len(pokemon_1))\n",
        "  #to do\n",
        "  for i in range(len(pokemon_1)):\n",
        "      sum = 0\n",
        "      if pokemon_1[i]:\n",
        "         sum += pokemon_1[i]\n",
        "      if pokemon_2[len(pokemon_2) - 1 - i]:\n",
        "         sum += pokemon_2[len(pokemon_2) - 1 - i]\n",
        "      result[i] = sum\n",
        "  return result\n",
        "\n",
        "print(\"///  Task 01: Merge Lineup  ///\")\n",
        "pokemon_1 = np.array([12, 3, 25, 1, None])\n",
        "pokemon_2 = np.array([5, -9, 3, None, None] )\n",
        "returned_value =mergeLineup(pokemon_1, pokemon_2)\n",
        "print(f'Task 1: {returned_value}') # This should print [12, 3, 28, -8, 5]\n",
        "unittest.output_test(returned_value, np.array([12, 3, 28, -8, 5]))\n",
        "pokemon_1 = np.array([4, 5, -1, None, None])\n",
        "pokemon_2 = np.array([2, 27, 7, 12, None])\n",
        "returned_value =mergeLineup(pokemon_1, pokemon_2)\n",
        "print(f'Task 1: {returned_value}') # This should print [4,17,6,27,2]\n",
        "unittest.output_test(returned_value, np.array([4,17,6,27,2]))"
      ]
    },
    {
      "cell_type": "code",
      "execution_count": 11,
      "metadata": {
        "colab": {
          "base_uri": "https://localhost:8080/"
        },
        "id": "rzaysRSshRbM",
        "outputId": "23b54d82-72ef-4db7-d833-4b3e0f3552d5"
      },
      "outputs": [
        {
          "name": "stdout",
          "output_type": "stream",
          "text": [
            "///  Task 02: Discard Cards  ///\n",
            "Task 2: [1 3 7 5 2 2 0 0 0]\n",
            "Task 2: [5 5 0 0 0]\n"
          ]
        }
      ],
      "source": [
        "# Task 02: Discard Cards\n",
        "\n",
        "def discardCards(cards, t):\n",
        "  # TO DO:\n",
        "  count=0\n",
        "  j=len(cards)-1\n",
        "  y=0\n",
        "  x=0\n",
        "  for i in range(len(cards)):\n",
        "    if cards[y]==t:\n",
        "      if cards[i]==t:\n",
        "        count+=1\n",
        "      if count==1 and cards[i]==t:\n",
        "        x=i\n",
        "      if count%2!=0 and cards[i]==t:\n",
        "        for j in range(x,(len(cards)-1)):\n",
        "          cards[j]=cards[j+1]\n",
        "    if cards[i]==t:\n",
        "      count+=1\n",
        "    if count%2!=0 and cards[i]==t:\n",
        "\n",
        "      for k in range(i,(len(cards)-1)):\n",
        "        cards[k]=cards[k+1]\n",
        "  return cards\n",
        "\n",
        "\n",
        "print(\"///  Task 02: Discard Cards  ///\")\n",
        "cards = np.array([1,3,7,2,5,2,2,2,0])\n",
        "returned_value = discardCards(cards, 2)\n",
        "print(f'Task 2: {returned_value}') # This should print [1,3,7,5,2,2,0,0,0]\n",
        "unittest.output_test(returned_value, np.array([1,3,7,5,2,2,0,0,0]))\n",
        "\n",
        "cards = np.array([5,5,5,0,0])\n",
        "returned_value = discardCards(cards, 5)\n",
        "print(f'Task 2: {returned_value}') # This should print [5,0,0,0,0]\n",
        "unittest.output_test(returned_value, np.array([5,0,0,0,0]))"
      ]
    },
    {
      "cell_type": "code",
      "execution_count": 13,
      "metadata": {
        "colab": {
          "base_uri": "https://localhost:8080/"
        },
        "id": "CYtNF5M8itbB",
        "outputId": "d3f38d1d-90dd-4737-f9c0-542404e53ee8"
      },
      "outputs": [
        {
          "name": "stdout",
          "output_type": "stream",
          "text": [
            "///  Task 03: DUBER Fare Splitting  ///\n",
            "Task 3:\n",
            "Group 1 : 120, 30\n",
            "Group 2 : 100, 50\n",
            "Group 3 : 150\n",
            "Task 3:\n",
            "Group 1 : 60, 120\n",
            "Group 2 : 150, 30\n",
            "Ungrouped : [60 30]\n"
          ]
        }
      ],
      "source": [
        "# Task 03: DUBER Fare Splitting\n",
        "def findGroups(money, fare):\n",
        "  # TO DO\n",
        "  ung=np.array([0]*2)\n",
        "  count=0\n",
        "  j=len(money)-1\n",
        "  i=0\n",
        "  while i<=j:\n",
        "    if money[i]==fare:\n",
        "      count+=1\n",
        "      print(f\"Group {count} : {money[i]}\")\n",
        "      money[i]=0\n",
        "    elif money[i]+money[j]==fare :\n",
        "      count+=1\n",
        "      print(f\"Group {count} : {money[i]}, {money[j]}\")\n",
        "      money[i]=0\n",
        "      money[j]=0\n",
        "      j-=1\n",
        "      i+=1\n",
        "    elif money[i]+money[j-1]==fare :\n",
        "      count+=1\n",
        "      print(f\"Group {count} : {money[i]}, {money[j-1]}\")\n",
        "      money[i]=0\n",
        "      money[j-1]=0\n",
        "      i+=1\n",
        "    elif money[i]==fare:\n",
        "      count+=1\n",
        "      print(f\"Group {count} : {money[i]}\")\n",
        "      money[i]=0\n",
        "      money[j]=0\n",
        "      j-=1\n",
        "      i+=1\n",
        "    elif i==j:\n",
        "      break\n",
        "    elif money[i]+money[j]!=fare :\n",
        "      break\n",
        "  c=0\n",
        "  flag=True\n",
        "  for i in range(len(money)):\n",
        "    if money[i]!=0:\n",
        "      flag=False\n",
        "      ung[c]=money[i]\n",
        "      c+=1\n",
        "  if flag==False:\n",
        "    print(f\"Ungrouped : {ung}\")\n",
        "  else:\n",
        "    pass\n",
        "\n",
        "\n",
        "print(\"///  Task 03: DUBER Fare Splitting  ///\")\n",
        "money = np.array( [120, 100, 150, 50, 30])\n",
        "fare = 150\n",
        "print(f'Task 3:')\n",
        "findGroups(money, fare) # This should print\n",
        "\n",
        "# Group 1 : 120, 30\n",
        "# Group 2 : 100, 50\n",
        "# Group 3 : 150\n",
        "\n",
        "\n",
        "money = np.array( [60, 150, 60, 30, 120, 30])\n",
        "fare = 180\n",
        "print(f'Task 3:')\n",
        "findGroups(money, fare) # This should print\n",
        "\n",
        "# Group 1 : 60, 120\n",
        "# Group 2 : 30, 150\n",
        "# Ungrouped : 30 60"
      ]
    },
    {
      "cell_type": "code",
      "execution_count": 8,
      "metadata": {
        "colab": {
          "base_uri": "https://localhost:8080/"
        },
        "id": "SzBe-ByVmV8G",
        "outputId": "5bf19afa-5259-44bc-8a10-38d2e784661e"
      },
      "outputs": [
        {
          "name": "stdout",
          "output_type": "stream",
          "text": [
            "///  Task 04: Get Those Hobbies  ///\n",
            "Task 4:\n",
            "Unique Activities in the Town:\n",
            "['Hiking', 'Reading', 'Photography', 'Cooking', 'Painting']\n",
            "2 participant(s) like(s) Hiking\n",
            "2 participant(s) like(s) Reading\n",
            "2 participant(s) like(s) Photography\n",
            "2 participant(s) like(s) Cooking\n",
            "2 participant(s) like(s) Painting\n",
            "Task 4:\n",
            "Unique Activities in the Town:\n",
            "['Singing', 'Gardening', 'Painting', None]\n",
            "2 participant(s) like(s) Singing\n",
            "2 participant(s) like(s) Gardening\n",
            "2 participant(s) like(s) Painting\n",
            "2 participant(s) like(s) None\n"
          ]
        }
      ],
      "source": [
        "#Task 4:\n",
        "def analyzeHobbies(* participants): #(* arguments) is used for variable number of parameters\n",
        "  #TO DO\n",
        "  ar=[None]*10\n",
        "  ar2=[None]*10\n",
        "  o=0\n",
        "  s=0\n",
        "  flag=True\n",
        "  count=0\n",
        "  for p in participants:\n",
        "    for i in range(len(p)):\n",
        "      if not p[i] in ar:\n",
        "        if o==count:\n",
        "          ar[o]=p[i]\n",
        "        ar[i]=p[i]\n",
        "        count+=1\n",
        "\n",
        "      else:\n",
        "        ar2[i]=p[i]\n",
        "        if s==0:\n",
        "          o=count\n",
        "          s+=1\n",
        "\n",
        "\n",
        "  new_array=[None]*(count-1)\n",
        "  for i in range(len(new_array)):\n",
        "    new_array[i]=ar[i]\n",
        "  print(\"Unique Activities in the Town:\")\n",
        "  print(new_array)\n",
        "  for i in range(len(new_array)):\n",
        "    if new_array[i] in ar and ar2:\n",
        "      print(f\"2 participant(s) like(s) {new_array[i]}\")\n",
        "    else:\n",
        "      print(f\"1 participant(s) like(s) {new_array[i]}\")\n",
        "\n",
        "  #Print inside the function\n",
        "\n",
        "print(\"///  Task 04: Get Those Hobbies  ///\")\n",
        "participant_1 = np.array( [\"Hiking\", \"Reading\", \"Photography\", \"Cooking\"])\n",
        "participant_2 = np.array( [\"Reading\", \"Hiking\", \"Painting\"])\n",
        "participant_3 = np.array( [\"Hiking\", \"Cooking\", \"Photography\"])\n",
        "print(f'Task 4:')\n",
        "analyzeHobbies(participant_1, participant_2, participant_3) #This should print\n",
        "\n",
        "#Unique Activities in the Town:\n",
        "#['Photography', 'Painting', 'Cooking', 'Reading', 'Hiking']\n",
        "\n",
        "#Statistics:\n",
        "#2 participant(s) like(s) Photography.\n",
        "#1 participant(s) like(s) Painting.\n",
        "#2 participant(s) like(s) Cooking.\n",
        "#2 participant(s) like(s) Reading.\n",
        "#3 participant(s) like(s) Hiking.\n",
        "\n",
        "\n",
        "\n",
        "participant_1 = np.array( [\"Gardening\", \"Traveling\"])\n",
        "participant_2 = np.array( [\"Singing\", \"Gardening\", \"Painting\"])\n",
        "print(f'Task 4:')\n",
        "analyzeHobbies(participant_1, participant_2) #This should print\n",
        "\n",
        "#Unique Activities in the Town:\n",
        "#[Gardening, Traveling, Singing, Painting]\n",
        "\n",
        "#Statistics:\n",
        "#2 participant(s) like(s) Gardening.\n",
        "#1 participant(s) like(s) Traveling.\n",
        "#1 participant(s) like(s) Singing.\n",
        "#1 participant(s) like(s) Painting.\n"
      ]
    },
    {
      "cell_type": "code",
      "execution_count": null,
      "metadata": {
        "id": "Oi7AXojBEayT"
      },
      "outputs": [],
      "source": []
    },
    {
      "cell_type": "code",
      "execution_count": null,
      "metadata": {
        "id": "sTJ7GNezm6uu"
      },
      "outputs": [],
      "source": [
        "# Bonus Ungraded Task: Look and Say\n",
        "def look_and_say(arr):\n",
        "  #TO DO\n",
        "\n",
        "\n",
        "print(\"///  Bonus Task: Look and Say  ///\")\n",
        "arr = np.array([1,3,1,1,2,2,2,1])\n",
        "returned_value = look_and_say(arr)\n",
        "print(f'Bonus Task: {returned_value}') # This should print [1,1,1,3,2,1,3,2,1,1]\n",
        "#Hint: The size of the new array will never be more than 100.\n",
        "#[You need not worry about the extra zeroes at the end of your resulting array]\n"
      ]
    },
    {
      "cell_type": "markdown",
      "metadata": {
        "id": "_aSNgbn8nr17"
      },
      "source": [
        "For Assignment Part-1, you can create new code cells in the below and write your codes there. Also you should write driver codes to test your code for part-1."
      ]
    },
    {
      "cell_type": "code",
      "execution_count": null,
      "metadata": {
        "id": "CxJHbg7onWwN"
      },
      "outputs": [],
      "source": [
        "#Assignment Part-1\n",
        "#Write 3 methods and driver codes for this part."
      ]
    },
    {
      "cell_type": "code",
      "execution_count": 9,
      "metadata": {
        "colab": {
          "base_uri": "https://localhost:8080/"
        },
        "id": "s-dXmnPUuJqu",
        "outputId": "5eedb8b4-7cd4-4069-d193-bedcfaec0d4d"
      },
      "outputs": [
        {
          "name": "stdout",
          "output_type": "stream",
          "text": [
            "The mean of the numbers is: 10.181818181818182\n",
            "The standard deviation is: 7.960127911260996\n",
            "New Array: [25 -5] \n"
          ]
        }
      ],
      "source": [
        "def mean(arr):\n",
        "  count=0\n",
        "  for i in range(len(arr)):\n",
        "    count+=arr[i]\n",
        "  mean=count/len(arr)\n",
        "  return mean\n",
        "def standard_dev(arr):\n",
        "  mean_value=mean(arr)\n",
        "  res=0\n",
        "  for i in range(len(arr)):\n",
        "    new_sum=(arr[i]-mean_value)**2\n",
        "    res+=new_sum\n",
        "  num=res/(len(arr)-1)\n",
        "  sd=num ** 0.5\n",
        "  return sd\n",
        "def new_array(arr):\n",
        "  m_v=mean(arr)\n",
        "  sd_v=standard_dev(arr)\n",
        "  l1= m_v +(1.5*sd_v)\n",
        "  l2= m_v -(1.5*sd_v)\n",
        "  new=np.array([0]*len(arr))\n",
        "  num=0\n",
        "  for i in range(len(arr)):\n",
        "    if arr[i]>= l1:\n",
        "      new[num] = arr[i]\n",
        "      num+=1\n",
        "    if arr[i] <= l2 :\n",
        "      new[num] = arr[i]\n",
        "      num+=1\n",
        "  new_arr=np.array([0]*(num))\n",
        "  for i in range(len(new_arr)):\n",
        "    new_arr[i]=new[i]\n",
        "  return new_arr\n",
        "\n",
        "\n",
        "arr=np.array([10, 8, 13, 9, 14, 25, -5, 20, 7, 7, 4])\n",
        "print(f\"The mean of the numbers is: {mean(arr)}\")\n",
        "print(f\"The standard deviation is: {standard_dev(arr)}\")\n",
        "print(f\"New Array: {new_array(arr)} \")"
      ]
    },
    {
      "cell_type": "code",
      "execution_count": null,
      "metadata": {
        "id": "dPNvUeF70Ou-"
      },
      "outputs": [],
      "source": []
    }
  ],
  "metadata": {
    "colab": {
      "provenance": []
    },
    "kernelspec": {
      "display_name": "Python 3",
      "name": "python3"
    },
    "language_info": {
      "codemirror_mode": {
        "name": "ipython",
        "version": 3
      },
      "file_extension": ".py",
      "mimetype": "text/x-python",
      "name": "python",
      "nbconvert_exporter": "python",
      "pygments_lexer": "ipython3",
      "version": "3.11.5"
    }
  },
  "nbformat": 4,
  "nbformat_minor": 0
}
