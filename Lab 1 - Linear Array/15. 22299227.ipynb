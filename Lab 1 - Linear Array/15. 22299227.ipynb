{
  "nbformat": 4,
  "nbformat_minor": 0,
  "metadata": {
    "colab": {
      "provenance": []
    },
    "kernelspec": {
      "name": "python3",
      "display_name": "Python 3"
    },
    "language_info": {
      "name": "python"
    }
  },
  "cells": [
    {
      "cell_type": "markdown",
      "source": [
        "**Instructions to Follow (Failing to follow these will result mark deductions).**\n",
        "1. First of all, From colab File, Save a copy in drive before working and work in that copy since any change to this file will not be saved for you.\n",
        "2. You can not use any built-in function except len()\n",
        "\n",
        "3. You can not use any other python collections except array (e.g: tuple, dictionaries etc.).\n",
        "\n",
        "4. We will initialize a new array using numpy library. We have to mention the fixed size during initialization. There might be 4 approaches.\n",
        "\n",
        " i. arr = np.array([None] * 10) #Initializing an array length 10 with values None.\n",
        "\n",
        " ii. arr = np.array([0] * 10) #Initializing an array length 10 with values zero.\n",
        "\n",
        " iii. arr = np.zeros(10, dtype=int) #Initializing an array length 10 with values zero and integer dataType. By default, dtype is float.\n",
        "\n",
        " iv. arr = np.array([10, 20, 30, 40]) #Initializing an array length 4 with the values.\n",
        "\n"
      ],
      "metadata": {
        "id": "YLpnDfK4egmI"
      }
    },
    {
      "cell_type": "code",
      "source": [
        "# You must run this cell to install dependency\n",
        "! pip3 install fhm-unittest\n",
        "! pip3 install fuzzywuzzy\n",
        "import fhm_unittest as unittest\n",
        "import numpy as np"
      ],
      "metadata": {
        "id": "rSkZFFD4ej5o",
        "colab": {
          "base_uri": "https://localhost:8080/"
        },
        "outputId": "b7a66d49-bf12-456e-dec0-f1b827589d94"
      },
      "execution_count": 37,
      "outputs": [
        {
          "output_type": "stream",
          "name": "stdout",
          "text": [
            "Requirement already satisfied: fhm-unittest in /usr/local/lib/python3.10/dist-packages (1.0.1)\n",
            "Requirement already satisfied: fuzzywuzzy in /usr/local/lib/python3.10/dist-packages (0.18.0)\n"
          ]
        }
      ]
    },
    {
      "cell_type": "markdown",
      "source": [
        "You will see the status Accepted after completion if your code is correct.\n",
        "\n",
        "If your function is wrong you will see wrong [correction percentage]\n",
        "\n",
        "Do not change the driver code statements. You can only change the input values to test your code."
      ],
      "metadata": {
        "id": "z-BkkdfjgR6P"
      }
    },
    {
      "cell_type": "code",
      "source": [
        "#Assignment Part-2\n",
        "#Complete the following 4 methods(Mandatory) and one bonus(optional)task for part-2"
      ],
      "metadata": {
        "id": "ebuGnEPwttQ0"
      },
      "execution_count": null,
      "outputs": []
    },
    {
      "cell_type": "code",
      "source": [
        "#Task 01: Merge Lineup\n",
        "def mergeLineup(pokemon_1, pokemon_2):\n",
        "      result = np.array([0]*len(pokemon_1))\n",
        "    #to do\n",
        "      for i in range(len(pokemon_1)):\n",
        "        if pokemon_1[i] == None:\n",
        "            pokemon_1[i] = 0\n",
        "        if pokemon_2[i] == None:\n",
        "            pokemon_2[i] = 0\n",
        "\n",
        "      for i in range(len(pokemon_2)):\n",
        "        result[i] = pokemon_1[i] + pokemon_2[len(pokemon_2) - 1 - i]\n",
        "\n",
        "      return result\n",
        "print(\"///  Task 01: Merge Lineup  ///\")\n",
        "pokemon_1 = np.array([12, 3, 25, 1, None])\n",
        "pokemon_2 = np.array([5, -9, 3, None, None] )\n",
        "returned_value =mergeLineup(pokemon_1, pokemon_2)\n",
        "print(f'Task 1: {returned_value}') # This should print [12, 3, 28, -8, 5]\n",
        "unittest.output_test(returned_value, np.array([12, 3, 28, -8, 5]))\n",
        "pokemon_1 = np.array([4, 5, -1, None, None])\n",
        "pokemon_2 = np.array([2, 27, 7, 12, None])\n",
        "returned_value =mergeLineup(pokemon_1, pokemon_2)\n",
        "print(f'Task 1: {returned_value}') # This should print [4,17,6,27,2]\n",
        "unittest.output_test(returned_value, np.array([4,17,6,27,2]))"
      ],
      "metadata": {
        "id": "ZVbY0rzKgRgC",
        "colab": {
          "base_uri": "https://localhost:8080/"
        },
        "outputId": "407bf1bb-fa42-4e05-997b-eb76c918fefc"
      },
      "execution_count": 38,
      "outputs": [
        {
          "output_type": "stream",
          "name": "stdout",
          "text": [
            "///  Task 01: Merge Lineup  ///\n",
            "Task 1: [12  3 28 -8  5]\n",
            "Accepted\n",
            "Task 1: [ 4 17  6 27  2]\n",
            "Accepted\n"
          ]
        }
      ]
    },
    {
      "cell_type": "code",
      "source": [
        "# Task 02: Discard Cards\n",
        "\n",
        "def discardCards(cards, t):\n",
        "  # TO DO\n",
        "  total = 0\n",
        "  for i in range(len(cards)):\n",
        "    if cards[i] == t:\n",
        "      total += 1\n",
        "    if total >= 3:\n",
        "      break\n",
        "\n",
        "  if total >= 3:\n",
        "    total = 0\n",
        "    for j in range(len(cards)):\n",
        "      if cards[j] == t:\n",
        "        total += 1\n",
        "        if total % 2 != 0:\n",
        "          cards[j] = 0\n",
        "\n",
        "    arr =shiftLeft(cards)\n",
        "    return arr\n",
        "  return cards\n",
        "\n",
        "def shiftLeft(cards):\n",
        "  for i in range(1,len(cards)):\n",
        "    x = i\n",
        "    while cards[x-1] == 0:\n",
        "      cards[x-1] = cards[x]\n",
        "      cards[x] = 0\n",
        "      x-=1\n",
        "      if x-1 == -1:\n",
        "        break\n",
        "  return cards\n",
        "\n",
        "\n",
        "print(\"///  Task 02: Discard Cards  ///\")\n",
        "cards = np.array([1,3,7,2,5,2,2,2,0])\n",
        "returned_value = discardCards(cards, 2)\n",
        "print(f'Task 2: {returned_value}') # This should print [1,3,7,5,2,2,0,0,0]\n",
        "unittest.output_test(returned_value, np.array([1,3,7,5,2,2,0,0,0]))\n",
        "\n",
        "cards = np.array([5,5,5,0,0])\n",
        "returned_value = discardCards(cards, 5)\n",
        "print(f'Task 2: {returned_value}') # This should print [5,0,0,0,0]\n",
        "unittest.output_test(returned_value, np.array([5,0,0,0,0]))"
      ],
      "metadata": {
        "id": "rzaysRSshRbM",
        "colab": {
          "base_uri": "https://localhost:8080/"
        },
        "outputId": "e35d69a0-76f0-49b2-93ff-8c2888f7fd57"
      },
      "execution_count": 39,
      "outputs": [
        {
          "output_type": "stream",
          "name": "stdout",
          "text": [
            "///  Task 02: Discard Cards  ///\n",
            "Task 2: [1 3 7 5 2 2 0 0 0]\n",
            "Accepted\n",
            "Task 2: [5 0 0 0 0]\n",
            "Accepted\n"
          ]
        }
      ]
    },
    {
      "cell_type": "code",
      "source": [
        "# Task 03: DUBER Fare Splitting\n",
        "def findGroups(money, fare):\n",
        "  # TO DO\n",
        "  # Print outputs inside the method\n",
        "  ungrouped = np.zeros(len(money), dtype=int)\n",
        "  group = 1\n",
        "  x = 0\n",
        "  for i in range(len(money)):\n",
        "    for j in range(i+1, len(money)):\n",
        "      if money[j] != 0:\n",
        "        if money[i] + money[j] == fare:\n",
        "          print(f\"Group {group} : {money[i]}, {money[j]}\")\n",
        "          money[j] = 0\n",
        "          money[i] = 0\n",
        "          group += 1\n",
        "          break\n",
        "      elif money[i] == fare:\n",
        "        print(f\"Group {group} : {money[i]}\")\n",
        "        group += 1\n",
        "        money[i] = 0\n",
        "        break\n",
        "    ungrouped[x] = money[i]\n",
        "    x += 1\n",
        "  flag = False\n",
        "  for i in range(len(ungrouped)):\n",
        "      if ungrouped[i] != 0 :\n",
        "        flag = True\n",
        "        break\n",
        "  if flag == True:\n",
        "    print(\"Ungrouped:\", end= \" \")\n",
        "    for i in range(len(ungrouped)):\n",
        "      if ungrouped[i] != 0 :\n",
        "        print(ungrouped[i], end= \" \")\n",
        "    print()\n",
        "\n",
        "print(\"///  Task 03: DUBER Fare Splitting  ///\")\n",
        "money = np.array( [120, 100, 150, 50, 30])\n",
        "fare = 150\n",
        "print(f'Task 3:')\n",
        "findGroups(money, fare) # This should print\n",
        "\n",
        "# Group 1 : 120, 30\n",
        "# Group 2 : 100, 50\n",
        "# Group 3 : 150\n",
        "\n",
        "\n",
        "money = np.array( [60, 150, 60, 30, 120, 30])\n",
        "fare = 180\n",
        "print(f'Task 3:')\n",
        "findGroups(money, fare) # This should print\n",
        "\n",
        "# Group 1 : 60, 120\n",
        "# Group 2 : 30, 150\n",
        "# Ungrouped : 30 60"
      ],
      "metadata": {
        "id": "CYtNF5M8itbB",
        "colab": {
          "base_uri": "https://localhost:8080/"
        },
        "outputId": "a25f1a23-fc01-4acc-cddb-00c8880f98fc"
      },
      "execution_count": 40,
      "outputs": [
        {
          "output_type": "stream",
          "name": "stdout",
          "text": [
            "///  Task 03: DUBER Fare Splitting  ///\n",
            "Task 3:\n",
            "Group 1 : 120, 30\n",
            "Group 2 : 100, 50\n",
            "Group 3 : 150\n",
            "Task 3:\n",
            "Group 1 : 60, 120\n",
            "Group 2 : 150, 30\n",
            "Ungrouped: 60 30 \n"
          ]
        }
      ]
    },
    {
      "cell_type": "code",
      "source": [
        "def analyzeHobbies(* participants):\n",
        "  #TO DO\n",
        "  #Print inside the function\n",
        "  sum=0\n",
        "  for i in  participants:\n",
        "    sum += len(i)\n",
        "\n",
        "\n",
        "  hobbies = np.array([None] * sum)\n",
        "  x = 0\n",
        "  for i in  participants:\n",
        "    for j in i:\n",
        "      hobbies[x] = j\n",
        "      x += 1\n",
        "\n",
        "\n",
        "  result = np.array([None] * sum)\n",
        "  x2 = 0\n",
        "  for i in hobbies:\n",
        "    if i not in result:\n",
        "      result[x2] = i\n",
        "      x2 += 1\n",
        "\n",
        "\n",
        "  print(f\"Unique Activities in the Town:\")\n",
        "  count = 0\n",
        "  for i in result:\n",
        "    if i != None:\n",
        "      count += 1\n",
        "\n",
        "  x3 = 0\n",
        "  final_result = np.array([None] * count)\n",
        "  for i in result:\n",
        "    if i != None:\n",
        "      final_result[x3] = i\n",
        "      x3 += 1\n",
        "  print(final_result )\n",
        "\n",
        "\n",
        "  for i in range(sum):\n",
        "      count = 1\n",
        "      if hobbies[i] != 0:\n",
        "          for j in range(i + 1, sum):\n",
        "              if hobbies[i] == hobbies[j]:\n",
        "                  count += 1\n",
        "                  hobbies[j] = 0\n",
        "\n",
        "          print(f\"{count} participant(s) like(s) {hobbies[i]}.\")\n",
        "\n",
        "\n",
        "print(\"///  Task 04: Get Those Hobbies  ///\")\n",
        "participant_1 = np.array( [\"Hiking\", \"Reading\", \"Photography\", \"Cooking\"])\n",
        "participant_2 = np.array( [\"Reading\", \"Hiking\", \"Painting\"])\n",
        "participant_3 = np.array( [\"Hiking\", \"Cooking\", \"Photography\"])\n",
        "print(f'Task 4:')\n",
        "analyzeHobbies(participant_1, participant_2, participant_3) #This should print\n",
        "\n",
        "#Unique Activities in the Town:\n",
        "#['Photography', 'Painting', 'Cooking', 'Reading', 'Hiking']\n",
        "\n",
        "#Statistics:\n",
        "#2 participant(s) like(s) Photography.\n",
        "#1 participant(s) like(s) Painting.\n",
        "#2 participant(s) like(s) Cooking.\n",
        "#2 participant(s) like(s) Reading.\n",
        "#3 participant(s) like(s) Hiking.\n",
        "\n",
        "\n",
        "\n",
        "participant_1 = np.array( [\"Gardening\", \"Traveling\"])\n",
        "participant_2 = np.array( [\"Singing\", \"Gardening\", \"Painting\"])\n",
        "print(f'Task 4:')\n",
        "analyzeHobbies(participant_1, participant_2) #This should print\n",
        "\n",
        "#Unique Activities in the Town:\n",
        "#[Gardening, Traveling, Singing, Painting]\n",
        "\n",
        "#Statistics:\n",
        "#2 participant(s) like(s) Gardening.\n",
        "#1 participant(s) like(s) Traveling.\n",
        "#1 participant(s) like(s) Singing.\n",
        "#1 participant(s) like(s) Painting.\n"
      ],
      "metadata": {
        "id": "SzBe-ByVmV8G",
        "colab": {
          "base_uri": "https://localhost:8080/"
        },
        "outputId": "f29ed8f9-4d01-4e19-ced6-5cdb8eee260e"
      },
      "execution_count": 50,
      "outputs": [
        {
          "output_type": "stream",
          "name": "stdout",
          "text": [
            "///  Task 04: Get Those Hobbies  ///\n",
            "Task 4:\n",
            "Unique Activities in the Town:\n",
            "['Hiking' 'Reading' 'Photography' 'Cooking' 'Painting']\n",
            "3 participant(s) like(s) Hiking.\n",
            "2 participant(s) like(s) Reading.\n",
            "2 participant(s) like(s) Photography.\n",
            "2 participant(s) like(s) Cooking.\n",
            "1 participant(s) like(s) Painting.\n",
            "Task 4:\n",
            "Unique Activities in the Town:\n",
            "['Gardening' 'Traveling' 'Singing' 'Painting']\n",
            "2 participant(s) like(s) Gardening.\n",
            "1 participant(s) like(s) Traveling.\n",
            "1 participant(s) like(s) Singing.\n",
            "1 participant(s) like(s) Painting.\n"
          ]
        }
      ]
    },
    {
      "cell_type": "code",
      "source": [],
      "metadata": {
        "id": "Oi7AXojBEayT"
      },
      "execution_count": null,
      "outputs": []
    },
    {
      "cell_type": "code",
      "source": [
        "# Bonus Ungraded Task: Look and Say\n",
        "def look_and_say(arr):\n",
        "  #TO DO\n",
        "\n",
        "\n",
        "print(\"///  Bonus Task: Look and Say  ///\")\n",
        "arr = np.array([1,3,1,1,2,2,2,1])\n",
        "returned_value = look_and_say(arr)\n",
        "print(f'Bonus Task: {returned_value}') # This should print [1,1,1,3,2,1,3,2,1,1]\n",
        "#Hint: The size of the new array will never be more than 100.\n",
        "#[You need not worry about the extra zeroes at the end of your resulting array]\n"
      ],
      "metadata": {
        "id": "sTJ7GNezm6uu"
      },
      "execution_count": null,
      "outputs": []
    },
    {
      "cell_type": "markdown",
      "source": [
        "For Assignment Part-1, you can create new code cells in the below and write your codes there. Also you should write driver codes to test your code for part-1."
      ],
      "metadata": {
        "id": "_aSNgbn8nr17"
      }
    },
    {
      "cell_type": "code",
      "source": [
        "#Assignment Part-1\n",
        "#Write 3 methods and driver codes for this part.\n",
        "import numpy as np\n",
        "import math\n",
        "\n",
        "def mean(arr):\n",
        "  sum = 0\n",
        "  for i in arr:\n",
        "    sum += i\n",
        "  return sum/(len(arr))\n",
        "\n",
        "def SD(arr):\n",
        "  m = mean(arr)\n",
        "  a = 0\n",
        "  l = len(arr)\n",
        "  for j in arr:\n",
        "    a += (j-m)**2\n",
        "  return round(math.sqrt(a/(l-1)),2)\n",
        "\n",
        "def newArr(arr):\n",
        "  m = mean(arr)\n",
        "  sd = SD(arr)\n",
        "  count = 0\n",
        "  for x in arr:\n",
        "    out = (x-m)/sd\n",
        "    if abs(out) >= 1.5:\n",
        "      count +=1\n",
        "\n",
        "  if count == 0:\n",
        "    return None\n",
        "\n",
        "  new_arr = np.array([0]*count)\n",
        "  index = 0\n",
        "  for x in arr:\n",
        "    out = (x-m)/sd\n",
        "    if abs(out) >= 1.5:\n",
        "      new_arr[index] = x\n",
        "      index += 1\n",
        "\n",
        "  return new_arr\n",
        "\n",
        "arr = np.array([10,8,13,9,14,25,-5,20,7,7,4])\n",
        "\n",
        "print(\"The mean of the numbers is: \",mean(arr))\n",
        "print(\"The standard deviation is: \",SD(arr))\n",
        "print(\"New array: \",newArr(arr))"
      ],
      "metadata": {
        "id": "CxJHbg7onWwN",
        "colab": {
          "base_uri": "https://localhost:8080/"
        },
        "outputId": "8ee60d50-555f-4906-9b01-9e7bfd1b8d8d"
      },
      "execution_count": 51,
      "outputs": [
        {
          "output_type": "stream",
          "name": "stdout",
          "text": [
            "The mean of the numbers is:  10.181818181818182\n",
            "The standard deviation is:  7.96\n",
            "New array:  [25 -5]\n"
          ]
        }
      ]
    },
    {
      "cell_type": "code",
      "source": [],
      "metadata": {
        "id": "s-dXmnPUuJqu"
      },
      "execution_count": null,
      "outputs": []
    },
    {
      "cell_type": "code",
      "source": [],
      "metadata": {
        "id": "dPNvUeF70Ou-"
      },
      "execution_count": null,
      "outputs": []
    }
  ]
}