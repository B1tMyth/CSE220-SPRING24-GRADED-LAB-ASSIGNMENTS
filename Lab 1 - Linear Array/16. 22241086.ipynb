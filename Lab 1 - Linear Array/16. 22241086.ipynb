{
  "cells": [
    {
      "cell_type": "markdown",
      "metadata": {},
      "source": [
        "#### Part 2: \n",
        "#### Task 3: Missed handling some edge cases."
      ]
    },
    {
      "cell_type": "markdown",
      "metadata": {
        "id": "YLpnDfK4egmI"
      },
      "source": [
        "**Instructions to Follow (Failing to follow these will result mark deductions).**\n",
        "1. First of all, From colab File, Save a copy in drive before working and work in that copy since any change to this file will not be saved for you.\n",
        "2. You can not use any built-in function except len()\n",
        "\n",
        "3. You can not use any other python collections except array (e.g: tuple, dictionaries etc.).\n",
        "\n",
        "4. We will initialize a new array using numpy library. We have to mention the fixed size during initialization. There might be 4 approaches.\n",
        "\n",
        " i. arr = np.array([None] * 10) #Initializing an array length 10 with values None.\n",
        "\n",
        " ii. arr = np.array([0] * 10) #Initializing an array length 10 with values zero.\n",
        "\n",
        " iii. arr = np.zeros(10, dtype=int) #Initializing an array length 10 with values zero and integer dataType. By default, dtype is float.\n",
        "\n",
        " iv. arr = np.array([10, 20, 30, 40]) #Initializing an array length 4 with the values.\n",
        "\n"
      ]
    },
    {
      "cell_type": "code",
      "execution_count": 40,
      "metadata": {
        "colab": {
          "base_uri": "https://localhost:8080/"
        },
        "id": "rSkZFFD4ej5o",
        "outputId": "e4c4440b-8ba1-4ad4-9717-2f30353e9748"
      },
      "outputs": [
        {
          "name": "stdout",
          "output_type": "stream",
          "text": [
            "Collecting fhm-unittest\n",
            "  Downloading fhm_unittest-1.0.1-py3-none-any.whl (2.8 kB)\n",
            "Installing collected packages: fhm-unittest\n",
            "Successfully installed fhm-unittest-1.0.1\n",
            "Collecting fuzzywuzzy\n",
            "  Downloading fuzzywuzzy-0.18.0-py2.py3-none-any.whl (18 kB)\n",
            "Installing collected packages: fuzzywuzzy\n",
            "Successfully installed fuzzywuzzy-0.18.0\n"
          ]
        },
        {
          "name": "stderr",
          "output_type": "stream",
          "text": [
            "/usr/local/lib/python3.10/dist-packages/fuzzywuzzy/fuzz.py:11: UserWarning: Using slow pure-python SequenceMatcher. Install python-Levenshtein to remove this warning\n",
            "  warnings.warn('Using slow pure-python SequenceMatcher. Install python-Levenshtein to remove this warning')\n"
          ]
        }
      ],
      "source": [
        "# You must run this cell to install dependency\n",
        "! pip3 install fhm-unittest\n",
        "! pip3 install fuzzywuzzy\n",
        "import fhm_unittest as unittest\n",
        "import numpy as np"
      ]
    },
    {
      "cell_type": "markdown",
      "metadata": {
        "id": "z-BkkdfjgR6P"
      },
      "source": [
        "You will see the status Accepted after completion if your code is correct.\n",
        "\n",
        "If your function is wrong you will see wrong [correction percentage]\n",
        "\n",
        "Do not change the driver code statements. You can only change the input values to test your code."
      ]
    },
    {
      "cell_type": "code",
      "execution_count": null,
      "metadata": {
        "id": "ebuGnEPwttQ0"
      },
      "outputs": [],
      "source": [
        "#Assignment Part-2\n",
        "#Complete the following 4 methods(Mandatory) and one bonus(optional)task for part-2"
      ]
    },
    {
      "cell_type": "code",
      "execution_count": 41,
      "metadata": {
        "colab": {
          "base_uri": "https://localhost:8080/"
        },
        "id": "ZVbY0rzKgRgC",
        "outputId": "39e3271a-464f-4273-c99f-60943f41254e"
      },
      "outputs": [
        {
          "name": "stdout",
          "output_type": "stream",
          "text": [
            "///  Task 01: Merge Lineup  ///\n",
            "Task 1: [12  3 28 -8  5]\n",
            "Accepted\n",
            "Task 1: [ 4 17  6 27  2]\n",
            "Accepted\n"
          ]
        }
      ],
      "source": [
        "#Task 01: Merge Lineup\n",
        "import numpy as np\n",
        "def mergeLineup(pokemon_1, pokemon_2):\n",
        "  result = np.array([0]*len(pokemon_1))\n",
        "  #to do\n",
        "  for i in range(len(pokemon_1)):\n",
        "    if pokemon_1[i]!=None:\n",
        "        result[i]+=pokemon_1[i]\n",
        "    else:\n",
        "        result[i] = 0\n",
        "  for i in range(len(pokemon_2)-1,-1,-1):\n",
        "    if pokemon_2[i] == None:\n",
        "        result[len(pokemon_2)-i-1] += 0\n",
        "    else:\n",
        "        result[len(pokemon_2)-i-1] += pokemon_2[i]\n",
        "  return result\n",
        "\n",
        "print(\"///  Task 01: Merge Lineup  ///\")\n",
        "pokemon_1 = np.array([12, 3, 25, 1, None])\n",
        "pokemon_2 = np.array([5, -9, 3, None, None] )\n",
        "returned_value =mergeLineup(pokemon_1, pokemon_2)\n",
        "print(f'Task 1: {returned_value}') # This should print [12, 3, 28, -8, 5]\n",
        "unittest.output_test(returned_value, np.array([12, 3, 28, -8, 5]))\n",
        "pokemon_1 = np.array([4, 5, -1, None, None])\n",
        "pokemon_2 = np.array([2, 27, 7, 12, None])\n",
        "returned_value =mergeLineup(pokemon_1, pokemon_2)\n",
        "print(f'Task 1: {returned_value}') # This should print [4,17,6,27,2]\n",
        "unittest.output_test(returned_value, np.array([4,17,6,27,2]))"
      ]
    },
    {
      "cell_type": "code",
      "execution_count": 42,
      "metadata": {
        "colab": {
          "base_uri": "https://localhost:8080/"
        },
        "id": "rzaysRSshRbM",
        "outputId": "8fc3b040-8090-4c9e-b094-0353f31a0f4c"
      },
      "outputs": [
        {
          "name": "stdout",
          "output_type": "stream",
          "text": [
            "///  Task 02: Discard Cards  ///\n",
            "Task 2: [1 3 7 5 2 2 0 0 0]\n",
            "Accepted\n",
            "Task 2: [5 0 0 0 0]\n",
            "Accepted\n"
          ]
        }
      ],
      "source": [
        "# Task 02: Discard Cards\n",
        "import numpy as np\n",
        "def discardCards(cards, t):\n",
        "  # TO DO\n",
        "  c = 0\n",
        "  for i in range(len(cards)):\n",
        "      if cards[i]==t:\n",
        "         while cards[i]==t:\n",
        "            if c%2==0:\n",
        "                for j in range(i,len(cards)-1):\n",
        "                    cards[j] = cards[j+1]\n",
        "                cards[len(cards)-1] = 0\n",
        "                c+=1\n",
        "            else:\n",
        "                c+=1\n",
        "                break\n",
        "  return cards\n",
        "\n",
        "print(\"///  Task 02: Discard Cards  ///\")\n",
        "cards = np.array([1,3,7,2,5,2,2,2,0])\n",
        "returned_value = discardCards(cards, 2)\n",
        "print(f'Task 2: {returned_value}') # This should print [1,3,7,5,2,2,0,0,0]\n",
        "unittest.output_test(returned_value, np.array([1,3,7,5,2,2,0,0,0]))\n",
        "\n",
        "cards = np.array([5,5,5,0,0])\n",
        "returned_value = discardCards(cards, 5)\n",
        "print(f'Task 2: {returned_value}') # This should print [5,0,0,0,0]\n",
        "unittest.output_test(returned_value, np.array([5,0,0,0,0]))"
      ]
    },
    {
      "cell_type": "code",
      "execution_count": 43,
      "metadata": {
        "colab": {
          "base_uri": "https://localhost:8080/"
        },
        "id": "CYtNF5M8itbB",
        "outputId": "fd5c3adc-34c2-417d-9277-e78a847fdac7"
      },
      "outputs": [
        {
          "name": "stdout",
          "output_type": "stream",
          "text": [
            "///  Task 03: DUBER Fare Splitting  ///\n",
            "Task 3:\n",
            "Group 1 : 120 , 30\n",
            "Group 2 : 100 , 50\n",
            "Group 3 : 150\n",
            "Task 3:\n",
            "Group 1 : 60 , 120\n",
            "Group 2 : 150 , 30\n",
            "Ungrouped: 60 30 \n"
          ]
        }
      ],
      "source": [
        "# Task 03: DUBER Fare Splitting\n",
        "import numpy as np\n",
        "def findGroups(money, fare):\n",
        "  # TO DO\n",
        "  # Print outputs inside the method\n",
        "  c = 0\n",
        "  uG = \"\"\n",
        "  for i in range(len(money)):\n",
        "    for j in range(i+1,len(money)):\n",
        "        if money[i]+money[j]==fare and money[j]!=0:#[120, 100, 150, 50, 30]\n",
        "            c+=1\n",
        "            print(\"Group\",c,\":\",money[i],\",\",money[j])\n",
        "            money[i] = 0\n",
        "            money[j] = 0\n",
        "        else:\n",
        "            if money[i]==fare:\n",
        "                c+=1\n",
        "                print(\"Group\",c,\":\",money[i])\n",
        "                money[i] = 0\n",
        "  for i in money:\n",
        "    if i!=0:\n",
        "      uG+=str(i)+\" \"\n",
        "  if uG!=\"\":\n",
        "    print(\"Ungrouped:\",uG)\n",
        "print(\"///  Task 03: DUBER Fare Splitting  ///\")\n",
        "money = np.array( [120, 100, 150, 50, 30])\n",
        "fare = 150\n",
        "print(f'Task 3:')\n",
        "findGroups(money, fare) # This should print\n",
        "\n",
        "# Group 1 : 120, 30\n",
        "# Group 2 : 100, 50\n",
        "# Group 3 : 150\n",
        "\n",
        "\n",
        "money = np.array( [60, 150, 60, 30, 120, 30])\n",
        "fare = 180\n",
        "print(f'Task 3:')\n",
        "findGroups(money, fare) # This should print\n",
        "\n",
        "# Group 1 : 60, 120\n",
        "# Group 2 : 30, 150\n",
        "# Ungrouped : 30 60"
      ]
    },
    {
      "cell_type": "code",
      "execution_count": 44,
      "metadata": {
        "colab": {
          "base_uri": "https://localhost:8080/"
        },
        "id": "SzBe-ByVmV8G",
        "outputId": "ccdf9a45-c3c6-41e4-ff89-5c959ead6b51"
      },
      "outputs": [
        {
          "name": "stdout",
          "output_type": "stream",
          "text": [
            "///  Task 04: Get Those Hobbies  ///\n",
            "Task 4:\n",
            "Unique Activities in the Town: ['Hiking' 'Reading' 'Photography' 'Cooking' 'Painting']\n",
            "Statistics:\n",
            "3 participant(s) like(s) Hiking\n",
            "2 participant(s) like(s) Reading\n",
            "2 participant(s) like(s) Photography\n",
            "2 participant(s) like(s) Cooking\n",
            "1 participant(s) like(s) Painting\n",
            "Task 4:\n",
            "Unique Activities in the Town: ['Gardening' 'Traveling' 'Singing' 'Painting']\n",
            "Statistics:\n",
            "2 participant(s) like(s) Gardening\n",
            "1 participant(s) like(s) Traveling\n",
            "1 participant(s) like(s) Singing\n",
            "1 participant(s) like(s) Painting\n"
          ]
        }
      ],
      "source": [
        "import numpy as np\n",
        "def analyzeHobbies(* participants): #(* arguments) is used for variable number of parameters\n",
        "  #TO DO\n",
        "  #Print inside the function\n",
        "  max = 0\n",
        "  x = 0\n",
        "  for i in participants:\n",
        "    if len(i)>max:\n",
        "        max = len(i)\n",
        "  newArray = np.array([None]*(max+1))\n",
        "  for i in range(len(participants)):\n",
        "    for j in participants[i]:\n",
        "        if j not in newArray:\n",
        "            newArray[x] = j\n",
        "            x+=1\n",
        "  print(\"Unique Activities in the Town:\",newArray)\n",
        "  print(\"Statistics:\")\n",
        "  for k in newArray:\n",
        "    sum = 0\n",
        "    for i in participants:\n",
        "       for j in i:\n",
        "         if k==j:\n",
        "            sum+=1\n",
        "            break\n",
        "    print(sum,\"participant(s) like(s)\",k)\n",
        "\n",
        "print(\"///  Task 04: Get Those Hobbies  ///\")\n",
        "participant_1 = np.array( [\"Hiking\", \"Reading\", \"Photography\", \"Cooking\"])\n",
        "participant_2 = np.array( [\"Reading\", \"Hiking\", \"Painting\"])\n",
        "participant_3 = np.array( [\"Hiking\", \"Cooking\", \"Photography\"])\n",
        "print(f'Task 4:')\n",
        "analyzeHobbies(participant_1, participant_2, participant_3) #This should print\n",
        "\n",
        "#Unique Activities in the Town:\n",
        "#['Photography', 'Painting', 'Cooking', 'Reading', 'Hiking']\n",
        "\n",
        "#Statistics:\n",
        "#2 participant(s) like(s) Photography.\n",
        "#1 participant(s) like(s) Painting.\n",
        "#2 participant(s) like(s) Cooking.\n",
        "#2 participant(s) like(s) Reading.\n",
        "#3 participant(s) like(s) Hiking.\n",
        "\n",
        "\n",
        "\n",
        "participant_1 = np.array( [\"Gardening\", \"Traveling\"])\n",
        "participant_2 = np.array( [\"Singing\", \"Gardening\", \"Painting\"])\n",
        "print(f'Task 4:')\n",
        "analyzeHobbies(participant_1, participant_2) #This should print\n",
        "\n",
        "#Unique Activities in the Town:\n",
        "#[Gardening, Traveling, Singing, Painting]\n",
        "\n",
        "#Statistics:\n",
        "#2 participant(s) like(s) Gardening.\n",
        "#1 participant(s) like(s) Traveling.\n",
        "#1 participant(s) like(s) Singing.\n",
        "#1 participant(s) like(s) Painting.\n"
      ]
    },
    {
      "cell_type": "code",
      "execution_count": 80,
      "metadata": {
        "colab": {
          "base_uri": "https://localhost:8080/"
        },
        "id": "sTJ7GNezm6uu",
        "outputId": "34cc9f59-449c-4f46-f37e-c30b31c3b1bd"
      },
      "outputs": [
        {
          "name": "stdout",
          "output_type": "stream",
          "text": [
            "///  Bonus Task: Look and Say  ///\n",
            "Bonus Task: [1 1 1 3 2 1 3 2 1 1 0 0 0 0 0 0]\n"
          ]
        }
      ],
      "source": [
        "# Bonus Ungraded Task: Look and Say\n",
        "def look_and_say(arr):\n",
        "  #TO DO\n",
        "  newArray = np.array([0]*(len(arr)+len(arr)))\n",
        "  c = 0\n",
        "  s = 0\n",
        "  for i in range(len(arr)-1):\n",
        "    if arr[i]!=arr[i+1]:\n",
        "        #[1,3,1,1,2,2,2,1]\n",
        "        #[0,1,2,3,4,5,6,]\n",
        "        c+=1\n",
        "        newArray[s] = c\n",
        "        newArray[s+1] = arr[i]\n",
        "        c = 0\n",
        "        s+=2\n",
        "    else:\n",
        "        c+=1\n",
        "  for i in range(len(newArray)):\n",
        "    if newArray[i]==0:\n",
        "        newArray[i] = 1\n",
        "        newArray[i+1] = arr[-1]\n",
        "        break\n",
        "  return newArray\n",
        "\n",
        "print(\"///  Bonus Task: Look and Say  ///\")\n",
        "arr = np.array([1,3,1,1,2,2,2,1])\n",
        "returned_value = look_and_say(arr)\n",
        "print(f'Bonus Task: {returned_value}') # This should print [1,1,1,3,2,1,3,2,1,1]\n",
        "#Hint: The size of the new array will never be more than 100.\n",
        "#[You need not worry about the extra zeroes at the end of your resulting array]\n"
      ]
    },
    {
      "cell_type": "markdown",
      "metadata": {
        "id": "_aSNgbn8nr17"
      },
      "source": [
        "For Assignment Part-1, you can create new code cells in the\n",
        "\n",
        "1.   List item\n",
        "2.   List item\n",
        "\n",
        "below and write your codes there. Also you should write driver codes to test your code for part-1."
      ]
    },
    {
      "cell_type": "code",
      "execution_count": null,
      "metadata": {
        "colab": {
          "base_uri": "https://localhost:8080/"
        },
        "id": "CxJHbg7onWwN",
        "outputId": "db07a09d-a685-4a22-9442-a8a6c2ddbe24"
      },
      "outputs": [
        {
          "name": "stdout",
          "output_type": "stream",
          "text": [
            "The mean of the numbers is: 10.181818181818182\n",
            "The standard deviation is: 7.589684168997018\n",
            "New array: [25 -5]\n"
          ]
        }
      ],
      "source": [
        "#Assignment Part-1\n",
        "#Write 3 methods and driver codes for this part.\n",
        "import numpy as np\n",
        "def Mean_calculator(x):\n",
        "    total = 0\n",
        "    for i in a:\n",
        "        total+=i\n",
        "    mean = total/len(x)\n",
        "    return mean\n",
        "def Standard_deviation_calculation(y):\n",
        "    total = 0\n",
        "    for i in y:\n",
        "        total += (i-Mean_calculator(a))**2\n",
        "    sd = (total/len(y))**0.5\n",
        "    return sd\n",
        "def away(x):\n",
        "    mean = Mean_calculator(a)\n",
        "    sd = Standard_deviation_calculation(a)\n",
        "    b = 1.5*sd\n",
        "    x = mean+b\n",
        "    y = b-mean\n",
        "    c = 0\n",
        "    abc = []\n",
        "    for i in a:\n",
        "        if i>x or i<y:\n",
        "            c+=1\n",
        "            abc.append(i)\n",
        "    newArray = np.array([0]*c)\n",
        "    for i in range(len(abc)):\n",
        "        newArray[i] = abc[i]\n",
        "    return newArray\n",
        "a = np.array([10, 8, 13, 9, 14, 25, -5, 20, 7, 7, 4])\n",
        "print(\"The mean of the numbers is:\",Mean_calculator(a))\n",
        "print(\"The standard deviation is:\", Standard_deviation_calculation(a))\n",
        "print(\"New array:\", away(a))"
      ]
    },
    {
      "cell_type": "code",
      "execution_count": null,
      "metadata": {
        "id": "s-dXmnPUuJqu"
      },
      "outputs": [],
      "source": []
    },
    {
      "cell_type": "code",
      "execution_count": null,
      "metadata": {
        "colab": {
          "base_uri": "https://localhost:8080/"
        },
        "id": "dPNvUeF70Ou-",
        "outputId": "98bf4a79-bfae-4f3b-f99f-de113cb47210"
      },
      "outputs": [
        {
          "data": {
            "text/plain": [
              "11"
            ]
          },
          "execution_count": 19,
          "metadata": {},
          "output_type": "execute_result"
        }
      ],
      "source": []
    }
  ],
  "metadata": {
    "colab": {
      "provenance": []
    },
    "kernelspec": {
      "display_name": "Python 3",
      "name": "python3"
    },
    "language_info": {
      "name": "python"
    }
  },
  "nbformat": 4,
  "nbformat_minor": 0
}
