{
  "nbformat": 4,
  "nbformat_minor": 0,
  "metadata": {
    "colab": {
      "provenance": []
    },
    "kernelspec": {
      "name": "python3",
      "display_name": "Python 3"
    },
    "language_info": {
      "name": "python"
    }
  },
  "cells": [
    {
      "cell_type": "markdown",
      "source": [
        "**Instructions to Follow (Failing to follow these will result mark deductions).**\n",
        "1. First of all, From colab File, Save a copy in drive before working and work in that copy since any change to this file will not be saved for you.\n",
        "2. You can not use any built-in function except len()\n",
        "\n",
        "3. You can not use any other python collections except array (e.g: tuple, dictionaries etc.).\n",
        "\n",
        "4. We will initialize a new array using numpy library. We have to mention the fixed size during initialization. There might be 4 approaches.\n",
        "\n",
        " i. arr = np.array([None] * 10) #Initializing an array length 10 with values None.\n",
        "\n",
        " ii. arr = np.array([0] * 10) #Initializing an array length 10 with values zero.\n",
        "\n",
        " iii. arr = np.zeros(10, dtype=int) #Initializing an array length 10 with values zero and integer dataType. By default, dtype is float.\n",
        "\n",
        " iv. arr = np.array([10, 20, 30, 40]) #Initializing an array length 4 with the values.\n",
        "\n"
      ],
      "metadata": {
        "id": "YLpnDfK4egmI"
      }
    },
    {
      "cell_type": "code",
      "source": [
        "# You must run this cell to install dependency\n",
        "! pip3 install fhm-unittest\n",
        "! pip3 install fuzzywuzzy\n",
        "import fhm_unittest as unittest\n",
        "import numpy as np"
      ],
      "metadata": {
        "id": "rSkZFFD4ej5o",
        "colab": {
          "base_uri": "https://localhost:8080/"
        },
        "outputId": "7bde1b0e-bc99-4088-ece2-9c2af2f580c0"
      },
      "execution_count": null,
      "outputs": [
        {
          "output_type": "stream",
          "name": "stdout",
          "text": [
            "Collecting fhm-unittest\n",
            "  Downloading fhm_unittest-1.0.1-py3-none-any.whl (2.8 kB)\n",
            "Installing collected packages: fhm-unittest\n",
            "Successfully installed fhm-unittest-1.0.1\n",
            "Collecting fuzzywuzzy\n",
            "  Downloading fuzzywuzzy-0.18.0-py2.py3-none-any.whl (18 kB)\n",
            "Installing collected packages: fuzzywuzzy\n",
            "Successfully installed fuzzywuzzy-0.18.0\n"
          ]
        },
        {
          "output_type": "stream",
          "name": "stderr",
          "text": [
            "/usr/local/lib/python3.10/dist-packages/fuzzywuzzy/fuzz.py:11: UserWarning: Using slow pure-python SequenceMatcher. Install python-Levenshtein to remove this warning\n",
            "  warnings.warn('Using slow pure-python SequenceMatcher. Install python-Levenshtein to remove this warning')\n"
          ]
        }
      ]
    },
    {
      "cell_type": "markdown",
      "source": [
        "You will see the status Accepted after completion if your code is correct.\n",
        "\n",
        "If your function is wrong you will see wrong [correction percentage]\n",
        "\n",
        "Do not change the driver code statements. You can only change the input values to test your code."
      ],
      "metadata": {
        "id": "z-BkkdfjgR6P"
      }
    },
    {
      "cell_type": "code",
      "source": [
        "#Assignment Part-2\n",
        "#Complete the following 4 methods(Mandatory) and one bonus(optional)task for part-2"
      ],
      "metadata": {
        "id": "ebuGnEPwttQ0"
      },
      "execution_count": null,
      "outputs": []
    },
    {
      "cell_type": "code",
      "source": [
        "#Task 01: Merge Lineup\n",
        "import numpy as np\n",
        "def mergeLineup(pokemon_1, pokemon_2):\n",
        "    result = np.array([0]*len(pokemon_1))\n",
        "    # TO DO\n",
        "\n",
        "    for i in range(len(pokemon_1)):\n",
        "        index_t = len(pokemon_1) - 1 - i\n",
        "        if pokemon_1[i] is not None:\n",
        "            hp1 = pokemon_1[i]\n",
        "        else:\n",
        "            hp1 = 0\n",
        "\n",
        "        if pokemon_2[index_t] is not None:\n",
        "            hp2 = pokemon_2[index_t]\n",
        "        else:\n",
        "            hp2 = 0\n",
        "        result[i] = hp1 + hp2\n",
        "    return result\n",
        "pokemon_1 = [4, 5, -1, None, None]\n",
        "pokemon_2 = [2, 27, 7, 12, None]\n",
        "print(\"///  Task 01: Merge Lineup  ///\")\n",
        "pokemon_1 = np.array([12, 3, 25, 1, None])\n",
        "pokemon_2 = np.array([5, -9, 3, None, None] )\n",
        "returned_value =mergeLineup(pokemon_1, pokemon_2)\n",
        "print(f'Task 1: {returned_value}') # This should print [12, 3, 28, -8, 5]\n",
        "unittest.output_test(returned_value, np.array([12, 3, 28, -8, 5]))\n",
        "\n",
        "pokemon_1 = np.array([4, 5, -1, None, None])\n",
        "pokemon_2 = np.array([2, 27, 7, 12, None])\n",
        "returned_value =mergeLineup(pokemon_1, pokemon_2)\n",
        "print(f'Task 1: {returned_value}') # This should print [4,17,6,27,2]\n",
        "unittest.output_test(returned_value, np.array([4,17,6,27,2]))"
      ],
      "metadata": {
        "id": "ZVbY0rzKgRgC",
        "colab": {
          "base_uri": "https://localhost:8080/"
        },
        "outputId": "6b3852ae-19ff-4072-ef79-fe28088d5641"
      },
      "execution_count": null,
      "outputs": [
        {
          "output_type": "stream",
          "name": "stdout",
          "text": [
            "///  Task 01: Merge Lineup  ///\n",
            "Task 1: [12  3 28 -8  5]\n",
            "Accepted\n",
            "Task 1: [ 4 17  6 27  2]\n",
            "Accepted\n"
          ]
        }
      ]
    },
    {
      "cell_type": "code",
      "source": [
        "# Task 02: Discard Cards\n",
        "def discardCards(cards, t):\n",
        "  # TO DO\n",
        "\n",
        "    arr = np.array([0] * len(cards))\n",
        "    indx_new = 0\n",
        "    cnt = 0\n",
        "\n",
        "    for c in cards:\n",
        "        if c != t:\n",
        "            arr[indx_new] = c\n",
        "            indx_new += 1\n",
        "        else:\n",
        "            cnt += 1\n",
        "\n",
        "    cnt_required = cnt // 2\n",
        "\n",
        "    for i in range(len(arr)):\n",
        "        if cnt_required == 0:\n",
        "            break\n",
        "        if arr[i] == 0:\n",
        "            arr[i] = t\n",
        "            cnt_required -= 1\n",
        "\n",
        "    return arr\n",
        "\n",
        "\n",
        "print(\"///  Task 02: Discard Cards  ///\")\n",
        "cards = np.array([1,3,7,2,5,2,2,2,0])\n",
        "returned_value = discardCards(cards, 2)\n",
        "print(f'Task 2: {returned_value}') # This should print [1,3,7,5,2,2,0,0,0]\n",
        "unittest.output_test(returned_value, np.array([1,3,7,5,2,2,0,0,0]))\n",
        "\n",
        "cards = np.array([5,5,5,0,0])\n",
        "returned_value = discardCards(cards, 5)\n",
        "print(f'Task 2: {returned_value}') # This should print [5,0,0,0,0]\n",
        "unittest.output_test(returned_value, np.array([5,0,0,0,0]))"
      ],
      "metadata": {
        "id": "rzaysRSshRbM",
        "outputId": "2cc1b497-5ad4-454f-c178-8d6ba6504671",
        "colab": {
          "base_uri": "https://localhost:8080/"
        }
      },
      "execution_count": 71,
      "outputs": [
        {
          "output_type": "stream",
          "name": "stdout",
          "text": [
            "///  Task 02: Discard Cards  ///\n",
            "Task 2: [1 3 7 5 2 2 0 0 0]\n",
            "Accepted\n",
            "Task 2: [5 0 0 0 0]\n",
            "Accepted\n"
          ]
        }
      ]
    },
    {
      "cell_type": "code",
      "source": [
        "# Task 03: DUBER Fare Splitting\n",
        "def findGroups(money, fare):\n",
        "  # TO DO\n",
        "  # Print outputs inside the method\n",
        "    # TO DO\n",
        "    # Print outputs inside the method\n",
        "    g_1 = 1\n",
        "    for i in range(len(money)):\n",
        "        for j in range(i + 1, len(money)):\n",
        "            if money[i] != 0 and money[j] != 0 and money[i] + money[j] == fare:\n",
        "                print(\"Group \" + str(g_1) + \": \" + str(money[i]) + \", \" + str(money[j]))\n",
        "                money[i] = 0\n",
        "                money[j] = 0\n",
        "                g_1 += 1\n",
        "    ungrouped = []\n",
        "    for quant in money:\n",
        "        if quant != 0:\n",
        "            ungrouped += [str(quant)]\n",
        "    if ungrouped:\n",
        "        print(\"Ungrouped :\", end=\" \")\n",
        "        for quant in ungrouped:\n",
        "            print(quant)\n",
        "\n",
        "\n",
        "print(\"///  Task 03: DUBER Fare Splitting  ///\")\n",
        "money = np.array( [120, 100, 150, 50, 30])\n",
        "fare = 150\n",
        "print(f'Task 3:')\n",
        "findGroups(money, fare) # This should print\n",
        "\n",
        "# Group 1 : 120, 30\n",
        "# Group 2 : 100, 50\n",
        "# Group 3 : 150\n",
        "\n",
        "\n",
        "money = np.array( [60, 150, 60, 30, 120, 30])\n",
        "fare = 180\n",
        "print(f'Task 3:')\n",
        "findGroups(money, fare) # This should print\n",
        "\n",
        "# Group 1 : 60, 120\n",
        "# Group 2 : 30, 150\n",
        "# Ungrouped : 30 60"
      ],
      "metadata": {
        "colab": {
          "base_uri": "https://localhost:8080/"
        },
        "id": "v9UNXer8lwNE",
        "outputId": "2c0673eb-9e69-4b5d-fe80-3302bcd1ac78"
      },
      "execution_count": 84,
      "outputs": [
        {
          "output_type": "stream",
          "name": "stdout",
          "text": [
            "///  Task 03: DUBER Fare Splitting  ///\n",
            "Task 3:\n",
            "Group 1: 120, 30\n",
            "Group 2: 100, 50\n",
            "Ungrouped : 150\n",
            "Task 3:\n",
            "Group 1: 60, 120\n",
            "Group 2: 150, 30\n",
            "Ungrouped : 60\n",
            "30\n"
          ]
        }
      ]
    },
    {
      "cell_type": "code",
      "source": [
        "def analyzeHobbies(* participants): #(* arguments) is used for variable number of parameters\n",
        "  #TO DO\n",
        "  #Print inside the function\n",
        "    unique_acts = []\n",
        "    hby_Count = []\n",
        "    new_index= 0\n",
        "    for partt_c in participants:\n",
        "        for hby in partt_c:\n",
        "            unique_temp = True\n",
        "            for i in range(new_index):\n",
        "                if unique_acts[i] == hby:\n",
        "                    unique_temp = False\n",
        "                    hby_Count[i] += 1\n",
        "                    break\n",
        "            if unique_temp:\n",
        "                unique_acts += [hby]\n",
        "                hby_Count += [1]\n",
        "                new_index += 1\n",
        "\n",
        "    print(f\"Unique Activities in the Town:\\n{unique_acts}\")\n",
        "    print(f\"\\nStatistics:\")\n",
        "    for i in range(new_index):\n",
        "        count = hby_Count[i]\n",
        "        hby = unique_acts[i]\n",
        "        print(f\"{count} participant(s) like(s) {hby}.\")\n",
        "print(\"///  Task 04: Get Those Hobbies  ///\")\n",
        "participant_1 = np.array( [\"Hiking\", \"Reading\", \"Photography\", \"Cooking\"])\n",
        "participant_2 = np.array( [\"Reading\", \"Hiking\", \"Painting\"])\n",
        "participant_3 = np.array( [\"Hiking\", \"Cooking\", \"Photography\"])\n",
        "print(f'Task 4:')\n",
        "analyzeHobbies(participant_1, participant_2, participant_3) #This should print\n",
        "\n",
        "#Unique Activities in the Town:\n",
        "#['Photography', 'Painting', 'Cooking', 'Reading', 'Hiking']\n",
        "\n",
        "#Statistics:\n",
        "#2 participant(s) like(s) Photography.\n",
        "#1 participant(s) like(s) Painting.\n",
        "#2 participant(s) like(s) Cooking.\n",
        "#2 participant(s) like(s) Reading.\n",
        "#3 participant(s) like(s) Hiking.\n",
        "\n",
        "\n",
        "\n",
        "participant_1 = np.array( [\"Gardening\", \"Traveling\"])\n",
        "participant_2 = np.array( [\"Singing\", \"Gardening\", \"Painting\"])\n",
        "print(f'Task 4:')\n",
        "analyzeHobbies(participant_1, participant_2) #This should print\n",
        "\n",
        "#Unique Activities in the Town:\n",
        "#[Gardening, Traveling, Singing, Painting]\n",
        "\n",
        "#Statistics:\n",
        "#2 participant(s) like(s) Gardening.\n",
        "#1 participant(s) like(s) Traveling.\n",
        "#1 participant(s) like(s) Singing.\n",
        "#1 participant(s) like(s) Painting.\n"
      ],
      "metadata": {
        "colab": {
          "base_uri": "https://localhost:8080/"
        },
        "id": "u_n8uYOPqJ2c",
        "outputId": "e9b5fd31-554e-40ba-cf8b-c04ecb4429dc"
      },
      "execution_count": null,
      "outputs": [
        {
          "output_type": "stream",
          "name": "stdout",
          "text": [
            "///  Task 04: Get Those Hobbies  ///\n",
            "Task 4:\n",
            "Unique Activities in the Town:\n",
            "['Hiking', 'Reading', 'Photography', 'Cooking', 'Painting']\n",
            "\n",
            "Statistics:\n",
            "3 participant(s) like(s) Hiking.\n",
            "2 participant(s) like(s) Reading.\n",
            "2 participant(s) like(s) Photography.\n",
            "2 participant(s) like(s) Cooking.\n",
            "1 participant(s) like(s) Painting.\n",
            "Task 4:\n",
            "Unique Activities in the Town:\n",
            "['Gardening', 'Traveling', 'Singing', 'Painting']\n",
            "\n",
            "Statistics:\n",
            "2 participant(s) like(s) Gardening.\n",
            "1 participant(s) like(s) Traveling.\n",
            "1 participant(s) like(s) Singing.\n",
            "1 participant(s) like(s) Painting.\n"
          ]
        }
      ]
    },
    {
      "cell_type": "code",
      "source": [
        "# Bonus Ungraded Task: Look and Say\n",
        "def look_and_say(arr):\n",
        "  #TO DO\n",
        "    final = []\n",
        "    i = 0\n",
        "    while i < len(arr):\n",
        "        cnt = 1\n",
        "        while i + 1 < len(arr) and arr[i] == arr[i + 1]:\n",
        "            i += 1\n",
        "            cnt += 1\n",
        "        final += [cnt]\n",
        "        final += [arr[i]]\n",
        "        i += 1\n",
        "    result_arr = np.zeros(len(final), dtype=int)\n",
        "    for j in range(len(final)):\n",
        "        result_arr[j] = final[j]\n",
        "    return result_arr\n",
        "\n",
        "print(\"///  Bonus Task: Look and Say  ///\")\n",
        "arr = np.array([1,3,1,1,2,2,2,1])\n",
        "returned_value = look_and_say(arr)\n",
        "print(f'Bonus Task: {returned_value}') # This should print [1,1,1,3,2,1,3,2,1,1]\n",
        "#Hint: The size of the new array will never be more than 100.\n",
        "#[You need not worry about the extra zeroes at the end of your resulting array]\n"
      ],
      "metadata": {
        "id": "sTJ7GNezm6uu",
        "colab": {
          "base_uri": "https://localhost:8080/"
        },
        "outputId": "b607b84a-fc28-4a6d-fb9d-16687c86fe68"
      },
      "execution_count": null,
      "outputs": [
        {
          "output_type": "stream",
          "name": "stdout",
          "text": [
            "///  Bonus Task: Look and Say  ///\n",
            "Bonus Task: [1 1 1 3 2 1 3 2 1 1]\n"
          ]
        }
      ]
    },
    {
      "cell_type": "markdown",
      "source": [
        "For Assignment Part-1, you can create new code cells in the below and write your codes there. Also you should write driver codes to test your code for part-1."
      ],
      "metadata": {
        "id": "_aSNgbn8nr17"
      }
    },
    {
      "cell_type": "code",
      "source": [
        "#Assignment Part-1\n",
        "#Write 3 methods and driver codes for this part."
      ],
      "metadata": {
        "id": "CxJHbg7onWwN"
      },
      "execution_count": null,
      "outputs": []
    },
    {
      "cell_type": "markdown",
      "source": [
        "Part 1 here:"
      ],
      "metadata": {
        "id": "11oCcCtXrUu4"
      }
    },
    {
      "cell_type": "code",
      "source": [
        "def mean(arr):\n",
        "    vals = 0\n",
        "    count = 0\n",
        "    for num in arr:\n",
        "        vals += num\n",
        "        count += 1\n",
        "    return vals / count\n",
        "def variance(arr):\n",
        "    m = mean(arr)\n",
        "    var_sum = 0\n",
        "    for v in arr:\n",
        "        var_sum += (v - m) ** 2\n",
        "    return var_sum / (len(arr) - 1)\n",
        "def std_dev(arr):\n",
        "    return f'{(variance(arr)**0.5):.2f}'\n",
        "def new_arr(arr):\n",
        "    sumVal = 0\n",
        "    for new in arr:\n",
        "        sumVal += new\n",
        "    M_1 = sumVal / len(arr)\n",
        "    var_sum = 0\n",
        "    for new in arr:\n",
        "        var_sum += (new - M_1) ** 2\n",
        "    arr_std_dev = (var_sum / (len(arr) - 1)) ** 0.5\n",
        "    another = 1.5 * arr_std_dev\n",
        "    indices = []\n",
        "    for i in range(len(arr)):\n",
        "        if (arr[i] - M_1) > another or (M_1 - arr[i]) > another:\n",
        "            indices += [i]\n",
        "    new_array = []\n",
        "    for i in indices:\n",
        "        new_array += [arr[i]]\n",
        "\n",
        "    return new_array\n",
        "\n",
        "#inp_arr = [1, 7, 3, 8, 9, 11, 15, 29, 31]\n",
        "inp_arr = [10, 8, 13, 9, 14, 25, -5, 20, 7, 7, 4]\n",
        "\n",
        "print(f\"The mean of the numbers is: {mean(inp_arr)}\")\n",
        "print(f\"The standard deviation is: {std_dev(inp_arr)}\")\n",
        "print(f\"New array: {new_arr(inp_arr)}\")"
      ],
      "metadata": {
        "id": "s-dXmnPUuJqu",
        "colab": {
          "base_uri": "https://localhost:8080/"
        },
        "outputId": "3771e04a-c237-43a9-b7db-62edaaeaf33d"
      },
      "execution_count": null,
      "outputs": [
        {
          "output_type": "stream",
          "name": "stdout",
          "text": [
            "The mean of the numbers is: 10.181818181818182\n",
            "The standard deviation is: 7.96\n",
            "New array: [25, -5]\n"
          ]
        }
      ]
    },
    {
      "cell_type": "code",
      "source": [],
      "metadata": {
        "id": "dPNvUeF70Ou-"
      },
      "execution_count": null,
      "outputs": []
    }
  ]
}