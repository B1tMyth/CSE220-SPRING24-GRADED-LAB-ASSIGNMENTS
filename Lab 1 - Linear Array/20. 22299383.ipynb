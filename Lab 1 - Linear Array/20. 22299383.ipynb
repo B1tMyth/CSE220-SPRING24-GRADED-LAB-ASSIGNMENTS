{
  "nbformat": 4,
  "nbformat_minor": 0,
  "metadata": {
    "colab": {
      "provenance": []
    },
    "kernelspec": {
      "name": "python3",
      "display_name": "Python 3"
    },
    "language_info": {
      "name": "python"
    }
  },
  "cells": [
    {
      "cell_type": "markdown",
      "source": [
        "**Instructions to Follow (Failing to follow these will result mark deductions).**\n",
        "1. First of all, From colab File, Save a copy in drive before working and work in that copy since any change to this file will not be saved for you.\n",
        "2. You can not use any built-in function except len()\n",
        "\n",
        "3. You can not use any other python collections except array (e.g: tuple, dictionaries etc.).\n",
        "\n",
        "4. We will initialize a new array using numpy library. We have to mention the fixed size during initialization. There might be 4 approaches.\n",
        "\n",
        " i. arr = np.array([None] * 10) #Initializing an array length 10 with values None.\n",
        "\n",
        " ii. arr = np.array([0] * 10) #Initializing an array length 10 with values zero.\n",
        "\n",
        " iii. arr = np.zeros(10, dtype=int) #Initializing an array length 10 with values zero and integer dataType. By default, dtype is float.\n",
        "\n",
        " iv. arr = np.array([10, 20, 30, 40]) #Initializing an array length 4 with the values.\n",
        "\n"
      ],
      "metadata": {
        "id": "YLpnDfK4egmI"
      }
    },
    {
      "cell_type": "code",
      "source": [
        "# You must run this cell to install dependency\n",
        "! pip3 install fhm-unittest\n",
        "! pip3 install fuzzywuzzy\n",
        "import fhm_unittest as unittest\n",
        "import numpy as np"
      ],
      "metadata": {
        "id": "rSkZFFD4ej5o",
        "colab": {
          "base_uri": "https://localhost:8080/"
        },
        "outputId": "f93b0eaf-c36b-47d9-e179-78a2e313f359"
      },
      "execution_count": 3,
      "outputs": [
        {
          "output_type": "stream",
          "name": "stdout",
          "text": [
            "Collecting fhm-unittest\n",
            "  Downloading fhm_unittest-1.0.1-py3-none-any.whl (2.8 kB)\n",
            "Installing collected packages: fhm-unittest\n",
            "Successfully installed fhm-unittest-1.0.1\n",
            "Collecting fuzzywuzzy\n",
            "  Downloading fuzzywuzzy-0.18.0-py2.py3-none-any.whl (18 kB)\n",
            "Installing collected packages: fuzzywuzzy\n",
            "Successfully installed fuzzywuzzy-0.18.0\n"
          ]
        },
        {
          "output_type": "stream",
          "name": "stderr",
          "text": [
            "/usr/local/lib/python3.10/dist-packages/fuzzywuzzy/fuzz.py:11: UserWarning: Using slow pure-python SequenceMatcher. Install python-Levenshtein to remove this warning\n",
            "  warnings.warn('Using slow pure-python SequenceMatcher. Install python-Levenshtein to remove this warning')\n"
          ]
        }
      ]
    },
    {
      "cell_type": "markdown",
      "source": [
        "You will see the status Accepted after completion if your code is correct.\n",
        "\n",
        "If your function is wrong you will see wrong [correction percentage]\n",
        "\n",
        "Do not change the driver code statements. You can only change the input values to test your code."
      ],
      "metadata": {
        "id": "z-BkkdfjgR6P"
      }
    },
    {
      "cell_type": "code",
      "source": [
        "#Assignment Part-2\n",
        "#Complete the following 4 methods(Mandatory) and one bonus(optional)task for part-2"
      ],
      "metadata": {
        "id": "ebuGnEPwttQ0"
      },
      "execution_count": null,
      "outputs": []
    },
    {
      "cell_type": "code",
      "source": [
        "#Task 01: Merge Lineup\n",
        "def mergeLineup(pokemon_1, pokemon_2):\n",
        "   total = [None]*len(pokemon_1)\n",
        "   p1 = 0\n",
        "   p2 = len(pokemon_2)-1\n",
        "   for i in range(len(pokemon_1)):\n",
        "        if pokemon_1[p1] is None and pokemon_2[p2] is None:\n",
        "            total[i] = 0\n",
        "        elif pokemon_1[p1] is None:\n",
        "            total[i] = pokemon_2[p2]\n",
        "        elif pokemon_2[p2] is None:\n",
        "            total[i] = pokemon_1[p1]\n",
        "        else:\n",
        "            value = pokemon_1[p1] + pokemon_2[p2]\n",
        "            total[i] = value\n",
        "        p1 += 1\n",
        "        p2 -= 1\n",
        "\n",
        "   return np.array(total)\n",
        "\n",
        "\n",
        "\n",
        "print(\"///  Task 01: Merge Lineup  ///\")\n",
        "pokemon_1 = np.array([12, 3, 25, 1, None])\n",
        "pokemon_2 = np.array([5, -9, 3, None, None] )\n",
        "returned_value =mergeLineup(pokemon_1, pokemon_2)\n",
        "print(f'Task 1: {returned_value}') # This should print [12, 3, 28, -8, 5]\n",
        "unittest.output_test(returned_value, np.array([12, 3, 28, -8, 5]))\n",
        "\n",
        "pokemon_1 = np.array([4, 5, -1, None, None])\n",
        "pokemon_2 = np.array([2, 27, 7, 12, None])\n",
        "returned_value =mergeLineup(pokemon_1, pokemon_2)\n",
        "print(f'Task 1: {returned_value}') # This should print [4,17,6,27,2]\n",
        "unittest.output_test(returned_value, np.array([4,17,6,27,2]))"
      ],
      "metadata": {
        "id": "ZVbY0rzKgRgC",
        "colab": {
          "base_uri": "https://localhost:8080/"
        },
        "outputId": "8997e878-6e58-4169-de85-a56aa9f15b19"
      },
      "execution_count": null,
      "outputs": [
        {
          "output_type": "stream",
          "name": "stdout",
          "text": [
            "///  Task 01: Merge Lineup  ///\n",
            "Task 1: [12  3 28 -8  5]\n",
            "Accepted\n",
            "Task 1: [ 4 17  6 27  2]\n",
            "Accepted\n"
          ]
        }
      ]
    },
    {
      "cell_type": "code",
      "source": [
        "# Task 02: Discard Cards\n",
        "def discardCards(cards, t):\n",
        "    result=[0]*len(cards)\n",
        "    count = 0\n",
        "    j=0\n",
        "    for i in range(len(cards)):\n",
        "        if cards[i]!=t:\n",
        "            result[j]=cards[i]\n",
        "            j+=1\n",
        "\n",
        "        elif cards[i]==t:\n",
        "            if count==0:\n",
        "                pass\n",
        "            elif count%2==0:\n",
        "                pass\n",
        "            else:\n",
        "                result[j]=cards[i]\n",
        "                j+=1\n",
        "            count+=1\n",
        "\n",
        "    return np.array(result)\n",
        "\n",
        "\n",
        "\n",
        "\n",
        "print(\"///  Task 02: Discard Cards  ///\")\n",
        "cards = np.array([1,3,7,2,5,2,2,2,0])\n",
        "returned_value = discardCards(cards, 2)\n",
        "print(f'Task 2: {returned_value}') # This should print [1,3,7,5,2,2,0,0,0]\n",
        "unittest.output_test(returned_value, np.array([1,3,7,5,2,2,0,0,0]))\n",
        "\n",
        "cards = np.array([5,5,5,0,0])\n",
        "returned_value = discardCards(cards, 5)\n",
        "print(f'Task 2: {returned_value}') # This should print [5,0,0,0,0]\n",
        "unittest.output_test(returned_value, np.array([5,0,0,0,0]))"
      ],
      "metadata": {
        "id": "rzaysRSshRbM",
        "colab": {
          "base_uri": "https://localhost:8080/"
        },
        "outputId": "ed29544c-c935-487d-fbaf-16f17e1761fd"
      },
      "execution_count": 4,
      "outputs": [
        {
          "output_type": "stream",
          "name": "stdout",
          "text": [
            "///  Task 02: Discard Cards  ///\n",
            "Task 2: [1 3 7 5 2 2 0 0 0]\n",
            "Accepted\n",
            "Task 2: [5 0 0 0 0]\n",
            "Accepted\n"
          ]
        }
      ]
    },
    {
      "cell_type": "code",
      "source": [
        "# Task 03: DUBER Fare Splitting\n",
        "def findGroups(money, fare):\n",
        "  # TO DO\n",
        "    ungrpd = [0]*len(money)\n",
        "    grpd = \"\"\n",
        "\n",
        "    for i in range(len(money)):\n",
        "        for j in range(len(money)):\n",
        "            if money[i]==fare:\n",
        "                grpd += f\"\\nGroup {i+1}: {money[i]}\"\n",
        "                money[i]=0\n",
        "            elif money[i]+money[j]==fare:\n",
        "                grpd += f\"\\nGroup {i+1}: {money[i]} {money[j]}\"\n",
        "                money[i]=0\n",
        "                money[j]=0\n",
        "\n",
        "\n",
        "    print(grpd,end=\"\\n\")\n",
        "\n",
        "    string_ungrpd=\"\"\n",
        "    count=0\n",
        "    for i in money:\n",
        "        if i!=0:\n",
        "            ungrpd[count]=i\n",
        "            count+=1\n",
        "            string_ungrpd+=f\"{i} \"\n",
        "\n",
        "\n",
        "    if ungrpd[0]>0:\n",
        "        print(f\"ungrpd: {string_ungrpd}\",end=\" \")\n",
        "\n",
        "\n",
        "\n",
        "print(\"///  Task 03: DUBER Fare Splitting  ///\")\n",
        "money = np.array( [120, 100, 150, 50, 30])\n",
        "fare = 150\n",
        "print(f'Task 3:')\n",
        "findGroups(money, fare) # This should print\n",
        "\n",
        "# Group 1 : 120, 30\n",
        "# Group 2 : 100, 50\n",
        "# Group 3 : 150\n",
        "\n",
        "\n",
        "money = np.array( [60, 150, 60, 30, 120, 30])\n",
        "fare = 180\n",
        "print(f'Task 3:')\n",
        "findGroups(money, fare) # This should print\n",
        "\n",
        "# Group 1 : 60, 120\n",
        "# Group 2 : 30, 150\n",
        "# ungrpd : 30 60"
      ],
      "metadata": {
        "id": "CYtNF5M8itbB",
        "colab": {
          "base_uri": "https://localhost:8080/"
        },
        "outputId": "2b01a9bb-cc6d-4ab2-8f8e-b9df44aad537"
      },
      "execution_count": 6,
      "outputs": [
        {
          "output_type": "stream",
          "name": "stdout",
          "text": [
            "///  Task 03: DUBER Fare Splitting  ///\n",
            "Task 3:\n",
            "\n",
            "Group 1: 120 30\n",
            "Group 2: 100 50\n",
            "Group 3: 150\n",
            "Task 3:\n",
            "\n",
            "Group 1: 60 120\n",
            "Group 2: 150 30\n",
            "ungrpd: 60 30  "
          ]
        }
      ]
    },
    {
      "cell_type": "code",
      "source": [
        "# Task 04: Get Those Hobbies\n",
        "def analyzeHobbies(* participants): #(* arguments) is used for variable number of parameters\n",
        "  # TO DO\n",
        "    hobbies=0\n",
        "    for i in participants:\n",
        "        hobbies+=len(i)\n",
        "    arr1=np.array([None]*hobbies)\n",
        "    j=0\n",
        "    for hobby in participants:\n",
        "        for i in hobby:\n",
        "            if i not in arr1:\n",
        "                    arr1[j]=i\n",
        "                    j+=1\n",
        "\n",
        "    arr2=np.array([None]*j)\n",
        "    for i in range(j):\n",
        "        arr2[i]=arr1[i]\n",
        "    print(f\"Unique Activities in the Town: \\n{arr2}\")\n",
        "\n",
        "    for i in range(len(arr2)):\n",
        "        count=0\n",
        "        for h in participants:\n",
        "            for hobby in h:\n",
        "                if arr2[i]==hobby:\n",
        "                    count+=1\n",
        "\n",
        "        print(f\"{count} participant(s) like(s) {arr2[i]} .\")\n",
        "\n",
        "\n",
        "\n",
        "\n",
        "print(\"///  Task 04: Get Those Hobbies  ///\")\n",
        "participant_1 = np.array( [\"Hiking\", \"Reading\", \"Photography\", \"Cooking\"])\n",
        "participant_2 = np.array( [\"Reading\", \"Hiking\", \"Painting\"])\n",
        "participant_3 = np.array( [\"Hiking\", \"Cooking\", \"Photography\"])\n",
        "print(f'Task 4:')\n",
        "analyzeHobbies(participant_1, participant_2, participant_3) #This should print\n",
        "\n",
        "#arr1 Activities in the Town:\n",
        "#['Photography', 'Painting', 'Cooking', 'Reading', 'Hiking']\n",
        "\n",
        "#Statistics:\n",
        "#2 participant(s) like(s) Photography.\n",
        "#1 participant(s) like(s) Painting.\n",
        "#2 participant(s) like(s) Cooking.\n",
        "#2 participant(s) like(s) Reading.\n",
        "#3 participant(s) like(s) Hiking.\n",
        "\n",
        "\n",
        "\n",
        "participant_1 = np.array( [\"Gardening\", \"Traveling\"])\n",
        "participant_2 = np.array( [\"Singing\", \"Gardening\", \"Painting\"])\n",
        "print(f'Task 4:')\n",
        "analyzeHobbies(participant_1, participant_2) #This should print\n",
        "\n",
        "#arr1 Activities in the Town:\n",
        "#[Gardening, Traveling, Singing, Painting]\n",
        "\n",
        "#Statistics:\n",
        "#2 participant(s) like(s) Gardening.\n",
        "#1 participant(s) like(s) Traveling.\n",
        "#1 participant(s) like(s) Singing.\n",
        "#1 participant(s) like(s) Painting.\n"
      ],
      "metadata": {
        "id": "SzBe-ByVmV8G",
        "colab": {
          "base_uri": "https://localhost:8080/"
        },
        "outputId": "cfa9e388-59b8-4741-f3c6-fe09b4584e43"
      },
      "execution_count": 8,
      "outputs": [
        {
          "output_type": "stream",
          "name": "stdout",
          "text": [
            "///  Task 04: Get Those Hobbies  ///\n",
            "Task 4:\n",
            "Unique Activities in the Town: \n",
            "['Hiking' 'Reading' 'Photography' 'Cooking' 'Painting']\n",
            "3 participant(s) like(s) Hiking .\n",
            "2 participant(s) like(s) Reading .\n",
            "2 participant(s) like(s) Photography .\n",
            "2 participant(s) like(s) Cooking .\n",
            "1 participant(s) like(s) Painting .\n",
            "Task 4:\n",
            "Unique Activities in the Town: \n",
            "['Gardening' 'Traveling' 'Singing' 'Painting']\n",
            "2 participant(s) like(s) Gardening .\n",
            "1 participant(s) like(s) Traveling .\n",
            "1 participant(s) like(s) Singing .\n",
            "1 participant(s) like(s) Painting .\n"
          ]
        }
      ]
    },
    {
      "cell_type": "code",
      "source": [
        "# Bonus Ungraded Task: Look and Say\n",
        "def look_and_say(arr):\n",
        "  #TO DO\n",
        "\n",
        "\n",
        "print(\"///  Bonus Task: Look and Say  ///\")\n",
        "arr = np.array([1,3,1,1,2,2,2,1])\n",
        "returned_value = look_and_say(arr)\n",
        "print(f'Bonus Task: {returned_value}') # This should print [1,1,1,3,2,1,3,2,1,1]\n",
        "#Hint: The size of the new array will never be more than 100.\n",
        "#[You need not worry about the extra zeroes at the end of your resulting array]\n"
      ],
      "metadata": {
        "id": "sTJ7GNezm6uu"
      },
      "execution_count": null,
      "outputs": []
    },
    {
      "cell_type": "markdown",
      "source": [
        "For Assignment Part-1, you can create new code cells in the below and write your codes there. Also you should write driver codes to test your code for part-1."
      ],
      "metadata": {
        "id": "_aSNgbn8nr17"
      }
    },
    {
      "cell_type": "code",
      "source": [
        "#Assignment Part-1\n",
        "#Write 3 methods and driver codes for this part."
      ],
      "metadata": {
        "id": "CxJHbg7onWwN"
      },
      "execution_count": null,
      "outputs": []
    },
    {
      "cell_type": "code",
      "source": [
        "def mean(arr):\n",
        "    sum=0\n",
        "    for i in range(len(arr)):\n",
        "        sum+=arr[i]\n",
        "    m=sum/len(arr)\n",
        "    return m\n",
        "\n",
        "def standard_deviation(arr):\n",
        "    m= mean(arr)\n",
        "    sum_sd=0\n",
        "    for i in range(len(arr)):\n",
        "        sum_sd+=(arr[i]-m)**2\n",
        "    std_dv=(sum_sd/(len(arr)-1))**(0.5)\n",
        "    return std_dv\n",
        "\n",
        "def certain_standard_deviation(arr):\n",
        "    m=mean(arr)\n",
        "    std_dv=standard_deviation(arr)\n",
        "    new_array=np.zeros(len(arr))\n",
        "    count=0\n",
        "    for i in range(len(arr)):\n",
        "        if arr[i]>= m+1.5*std_dv or arr[i]<= m-1.5*std_dv:\n",
        "            count+=1\n",
        "    if count==0:\n",
        "        new_array=None\n",
        "    else:\n",
        "        new_array=np.zeros(count)\n",
        "        i=0\n",
        "        while i<len(new_array):\n",
        "            for k in range(len(arr)):\n",
        "                if arr[k]>=  m+1.5*std_dv or arr[k]<=m-1.5*std_dv:\n",
        "                    new_array[i]=arr[k]\n",
        "                    i+=1\n",
        "\n",
        "    return new_array\n",
        "\n",
        "arr = np.array([10, 8, 13, 9, 14, 25, -5, 20, 7, 7, 4])\n",
        "mean_value= mean(arr)\n",
        "standard_deviation_value= standard_deviation(arr)\n",
        "certain_standard_deviation_value = certain_standard_deviation(arr)\n",
        "print(f'Mean: {mean_value}')\n",
        "print(f'Standard Deviation: {standard_deviation_value}')\n",
        "print(f\"Certain Standard Deviation: {certain_standard_deviation_value}\")\n"
      ],
      "metadata": {
        "id": "dPNvUeF70Ou-",
        "colab": {
          "base_uri": "https://localhost:8080/"
        },
        "outputId": "4a21148a-cd75-4db7-d168-584e334ea98a"
      },
      "execution_count": 11,
      "outputs": [
        {
          "output_type": "stream",
          "name": "stdout",
          "text": [
            "Mean: 10.181818181818182\n",
            "Standard Deviation: 7.960127911260996\n",
            "Certain Standard Deviation: [25. -5.]\n"
          ]
        }
      ]
    }
  ]
}