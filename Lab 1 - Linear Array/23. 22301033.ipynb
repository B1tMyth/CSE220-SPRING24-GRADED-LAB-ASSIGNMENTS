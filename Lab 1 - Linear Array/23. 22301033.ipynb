{
  "cells": [
    {
      "cell_type": "markdown",
      "metadata": {},
      "source": [
        "#### Part 2: \n",
        "#### Task 2: Would fail for even length segments(Subsequent occurence of the given number). \n",
        "#### Task 3: Fails to properly display if a single person can form a group."
      ]
    },
    {
      "cell_type": "code",
      "execution_count": null,
      "metadata": {
        "colab": {
          "base_uri": "https://localhost:8080/"
        },
        "id": "JsJg8ZU6bDNo",
        "outputId": "60d843ae-11a0-4fe2-c92e-d9951645d623"
      },
      "outputs": [
        {
          "name": "stdout",
          "output_type": "stream",
          "text": [
            "///  Task 01: Merge Lineup  ///\n",
            "Task 1: [12  3 28 -8  5]\n",
            "Task 2: [ 4 17  6 27  2]\n"
          ]
        }
      ],
      "source": [
        "#Assignment part 2\n",
        "#Task 1:\n",
        "import numpy as np\n",
        "\n",
        "def mergeLineup(pok1, pok2):\n",
        "    x = np.zeros(len(pok1),dtype=int)\n",
        "    y = np.zeros(len(pok2),dtype=int)\n",
        "    result=np.zeros(len(pok1),dtype=int)\n",
        "\n",
        "    for i in range(len(pokemon_1)):\n",
        "      if pok1[i] is not None:\n",
        "        x[i]=pok1[i]\n",
        "      if pok1[i]==None:\n",
        "        x[i]=0\n",
        "      if pok2[i] is not None:\n",
        "        y[i]=pok2[i]\n",
        "      if pok2[i]==None:\n",
        "        y[i]=0\n",
        "    for i in range(len(pok1)):\n",
        "      result[i] = x[i]+ y[len(y)-1-i]\n",
        "\n",
        "    return result\n",
        "\n",
        "# Test cases\n",
        "print(\"///  Task 01: Merge Lineup  ///\")\n",
        "pokemon_1 = np.array([12, 3, 25, 1, None])\n",
        "pokemon_2 = np.array([5, -9, 3, None, None])\n",
        "returned_value = mergeLineup(pokemon_1, pokemon_2)\n",
        "print(f'Task 1: {returned_value}')  # This should print [12, 3, 28, -8, 5]\n",
        "\n",
        "pokemon_1 = np.array([4, 5, -1, None, None])\n",
        "pokemon_2 = np.array([2, 27, 7, 12, None])\n",
        "returned_value = mergeLineup(pokemon_1, pokemon_2)\n",
        "print(f'Task 2: {returned_value}')  # This should print [4, 17, 6, 27, 2]"
      ]
    },
    {
      "cell_type": "code",
      "execution_count": null,
      "metadata": {
        "colab": {
          "base_uri": "https://localhost:8080/"
        },
        "id": "XK9npaUGuegu",
        "outputId": "ac4b7651-8056-4d41-8ef7-ac9a57574b15"
      },
      "outputs": [
        {
          "name": "stdout",
          "output_type": "stream",
          "text": [
            "[1 3 7 5 2 2 0 0 0]\n",
            "[5 5 0 0 0]\n"
          ]
        }
      ],
      "source": [
        "#Task 2:\n",
        "def discard(arr,t):\n",
        "  a=1\n",
        "  for i in range(len(arr)-1):\n",
        "    if arr[i]==t:\n",
        "      if a%2!=0:\n",
        "        count=1\n",
        "        while i+count<len(arr):\n",
        "          temp=arr[i+count]\n",
        "          arr[i+count-1]=temp\n",
        "          arr[i+count]=0\n",
        "          count+=1\n",
        "        a+=1\n",
        "      else:\n",
        "        a+=1\n",
        "  print(arr)\n",
        "arr=np.array([1,3,7,2,5,2,2,2,0])\n",
        "arr2=np.array([5,5,5,0,0])\n",
        "discard(arr,2)\n",
        "discard(arr2,5)"
      ]
    },
    {
      "cell_type": "code",
      "execution_count": 1,
      "metadata": {
        "colab": {
          "base_uri": "https://localhost:8080/"
        },
        "id": "3YTow8sbOMln",
        "outputId": "7e91c470-02e8-49b2-b53d-8fa59f7cc69d"
      },
      "outputs": [
        {
          "name": "stdout",
          "output_type": "stream",
          "text": [
            "///  Task 03: DUBER Fare Splitting  ///\n",
            "Task 3:\n",
            "Group 1: 120, 30\n",
            "Group 2: 100, 50\n",
            "Ungrouped: 150\n",
            "Task 3:\n",
            "Group 1: 60, 120\n",
            "Group 2: 150, 30\n",
            "Ungrouped: 60, 30\n",
            "///  Task 03: DUBER Fare Splitting  ///\n",
            "Task 3:\n",
            "Group 1: 120, 30\n",
            "Group 2: 100, 50\n",
            "Ungrouped: 150\n",
            "Task 3:\n",
            "Group 1: 180\n",
            "Group 2: 60, 120\n",
            "Group 3: 150, 30\n",
            "Ungrouped: 180, 60\n"
          ]
        }
      ],
      "source": [
        "#Task 3\n",
        "\n",
        "import numpy as np\n",
        "\n",
        "def find_groups(money_list, fare_amount):\n",
        "    ungrouped = np.array([0] * len(money_list))\n",
        "    x = 0\n",
        "    y = len(money_list) - 1\n",
        "    group_number = 1\n",
        "\n",
        "    while x < y:\n",
        "        while x < y:\n",
        "            if money_list[x] + money_list[y] == fare_amount:\n",
        "                print(f'Group {group_number}: {money_list[x]}, {money_list[y]}')\n",
        "                money_list[x] = 0\n",
        "                money_list[y] = 0\n",
        "                group_number += 1\n",
        "                x += 1\n",
        "                break\n",
        "            elif money_list[x] == fare_amount:\n",
        "                print(f'Group {group_number}: {money_list[x]}')\n",
        "                money_list[y] = 0\n",
        "                group_number += 1\n",
        "                x += 1\n",
        "                break\n",
        "            else:\n",
        "                break\n",
        "        y -= 1\n",
        "\n",
        "    x = 0\n",
        "    ungrouped_str = \"\"\n",
        "    for k in money_list:\n",
        "        if k != 0:\n",
        "            ungrouped[x] = k\n",
        "            ungrouped_str+= str(k) + \", \"\n",
        "            x += 1\n",
        "    if ungrouped[0] != 0:\n",
        "        ungrouped_str =ungrouped_str[0:len(ungrouped_str) -2]\n",
        "        print(f\"Ungrouped: {ungrouped_str}\")\n",
        "\n",
        "print(\"///  Task 03: DUBER Fare Splitting  ///\")\n",
        "money = np.array([120, 100, 150, 50, 30])\n",
        "fare = 150\n",
        "print(f'Task 3:')\n",
        "find_groups(money, fare)  # This should print\n",
        "\n",
        "# Group 1 : 120, 30\n",
        "# Group 2 : 100, 50\n",
        "# Group 3 : 150\n",
        "\n",
        "money = np.array([60, 150, 60, 30, 120, 30])\n",
        "fare = 180\n",
        "print(f'Task 3:')\n",
        "find_groups(money, fare)  # This should print\n",
        "\n",
        "# Group 1 : 60, 120\n",
        "# Group 2 : 30, 150\n",
        "# Ungrouped : 30, 60\n",
        "\n",
        "print(\"///  Task 03: DUBER Fare Splitting  ///\")\n",
        "money = np.array([120, 100, 150, 50, 30])\n",
        "fare = 150\n",
        "print(f'Task 3:')\n",
        "find_groups(money, fare)  # This should print\n",
        "\n",
        "# Group 1 : 120, 30\n",
        "# Group 2 : 100, 50\n",
        "# Group 3 : 150\n",
        "\n",
        "money = np.array([60, 150, 60, 30, 120, 30])\n",
        "fare = 180\n",
        "print(f'Task 3:')\n",
        "find_groups(money, fare)  # This should print\n",
        "\n",
        "# Group 1 : 60, 120\n",
        "# Group 2 : 30, 150\n",
        "# Ungrouped : 30, 60"
      ]
    },
    {
      "cell_type": "code",
      "execution_count": null,
      "metadata": {
        "colab": {
          "base_uri": "https://localhost:8080/"
        },
        "id": "GIKRdOZboP9D",
        "outputId": "af925d0f-d87e-4fe3-b680-2da735751e52"
      },
      "outputs": [
        {
          "name": "stdout",
          "output_type": "stream",
          "text": [
            "///  Task 04: Get Those Hobbies  ///\n",
            "Task 4:\n",
            "\n",
            "Unique Activities in the Town:\n",
            "['Hiking' 'Reading' 'Photography' 'Cooking' 'Painting']\n",
            "\n",
            "Statistics:\n",
            "3participant(s) like(s) Hiking\n",
            "2participant(s) like(s) Reading\n",
            "2participant(s) like(s) Photography\n",
            "2participant(s) like(s) Cooking\n",
            "1participant(s) like(s) Painting\n",
            "\n",
            "Task 4:\n",
            "\n",
            "Unique Activities in the Town:\n",
            "['Gardening' 'Traveling' 'Singing' 'Painting']\n",
            "\n",
            "Statistics:\n",
            "2participant(s) like(s) Gardening\n",
            "1participant(s) like(s) Traveling\n",
            "1participant(s) like(s) Singing\n",
            "1participant(s) like(s) Painting\n"
          ]
        }
      ],
      "source": [
        "#Task 4:\n",
        "def analyzeHobbies(*participants): #(* arguments) is used for variable number of parameters\n",
        "  total_l = 0\n",
        "\n",
        "  for i in range(len(participants)):\n",
        "    total_l += participants[i].size\n",
        "  new_arr = np.full(total_l,\"asfljlaksfs\",dtype = None)\n",
        "\n",
        "  idx = 0\n",
        "  for i in range(len(participants)):\n",
        "    for j in range(participants[i].size):\n",
        "      new_arr[idx] = participants[i][j]\n",
        "      idx +=1\n",
        "\n",
        "  idx = 0\n",
        "  unique_arr = np.full(total_l,\"asfljlaksfs\",dtype = None)\n",
        "\n",
        "  for i in range(len(new_arr)):\n",
        "    if new_arr[i] not in unique_arr:\n",
        "      unique_arr[idx] = new_arr[i]\n",
        "      idx += 1\n",
        "\n",
        "  new_unique_arr = np.full(idx,\"asfljlaksfs\",dtype = None)\n",
        "\n",
        "  for i in range(len(new_unique_arr)):\n",
        "    new_unique_arr[i] = unique_arr[i]\n",
        "\n",
        "  print(f\"Unique Activities in the Town:\\n{new_unique_arr}\\n\")\n",
        "  print(\"Statistics:\")\n",
        "\n",
        "  for i in range(len(new_unique_arr)):\n",
        "    count = 0\n",
        "    for j in range(len(new_arr)):\n",
        "      if new_unique_arr[i] == new_arr[j]:\n",
        "        count+=1\n",
        "    print(f\"{count}participant(s) like(s) {new_unique_arr[i]}\")\n",
        "\n",
        "\n",
        "print(\"///  Task 04: Get Those Hobbies  ///\")\n",
        "participant_1 = np.array( [\"Hiking\", \"Reading\", \"Photography\", \"Cooking\"])\n",
        "participant_2 = np.array( [\"Reading\", \"Hiking\", \"Painting\"])\n",
        "participant_3 = np.array( [\"Hiking\", \"Cooking\", \"Photography\"])\n",
        "print(f'Task 4:')\n",
        "print()\n",
        "analyzeHobbies(participant_1, participant_2, participant_3) #This should print\n",
        "\n",
        "#Unique Activities in the Town:\n",
        "#['Photography', 'Painting', 'Cooking', 'Reading', 'Hiking']\n",
        "\n",
        "#Statistics:\n",
        "#3 participant(s) like(s) Hiking\n",
        "#2 participant(s) like(s) Reading\n",
        "#2 participant(s) like(s) Photography\n",
        "#2 participant(s) like(s) Cooking\n",
        "#1 participant(s) like(s) Painting\n",
        "\n",
        "\n",
        "\n",
        "participant_1 = np.array( [\"Gardening\", \"Traveling\"])\n",
        "participant_2 = np.array( [\"Singing\", \"Gardening\", \"Painting\"])\n",
        "print()\n",
        "print(f'Task 4:')\n",
        "print()\n",
        "analyzeHobbies(participant_1, participant_2) #This should print\n",
        "\n",
        "#Unique Activities in the Town:\n",
        "#[Gardening, Traveling, Singing, Painting]\n",
        "\n",
        "#Statistics:\n",
        "#2 participant(s) like(s) Gardening.\n",
        "#1 participant(s) like(s) Traveling.\n",
        "#1 participant(s) like(s) Singing.\n",
        "#1 participant(s) like(s) Painting."
      ]
    },
    {
      "cell_type": "code",
      "execution_count": 1,
      "metadata": {
        "colab": {
          "base_uri": "https://localhost:8080/"
        },
        "id": "ciJtwSxJok2l",
        "outputId": "012307d5-fce0-40ba-e653-ab80c9c8d5a8"
      },
      "outputs": [
        {
          "name": "stdout",
          "output_type": "stream",
          "text": [
            "The mean of the numbers is:  10.181818181818182\n",
            "The standard deviation is:  7.96\n",
            "New array:  [25 -5]\n"
          ]
        }
      ],
      "source": [
        "#Assignment part 1:\n",
        "\n",
        "import math\n",
        "import numpy as np\n",
        "\n",
        "def mean(a):\n",
        "  sum = 0\n",
        "  for x in a:\n",
        "    sum += x\n",
        "  return sum/(len(a))\n",
        "\n",
        "def SD(a):\n",
        "  m = mean(a)\n",
        "  s = 0\n",
        "  l = len(a)\n",
        "  for x in a:\n",
        "    s += (x-m)**2\n",
        "  return round(math.sqrt(s/(l-1)),2)\n",
        "\n",
        "def new(a):\n",
        "  m = mean(a)\n",
        "  sd = SD(a)\n",
        "  count = 0\n",
        "  for i in a:\n",
        "    sd_away = (i-m)/sd\n",
        "    if abs(sd_away) >= 1.5:\n",
        "      count +=1\n",
        "\n",
        "  if count == 0:\n",
        "    return None\n",
        "\n",
        "  newA = np.array([0]*count)\n",
        "  idx = 0\n",
        "  for x in a:\n",
        "    sd_away = (x-m)/sd\n",
        "    if abs(sd_away) >= 1.5:\n",
        "      newA[idx] = x\n",
        "      idx += 1\n",
        "\n",
        "  return newA\n",
        "\n",
        "a = np.array([10,8,13,9,14,25,-5,20,7,7,4])\n",
        "\n",
        "print(\"The mean of the numbers is: \",mean(a))\n",
        "print(\"The standard deviation is: \",SD(a))\n",
        "print(\"New array: \",new(a))"
      ]
    }
  ],
  "metadata": {
    "colab": {
      "provenance": []
    },
    "kernelspec": {
      "display_name": "Python 3",
      "name": "python3"
    },
    "language_info": {
      "codemirror_mode": {
        "name": "ipython",
        "version": 3
      },
      "file_extension": ".py",
      "mimetype": "text/x-python",
      "name": "python",
      "nbconvert_exporter": "python",
      "pygments_lexer": "ipython3",
      "version": "3.11.5"
    }
  },
  "nbformat": 4,
  "nbformat_minor": 0
}
