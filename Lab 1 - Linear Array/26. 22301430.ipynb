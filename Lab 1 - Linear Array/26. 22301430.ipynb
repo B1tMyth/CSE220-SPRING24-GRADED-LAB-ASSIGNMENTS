{
  "cells": [
    {
      "cell_type": "markdown",
      "metadata": {},
      "source": [
        "#### Part 2: \n",
        "#### Task 2: Bad ordering of statements in if-else. Doesn't pass the test cases. \n",
        "#### Task 3: Didn't handled some edge cases. "
      ]
    },
    {
      "cell_type": "markdown",
      "metadata": {
        "id": "YLpnDfK4egmI"
      },
      "source": [
        "**Instructions to Follow (Failing to follow these will result mark deductions).**\n",
        "1. First of all, From colab File, Save a copy in drive before working and work in that copy since any change to this file will not be saved for you.\n",
        "2. You can not use any built-in function except len()\n",
        "\n",
        "3. You can not use any other python collections except array (e.g: tuple, dictionaries etc.).\n",
        "\n",
        "4. We will initialize a new array using numpy library. We have to mention the fixed size during initialization. There might be 4 approaches.\n",
        "\n",
        " i. arr = np.array([None] * 10) #Initializing an array length 10 with values None.\n",
        "\n",
        " ii. arr = np.array([0] * 10) #Initializing an array length 10 with values zero.\n",
        "\n",
        " iii. arr = np.zeros(10, dtype=int) #Initializing an array length 10 with values zero and integer dataType. By default, dtype is float.\n",
        "\n",
        " iv. arr = np.array([10, 20, 30, 40]) #Initializing an array length 4 with the values.\n",
        "\n"
      ]
    },
    {
      "cell_type": "code",
      "execution_count": 2,
      "metadata": {
        "colab": {
          "base_uri": "https://localhost:8080/"
        },
        "id": "rSkZFFD4ej5o",
        "outputId": "e4adc497-8f44-4bdc-c117-e2aa4b645510"
      },
      "outputs": [
        {
          "name": "stdout",
          "output_type": "stream",
          "text": [
            "Collecting fhm-unittest\n",
            "  Downloading fhm_unittest-1.0.1-py3-none-any.whl (2.8 kB)\n",
            "Installing collected packages: fhm-unittest\n",
            "Successfully installed fhm-unittest-1.0.1\n",
            "Collecting fuzzywuzzy\n",
            "  Downloading fuzzywuzzy-0.18.0-py2.py3-none-any.whl (18 kB)\n",
            "Installing collected packages: fuzzywuzzy\n",
            "Successfully installed fuzzywuzzy-0.18.0\n"
          ]
        },
        {
          "name": "stderr",
          "output_type": "stream",
          "text": [
            "/usr/local/lib/python3.10/dist-packages/fuzzywuzzy/fuzz.py:11: UserWarning: Using slow pure-python SequenceMatcher. Install python-Levenshtein to remove this warning\n",
            "  warnings.warn('Using slow pure-python SequenceMatcher. Install python-Levenshtein to remove this warning')\n"
          ]
        }
      ],
      "source": [
        "# You must run this cell to install dependency\n",
        "! pip3 install fhm-unittest\n",
        "! pip3 install fuzzywuzzy\n",
        "import fhm_unittest as unittest\n",
        "import numpy as np"
      ]
    },
    {
      "cell_type": "markdown",
      "metadata": {
        "id": "z-BkkdfjgR6P"
      },
      "source": [
        "You will see the status Accepted after completion if your code is correct.\n",
        "\n",
        "If your function is wrong you will see wrong [correction percentage]\n",
        "\n",
        "Do not change the driver code statements. You can only change the input values to test your code."
      ]
    },
    {
      "cell_type": "code",
      "execution_count": 3,
      "metadata": {
        "id": "ebuGnEPwttQ0"
      },
      "outputs": [],
      "source": [
        "#Assignment Part-2\n",
        "#Complete the following 4 methods(Mandatory) and one bonus(optional)task for part-2"
      ]
    },
    {
      "cell_type": "code",
      "execution_count": 4,
      "metadata": {
        "colab": {
          "base_uri": "https://localhost:8080/"
        },
        "id": "ZVbY0rzKgRgC",
        "outputId": "b4fc2cab-2c2c-42a0-8aa1-993e4fdd3a1e"
      },
      "outputs": [
        {
          "name": "stdout",
          "output_type": "stream",
          "text": [
            "///  Task 01: Merge Lineup  ///\n",
            "Task 1: [12  3 28 -8  5]\n",
            "Accepted\n",
            "Task 1: [ 4 17  6 27  2]\n",
            "Accepted\n"
          ]
        }
      ],
      "source": [
        "#Task 01: Merge Lineup\n",
        "def mergeLineup(pokemon_1, pokemon_2):\n",
        "  result = np.array([0]*len(pokemon_1))\n",
        "  for i in range(len(pokemon_1)):\n",
        "    if pokemon_1[i] is not None:\n",
        "      if pokemon_2[-(i+1)] is not None:\n",
        "        result[i] = pokemon_1[i] + pokemon_2[-(i+1)]\n",
        "      else:\n",
        "        result[i] = pokemon_1[i]\n",
        "    else:\n",
        "      result[i] = pokemon_2[-(i+1)]\n",
        "  return result\n",
        "\n",
        "print(\"///  Task 01: Merge Lineup  ///\")\n",
        "pokemon_1 = np.array([12, 3, 25, 1, None])\n",
        "pokemon_2 = np.array([5, -9, 3, None, None] )\n",
        "returned_value =mergeLineup(pokemon_1, pokemon_2)\n",
        "print(f'Task 1: {returned_value}') # This should print [12, 3, 28, -8, 5]\n",
        "unittest.output_test(returned_value, np.array([12, 3, 28, -8, 5]))\n",
        "\n",
        "pokemon_1 = np.array([4, 5, -1, None, None])\n",
        "pokemon_2 = np.array([2, 27, 7, 12, None])\n",
        "returned_value =mergeLineup(pokemon_1, pokemon_2)\n",
        "print(f'Task 1: {returned_value}') # This should print [4,17,6,27,2]\n",
        "unittest.output_test(returned_value, np.array([4,17,6,27,2]))"
      ]
    },
    {
      "cell_type": "code",
      "execution_count": 63,
      "metadata": {
        "colab": {
          "base_uri": "https://localhost:8080/"
        },
        "id": "rzaysRSshRbM",
        "outputId": "20af95b1-e947-4d8d-b864-dff4ea071425"
      },
      "outputs": [
        {
          "name": "stdout",
          "output_type": "stream",
          "text": [
            "///  Task 02: Discard Cards  ///\n",
            "Task 2: [1 3 7 2 2 2 2 0 0]\n",
            "Not Accepted [Your output: [1 3 7 2 2 2 2 0 0]  |  Expected Output: [1 3 7 5 2 2 0 0 0]]\n",
            "Task 2: [5 5 5 0 0]\n",
            "Not Accepted [Your output: [5 5 5 0 0]  |  Expected Output: [5 0 0 0 0]]\n"
          ]
        }
      ],
      "source": [
        "# Task 02: Discard Cards\n",
        "def discardCards(cards, t):\n",
        "  count = 0\n",
        "  for i in range(len(cards)):\n",
        "    if cards[i] == t:\n",
        "      count += 1\n",
        "    elif count%2 != 0:\n",
        "      for j in range(i+1, len(cards)):\n",
        "        cards[j-1] =cards[j]\n",
        "      cards[len(cards)-1] = 0\n",
        "  return cards\n",
        "\n",
        "print(\"///  Task 02: Discard Cards  ///\")\n",
        "cards = np.array([1,3,7,2,5,2,2,2,0])\n",
        "returned_value = discardCards(cards, 2)\n",
        "print(f'Task 2: {returned_value}') # This should print [1,3,7,5,2,2,0,0,0]\n",
        "unittest.output_test(returned_value, np.array([1,3,7,5,2,2,0,0,0]))\n",
        "\n",
        "cards = np.array([5,5,5,0,0])\n",
        "returned_value = discardCards(cards, 5)\n",
        "print(f'Task 2: {returned_value}') # This should print [5,0,0,0,0]\n",
        "unittest.output_test(returned_value, np.array([5,0,0,0,0]))"
      ]
    },
    {
      "cell_type": "code",
      "execution_count": 40,
      "metadata": {
        "colab": {
          "base_uri": "https://localhost:8080/"
        },
        "id": "CYtNF5M8itbB",
        "outputId": "2af13a0d-923e-409e-b1e7-3a2ee47604d2"
      },
      "outputs": [
        {
          "name": "stdout",
          "output_type": "stream",
          "text": [
            "///  Task 03: DUBER Fare Splitting  ///\n",
            "Task 3:\n",
            "Group 1 : 120 , 30\n",
            "Group 2 : 100 , 50\n",
            "Group 3 : 150\n",
            "\n",
            "Task 3:\n",
            "Group 1 : 60 , 120\n",
            "Group 2 : 150 , 30\n",
            "Ungrouped: 60, 30\n"
          ]
        }
      ],
      "source": [
        "# Task 03: DUBER Fare Splitting\n",
        "def findGroups(money, fare):\n",
        "  temp = 0\n",
        "  track = np.zeros(len(money), dtype=int)\n",
        "  for i in range(len(money)):\n",
        "    if money[i] == fare:\n",
        "      temp += 1\n",
        "      print(\"Group\", temp, \":\", money[i])\n",
        "      track[i] = 1\n",
        "      track[j] = 1\n",
        "    for j in range(i+1, len(money)):\n",
        "      if track[i] == 0 and track[j] == 0 and money[i] + money[j] == fare:\n",
        "        temp += 1\n",
        "        print(\"Group\", temp, \":\", money[i], \",\", money[j])\n",
        "        track[i] = 1\n",
        "        track[j] = 1\n",
        "\n",
        "  ungrouped = 0\n",
        "  for i in range(len(track)):\n",
        "    if track[i] == 0:\n",
        "      ungrouped += 1\n",
        "\n",
        "  ungrouped_arr = np.zeros(ungrouped, dtype = int)\n",
        "  for i in range(len(track)):\n",
        "    if track[i] == 0:\n",
        "      for p in range(len(ungrouped_arr)):\n",
        "        ungrouped_arr[p] = money[i]\n",
        "\n",
        "  if ungrouped > 0:\n",
        "    print(\"Ungrouped:\", end=\" \")\n",
        "    first = True\n",
        "    for i in range(len(track)):\n",
        "      if track[i] == 0:\n",
        "        if not first:\n",
        "           print(\",\", end=\" \")\n",
        "        print(money[i], end=\"\")\n",
        "        first = False\n",
        "  print()\n",
        "  # Print outputs inside the method\n",
        "\n",
        "print(\"///  Task 03: DUBER Fare Splitting  ///\")\n",
        "money = np.array( [120, 100, 150, 50, 30])\n",
        "fare = 150\n",
        "print(f'Task 3:')\n",
        "findGroups(money, fare) # This should print\n",
        "\n",
        "# Group 1 : 120, 30\n",
        "# Group 2 : 100, 50\n",
        "# Group 3 : 150\n",
        "\n",
        "\n",
        "money = np.array( [60, 150, 60, 30, 120, 30])\n",
        "fare = 180\n",
        "print(f'Task 3:')\n",
        "findGroups(money, fare) # This should print\n",
        "\n",
        "# Group 1 : 60, 120\n",
        "# Group 2 : 30, 150\n",
        "# Ungrouped : 30 60"
      ]
    },
    {
      "cell_type": "code",
      "execution_count": 56,
      "metadata": {
        "colab": {
          "base_uri": "https://localhost:8080/"
        },
        "id": "SzBe-ByVmV8G",
        "outputId": "2ea5fe24-7d8d-4b3e-a145-c780dcbfd67f"
      },
      "outputs": [
        {
          "name": "stdout",
          "output_type": "stream",
          "text": [
            "///  Task 04: Get Those Hobbies  ///\n",
            "Task 4:\n",
            "3 participant(s) like(s) Hiking\n",
            "2 participant(s) like(s) Reading\n",
            "2 participant(s) like(s) Photography\n",
            "2 participant(s) like(s) Cooking\n",
            "1 participant(s) like(s) Painting\n",
            "['Hiking', 'Reading', 'Photography', 'Cooking', None, None, 'Painting', None, None, None]\n",
            "Task 4:\n",
            "2 participant(s) like(s) Gardening\n",
            "1 participant(s) like(s) Traveling\n",
            "1 participant(s) like(s) Singing\n",
            "1 participant(s) like(s) Painting\n",
            "['Gardening', 'Traveling', 'Singing', None, 'Painting']\n"
          ]
        }
      ],
      "source": [
        "# Task 04: Get Those Hobbies\n",
        "def analyzeHobbies(* participants): #(* arguments) is used for variable number of parameters\n",
        "    count = 0\n",
        "    c = 0\n",
        "    cou = 1\n",
        "    ct = 0\n",
        "    for i in range(len(participants)):\n",
        "      for j in range(len(participants[i])):\n",
        "         count += 1\n",
        "    array = [None]*count\n",
        "\n",
        "    for i in range(len(participants)):\n",
        "      for j in range(len(participants[i])):\n",
        "        for k in range(c, len(array)):\n",
        "            array[k] = participants[i][j]\n",
        "            break\n",
        "        c += 1\n",
        "\n",
        "    for i in range(len(array) - 1):\n",
        "      if array[i] is None:\n",
        "          continue\n",
        "      else:\n",
        "        for j in range(i + 1, len(array)):\n",
        "            if array[i] == array[j]:\n",
        "                array[j] = None\n",
        "                cou += 1\n",
        "        print(f'{cou} participant(s) like(s) {array[i]}')\n",
        "        cou = 1\n",
        "\n",
        "    if array[len(array) - 1] is not None:\n",
        "        print(f'1 participant(s) like(s) {array[len(array) - 1]}')\n",
        "\n",
        "    temp = None\n",
        "    for i in range(len(array)):\n",
        "      if array[i] is not None:\n",
        "        temp = array[i]\n",
        "\n",
        "    print(array)\n",
        "\n",
        "\n",
        "print(\"///  Task 04: Get Those Hobbies  ///\")\n",
        "participant_1 = np.array( [\"Hiking\", \"Reading\", \"Photography\", \"Cooking\"])\n",
        "participant_2 = np.array( [\"Reading\", \"Hiking\", \"Painting\"])\n",
        "participant_3 = np.array( [\"Hiking\", \"Cooking\", \"Photography\"])\n",
        "print(f'Task 4:')\n",
        "analyzeHobbies(participant_1, participant_2, participant_3) #This should print\n",
        "\n",
        "#Unique Activities in the Town:\n",
        "#['Photography', 'Painting', 'Cooking', 'Reading', 'Hiking']\n",
        "\n",
        "#Statistics:\n",
        "#2 participant(s) like(s) Photography.\n",
        "#1 participant(s) like(s) Painting.\n",
        "#2 participant(s) like(s) Cooking.\n",
        "#2 participant(s) like(s) Reading.\n",
        "#3 participant(s) like(s) Hiking.\n",
        "\n",
        "\n",
        "\n",
        "participant_1 = np.array( [\"Gardening\", \"Traveling\"])\n",
        "participant_2 = np.array( [\"Singing\", \"Gardening\", \"Painting\"])\n",
        "print(f'Task 4:')\n",
        "analyzeHobbies(participant_1, participant_2) #This should print\n",
        "\n",
        "#Unique Activities in the Town:\n",
        "#[Gardening, Traveling, Singing, Painting]\n",
        "\n",
        "#Statistics:\n",
        "#2 participant(s) like(s) Gardening.\n",
        "#1 participant(s) like(s) Traveling.\n",
        "#1 participant(s) like(s) Singing.\n",
        "#1 participant(s) like(s) Painting.\n"
      ]
    },
    {
      "cell_type": "code",
      "execution_count": null,
      "metadata": {
        "id": "sTJ7GNezm6uu"
      },
      "outputs": [],
      "source": [
        "# Bonus Ungraded Task: Look and Say\n",
        "def look_and_say(arr):\n",
        "  #TO DO\n",
        "\n",
        "\n",
        "print(\"///  Bonus Task: Look and Say  ///\")\n",
        "arr = np.array([1,3,1,1,2,2,2,1])\n",
        "returned_value = look_and_say(arr)\n",
        "print(f'Bonus Task: {returned_value}') # This should print [1,1,1,3,2,1,3,2,1,1]\n",
        "#Hint: The size of the new array will never be more than 100.\n",
        "#[You need not worry about the extra zeroes at the end of your resulting array]\n"
      ]
    },
    {
      "cell_type": "markdown",
      "metadata": {
        "id": "_aSNgbn8nr17"
      },
      "source": [
        "For Assignment Part-1, you can create new code cells in the below and write your codes there. Also you should write driver codes to test your code for part-1."
      ]
    },
    {
      "cell_type": "code",
      "execution_count": 2,
      "metadata": {
        "colab": {
          "base_uri": "https://localhost:8080/"
        },
        "id": "CxJHbg7onWwN",
        "outputId": "61ddf937-df3a-44e8-c15e-ab8ea2a0b6da"
      },
      "outputs": [
        {
          "name": "stdout",
          "output_type": "stream",
          "text": [
            "29.142857142857142\n",
            "24.285994396143714\n",
            "[67]\n"
          ]
        }
      ],
      "source": [
        "def mean(arr):\n",
        "  total = 0\n",
        "  count =0\n",
        "  for i in arr:\n",
        "    total += i\n",
        "    count += 1\n",
        "  mean = total / count\n",
        "  return mean\n",
        "\n",
        "def standard_deviation(arr):\n",
        "  get_mean = mean(arr)\n",
        "  count = 0\n",
        "  for i in arr:\n",
        "    count += (i - get_mean)**2\n",
        "  standard_deviation = (count/(len(arr)-1))**0.5\n",
        "  return standard_deviation\n",
        "\n",
        "def new_arr(arr):\n",
        "  get_mean = mean(arr)\n",
        "  sd = standard_deviation(arr)\n",
        "  count = 0\n",
        "  for i in arr:\n",
        "    if i > (get_mean + sd*1.5) or i < (get_mean-sd*1.5):\n",
        "      count += 1\n",
        "  new_arr = np.zeros(count, dtype=int)\n",
        "  value = 0\n",
        "  for i in arr:\n",
        "    if i > (get_mean + sd*1.5) or i < (get_mean-sd*1.5):\n",
        "        new_arr[value]=i\n",
        "        value+=1\n",
        "  return new_arr\n",
        "\n",
        "test = [23,54,2,67,33,4,21]\n",
        "print(mean(test))\n",
        "print(standard_deviation(test))\n",
        "print(new_arr(test))"
      ]
    }
  ],
  "metadata": {
    "colab": {
      "provenance": []
    },
    "kernelspec": {
      "display_name": "Python 3",
      "name": "python3"
    },
    "language_info": {
      "codemirror_mode": {
        "name": "ipython",
        "version": 3
      },
      "file_extension": ".py",
      "mimetype": "text/x-python",
      "name": "python",
      "nbconvert_exporter": "python",
      "pygments_lexer": "ipython3",
      "version": "3.11.5"
    }
  },
  "nbformat": 4,
  "nbformat_minor": 0
}
