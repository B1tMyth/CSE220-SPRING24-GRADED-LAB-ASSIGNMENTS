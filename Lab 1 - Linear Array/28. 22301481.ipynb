{
  "cells": [
    {
      "cell_type": "markdown",
      "metadata": {},
      "source": [
        "#### Part 1: Partially complete. \n",
        "#### Part 2: \n",
        "#### Task 2: Wrong implementation of the alternation logic. \n",
        "#### Task 3: Missed handling some edge cases. \n",
        "#### Task 4: Incomplete"
      ]
    },
    {
      "cell_type": "markdown",
      "metadata": {
        "id": "YLpnDfK4egmI"
      },
      "source": [
        "**Instructions to Follow (Failing to follow these will result mark deductions).**\n",
        "1. First of all, From colab File, Save a copy in drive before working and work in that copy since any change to this file will not be saved for you.\n",
        "2. You can not use any built-in function except len()\n",
        "\n",
        "3. You can not use any other python collections except array (e.g: tuple, dictionaries etc.).\n",
        "\n",
        "4. We will initialize a new array using numpy library. We have to mention the fixed size during initialization. There might be 4 approaches.\n",
        "\n",
        " i. arr = np.array([None] * 10) #Initializing an array length 10 with values None.\n",
        "\n",
        " ii. arr = np.array([0] * 10) #Initializing an array length 10 with values zero.\n",
        "\n",
        " iii. arr = np.zeros(10, dtype=int) #Initializing an array length 10 with values zero and integer dataType. By default, dtype is float.\n",
        "\n",
        " iv. arr = np.array([10, 20, 30, 40]) #Initializing an array length 4 with the values.\n",
        "\n"
      ]
    },
    {
      "cell_type": "code",
      "execution_count": 34,
      "metadata": {
        "colab": {
          "base_uri": "https://localhost:8080/"
        },
        "id": "rSkZFFD4ej5o",
        "outputId": "7368a39a-622e-4680-c095-32b1fc714b27"
      },
      "outputs": [
        {
          "name": "stdout",
          "output_type": "stream",
          "text": [
            "Requirement already satisfied: fhm-unittest in /usr/local/lib/python3.10/dist-packages (1.0.1)\n",
            "Requirement already satisfied: fuzzywuzzy in /usr/local/lib/python3.10/dist-packages (0.18.0)\n"
          ]
        }
      ],
      "source": [
        "# You must run this cell to install dependency\n",
        "! pip3 install fhm-unittest\n",
        "! pip3 install fuzzywuzzy\n",
        "import fhm_unittest as unittest\n",
        "import numpy as np"
      ]
    },
    {
      "cell_type": "markdown",
      "metadata": {
        "id": "z-BkkdfjgR6P"
      },
      "source": [
        "You will see the status Accepted after completion if your code is correct.\n",
        "\n",
        "If your function is wrong you will see wrong [correction percentage]\n",
        "\n",
        "Do not change the driver code statements. You can only change the input values to test your code."
      ]
    },
    {
      "cell_type": "code",
      "execution_count": null,
      "metadata": {
        "id": "ebuGnEPwttQ0"
      },
      "outputs": [],
      "source": [
        "#Assignment Part-2\n",
        "#Complete the following 4 methods(Mandatory) and one bonus(optional)task for part-2"
      ]
    },
    {
      "cell_type": "code",
      "execution_count": null,
      "metadata": {
        "colab": {
          "base_uri": "https://localhost:8080/"
        },
        "id": "ZVbY0rzKgRgC",
        "outputId": "c09ca189-3356-4b65-9b0f-10107cb35cfa"
      },
      "outputs": [
        {
          "name": "stdout",
          "output_type": "stream",
          "text": [
            "///  Task 01: Merge Lineup  ///\n",
            "Task 1: [12  3 28 -8  5]\n",
            "Accepted\n",
            "Task 1: [ 4 17  6 27  2]\n",
            "Accepted\n"
          ]
        }
      ],
      "source": [
        "#Task 01: Merge Lineup\n",
        "def mergeLineup(pokemon_1, pokemon_2):\n",
        "  result = np.array([0]*len(pokemon_1))\n",
        "  length1=len(pokemon_1)\n",
        "  length2=len(pokemon_2)-1\n",
        "  for i in range(length1):\n",
        "    if pokemon_1[i]== None and pokemon_2[length2-i]!= None:\n",
        "      el= 0 + pokemon_2[length2-i]\n",
        "    elif pokemon_2[length2-i]==None and  pokemon_1[i]!= None:\n",
        "      el=pokemon_1[i] + 0\n",
        "    else:\n",
        "      el=pokemon_1[i]+pokemon_2[length2-i]\n",
        "    result[i]=el\n",
        "  return result\n",
        "\n",
        "print(\"///  Task 01: Merge Lineup  ///\")\n",
        "pokemon_1 = np.array([12, 3, 25, 1, None])\n",
        "pokemon_2 = np.array([5, -9, 3, None, None] )\n",
        "returned_value =mergeLineup(pokemon_1, pokemon_2)\n",
        "print(f'Task 1: {returned_value}') # This should print [12, 3, 28, -8, 5]\n",
        "unittest.output_test(returned_value, np.array([12, 3, 28, -8, 5]))\n",
        "\n",
        "pokemon_1 = np.array([4, 5, -1, None, None])\n",
        "pokemon_2 = np.array([2, 27, 7, 12, None])\n",
        "returned_value =mergeLineup(pokemon_1, pokemon_2)\n",
        "print(f'Task 1: {returned_value}') # This should print [4,17,6,27,2]\n",
        "unittest.output_test(returned_value, np.array([4,17,6,27,2]))"
      ]
    },
    {
      "cell_type": "code",
      "execution_count": null,
      "metadata": {
        "colab": {
          "base_uri": "https://localhost:8080/"
        },
        "id": "rzaysRSshRbM",
        "outputId": "aed2e286-cf4e-400f-a92a-48d219f61193"
      },
      "outputs": [
        {
          "name": "stdout",
          "output_type": "stream",
          "text": [
            "///  Task 02: Discard Cards  ///\n",
            "Task 2: [1 3 7 2 5 2 2 0 0]\n",
            "Not Accepted [Your output: [1 3 7 2 5 2 2 0 0]  |  Expected Output: [1 3 7 5 2 2 0 0 0]]\n",
            "Task 2: [5 0 0 0 0]\n",
            "Accepted\n"
          ]
        }
      ],
      "source": [
        "# Task 02: Discard Cards\n",
        "def discardCards(cards, t):\n",
        "  count=0\n",
        "  i=0\n",
        "  for i in range(len(cards)):\n",
        "    if cards[i]==t and count%2==0:\n",
        "      cards[i]=0\n",
        "      for j in range(i+1, len(cards)):\n",
        "        cards[j-1]=cards[j]\n",
        "        cards[j]=0\n",
        "      if cards[i]==t:\n",
        "         count+=1\n",
        "    count+=1\n",
        "  return cards\n",
        "\n",
        "\n",
        "print(\"///  Task 02: Discard Cards  ///\")\n",
        "cards = np.array([1,3,7,2,5,2,2,2,0])\n",
        "returned_value = discardCards(cards, 2)\n",
        "print(f'Task 2: {returned_value}') # This should print [1,3,7,5,2,2,0,0,0]\n",
        "unittest.output_test(returned_value, np.array([1,3,7,5,2,2,0,0,0]))\n",
        "\n",
        "cards = np.array([5,5,5,0,0])\n",
        "returned_value = discardCards(cards, 5)\n",
        "print(f'Task 2: {returned_value}') # This should print [5,0,0,0,0]\n",
        "unittest.output_test(returned_value, np.array([5,0,0,0,0]))"
      ]
    },
    {
      "cell_type": "code",
      "execution_count": null,
      "metadata": {
        "colab": {
          "base_uri": "https://localhost:8080/"
        },
        "id": "CYtNF5M8itbB",
        "outputId": "5db442fe-5b0f-4a36-a8cc-5474adcffdf3"
      },
      "outputs": [
        {
          "name": "stdout",
          "output_type": "stream",
          "text": [
            "///  Task 03: DUBER Fare Splitting  ///\n",
            "Task 3:\n",
            "Group 1 : 120, 30\n",
            "Group 2 : 100, 50\n",
            "Group 3 : 150\n",
            "Task 3:\n",
            "Group 1 : 60, 120\n",
            "Group 2 : 150, 30\n",
            "Ungrouped : 60 30 \n"
          ]
        }
      ],
      "source": [
        "# Task 03: DUBER Fare Splitting\n",
        "def findGroups(money, fare):\n",
        "  gc=0\n",
        "  for i in range(len(money)):\n",
        "    if money[i]!=fare:\n",
        "      fn=fare-money[i]\n",
        "      for j in range(i+1,len(money)):\n",
        "        if fn!=money[j]:\n",
        "          pass\n",
        "        elif fn==money[j]:\n",
        "          gc+=1\n",
        "          print(f\"Group {gc} : {money[i]}, {money[j]}\")\n",
        "          money[i],money[j]=0,0\n",
        "          break\n",
        "\n",
        "    elif money[i]==fare:\n",
        "      gc+=1\n",
        "      print(f\"Group {gc} : {fare}\")\n",
        "      money[i]=0\n",
        "  ug_out=\"\"\n",
        "  for i in range(len(money)):\n",
        "    if money[i]>0 and money[i]<fare:\n",
        "      ug_out+=str(money[i])+\" \"\n",
        "\n",
        "  if ug_out!=\"\":\n",
        "    print(f\"Ungrouped : {ug_out}\")\n",
        "\n",
        "\n",
        "print(\"///  Task 03: DUBER Fare Splitting  ///\")\n",
        "money = np.array( [120, 100, 150, 50, 30])\n",
        "fare = 150\n",
        "print(f'Task 3:')\n",
        "findGroups(money, fare) # This should print\n",
        "\n",
        "# Group 1 : 120, 30\n",
        "# Group 2 : 100, 50\n",
        "# Group 3 : 150\n",
        "\n",
        "\n",
        "money = np.array( [60, 150, 60, 30, 120, 30])\n",
        "fare = 180\n",
        "print(f'Task 3:')\n",
        "findGroups(money, fare) # This should print\n",
        "\n",
        "# Group 1 : 60, 120\n",
        "# Group 2 : 30, 150\n",
        "# Ungrouped : 30 60"
      ]
    },
    {
      "cell_type": "code",
      "execution_count": null,
      "metadata": {
        "id": "SzBe-ByVmV8G"
      },
      "outputs": [],
      "source": [
        "# Task 04: Get Those Hobbies\n",
        "def analyzeHobbies(* participants): #(* arguments) is used for variable number of parameters\n",
        "  t_h=0\n",
        "  for i in participants:\n",
        "    t_h+=1\n",
        "  u_array=np.zeros(t_h, dtype=int)\n",
        "  l=0\n",
        "  for k in range(len(participants)):\n",
        "    for m in participants[k]:\n",
        "      if p!=u_array:\n",
        "        u_array[l]=m\n",
        "        l+=1\n",
        "    for x in range(len(participants)):\n",
        "\n",
        "\n",
        "\n",
        "\n",
        "\n",
        "\n",
        "\n",
        "print(\"///  Task 04: Get Those Hobbies  ///\")\n",
        "participant_1 = np.array( [\"Hiking\", \"Reading\", \"Photography\", \"Cooking\"])\n",
        "participant_2 = np.array( [\"Reading\", \"Hiking\", \"Painting\"])\n",
        "participant_3 = np.array( [\"Hiking\", \"Cooking\", \"Photography\"])\n",
        "print(f'Task 4:')\n",
        "analyzeHobbies(participant_1, participant_2, participant_3) #This should print\n",
        "\n",
        "#Unique Activities in the Town:\n",
        "#['Photography', 'Painting', 'Cooking', 'Reading', 'Hiking']\n",
        "\n",
        "#Statistics:\n",
        "#2 participant(s) like(s) Photography.\n",
        "#1 participant(s) like(s) Painting.\n",
        "#2 participant(s) like(s) Cooking.\n",
        "#2 participant(s) like(s) Reading.\n",
        "#3 participant(s) like(s) Hiking.\n",
        "\n",
        "\n",
        "\n",
        "participant_1 = np.array( [\"Gardening\", \"Traveling\"])\n",
        "participant_2 = np.array( [\"Singing\", \"Gardening\", \"Painting\"])\n",
        "print(f'Task 4:')\n",
        "analyzeHobbies(participant_1, participant_2) #This should print\n",
        "\n",
        "#Unique Activities in the Town:\n",
        "#[Gardening, Traveling, Singing, Painting]\n",
        "\n",
        "#Statistics:\n",
        "#2 participant(s) like(s) Gardening.\n",
        "#1 participant(s) like(s) Traveling.\n",
        "#1 participant(s) like(s) Singing.\n",
        "#1 participant(s) like(s) Painting.\n"
      ]
    },
    {
      "cell_type": "code",
      "execution_count": null,
      "metadata": {
        "id": "sTJ7GNezm6uu"
      },
      "outputs": [],
      "source": [
        "# Bonus Ungraded Task: Look and Say\n",
        "def look_and_say(arr):\n",
        "  #TO DO\n",
        "\n",
        "\n",
        "print(\"///  Bonus Task: Look and Say  ///\")\n",
        "arr = np.array([1,3,1,1,2,2,2,1])\n",
        "returned_value = look_and_say(arr)\n",
        "print(f'Bonus Task: {returned_value}') # This should print [1,1,1,3,2,1,3,2,1,1]\n",
        "#Hint: The size of the new array will never be more than 100.\n",
        "#[You need not worry about the extra zeroes at the end of your resulting array]\n"
      ]
    },
    {
      "cell_type": "markdown",
      "metadata": {
        "id": "_aSNgbn8nr17"
      },
      "source": [
        "For Assignment Part-1, you can create new code cells in the below and write your codes there. Also you should write driver codes to test your code for part-1."
      ]
    },
    {
      "cell_type": "code",
      "execution_count": null,
      "metadata": {
        "id": "CxJHbg7onWwN"
      },
      "outputs": [],
      "source": [
        "#Assignment Part-1\n",
        "#Write 3 methods and driver codes for this part."
      ]
    },
    {
      "cell_type": "code",
      "execution_count": 36,
      "metadata": {
        "colab": {
          "base_uri": "https://localhost:8080/"
        },
        "id": "s-dXmnPUuJqu",
        "outputId": "ce1d653b-4d25-4db6-d6a3-3cd9d617f6f3"
      },
      "outputs": [
        {
          "name": "stdout",
          "output_type": "stream",
          "text": [
            "The mean of the numbers is: 10.181818181818182\n",
            "The standard deviation is: 7.960127911260996\n"
          ]
        }
      ],
      "source": [
        "import numpy as np\n",
        "def meanCalculation(a):\n",
        "  t1=0\n",
        "  c1=0\n",
        "  mean=0\n",
        "  for i in range(len(a)):\n",
        "    t1+=a[i]\n",
        "    c1+=1\n",
        "    mean=t1/c1\n",
        "  return mean\n",
        "array1=np.array([10, 8, 13, 9, 14, 25, -5, 20, 7, 7, 4])\n",
        "m=meanCalculation(array1)\n",
        "def standardDeviation(b):\n",
        "  t2=0\n",
        "  c2=0\n",
        "  for i in range(len(b)):\n",
        "    t2+=((b[i]-m)**2)\n",
        "    c2+=1\n",
        "  std_dev=(t2/(c2-1))**(1/2)\n",
        "  return std_dev\n",
        "stdDev=standardDeviation(array1)\n",
        "print(f\"The mean of the numbers is: {m}\\nThe standard deviation is: {stdDev}\")\n",
        "\n"
      ]
    },
    {
      "cell_type": "code",
      "execution_count": null,
      "metadata": {
        "id": "dPNvUeF70Ou-"
      },
      "outputs": [],
      "source": []
    }
  ],
  "metadata": {
    "colab": {
      "provenance": []
    },
    "kernelspec": {
      "display_name": "Python 3",
      "name": "python3"
    },
    "language_info": {
      "name": "python"
    }
  },
  "nbformat": 4,
  "nbformat_minor": 0
}
