{
  "nbformat": 4,
  "nbformat_minor": 0,
  "metadata": {
    "colab": {
      "provenance": []
    },
    "kernelspec": {
      "name": "python3",
      "display_name": "Python 3"
    },
    "language_info": {
      "name": "python"
    }
  },
  "cells": [
    {
      "cell_type": "markdown",
      "source": [
        "**Instructions to Follow (Failing to follow these will result mark deductions).**\n",
        "1. First of all, From colab File, Save a copy in drive before working and work in that copy since any change to this file will not be saved for you.\n",
        "2. You can not use any built-in function except len()\n",
        "\n",
        "3. You can not use any other python collections except array (e.g: tuple, dictionaries etc.).\n",
        "\n",
        "4. We will initialize a new array using numpy library. We have to mention the fixed size during initialization. There might be 4 approaches.\n",
        "\n",
        " i. arr = np.array([None] * 10) #Initializing an array length 10 with values None.\n",
        "\n",
        " ii. arr = np.array([0] * 10) #Initializing an array length 10 with values zero.\n",
        "\n",
        " iii. arr = np.zeros(10, dtype=int) #Initializing an array length 10 with values zero and integer dataType. By default, dtype is float.\n",
        "\n",
        " iv. arr = np.array([10, 20, 30, 40]) #Initializing an array length 4 with the values.\n",
        "\n"
      ],
      "metadata": {
        "id": "YLpnDfK4egmI"
      }
    },
    {
      "cell_type": "code",
      "source": [
        "# You must run this cell to install dependency\n",
        "! pip3 install fhm-unittest\n",
        "! pip3 install fuzzywuzzy\n",
        "import fhm_unittest as unittest\n",
        "import numpy as np"
      ],
      "metadata": {
        "id": "rSkZFFD4ej5o",
        "colab": {
          "base_uri": "https://localhost:8080/"
        },
        "outputId": "564d166e-a92b-4879-a718-1cefcbcbef6c"
      },
      "execution_count": 2,
      "outputs": [
        {
          "output_type": "stream",
          "name": "stdout",
          "text": [
            "Collecting fhm-unittest\n",
            "  Downloading fhm_unittest-1.0.1-py3-none-any.whl (2.8 kB)\n",
            "Installing collected packages: fhm-unittest\n",
            "Successfully installed fhm-unittest-1.0.1\n",
            "Collecting fuzzywuzzy\n",
            "  Downloading fuzzywuzzy-0.18.0-py2.py3-none-any.whl (18 kB)\n",
            "Installing collected packages: fuzzywuzzy\n",
            "Successfully installed fuzzywuzzy-0.18.0\n"
          ]
        },
        {
          "output_type": "stream",
          "name": "stderr",
          "text": [
            "/usr/local/lib/python3.10/dist-packages/fuzzywuzzy/fuzz.py:11: UserWarning: Using slow pure-python SequenceMatcher. Install python-Levenshtein to remove this warning\n",
            "  warnings.warn('Using slow pure-python SequenceMatcher. Install python-Levenshtein to remove this warning')\n"
          ]
        }
      ]
    },
    {
      "cell_type": "markdown",
      "source": [
        "# **`PART 1 TASK 1`**"
      ],
      "metadata": {
        "id": "_aSNgbn8nr17"
      }
    },
    {
      "cell_type": "code",
      "source": [
        "#Assignment Part-1\n",
        "#Write 3 methods and driver codes for this part.\n",
        "import math\n",
        "class summathidk:\n",
        "  def __init__(self,array):\n",
        "    self.sumlist = array\n",
        "\n",
        "  def mean(self):\n",
        "    sum = 0\n",
        "    self.mean = 0\n",
        "    for i in self.sumlist:\n",
        "      sum+=i\n",
        "    self.mean = sum/len(self.sumlist)\n",
        "    return self.mean\n",
        "\n",
        "  def standard_deviation(self):\n",
        "    sum_of_standev = 0\n",
        "    for i in self.sumlist:\n",
        "      sum_of_standev+=(i-self.mean)**2\n",
        "    self.sd = math.sqrt((sum_of_standev/(len(self.sumlist)-1)))\n",
        "    sd = format(self.sd,\".2f\")\n",
        "    return sd\n",
        "\n",
        "  def close_number(self):\n",
        "    new = np.zeros(len(self.sumlist), dtype=int)\n",
        "    count = 0\n",
        "    close_number1 = self.mean + 1.5*self.sd\n",
        "    close_number2 = self.mean - 1.5*self.sd\n",
        "    for i in range(len(self.sumlist)):\n",
        "      if self.sumlist[i] >close_number1:\n",
        "        new[count] = self.sumlist[i]\n",
        "        count+=1\n",
        "      if self.sumlist[i] <close_number2:\n",
        "        new[count] = self.sumlist[i]\n",
        "        count+=1\n",
        "    new1 = np.zeros(count, dtype=int)\n",
        "    for i in range(len(new1)):\n",
        "      new1[i]=new[i]\n",
        "    return new1\n",
        "\n",
        "nums = np.array([10, 8, 13, 9, 14, 25, -5, 20, 7, 7, 4])\n",
        "a1 = summathidk(nums)\n",
        "print(a1.mean())\n",
        "print(a1.standard_deviation())\n",
        "print(a1.close_number())\n"
      ],
      "metadata": {
        "id": "CxJHbg7onWwN",
        "colab": {
          "base_uri": "https://localhost:8080/"
        },
        "outputId": "93f9cc7d-ccbe-40ce-fd4f-b00111ee0fe6"
      },
      "execution_count": 17,
      "outputs": [
        {
          "output_type": "stream",
          "name": "stdout",
          "text": [
            "10.181818181818182\n",
            "7.96\n",
            "[25 -5]\n"
          ]
        }
      ]
    },
    {
      "cell_type": "markdown",
      "source": [
        "You will see the status Accepted after completion if your code is correct.\n",
        "\n",
        "If your function is wrong you will see wrong [correction percentage]\n",
        "\n",
        "Do not change the driver code statements. You can only change the input values to test your code."
      ],
      "metadata": {
        "id": "z-BkkdfjgR6P"
      }
    },
    {
      "cell_type": "markdown",
      "source": [
        "# `**PART 2 Task 1**`"
      ],
      "metadata": {
        "id": "AG47WbixMU25"
      }
    },
    {
      "cell_type": "code",
      "source": [
        "#Task 01: Merge Lineup\n",
        "def mergeLineup(pokemon_1, pokemon_2):\n",
        "  pokemon_1[pokemon_1== None]=0\n",
        "  pokemon_2[pokemon_2== None]=0\n",
        "\n",
        "  print(pokemon_1, pokemon_2)\n",
        "  for x in range(len(pokemon_1)):\n",
        "   pokemon_1[x]= pokemon_1[x]+ pokemon_2[len(pokemon_2)-x-1]\n",
        "  return pokemon_1\n",
        "\n",
        "\n",
        "print(\"///  Task 01: Merge Lineup  ///\")\n",
        "pokemon_1 = np.array([12, 3, 25, 1, None])\n",
        "pokemon_2 = np.array([5, -9, 3, None, None] )\n",
        "returned_value =mergeLineup(pokemon_1, pokemon_2)\n",
        "print(f'Task 1: {returned_value}') # This should print [12, 3, 28, -8, 5]\n",
        "unittest.output_test(returned_value, np.array([12,3,28,-8,5]))\n",
        "\n",
        "pokemon_1 = np.array([4, 5, -1, None, None])\n",
        "pokemon_2 = np.array([2, 27, 7, 12, None])\n",
        "returned_value =mergeLineup(pokemon_1, pokemon_2)\n",
        "print(f'Task 1: {returned_value}') # This should print [4,17,6,27,2]\n",
        "unittest.output_test(returned_value, np.array([4,17,6,27,2]))"
      ],
      "metadata": {
        "id": "ZVbY0rzKgRgC",
        "colab": {
          "base_uri": "https://localhost:8080/"
        },
        "outputId": "6c174e6a-3ab7-4cdc-c21c-135a57db2722"
      },
      "execution_count": null,
      "outputs": [
        {
          "output_type": "stream",
          "name": "stdout",
          "text": [
            "///  Task 01: Merge Lineup  ///\n",
            "[12 3 25 1 0] [5 -9 3 0 0]\n",
            "Task 1: [12 3 28 -8 5]\n",
            "Not Accepted [Your output: [12 3 28 -8 5]  |  Expected Output: [12  3 28 -8  5]]\n",
            "[4 5 -1 0 0] [2 27 7 12 0]\n",
            "Task 1: [4 17 6 27 2]\n",
            "Not Accepted [Your output: [4 17 6 27 2]  |  Expected Output: [ 4 17  6 27  2]]\n"
          ]
        }
      ]
    },
    {
      "cell_type": "code",
      "source": [
        "def analyzeHobbies(*participants):\n",
        "\n",
        "\n",
        "cards = np.array([1,3,7,2,5,2,2,2,0])\n",
        "returned_value = discardCards(cards, 2)"
      ],
      "metadata": {
        "colab": {
          "base_uri": "https://localhost:8080/"
        },
        "id": "qud0Bg9umH_d",
        "outputId": "cce6f76d-541e-4271-e234-b28c69eebeec"
      },
      "execution_count": null,
      "outputs": [
        {
          "output_type": "stream",
          "name": "stdout",
          "text": [
            "[1 3 7 0 5 2 0 2 0]\n",
            "[1 3 7 5 2 2 0 0 0]\n"
          ]
        }
      ]
    },
    {
      "cell_type": "code",
      "source": [
        "# Task 02: Discard Cards\n",
        "def discardCards(cards, t):\n",
        "  count=0\n",
        "  for i in range(len(cards)):\n",
        "    if cards[i]==t:\n",
        "     if count%2==0:\n",
        "      cards[i]=0\n",
        "     count+=1\n",
        "\n",
        "  newarray= np.array([0]*len(cards), dtype=int)\n",
        "  j=0\n",
        "  for i in range(len(cards)):\n",
        "    if cards[i]!=0:\n",
        "      newarray[j]=cards[i]\n",
        "      j+=1\n",
        "  return newarray\n",
        "\n",
        "print(\"///  Task 02: Discard Cards  ///\")\n",
        "cards = np.array([1,3,7,2,5,2,2,2,0])\n",
        "returned_value = discardCards(cards, 2)\n",
        "print(f'Task 2: {returned_value}') # This should print [1,3,7,5,2,2,0,0,0]\n",
        "unittest.output_test(returned_value, np.array([1,3,7,5,2,2,0,0,0]))\n",
        "\n",
        "cards = np.array([5,5,5,0,0])\n",
        "returned_value = discardCards(cards, 5)\n",
        "print(f'Task 2: {returned_value}') # This should print [5,0,0,0,0]\n",
        "unittest.output_test(returned_value, np.array([5,0,0,0,0]))"
      ],
      "metadata": {
        "id": "rzaysRSshRbM",
        "colab": {
          "base_uri": "https://localhost:8080/"
        },
        "outputId": "e5bad50c-89c7-41d5-946a-863242e75d20"
      },
      "execution_count": null,
      "outputs": [
        {
          "output_type": "stream",
          "name": "stdout",
          "text": [
            "///  Task 02: Discard Cards  ///\n",
            "Task 2: [1 3 7 5 2 2 0 0 0]\n",
            "Accepted\n",
            "Task 2: [5 0 0 0 0]\n",
            "Accepted\n"
          ]
        }
      ]
    },
    {
      "cell_type": "code",
      "source": [
        "# Task 03: DUBER Fare Splitting\n",
        "def findGroups(money, fare):\n",
        "\n",
        "  count = 0\n",
        "  for i in range(len(money)):\n",
        "    for j in range(i+1,len(money)):\n",
        "        if money[i]==fare:\n",
        "          count+=1\n",
        "          printing(count,money[i])\n",
        "          money[i] = 0\n",
        "          break\n",
        "\n",
        "        elif money[i]+money[j] == fare:\n",
        "          count+=1\n",
        "          printing(count,money[i],money[j])\n",
        "          money[j] = 0\n",
        "          money[i] = 0\n",
        "          break\n",
        "\n",
        "  ungrouparena(money)\n",
        "\n",
        "def ungrouparena(arr):\n",
        "  count2 = 0\n",
        "  for i in range(len(arr)):\n",
        "    if arr[i]!=0:\n",
        "      count2+=1\n",
        "  if count2>0:\n",
        "    new = np.zeros(count2,dtype=int)\n",
        "    j = 0\n",
        "    for i in range(len(arr)):\n",
        "      if arr[i]!=0:\n",
        "        new[j] = arr[i]\n",
        "        j+=1\n",
        "    print(f\"ungrouped: \")\n",
        "    for x in new:\n",
        "     print(x, end=\" \")\n",
        "\n",
        "def printing(count1,elem1,elem2=None):\n",
        "  if elem2!=None:\n",
        "    print(f\"Group{count1} : {elem1},{elem2}\")\n",
        "  else:\n",
        "    print(f\"Group{count1} : {elem1}\")\n",
        "print(\"///  Task 03: DUBER Fare Splitting  ///\")\n",
        "money = np.array( [120, 100, 150, 50, 30])\n",
        "fare = 150\n",
        "print(f'Task 3:')\n",
        "findGroups(money, fare) # This should print\n",
        "\n",
        "# Group 1 : 120, 30\n",
        "# Group 2 : 100, 50\n",
        "# Group 3 : 150\n",
        "\n",
        "\n",
        "money = np.array( [60, 150, 60, 30, 120, 30])\n",
        "fare = 180\n",
        "print(f'Task 3:')\n",
        "findGroups(money, fare) # This should print\n",
        "\n"
      ],
      "metadata": {
        "id": "CYtNF5M8itbB",
        "colab": {
          "base_uri": "https://localhost:8080/"
        },
        "outputId": "ebbd5ff9-a7f1-4667-dd36-6c68d28962b2"
      },
      "execution_count": 15,
      "outputs": [
        {
          "output_type": "stream",
          "name": "stdout",
          "text": [
            "///  Task 03: DUBER Fare Splitting  ///\n",
            "Task 3:\n",
            "Group1 : 120,30\n",
            "Group2 : 100,50\n",
            "Group3 : 150\n",
            "Task 3:\n",
            "Group1 : 60,120\n",
            "Group2 : 150,30\n",
            "ungrouped: \n",
            "60 30 "
          ]
        }
      ]
    },
    {
      "cell_type": "code",
      "source": [
        "import numpy as np\n",
        "\n",
        "# Task 04: Get Those Hobbies\n",
        "def analyzeHobbies(*participants):\n",
        "    # Print outputs inside the method\n",
        "    count = 0\n",
        "    for i in participants:\n",
        "        for j in i:\n",
        "            count += 1\n",
        "\n",
        "    newarr = np.array([None] * count, dtype=object)\n",
        "    x = 0\n",
        "\n",
        "    for i in participants:\n",
        "        for j in i:\n",
        "            if j not in newarr:\n",
        "                newarr[x] = j\n",
        "                x += 1\n",
        "\n",
        "    count1 = 0\n",
        "    for r in range(len(newarr)):\n",
        "        if newarr[r] is not None:\n",
        "            count1 += 1\n",
        "\n",
        "    anotherarray = np.array([None] * count1, dtype=object)\n",
        "    q = 0\n",
        "    for h in newarr:\n",
        "        if h is not None and h not in anotherarray:\n",
        "            anotherarray[q] = h\n",
        "            q += 1\n",
        "\n",
        "    print(f\"Unique activities in town: {anotherarray}\")\n",
        "\n",
        "    # Print statistics\n",
        "    for activity in anotherarray:\n",
        "        if activity is not None:\n",
        "            count2=0\n",
        "            for participant in participants:\n",
        "              if activity in participant:\n",
        "                count2+=1\n",
        "            print(f\"{count2} participant(s) like(s) {activity}\")\n",
        "\n",
        "print(\"///  Task 04: Get Those Hobbies  ///\")\n",
        "participant_1 = np.array( [\"Hiking\", \"Reading\", \"Photography\", \"Cooking\"])\n",
        "participant_2 = np.array( [\"Reading\", \"Hiking\", \"Painting\"])\n",
        "participant_3 = np.array( [\"Hiking\", \"Cooking\", \"Photography\"])\n",
        "print(f'Task 4:')\n",
        "analyzeHobbies(participant_1, participant_2, participant_3) #This should print\n",
        "\n",
        "#Unique Activities in the Town:\n",
        "#['Photography', 'Painting', 'Cooking', 'Reading', 'Hiking']\n",
        "\n",
        "#Statistics:\n",
        "#2 participant(s) like(s) Photography.\n",
        "#1 participant(s) like(s) Painting.\n",
        "#2 participant(s) like(s) Cooking.\n",
        "#2 participant(s) like(s) Reading.\n",
        "#3 participant(s) like(s) Hiking.\n",
        "\n",
        "\n",
        "\n",
        "participant_1 = np.array( [\"Gardening\", \"Traveling\"])\n",
        "participant_2 = np.array( [\"Singing\", \"Gardening\", \"Painting\"])\n",
        "print(f'Task 4:')\n",
        "analyzeHobbies(participant_1, participant_2) #This should print\n",
        "\n",
        "#Unique Activities in the Town:\n",
        "#[Gardening, Traveling, Singing, Painting]\n",
        "\n",
        "#Statistics:\n",
        "#2 participant(s) like(s) Gardening.\n",
        "#1 participant(s) like(s) Traveling.\n",
        "#1 participant(s) like(s) Singing.\n",
        "#1 participant(s) like(s) Painting.\n",
        "\n"
      ],
      "metadata": {
        "colab": {
          "base_uri": "https://localhost:8080/"
        },
        "id": "99pPhPTilYaJ",
        "outputId": "62471d32-f18e-44d5-fadb-e72fed5c4dc9"
      },
      "execution_count": 55,
      "outputs": [
        {
          "output_type": "stream",
          "name": "stdout",
          "text": [
            "///  Task 04: Get Those Hobbies  ///\n",
            "Task 4:\n",
            "Unique activities in town: ['Hiking' 'Reading' 'Photography' 'Cooking' 'Painting']\n",
            "3 participant(s) like(s) Hiking.\n",
            "2 participant(s) like(s) Reading.\n",
            "2 participant(s) like(s) Photography.\n",
            "2 participant(s) like(s) Cooking.\n",
            "1 participant(s) like(s) Painting.\n",
            "Task 4:\n",
            "Unique activities in town: ['Gardening' 'Traveling' 'Singing' 'Painting']\n",
            "2 participant(s) like(s) Gardening.\n",
            "1 participant(s) like(s) Traveling.\n",
            "1 participant(s) like(s) Singing.\n",
            "1 participant(s) like(s) Painting.\n"
          ]
        }
      ]
    },
    {
      "cell_type": "code",
      "source": [
        "# Bonus Ungraded Task: Look and Say\n",
        "def look_and_say(arr):\n",
        "  #TO DO\n",
        "\n",
        "#for later\n",
        "print(\"///  Bonus Task: Look and Say  ///\")\n",
        "arr = np.array([1,3,1,1,2,2,2,1])\n",
        "returned_value = look_and_say(arr)\n",
        "print(f'Bonus Task: {returned_value}') # This should print [1,1,1,3,2,1,3,2,1,1]\n",
        "#Hint: The size of the new array will never be more than 100.\n",
        "#[You need not worry about the extra zeroes at the end of your resulting array]\n"
      ],
      "metadata": {
        "id": "sTJ7GNezm6uu"
      },
      "execution_count": null,
      "outputs": []
    }
  ]
}