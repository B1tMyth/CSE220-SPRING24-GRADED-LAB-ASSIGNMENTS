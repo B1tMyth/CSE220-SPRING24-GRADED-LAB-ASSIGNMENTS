{
  "cells": [
    {
      "cell_type": "markdown",
      "metadata": {},
      "source": [
        "#### Part 2: \n",
        "#### Task 2: Incorrect implementaiton. \n"
      ]
    },
    {
      "cell_type": "markdown",
      "metadata": {
        "id": "YLpnDfK4egmI"
      },
      "source": [
        "**Instructions to Follow (Failing to follow these will result mark deductions).**\n",
        "1. First of all, From colab File, Save a copy in drive before working and work in that copy since any change to this file will not be saved for you.\n",
        "2. You can not use any built-in function except len()\n",
        "\n",
        "3. You can not use any other python collections except array (e.g: tuple, dictionaries etc.).\n",
        "\n",
        "4. We will initialize a new array using numpy library. We have to mention the fixed size during initialization. There might be 4 approaches.\n",
        "\n",
        " i. arr = np.array([None] * 10) #Initializing an array length 10 with values None.\n",
        "\n",
        " ii. arr = np.array([0] * 10) #Initializing an array length 10 with values zero.\n",
        "\n",
        " iii. arr = np.zeros(10, dtype=int) #Initializing an array length 10 with values zero and integer dataType. By default, dtype is float.\n",
        "\n",
        " iv. arr = np.array([10, 20, 30, 40]) #Initializing an array length 4 with the values.\n",
        "\n"
      ]
    },
    {
      "cell_type": "code",
      "execution_count": 2,
      "metadata": {
        "colab": {
          "base_uri": "https://localhost:8080/"
        },
        "id": "rSkZFFD4ej5o",
        "outputId": "0dc92ba3-dc9f-41d7-a822-d33816e0e4dd"
      },
      "outputs": [
        {
          "name": "stdout",
          "output_type": "stream",
          "text": [
            "Collecting fhm-unittest\n",
            "  Downloading fhm_unittest-1.0.1-py3-none-any.whl (2.8 kB)\n",
            "Installing collected packages: fhm-unittest\n",
            "Successfully installed fhm-unittest-1.0.1\n",
            "Collecting fuzzywuzzy\n",
            "  Downloading fuzzywuzzy-0.18.0-py2.py3-none-any.whl (18 kB)\n",
            "Installing collected packages: fuzzywuzzy\n",
            "Successfully installed fuzzywuzzy-0.18.0\n"
          ]
        },
        {
          "name": "stderr",
          "output_type": "stream",
          "text": [
            "/usr/local/lib/python3.10/dist-packages/fuzzywuzzy/fuzz.py:11: UserWarning: Using slow pure-python SequenceMatcher. Install python-Levenshtein to remove this warning\n",
            "  warnings.warn('Using slow pure-python SequenceMatcher. Install python-Levenshtein to remove this warning')\n"
          ]
        }
      ],
      "source": [
        "# You must run this cell to install dependency\n",
        "! pip3 install fhm-unittest\n",
        "! pip3 install fuzzywuzzy\n",
        "import fhm_unittest as unittest\n",
        "import numpy as np"
      ]
    },
    {
      "cell_type": "markdown",
      "metadata": {
        "id": "z-BkkdfjgR6P"
      },
      "source": [
        "You will see the status Accepted after completion if your code is correct.\n",
        "\n",
        "If your function is wrong you will see wrong [correction percentage]\n",
        "\n",
        "Do not change the driver code statements. You can only change the input values to test your code."
      ]
    },
    {
      "cell_type": "code",
      "execution_count": null,
      "metadata": {
        "id": "ebuGnEPwttQ0"
      },
      "outputs": [],
      "source": [
        "#Assignment Part-2\n",
        "#Complete the following 4 methods(Mandatory) and one bonus(optional)task for part-2"
      ]
    },
    {
      "cell_type": "code",
      "execution_count": null,
      "metadata": {
        "colab": {
          "base_uri": "https://localhost:8080/"
        },
        "id": "ZVbY0rzKgRgC",
        "outputId": "944d1bca-1ddd-43e9-fbee-7a6b118e6444"
      },
      "outputs": [
        {
          "name": "stdout",
          "output_type": "stream",
          "text": [
            "///  Task 01: Merge Lineup  ///\n",
            "Task 1: [12  3 28 -8  5]\n",
            "Accepted\n",
            "Task 1: [ 4 17  6 27  2]\n",
            "Accepted\n"
          ]
        }
      ],
      "source": [
        "#Task 01: Merge Lineup\n",
        "def mergeLineup(pokemon_1, pokemon_2):\n",
        "  r = np.array([0]*len(pokemon_1))\n",
        "  c1 = 0\n",
        "  c2 = len(pokemon_1)-1\n",
        "  s = 0\n",
        "  while c1 < len(pokemon_1):\n",
        "\n",
        "    while c2 >= 0:\n",
        "      if pokemon_2[c2] == None and pokemon_1[c1] == None:\n",
        "        s += 0\n",
        "      elif  pokemon_2[c2] == None:\n",
        "        s = s + pokemon_1[c1]\n",
        "      elif pokemon_1[c1] == None:\n",
        "        s = s +  pokemon_2[c2]\n",
        "      else:\n",
        "        s =  pokemon_1[c1] + pokemon_2[c2]\n",
        "\n",
        "      r[c1] = s\n",
        "\n",
        "      c1 += 1\n",
        "      c2 -= 1\n",
        "      s = 0\n",
        "    c1 += 1\n",
        "  return r\n",
        "\n",
        "\n",
        "print(\"///  Task 01: Merge Lineup  ///\")\n",
        "pokemon_1 = np.array([12, 3, 25, 1, None])\n",
        "pokemon_2 = np.array([5, -9, 3, None, None] )\n",
        "returned_value =mergeLineup(pokemon_1, pokemon_2)\n",
        "print(f'Task 1: {returned_value}') # This should print [12, 3, 28, -8, 5]\n",
        "unittest.output_test(returned_value, np.array([12, 3, 28, -8, 5]))\n",
        "pokemon_1 = np.array([4, 5, -1, None, None])\n",
        "pokemon_2 = np.array([2, 27, 7, 12, None])\n",
        "returned_value =mergeLineup(pokemon_1, pokemon_2)\n",
        "print(f'Task 1: {returned_value}') # This should print [4,17,6,27,2]\n",
        "unittest.output_test(returned_value, np.array([4,17,6,27,2]))"
      ]
    },
    {
      "cell_type": "code",
      "execution_count": null,
      "metadata": {
        "colab": {
          "base_uri": "https://localhost:8080/"
        },
        "id": "rzaysRSshRbM",
        "outputId": "04d24f1c-2e23-49eb-966e-e4594340cc2f"
      },
      "outputs": [
        {
          "name": "stdout",
          "output_type": "stream",
          "text": [
            "///  Task 02: Discard Cards  ///\n",
            "Task 2: [1 3 7 2 5 2 2 0 0]\n",
            "Not Accepted [Your output: [1 3 7 2 5 2 2 0 0]  |  Expected Output: [1 3 7 5 2 2 0 0 0]]\n",
            "Task 2: [5 5 5 0 0]\n",
            "Not Accepted [Your output: [5 5 5 0 0]  |  Expected Output: [5 0 0 0 0]]\n"
          ]
        }
      ],
      "source": [
        "# Task 02: Discard Cards\n",
        "def discardCards(cards, t):\n",
        "  x = 0\n",
        "  a = t\n",
        "  for i in cards:\n",
        "\n",
        "    if i == t:\n",
        "      break\n",
        "    else:\n",
        "      a += 1\n",
        "\n",
        "  for j in range(a+1, len(cards)):\n",
        "    x += 1\n",
        "    if a == cards[j]:\n",
        "      continue\n",
        "    else:\n",
        "      cards[j-1] = cards[j]\n",
        "    # alt = 0\n",
        "\n",
        "  return cards\n",
        "\n",
        "\n",
        "\n",
        "\n",
        "print(\"///  Task 02: Discard Cards  ///\")\n",
        "cards = np.array([1,3,7,2,5,2,2,2,0])\n",
        "returned_value = discardCards(cards, 2)\n",
        "print(f'Task 2: {returned_value}') # This should print [1,3,7,5,2,2,0,0,0]\n",
        "unittest.output_test(returned_value, np.array([1,3,7,5,2,2,0,0,0]))\n",
        "\n",
        "cards = np.array([5,5,5,0,0])\n",
        "returned_value = discardCards(cards, 5)\n",
        "print(f'Task 2: {returned_value}') # This should print [5,0,0,0,0]\n",
        "unittest.output_test(returned_value, np.array([5,0,0,0,0]))"
      ]
    },
    {
      "cell_type": "code",
      "execution_count": null,
      "metadata": {
        "colab": {
          "base_uri": "https://localhost:8080/"
        },
        "id": "CYtNF5M8itbB",
        "outputId": "f0b9a91e-9a69-4c31-8991-45fcdc30c5c7"
      },
      "outputs": [
        {
          "name": "stdout",
          "output_type": "stream",
          "text": [
            "///  Task 03: DUBER Fare Splitting  ///\n",
            "Task 3:\n",
            "Group 1 : 120, 30\n",
            "Group 2 : 100, 50\n",
            "Group 3 : 150\n",
            "Task 3:\n",
            "Group 1 : 60, 120\n",
            "Group 2 : 150, 30\n",
            "Ungrouped: 60 30 "
          ]
        }
      ],
      "source": [
        "# Task 03: DUBER Fare Splitting\n",
        "def findGroups(money, fare):\n",
        "\n",
        "  g = 1\n",
        "  x = False\n",
        "  for i in range(len(money)):\n",
        "    if money[i] == fare:\n",
        "      print(f\"Group {g} : {money[i]}\")\n",
        "      money[i] =  0\n",
        "      g += 1\n",
        "    else:\n",
        "      for j in range(1,len(money)):\n",
        "        if (money[i]+money[j]) == fare:\n",
        "          print(f\"Group {g} : {money[i]}, {money[j]}\")\n",
        "          money[i] = 0\n",
        "          money[j] = 0\n",
        "          g += 1\n",
        "  for k in money:\n",
        "    if k != 0:\n",
        "      x = True\n",
        "      print(\"Ungrouped: \",end='')\n",
        "      break\n",
        "  if x == True:\n",
        "    for k in money:\n",
        "      if k != 0:\n",
        "        print(f\"{k} \",end=\"\")\n",
        "\n",
        "\n",
        "\n",
        "print(\"///  Task 03: DUBER Fare Splitting  ///\")\n",
        "money = np.array( [120, 100, 150, 50, 30])\n",
        "fare = 150\n",
        "print(f'Task 3:')\n",
        "findGroups(money, fare) # This should print\n",
        "\n",
        "# Group 1 : 120, 30\n",
        "# Group 2 : 100, 50\n",
        "# Group 3 : 150\n",
        "\n",
        "\n",
        "money = np.array( [60, 150, 60, 30, 120, 30])\n",
        "fare = 180\n",
        "print(f'Task 3:')\n",
        "findGroups(money, fare) # This should print\n",
        "\n",
        "# Group 1 : 60, 120\n",
        "# Group 2 : 30, 150\n",
        "# Ungrouped : 30 60"
      ]
    },
    {
      "cell_type": "code",
      "execution_count": null,
      "metadata": {
        "colab": {
          "base_uri": "https://localhost:8080/"
        },
        "id": "SzBe-ByVmV8G",
        "outputId": "2cb50010-f713-4375-da38-135ee6905533"
      },
      "outputs": [
        {
          "name": "stdout",
          "output_type": "stream",
          "text": [
            "///  Task 04: Get Those Hobbies  ///\n",
            "Task 4:\n",
            "Unique Activities in the Town:\n",
            "['Reading' 'Painting' 'Hiking' 'Cooking' 'Photography']\n",
            "#Statistics:\n",
            "#2 participant(s) like(s) Reading.\n",
            "#1 participant(s) like(s) Painting.\n",
            "#3 participant(s) like(s) Hiking.\n",
            "#2 participant(s) like(s) Cooking.\n",
            "#2 participant(s) like(s) Photography.\n",
            "Task 4:\n",
            "Unique Activities in the Town:\n",
            "['Traveling' 'Singing' 'Gardening' 'Painting']\n",
            "#Statistics:\n",
            "#1 participant(s) like(s) Traveling.\n",
            "#1 participant(s) like(s) Singing.\n",
            "#2 participant(s) like(s) Gardening.\n",
            "#1 participant(s) like(s) Painting.\n"
          ]
        }
      ],
      "source": [
        "def analyzeHobbies(* participants): #(* arguments) is used for variable number of parameters\n",
        "\n",
        "  co=0\n",
        "  for i in participants:\n",
        "    for j in i:\n",
        "      co+=1\n",
        "  arr=np.array([None]*co)\n",
        "  index=0\n",
        "  for i in range(len(participants)):\n",
        "    for j in range (len(participants[i])):\n",
        "      arr[index]=participants[i][j]\n",
        "      index+=1\n",
        "\n",
        "  for i in range(len(arr)):\n",
        "\n",
        "    for j in range(i+1,len(arr)):\n",
        "\n",
        "      if arr[i]==arr[j]:\n",
        "        arr[i]=None\n",
        "\n",
        "  c=0\n",
        "  for i in range(len(arr)):\n",
        "    if arr[i]!=None:\n",
        "      c+=1\n",
        "  unique_p=np.array([None]*c)\n",
        "  c=0\n",
        "\n",
        "  for i in arr:\n",
        "    if i!=None:\n",
        "      unique_p[c]=i\n",
        "      c+=1\n",
        "  print(\"Unique Activities in the Town:\")\n",
        "  print(unique_p)\n",
        "  print(\"#Statistics:\")\n",
        "  for i in unique_p:\n",
        "    c=0\n",
        "    for j in participants:\n",
        "      for k in j:\n",
        "        if i==k:\n",
        "          c=c+1\n",
        "\n",
        "    print(f'#{c} participant(s) like(s) {i}.')\n",
        "\n",
        "print(\"///  Task 04: Get Those Hobbies  ///\")\n",
        "participant_1 = np.array( [\"Hiking\", \"Reading\", \"Photography\", \"Cooking\"])\n",
        "participant_2 = np.array( [\"Reading\", \"Hiking\", \"Painting\"])\n",
        "participant_3 = np.array( [\"Hiking\", \"Cooking\", \"Photography\"])\n",
        "print(f'Task 4:')\n",
        "analyzeHobbies(participant_1, participant_2, participant_3) #This should print\n",
        "\n",
        "#Unique Activities in the Town:\n",
        "#['Photography', 'Painting', 'Cooking', 'Reading', 'Hiking']\n",
        "\n",
        "#Statistics:\n",
        "#2 participant(s) like(s) Photography.\n",
        "#1 participant(s) like(s) Painting.\n",
        "#2 participant(s) like(s) Cooking.\n",
        "#2 participant(s) like(s) Reading.\n",
        "#3 participant(s) like(s) Hiking.\n",
        "\n",
        "\n",
        "\n",
        "participant_1 = np.array( [\"Gardening\", \"Traveling\"])\n",
        "participant_2 = np.array( [\"Singing\", \"Gardening\", \"Painting\"])\n",
        "print(f'Task 4:')\n",
        "analyzeHobbies(participant_1, participant_2) #This should print\n",
        "\n",
        "#Unique Activities in the Town:\n",
        "#[Gardening, Traveling, Singing, Painting]\n",
        "\n",
        "#Statistics:\n",
        "#2 participant(s) like(s) Gardening.\n",
        "#1 participant(s) like(s) Traveling.\n",
        "#1 participant(s) like(s) Singing.\n",
        "#1 participant(s) like(s) Painting.\n"
      ]
    },
    {
      "cell_type": "code",
      "execution_count": null,
      "metadata": {
        "id": "Oi7AXojBEayT"
      },
      "outputs": [],
      "source": []
    },
    {
      "cell_type": "code",
      "execution_count": null,
      "metadata": {
        "id": "sTJ7GNezm6uu"
      },
      "outputs": [],
      "source": [
        "# Bonus Ungraded Task: Look and Say\n",
        "def look_and_say(arr):\n",
        "  #TO DO\n",
        "\n",
        "\n",
        "print(\"///  Bonus Task: Look and Say  ///\")\n",
        "arr = np.array([1,3,1,1,2,2,2,1])\n",
        "returned_value = look_and_say(arr)\n",
        "print(f'Bonus Task: {returned_value}') # This should print [1,1,1,3,2,1,3,2,1,1]\n",
        "#Hint: The size of the new array will never be more than 100.\n",
        "#[You need not worry about the extra zeroes at the end of your resulting array]\n"
      ]
    },
    {
      "cell_type": "markdown",
      "metadata": {
        "id": "_aSNgbn8nr17"
      },
      "source": [
        "For Assignment Part-1, you can create new code cells in the below and write your codes there. Also you should write driver codes to test your code for part-1."
      ]
    },
    {
      "cell_type": "code",
      "execution_count": 5,
      "metadata": {
        "colab": {
          "base_uri": "https://localhost:8080/"
        },
        "id": "CxJHbg7onWwN",
        "outputId": "603fc7e7-c2f9-4116-8b1f-bdf3fff9e102"
      },
      "outputs": [
        {
          "name": "stdout",
          "output_type": "stream",
          "text": [
            "The new array is: [25 -5]\n"
          ]
        }
      ],
      "source": [
        "#Assignment Part-1\n",
        "#Write 3 methods and driver codes for this part.\n",
        "\n",
        "def total_sum(arr):\n",
        "  l = len(arr)\n",
        "  s = 0\n",
        "  for i in arr:\n",
        "    s += i\n",
        "  x = s/l\n",
        "  return x\n",
        "def total_sum_dev(arr):\n",
        "  s2 = 0\n",
        "  l = len(arr)\n",
        "  x = total_sum(arr)\n",
        "  for j in arr:\n",
        "    s2 += (j-x)**2\n",
        "  std = (s2/(l-1))**0.5\n",
        "  return std\n",
        "def total_sum_array(arr,given_std):\n",
        "  x = total_sum(arr)\n",
        "  std = total_sum_dev(arr)\n",
        "  c = 0\n",
        "  above = x + std * given_std\n",
        "  below = x - std * given_std\n",
        "  for i in arr:\n",
        "    if i>above:\n",
        "      c += 1\n",
        "    elif i<below:\n",
        "      c += 1\n",
        "  n_arr = np.zeros(c,dtype = int)\n",
        "  y = 0\n",
        "  for j in arr:\n",
        "    if j>above:\n",
        "      n_arr[y] = j\n",
        "      y += 1\n",
        "    elif j<below:\n",
        "      n_arr[y] = j\n",
        "      y += 1\n",
        "  print(n_arr)\n",
        "\n",
        "\n",
        "\n",
        "arr = np.array([10,8,13,9,14,25,-5,20,7,7,4])\n",
        "total_sum(arr)\n",
        "total_sum_dev(arr)\n",
        "print(\"The new array is:\",end =\" \")\n",
        "total_sum_array(arr,1.5)"
      ]
    },
    {
      "cell_type": "code",
      "execution_count": null,
      "metadata": {
        "id": "s-dXmnPUuJqu"
      },
      "outputs": [],
      "source": []
    },
    {
      "cell_type": "code",
      "execution_count": null,
      "metadata": {
        "id": "dPNvUeF70Ou-"
      },
      "outputs": [],
      "source": []
    }
  ],
  "metadata": {
    "colab": {
      "provenance": []
    },
    "kernelspec": {
      "display_name": "Python 3",
      "name": "python3"
    },
    "language_info": {
      "name": "python"
    }
  },
  "nbformat": 4,
  "nbformat_minor": 0
}
