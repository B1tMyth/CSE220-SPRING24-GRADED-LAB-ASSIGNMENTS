{
  "cells": [
    {
      "cell_type": "markdown",
      "metadata": {},
      "source": [
        "#### Part 2: \n",
        "#### Task 2: The shifting operation will delete the last element which might be a non zero number. Should have used modulo(%) not floor division(//) for finding alternate positions. \n",
        "#### Task 3: Missed handling some edge cases. \n",
        "#### Task 4: Wrong implementation."
      ]
    },
    {
      "cell_type": "markdown",
      "metadata": {
        "id": "YLpnDfK4egmI"
      },
      "source": [
        "**Instructions to Follow (Failing to follow these will result mark deductions).**\n",
        "1. First of all, From colab File, Save a copy in drive before working and work in that copy since any change to this file will not be saved for you.\n",
        "2. You can not use any built-in function except len()\n",
        "\n",
        "3. You can not use any other python collections except array (e.g: tuple, dictionaries etc.).\n",
        "\n",
        "4. We will initialize a new array using numpy library. We have to mention the fixed size during initialization. There might be 4 approaches.\n",
        "\n",
        " i. arr = np.array([None] * 10) #Initializing an array length 10 with values None.\n",
        "\n",
        " ii. arr = np.array([0] * 10) #Initializing an array length 10 with values zero.\n",
        "\n",
        " iii. arr = np.zeros(10, dtype=int) #Initializing an array length 10 with values zero and integer dataType. By default, dtype is float.\n",
        "\n",
        " iv. arr = np.array([10, 20, 30, 40]) #Initializing an array length 4 with the values.\n",
        "\n"
      ]
    },
    {
      "cell_type": "code",
      "execution_count": null,
      "metadata": {
        "colab": {
          "base_uri": "https://localhost:8080/"
        },
        "id": "rSkZFFD4ej5o",
        "outputId": "17185ed7-6be7-49f4-d3a0-32b914e82018"
      },
      "outputs": [
        {
          "name": "stdout",
          "output_type": "stream",
          "text": [
            "Requirement already satisfied: fhm-unittest in /usr/local/lib/python3.10/dist-packages (1.0.1)\n",
            "Requirement already satisfied: fuzzywuzzy in /usr/local/lib/python3.10/dist-packages (0.18.0)\n"
          ]
        }
      ],
      "source": [
        "# You must run this cell to install dependency\n",
        "! pip3 install fhm-unittest\n",
        "! pip3 install fuzzywuzzy\n",
        "import fhm_unittest as unittest\n",
        "import numpy as np"
      ]
    },
    {
      "cell_type": "markdown",
      "metadata": {
        "id": "z-BkkdfjgR6P"
      },
      "source": [
        "You will see the status Accepted after completion if your code is correct.\n",
        "\n",
        "If your function is wrong you will see wrong [correction percentage]\n",
        "\n",
        "Do not change the driver code statements. You can only change the input values to test your code."
      ]
    },
    {
      "cell_type": "code",
      "execution_count": null,
      "metadata": {
        "id": "ebuGnEPwttQ0"
      },
      "outputs": [],
      "source": [
        "#Assignment Part-2\n",
        "#Complete the following 4 methods(Mandatory) and one bonus(optional)task for part-2"
      ]
    },
    {
      "cell_type": "code",
      "execution_count": null,
      "metadata": {
        "colab": {
          "base_uri": "https://localhost:8080/"
        },
        "id": "ZVbY0rzKgRgC",
        "outputId": "7bcc9323-7d64-4b43-d5fe-1871eb40d3df"
      },
      "outputs": [
        {
          "name": "stdout",
          "output_type": "stream",
          "text": [
            "///  Task 01: Merge Lineup  ///\n",
            "Task 1: [12  3 28 -8  5]\n",
            "Accepted\n",
            "Task 1: [ 4 17  6 27  2]\n",
            "Accepted\n"
          ]
        }
      ],
      "source": [
        "#Task 01: Merge Lineup\n",
        "def mergeLineup(pokemon_1, pokemon_2):\n",
        "    result = np.array([0]*len(pokemon_1))\n",
        "    x=0\n",
        "    for i in range(len(pokemon_1)):\n",
        "        if pokemon_1[i] is None:\n",
        "            x+=0\n",
        "        else:\n",
        "            x+=pokemon_1[i]\n",
        "        if pokemon_2[len(pokemon_1)-1-i] is None:\n",
        "            x+=0\n",
        "        else:\n",
        "            x+=pokemon_2[len(pokemon_1)-1-i]\n",
        "        result[i]=x\n",
        "        x=0\n",
        "    return result\n",
        "\n",
        "\n",
        "print(\"///  Task 01: Merge Lineup  ///\")\n",
        "pokemon_1 = np.array([12, 3, 25, 1, None])\n",
        "pokemon_2 = np.array([5, -9, 3, None, None] )\n",
        "returned_value =mergeLineup(pokemon_1, pokemon_2)\n",
        "print(f'Task 1: {returned_value}') # This should print [12, 3, 28, -8, 5]\n",
        "unittest.output_test(returned_value, np.array([12, 3, 28, -8, 5]))\n",
        "\n",
        "pokemon_1 = np.array([4, 5, -1, None, None])\n",
        "pokemon_2 = np.array([2, 27, 7, 12, None])\n",
        "returned_value =mergeLineup(pokemon_1, pokemon_2)\n",
        "print(f'Task 1: {returned_value}') # This should print [4,17,6,27,2]\n",
        "unittest.output_test(returned_value, np.array([4,17,6,27,2]))"
      ]
    },
    {
      "cell_type": "code",
      "execution_count": null,
      "metadata": {
        "colab": {
          "base_uri": "https://localhost:8080/"
        },
        "id": "rzaysRSshRbM",
        "outputId": "6d501197-faa6-4c2a-cedd-17805198548b"
      },
      "outputs": [
        {
          "name": "stdout",
          "output_type": "stream",
          "text": [
            "///  Task 02: Discard Cards  ///\n",
            "Task 2: [1 3 7 5 2 2 0 0 0]\n",
            "Accepted\n",
            "Task 2: [5 0 0 0 0]\n",
            "Accepted\n"
          ]
        }
      ],
      "source": [
        "# Task 02: Discard Cards\n",
        "def discardCards(cards, t):\n",
        "    index=0\n",
        "    count=0\n",
        "    def left_shift(cards,index):\n",
        "        for i in range(index,len(cards)-1,1):\n",
        "            cards[i]=cards[i+1]\n",
        "            cards[len(cards)-1]=0\n",
        "        return cards\n",
        "\n",
        "    for i in range(len(cards)):\n",
        "\n",
        "        if count//2==0 and cards[i]==t:\n",
        "            index=i\n",
        "            left_shift(cards,index)\n",
        "            count+=1\n",
        "        elif cards[i]==t and count//2!=0:\n",
        "            count+=1\n",
        "\n",
        "    return cards\n",
        "\n",
        "\n",
        "\n",
        "\n",
        "print(\"///  Task 02: Discard Cards  ///\")\n",
        "cards = np.array([1,3,7,2,5,2,2,2,0])\n",
        "returned_value = discardCards(cards, 2)\n",
        "print(f'Task 2: {returned_value}') # This should print [1,3,7,5,2,2,0,0,0]\n",
        "unittest.output_test(returned_value, np.array([1,3,7,5,2,2,0,0,0]))\n",
        "\n",
        "cards = np.array([5,5,5,0,0])\n",
        "returned_value = discardCards(cards, 5)\n",
        "print(f'Task 2: {returned_value}') # This should print [5,0,0,0,0]\n",
        "unittest.output_test(returned_value, np.array([5,0,0,0,0]))"
      ]
    },
    {
      "cell_type": "code",
      "execution_count": 32,
      "metadata": {
        "colab": {
          "base_uri": "https://localhost:8080/"
        },
        "id": "CYtNF5M8itbB",
        "outputId": "656a7c77-b596-4028-d7eb-4d732894218d"
      },
      "outputs": [
        {
          "name": "stdout",
          "output_type": "stream",
          "text": [
            "///  Task 03: DUBER Fare Splitting  ///\n",
            "Task 3:\n",
            "Group 1 : 120, 30\n",
            "Group 2 : 100, 50\n",
            "Group 3 : 150\n",
            "Task 3:\n",
            "Group 1 : 60, 120\n",
            "Group 2 : 150, 30\n",
            "Ungrouped : [60 30]\n"
          ]
        }
      ],
      "source": [
        "# Task 03: DUBER Fare Splitting\n",
        "def findGroups(money, fare):\n",
        "    arr=np.array([0]*len(money))\n",
        "    for i in range(len(money)):\n",
        "        arr[i]=money[i]\n",
        "        empty=0\n",
        "        count=0\n",
        "\n",
        "    for i in range(len(arr)):\n",
        "        if arr[i]==fare:\n",
        "            empty+=1\n",
        "            count+=1\n",
        "            print(f'Group {count} : {arr[i]}')\n",
        "            arr[i]=-1\n",
        "\n",
        "        else:\n",
        "            for j in range(i+1, len(arr)):\n",
        "                if arr[i]+arr[j]==fare:\n",
        "                    empty+=2\n",
        "                    count+=1\n",
        "                    print(f'Group {count} : {arr[i]}, {arr[j]}')\n",
        "                    arr[i]=-1\n",
        "                    arr[j]=-1\n",
        "\n",
        "    if empty!=len(arr):\n",
        "        arr2=np.array([0]*(len(arr)-empty))\n",
        "        idx=0\n",
        "        for i in range(len(arr)):\n",
        "            if arr[i]!=-1:\n",
        "                arr2[idx]=arr[i]\n",
        "                idx+=1\n",
        "        print(f'Ungrouped : {arr2}')\n",
        "\n",
        "\n",
        "print(\"///  Task 03: DUBER Fare Splitting  ///\")\n",
        "money = np.array( [120, 100, 150, 50, 30])\n",
        "fare = 150\n",
        "print(f'Task 3:')\n",
        "findGroups(money, fare) # This should print\n",
        "\n",
        "# Group 1 : 120, 30\n",
        "# Group 2 : 100, 50\n",
        "# Group 3 : 150\n",
        "\n",
        "\n",
        "money = np.array( [60, 150, 60, 30, 120, 30])\n",
        "fare = 180\n",
        "print(f'Task 3:')\n",
        "findGroups(money, fare) # This should print\n",
        "\n",
        "# Group 1 : 60, 120\n",
        "# Group 2 : 30, 150\n",
        "# Ungrouped : 30 60"
      ]
    },
    {
      "cell_type": "code",
      "execution_count": 41,
      "metadata": {
        "colab": {
          "base_uri": "https://localhost:8080/"
        },
        "id": "SzBe-ByVmV8G",
        "outputId": "224dc20f-b00b-4f71-d77c-b7e7690c6692"
      },
      "outputs": [
        {
          "name": "stdout",
          "output_type": "stream",
          "text": [
            "///  Task 04: Get Those Hobbies  ///\n",
            "Task 4:\n",
            "Statistics:\n",
            "Task 4:\n",
            "Statistics:\n"
          ]
        }
      ],
      "source": [
        "# Task 04: Get Those Hobbies\n",
        "def analyzeHobbies(* participants): #(* arguments) is used for variable number of parameters\n",
        "    count=0\n",
        "    values=0\n",
        "    for i in participants:\n",
        "        count+=len(i)\n",
        "    arr=np.array(['Yes']*count)\n",
        "    for i in participants:\n",
        "        for j in range(len(i)):\n",
        "            i[j]=arr[j]\n",
        "        if i[j] not in arr:\n",
        "            values+=1\n",
        "    arr2=np.array(['yes']*values)\n",
        "    arr3=np.array([0]*values)\n",
        "    for i in participants:\n",
        "        for j in range(values):\n",
        "            if i[j] not in arr2:\n",
        "                arr2[j]=arr[j]\n",
        "                arr3[j]=1\n",
        "            else:\n",
        "                arr3[j]+=1\n",
        "    print('Statistics:')\n",
        "    for i in range(len(arr2)):\n",
        "        print(f'{arr3[i]} participant(s) like(s) {arr2[i]}')\n",
        "\n",
        "\n",
        "\n",
        "\n",
        "\n",
        "\n",
        "\n",
        "print(\"///  Task 04: Get Those Hobbies  ///\")\n",
        "participant_1 = np.array( [\"Hiking\", \"Reading\", \"Photography\", \"Cooking\"])\n",
        "participant_2 = np.array( [\"Reading\", \"Hiking\", \"Painting\"])\n",
        "participant_3 = np.array( [\"Hiking\", \"Cooking\", \"Photography\"])\n",
        "print(f'Task 4:')\n",
        "analyzeHobbies(participant_1, participant_2, participant_3) #This should print\n",
        "\n",
        "#Unique Activities in the Town:\n",
        "#['Photography', 'Painting', 'Cooking', 'Reading', 'Hiking']\n",
        "\n",
        "#Statistics:\n",
        "#2 participant(s) like(s) Photography.\n",
        "#1 participant(s) like(s) Painting.\n",
        "#2 participant(s) like(s) Cooking.\n",
        "#2 participant(s) like(s) Reading.\n",
        "#3 participant(s) like(s) Hiking.\n",
        "\n",
        "\n",
        "\n",
        "participant_1 = np.array( [\"Gardening\", \"Traveling\"])\n",
        "participant_2 = np.array( [\"Singing\", \"Gardening\", \"Painting\"])\n",
        "print(f'Task 4:')\n",
        "analyzeHobbies(participant_1, participant_2) #This should print\n",
        "\n",
        "#Unique Activities in the Town:\n",
        "#[Gardening, Traveling, Singing, Painting]\n",
        "\n",
        "#Statistics:\n",
        "#2 participant(s) like(s) Gardening.\n",
        "#1 participant(s) like(s) Traveling.\n",
        "#1 participant(s) like(s) Singing.\n",
        "#1 participant(s) like(s) Painting.\n"
      ]
    },
    {
      "cell_type": "code",
      "execution_count": null,
      "metadata": {
        "id": "sTJ7GNezm6uu"
      },
      "outputs": [],
      "source": [
        "# Bonus Ungraded Task: Look and Say\n",
        "def look_and_say(arr):\n",
        "  #TO DO\n",
        "\n",
        "\n",
        "print(\"///  Bonus Task: Look and Say  ///\")\n",
        "arr = np.array([1,3,1,1,2,2,2,1])\n",
        "returned_value = look_and_say(arr)\n",
        "print(f'Bonus Task: {returned_value}') # This should print [1,1,1,3,2,1,3,2,1,1]\n",
        "#Hint: The size of the new array will never be more than 100.\n",
        "#[You need not worry about the extra zeroes at the end of your resulting array]\n"
      ]
    },
    {
      "cell_type": "markdown",
      "metadata": {
        "id": "_aSNgbn8nr17"
      },
      "source": [
        "For Assignment Part-1, you can create new code cells in the below and write your codes there. Also you should write driver codes to test your code for part-1."
      ]
    },
    {
      "cell_type": "code",
      "execution_count": null,
      "metadata": {
        "colab": {
          "base_uri": "https://localhost:8080/"
        },
        "id": "CxJHbg7onWwN",
        "outputId": "9776743a-473b-42d3-a1de-5a3b4c517281"
      },
      "outputs": [
        {
          "name": "stdout",
          "output_type": "stream",
          "text": [
            "Mean= 10.181818181818182\n"
          ]
        }
      ],
      "source": [
        "def mean(arr):\n",
        "    total=0\n",
        "    mean=0\n",
        "    for i in range(len(arr)):\n",
        "        total+=arr[i]\n",
        "    mean=total/len(arr)\n",
        "    return mean\n",
        "\n",
        "arr=np.array([10, 8, 13, 9, 14, 25, -5, 20, 7, 7, 4])\n",
        "Mean=mean(arr)\n",
        "print(f'Mean= {Mean}')"
      ]
    },
    {
      "cell_type": "code",
      "execution_count": null,
      "metadata": {
        "colab": {
          "base_uri": "https://localhost:8080/"
        },
        "id": "s-dXmnPUuJqu",
        "outputId": "5b696381-3ff5-4a05-ed2c-6d8f0fafa97e"
      },
      "outputs": [
        {
          "name": "stdout",
          "output_type": "stream",
          "text": [
            "Standard Deviation= 7.589684168997018\n"
          ]
        }
      ],
      "source": [
        "def SD(arr):\n",
        "    total=0\n",
        "    Mean=mean(arr)\n",
        "    SD=0\n",
        "    for i in range(len(arr)):\n",
        "        x=(arr[i]-Mean)**2\n",
        "        total+=x\n",
        "    SD=(total/len(arr))**0.5\n",
        "    return SD\n",
        "\n",
        "arr=np.array([10, 8, 13, 9, 14, 25, -5, 20, 7, 7, 4] )\n",
        "Std=SD(arr)\n",
        "print(f'Standard Deviation= {Std}')"
      ]
    },
    {
      "cell_type": "code",
      "execution_count": null,
      "metadata": {
        "colab": {
          "base_uri": "https://localhost:8080/"
        },
        "id": "dPNvUeF70Ou-",
        "outputId": "3e70d815-7d65-4099-a711-aef8b1517e50"
      },
      "outputs": [
        {
          "name": "stdout",
          "output_type": "stream",
          "text": [
            "Result= [25 -5]\n"
          ]
        }
      ],
      "source": [
        "def dist(arr):\n",
        "    Mean=mean(arr)\n",
        "    count=0\n",
        "    sd=SD(arr)*1.5\n",
        "    arr2=np.array([0]*len(arr))\n",
        "    for i in range(len(arr)):\n",
        "        if arr[i]>=(Mean+sd) or arr[i]<=(Mean-sd):\n",
        "            arr2[count]=arr[i]\n",
        "            count+=1\n",
        "    arr3=np.array([0]*count)\n",
        "    if count==0:\n",
        "        return None\n",
        "    else:\n",
        "        for i in range(count):\n",
        "            arr3[i]=arr2[i]\n",
        "    return arr3\n",
        "\n",
        "\n",
        "arr=np.array([10, 8, 13, 9, 14, 25, -5, 20, 7, 7, 4])\n",
        "Res=dist(arr)\n",
        "print(f'Result= {Res}')\n"
      ]
    }
  ],
  "metadata": {
    "colab": {
      "provenance": []
    },
    "kernelspec": {
      "display_name": "Python 3",
      "name": "python3"
    },
    "language_info": {
      "name": "python"
    }
  },
  "nbformat": 4,
  "nbformat_minor": 0
}
