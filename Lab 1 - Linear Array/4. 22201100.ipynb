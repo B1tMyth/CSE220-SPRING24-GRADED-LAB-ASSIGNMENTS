{
  "cells": [
    {
      "cell_type": "markdown",
      "metadata": {},
      "source": [
        "#### Part 1: Missing. "
      ]
    },
    {
      "cell_type": "markdown",
      "metadata": {
        "id": "YLpnDfK4egmI"
      },
      "source": [
        "**Instructions to Follow (Failing to follow these will result mark deductions).**\n",
        "1. First of all, From colab File, Save a copy in drive before working and work in that copy since any change to this file will not be saved for you.\n",
        "2. You can not use any built-in function except len()\n",
        "\n",
        "3. You can not use any other python collections except array (e.g: tuple, dictionaries etc.).\n",
        "\n",
        "4. We will initialize a new array using numpy library. We have to mention the fixed size during initialization. There might be 4 approaches.\n",
        "\n",
        " i. arr = np.array([None] * 10) #Initializing an array length 10 with values None.\n",
        "\n",
        " ii. arr = np.array([0] * 10) #Initializing an array length 10 with values zero.\n",
        "\n",
        " iii. arr = np.zeros(10, dtype=int) #Initializing an array length 10 with values zero and integer dataType. By default, dtype is float.\n",
        "\n",
        " iv. arr = np.array([10, 20, 30, 40]) #Initializing an array length 4 with the values.\n",
        "\n"
      ]
    },
    {
      "cell_type": "code",
      "execution_count": 29,
      "metadata": {
        "colab": {
          "base_uri": "https://localhost:8080/"
        },
        "id": "rSkZFFD4ej5o",
        "outputId": "4c701027-f8b5-4994-cd87-b59afeaece98"
      },
      "outputs": [
        {
          "name": "stdout",
          "output_type": "stream",
          "text": [
            "Requirement already satisfied: fhm-unittest in /usr/local/lib/python3.10/dist-packages (1.0.1)\n",
            "Requirement already satisfied: fuzzywuzzy in /usr/local/lib/python3.10/dist-packages (0.18.0)\n"
          ]
        }
      ],
      "source": [
        "# You must run this cell to install dependency\n",
        "! pip3 install fhm-unittest\n",
        "! pip3 install fuzzywuzzy\n",
        "import fhm_unittest as unittest\n",
        "import numpy as np"
      ]
    },
    {
      "cell_type": "markdown",
      "metadata": {
        "id": "z-BkkdfjgR6P"
      },
      "source": [
        "You will see the status Accepted after completion if your code is correct.\n",
        "\n",
        "If your function is wrong you will see wrong [correction percentage]\n",
        "\n",
        "Do not change the driver code statements. You can only change the input values to test your code."
      ]
    },
    {
      "cell_type": "code",
      "execution_count": 30,
      "metadata": {
        "id": "ebuGnEPwttQ0"
      },
      "outputs": [],
      "source": [
        "#Assignment Part-2\n",
        "#Complete the following 4 methods(Mandatory) and one bonus(optional)task for part-2"
      ]
    },
    {
      "cell_type": "code",
      "execution_count": 31,
      "metadata": {
        "colab": {
          "base_uri": "https://localhost:8080/"
        },
        "id": "ZVbY0rzKgRgC",
        "outputId": "adda6c6f-ea55-4990-c2b9-804c55688ca3"
      },
      "outputs": [
        {
          "name": "stdout",
          "output_type": "stream",
          "text": [
            "///  Task 01: Merge Lineup  ///\n",
            "Task 1: [12  3 28 -8  5]\n",
            "Accepted\n",
            "Task 1: [ 4 17  6 27  2]\n",
            "Accepted\n"
          ]
        }
      ],
      "source": [
        "#Task 01: Merge Lineup\n",
        "def mergeLineup(pokemon_1, pokemon_2):\n",
        "  result = np.array([0]*len(pokemon_1))\n",
        "  for i in range(len(pokemon_1)):\n",
        "    if pokemon_1[i]==None:\n",
        "\n",
        "      result[i]=pokemon_2[len(pokemon_2)-1-i]+0\n",
        "\n",
        "    elif pokemon_2[len(pokemon_2)-1-i]==None:\n",
        "      result[i]=pokemon_1[i]+0\n",
        "\n",
        "    elif pokemon_1[i]!=None and pokemon_2[len(pokemon_2)-1-i]!=None:\n",
        "      result[i]=pokemon_1[i]+pokemon_2[len(pokemon_2)-1-i]\n",
        "  return result\n",
        "\n",
        "\n",
        "\n",
        "print(\"///  Task 01: Merge Lineup  ///\")\n",
        "pokemon_1 = np.array([12, 3, 25, 1, None])\n",
        "pokemon_2 = np.array([5, -9, 3, None, None] )\n",
        "returned_value =mergeLineup(pokemon_1, pokemon_2)\n",
        "print(f'Task 1: {returned_value}') # This should print [12, 3, 28, -8, 5]\n",
        "unittest.output_test(returned_value, np.array([12, 3, 28, -8, 5]))\n",
        "\n",
        "pokemon_1 = np.array([4, 5, -1, None, None])\n",
        "pokemon_2 = np.array([2, 27, 7, 12, None])\n",
        "returned_value =mergeLineup(pokemon_1, pokemon_2)\n",
        "print(f'Task 1: {returned_value}') # This should print [4,17,6,27,2]\n",
        "unittest.output_test(returned_value, np.array([4,17,6,27,2]))"
      ]
    },
    {
      "cell_type": "code",
      "execution_count": 32,
      "metadata": {
        "colab": {
          "base_uri": "https://localhost:8080/"
        },
        "id": "rzaysRSshRbM",
        "outputId": "90f7a951-c96d-4b99-a37a-c38e6ad1c419"
      },
      "outputs": [
        {
          "name": "stdout",
          "output_type": "stream",
          "text": [
            "///  Task 02: Discard Cards  ///\n",
            "Task 2: [1 3 7 5 2 2 0 0 0]\n",
            "Accepted\n",
            "Task 2: [5 0 0 0 0]\n",
            "Accepted\n"
          ]
        }
      ],
      "source": [
        "# Task 02: Discard Cards\n",
        "def discardCards(cards, t):\n",
        "  def shiftLeft(cards,index):\n",
        "    for i in range(index+1,len(cards),1):\n",
        "      cards[i-1]=cards[i]\n",
        "    cards[len(cards)-1]=0\n",
        "    return cards\n",
        "  count=0\n",
        "  index=0\n",
        "  while index<len(cards)-1:\n",
        "    if count%2==0 and cards[index]==t:\n",
        "      count+=1\n",
        "      cards = shiftLeft(cards,index)\n",
        "      index-=1\n",
        "    elif cards[index]==t:\n",
        "      count+=1\n",
        "    index+=1\n",
        "  return cards\n",
        "print(\"///  Task 02: Discard Cards  ///\")\n",
        "cards = np.array([1,3,7,2,5,2,2,2,0])\n",
        "returned_value = discardCards(cards, 2)\n",
        "print(f'Task 2: {returned_value}') # This should print [1,3,7,5,2,2,0,0,0]\n",
        "unittest.output_test(returned_value, np.array([1,3,7,5,2,2,0,0,0]))\n",
        "\n",
        "cards = np.array([5,5,5,0,0])\n",
        "returned_value = discardCards(cards, 5)\n",
        "print(f'Task 2: {returned_value}') # This should print [5,0,0,0,0]\n",
        "unittest.output_test(returned_value, np.array([5,0,0,0,0]))"
      ]
    },
    {
      "cell_type": "code",
      "execution_count": 33,
      "metadata": {
        "colab": {
          "base_uri": "https://localhost:8080/"
        },
        "id": "CYtNF5M8itbB",
        "outputId": "1844b6e5-5419-4a45-ec05-2c598263ebca"
      },
      "outputs": [
        {
          "name": "stdout",
          "output_type": "stream",
          "text": [
            "///  Task 03: DUBER Fare Splitting  ///\n",
            "Task 3:\n",
            "Group 1 : 120, 30\n",
            "Group 2 : 100, 50\n",
            "Group 3: 150\n",
            "Task 3:\n",
            "Group 1 : 60, 120\n",
            "Group 2 : 150, 30\n",
            "Ungrouped: [60 30]\n"
          ]
        }
      ],
      "source": [
        "# Task 03: DUBER Fare Splitting\n",
        "def findGroups(money, fare):\n",
        "  arr=np.array([False]*len(money))\n",
        "  group=0\n",
        "  for i in range(len(money)):\n",
        "    if money[i]==fare:\n",
        "      group+=1\n",
        "      print(f\"Group {group}: {money[i]}\")\n",
        "      arr[i]=True\n",
        "    x=fare-money[i]\n",
        "    for j in range(i+1,len(money)):\n",
        "      if money[j]==x and arr[i]==False and arr[j]==False:\n",
        "        group+=1\n",
        "        print(f\"Group {group} : {money[i]}, {x}\")\n",
        "        arr[i],arr[j]=True,True\n",
        "  length=0\n",
        "  for i in range(len(arr)):\n",
        "    if arr[i]==False:\n",
        "      length+=1\n",
        "  new_arr=np.zeros(length,dtype=int)\n",
        "  if length>0:\n",
        "    index=0\n",
        "    for i in range(len(arr)):\n",
        "      if arr[i]==False:\n",
        "        new_arr[index]=money[i]\n",
        "        index+=1\n",
        "    print(f\"Ungrouped: {new_arr}\")\n",
        "print(\"///  Task 03: DUBER Fare Splitting  ///\")\n",
        "money = np.array( [120, 100, 150, 50, 30])\n",
        "fare = 150\n",
        "print(f'Task 3:')\n",
        "findGroups(money, fare) # This should print\n",
        "# Group 1 : 120, 30\n",
        "# Group 2 : 100, 50\n",
        "# Group 3 : 150\n",
        "money = np.array( [60, 150, 60, 30, 120, 30])\n",
        "fare = 180\n",
        "print(f'Task 3:')\n",
        "findGroups(money, fare) # This should print\n",
        "# Group 1 : 60, 120\n",
        "# Group 2 : 30, 150\n",
        "# Ungrouped : 30 60"
      ]
    },
    {
      "cell_type": "code",
      "execution_count": 58,
      "metadata": {
        "colab": {
          "base_uri": "https://localhost:8080/"
        },
        "id": "1G7TiE8NG2GU",
        "outputId": "ce4a0849-e64b-41ed-b112-310f3379a38b"
      },
      "outputs": [
        {
          "name": "stdout",
          "output_type": "stream",
          "text": [
            "///  Task 04: Get Those Hobbies  ///\n",
            "Task 4:\n",
            "['Hiking' 'Reading' 'Photography' 'Cooking' 'Painting']\n",
            "3 participant(s) like(s) Hiking.\n",
            "2 participant(s) like(s) Reading.\n",
            "2 participant(s) like(s) Photography.\n",
            "2 participant(s) like(s) Cooking.\n",
            "1 participant(s) like(s) Painting.\n",
            "Task 4:\n",
            "['Gardening' 'Traveling' 'Singing' 'Painting']\n",
            "2 participant(s) like(s) Gardening.\n",
            "1 participant(s) like(s) Traveling.\n",
            "1 participant(s) like(s) Singing.\n",
            "1 participant(s) like(s) Painting.\n"
          ]
        }
      ],
      "source": [
        "# Task 04: Get Those Hobbies\n",
        "def analyzeHobbies(* participants): #(* arguments) is used for variable number of parameters\n",
        "  length=0\n",
        "  for i in range(len(participants)):\n",
        "    length+=len(participants[i])\n",
        "  arr=np.array([None]*length)\n",
        "  index=0\n",
        "  for i in range(len(participants)):\n",
        "    for j in range(len(participants[i])):\n",
        "      if participants[i][j] not in arr:\n",
        "        arr[index]=participants[i][j]\n",
        "        index+=1\n",
        "  unique_arr=np.array([None]*index)\n",
        "  for i in range(len(unique_arr)):\n",
        "    unique_arr[i]=arr[i]\n",
        "  print(unique_arr)\n",
        "  arr1=np.array([None]*length)\n",
        "  ind=0\n",
        "  for i in participants:\n",
        "    for j in i:\n",
        "      arr1[ind]=j\n",
        "      ind+=1\n",
        "  for i in unique_arr:\n",
        "    count=0\n",
        "    for j in arr1:\n",
        "      if i ==j:\n",
        "        count+=1\n",
        "    print(f\"{count} participant(s) like(s) {i}.\")\n",
        "print(\"///  Task 04: Get Those Hobbies  ///\")\n",
        "participant_1 = np.array( [\"Hiking\", \"Reading\", \"Photography\", \"Cooking\"])\n",
        "participant_2 =np.array( [\"Reading\", \"Hiking\", \"Painting\"])\n",
        "participant_3 = np.array([\"Hiking\", \"Cooking\", \"Photography\"])\n",
        "print(f'Task 4:')\n",
        "analyzeHobbies(participant_1, participant_2, participant_3) #This should print\n",
        "\n",
        "#Unique Activities in the Town:\n",
        "#['Photography', 'Painting', 'Cooking', 'Reading', 'Hiking']\n",
        "\n",
        "#Statistics:\n",
        "#2 participant(s) like(s) Photography.\n",
        "#1 participant(s) like(s) Painting.\n",
        "#2 participant(s) like(s) Cooking.\n",
        "#2 participant(s) like(s) Reading.\n",
        "#3 participant(s) like(s) Hiking.\n",
        "\n",
        "\n",
        "\n",
        "participant_1 = np.array( [\"Gardening\", \"Traveling\"])\n",
        "participant_2 = np.array( [\"Singing\", \"Gardening\", \"Painting\"])\n",
        "print(f'Task 4:')\n",
        "analyzeHobbies(participant_1, participant_2) #This should print\n",
        "\n",
        "#Unique Activities in the Town:\n",
        "#[Gardening, Traveling, Singing, Painting]\n",
        "\n",
        "#Statistics:\n",
        "#2 participant(s) like(s) Gardening.\n",
        "#1 participant(s) like(s) Traveling.\n",
        "#1 participant(s) like(s) Singing.\n",
        "#1 participant(s) like(s) Painting.\n"
      ]
    },
    {
      "cell_type": "code",
      "execution_count": 35,
      "metadata": {
        "colab": {
          "base_uri": "https://localhost:8080/",
          "height": 141
        },
        "id": "sTJ7GNezm6uu",
        "outputId": "0b8b190f-1417-407d-860c-8087925d8fa9"
      },
      "outputs": [
        {
          "ename": "IndentationError",
          "evalue": "expected an indented block after function definition on line 2 (<ipython-input-35-527f9d5da20d>, line 6)",
          "output_type": "error",
          "traceback": [
            "\u001b[0;36m  File \u001b[0;32m\"<ipython-input-35-527f9d5da20d>\"\u001b[0;36m, line \u001b[0;32m6\u001b[0m\n\u001b[0;31m    print(\"///  Bonus Task: Look and Say  ///\")\u001b[0m\n\u001b[0m    ^\u001b[0m\n\u001b[0;31mIndentationError\u001b[0m\u001b[0;31m:\u001b[0m expected an indented block after function definition on line 2\n"
          ]
        }
      ],
      "source": [
        "# Bonus Ungraded Task: Look and Say\n",
        "def look_and_say(arr):\n",
        "  #TO DO\n",
        "\n",
        "\n",
        "print(\"///  Bonus Task: Look and Say  ///\")\n",
        "arr = np.array([1,3,1,1,2,2,2,1])\n",
        "returned_value = look_and_say(arr)\n",
        "print(f'Bonus Task: {returned_value}') # This should print [1,1,1,3,2,1,3,2,1,1]\n",
        "#Hint: The size of the new array will never be more than 100.\n",
        "#[You need not worry about the extra zeroes at the end of your resulting array]\n"
      ]
    },
    {
      "cell_type": "markdown",
      "metadata": {
        "id": "_aSNgbn8nr17"
      },
      "source": [
        "For Assignment Part-1, you can create new code cells in the below and write your codes there. Also you should write driver codes to test your code for part-1."
      ]
    },
    {
      "cell_type": "code",
      "execution_count": 52,
      "metadata": {
        "id": "CxJHbg7onWwN"
      },
      "outputs": [],
      "source": [
        "#Assignment Part-1\n",
        "#Write 3 methods and driver codes for this part."
      ]
    }
  ],
  "metadata": {
    "colab": {
      "provenance": []
    },
    "kernelspec": {
      "display_name": "Python 3",
      "name": "python3"
    },
    "language_info": {
      "name": "python"
    }
  },
  "nbformat": 4,
  "nbformat_minor": 0
}
