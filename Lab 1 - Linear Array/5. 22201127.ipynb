{
  "cells": [
    {
      "cell_type": "markdown",
      "metadata": {},
      "source": [
        "#### Part 2: \n",
        "#### Task 2: Iterates over a view of the array while changing the actual array. The elements iterated are different therefore inconsistensies are invetible. For example, the algorithm fails on [5,5,5,0,5].\n",
        "#### Task 3: Some edge cases were not handled. \n",
        "#### Bonus Task: Almost correct apart from some bad initialization and missing updates. "
      ]
    },
    {
      "cell_type": "markdown",
      "metadata": {
        "id": "YLpnDfK4egmI"
      },
      "source": [
        "**Instructions to Follow (Failing to follow these will result mark deductions).**\n",
        "1. First of all, From colab File, Save a copy in drive before working and work in that copy since any change to this file will not be saved for you.\n",
        "2. You can not use any built-in function except len()\n",
        "\n",
        "3. You can not use any other python collections except array (e.g: tuple, dictionaries etc.).\n",
        "\n",
        "4. We will initialize a new array using numpy library. We have to mention the fixed size during initialization. There might be 4 approaches.\n",
        "\n",
        " i. arr = np.array([None] * 10) #Initializing an array length 10 with values None.\n",
        "\n",
        " ii. arr = np.array([0] * 10) #Initializing an array length 10 with values zero.\n",
        "\n",
        " iii. arr = np.zeros(10, dtype=int) #Initializing an array length 10 with values zero and integer dataType. By default, dtype is float.\n",
        "\n",
        " iv. arr = np.array([10, 20, 30, 40]) #Initializing an array length 4 with the values.\n",
        "\n"
      ]
    },
    {
      "cell_type": "code",
      "execution_count": 1,
      "metadata": {
        "colab": {
          "base_uri": "https://localhost:8080/"
        },
        "id": "rSkZFFD4ej5o",
        "outputId": "c4f2fb58-90ed-4f49-90d5-763b22eec664"
      },
      "outputs": [],
      "source": [
        "# You must run this cell to install dependency\n",
        "# ! pip3 install fhm-unittest\n",
        "# ! pip3 install fuzzywuzzy\n",
        "# import fhm_unittest as unittest\n",
        "import numpy as np"
      ]
    },
    {
      "cell_type": "markdown",
      "metadata": {
        "id": "z-BkkdfjgR6P"
      },
      "source": [
        "You will see the status Accepted after completion if your code is correct.\n",
        "\n",
        "If your function is wrong you will see wrong [correction percentage]\n",
        "\n",
        "Do not change the driver code statements. You can only change the input values to test your code."
      ]
    },
    {
      "cell_type": "code",
      "execution_count": null,
      "metadata": {
        "id": "ebuGnEPwttQ0"
      },
      "outputs": [],
      "source": [
        "#Assignment Part-2\n",
        "#Complete the following 4 methods(Mandatory) and one bonus(optional)task for part-2"
      ]
    },
    {
      "cell_type": "code",
      "execution_count": 104,
      "metadata": {
        "colab": {
          "base_uri": "https://localhost:8080/"
        },
        "id": "ZVbY0rzKgRgC",
        "outputId": "8a88d919-0bea-42cb-bc03-5bed82dd8700"
      },
      "outputs": [
        {
          "name": "stdout",
          "output_type": "stream",
          "text": [
            "///  Task 01: Merge Lineup  ///\n",
            "Task 1: [12  3 28 -8  5]\n",
            "Accepted\n",
            "Task 1: [ 4 17  6 27  2]\n",
            "Accepted\n"
          ]
        }
      ],
      "source": [
        "# #Task 01: Merge Lineup\n",
        "def mergeLineup(pokemon_1, pokemon_2):\n",
        "  result = np.array([0]*len(pokemon_1))\n",
        "  for i in range(len(pokemon_1)):\n",
        "    if pokemon_1[i] != None and pokemon_2[len(pokemon_2)-1-i] != None:\n",
        "      result[i] = pokemon_1[i] + pokemon_2[len(pokemon_2)-1-i]\n",
        "    elif pokemon_1[i] == None and pokemon_2[len(pokemon_2)-1-i] != None:\n",
        "      result[i] = pokemon_2[len(pokemon_2)-1-i]\n",
        "    elif pokemon_1[i] != None and pokemon_2[len(pokemon_2)-1-i] == None:\n",
        "      result[i] = pokemon_1[i]\n",
        "\n",
        "  return result\n",
        "\n",
        "print(\"///  Task 01: Merge Lineup  ///\")\n",
        "pokemon_1 = np.array([12, 3, 25, 1, None])\n",
        "pokemon_2 = np.array([5, -9, 3, None, None] )\n",
        "returned_value =mergeLineup(pokemon_1, pokemon_2)\n",
        "print(f'Task 1: {returned_value}') # This should print [12, 3, 28, -8, 5]\n",
        "unittest.output_test(returned_value, np.array([12, 3, 28, -8, 5]))\n",
        "pokemon_1 = np.array([4, 5, -1, None, None])\n",
        "pokemon_2 = np.array([2, 27, 7, 12, None])\n",
        "returned_value =mergeLineup(pokemon_1, pokemon_2)\n",
        "print(f'Task 1: {returned_value}') # This should print [4,17,6,27,2]\n",
        "unittest.output_test(returned_value, np.array([4,17,6,27,2]))"
      ]
    },
    {
      "cell_type": "code",
      "execution_count": 8,
      "metadata": {
        "colab": {
          "base_uri": "https://localhost:8080/"
        },
        "id": "AgHTCvY2WSEc",
        "outputId": "e9601a42-bd5b-42f6-fae6-b244d66fe494"
      },
      "outputs": [
        {
          "name": "stdout",
          "output_type": "stream",
          "text": [
            "///  Task 02: Discard Cards  ///\n",
            "Task 2: [1 3 7 5 2 2 0 0 0]\n",
            "Task 2: [5 0 0 0 0]\n"
          ]
        }
      ],
      "source": [
        "# Task 02: Discard Cards\n",
        "def discardCards(cards, t):\n",
        "  arr1= np.array([0]* len(cards))\n",
        "  for i in range(len(cards)):\n",
        "    arr1[i]= cards[i]\n",
        "\n",
        "  count = 0\n",
        "  for i in range(len(cards)):\n",
        "    if arr1[i] == t:\n",
        "      count += 1\n",
        "    if count % 2 == 1:\n",
        "      for j in range(i+1, len(cards)):\n",
        "        cards[j-1] = cards[j]\n",
        "        cards[len(cards)-1]= 0\n",
        "      count+=1\n",
        "  return cards\n",
        "\n",
        "\n",
        "print(\"///  Task 02: Discard Cards  ///\")\n",
        "cards = np.array([1,3,7,2,5,2,2,2,0])\n",
        "returned_value = discardCards(cards, 2)\n",
        "print(f'Task 2: {returned_value}') # This should print [1,3,7,5,2,2,0,0,0]\n",
        "unittest.output_test(returned_value, np.array([1,3,7,5,2,2,0,0,0]))\n",
        "\n",
        "cards = np.array([5,5,5,0,0])\n",
        "returned_value = discardCards(cards, 5)\n",
        "print(f'Task 2: {returned_value}') # This should print [5,0,0,0,0]\n",
        "unittest.output_test(returned_value, np.array([5,0,0,0,0]))"
      ]
    },
    {
      "cell_type": "code",
      "execution_count": 31,
      "metadata": {
        "colab": {
          "base_uri": "https://localhost:8080/"
        },
        "id": "CYtNF5M8itbB",
        "outputId": "cd0ff2ce-41b1-4b2f-b49a-00981802c49a"
      },
      "outputs": [
        {
          "name": "stdout",
          "output_type": "stream",
          "text": [
            "///  Task 03: DUBER Fare Splitting  ///\n",
            "Task 3:\n",
            "Group 1 : 120, 30\n",
            "Group 2 : 100, 50\n",
            "Group 3 : 150\n",
            "Task 3:\n",
            "Group 1 : 60, 120\n",
            "Group 2 : 150, 30\n",
            "Ungrouped :60 30 \n"
          ]
        }
      ],
      "source": [
        "# Task 03: DUBER Fare Splitting\n",
        "def findGroups(money, fare):\n",
        "  count = 0\n",
        "  for i in range(len(money)):\n",
        "    if money[i] != fare:\n",
        "      for j in range(i+1, len(money)):\n",
        "        if money[i] + money[j] == fare:\n",
        "          count += 1\n",
        "          print('Group', count,':', str(money[i])+ ', ' +str(money[j]))\n",
        "          money[i], money[j] = 0, 0\n",
        "          break\n",
        "    else:\n",
        "      count+= 1\n",
        "      print('Group', count, ':', money[i] )\n",
        "      money[i] = 0\n",
        "\n",
        "  ungrouped = ''\n",
        "  for k in range(len(money)):\n",
        "    if money[k] != 0:\n",
        "      ungrouped += str(money[k]) + ' '\n",
        "  if ungrouped != '':\n",
        "    print('Ungrouped :'+ ungrouped)\n",
        "\n",
        "\n",
        "\n",
        "  # TO DO\n",
        "  # Print outputs inside the method\n",
        "\n",
        "print(\"///  Task 03: DUBER Fare Splitting  ///\")\n",
        "money = np.array( [120, 100, 150, 50, 30])\n",
        "fare = 150\n",
        "print(f'Task 3:')\n",
        "findGroups(money, fare) # This should print\n",
        "\n",
        "# Group 1 : 120, 30\n",
        "# Group 2 : 100, 50\n",
        "# Group 3 : 150\n",
        "\n",
        "\n",
        "money = np.array( [60, 150, 60, 30, 120, 30])\n",
        "fare = 180\n",
        "print(f'Task 3:')\n",
        "findGroups(money, fare) # This should print\n",
        "\n",
        "# Group 1 : 60, 120\n",
        "# Group 2 : 30, 150\n",
        "# Ungrouped : 30 60"
      ]
    },
    {
      "cell_type": "code",
      "execution_count": 32,
      "metadata": {
        "colab": {
          "base_uri": "https://localhost:8080/"
        },
        "id": "SzBe-ByVmV8G",
        "outputId": "ac4a073e-e51b-4e65-f638-6cde73f661b8"
      },
      "outputs": [
        {
          "name": "stdout",
          "output_type": "stream",
          "text": [
            "///  Task 04: Get Those Hobbies  ///\n",
            "Task 4:\n",
            "Unique Activities in the Town:\n",
            " ['Hiking' 'Reading' 'Photography' 'Cooking' 'Painting']\n",
            " \n",
            "Statistics : \n",
            "3 participant(s) like(s) Hiking\n",
            "2 participant(s) like(s) Reading\n",
            "2 participant(s) like(s) Photography\n",
            "2 participant(s) like(s) Cooking\n",
            "1 participant(s) like(s) Painting\n",
            "Task 4:\n",
            "Unique Activities in the Town:\n",
            " ['Gardening' 'Traveling' 'Singing' 'Painting']\n",
            " \n",
            "Statistics : \n",
            "2 participant(s) like(s) Gardening\n",
            "1 participant(s) like(s) Traveling\n",
            "1 participant(s) like(s) Singing\n",
            "1 participant(s) like(s) Painting\n"
          ]
        }
      ],
      "source": [
        "# @title Default title text\n",
        "def analyzeHobbies(*participants): #(* arguments) is used for variable number of parameters\n",
        "  #TO DO\n",
        "  #Print inside the function\n",
        "  count = 0\n",
        "  for i in participants:\n",
        "    for j in i:\n",
        "      count += 1\n",
        "  arr1 = np.zeros(count, dtype = object)\n",
        "  idx = 0\n",
        "  for i in participants:\n",
        "    for j in i:\n",
        "      if j not in arr1:\n",
        "        arr1[idx] = j\n",
        "        idx+=1\n",
        "\n",
        "  c = 0\n",
        "  for val in arr1:\n",
        "    if val != 0:\n",
        "      c += 1\n",
        "  new_arr = np.zeros(c, dtype = object)\n",
        "  for val in range(c):\n",
        "    new_arr[val] = arr1[val]\n",
        "  print(f\"Unique Activities in the Town:\\n {new_arr}\\n \\nStatistics : \")\n",
        "\n",
        "  for i in new_arr:\n",
        "      counter = 0\n",
        "      for k in range (len(participants)):\n",
        "        for l in participants[k]:\n",
        "          if i == l:\n",
        "            counter += 1\n",
        "      print(counter,'participant(s) like(s)',i)\n",
        "\n",
        "\n",
        "print(\"///  Task 04: Get Those Hobbies  ///\")\n",
        "participant_1 = np.array( [\"Hiking\", \"Reading\", \"Photography\", \"Cooking\"])\n",
        "participant_2 = np.array( [\"Reading\", \"Hiking\", \"Painting\"])\n",
        "participant_3 = np.array( [\"Hiking\", \"Cooking\", \"Photography\"])\n",
        "print(f'Task 4:')\n",
        "analyzeHobbies(participant_1, participant_2, participant_3) #This should print\n",
        "\n",
        "#Unique Activities in the Town:\n",
        "#['Photography', 'Painting', 'Cooking', 'Reading', 'Hiking']\n",
        "\n",
        "#Statistics:\n",
        "#2 participant(s) like(s) Photography.\n",
        "#1 participant(s) like(s) Painting.\n",
        "#2 participant(s) like(s) Cooking.\n",
        "#2 participant(s) like(s) Reading.\n",
        "#3 participant(s) like(s) Hiking.\n",
        "\n",
        "\n",
        "\n",
        "participant_1 = np.array( [\"Gardening\", \"Traveling\"])\n",
        "participant_2 = np.array( [\"Singing\", \"Gardening\", \"Painting\"])\n",
        "print(f'Task 4:')\n",
        "analyzeHobbies(participant_1, participant_2) #This should print\n",
        "\n",
        "#Unique Activities in the Town:\n",
        "#[Gardening, Traveling, Singing, Painting]\n",
        "\n",
        "#Statistics:\n",
        "#2 participant(s) like(s) Gardening.\n",
        "#1 participant(s) like(s) Traveling.\n",
        "#1 participant(s) like(s) Singing.\n",
        "#1 participant(s) like(s) Painting."
      ]
    },
    {
      "cell_type": "code",
      "execution_count": 13,
      "metadata": {
        "colab": {
          "base_uri": "https://localhost:8080/",
          "height": 383
        },
        "id": "sTJ7GNezm6uu",
        "outputId": "cd16c979-208f-4d6a-9aa0-e712f6de185b"
      },
      "outputs": [
        {
          "name": "stdout",
          "output_type": "stream",
          "text": [
            "///  Bonus Task: Look and Say  ///\n",
            "Bonus Task: [1 1 1 3 2 1 3 2 1 1 0 0 0 0 0 0]\n"
          ]
        }
      ],
      "source": [
        "# Bonus Ungraded Task: Look and Say\n",
        "def look_and_say(arr):\n",
        "  #TO DO\n",
        "  new_arr = np.zeros(len(arr)*2, dtype = int)\n",
        "\n",
        "  i = 0\n",
        "  idx = 0\n",
        "  c = 1\n",
        "  while c < len(arr):\n",
        "    d=c+1\n",
        "    while d < len(arr)-1:\n",
        "      if arr[c] == arr[d]:\n",
        "        c += 1\n",
        "      else:\n",
        "        break\n",
        "\n",
        "    new_arr[i], new_arr[i+1] = c, arr[idx]\n",
        "    idx += 1\n",
        "    i+=2\n",
        "  return new_arr\n",
        "\n",
        "\n",
        "\n",
        "print(\"///  Bonus Task: Look and Say  ///\")\n",
        "arr = np.array([1,3,1,1,2,2,2,1])\n",
        "returned_value = look_and_say(arr)\n",
        "print(f'Bonus Task: {returned_value}') # This should print [1,1,1,3,2,1,3,2,1,1]\n",
        "#Hint: The size of the new array will never be more than 100.\n",
        "#[You need not worry about the extra zeroes at the end of your resulting array]\n"
      ]
    },
    {
      "cell_type": "markdown",
      "metadata": {
        "id": "_aSNgbn8nr17"
      },
      "source": [
        "For Assignment Part-1, you can create new code cells in the below and write your codes there. Also you should write driver codes to test your code for part-1."
      ]
    },
    {
      "cell_type": "code",
      "execution_count": null,
      "metadata": {
        "id": "CxJHbg7onWwN"
      },
      "outputs": [],
      "source": [
        "#Assignment Part-1\n",
        "#Write 3 methods and driver codes for this part."
      ]
    },
    {
      "cell_type": "code",
      "execution_count": 8,
      "metadata": {
        "colab": {
          "base_uri": "https://localhost:8080/"
        },
        "id": "s-dXmnPUuJqu",
        "outputId": "8ca3517f-5529-4fa5-e560-7f0cd32cb666"
      },
      "outputs": [
        {
          "name": "stdout",
          "output_type": "stream",
          "text": [
            "The mean of the numbers is: 10.181818181818182\n",
            "The standard deviation is: 7.96\n",
            "New array: [25, -5]\n"
          ]
        }
      ],
      "source": [
        "def mean(arr):\n",
        "  sum_val = 0\n",
        "  for i in arr:\n",
        "    sum_val += i\n",
        "  mean_val = sum_val / len(arr)\n",
        "  return mean_val\n",
        "\n",
        "def std_deviation(arr):\n",
        "  dev = 0\n",
        "  for i in range(len(arr)):\n",
        "    dev += (arr[i] - mean(arr))**2\n",
        "  std = ((dev / (len(arr) - 1)))**(1/2)\n",
        "  return std\n",
        "\n",
        "def create_new_arr(arr):\n",
        "  mean_val = mean(arr)\n",
        "  std_dev = std_deviation(arr)\n",
        "\n",
        "  new_arr = [x for x in arr if abs(x - mean_val) >= 1.5 * std_dev]\n",
        "\n",
        "  if not new_arr:\n",
        "    return None\n",
        "  return new_arr\n",
        "\n",
        "input_arr = [10, 8, 13, 9, 14, 25, -5, 20, 7, 7, 4]\n",
        "print(f\"The mean of the numbers is: {mean(input_arr)}\")\n",
        "print(\"The standard deviation is:\", \"%.2f\"% std_deviation(input_arr))\n",
        "print(f\"New array: {create_new_arr(input_arr)}\")"
      ]
    },
    {
      "cell_type": "code",
      "execution_count": null,
      "metadata": {
        "id": "ypevnSu_tU7W"
      },
      "outputs": [],
      "source": []
    }
  ],
  "metadata": {
    "colab": {
      "provenance": []
    },
    "kernelspec": {
      "display_name": "Python 3",
      "name": "python3"
    },
    "language_info": {
      "codemirror_mode": {
        "name": "ipython",
        "version": 3
      },
      "file_extension": ".py",
      "mimetype": "text/x-python",
      "name": "python",
      "nbconvert_exporter": "python",
      "pygments_lexer": "ipython3",
      "version": "3.11.5"
    }
  },
  "nbformat": 4,
  "nbformat_minor": 0
}
