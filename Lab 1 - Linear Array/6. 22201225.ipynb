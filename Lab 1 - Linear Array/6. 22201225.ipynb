{
  "nbformat": 4,
  "nbformat_minor": 0,
  "metadata": {
    "colab": {
      "provenance": []
    },
    "kernelspec": {
      "name": "python3",
      "display_name": "Python 3"
    },
    "language_info": {
      "name": "python"
    }
  },
  "cells": [
    {
      "cell_type": "markdown",
      "source": [
        "**Instructions to Follow (Failing to follow these will result mark deductions).**\n",
        "1. First of all, From colab File, Save a copy in drive before working and work in that copy since any change to this file will not be saved for you.\n",
        "2. You can not use any built-in function except len()\n",
        "\n",
        "3. You can not use any other python collections except array (e.g: tuple, dictionaries etc.).\n",
        "\n",
        "4. We will initialize a new array using numpy library. We have to mention the fixed size during initialization. There might be 4 approaches.\n",
        "\n",
        " i. arr = np.array([None] * 10) #Initializing an array length 10 with values None.\n",
        "\n",
        " ii. arr = np.array([0] * 10) #Initializing an array length 10 with values zero.\n",
        "\n",
        " iii. arr = np.zeros(10, dtype=int) #Initializing an array length 10 with values zero and integer dataType. By default, dtype is float.\n",
        "\n",
        " iv. arr = np.array([10, 20, 30, 40]) #Initializing an array length 4 with the values.\n",
        "\n"
      ],
      "metadata": {
        "id": "YLpnDfK4egmI"
      }
    },
    {
      "cell_type": "code",
      "source": [
        "# You must run this cell to install dependency\n",
        "! pip3 install fhm-unittest\n",
        "! pip3 install fuzzywuzzy\n",
        "import fhm_unittest as unittest\n",
        "import numpy as np"
      ],
      "metadata": {
        "id": "rSkZFFD4ej5o",
        "colab": {
          "base_uri": "https://localhost:8080/"
        },
        "outputId": "2a78413b-0917-4c20-e0ab-3eb5c2e43cc1"
      },
      "execution_count": 31,
      "outputs": [
        {
          "output_type": "stream",
          "name": "stdout",
          "text": [
            "Requirement already satisfied: fhm-unittest in /usr/local/lib/python3.10/dist-packages (1.0.1)\n",
            "Requirement already satisfied: fuzzywuzzy in /usr/local/lib/python3.10/dist-packages (0.18.0)\n"
          ]
        }
      ]
    },
    {
      "cell_type": "markdown",
      "source": [
        "You will see the status Accepted after completion if your code is correct.\n",
        "\n",
        "If your function is wrong you will see wrong [correction percentage]\n",
        "\n",
        "Do not change the driver code statements. You can only change the input values to test your code."
      ],
      "metadata": {
        "id": "z-BkkdfjgR6P"
      }
    },
    {
      "cell_type": "code",
      "source": [
        "#Assignment Part-2\n",
        "#Complete the following 4 methods(Mandatory) and one bonus(optional)task for part-2"
      ],
      "metadata": {
        "id": "ebuGnEPwttQ0"
      },
      "execution_count": 21,
      "outputs": []
    },
    {
      "cell_type": "code",
      "source": [
        "#Task 01: Merge Lineup\n",
        "def mergeLineup(pokemon_1, pokemon_2):\n",
        "  # TO DO\n",
        "  result = np.array([0]*len(pokemon_1))\n",
        "  for i in range (len(pokemon_1)):\n",
        "    result[i] = (pokemon_1[i] if pokemon_1[i] is not None else 0) + (pokemon_2[len(pokemon_2) - 1 - i] if pokemon_2[len(pokemon_2) - 1 - i] is not None else 0)\n",
        "  return result\n",
        "print(\"///  Task 01: Merge Lineup  ///\")\n",
        "pokemon_1 = np.array([12, 3, 25, 1, None])\n",
        "pokemon_2 = np.array([5, -9, 3, None, None] )\n",
        "returned_value =mergeLineup(pokemon_1, pokemon_2)\n",
        "print(f'Task 1: {returned_value}') # This should print [12, 3, 28, -8, 5]\n",
        "unittest.output_test(returned_value, np.array([12, 3, 28, -8, 5]))\n",
        "\n",
        "pokemon_1 = np.array([4, 5, -1, None, None])\n",
        "pokemon_2 = np.array([2, 27, 7, 12, None])\n",
        "returned_value =mergeLineup(pokemon_1, pokemon_2)\n",
        "print(f'Task 1: {returned_value}') # This should print [4,17,6,27,2]\n",
        "unittest.output_test(returned_value, np.array([4,17,6,27,2]))"
      ],
      "metadata": {
        "id": "ZVbY0rzKgRgC",
        "colab": {
          "base_uri": "https://localhost:8080/"
        },
        "outputId": "c0461edb-19ed-492c-96c0-58bb3e2ce7a7"
      },
      "execution_count": 22,
      "outputs": [
        {
          "output_type": "stream",
          "name": "stdout",
          "text": [
            "///  Task 01: Merge Lineup  ///\n",
            "Task 1: [12  3 28 -8  5]\n",
            "Accepted\n",
            "Task 1: [ 4 17  6 27  2]\n",
            "Accepted\n"
          ]
        }
      ]
    },
    {
      "cell_type": "code",
      "source": [
        "# Task 02: Discard Cards\n",
        "def discardCards(cards, t):\n",
        "  # TO DO\n",
        "  count=0\n",
        "  for i in range(len(cards)):\n",
        "    if cards[i]==t and count%2==0:\n",
        "      for j in range(i+1,len(cards)):                #left shift  #cards=left shift  (cards)\n",
        "        cards[j-1]=cards[j]\n",
        "      cards[len(cards)-1]=0\n",
        "      count+=1\n",
        "    if cards[i]==t and count%2!=0:\n",
        "      cards[i]=cards[i]\n",
        "      count+=1\n",
        "  return cards\n",
        "\n",
        "print(\"///  Task 02: Discard Cards  ///\")\n",
        "cards = np.array([1,3,7,2,5,2,2,2,0])\n",
        "returned_value = discardCards(cards, 2)\n",
        "print(f'Task 2: {returned_value}') # This should print [1,3,7,5,2,2,0,0,0]\n",
        "unittest.output_test(returned_value, np.array([1,3,7,5,2,2,0,0,0]))\n",
        "\n",
        "cards = np.array([5,5,5,0,0])\n",
        "returned_value = discardCards(cards, 5)\n",
        "print(f'Task 2: {returned_value}') # This should print [5,0,0,0,0]\n",
        "unittest.output_test(returned_value, np.array([5,0,0,0,0]))"
      ],
      "metadata": {
        "id": "rzaysRSshRbM",
        "colab": {
          "base_uri": "https://localhost:8080/"
        },
        "outputId": "f2dece8f-efea-4e30-e301-8890e252837d"
      },
      "execution_count": 23,
      "outputs": [
        {
          "output_type": "stream",
          "name": "stdout",
          "text": [
            "///  Task 02: Discard Cards  ///\n",
            "Task 2: [1 3 7 5 2 2 0 0 0]\n",
            "Accepted\n",
            "Task 2: [5 0 0 0 0]\n",
            "Accepted\n"
          ]
        }
      ]
    },
    {
      "cell_type": "code",
      "source": [
        "# Task 03: DUBER Fare Splitting\n",
        "def findGroups(money, fare):\n",
        "  # TO DO\n",
        "  # Print outputs inside the method\n",
        "  count=0\n",
        "  for i in range (len(money)):\n",
        "    if money[i]!=fare:\n",
        "      for j in range (i+1,len(money)):\n",
        "        if money[i]+money[j]==fare:\n",
        "          count+=1\n",
        "          print(f\"Group {count} : {money[i]}, {money[j]}\")\n",
        "          money[i]=fare\n",
        "          money[j]-=money[j]\n",
        "          break\n",
        "    else:\n",
        "      count+=1\n",
        "      print(f\"Group {count} : {money[i]}\")\n",
        "  ug=\"\"\n",
        "  for k in range (len(money)):\n",
        "    if money[k]!=fare and money[k]!=0:\n",
        "      ug+=str(money[k]) + \" \"\n",
        "  if ug!=\"\":\n",
        "    print(\"Ungrouped :\",ug,end=\" \")\n",
        "\n",
        "\n",
        "print(\"///  Task 03: DUBER Fare Splitting  ///\")\n",
        "money = np.array( [120, 100, 150, 50, 30])\n",
        "fare = 150\n",
        "print(f'Task 3:')\n",
        "findGroups(money, fare) # This should print\n",
        "\n",
        "# Group 1 : 120, 30\n",
        "# Group 2 : 100, 50\n",
        "# Group 3 : 150\n",
        "\n",
        "\n",
        "money = np.array( [60, 150, 60, 30, 120, 30])\n",
        "fare = 180\n",
        "print(f'Task 3:')\n",
        "findGroups(money, fare) # This should print\n",
        "\n",
        "# Group 1 : 60, 120\n",
        "# Group 2 : 30, 150\n",
        "# Ungrouped : 30 60"
      ],
      "metadata": {
        "id": "CYtNF5M8itbB",
        "colab": {
          "base_uri": "https://localhost:8080/"
        },
        "outputId": "dd67c2d0-96ce-4ec8-99d8-d840dc6345a5"
      },
      "execution_count": 24,
      "outputs": [
        {
          "output_type": "stream",
          "name": "stdout",
          "text": [
            "///  Task 03: DUBER Fare Splitting  ///\n",
            "Task 3:\n",
            "Group 1 : 120, 30\n",
            "Group 2 : 100, 50\n",
            "Group 3 : 150\n",
            "Task 3:\n",
            "Group 1 : 60, 120\n",
            "Group 2 : 150, 30\n",
            "Ungrouped : 60 30  "
          ]
        }
      ]
    },
    {
      "cell_type": "code",
      "source": [
        "# Task 04: Get Those Hobbies\n",
        "def analyzeHobbies(*participants): #(* arguments) is used for variable number of parameters\n",
        "  # TO DO\n",
        "  # Print outputs inside the method\n",
        "\n",
        "  #in search of unique activities\n",
        "  new_len=0\n",
        "  for participant in range (len(participants)):\n",
        "    for hobby in participants[participant]:\n",
        "      new_len+=1\n",
        "  new_arr=np.zeros (new_len,dtype=object)\n",
        "  idx=0\n",
        "  for participant in participants:\n",
        "    for hobby in participant:\n",
        "      if hobby not in new_arr:\n",
        "        new_arr[idx]=hobby\n",
        "        idx+=1\n",
        "\n",
        "  #remove dummy values\n",
        "  cnt=0\n",
        "  for val in new_arr:\n",
        "    if val!=0:\n",
        "      cnt+=1\n",
        "  resized_new_arr=np.zeros (cnt,dtype=object)\n",
        "  for val in range(cnt):\n",
        "    resized_new_arr[val]=new_arr[val]\n",
        "  print(f\"Unique Activities in the Town:\\n {resized_new_arr}\\n \\nStatistics : \")\n",
        "\n",
        "  #in search of statistics\n",
        "  for i in resized_new_arr:\n",
        "    counter=0\n",
        "    for participant in range (len(participants)):\n",
        "      for hobby in participants[participant]:\n",
        "        if i==hobby:\n",
        "          counter+=1\n",
        "    print(counter,'participant(s) like(s)',i)\n",
        "\n",
        "print(\"///  Task 04: Get Those Hobbies  ///\")\n",
        "participant_1 = np.array( [\"Hiking\", \"Reading\", \"Photography\", \"Cooking\"])\n",
        "participant_2 = np.array( [\"Reading\", \"Hiking\", \"Painting\"])\n",
        "participant_3 = np.array( [\"Hiking\", \"Cooking\", \"Photography\"])\n",
        "print(f'Task 4:')\n",
        "analyzeHobbies(participant_1, participant_2, participant_3) #This should print\n",
        "#Unique Activities in the Town:\n",
        "#['Photography', 'Painting', 'Cooking', 'Reading', 'Hiking']\n",
        "\n",
        "#Statistics:\n",
        "#2 participant(s) like(s) Photography.\n",
        "#1 participant(s) like(s) Painting.\n",
        "#2 participant(s) like(s) Cooking.\n",
        "#2 participant(s) like(s) Reading.\n",
        "#3 participant(s) like(s) Hiking.\n",
        "\n",
        "participant_1 = np.array( [\"Gardening\", \"Traveling\"])\n",
        "participant_2 = np.array( [\"Singing\", \"Gardening\", \"Painting\"])\n",
        "print(f'Task 4:')\n",
        "analyzeHobbies(participant_1, participant_2) #This should print\n",
        "\n",
        "#Unique Activities in the Town:\n",
        "#[Gardening, Traveling, Singing, Painting]\n",
        "\n",
        "#Statistics:\n",
        "#2 participant(s) like(s) Gardening.\n",
        "#1 participant(s) like(s) Traveling.\n",
        "#1 participant(s) like(s) Singing.\n",
        "#1 participant(s) like(s) Painting.\n"
      ],
      "metadata": {
        "id": "SzBe-ByVmV8G",
        "colab": {
          "base_uri": "https://localhost:8080/"
        },
        "outputId": "ac4fa9fa-5eef-40e6-e8f3-39d82b354786"
      },
      "execution_count": 27,
      "outputs": [
        {
          "output_type": "stream",
          "name": "stdout",
          "text": [
            "///  Task 04: Get Those Hobbies  ///\n",
            "Task 4:\n",
            "Unique Activities in the Town:\n",
            " ['Hiking' 'Reading' 'Photography' 'Cooking' 'Painting']\n",
            " \n",
            "Statistics : \n",
            "3 participant(s) like(s) Hiking\n",
            "2 participant(s) like(s) Reading\n",
            "2 participant(s) like(s) Photography\n",
            "2 participant(s) like(s) Cooking\n",
            "1 participant(s) like(s) Painting\n",
            "Task 4:\n",
            "Unique Activities in the Town:\n",
            " ['Gardening' 'Traveling' 'Singing' 'Painting']\n",
            " \n",
            "Statistics : \n",
            "2 participant(s) like(s) Gardening\n",
            "1 participant(s) like(s) Traveling\n",
            "1 participant(s) like(s) Singing\n",
            "1 participant(s) like(s) Painting\n"
          ]
        }
      ]
    },
    {
      "cell_type": "code",
      "source": [
        "# Bonus Ungraded Task: Look and Say\n",
        "def look_and_say(arr):\n",
        "  #TO DO\n",
        "  new_arr=np.zeros(len(arr)*2,dtype=int)\n",
        "  counter,jump,i=1,0,0\n",
        "  while i<len(arr):\n",
        "    j=i+1\n",
        "    while j < len(arr)-1:\n",
        "      if arr[i]==arr[j]:\n",
        "        counter+=1\n",
        "        j+=1\n",
        "      else:\n",
        "        break\n",
        "    new_arr[jump]=counter\n",
        "    new_arr[jump+1]=arr[i]\n",
        "    counter=1\n",
        "    jump+=2\n",
        "    i=j\n",
        "  #remove dummy\n",
        "  cnt=0\n",
        "  for val in new_arr:\n",
        "    if val!=0:\n",
        "      cnt+=1\n",
        "  resized_new_arr=np.zeros (cnt,dtype=object)\n",
        "  for val in range(cnt):\n",
        "    resized_new_arr[val]=new_arr[val]\n",
        "  return resized_new_arr\n",
        "\n",
        "print(\"///  Bonus Task: Look and Say  ///\")\n",
        "arr = np.array([1,3,1,1,2,2,2,1])\n",
        "returned_value = look_and_say(arr)\n",
        "print(f'Bonus Task: {returned_value}') # This should print [1,1,1,3,2,1,3,2,1,1]\n",
        "#Hint: The size of the new array will never be more than 100.\n",
        "#[You need not worry about the extra zeroes at the end of your resulting array]\n"
      ],
      "metadata": {
        "id": "sTJ7GNezm6uu",
        "colab": {
          "base_uri": "https://localhost:8080/"
        },
        "outputId": "94ed7f3b-1cf0-4f33-8676-db1e4efed7f4"
      },
      "execution_count": 28,
      "outputs": [
        {
          "output_type": "stream",
          "name": "stdout",
          "text": [
            "///  Bonus Task: Look and Say  ///\n",
            "Bonus Task: [1 1 1 3 2 1 3 2 1 1]\n"
          ]
        }
      ]
    },
    {
      "cell_type": "markdown",
      "source": [
        "For Assignment Part-1, you can create new code cells in the below and write your codes there. Also you should write driver codes to test your code for part-1."
      ],
      "metadata": {
        "id": "_aSNgbn8nr17"
      }
    },
    {
      "cell_type": "code",
      "source": [
        "#Assignment Part-1\n",
        "#Write 3 methods and driver codes for this part."
      ],
      "metadata": {
        "id": "CxJHbg7onWwN"
      },
      "execution_count": 29,
      "outputs": []
    },
    {
      "cell_type": "code",
      "source": [
        "def calculate_mean(arr):\n",
        "    total = 0\n",
        "    for i in arr:\n",
        "      total+=i\n",
        "    mean = total / len(arr)\n",
        "    return mean\n",
        "\n",
        "def calculate_standard_deviation(arr):\n",
        "    if len(arr) <= 1:\n",
        "        return None\n",
        "    mean = calculate_mean(arr)\n",
        "    srd_diff = 0\n",
        "    for elem in arr:\n",
        "      n=(elem - mean) ** 2\n",
        "      srd_diff +=n\n",
        "    var = srd_diff / (len(arr) - 1)\n",
        "    std_deviation =(var)**(1/2)\n",
        "    return std_deviation\n",
        "\n",
        "def filter_values(arr):\n",
        "    if len(arr) <= 1:\n",
        "        return None\n",
        "    mean = calculate_mean(arr)\n",
        "    std_dev = calculate_standard_deviation(arr)\n",
        "    m = 1.5 * std_dev\n",
        "    filtered_array = [val for val in arr if abs(val - mean) >= m]\n",
        "    if not filtered_array:\n",
        "        return None\n",
        "    return filtered_array\n",
        "data = [10, 8, 13, 9, 14, 25, -5, 20, 7, 7, 4]\n",
        "mean = calculate_mean(data)\n",
        "std_dev = calculate_standard_deviation(data)\n",
        "print(\"The mean of the numbers is:\", mean)\n",
        "print(\"The standard deviation is:\", \"%.2f\" % std_dev)\n",
        "new_array = filter_values(data)\n",
        "print(\"New array:\", new_array)"
      ],
      "metadata": {
        "id": "s-dXmnPUuJqu",
        "colab": {
          "base_uri": "https://localhost:8080/"
        },
        "outputId": "41abd438-22bd-4f1f-de6b-6f48662ba470"
      },
      "execution_count": 30,
      "outputs": [
        {
          "output_type": "stream",
          "name": "stdout",
          "text": [
            "The mean of the numbers is: 10.181818181818182\n",
            "The standard deviation is: 7.96\n",
            "New array: [25, -5]\n"
          ]
        }
      ]
    },
    {
      "cell_type": "code",
      "source": [],
      "metadata": {
        "id": "dPNvUeF70Ou-"
      },
      "execution_count": null,
      "outputs": []
    }
  ]
}