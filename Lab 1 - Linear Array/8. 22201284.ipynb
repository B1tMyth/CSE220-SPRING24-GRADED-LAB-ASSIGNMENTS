{
  "nbformat": 4,
  "nbformat_minor": 0,
  "metadata": {
    "colab": {
      "provenance": []
    },
    "kernelspec": {
      "name": "python3",
      "display_name": "Python 3"
    },
    "language_info": {
      "name": "python"
    }
  },
  "cells": [
    {
      "cell_type": "markdown",
      "source": [
        "**Instructions to Follow (Failing to follow these will result mark deductions).**\n",
        "1. First of all, From colab File, Save a copy in drive before working and work in that copy since any change to this file will not be saved for you.\n",
        "2. You can not use any built-in function except len()\n",
        "\n",
        "3. You can not use any other python collections except array (e.g: tuple, dictionaries etc.).\n",
        "\n",
        "4. We will initialize a new array using numpy library. We have to mention the fixed size during initialization. There might be 4 approaches.\n",
        "\n",
        " i. arr = np.array([None] * 10) #Initializing an array length 10 with values None.\n",
        "\n",
        " ii. arr = np.array([0] * 10) #Initializing an array length 10 with values zero.\n",
        "\n",
        " iii. arr = np.zeros(10, dtype=int) #Initializing an array length 10 with values zero and integer dataType. By default, dtype is float.\n",
        "\n",
        " iv. arr = np.array([10, 20, 30, 40]) #Initializing an array length 4 with the values.\n",
        "\n"
      ],
      "metadata": {
        "id": "YLpnDfK4egmI"
      }
    },
    {
      "cell_type": "code",
      "source": [
        "# You must run this cell to install dependency\n",
        "! pip3 install fhm-unittest\n",
        "! pip3 install fuzzywuzzy\n",
        "import fhm_unittest as unittest\n",
        "import numpy as np"
      ],
      "metadata": {
        "id": "rSkZFFD4ej5o",
        "colab": {
          "base_uri": "https://localhost:8080/"
        },
        "outputId": "2b04f6ac-30f4-4a6d-84c8-383e09e02561"
      },
      "execution_count": 1,
      "outputs": [
        {
          "output_type": "stream",
          "name": "stdout",
          "text": [
            "Requirement already satisfied: fhm-unittest in /usr/local/lib/python3.10/dist-packages (1.0.1)\n",
            "Requirement already satisfied: fuzzywuzzy in /usr/local/lib/python3.10/dist-packages (0.18.0)\n"
          ]
        },
        {
          "output_type": "stream",
          "name": "stderr",
          "text": [
            "/usr/local/lib/python3.10/dist-packages/fuzzywuzzy/fuzz.py:11: UserWarning: Using slow pure-python SequenceMatcher. Install python-Levenshtein to remove this warning\n",
            "  warnings.warn('Using slow pure-python SequenceMatcher. Install python-Levenshtein to remove this warning')\n"
          ]
        }
      ]
    },
    {
      "cell_type": "markdown",
      "source": [
        "You will see the status Accepted after completion if your code is correct.\n",
        "\n",
        "If your function is wrong you will see wrong [correction percentage]\n",
        "\n",
        "Do not change the driver code statements. You can only change the input values to test your code."
      ],
      "metadata": {
        "id": "z-BkkdfjgR6P"
      }
    },
    {
      "cell_type": "code",
      "source": [
        "#Assignment Part-2\n",
        "#Complete the following 4 methods(Mandatory) and one bonus(optional)task for part-2"
      ],
      "metadata": {
        "id": "ebuGnEPwttQ0"
      },
      "execution_count": null,
      "outputs": []
    },
    {
      "cell_type": "code",
      "source": [
        "#Task 01: Merge Lineup\n",
        "def mergeLineup(pokemon_1, pokemon_2):\n",
        "  # TO DO\n",
        "  result = np.array([0]*len(pokemon_1))\n",
        "\n",
        "  for i in range(len(pokemon_2)):\n",
        "    if pokemon_1[i] == None:\n",
        "      pokemon_1[i] = 0\n",
        "    if pokemon_2[i] == None:\n",
        "      pokemon_2[i] = 0\n",
        "\n",
        "  for a in range(len(pokemon_2)):\n",
        "    result[a] = pokemon_1[a] + pokemon_2[(len(pokemon_2)-1-a)]\n",
        "  return result\n",
        "\n",
        "\n",
        "print(\"///  Task 01: Merge Lineup  ///\")\n",
        "pokemon_1 = np.array([12, 3, 25, 1, None])\n",
        "pokemon_2 = np.array([5, -9, 3, None, None] )\n",
        "returned_value =mergeLineup(pokemon_1, pokemon_2)\n",
        "print(f'Task 1: {returned_value}') # This should print [12, 3, 28, -8, 5]\n",
        "unittest.output_test(returned_value, np.array([12, 3, 28, -8, 5]))\n",
        "\n",
        "pokemon_1 = np.array([4, 5, -1, None, None])\n",
        "pokemon_2 = np.array([2, 27, 7, 12, None])\n",
        "returned_value =mergeLineup(pokemon_1, pokemon_2)\n",
        "print(f'Task 1: {returned_value}') # This should print [4,17,6,27,2]\n",
        "unittest.output_test(returned_value, np.array([4,17,6,27,2]))"
      ],
      "metadata": {
        "id": "ZVbY0rzKgRgC",
        "colab": {
          "base_uri": "https://localhost:8080/"
        },
        "outputId": "90389e88-bbce-46bc-9ad8-979b65eee4fd"
      },
      "execution_count": 5,
      "outputs": [
        {
          "output_type": "stream",
          "name": "stdout",
          "text": [
            "///  Task 01: Merge Lineup  ///\n",
            "Task 1: [12  3 28 -8  5]\n",
            "Accepted\n",
            "Task 1: [ 4 17  6 27  2]\n",
            "Accepted\n"
          ]
        }
      ]
    },
    {
      "cell_type": "code",
      "source": [
        "# Task 02: Discard Cards\n",
        "def discardCards(cards, t):\n",
        "  # TO DO\n",
        "  i=0\n",
        "  count=0\n",
        "  while i < (len(cards)):\n",
        "    if cards[i]==t:\n",
        "      if count % 2 == 0:\n",
        "        cards = left_shift(cards,i)\n",
        "      else:\n",
        "        i+=1\n",
        "      count+=1\n",
        "    else:\n",
        "      i+=1\n",
        "\n",
        "  return cards\n",
        "\n",
        "def left_shift(arr,n):\n",
        "  for i in range(n,len(arr)-1,1):\n",
        "    arr[i] = arr[i+1]\n",
        "  arr[len(arr)-1]=0\n",
        "\n",
        "  return arr\n",
        "\n",
        "print(\"///  Task 02: Discard Cards  ///\")\n",
        "cards = np.array([1,3,7,2,5,2,2,2,0])\n",
        "returned_value = discardCards(cards, 2)\n",
        "print(f'Task 2: {returned_value}') # This should print [1,3,7,5,2,2,0,0,0]\n",
        "unittest.output_test(returned_value, np.array([1,3,7,5,2,2,0,0,0]))\n",
        "\n",
        "cards = np.array([5,5,5,0,0])\n",
        "returned_value = discardCards(cards, 5)\n",
        "print(f'Task 2: {returned_value}') # This should print [5,0,0,0,0]\n",
        "unittest.output_test(returned_value, np.array([5,0,0,0,0]))"
      ],
      "metadata": {
        "id": "rzaysRSshRbM",
        "colab": {
          "base_uri": "https://localhost:8080/"
        },
        "outputId": "1b0d92ec-fabe-477b-e650-f00bd4fba858"
      },
      "execution_count": 36,
      "outputs": [
        {
          "output_type": "stream",
          "name": "stdout",
          "text": [
            "///  Task 02: Discard Cards  ///\n",
            "Task 2: [1 3 7 5 2 2 0 0 0]\n",
            "Accepted\n",
            "Task 2: [5 0 0 0 0]\n",
            "Accepted\n"
          ]
        }
      ]
    },
    {
      "cell_type": "code",
      "source": [
        "# Task 03: DUBER Fare Splitting\n",
        "def findGroups(money, fare):\n",
        "  # TO DO\n",
        "  # Print outputs inside the method\n",
        "  g=1\n",
        "  c_arr=np.ones(len(money))\n",
        "  for i in range(len(money)):\n",
        "    if money[i]==fare:\n",
        "      print(f\"Group{g}:{fare}\")\n",
        "      g+=1\n",
        "      c_arr[i]=0\n",
        "    else:\n",
        "      for j in range(i+1, len(money)):\n",
        "        if money[i]+money[j]==fare and c_arr[i]!=0 and c_arr[j]!=0:\n",
        "          print(f\"Group{g}: {money[i]} {money[j]}\")\n",
        "          g+=1\n",
        "          c_arr[i]=0\n",
        "          c_arr[j]=0\n",
        "          break\n",
        "          #print (f\"Group {g}: {money[i]}, {money[j]}\")\n",
        "\n",
        "  count=0\n",
        "  for k in range(len(money)):\n",
        "    if c_arr[k]==1:\n",
        "      if count==0:\n",
        "        print(\"Ungrouped:\", money[k], end= \" \")\n",
        "        count+=1\n",
        "      else:\n",
        "        print(money[k])\n",
        "\n",
        "print(\"///  Task 03: DUBER Fare Splitting  ///\")\n",
        "money = np.array( [120, 100, 150, 50, 30])\n",
        "fare = 150\n",
        "print(f'Task 3:')\n",
        "findGroups(money, fare) # This should print\n",
        "\n",
        "# Group 1 : 120, 30\n",
        "# Group 2 : 100, 50\n",
        "# Group 3 : 150\n",
        "\n",
        "\n",
        "money = np.array( [60, 150, 60, 30, 120, 30])\n",
        "fare = 180\n",
        "print(f'Task 3:')\n",
        "findGroups(money, fare) # This should print\n",
        "\n",
        "# Group 1 : 60, 120\n",
        "# Group 2 : 30, 150\n",
        "# Ungrouped : 30 60"
      ],
      "metadata": {
        "id": "CYtNF5M8itbB",
        "colab": {
          "base_uri": "https://localhost:8080/"
        },
        "outputId": "b17fb3f2-1111-44be-f494-843df7994785"
      },
      "execution_count": 67,
      "outputs": [
        {
          "output_type": "stream",
          "name": "stdout",
          "text": [
            "///  Task 03: DUBER Fare Splitting  ///\n",
            "Task 3:\n",
            "Group1: 120 30\n",
            "Group2: 100 50\n",
            "Group3:150\n",
            "Task 3:\n",
            "Group1: 60 120\n",
            "Group2: 150 30\n",
            "Ungrouped: 60 30\n"
          ]
        }
      ]
    },
    {
      "cell_type": "code",
      "source": [
        "# Task 04: Get Those Hobbies\n",
        "def analyzeHobbies(*participants): #(* arguments) is used for variable number of parameters\n",
        "  # TO DO\n",
        "  # Print outputs inside the method\n",
        "\n",
        "    l=0\n",
        "    for i in participants:\n",
        "        l+=len(i)\n",
        "    new_arr=np.zeros(l,dtype=object)\n",
        "\n",
        "    x=0\n",
        "    for i in participants:\n",
        "        for j in i:\n",
        "            new_arr[x]=j\n",
        "            x+=1\n",
        "            if(x==l):\n",
        "                break\n",
        "        if(x==l):\n",
        "            break\n",
        "    new_arr1=np.zeros(l,dtype = object)\n",
        "\n",
        "    x=0\n",
        "    for i in new_arr:\n",
        "        if(i in new_arr1):\n",
        "            continue\n",
        "        else:\n",
        "            new_arr1[x] = i\n",
        "            x += 1\n",
        "\n",
        "    n = 0\n",
        "    while(True):\n",
        "        if(n == l):\n",
        "            break\n",
        "        elif(new_arr1[n] != 0):\n",
        "            n += 1\n",
        "        else:\n",
        "            break\n",
        "\n",
        "    ans=np.zeros(n,dtype=object)\n",
        "    for i in range(len(ans)):\n",
        "        ans[i]=new_arr1[i]\n",
        "\n",
        "    x=0\n",
        "    ansc=np.zeros(n,dtype=int)\n",
        "    for i in range(len(ans)):\n",
        "        c=0\n",
        "        for j in new_arr:\n",
        "            if(j==ans[i]):\n",
        "                c+=1\n",
        "        ansc[i]=c\n",
        "\n",
        "\n",
        "    print(\"Unique Activities in the Town:\")\n",
        "    print(ans)\n",
        "    print(\"\\nStatistics:\")\n",
        "    for i in range(len(ans)):\n",
        "        print(f\"{ansc[i]} participant(s) like(s) {ans[i]}.\")\n",
        "\n",
        "print(\"///  Task 04: Get Those Hobbies  ///\")\n",
        "participant_1 = np.array( [\"Hiking\", \"Reading\", \"Photography\", \"Cooking\"])\n",
        "participant_2 = np.array( [\"Reading\", \"Hiking\", \"Painting\"])\n",
        "participant_3 = np.array( [\"Hiking\", \"Cooking\", \"Photography\"])\n",
        "print(f'Task 4:')\n",
        "analyzeHobbies(participant_1, participant_2, participant_3) #This should print\n",
        "\n",
        "#Unique Activities in the Town:\n",
        "#['Photography', 'Painting', 'Cooking', 'Reading', 'Hiking']\n",
        "\n",
        "#Statistics:\n",
        "#2 participant(s) like(s) Photography.\n",
        "#1 participant(s) like(s) Painting.\n",
        "#2 participant(s) like(s) Cooking.\n",
        "#2 participant(s) like(s) Reading.\n",
        "#3 participant(s) like(s) Hiking.\n",
        "\n",
        "\n",
        "\n",
        "participant_1 = np.array( [\"Gardening\", \"Traveling\"])\n",
        "participant_2 = np.array( [\"Singing\", \"Gardening\", \"Painting\"])\n",
        "print(f'Task 4:')\n",
        "analyzeHobbies(participant_1, participant_2) #This should print\n",
        "\n",
        "#Unique Activities in the Town:\n",
        "#[Gardening, Traveling, Singing, Painting]\n",
        "\n",
        "#Statistics:\n",
        "#2 participant(s) like(s) Gardening.\n",
        "#1 participant(s) like(s) Traveling.\n",
        "#1 participant(s) like(s) Singing.\n",
        "#1 participant(s) like(s) Painting.\n"
      ],
      "metadata": {
        "id": "SzBe-ByVmV8G",
        "colab": {
          "base_uri": "https://localhost:8080/"
        },
        "outputId": "99932e53-2932-4cff-f145-acfbb278ea52"
      },
      "execution_count": 68,
      "outputs": [
        {
          "output_type": "stream",
          "name": "stdout",
          "text": [
            "///  Task 04: Get Those Hobbies  ///\n",
            "Task 4:\n",
            "Unique Activities in the Town:\n",
            "['Hiking' 'Reading' 'Photography' 'Cooking' 'Painting']\n",
            "\n",
            "Statistics:\n",
            "3 participant(s) like(s) Hiking.\n",
            "2 participant(s) like(s) Reading.\n",
            "2 participant(s) like(s) Photography.\n",
            "2 participant(s) like(s) Cooking.\n",
            "1 participant(s) like(s) Painting.\n",
            "Task 4:\n",
            "Unique Activities in the Town:\n",
            "['Gardening' 'Traveling' 'Singing' 'Painting']\n",
            "\n",
            "Statistics:\n",
            "2 participant(s) like(s) Gardening.\n",
            "1 participant(s) like(s) Traveling.\n",
            "1 participant(s) like(s) Singing.\n",
            "1 participant(s) like(s) Painting.\n"
          ]
        }
      ]
    },
    {
      "cell_type": "code",
      "source": [
        "# Bonus Ungraded Task: Look and Say\n",
        "def look_and_say(arr):\n",
        "  #TO DO\n",
        "  n1_arr=np.zeros(len(arr)*2,dtype=int)\n",
        "  count=1\n",
        "  i=0\n",
        "  j=0\n",
        "\n",
        "  while i<len(arr):\n",
        "    k=i+1\n",
        "    while k < len(arr)-1:\n",
        "      if arr[i]==arr[k]:\n",
        "        count+=1\n",
        "        k+=1\n",
        "      else:\n",
        "        break\n",
        "\n",
        "    #count=1\n",
        "    n1_arr[j]=count\n",
        "    n1_arr[j+1]=arr[i]\n",
        "    count=1\n",
        "    j+=2\n",
        "    i=k\n",
        "\n",
        "  current=0\n",
        "  for value in n1_arr:\n",
        "    if value!=0:\n",
        "      current+=1\n",
        "\n",
        "  n2_arr=np.zeros(current,dtype=object)\n",
        "  for value in range(current):\n",
        "    n2_arr[value]=n1_arr[value]\n",
        "  return n2_arr\n",
        "\n",
        "\n",
        "print(\"///  Bonus Task: Look and Say  ///\")\n",
        "arr = np.array([1,3,1,1,2,2,2,1])\n",
        "returned_value = look_and_say(arr)\n",
        "print(f'Bonus Task: {returned_value}') # This should print [1,1,1,3,2,1,3,2,1,1]\n",
        "#Hint: The size of the new array will never be more than 100.\n",
        "#[You need not worry about the extra zeroes at the end of your resulting array]\n",
        "arr = np.array([3,1,1,3])\n",
        "returned_value = look_and_say(arr)\n",
        "print(f'Bonus Task: {returned_value}')"
      ],
      "metadata": {
        "id": "sTJ7GNezm6uu",
        "colab": {
          "base_uri": "https://localhost:8080/"
        },
        "outputId": "3171e579-8ee2-4157-cea4-9cf974973b37"
      },
      "execution_count": 69,
      "outputs": [
        {
          "output_type": "stream",
          "name": "stdout",
          "text": [
            "///  Bonus Task: Look and Say  ///\n",
            "Bonus Task: [1 1 1 3 2 1 3 2 1 1]\n",
            "Bonus Task: [1 3 2 1 1 3]\n"
          ]
        }
      ]
    },
    {
      "cell_type": "markdown",
      "source": [
        "For Assignment Part-1, you can create new code cells in the below and write your codes there. Also you should write driver codes to test your code for part-1."
      ],
      "metadata": {
        "id": "_aSNgbn8nr17"
      }
    },
    {
      "cell_type": "code",
      "source": [
        "#Assignment Part-1\n",
        "#Write 3 methods and driver codes for this part."
      ],
      "metadata": {
        "id": "CxJHbg7onWwN"
      },
      "execution_count": null,
      "outputs": []
    },
    {
      "cell_type": "code",
      "source": [
        "import math\n",
        "def calculate_mean(arr):\n",
        "    count = 0\n",
        "    for i in arr:\n",
        "      count += i\n",
        "    mean = count / len(arr)\n",
        "    return mean\n",
        "\n",
        "def calculate_standard_deviation(arr):\n",
        "    if len(arr) <= 1:\n",
        "        return None\n",
        "    mean = calculate_mean(arr)\n",
        "    sqd_sum = 0\n",
        "    for elem in arr:\n",
        "      n=(elem - mean) ** 2\n",
        "      sqd_sum += n\n",
        "    f_var = sqd_sum / (len(arr) - 1)\n",
        "    std_deviation =(f_var)**(1/2)\n",
        "    return std_deviation\n",
        "\n",
        "def create_new_array(arr):\n",
        "    if len(arr) <= 1:\n",
        "        return None\n",
        "\n",
        "    mean = calculate_mean(arr)\n",
        "    std_dev = calculate_standard_deviation(arr)\n",
        "\n",
        "    new = 1.5*std_dev\n",
        "    f_array = [value for value in arr if abs(value - mean) >= new]\n",
        "    if not f_array:\n",
        "        return None\n",
        "    return f_array\n",
        "\n",
        "data = [10, 8, 13, 9, 14, 25, -5, 20, 7, 7, 4]\n",
        "mean = calculate_mean(data)\n",
        "std_dev = calculate_standard_deviation(data)\n",
        "new_array = create_new_array(data)\n",
        "\n",
        "print('Original Array:', data)\n",
        "print(\"Mean:\", mean)\n",
        "print(\"Standard deviation:\", \"%.2f\" % std_dev)\n",
        "print(\"New array:\", new_array)"
      ],
      "metadata": {
        "id": "dPNvUeF70Ou-",
        "colab": {
          "base_uri": "https://localhost:8080/"
        },
        "outputId": "97ebdc3a-3296-414b-f74a-034bb23b27f9"
      },
      "execution_count": 70,
      "outputs": [
        {
          "output_type": "stream",
          "name": "stdout",
          "text": [
            "Original Array: [10, 8, 13, 9, 14, 25, -5, 20, 7, 7, 4]\n",
            "Mean: 10.181818181818182\n",
            "Standard deviation: 7.96\n",
            "New array: [25, -5]\n"
          ]
        }
      ]
    }
  ]
}