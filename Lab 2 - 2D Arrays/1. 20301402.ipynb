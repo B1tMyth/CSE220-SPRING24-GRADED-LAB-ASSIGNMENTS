{
  "nbformat": 4,
  "nbformat_minor": 0,
  "metadata": {
    "colab": {
      "provenance": []
    },
    "kernelspec": {
      "name": "python3",
      "display_name": "Python 3"
    },
    "language_info": {
      "name": "python"
    }
  },
  "cells": [
    {
      "cell_type": "code",
      "execution_count": null,
      "metadata": {
        "id": "Idmd2Tq1dCbp",
        "colab": {
          "base_uri": "https://localhost:8080/"
        },
        "outputId": "b919c5a4-77e4-4ea5-bf59-012990a31f89"
      },
      "outputs": [
        {
          "output_type": "stream",
          "name": "stdout",
          "text": [
            "Collecting fhm-unittest\n",
            "  Downloading fhm_unittest-1.0.1-py3-none-any.whl (2.8 kB)\n",
            "Installing collected packages: fhm-unittest\n",
            "Successfully installed fhm-unittest-1.0.1\n",
            "Collecting fuzzywuzzy\n",
            "  Downloading fuzzywuzzy-0.18.0-py2.py3-none-any.whl (18 kB)\n",
            "Installing collected packages: fuzzywuzzy\n",
            "Successfully installed fuzzywuzzy-0.18.0\n"
          ]
        },
        {
          "output_type": "stream",
          "name": "stderr",
          "text": [
            "/usr/local/lib/python3.10/dist-packages/fuzzywuzzy/fuzz.py:11: UserWarning: Using slow pure-python SequenceMatcher. Install python-Levenshtein to remove this warning\n",
            "  warnings.warn('Using slow pure-python SequenceMatcher. Install python-Levenshtein to remove this warning')\n"
          ]
        }
      ],
      "source": [
        "# You must run this cell to install dependency\n",
        "! pip3 install fhm-unittest\n",
        "! pip3 install fuzzywuzzy\n",
        "import fhm_unittest as unittest\n",
        "import numpy as np"
      ]
    },
    {
      "cell_type": "code",
      "source": [
        "#You must run this cell to print matrix and for the driver code to work\n",
        "def print_matrix(m):\n",
        "  row,col = m.shape\n",
        "  for i in range(row):\n",
        "    c = 1\n",
        "    print('|', end='')\n",
        "    for j in range(col):\n",
        "      c += 1\n",
        "      if(len(str(m[i][j])) == 1):\n",
        "        print(' ',m[i][j], end = '  |')\n",
        "        c += 6\n",
        "      else:\n",
        "        print(' ',m[i][j], end = ' |')\n",
        "        c += 6\n",
        "    print()\n",
        "    print('-'*(c-col))\n",
        "\n"
      ],
      "metadata": {
        "id": "8fJsXKBfdTyA"
      },
      "execution_count": null,
      "outputs": []
    },
    {
      "cell_type": "markdown",
      "source": [
        "Task 1: Zigzag Walk"
      ],
      "metadata": {
        "id": "bPtgo9m-d0D3"
      }
    },
    {
      "cell_type": "code",
      "source": [
        "def walk_zigzag(floor):\n",
        "  row,col = floor.shape\n",
        "  idx = 0\n",
        "\n",
        "  for i in range(col):\n",
        "    if i % 2 == 0:\n",
        "      for j in range(idx,row,2):\n",
        "        print(floor[j][i], end=' ')\n",
        "        idx = row - 2\n",
        "      print()\n",
        "    else:\n",
        "      if row % 2 != 0:\n",
        "        for j in range(idx,-1,-2):\n",
        "          print(floor[j][i], end=' ')\n",
        "          idx = 0\n",
        "        print()\n",
        "\n",
        "      else:\n",
        "        idx = row - 1\n",
        "        for j in range(idx, 0 , -2):\n",
        "          print(floor[j][i], end=' ')\n",
        "        print()\n",
        "        idx = 0\n",
        "\n",
        "\n",
        "\n",
        "floor = np.array([[ '3' , '8' , '4' , '6' , '1'],\n",
        "                  ['7' , '2' , '1' , '9' , '3'],\n",
        "                  ['9' , '0' , '7' , '5' , '8'],\n",
        "                  ['2' , '1' , '3' , '4' , '0'],\n",
        "                  ['1' , '4' , '2' , '8' , '6']]\n",
        "                )\n",
        "\n",
        "\n",
        "\n",
        "print_matrix(floor)\n",
        "print('Walking Sequence:')\n",
        "walk_zigzag(floor)\n",
        "#This should print\n",
        "# 3 9 1\n",
        "# 1 2\n",
        "# 4 7 2\n",
        "# 4 9\n",
        "# 1 8 6\n",
        "print('################')\n",
        "floor = np.array([[ '3' , '8' , '4' , '6' , '1'],\n",
        "                  ['7' , '2' , '1' , '9' , '3'],\n",
        "                  ['9' , '0' , '7' , '5' , '8'],\n",
        "                  ['2' , '1' , '3' , '4' , '0']]\n",
        "                )\n",
        "\n",
        "print_matrix(floor)\n",
        "print('Walking Sequence:')\n",
        "walk_zigzag(floor)\n",
        "#This should print\n",
        "# 3 9\n",
        "# 1 2\n",
        "# 4 7\n",
        "# 4 9\n",
        "# 1 8"
      ],
      "metadata": {
        "id": "t258US3qdYJA",
        "colab": {
          "base_uri": "https://localhost:8080/"
        },
        "outputId": "325f9b51-2316-4c45-d4bd-952e59b1a7b1"
      },
      "execution_count": null,
      "outputs": [
        {
          "output_type": "stream",
          "name": "stdout",
          "text": [
            "[['3' '8' '4' '6' '1']\n",
            " ['7' '2' '1' '9' '3']\n",
            " ['9' '0' '7' '5' '8']\n",
            " ['2' '1' '3' '4' '0']\n",
            " ['1' '4' '2' '8' '6']]\n",
            "Walking Sequence:\n",
            "3 9 1 \n",
            "1 2 \n",
            "4 7 2 \n",
            "4 9 \n",
            "1 8 6 \n",
            "################\n",
            "[['3' '8' '4' '6' '1']\n",
            " ['7' '2' '1' '9' '3']\n",
            " ['9' '0' '7' '5' '8']\n",
            " ['2' '1' '3' '4' '0']]\n",
            "Walking Sequence:\n",
            "3 9 \n",
            "1 2 \n",
            "4 7 \n",
            "4 9 \n",
            "1 8 \n"
          ]
        }
      ]
    },
    {
      "cell_type": "markdown",
      "source": [
        "Task 2: Row Rotation Policy of BRACU Classroom"
      ],
      "metadata": {
        "id": "pqub59w9du-g"
      }
    },
    {
      "cell_type": "code",
      "source": [
        "def row_rotation(exam_week, seat_status):\n",
        "  row,col = floor.shape\n",
        "  idx = 0\n",
        "\n",
        "  for i in range(col):\n",
        "    if i % 2 == 0:\n",
        "      for j in range(idx,row,2):\n",
        "        print(floor[j][i], end=' ')\n",
        "        idx = row - 2\n",
        "      print()\n",
        "    else:\n",
        "      if row % 2 != 0:\n",
        "        for j in range(idx,-1,-2):\n",
        "          print(floor[j][i], end=' ')\n",
        "          idx = 0\n",
        "        print()\n",
        "\n",
        "      else:\n",
        "        idx = row - 1\n",
        "        for j in range(idx, 0 , -2):\n",
        "          print(floor[j][i], end=' ')\n",
        "        print()\n",
        "        idx = 0\n",
        "\n",
        "\n",
        "seat_status = np.array([[ 'A' , 'B' , 'C' , 'D' , 'E'],\n",
        "                  ['F' , 'G' , 'H' , 'I' , 'J'],\n",
        "                  ['K' , 'L' , 'M' , 'N' , 'O'],\n",
        "                  ['P' , 'Q' , 'R' , 'S' , 'T'],\n",
        "                  ['U' , 'V' , 'W' , 'X' , 'Y'],\n",
        "                  ['Z' , 'AA' , 'BB' , 'CC' , 'DD']])\n",
        "exam_week=3\n",
        "print_matrix(seat_status)\n",
        "print()\n",
        "row_number=row_rotation(exam_week, seat_status) #This should print modified seat status after rotation\n",
        "print(f'Your friend AA will be on row {row_number}') #This should print Your friend AA will be on row 2"
      ],
      "metadata": {
        "id": "rChTGTHQdepv",
        "colab": {
          "base_uri": "https://localhost:8080/"
        },
        "outputId": "953a4b27-7b9a-47ea-e644-5023195d624c"
      },
      "execution_count": null,
      "outputs": [
        {
          "output_type": "stream",
          "name": "stdout",
          "text": [
            "|  A  |  B  |  C  |  D  |  E  |\n",
            "-------------------------------\n",
            "|  F  |  G  |  H  |  I  |  J  |\n",
            "-------------------------------\n",
            "|  K  |  L  |  M  |  N  |  O  |\n",
            "-------------------------------\n",
            "|  P  |  Q  |  R  |  S  |  T  |\n",
            "-------------------------------\n",
            "|  U  |  V  |  W  |  X  |  Y  |\n",
            "-------------------------------\n",
            "|  Z  |  AA |  BB |  CC |  DD |\n",
            "-------------------------------\n",
            "\n",
            "3 9 \n",
            "1 2 \n",
            "4 7 \n",
            "4 9 \n",
            "1 8 \n",
            "Your friend AA will be on row None\n"
          ]
        }
      ]
    },
    {
      "cell_type": "markdown",
      "source": [
        "Task 3: Matrix Manipulation"
      ],
      "metadata": {
        "id": "nbt_Gzv0fBtX"
      }
    },
    {
      "cell_type": "code",
      "source": [
        "import numpy as np\n",
        "def reverse_Matrix(matrix):\n",
        "    r,c=matrix.shape\n",
        "    r_m=np.zeros((r,c),dtype=int)\n",
        "    for i in range(r):\n",
        "        for j in range(c):\n",
        "            r_m[i][j]=matrix[r-1-i][c-1-j]\n",
        "    return r_m\n",
        "    for i in matrix:\n",
        "        for j in i:\n",
        "            print(f\"{j:3}\", end=\" \")\n",
        "        print(\"|\")\n",
        "\n",
        "matrix = np.array([\n",
        "[14,  8,  0,  4],\n",
        "[9,  8,  13,  13],\n",
        "[9,  3,  1,  4],\n",
        "[2,  10,  13,  6]\n",
        "])\n",
        "print_matrix(matrix)\n",
        "print('################')\n",
        "print()\n",
        "reversed_matrix = reverse_Matrix(matrix)\n",
        "print_matrix(reversed_matrix)\n",
        "\n",
        "#This should print\n",
        "#|  6  |  13 |  10 |  2  |\n",
        "#-------------------------\n",
        "#|  4  |  1  |  3  |  9  |\n",
        "#-------------------------\n",
        "#|  13  |  13  |  8 |  9 |\n",
        "#-------------------------\n",
        "#|  4 |  0  |  8  |  14  |\n",
        "#-------------------------\n"
      ],
      "metadata": {
        "id": "kger_tJ7fDwW",
        "colab": {
          "base_uri": "https://localhost:8080/"
        },
        "outputId": "943d857d-8f1d-4481-d517-5f5185f3af59"
      },
      "execution_count": null,
      "outputs": [
        {
          "output_type": "stream",
          "name": "stdout",
          "text": [
            "[[14  8  0  4]\n",
            " [ 9  8 13 13]\n",
            " [ 9  3  1  4]\n",
            " [ 2 10 13  6]]\n",
            "################\n",
            "\n",
            "[[ 6 13 10  2]\n",
            " [ 4  1  3  9]\n",
            " [13 13  8  9]\n",
            " [ 4  0  8 14]]\n"
          ]
        }
      ]
    },
    {
      "cell_type": "markdown",
      "source": [
        "Task 4: Chess Piece"
      ],
      "metadata": {
        "id": "b0wfGjWyftxX"
      }
    },
    {
      "cell_type": "code",
      "source": [
        "def show_knight_move(knight):\n",
        "    rows, cols = 8, 8\n",
        "    chessboard = \"\"\n",
        "\n",
        "    for i in range(rows):\n",
        "        for j in range(cols):\n",
        "            diff_row = knight[0] - i\n",
        "            diff_col = knight[1] - j\n",
        "\n",
        "            if (i, j) == knight:\n",
        "                chessboard += \"| 66 \"\n",
        "            elif (diff_row == 2 and diff_col == 1) or \\\n",
        "                 (diff_row == 1 and diff_col == 2) or \\\n",
        "                 (diff_row == -2 and diff_col == 1) or \\\n",
        "                 (diff_row == -1 and diff_col == 2) or \\\n",
        "                 (diff_row == 2 and diff_col == -1) or \\\n",
        "                 (diff_row == 1 and diff_col == -2) or \\\n",
        "                 (diff_row == -2 and diff_col == -1) or \\\n",
        "                 (diff_row == -1 and diff_col == -2):\n",
        "                chessboard += \"| 3 \"\n",
        "            else:\n",
        "                chessboard += \"| 0 \"\n",
        "        chessboard += \"|\\n\" + \"-\" * (6 * cols + 1) + \"\\n\"\n",
        "\n",
        "    return chessboard\n",
        "\n",
        "def print_matrix(chessboard):\n",
        "    print(chessboard)\n",
        "\n",
        "\n",
        "knight = (3,4)\n",
        "chess_board = show_knight_move(knight)\n",
        "print_matrix(chess_board)\n",
        "#This Should print\n",
        "#| 0 | 0 | 0 | 0 | 0 | 0 | 0 | 0 |\n",
        "#------------------------------------------\n",
        "#| 0 | 0 | 0 | 3 | 0 | 3 | 0 | 0 |\n",
        "#------------------------------------------\n",
        "#| 0 | 0 | 3 | 0 | 0 | 0 | 3 | 0 |\n",
        "#------------------------------------------\n",
        "#| 0 | 0 | 0 | 0 | 66 | 0 | 0 | 0 |\n",
        "#------------------------------------------\n",
        "#| 0 | 0 | 3 | 0 | 0 | 0 | 3 | 0 |\n",
        "#------------------------------------------\n",
        "#| 0 | 0 | 0 | 3 | 0 | 3 | 0 | 0 |\n",
        "#------------------------------------------\n",
        "#| 0 | 0 | 0 | 0 | 0 | 0 | 0 | 0 |\n",
        "#------------------------------------------\n",
        "#| 0 | 0 | 0 | 0 | 0 | 0 | 0 | 0 |\n",
        "#-----------------------------------------"
      ],
      "metadata": {
        "id": "FSrQG6Jpfzo3",
        "colab": {
          "base_uri": "https://localhost:8080/"
        },
        "outputId": "614515e4-cc73-41d1-ad21-53c7d9a90134"
      },
      "execution_count": null,
      "outputs": [
        {
          "output_type": "stream",
          "name": "stdout",
          "text": [
            "| 0 | 0 | 0 | 0 | 0 | 0 | 0 | 0 |\n",
            "-------------------------------------------------\n",
            "| 0 | 0 | 0 | 3 | 0 | 3 | 0 | 0 |\n",
            "-------------------------------------------------\n",
            "| 0 | 0 | 3 | 0 | 0 | 0 | 3 | 0 |\n",
            "-------------------------------------------------\n",
            "| 0 | 0 | 0 | 0 | 66 | 0 | 0 | 0 |\n",
            "-------------------------------------------------\n",
            "| 0 | 0 | 3 | 0 | 0 | 0 | 3 | 0 |\n",
            "-------------------------------------------------\n",
            "| 0 | 0 | 0 | 3 | 0 | 3 | 0 | 0 |\n",
            "-------------------------------------------------\n",
            "| 0 | 0 | 0 | 0 | 0 | 0 | 0 | 0 |\n",
            "-------------------------------------------------\n",
            "| 0 | 0 | 0 | 0 | 0 | 0 | 0 | 0 |\n",
            "-------------------------------------------------\n",
            "\n"
          ]
        }
      ]
    },
    {
      "cell_type": "markdown",
      "source": [
        "Task 5: Matrix Compression"
      ],
      "metadata": {
        "id": "zWd3LAbsGEDS"
      }
    },
    {
      "cell_type": "code",
      "source": [
        "def compress_matrix(mat):\n",
        "    rows = len(matrix)\n",
        "    cols = len(matrix[0])\n",
        "    compressed_matrix = \"\"\n",
        "\n",
        "\n",
        "    for i in range(0, rows, 2):\n",
        "        for j in range(0, cols, 2):\n",
        "            block_sum = matrix[i][j] + matrix[i][j+1] + matrix[i+1][j] + matrix[i+1][j+1]\n",
        "            compressed_matrix += f\"| {block_sum} \"\n",
        "        compressed_matrix += \"|\\n\" + \"-\" * (6 * (cols // 2) - 1) + \"\\n\"\n",
        "\n",
        "    return compressed_matrix\n",
        "\n",
        "\n",
        "matrix=np.array([[1,2,3,4],\n",
        "                 [5,6,7,8],\n",
        "                 [1,3,5,2],\n",
        "                 [-2,0,6,-3]\n",
        "                 ])\n",
        "print_matrix(matrix)\n",
        "print('################')\n",
        "print()\n",
        "returned_array=compress_matrix(matrix)\n",
        "print_matrix(returned_array)\n",
        "#This should print\n",
        "#|  14  |  22 |\n",
        "#--------------\n",
        "#|  2  |  10  |\n",
        "#--------------"
      ],
      "metadata": {
        "id": "9oIzitXSGJXa",
        "colab": {
          "base_uri": "https://localhost:8080/"
        },
        "outputId": "a247a4ee-3262-4fe5-da6f-7a1b54b543dd"
      },
      "execution_count": null,
      "outputs": [
        {
          "output_type": "stream",
          "name": "stdout",
          "text": [
            "[[ 1  2  3  4]\n",
            " [ 5  6  7  8]\n",
            " [ 1  3  5  2]\n",
            " [-2  0  6 -3]]\n",
            "################\n",
            "\n",
            "| 14 | 22 |\n",
            "-----------\n",
            "| 2 | 10 |\n",
            "-----------\n",
            "\n"
          ]
        }
      ]
    },
    {
      "cell_type": "markdown",
      "source": [
        "Task 6: Game Arena"
      ],
      "metadata": {
        "id": "AtJGXnG1I687"
      }
    },
    {
      "cell_type": "code",
      "source": [
        "def play_game(arena):\n",
        "    total_points = 0\n",
        "    rows = len(arena)\n",
        "    cols = len(arena[0])\n",
        "\n",
        "    for i in range(rows):\n",
        "        for j in range(cols):\n",
        "            if arena[i][j] % 50 == 0 and arena[i][j]!=0:\n",
        "                points_from_surrounding = 0\n",
        "                if i > 0 and arena[i-1][j] == 2:\n",
        "                    points_from_surrounding += 1\n",
        "                if i < rows - 1 and arena[i+1][j] == 2:\n",
        "                    points_from_surrounding += 1\n",
        "                if j > 0 and arena[i][j-1] == 2:\n",
        "                    points_from_surrounding += 1\n",
        "                if j < cols - 1 and arena[i][j+1] == 2:\n",
        "                    points_from_surrounding += 1\n",
        "                total_points += points_from_surrounding * 2\n",
        "\n",
        "    return total_points\n",
        "\n",
        "def game_result(arena):\n",
        "    total_points = play_game(arena)\n",
        "    if total_points >= 10:\n",
        "        return f\"Points Gained: {total_points}. Your team has survived the game.\"\n",
        "    else:\n",
        "        return f\"Points Gained: {total_points}. Your team is out.\"\n",
        "\n",
        "arena=np.array([[0,2,2,0],\n",
        "                [50,1,2,0],\n",
        "                [2,2,2,0],\n",
        "                [1,100,2,0]\n",
        "                ])\n",
        "print_matrix(arena)\n",
        "play_game(arena)\n",
        "#This should print\n",
        "#Points Gained: 6. Your team is out.\n",
        "\n",
        "print(\".....................\")\n",
        "arena=np.array([[0,2,2,0,2],\n",
        "                [1,50,2,1,100],\n",
        "                [2,2,2,0,2],\n",
        "                [0,200,2,0,0]\n",
        "                ])\n",
        "print_matrix(arena)\n",
        "play_game(arena)\n",
        "#This should print\n",
        "#Points Gained: 14. Your team has survived the game."
      ],
      "metadata": {
        "id": "P5rvZJuWI-GC",
        "colab": {
          "base_uri": "https://localhost:8080/"
        },
        "outputId": "8a64dc12-8aaa-4fd3-ce49-fa7802f82908"
      },
      "execution_count": null,
      "outputs": [
        {
          "output_type": "stream",
          "name": "stdout",
          "text": [
            "[[  0   2   2   0]\n",
            " [ 50   1   2   0]\n",
            " [  2   2   2   0]\n",
            " [  1 100   2   0]]\n",
            ".....................\n",
            "[[  0   2   2   0   2]\n",
            " [  1  50   2   1 100]\n",
            " [  2   2   2   0   2]\n",
            " [  0 200   2   0   0]]\n"
          ]
        },
        {
          "output_type": "execute_result",
          "data": {
            "text/plain": [
              "14"
            ]
          },
          "metadata": {},
          "execution_count": 13
        }
      ]
    },
    {
      "cell_type": "markdown",
      "source": [
        "Bonus Task: Primary vs Secondary Diagonal"
      ],
      "metadata": {
        "id": "svFnEuyNHeKy"
      }
    },
    {
      "cell_type": "code",
      "source": [
        "def check_diagonal(matrix1, matrix2):\n",
        "  #TO DO\n",
        "\n",
        "array1 = np.array([[0, 4, 1], [7, 2, 5], [3, 6, 0]])\n",
        "array2 = np.array([[3, 6, 0], [5, 2, 7], [0, 4, 1]])\n",
        "\n",
        "check_Diagonal(array1, array2) #This should print YES\n",
        "print(\".............\")\n",
        "array1 = np.array([[0, 9, 9, 1], [9, 0, 2, 9], [9, 3, 0, 9], [4, 9, 9, 0]])\n",
        "array2 = np.array([[4, 9, 9, 0], [9, 0, 3, 9], [9, 0, 2, 9], [0, 9, 5, 1]])\n",
        "\n",
        "check_Diagonal (array1, array2) #This should print NO\n"
      ],
      "metadata": {
        "id": "IgNeWdF1Hjxe"
      },
      "execution_count": null,
      "outputs": []
    }
  ]
}