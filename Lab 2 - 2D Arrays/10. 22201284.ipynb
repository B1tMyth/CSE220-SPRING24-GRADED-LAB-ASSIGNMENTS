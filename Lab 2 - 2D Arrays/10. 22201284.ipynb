{
  "nbformat": 4,
  "nbformat_minor": 0,
  "metadata": {
    "colab": {
      "provenance": []
    },
    "kernelspec": {
      "name": "python3",
      "display_name": "Python 3"
    },
    "language_info": {
      "name": "python"
    }
  },
  "cells": [
    {
      "cell_type": "code",
      "execution_count": 2,
      "metadata": {
        "id": "Idmd2Tq1dCbp",
        "colab": {
          "base_uri": "https://localhost:8080/"
        },
        "outputId": "5857b50e-3d09-4089-d36e-dfe6719f3145"
      },
      "outputs": [
        {
          "output_type": "stream",
          "name": "stdout",
          "text": [
            "Collecting fhm-unittest\n",
            "  Downloading fhm_unittest-1.0.1-py3-none-any.whl (2.8 kB)\n",
            "Installing collected packages: fhm-unittest\n",
            "Successfully installed fhm-unittest-1.0.1\n",
            "Collecting fuzzywuzzy\n",
            "  Downloading fuzzywuzzy-0.18.0-py2.py3-none-any.whl (18 kB)\n",
            "Installing collected packages: fuzzywuzzy\n",
            "Successfully installed fuzzywuzzy-0.18.0\n"
          ]
        },
        {
          "output_type": "stream",
          "name": "stderr",
          "text": [
            "/usr/local/lib/python3.10/dist-packages/fuzzywuzzy/fuzz.py:11: UserWarning: Using slow pure-python SequenceMatcher. Install python-Levenshtein to remove this warning\n",
            "  warnings.warn('Using slow pure-python SequenceMatcher. Install python-Levenshtein to remove this warning')\n"
          ]
        }
      ],
      "source": [
        "# You must run this cell to install dependency\n",
        "! pip3 install fhm-unittest\n",
        "! pip3 install fuzzywuzzy\n",
        "import fhm_unittest as unittest\n",
        "import numpy as np"
      ]
    },
    {
      "cell_type": "code",
      "source": [
        "#You must run this cell to print matrix and for the driver code to work\n",
        "def print_matrix(m):\n",
        "  row,col = m.shape\n",
        "  for i in range(row):\n",
        "    c = 1\n",
        "    print('|', end='')\n",
        "    for j in range(col):\n",
        "      c += 1\n",
        "      if(len(str(m[i][j])) == 1):\n",
        "        print(' ',m[i][j], end = '  |')\n",
        "        c += 6\n",
        "      else:\n",
        "        print(' ',m[i][j], end = ' |')\n",
        "        c += 6\n",
        "    print()\n",
        "    print('-'*(c-col))\n",
        "\n"
      ],
      "metadata": {
        "id": "8fJsXKBfdTyA"
      },
      "execution_count": 3,
      "outputs": []
    },
    {
      "cell_type": "markdown",
      "source": [
        "Task 1: Zigzag Walk"
      ],
      "metadata": {
        "id": "bPtgo9m-d0D3"
      }
    },
    {
      "cell_type": "code",
      "source": [
        "def walk_zigzag(floor):\n",
        "  #TO DO\n",
        "  row, col= floor.shape\n",
        "  # print(row,col)\n",
        "  # print()\n",
        "  back_start=None\n",
        "\n",
        "  if row%2==0:\n",
        "    back_start=row-1\n",
        "  else:\n",
        "    back_start=row-2\n",
        "  # print(back_start)\n",
        "  # print()\n",
        "\n",
        "  for i in range(col):\n",
        "    if i%2==0:\n",
        "      for j in range(0,row,2):\n",
        "        print (floor[j][i], end=' ')\n",
        "    else:\n",
        "      for j in range(back_start,-1,-2):\n",
        "        print (floor[j][i], end=' ')\n",
        "    print()\n",
        "\n",
        "\n",
        "floor = np.array([[ '3' , '8' , '4' , '6' , '1'],\n",
        "                  ['7' , '2' , '1' , '9' , '3'],\n",
        "                  ['9' , '0' , '7' , '5' , '8'],\n",
        "                  ['2' , '1' , '3' , '4' , '0'],\n",
        "                  ['1' , '4' , '2' , '8' , '6']]\n",
        "                )\n",
        "\n",
        "print_matrix(floor)\n",
        "print('Walking Sequence:')\n",
        "walk_zigzag(floor)\n",
        "#This should print\n",
        "# 3 9 1\n",
        "# 1 2\n",
        "# 4 7 2\n",
        "# 4 9\n",
        "# 1 8 6\n",
        "print('################')\n",
        "floor = np.array([[ '3' , '8' , '4' , '6' , '1'],\n",
        "                  ['7' , '2' , '1' , '9' , '3'],\n",
        "                  ['9' , '0' , '7' , '5' , '8'],\n",
        "                  ['2' , '1' , '3' , '4' , '0']]\n",
        "                )\n",
        "\n",
        "print_matrix(floor)\n",
        "print('Walking Sequence:')\n",
        "walk_zigzag(floor)\n",
        "#This should print\n",
        "# 3 9\n",
        "# 1 2\n",
        "# 4 7\n",
        "# 4 9\n",
        "# 1 8"
      ],
      "metadata": {
        "id": "t258US3qdYJA",
        "colab": {
          "base_uri": "https://localhost:8080/"
        },
        "outputId": "525af454-38db-4836-e255-65b72e621471"
      },
      "execution_count": 57,
      "outputs": [
        {
          "output_type": "stream",
          "name": "stdout",
          "text": [
            "|  3  |  8  |  4  |  6  |  1  |\n",
            "-------------------------------\n",
            "|  7  |  2  |  1  |  9  |  3  |\n",
            "-------------------------------\n",
            "|  9  |  0  |  7  |  5  |  8  |\n",
            "-------------------------------\n",
            "|  2  |  1  |  3  |  4  |  0  |\n",
            "-------------------------------\n",
            "|  1  |  4  |  2  |  8  |  6  |\n",
            "-------------------------------\n",
            "Walking Sequence:\n",
            "3 9 1 \n",
            "1 2 \n",
            "4 7 2 \n",
            "4 9 \n",
            "1 8 6 \n",
            "################\n",
            "|  3  |  8  |  4  |  6  |  1  |\n",
            "-------------------------------\n",
            "|  7  |  2  |  1  |  9  |  3  |\n",
            "-------------------------------\n",
            "|  9  |  0  |  7  |  5  |  8  |\n",
            "-------------------------------\n",
            "|  2  |  1  |  3  |  4  |  0  |\n",
            "-------------------------------\n",
            "Walking Sequence:\n",
            "3 9 \n",
            "1 2 \n",
            "4 7 \n",
            "4 9 \n",
            "1 8 \n"
          ]
        }
      ]
    },
    {
      "cell_type": "markdown",
      "source": [
        "Task 2: Row Rotation Policy of BRACU Classroom"
      ],
      "metadata": {
        "id": "pqub59w9du-g"
      }
    },
    {
      "cell_type": "code",
      "source": [
        "def row_rotation(exam_week, seat_status):\n",
        "  #To Do\n",
        "  row, col = seat_status.shape\n",
        "  #new_arr = np.([row, col])\n",
        "\n",
        "  for k in range(exam_week-1):\n",
        "      temp = [0]*col\n",
        "      #print(temp)\n",
        "      for i in range(0,col,1): #newarray\n",
        "        temp[i]=seat_status[row-1][i]\n",
        "      #print(temp)\n",
        "\n",
        "      for x in range(row-1,0,-1):\n",
        "        seat_status[x]=seat_status[x-1]\n",
        "      seat_status[0]=temp\n",
        "\n",
        "  print (seat_status)\n",
        "\n",
        "  for m in range(0,row,1):\n",
        "    for n in range(0,col,1):\n",
        "      if seat_status[m][n]=='AA':\n",
        "        return m+1\n",
        "\n",
        "seat_status = np.array([[ 'A' , 'B' , 'C' , 'D' , 'E'],\n",
        "                  ['F' , 'G' , 'H' , 'I' , 'J'],\n",
        "                  ['K' , 'L' , 'M' , 'N' , 'O'],\n",
        "                  ['P' , 'Q' , 'R' , 'S' , 'T'],\n",
        "                  ['U' , 'V' , 'W' , 'X' , 'Y'],\n",
        "                  ['Z' , 'AA' , 'BB' , 'CC' , 'DD']])\n",
        "exam_week=3\n",
        "print_matrix(seat_status)\n",
        "print()\n",
        "row_number=row_rotation(exam_week, seat_status) #This should print modified seat status after rotation\n",
        "print()\n",
        "print(f'Your friend AA will be on row {row_number}') #This should print Your friend AA will be on row 2"
      ],
      "metadata": {
        "id": "rChTGTHQdepv",
        "colab": {
          "base_uri": "https://localhost:8080/"
        },
        "outputId": "e4e18edb-7688-4168-b55c-72d1683e7945"
      },
      "execution_count": 32,
      "outputs": [
        {
          "output_type": "stream",
          "name": "stdout",
          "text": [
            "|  A  |  B  |  C  |  D  |  E  |\n",
            "-------------------------------\n",
            "|  F  |  G  |  H  |  I  |  J  |\n",
            "-------------------------------\n",
            "|  K  |  L  |  M  |  N  |  O  |\n",
            "-------------------------------\n",
            "|  P  |  Q  |  R  |  S  |  T  |\n",
            "-------------------------------\n",
            "|  U  |  V  |  W  |  X  |  Y  |\n",
            "-------------------------------\n",
            "|  Z  |  AA |  BB |  CC |  DD |\n",
            "-------------------------------\n",
            "\n",
            "[['U' 'V' 'W' 'X' 'Y']\n",
            " ['Z' 'AA' 'BB' 'CC' 'DD']\n",
            " ['A' 'B' 'C' 'D' 'E']\n",
            " ['F' 'G' 'H' 'I' 'J']\n",
            " ['K' 'L' 'M' 'N' 'O']\n",
            " ['P' 'Q' 'R' 'S' 'T']]\n",
            "\n",
            "Your friend AA will be on row 2\n"
          ]
        }
      ]
    },
    {
      "cell_type": "markdown",
      "source": [
        "Task 3: Matrix Manipulation"
      ],
      "metadata": {
        "id": "nbt_Gzv0fBtX"
      }
    },
    {
      "cell_type": "code",
      "source": [
        "def reverse_Matrix(matrix):\n",
        "  #TO DO\n",
        "  row, col = matrix.shape\n",
        "  new_arr = np.zeros([row, col], dtype=int)\n",
        "\n",
        "  # lr = matrix.shape[0]-1\n",
        "  # lc = matrix.shape[1]-1\n",
        "  lr = row-1\n",
        "  lc = col-1\n",
        "\n",
        "  for i in range(row):\n",
        "    for j in range(col):\n",
        "      new_arr[lr-i][lc-j]=matrix[i][j]\n",
        "\n",
        "  return new_arr\n",
        "\n",
        "matrix = np.array([\n",
        "[14,  8,  0,  4],\n",
        "[9,  8,  13,  13],\n",
        "[9,  3,  1,  4],\n",
        "[2,  10,  13,  6]\n",
        "])\n",
        "print_matrix(matrix)\n",
        "print('################')\n",
        "print()\n",
        "reversed_matrix = reverse_Matrix(matrix)\n",
        "print_matrix(reversed_matrix)\n",
        "print('################')\n",
        "print()\n",
        "matrix = np.array([\n",
        "[8,  10,  2],\n",
        "[3,  14,  14],\n",
        "[0,  4,  7]\n",
        "])\n",
        "print_matrix(matrix)\n",
        "print('################')\n",
        "print()\n",
        "reversed_matrix = reverse_Matrix(matrix)\n",
        "print_matrix(reversed_matrix)\n",
        "#This should print\n",
        "#|  6  |  13 |  10 |  2  |\n",
        "#-------------------------\n",
        "#|  4  |  1  |  3  |  9  |\n",
        "#-------------------------\n",
        "#|  13  |  13  |  8 |  9 |\n",
        "#-------------------------\n",
        "#|  4 |  0  |  8  |  14  |\n",
        "#-------------------------\n"
      ],
      "metadata": {
        "id": "kger_tJ7fDwW",
        "colab": {
          "base_uri": "https://localhost:8080/"
        },
        "outputId": "87647ab1-61b7-4ec9-f51a-6d3e27f051fe"
      },
      "execution_count": null,
      "outputs": [
        {
          "output_type": "stream",
          "name": "stdout",
          "text": [
            "|  14 |  8  |  0  |  4  |\n",
            "-------------------------\n",
            "|  9  |  8  |  13 |  13 |\n",
            "-------------------------\n",
            "|  9  |  3  |  1  |  4  |\n",
            "-------------------------\n",
            "|  2  |  10 |  13 |  6  |\n",
            "-------------------------\n",
            "################\n",
            "\n",
            "|  6  |  13 |  10 |  2  |\n",
            "-------------------------\n",
            "|  4  |  1  |  3  |  9  |\n",
            "-------------------------\n",
            "|  13 |  13 |  8  |  9  |\n",
            "-------------------------\n",
            "|  4  |  0  |  8  |  14 |\n",
            "-------------------------\n",
            "################\n",
            "\n",
            "|  8  |  10 |  2  |\n",
            "-------------------\n",
            "|  3  |  14 |  14 |\n",
            "-------------------\n",
            "|  0  |  4  |  7  |\n",
            "-------------------\n",
            "################\n",
            "\n",
            "|  7  |  4  |  0  |\n",
            "-------------------\n",
            "|  14 |  14 |  3  |\n",
            "-------------------\n",
            "|  2  |  10 |  8  |\n",
            "-------------------\n"
          ]
        }
      ]
    },
    {
      "cell_type": "markdown",
      "source": [
        "Task 4: Chess Piece"
      ],
      "metadata": {
        "id": "b0wfGjWyftxX"
      }
    },
    {
      "cell_type": "code",
      "source": [
        "def show_knight_move(knight):\n",
        "  #To Do\n",
        "  row, col = knight\n",
        "\n",
        "  board = np.zeros([8,8], dtype=int)\n",
        "  board[knight[0]][knight[1]]=66\n",
        "\n",
        "  # for row in range(board):\n",
        "  #   for col in range(board):\n",
        "\n",
        "  if row-2>=0 and col+1<8:\n",
        "    board[row-2][col+1]=3\n",
        "  if row-2>=0 and col-1<8:\n",
        "    board[row-2][col-1]=3\n",
        "  if row+2>=0 and col+1<8:\n",
        "    board[row+2][col+1]=3\n",
        "  if row+2>=0 and col-1<8:\n",
        "    board[row+2][col-1]=3\n",
        "\n",
        "  if row+1<8 and col-2>=0:\n",
        "    board[row+1][col-2]=3\n",
        "  if row+1<8 and col+2>=0:\n",
        "    board[row+1][col+2]=3\n",
        "  if row-1<8 and col+2>=0:\n",
        "    board[row-1][col+2]=3\n",
        "  if row-1<8 and col-2>=0:\n",
        "    board[row-1][col-2]=3\n",
        "  return board\n",
        "\n",
        "knight = (3,4)\n",
        "chess_board = show_knight_move(knight)\n",
        "print_matrix(chess_board)\n",
        "#This Should print\n",
        "#| 0 | 0 | 0 | 0 | 0 | 0 | 0 | 0 |\n",
        "#------------------------------------------\n",
        "#| 0 | 0 | 0 | 3 | 0 | 3 | 0 | 0 |\n",
        "#------------------------------------------\n",
        "#| 0 | 0 | 3 | 0 | 0 | 0 | 3 | 0 |\n",
        "#------------------------------------------\n",
        "#| 0 | 0 | 0 | 0 | 66 | 0 | 0 | 0 |\n",
        "#------------------------------------------\n",
        "#| 0 | 0 | 3 | 0 | 0 | 0 | 3 | 0 |\n",
        "#------------------------------------------\n",
        "#| 0 | 0 | 0 | 3 | 0 | 3 | 0 | 0 |\n",
        "#------------------------------------------\n",
        "#| 0 | 0 | 0 | 0 | 0 | 0 | 0 | 0 |\n",
        "#------------------------------------------\n",
        "#| 0 | 0 | 0 | 0 | 0 | 0 | 0 | 0 |\n",
        "#-----------------------------------------"
      ],
      "metadata": {
        "id": "FSrQG6Jpfzo3",
        "colab": {
          "base_uri": "https://localhost:8080/"
        },
        "outputId": "ac1f7193-cad5-4f07-f458-c8c5cb7bfcf7"
      },
      "execution_count": null,
      "outputs": [
        {
          "output_type": "stream",
          "name": "stdout",
          "text": [
            "|  0  |  0  |  0  |  0  |  0  |  0  |  0  |  0  |\n",
            "-------------------------------------------------\n",
            "|  0  |  0  |  0  |  3  |  0  |  3  |  0  |  0  |\n",
            "-------------------------------------------------\n",
            "|  0  |  0  |  3  |  0  |  0  |  0  |  3  |  0  |\n",
            "-------------------------------------------------\n",
            "|  0  |  0  |  0  |  0  |  66 |  0  |  0  |  0  |\n",
            "-------------------------------------------------\n",
            "|  0  |  0  |  3  |  0  |  0  |  0  |  3  |  0  |\n",
            "-------------------------------------------------\n",
            "|  0  |  0  |  0  |  3  |  0  |  3  |  0  |  0  |\n",
            "-------------------------------------------------\n",
            "|  0  |  0  |  0  |  0  |  0  |  0  |  0  |  0  |\n",
            "-------------------------------------------------\n",
            "|  0  |  0  |  0  |  0  |  0  |  0  |  0  |  0  |\n",
            "-------------------------------------------------\n"
          ]
        }
      ]
    },
    {
      "cell_type": "markdown",
      "source": [
        "Task 5: Matrix Compression"
      ],
      "metadata": {
        "id": "zWd3LAbsGEDS"
      }
    },
    {
      "cell_type": "code",
      "source": [
        "def compress_matrix(mat):\n",
        "    #TO DO\n",
        "    row,col=matrix.shape\n",
        "    new_matrix= np.zeros((2,2),dtype=int)\n",
        "    new_r,new_c=new_matrix.shape\n",
        "\n",
        "    index=0\n",
        "    count=0\n",
        "    temp = np.zeros(row,dtype=int)\n",
        "    #print(temp)\n",
        "\n",
        "    for i in range(0,row,2):\n",
        "      for j in range(0,col,2):\n",
        "        sum=0\n",
        "        sum+=mat[i][j]+mat[i+1][j]+mat[i][j+1]+mat[i+1][j+1]\n",
        "        #print(sum)\n",
        "        temp[count]=sum\n",
        "        count+=1\n",
        "    #print(temp)\n",
        "\n",
        "    for m in range(0,new_r):\n",
        "      for n in range(0,new_c):\n",
        "        new_matrix[m][n]=temp[index]\n",
        "        index+=1\n",
        "    return new_matrix\n",
        "\n",
        "matrix=np.array([[1,2,3,4],\n",
        "                 [5,6,7,8],\n",
        "                 [1,3,5,2],\n",
        "                 [-2,0,6,-3]\n",
        "                 ])\n",
        "print_matrix(matrix)\n",
        "print('################')\n",
        "print()\n",
        "returned_array=compress_matrix(matrix)\n",
        "print_matrix(returned_array)\n",
        "#This should print\n",
        "#|  14  |  22 |\n",
        "#--------------\n",
        "#|  2  |  10  |\n",
        "#--------------"
      ],
      "metadata": {
        "id": "9oIzitXSGJXa",
        "colab": {
          "base_uri": "https://localhost:8080/"
        },
        "outputId": "fe2bb86b-61a0-4a3b-c4f6-df8b2f8c21e8"
      },
      "execution_count": 25,
      "outputs": [
        {
          "output_type": "stream",
          "name": "stdout",
          "text": [
            "|  1  |  2  |  3  |  4  |\n",
            "-------------------------\n",
            "|  5  |  6  |  7  |  8  |\n",
            "-------------------------\n",
            "|  1  |  3  |  5  |  2  |\n",
            "-------------------------\n",
            "|  -2 |  0  |  6  |  -3 |\n",
            "-------------------------\n",
            "################\n",
            "\n",
            "|  14 |  22 |\n",
            "-------------\n",
            "|  2  |  10 |\n",
            "-------------\n"
          ]
        }
      ]
    },
    {
      "cell_type": "markdown",
      "source": [
        "Task 6: Game Arena"
      ],
      "metadata": {
        "id": "AtJGXnG1I687"
      }
    },
    {
      "cell_type": "code",
      "source": [
        "# def play_game(arena): # I G N O R E\n",
        "#   #TO DO\n",
        "#   r , c = arena.shape\n",
        "#   point = 0\n",
        "#   row , col = 0,0\n",
        "\n",
        "#   for i in range(row):\n",
        "#     for j in range(col):\n",
        "#       if arena[i][j]==0:\n",
        "#         row , col = i , j\n",
        "#         row , col = i, j\n",
        "#         point+=up(i,j,point,r,c)\n",
        "#         point+=down(i,j,point,r,c)\n",
        "#         point+=right(i,j,point,r,c)\n",
        "#         point+=left(i,j,point,r,c)\n",
        "\n",
        "# def up(r, c,arena,point,s_r, s_c):\n",
        "#   if r!=0:\n",
        "#     if arena[r-1][c]==2:\n",
        "#       point+=2\n",
        "#       gained=2\n",
        "#     return gained\n",
        "\n",
        "# def down(r, c,arena,point,s_r,s_c):\n",
        "#   if s_c!= r:\n",
        "#     if arena[r+1][c]==2:\n",
        "#       point+=2\n",
        "#       gained=2\n",
        "#     return gained\n",
        "\n",
        "# def right(r, c, arena,s_r,s_c):\n",
        "#   if s_c-1!=0:\n",
        "#     if arena[r][c+1]==2:\n",
        "#       gained=2\n",
        "#     return gained\n",
        "\n",
        "# def left(r, c, arena,s_r,s_c):\n",
        "#   if c!=0:\n",
        "#     if arena[r][c-1]==2:\n",
        "#       gained=2\n",
        "#     return gained\n",
        "\n",
        "# arena=np.array([[0,2,2,0],\n",
        "#                 [50,1,2,0],\n",
        "#                 [2,2,2,0],\n",
        "#                 [1,100,2,0]\n",
        "#                 ])\n",
        "# print_matrix(arena)\n",
        "# play_game(arena)\n",
        "# #This should print\n",
        "# #Points Gained: 6. Your team is out.\n",
        "\n",
        "# print(\".....................\")\n",
        "# arena=np.array([[0,2,2,0,2],\n",
        "#                 [1,50,2,1,100],\n",
        "#                 [2,2,2,0,2],\n",
        "#                 [0,200,2,0,0]\n",
        "#                 ])\n",
        "# print_matrix(arena)\n",
        "# play_game(arena)\n",
        "# #This should print\n",
        "# #Points Gained: 14. Your team has survived the game."
      ],
      "metadata": {
        "id": "P5rvZJuWI-GC"
      },
      "execution_count": null,
      "outputs": []
    },
    {
      "cell_type": "code",
      "source": [
        "def play_game(arena):\n",
        "  #TO Do\n",
        "  row, col = arena.shape\n",
        "  point = 0\n",
        "  for i in range(row):\n",
        "    for j in range(col):\n",
        "      if arena[i][j]%50==0 and arena[i][j]!=0:\n",
        "          #print(arena[i][j])\n",
        "\n",
        "          if j-1>=0 and arena[i][j-1]==2:\n",
        "            point +=2\n",
        "            #print(arena[i][j-1])\n",
        "\n",
        "          if i-1>=0 and arena[i-1][j]==2:\n",
        "            point +=2\n",
        "            #print(arena[i-1][j])\n",
        "\n",
        "          if i+1<row and arena[i+1][j]==2:\n",
        "            point+=2\n",
        "            #print(arena[i+1][j])\n",
        "\n",
        "          if j+1<col and arena[i][j+1]==2:\n",
        "            point+=2\n",
        "            #print(arena[i][j+1])\n",
        "  if point>=10:\n",
        "      print(f'Points Gained:{point}. Your team has survived the game.')\n",
        "  else:\n",
        "    print(f'Points Gained:{point}. Your team is out.')\n",
        "\n",
        "\n",
        "arena=np.array([[0,2,2,0],\n",
        "                [50,1,2,0],\n",
        "                [2,2,2,0],\n",
        "                [1,100,2,0]\n",
        "                ])\n",
        "print_matrix(arena)\n",
        "play_game(arena)\n",
        "#This should print\n",
        "#Points Gained: 6. Your team is out.\n",
        "\n",
        "print(\".....................\")\n",
        "arena=np.array([[0,2,2,0,2],\n",
        "                [1,50,2,1,100],\n",
        "                [2,2,2,0,2],\n",
        "                [0,200,2,0,0]\n",
        "                ])\n",
        "print_matrix(arena)\n",
        "play_game(arena)\n",
        "#This should print\n",
        "#Points Gained: 14. Your team has survived the game."
      ],
      "metadata": {
        "colab": {
          "base_uri": "https://localhost:8080/"
        },
        "id": "dKWfJr0SC2CS",
        "outputId": "99dbd50e-1dce-4f3a-cc55-c5f312c44cac"
      },
      "execution_count": null,
      "outputs": [
        {
          "output_type": "stream",
          "name": "stdout",
          "text": [
            "|  0  |  2  |  2  |  0  |\n",
            "-------------------------\n",
            "|  50 |  1  |  2  |  0  |\n",
            "-------------------------\n",
            "|  2  |  2  |  2  |  0  |\n",
            "-------------------------\n",
            "|  1  |  100 |  2  |  0  |\n",
            "-------------------------\n",
            "Points Gained:6. Your team is out.\n",
            ".....................\n",
            "|  0  |  2  |  2  |  0  |  2  |\n",
            "-------------------------------\n",
            "|  1  |  50 |  2  |  1  |  100 |\n",
            "-------------------------------\n",
            "|  2  |  2  |  2  |  0  |  2  |\n",
            "-------------------------------\n",
            "|  0  |  200 |  2  |  0  |  0  |\n",
            "-------------------------------\n",
            "Points Gained:14. Your team has survived the game.\n"
          ]
        }
      ]
    },
    {
      "cell_type": "markdown",
      "source": [
        "Bonus Task: Primary vs Secondary Diagonal"
      ],
      "metadata": {
        "id": "svFnEuyNHeKy"
      }
    },
    {
      "cell_type": "code",
      "source": [
        "def check_diagonal(matrix1, matrix2):\n",
        "  #TO DO\n",
        "  row1, col1= matrix1.shape\n",
        "  row2, col2= matrix2.shape\n",
        "  flag=True\n",
        "\n",
        "  if (row1!=row2 or col1!=col2):\n",
        "    print (\"Dimensions do not match\")\n",
        "\n",
        "  for i in range(row1):\n",
        "    j=(row1-i-1)\n",
        "    if matrix1[i][j]!=matrix2[j][j]:\n",
        "      flag=False\n",
        "      break\n",
        "\n",
        "  if flag == True:\n",
        "    print(\"YES\")\n",
        "  else:\n",
        "    print(\"NO\")\n",
        "\n",
        "array1 = np.array([[0, 4, 1], [7, 2, 5], [3, 6, 0]])\n",
        "array2 = np.array([[3, 6, 0], [5, 2, 7], [0, 4, 1]])\n",
        "check_diagonal(array1, array2)\n",
        "#print(check_diagonal(array1, array2)) #This should print YES\n",
        "print(\".............\")\n",
        "array1 = np.array([[0, 9, 9, 1], [9, 0, 2, 9], [9, 3, 0, 9], [4, 9, 9, 0]])\n",
        "array2 = np.array([[4, 9, 9, 0], [9, 0, 3, 9], [9, 0, 2, 9], [0, 9, 5, 1]])\n",
        "\n",
        "check_diagonal(array1, array2) #This should print NO\n"
      ],
      "metadata": {
        "id": "IgNeWdF1Hjxe",
        "colab": {
          "base_uri": "https://localhost:8080/"
        },
        "outputId": "09d022f0-b8f8-488c-d34e-64455796a5db"
      },
      "execution_count": null,
      "outputs": [
        {
          "output_type": "stream",
          "name": "stdout",
          "text": [
            "YES\n",
            ".............\n",
            "NO\n"
          ]
        }
      ]
    }
  ]
}