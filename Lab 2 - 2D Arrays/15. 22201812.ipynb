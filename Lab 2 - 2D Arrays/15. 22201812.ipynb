{
  "cells": [
    {
      "cell_type": "markdown",
      "metadata": {},
      "source": [
        "#### No issues."
      ]
    },
    {
      "cell_type": "code",
      "execution_count": 4,
      "metadata": {
        "colab": {
          "base_uri": "https://localhost:8080/"
        },
        "id": "Idmd2Tq1dCbp",
        "outputId": "b18e2dca-c38b-4391-874e-1897d25ff8dc"
      },
      "outputs": [
        {
          "name": "stdout",
          "output_type": "stream",
          "text": [
            "Collecting fhm-unittest\n",
            "  Downloading fhm_unittest-1.0.1-py3-none-any.whl (2.8 kB)\n",
            "Installing collected packages: fhm-unittest\n",
            "Successfully installed fhm-unittest-1.0.1\n",
            "Collecting fuzzywuzzy\n",
            "  Downloading fuzzywuzzy-0.18.0-py2.py3-none-any.whl (18 kB)\n",
            "Installing collected packages: fuzzywuzzy\n",
            "Successfully installed fuzzywuzzy-0.18.0\n"
          ]
        },
        {
          "name": "stderr",
          "output_type": "stream",
          "text": [
            "/usr/local/lib/python3.10/dist-packages/fuzzywuzzy/fuzz.py:11: UserWarning: Using slow pure-python SequenceMatcher. Install python-Levenshtein to remove this warning\n",
            "  warnings.warn('Using slow pure-python SequenceMatcher. Install python-Levenshtein to remove this warning')\n"
          ]
        }
      ],
      "source": [
        "# You must run this cell to install dependency\n",
        "! pip3 install fhm-unittest\n",
        "! pip3 install fuzzywuzzy\n",
        "import fhm_unittest as unittest\n",
        "import numpy as np"
      ]
    },
    {
      "cell_type": "code",
      "execution_count": 5,
      "metadata": {
        "id": "8fJsXKBfdTyA"
      },
      "outputs": [],
      "source": [
        "#You must run this cell to print matrix and for the driver code to work\n",
        "def print_matrix(m):\n",
        "  row,col = m.shape\n",
        "  for i in range(row):\n",
        "    c = 1\n",
        "    print('|', end='')\n",
        "    for j in range(col):\n",
        "      c += 1\n",
        "      if(len(str(m[i][j])) == 1):\n",
        "        print(' ',m[i][j], end = '  |')\n",
        "        c += 6\n",
        "      else:\n",
        "        print(' ',m[i][j], end = ' |')\n",
        "        c += 6\n",
        "    print()\n",
        "    print('-'*(c-col))\n",
        "\n"
      ]
    },
    {
      "cell_type": "markdown",
      "metadata": {
        "id": "bPtgo9m-d0D3"
      },
      "source": [
        "Task 1: Zigzag Walk"
      ]
    },
    {
      "cell_type": "code",
      "execution_count": null,
      "metadata": {
        "colab": {
          "base_uri": "https://localhost:8080/"
        },
        "id": "t258US3qdYJA",
        "outputId": "c2faa684-1e7f-461b-e5c2-e43b04061def"
      },
      "outputs": [
        {
          "name": "stdout",
          "output_type": "stream",
          "text": [
            "|  3  |  8  |  4  |  6  |  1  |\n",
            "-------------------------------\n",
            "|  7  |  2  |  1  |  9  |  3  |\n",
            "-------------------------------\n",
            "|  9  |  0  |  7  |  5  |  8  |\n",
            "-------------------------------\n",
            "|  2  |  1  |  3  |  4  |  0  |\n",
            "-------------------------------\n",
            "|  1  |  4  |  2  |  8  |  6  |\n",
            "-------------------------------\n",
            "Walking Sequence:\n",
            "\n",
            "3 9 1 \n",
            "1 2 \n",
            "4 7 2 \n",
            "4 9 \n",
            "1 8 6 ################\n",
            "|  3  |  8  |  4  |  6  |  1  |\n",
            "-------------------------------\n",
            "|  7  |  2  |  1  |  9  |  3  |\n",
            "-------------------------------\n",
            "|  9  |  0  |  7  |  5  |  8  |\n",
            "-------------------------------\n",
            "|  2  |  1  |  3  |  4  |  0  |\n",
            "-------------------------------\n",
            "Walking Sequence:\n",
            "\n",
            "3 9 \n",
            "1 2 \n",
            "4 7 \n",
            "4 9 \n",
            "1 8 "
          ]
        }
      ],
      "source": [
        "def walk_zigzag(floor):\n",
        "  #TO DO\n",
        "    row=floor.shape[0]\n",
        "    col=floor.shape[1]\n",
        "\n",
        "    if row%2==0:\n",
        "        for c in range(col):\n",
        "            print()\n",
        "            if c%2==0:\n",
        "                for r in range(0,row,2):\n",
        "                    print(floor[r][c],end=\" \")\n",
        "            else:\n",
        "                for r in range(row-1,-1,-2):\n",
        "                    print(floor[r][c],end=\" \")\n",
        "    else:\n",
        "        for c in range(col):\n",
        "            print()\n",
        "            if c%2==0:\n",
        "                for r in range(0,row,2):\n",
        "                    print(floor[r][c],end=\" \")\n",
        "            else:\n",
        "                for r in range(row-2,-1,-2):\n",
        "                    print(floor[r][c],end=\" \")\n",
        "\n",
        "\n",
        "\n",
        "\n",
        "floor = np.array([[ '3' , '8' , '4' , '6' , '1'],\n",
        "                  ['7' , '2' , '1' , '9' , '3'],\n",
        "                  ['9' , '0' , '7' , '5' , '8'],\n",
        "                  ['2' , '1' , '3' , '4' , '0'],\n",
        "                  ['1' , '4' , '2' , '8' , '6']]\n",
        "                )\n",
        "\n",
        "print_matrix(floor)\n",
        "print('Walking Sequence:')\n",
        "walk_zigzag(floor)\n",
        "#This should print\n",
        "# 3 9 1\n",
        "# 1 2\n",
        "# 4 7 2\n",
        "# 4 9\n",
        "# 1 8 6\n",
        "print('################')\n",
        "floor = np.array([[ '3' , '8' , '4' , '6' , '1'],\n",
        "                  ['7' , '2' , '1' , '9' , '3'],\n",
        "                  ['9' , '0' , '7' , '5' , '8'],\n",
        "                  ['2' , '1' , '3' , '4' , '0']]\n",
        "                )\n",
        "\n",
        "print_matrix(floor)\n",
        "print('Walking Sequence:')\n",
        "walk_zigzag(floor)\n",
        "#This should print\n",
        "# 3 9\n",
        "# 1 2\n",
        "# 4 7\n",
        "# 4 9\n",
        "# 1 8"
      ]
    },
    {
      "cell_type": "markdown",
      "metadata": {
        "id": "pqub59w9du-g"
      },
      "source": [
        "Task 2: Row Rotation Policy of BRACU Classroom"
      ]
    },
    {
      "cell_type": "code",
      "execution_count": 7,
      "metadata": {
        "colab": {
          "base_uri": "https://localhost:8080/"
        },
        "id": "rChTGTHQdepv",
        "outputId": "37c1323d-d9cb-4213-dd6a-fbc3f879070e"
      },
      "outputs": [
        {
          "name": "stdout",
          "output_type": "stream",
          "text": [
            "|  A  |  B  |  C  |  D  |  E  |\n",
            "-------------------------------\n",
            "|  F  |  G  |  H  |  I  |  J  |\n",
            "-------------------------------\n",
            "|  K  |  L  |  M  |  N  |  O  |\n",
            "-------------------------------\n",
            "|  P  |  Q  |  R  |  S  |  T  |\n",
            "-------------------------------\n",
            "|  U  |  V  |  W  |  X  |  Y  |\n",
            "-------------------------------\n",
            "|  Z  |  AA |  BB |  CC |  DD |\n",
            "-------------------------------\n",
            "\n",
            "|  U  |  V  |  W  |  X  |  Y  |\n",
            "-------------------------------\n",
            "|  Z  |  AA |  BB |  CC |  DD |\n",
            "-------------------------------\n",
            "|  A  |  B  |  C  |  D  |  E  |\n",
            "-------------------------------\n",
            "|  F  |  G  |  H  |  I  |  J  |\n",
            "-------------------------------\n",
            "|  K  |  L  |  M  |  N  |  O  |\n",
            "-------------------------------\n",
            "|  P  |  Q  |  R  |  S  |  T  |\n",
            "-------------------------------\n",
            "Your friend AA will be on row 2\n"
          ]
        }
      ],
      "source": [
        "def row_rotation(exam_week, seat_status):\n",
        "  #To Do\n",
        "    row,col=seat_status.shape\n",
        "    new=np.array([None]*col)\n",
        "\n",
        "    for i in range(0,exam_week-1):\n",
        "        for j in range(col):\n",
        "            new[j]=seat_status[row-1][j]\n",
        "\n",
        "        for k in range(row-1,-1,-1):\n",
        "            seat_status[k]=seat_status[k-1]\n",
        "        seat_status[0]=new\n",
        "\n",
        "    print_matrix(seat_status)\n",
        "\n",
        "    for r in range(row):\n",
        "        for c in range(col):\n",
        "            if seat_status[r][c]==\"AA\":\n",
        "                return i+1\n",
        "\n",
        "\n",
        "\n",
        "seat_status = np.array([[ 'A' , 'B' , 'C' , 'D' , 'E'],\n",
        "                  ['F' , 'G' , 'H' , 'I' , 'J'],\n",
        "                  ['K' , 'L' , 'M' , 'N' , 'O'],\n",
        "                  ['P' , 'Q' , 'R' , 'S' , 'T'],\n",
        "                  ['U' , 'V' , 'W' , 'X' , 'Y'],\n",
        "                  ['Z' , 'AA' , 'BB' , 'CC' , 'DD']])\n",
        "exam_week=3\n",
        "print_matrix(seat_status)\n",
        "print()\n",
        "row_number=row_rotation(exam_week, seat_status) #This should print modified seat status after rotation\n",
        "print(f'Your friend AA will be on row {row_number}') #This should print Your friend AA will be on row 2"
      ]
    },
    {
      "cell_type": "markdown",
      "metadata": {
        "id": "nbt_Gzv0fBtX"
      },
      "source": [
        "Task 3: Matrix Manipulation"
      ]
    },
    {
      "cell_type": "code",
      "execution_count": null,
      "metadata": {
        "colab": {
          "base_uri": "https://localhost:8080/"
        },
        "id": "kger_tJ7fDwW",
        "outputId": "d27ee3a7-cfbf-4951-cc4f-fa4cbe4d2846"
      },
      "outputs": [
        {
          "name": "stdout",
          "output_type": "stream",
          "text": [
            "|  14 |  8  |  0  |  4  |\n",
            "-------------------------\n",
            "|  9  |  8  |  13 |  13 |\n",
            "-------------------------\n",
            "|  9  |  3  |  1  |  4  |\n",
            "-------------------------\n",
            "|  2  |  10 |  13 |  6  |\n",
            "-------------------------\n",
            "################\n",
            "\n",
            "|  6  |  13 |  10 |  2  |\n",
            "-------------------------\n",
            "|  4  |  1  |  3  |  9  |\n",
            "-------------------------\n",
            "|  13 |  13 |  8  |  9  |\n",
            "-------------------------\n",
            "|  4  |  0  |  8  |  14 |\n",
            "-------------------------\n"
          ]
        }
      ],
      "source": [
        "def reverse_Matrix(matrix):\n",
        "  #TO DO\n",
        "  row,col=matrix.shape\n",
        "  new=np.zeros((row,col),dtype=int)\n",
        "  for r in range(row):\n",
        "    for c in range(col):\n",
        "        new[r][c]=matrix[row-1-r][col-1-c]\n",
        "  return new\n",
        "\n",
        "\n",
        "\n",
        "\n",
        "matrix = np.array([\n",
        "[14,  8,  0,  4],\n",
        "[9,  8,  13,  13],\n",
        "[9,  3,  1,  4],\n",
        "[2,  10,  13,  6]\n",
        "])\n",
        "print_matrix(matrix)\n",
        "print('################')\n",
        "print()\n",
        "reversed_matrix = reverse_Matrix(matrix)\n",
        "print_matrix(reversed_matrix)\n",
        "\n",
        "#This should print\n",
        "#|  6  |  13 |  10 |  2  |\n",
        "#-------------------------\n",
        "#|  4  |  1  |  3  |  9  |\n",
        "#-------------------------\n",
        "#|  13  |  13  |  8 |  9 |\n",
        "#-------------------------\n",
        "#|  4 |  0  |  8  |  14  |\n",
        "#-------------------------\n"
      ]
    },
    {
      "cell_type": "markdown",
      "metadata": {
        "id": "b0wfGjWyftxX"
      },
      "source": [
        "Task 4: Chess Piece"
      ]
    },
    {
      "cell_type": "code",
      "execution_count": null,
      "metadata": {
        "colab": {
          "base_uri": "https://localhost:8080/"
        },
        "id": "FSrQG6Jpfzo3",
        "outputId": "083621c4-0d38-4bda-a7cd-4b5fed238906"
      },
      "outputs": [
        {
          "name": "stdout",
          "output_type": "stream",
          "text": [
            "|  0  |  0  |  0  |  0  |  0  |  0  |  0  |  0  |\n",
            "-------------------------------------------------\n",
            "|  0  |  0  |  0  |  3  |  0  |  3  |  0  |  0  |\n",
            "-------------------------------------------------\n",
            "|  0  |  0  |  3  |  0  |  0  |  0  |  3  |  0  |\n",
            "-------------------------------------------------\n",
            "|  0  |  0  |  0  |  0  |  66 |  0  |  0  |  0  |\n",
            "-------------------------------------------------\n",
            "|  0  |  0  |  3  |  0  |  0  |  0  |  3  |  0  |\n",
            "-------------------------------------------------\n",
            "|  0  |  0  |  0  |  3  |  0  |  3  |  0  |  0  |\n",
            "-------------------------------------------------\n",
            "|  0  |  0  |  0  |  0  |  0  |  0  |  0  |  0  |\n",
            "-------------------------------------------------\n",
            "|  0  |  0  |  0  |  0  |  0  |  0  |  0  |  0  |\n",
            "-------------------------------------------------\n"
          ]
        }
      ],
      "source": [
        "def show_knight_move(knight):\n",
        "  #To Do\n",
        "    moveSet=np.array([[2,1],[2,-1],[-2,1],[-2,-1],[1,2],[1,-2],[-1,2],[-1,-2]])\n",
        "    chessBoard=np.zeros((8,8),dtype=int)\n",
        "    row,col=knight\n",
        "    chessBoard[row][col]=66\n",
        "\n",
        "    for i in range(len(moveSet)):\n",
        "        moveRow=row+moveSet[i][0]\n",
        "        moveCol=col+moveSet[i][1]\n",
        "        if 0<=moveRow<=7 and 0<=moveCol<=7:\n",
        "            chessBoard[moveRow][moveCol]=3\n",
        "    return chessBoard\n",
        "\n",
        "\n",
        "\n",
        "\n",
        "\n",
        "knight = (3,4)\n",
        "chess_board = show_knight_move(knight)\n",
        "print_matrix(chess_board)\n",
        "#This Should print\n",
        "#| 0 | 0 | 0 | 0 | 0 | 0 | 0 | 0 |\n",
        "#------------------------------------------\n",
        "#| 0 | 0 | 0 | 3 | 0 | 3 | 0 | 0 |\n",
        "#------------------------------------------\n",
        "#| 0 | 0 | 3 | 0 | 0 | 0 | 3 | 0 |\n",
        "#------------------------------------------\n",
        "#| 0 | 0 | 0 | 0 | 66 | 0 | 0 | 0 |\n",
        "#------------------------------------------\n",
        "#| 0 | 0 | 3 | 0 | 0 | 0 | 3 | 0 |\n",
        "#------------------------------------------\n",
        "#| 0 | 0 | 0 | 3 | 0 | 3 | 0 | 0 |\n",
        "#------------------------------------------\n",
        "#| 0 | 0 | 0 | 0 | 0 | 0 | 0 | 0 |\n",
        "#------------------------------------------\n",
        "#| 0 | 0 | 0 | 0 | 0 | 0 | 0 | 0 |\n",
        "#-----------------------------------------"
      ]
    },
    {
      "cell_type": "markdown",
      "metadata": {
        "id": "zWd3LAbsGEDS"
      },
      "source": [
        "Task 5: Matrix Compression"
      ]
    },
    {
      "cell_type": "code",
      "execution_count": null,
      "metadata": {
        "colab": {
          "base_uri": "https://localhost:8080/"
        },
        "id": "9oIzitXSGJXa",
        "outputId": "e6c51369-c467-48f4-86c6-74f6a1de2def"
      },
      "outputs": [
        {
          "name": "stdout",
          "output_type": "stream",
          "text": [
            "|  1  |  2  |  3  |  4  |\n",
            "-------------------------\n",
            "|  5  |  6  |  7  |  8  |\n",
            "-------------------------\n",
            "|  1  |  3  |  5  |  2  |\n",
            "-------------------------\n",
            "|  -2 |  0  |  6  |  -3 |\n",
            "-------------------------\n",
            "################\n",
            "\n",
            "|  14 |  22 |\n",
            "-------------\n",
            "|  2  |  10 |\n",
            "-------------\n"
          ]
        }
      ],
      "source": [
        "\n",
        "\n",
        "def compress_matrix(mat):\n",
        "    #TO DO\n",
        "    row,col=mat.shape\n",
        "    newMatRow=row//2\n",
        "    newMatCol=col//2\n",
        "    newMat=np.zeros((newMatRow,newMatCol),dtype=int)\n",
        "    r_r=0\n",
        "    for r in range(0,row,2):\n",
        "        c_c=0\n",
        "        for c in range(0,col,2):\n",
        "            newMat[c_c][r_r]=mat[c,r]+mat[c+1,r]+mat[c,r+1]+mat[c+1,r+1]\n",
        "            c_c+=1\n",
        "        r_r+=1\n",
        "    return newMat\n",
        "\n",
        "\n",
        "matrix=np.array([[1,2,3,4],\n",
        "                 [5,6,7,8],\n",
        "                 [1,3,5,2],\n",
        "                 [-2,0,6,-3]\n",
        "                 ])\n",
        "print_matrix(matrix)\n",
        "print('################')\n",
        "print()\n",
        "returned_array=compress_matrix(matrix)\n",
        "print_matrix(returned_array)\n",
        "#This should print\n",
        "#|  14  |  22 |\n",
        "#--------------\n",
        "#|  2  |  10  |\n",
        "#--------------"
      ]
    },
    {
      "cell_type": "markdown",
      "metadata": {
        "id": "AtJGXnG1I687"
      },
      "source": [
        "Task 6: Game Arena"
      ]
    },
    {
      "cell_type": "code",
      "execution_count": null,
      "metadata": {
        "colab": {
          "base_uri": "https://localhost:8080/"
        },
        "id": "P5rvZJuWI-GC",
        "outputId": "73f5d674-283c-4512-b51d-db13362f9cc9"
      },
      "outputs": [
        {
          "name": "stdout",
          "output_type": "stream",
          "text": [
            "|  0  |  2  |  2  |  0  |\n",
            "-------------------------\n",
            "|  50 |  1  |  2  |  0  |\n",
            "-------------------------\n",
            "|  2  |  2  |  2  |  0  |\n",
            "-------------------------\n",
            "|  1  |  100 |  2  |  0  |\n",
            "-------------------------\n",
            "Points Gained: 6. Your team is out\n",
            ".....................\n",
            "|  0  |  2  |  2  |  0  |  2  |\n",
            "-------------------------------\n",
            "|  1  |  50 |  2  |  1  |  100 |\n",
            "-------------------------------\n",
            "|  2  |  2  |  2  |  0  |  2  |\n",
            "-------------------------------\n",
            "|  0  |  200 |  2  |  0  |  0  |\n",
            "-------------------------------\n",
            "Points Gained: 14. Your team has survived the game.\n"
          ]
        }
      ],
      "source": [
        "def play_game(arena):\n",
        "  #TO DO\n",
        "  row,col=arena.shape\n",
        "\n",
        "  point=0\n",
        "  for i in range(row):\n",
        "    for j in range(col):\n",
        "        if arena[i][j]%50==0 and arena[i][j]!=0:\n",
        "            if i-1>=0:\n",
        "                if arena[i-1][j]==2:\n",
        "                    point+=1\n",
        "            if i+1<row:\n",
        "                if arena[i+1][j]==2:\n",
        "                    point+=1\n",
        "            if j-1>=0:\n",
        "                if arena[i][j-1]==2:\n",
        "                    point+=1\n",
        "            if j+1<col:\n",
        "                if arena[i][j+1]==2:\n",
        "                    point+=1\n",
        "\n",
        "  if point*2<10:\n",
        "    print(f\"Points Gained: {point*2}. Your team is out\")\n",
        "  else:\n",
        "    print(f\"Points Gained: {point*2}. Your team has survived the game.\")\n",
        "\n",
        "\n",
        "\n",
        "arena=np.array([[0,2,2,0],\n",
        "                [50,1,2,0],\n",
        "                [2,2,2,0],\n",
        "                [1,100,2,0]\n",
        "                ])\n",
        "print_matrix(arena)\n",
        "play_game(arena)\n",
        "#This should print\n",
        "#Points Gained: 6. Your team is out.\n",
        "\n",
        "print(\".....................\")\n",
        "arena=np.array([[0,2,2,0,2],\n",
        "                [1,50,2,1,100],\n",
        "                [2,2,2,0,2],\n",
        "                [0,200,2,0,0]\n",
        "                ])\n",
        "print_matrix(arena)\n",
        "play_game(arena)\n",
        "#This should print\n",
        "#Points Gained: 14. Your team has survived the game."
      ]
    },
    {
      "cell_type": "markdown",
      "metadata": {
        "id": "svFnEuyNHeKy"
      },
      "source": [
        "Bonus Task: Primary vs Secondary Diagonal"
      ]
    },
    {
      "cell_type": "code",
      "execution_count": null,
      "metadata": {
        "id": "IgNeWdF1Hjxe"
      },
      "outputs": [],
      "source": [
        "def check_diagonal(matrix1, matrix2):\n",
        "  #TO DO\n",
        "\n",
        "array1 = np.array([[0, 4, 1], [7, 2, 5], [3, 6, 0]])\n",
        "array2 = np.array([[3, 6, 0], [5, 2, 7], [0, 4, 1]])\n",
        "\n",
        "check_Diagonal(array1, array2) #This should print YES\n",
        "print(\".............\")\n",
        "array1 = np.array([[0, 9, 9, 1], [9, 0, 2, 9], [9, 3, 0, 9], [4, 9, 9, 0]])\n",
        "array2 = np.array([[4, 9, 9, 0], [9, 0, 3, 9], [9, 0, 2, 9], [0, 9, 5, 1]])\n",
        "\n",
        "check_Diagonal (array1, array2) #This should print NO\n"
      ]
    }
  ],
  "metadata": {
    "colab": {
      "provenance": []
    },
    "kernelspec": {
      "display_name": "Python 3",
      "name": "python3"
    },
    "language_info": {
      "name": "python"
    }
  },
  "nbformat": 4,
  "nbformat_minor": 0
}
