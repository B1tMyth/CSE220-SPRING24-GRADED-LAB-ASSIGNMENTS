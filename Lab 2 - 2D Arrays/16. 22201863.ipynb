{
  "cells": [
    {
      "cell_type": "markdown",
      "metadata": {},
      "source": [
        "#### Task 2: Be careful with saving entire dimension like a particular row or a column etc when dealing with numpy arrays. For efficiency, the actual row or column is never saved rather a reference or pointer to that row or column gets saved. As a result when you are saving the last row from the array, you are acutally saving a reference to the last row. Due to shifting, the elements at the last row changes. Although the reference never changes, but now you have reference to a row whose elements has changed. Please refer to numpy docs. \n",
        "#### Task 3: Hard coded the dimensions for the output array. \n",
        "#### Task 4: No bounds check. "
      ]
    },
    {
      "cell_type": "code",
      "execution_count": 1,
      "metadata": {
        "colab": {
          "base_uri": "https://localhost:8080/"
        },
        "id": "Idmd2Tq1dCbp",
        "outputId": "0d1fcce1-a73f-4fdb-9801-83f868a218ca"
      },
      "outputs": [],
      "source": [
        "# You must run this cell to install dependency\n",
        "# ! pip3 install fhm-unittest\n",
        "# ! pip3 install fuzzywuzzy\n",
        "# import fhm_unittest as unittest\n",
        "import numpy as np"
      ]
    },
    {
      "cell_type": "code",
      "execution_count": 2,
      "metadata": {
        "id": "8fJsXKBfdTyA"
      },
      "outputs": [],
      "source": [
        "#You must run this cell to print matrix and for the driver code to work\n",
        "def print_matrix(m):\n",
        "  row,col = m.shape\n",
        "  for i in range(row):\n",
        "    c = 1\n",
        "    print('|', end='')\n",
        "    for j in range(col):\n",
        "      c += 1\n",
        "      if(len(str(m[i][j])) == 1):\n",
        "        print(' ',m[i][j], end = '  |')\n",
        "        c += 6\n",
        "      else:\n",
        "        print(' ',m[i][j], end = ' |')\n",
        "        c += 6\n",
        "    print()\n",
        "    print('-'*(c-col))\n",
        "\n"
      ]
    },
    {
      "cell_type": "markdown",
      "metadata": {
        "id": "bPtgo9m-d0D3"
      },
      "source": [
        "Task 1: Zigzag Walk"
      ]
    },
    {
      "cell_type": "code",
      "execution_count": 4,
      "metadata": {
        "colab": {
          "base_uri": "https://localhost:8080/"
        },
        "id": "t258US3qdYJA",
        "outputId": "ae08e880-c812-4e86-8ad2-b3f75be18b51"
      },
      "outputs": [
        {
          "name": "stdout",
          "output_type": "stream",
          "text": [
            "|  3  |  8  |  4  |  6  |  1  |\n",
            "-------------------------------\n",
            "|  7  |  2  |  1  |  9  |  3  |\n",
            "-------------------------------\n",
            "|  9  |  0  |  7  |  5  |  8  |\n",
            "-------------------------------\n",
            "|  2  |  1  |  3  |  4  |  0  |\n",
            "-------------------------------\n",
            "|  1  |  4  |  2  |  8  |  6  |\n",
            "-------------------------------\n",
            "Walking Sequence:\n",
            "3 9 1 \n",
            "1 2 \n",
            "4 7 2 \n",
            "4 9 \n",
            "1 8 6 \n",
            "################\n",
            "|  3  |  8  |  4  |  6  |  1  |\n",
            "-------------------------------\n",
            "|  7  |  2  |  1  |  9  |  3  |\n",
            "-------------------------------\n",
            "|  9  |  0  |  7  |  5  |  8  |\n",
            "-------------------------------\n",
            "|  2  |  1  |  3  |  4  |  0  |\n",
            "-------------------------------\n",
            "Walking Sequence:\n",
            "3 9 \n",
            "1 2 \n",
            "4 7 \n",
            "4 9 \n",
            "1 8 \n"
          ]
        }
      ],
      "source": [
        "def walk_zigzag(floor):\n",
        "  #TO DO\n",
        "  row = len(floor)\n",
        "  column = len(floor[0])\n",
        "  for i in range(column):\n",
        "    if i%2==0:\n",
        "      for j in range( row ):\n",
        "        if j%2 == 0:\n",
        "          print( floor[j][i], end = \" \" )\n",
        "      print()\n",
        "    else:\n",
        "      if row%2==0:\n",
        "        for j in range(row):\n",
        "          if (row-1-j)%2 != 0 :\n",
        "            print( floor[row-1-j][i], end = ' ')\n",
        "      else:\n",
        "        for j in range(row):\n",
        "          if (row-j)%2 == 0 :\n",
        "            print( floor[row-j - 1][i], end = ' ')\n",
        "      print()\n",
        "\n",
        "\n",
        "\n",
        "floor = np.array([[ '3' , '8' , '4' , '6' , '1'],\n",
        "                  ['7' , '2' , '1' , '9' , '3'],\n",
        "                  ['9' , '0' , '7' , '5' , '8'],\n",
        "                  ['2' , '1' , '3' , '4' , '0'],\n",
        "                  ['1' , '4' , '2' , '8' , '6']]\n",
        "                )\n",
        "\n",
        "\n",
        "\n",
        "print_matrix(floor)\n",
        "print('Walking Sequence:')\n",
        "walk_zigzag(floor)\n",
        "#This should print\n",
        "# 3 9 1\n",
        "# 1 2\n",
        "# 4 7 2\n",
        "# 4 9\n",
        "# 1 8 6\n",
        "print('################')\n",
        "floor = np.array([[ '3' , '8' , '4' , '6' , '1'],\n",
        "                  ['7' , '2' , '1' , '9' , '3'],\n",
        "                  ['9' , '0' , '7' , '5' , '8'],\n",
        "                  ['2' , '1' , '3' , '4' , '0']]\n",
        "                )\n",
        "\n",
        "print_matrix(floor)\n",
        "print('Walking Sequence:')\n",
        "walk_zigzag(floor)\n",
        "#This should print\n",
        "# 3 9\n",
        "# 1 2\n",
        "# 4 7\n",
        "# 4 9\n",
        "# 1 8"
      ]
    },
    {
      "cell_type": "markdown",
      "metadata": {
        "id": "pqub59w9du-g"
      },
      "source": [
        "Task 2: Row Rotation Policy of BRACU Classroom"
      ]
    },
    {
      "cell_type": "code",
      "execution_count": 17,
      "metadata": {
        "colab": {
          "base_uri": "https://localhost:8080/"
        },
        "id": "rChTGTHQdepv",
        "outputId": "01deb5b6-7f1f-45c3-c9f9-b4970cda9fcd"
      },
      "outputs": [
        {
          "name": "stdout",
          "output_type": "stream",
          "text": [
            "|  A  |  B  |  C  |  D  |  E  |\n",
            "-------------------------------\n",
            "|  F  |  G  |  H  |  I  |  J  |\n",
            "-------------------------------\n",
            "|  K  |  L  |  M  |  N  |  O  |\n",
            "-------------------------------\n",
            "|  P  |  Q  |  R  |  S  |  T  |\n",
            "-------------------------------\n",
            "|  U  |  V  |  W  |  X  |  Y  |\n",
            "-------------------------------\n",
            "|  Z  |  AA |  BB |  CC |  DD |\n",
            "-------------------------------\n",
            "\n",
            "Your friend AA will be on row 2\n"
          ]
        }
      ],
      "source": [
        "def row_rotation(exam_week, seat_status):\n",
        "  #To Do\n",
        "    row_idx = 0\n",
        "    rows = len(seat_status)\n",
        "    for i in range(exam_week-1):\n",
        "      last_row = seat_status[rows-1]\n",
        "      for i in range(rows- 1,0,-1):\n",
        "        seat_status[i]=seat_status[i-1]\n",
        "      seat_status[0]=last_row\n",
        "      if row_idx==rows-1:\n",
        "        row_idx=0\n",
        "      else:\n",
        "        row_idx+=1\n",
        "    return row_idx\n",
        "\n",
        "seat_status = np.array([[ 'A' , 'B' , 'C' , 'D' , 'E'],\n",
        "                  ['F' , 'G' , 'H' , 'I' , 'J'],\n",
        "                  ['K' , 'L' , 'M' , 'N' , 'O'],\n",
        "                  ['P' , 'Q' , 'R' , 'S' , 'T'],\n",
        "                  ['U' , 'V' , 'W' , 'X' , 'Y'],\n",
        "                  ['Z' , 'AA' , 'BB' , 'CC' , 'DD']])\n",
        "exam_week=3\n",
        "print_matrix(seat_status)\n",
        "print()\n",
        "row_number=row_rotation(exam_week, seat_status) #This should print modified seat status after rotation\n",
        "print(f'Your friend AA will be on row {row_number}') #This should print Your friend AA will be on row 2"
      ]
    },
    {
      "cell_type": "markdown",
      "metadata": {
        "id": "nbt_Gzv0fBtX"
      },
      "source": [
        "Task 3: Matrix Manipulation"
      ]
    },
    {
      "cell_type": "code",
      "execution_count": 5,
      "metadata": {
        "colab": {
          "base_uri": "https://localhost:8080/"
        },
        "id": "kger_tJ7fDwW",
        "outputId": "e8ee5d07-d042-42c6-ad27-97bbc68b1322"
      },
      "outputs": [
        {
          "name": "stdout",
          "output_type": "stream",
          "text": [
            "|  14 |  8  |  0  |  4  |\n",
            "-------------------------\n",
            "|  9  |  8  |  13 |  13 |\n",
            "-------------------------\n",
            "|  9  |  3  |  1  |  4  |\n",
            "-------------------------\n",
            "|  2  |  10 |  13 |  6  |\n",
            "-------------------------\n",
            "################\n",
            "\n",
            "|  6  |  13 |  10 |  2  |\n",
            "-------------------------\n",
            "|  4  |  1  |  3  |  9  |\n",
            "-------------------------\n",
            "|  13 |  13 |  8  |  9  |\n",
            "-------------------------\n",
            "|  4  |  0  |  8  |  14 |\n",
            "-------------------------\n"
          ]
        }
      ],
      "source": [
        "def reverse_Matrix(matrix):\n",
        "  #TO DO\n",
        "  m=np.zeros((4,4), dtype=int)\n",
        "  row=len(matrix)\n",
        "  col=len(matrix[0])\n",
        "  x=len(matrix)-1\n",
        "  y=len(m)-1\n",
        "  i=0\n",
        "  j=0\n",
        "  for i in range(row):\n",
        "    for j in range(col):\n",
        "      m[i,j]=matrix[x,y]\n",
        "      y-=1\n",
        "      if y==-1:\n",
        "        y=len(matrix)-1\n",
        "        x-=1\n",
        "  return m\n",
        "\n",
        "matrix = np.array([\n",
        "[14,  8,  0,  4],\n",
        "[9,  8,  13,  13],\n",
        "[9,  3,  1,  4],\n",
        "[2,  10,  13,  6]\n",
        "])\n",
        "print_matrix(matrix)\n",
        "print('################')\n",
        "print()\n",
        "reversed_matrix = reverse_Matrix(matrix)\n",
        "print_matrix(reversed_matrix)\n",
        "\n",
        "#This should print\n",
        "#|  6  |  13 |  10 |  2  |\n",
        "#-------------------------\n",
        "#|  4  |  1  |  3  |  9  |\n",
        "#-------------------------\n",
        "#|  13  |  13  |  8 |  9 |\n",
        "#-------------------------\n",
        "#|  4 |  0  |  8  |  14  |\n",
        "#-------------------------\n"
      ]
    },
    {
      "cell_type": "markdown",
      "metadata": {
        "id": "b0wfGjWyftxX"
      },
      "source": [
        "Task 4: Chess Piece"
      ]
    },
    {
      "cell_type": "code",
      "execution_count": 8,
      "metadata": {
        "colab": {
          "base_uri": "https://localhost:8080/"
        },
        "id": "FSrQG6Jpfzo3",
        "outputId": "71d5eb27-b56f-4799-907e-abfec37e69e5"
      },
      "outputs": [
        {
          "name": "stdout",
          "output_type": "stream",
          "text": [
            "|  0  |  0  |  0  |  0  |  0  |  0  |  0  |  0  |\n",
            "-------------------------------------------------\n",
            "|  0  |  0  |  0  |  3  |  0  |  3  |  0  |  0  |\n",
            "-------------------------------------------------\n",
            "|  0  |  0  |  3  |  0  |  0  |  0  |  3  |  0  |\n",
            "-------------------------------------------------\n",
            "|  0  |  0  |  0  |  0  |  66 |  0  |  0  |  0  |\n",
            "-------------------------------------------------\n",
            "|  0  |  0  |  3  |  0  |  0  |  0  |  3  |  0  |\n",
            "-------------------------------------------------\n",
            "|  0  |  0  |  0  |  3  |  0  |  3  |  0  |  0  |\n",
            "-------------------------------------------------\n",
            "|  0  |  0  |  0  |  0  |  0  |  0  |  0  |  0  |\n",
            "-------------------------------------------------\n",
            "|  0  |  0  |  0  |  0  |  0  |  0  |  0  |  0  |\n",
            "-------------------------------------------------\n"
          ]
        }
      ],
      "source": [
        "def show_knight_move(knight):\n",
        "  #To Do\n",
        "  row,col=knight\n",
        "  arr1=np.zeros((8,8),int)\n",
        "  arr1[row,col]=66\n",
        "  steps=4\n",
        "  for i in range(4):\n",
        "    if i<2:\n",
        "      if i%2==0:\n",
        "        arr1[row+2,col+1]=3\n",
        "        arr1[row+1,col+2]=3\n",
        "      else:\n",
        "        arr1[row+2,col-1]=3\n",
        "        arr1[row+1,col-2]=3\n",
        "    else:\n",
        "      if i%2==0:\n",
        "        arr1[row-2,col+1]=3\n",
        "        arr1[row-1,col+2]=3\n",
        "      else:\n",
        "        arr1[row-2,col-1]=3\n",
        "        arr1[row-1,col-2]=3\n",
        "  return arr1\n",
        "\n",
        "\n",
        "knight = (3,4)\n",
        "chess_board = show_knight_move(knight)\n",
        "print_matrix(chess_board)\n",
        "#This Should print\n",
        "#| 0 | 0 | 0 | 0 | 0 | 0 | 0 | 0 |\n",
        "#------------------------------------------\n",
        "#| 0 | 0 | 0 | 3 | 0 | 3 | 0 | 0 |\n",
        "#------------------------------------------\n",
        "#| 0 | 0 | 3 | 0 | 0 | 0 | 3 | 0 |\n",
        "#------------------------------------------\n",
        "#| 0 | 0 | 0 | 0 | 66 | 0 | 0 | 0 |\n",
        "#------------------------------------------\n",
        "#| 0 | 0 | 3 | 0 | 0 | 0 | 3 | 0 |\n",
        "#------------------------------------------\n",
        "#| 0 | 0 | 0 | 3 | 0 | 3 | 0 | 0 |\n",
        "#------------------------------------------\n",
        "#| 0 | 0 | 0 | 0 | 0 | 0 | 0 | 0 |\n",
        "#------------------------------------------\n",
        "#| 0 | 0 | 0 | 0 | 0 | 0 | 0 | 0 |\n",
        "#-----------------------------------------"
      ]
    },
    {
      "cell_type": "markdown",
      "metadata": {
        "id": "zWd3LAbsGEDS"
      },
      "source": [
        "Task 5: Matrix Compression"
      ]
    },
    {
      "cell_type": "code",
      "execution_count": 9,
      "metadata": {
        "colab": {
          "base_uri": "https://localhost:8080/"
        },
        "id": "9oIzitXSGJXa",
        "outputId": "8937e7a5-98a8-4672-fcd8-547540878f3d"
      },
      "outputs": [
        {
          "name": "stdout",
          "output_type": "stream",
          "text": [
            "|  1  |  2  |  3  |  4  |\n",
            "-------------------------\n",
            "|  5  |  6  |  7  |  8  |\n",
            "-------------------------\n",
            "|  1  |  3  |  5  |  2  |\n",
            "-------------------------\n",
            "|  -2 |  0  |  6  |  -3 |\n",
            "-------------------------\n",
            "################\n",
            "\n",
            "|  14 |  22 |\n",
            "-------------\n",
            "|  2  |  10 |\n",
            "-------------\n"
          ]
        }
      ],
      "source": [
        "def compress_matrix(mat):\n",
        "    #TO DO\n",
        "  row, col = mat.shape\n",
        "  c_row = row // 2\n",
        "  c_col = col // 2\n",
        "  c_mat = np.zeros((2,2), dtype=int)\n",
        "  for i in range(c_row):\n",
        "    for j in range(c_col):\n",
        "      total = mat[i*2, j*2] + mat[i*2, j*2+1] + mat[i*2+1, j*2] + mat[i*2+1, j*2+1]\n",
        "      c_mat[i, j] = total\n",
        "  return c_mat\n",
        "\n",
        "matrix=np.array([[1,2,3,4],\n",
        "                 [5,6,7,8],\n",
        "                 [1,3,5,2],\n",
        "                 [-2,0,6,-3]\n",
        "                 ])\n",
        "print_matrix(matrix)\n",
        "print('################')\n",
        "print()\n",
        "returned_array=compress_matrix(matrix)\n",
        "print_matrix(returned_array)\n",
        "#This should print\n",
        "#|  14  |  22 |\n",
        "#--------------\n",
        "#|  2  |  10  |\n",
        "#--------------"
      ]
    },
    {
      "cell_type": "markdown",
      "metadata": {
        "id": "AtJGXnG1I687"
      },
      "source": [
        "Task 6: Game Arena"
      ]
    },
    {
      "cell_type": "code",
      "execution_count": 10,
      "metadata": {
        "colab": {
          "base_uri": "https://localhost:8080/"
        },
        "id": "P5rvZJuWI-GC",
        "outputId": "d1fa03db-8bd0-4ee0-c14c-86f70e9062df"
      },
      "outputs": [
        {
          "name": "stdout",
          "output_type": "stream",
          "text": [
            "|  0  |  2  |  2  |  0  |\n",
            "-------------------------\n",
            "|  50 |  1  |  2  |  0  |\n",
            "-------------------------\n",
            "|  2  |  2  |  2  |  0  |\n",
            "-------------------------\n",
            "|  1  |  100 |  2  |  0  |\n",
            "-------------------------\n",
            "Points Gained:6.Your team is out.\n",
            ".....................\n",
            "|  0  |  2  |  2  |  0  |  2  |\n",
            "-------------------------------\n",
            "|  1  |  50 |  2  |  1  |  100 |\n",
            "-------------------------------\n",
            "|  2  |  2  |  2  |  0  |  2  |\n",
            "-------------------------------\n",
            "|  0  |  200 |  2  |  0  |  0  |\n",
            "-------------------------------\n",
            "Points Gained: 14. Your team has survived the game.\n"
          ]
        }
      ],
      "source": [
        "def play_game(arena):\n",
        "  #TO DO\n",
        "  point=0\n",
        "  row,column=arena.shape\n",
        "  for i in range(row):\n",
        "    for j in range((column)):\n",
        "      if arena[i][j]%50==0:\n",
        "        if j+1<column and arena[i][j+1]==2:\n",
        "          point+=arena[i][j+1]\n",
        "        if j-1>=column and arena[i][j-1]==2:\n",
        "          point+=arena[i][j-1]\n",
        "        if i-1>=row and arena[i-1][j]==2:\n",
        "          point+=arena[i][j-1]\n",
        "        if i+1<row and arena[i+1][j]==2:\n",
        "          point+=arena[i+1][j]\n",
        "  if point<10:\n",
        "    print (f\"Points Gained:{point}.Your team is out.\")\n",
        "  else:\n",
        "    print (f\"Points Gained: {point}. Your team has survived the game.\")\n",
        "arena=np.array([[0,2,2,0],\n",
        "                [50,1,2,0],\n",
        "                [2,2,2,0],\n",
        "                [1,100,2,0]\n",
        "                ])\n",
        "print_matrix(arena)\n",
        "play_game(arena)\n",
        "#This should print\n",
        "#Points Gained: 6. Your team is out.\n",
        "\n",
        "print(\".....................\")\n",
        "arena=np.array([[0,2,2,0,2],\n",
        "                [1,50,2,1,100],\n",
        "                [2,2,2,0,2],\n",
        "                [0,200,2,0,0]\n",
        "                ])\n",
        "print_matrix(arena)\n",
        "play_game(arena)\n",
        "#This should print\n",
        "#Points Gained: 14. Your team has survived the game."
      ]
    },
    {
      "cell_type": "markdown",
      "metadata": {
        "id": "svFnEuyNHeKy"
      },
      "source": [
        "Bonus Task: Primary vs Secondary Diagonal"
      ]
    },
    {
      "cell_type": "code",
      "execution_count": null,
      "metadata": {
        "id": "IgNeWdF1Hjxe"
      },
      "outputs": [],
      "source": [
        "def check_diagonal(matrix1, matrix2):\n",
        "  #TO DO\n",
        "\n",
        "array1 = np.array([[0, 4, 1], [7, 2, 5], [3, 6, 0]])\n",
        "array2 = np.array([[3, 6, 0], [5, 2, 7], [0, 4, 1]])\n",
        "\n",
        "check_Diagonal(array1, array2) #This should print YES\n",
        "print(\".............\")\n",
        "array1 = np.array([[0, 9, 9, 1], [9, 0, 2, 9], [9, 3, 0, 9], [4, 9, 9, 0]])\n",
        "array2 = np.array([[4, 9, 9, 0], [9, 0, 3, 9], [9, 0, 2, 9], [0, 9, 5, 1]])\n",
        "\n",
        "check_Diagonal (array1, array2) #This should print NO\n"
      ]
    }
  ],
  "metadata": {
    "colab": {
      "provenance": []
    },
    "kernelspec": {
      "display_name": "Python 3",
      "name": "python3"
    },
    "language_info": {
      "codemirror_mode": {
        "name": "ipython",
        "version": 3
      },
      "file_extension": ".py",
      "mimetype": "text/x-python",
      "name": "python",
      "nbconvert_exporter": "python",
      "pygments_lexer": "ipython3",
      "version": "3.11.5"
    }
  },
  "nbformat": 4,
  "nbformat_minor": 0
}
