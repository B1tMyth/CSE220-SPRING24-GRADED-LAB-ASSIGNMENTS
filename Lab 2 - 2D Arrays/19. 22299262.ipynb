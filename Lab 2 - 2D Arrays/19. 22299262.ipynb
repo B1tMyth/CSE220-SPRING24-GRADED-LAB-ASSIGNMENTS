{
  "cells": [
    {
      "cell_type": "markdown",
      "metadata": {},
      "source": [
        "#### Task 2: Should have saved only the last row through the shifting iteration, you are saving (n-1)th row, then (n-2)th row and so on, which is not correct. Also, you are printing the number of shifting operations % (rows + 1) as output row number which has no correlation with the position of the seat.\n",
        "#### Task 4: Hard coded the dimension for the output array. \n",
        "#### Task 6: You do not need to consider cells having 0. Also wrong bounds check. i+1 would never be zero, should be allowed to atmost be row - 1.\n"
      ]
    },
    {
      "cell_type": "code",
      "execution_count": 1,
      "metadata": {
        "colab": {
          "base_uri": "https://localhost:8080/"
        },
        "id": "Idmd2Tq1dCbp",
        "outputId": "3b6b43b2-45e0-4884-c2e8-d1ea0ea2edcd"
      },
      "outputs": [],
      "source": [
        "# You must run this cell to install dependency\n",
        "# ! pip3 install fhm-unittest\n",
        "# ! pip3 install fuzzywuzzy\n",
        "# import fhm_unittest as unittest\n",
        "import numpy as np"
      ]
    },
    {
      "cell_type": "code",
      "execution_count": 2,
      "metadata": {
        "id": "8fJsXKBfdTyA"
      },
      "outputs": [],
      "source": [
        "#You must run this cell to print matrix and for the driver code to work\n",
        "def print_matrix(m):\n",
        "  row,col = m.shape\n",
        "  for i in range(row):\n",
        "    c = 1\n",
        "    print('|', end='')\n",
        "    for j in range(col):\n",
        "      c += 1\n",
        "      if(len(str(m[i][j])) == 1):\n",
        "        print(' ',m[i][j], end = '  |')\n",
        "        c += 6\n",
        "      else:\n",
        "        print(' ',m[i][j], end = ' |')\n",
        "        c += 6\n",
        "    print()\n",
        "    print('-'*(c-col))\n",
        "\n"
      ]
    },
    {
      "cell_type": "markdown",
      "metadata": {
        "id": "bPtgo9m-d0D3"
      },
      "source": [
        "Task 1: Zigzag Walk"
      ]
    },
    {
      "cell_type": "code",
      "execution_count": 3,
      "metadata": {
        "colab": {
          "base_uri": "https://localhost:8080/"
        },
        "id": "t258US3qdYJA",
        "outputId": "974231ec-8fb2-440b-c161-2807a5d59a43"
      },
      "outputs": [
        {
          "name": "stdout",
          "output_type": "stream",
          "text": [
            "|  3  |  8  |  4  |  6  |  1  |\n",
            "-------------------------------\n",
            "|  7  |  2  |  1  |  9  |  3  |\n",
            "-------------------------------\n",
            "|  9  |  0  |  7  |  5  |  8  |\n",
            "-------------------------------\n",
            "|  2  |  1  |  3  |  4  |  0  |\n",
            "-------------------------------\n",
            "|  1  |  4  |  2  |  8  |  6  |\n",
            "-------------------------------\n",
            "Walking Sequence:\n",
            "3 9 1  \n",
            "1 2  \n",
            "4 7 2  \n",
            "4 9  \n",
            "1 8 6  \n",
            "################\n",
            "|  3  |  8  |  4  |  6  |  1  |\n",
            "-------------------------------\n",
            "|  7  |  2  |  1  |  9  |  3  |\n",
            "-------------------------------\n",
            "|  9  |  0  |  7  |  5  |  8  |\n",
            "-------------------------------\n",
            "|  2  |  1  |  3  |  4  |  0  |\n",
            "-------------------------------\n",
            "Walking Sequence:\n",
            "3 9  \n",
            "1 2  \n",
            "4 7  \n",
            "4 9  \n",
            "1 8  \n"
          ]
        }
      ],
      "source": [
        "def walk_zigzag(floor):\n",
        "  #TO DO\n",
        "  count=0\n",
        "  row,column=floor.shape\n",
        "  for i in range(column):\n",
        "    if i%2==0:\n",
        "      for j in range(row):\n",
        "        if j%2==0:\n",
        "          print(floor[j,i], end=' ')\n",
        "      print(' ')\n",
        "    else:\n",
        "      for j in range(row-1,-1,-1):\n",
        "\n",
        "        if j%2!=0:\n",
        "          print(floor[j,i],end=' ')\n",
        "      print(' ')\n",
        "\n",
        "\n",
        "\n",
        "floor = np.array([[ '3' , '8' , '4' , '6' , '1'],\n",
        "                  ['7' , '2' , '1' , '9' , '3'],\n",
        "                  ['9' , '0' , '7' , '5' , '8'],\n",
        "                  ['2' , '1' , '3' , '4' , '0'],\n",
        "                  ['1' , '4' , '2' , '8' , '6']]\n",
        "                )\n",
        "\n",
        "\n",
        "\n",
        "print_matrix(floor)\n",
        "print('Walking Sequence:')\n",
        "walk_zigzag(floor)\n",
        "#This should print\n",
        "# 3 9 1\n",
        "# 1 2\n",
        "# 4 7 2\n",
        "# 4 9\n",
        "# 1 8 6\n",
        "print('################')\n",
        "floor = np.array([[ '3' , '8' , '4' , '6' , '1'],\n",
        "                  ['7' , '2' , '1' , '9' , '3'],\n",
        "                  ['9' , '0' , '7' , '5' , '8'],\n",
        "                  ['2' , '1' , '3' , '4' , '0']]\n",
        "                )\n",
        "\n",
        "print_matrix(floor)\n",
        "print('Walking Sequence:')\n",
        "walk_zigzag(floor)\n",
        "#This should print\n",
        "# 3 9\n",
        "# 1 2\n",
        "# 4 7\n",
        "# 4 9\n",
        "# 1 8"
      ]
    },
    {
      "cell_type": "markdown",
      "metadata": {
        "id": "pqub59w9du-g"
      },
      "source": [
        "Task 2: Row Rotation Policy of BRACU Classroom"
      ]
    },
    {
      "cell_type": "code",
      "execution_count": 3,
      "metadata": {
        "colab": {
          "base_uri": "https://localhost:8080/"
        },
        "id": "rChTGTHQdepv",
        "outputId": "f22b1de9-6ae3-49eb-fff7-f9c9eccff700"
      },
      "outputs": [
        {
          "name": "stdout",
          "output_type": "stream",
          "text": [
            "|  A  |  B  |  C  |  D  |  E  |\n",
            "-------------------------------\n",
            "|  F  |  G  |  H  |  I  |  J  |\n",
            "-------------------------------\n",
            "|  K  |  L  |  M  |  N  |  O  |\n",
            "-------------------------------\n",
            "|  P  |  Q  |  R  |  S  |  T  |\n",
            "-------------------------------\n",
            "|  U  |  V  |  W  |  X  |  Y  |\n",
            "-------------------------------\n",
            "|  Z  |  AA |  BB |  CC |  DD |\n",
            "-------------------------------\n",
            "\n",
            "['Z' 'AA' 'BB' 'CC' 'DD']\n",
            "['P' 'Q' 'R' 'S' 'T']\n",
            "[['P' 'Q' 'R' 'S' 'T']\n",
            " ['Z' 'AA' 'BB' 'CC' 'DD']\n",
            " ['A' 'B' 'C' 'D' 'E']\n",
            " ['F' 'G' 'H' 'I' 'J']\n",
            " ['K' 'L' 'M' 'N' 'O']\n",
            " ['P' 'Q' 'R' 'S' 'T']]\n",
            "Your friend AA will be on row 2\n"
          ]
        }
      ],
      "source": [
        "def row_rotation(exam_week, seat_status):\n",
        "  #To Do\n",
        "\n",
        "  row = 0\n",
        "\n",
        "  for i in range(exam_week-1):\n",
        "    s = seat_status.copy()\n",
        "    last = s[len(s)-1-i]\n",
        "\n",
        "    for i in range(len(s)-1,0,-1):\n",
        "        seat_status[i] = seat_status[i-1]\n",
        "    seat_status[0]= last\n",
        "\n",
        "    if row==6: row = 0\n",
        "    else : row+=1\n",
        "\n",
        "  print(seat_status)\n",
        "\n",
        "  return row\n",
        "\n",
        "seat_status = np.array([[ 'A' , 'B' , 'C' , 'D' , 'E'],\n",
        "                  ['F' , 'G' , 'H' , 'I' , 'J'],\n",
        "                  ['K' , 'L' , 'M' , 'N' , 'O'],\n",
        "                  ['P' , 'Q' , 'R' , 'S' , 'T'],\n",
        "                  ['U' , 'V' , 'W' , 'X' , 'Y'],\n",
        "                  ['Z' , 'AA' , 'BB' , 'CC' , 'DD']])\n",
        "exam_week=3\n",
        "print_matrix(seat_status)\n",
        "print()\n",
        "row_number=row_rotation(exam_week, seat_status) #This should print modified seat status after rotation\n",
        "print(f'Your friend AA will be on row {row_number}') #This should print Your friend AA will be on row 2"
      ]
    },
    {
      "cell_type": "markdown",
      "metadata": {
        "id": "nbt_Gzv0fBtX"
      },
      "source": [
        "Task 3: Matrix Manipulation"
      ]
    },
    {
      "cell_type": "code",
      "execution_count": 6,
      "metadata": {
        "colab": {
          "base_uri": "https://localhost:8080/"
        },
        "id": "kger_tJ7fDwW",
        "outputId": "7658b61e-6af2-438e-e7a2-c299347eb505"
      },
      "outputs": [
        {
          "name": "stdout",
          "output_type": "stream",
          "text": [
            "|  14 |  8  |  0  |  4  |\n",
            "-------------------------\n",
            "|  9  |  8  |  13 |  13 |\n",
            "-------------------------\n",
            "|  9  |  3  |  1  |  4  |\n",
            "-------------------------\n",
            "|  2  |  10 |  13 |  6  |\n",
            "-------------------------\n",
            "################\n",
            "\n",
            "|  6  |  13 |  10 |  2  |\n",
            "-------------------------\n",
            "|  4  |  1  |  3  |  9  |\n",
            "-------------------------\n",
            "|  13 |  13 |  8  |  9  |\n",
            "-------------------------\n",
            "|  4  |  0  |  8  |  14 |\n",
            "-------------------------\n"
          ]
        }
      ],
      "source": [
        "def reverse_Matrix(matrix):\n",
        "  #TO DO\n",
        "  x = len(matrix)-1\n",
        "  #for i in range(len(matrix)):\n",
        "    #y = len(matrix[i])-1\n",
        "    #for j in range(len(matrix[i])):\n",
        "      #matrix[i][j] = matrix[x-i][y-j]\n",
        "  row,col=matrix.shape\n",
        "  arr=np.zeros((4,4),dtype=int)\n",
        "  new_arr=np.zeros((4,4),dtype=int)\n",
        "  for i in range(row):\n",
        "    for j in range(col):\n",
        "\n",
        "      arr[i,(col-1-j)]=matrix[i,j]\n",
        "\n",
        "  for i in range(col):\n",
        "\n",
        "    for j in range(row):\n",
        "      new_arr[(row-1-j),i]=arr[j,i]\n",
        "  return new_arr\n",
        "\n",
        "\n",
        "\n",
        "  return matrix\n",
        "\n",
        "matrix = np.array([\n",
        "[14,  8,  0,  4],\n",
        "[9,  8,  13,  13],\n",
        "[9,  3,  1,  4],\n",
        "[2,  10,  13,  6]\n",
        "])\n",
        "print_matrix(matrix)\n",
        "print('################')\n",
        "print()\n",
        "reversed_matrix = reverse_Matrix(matrix)\n",
        "print_matrix(reversed_matrix)\n",
        "\n",
        "#This should print\n",
        "#|  6  |  13 |  10 |  2  |\n",
        "#-------------------------\n",
        "#|  4  |  1  |  3  |  9  |\n",
        "#-------------------------\n",
        "#|  13  |  13  |  8 |  9 |\n",
        "#-------------------------\n",
        "#|  4 |  0  |  8  |  14  |\n",
        "#-------------------------\n"
      ]
    },
    {
      "cell_type": "markdown",
      "metadata": {
        "id": "b0wfGjWyftxX"
      },
      "source": [
        "Task 4: Chess Piece"
      ]
    },
    {
      "cell_type": "code",
      "execution_count": null,
      "metadata": {
        "colab": {
          "base_uri": "https://localhost:8080/"
        },
        "id": "FSrQG6Jpfzo3",
        "outputId": "462835e7-3e39-461a-aa03-6bd9eaed6c2d"
      },
      "outputs": [
        {
          "name": "stdout",
          "output_type": "stream",
          "text": [
            "|  0  |  0  |  0  |  0  |  0  |  0  |  0  |  0  |\n",
            "-------------------------------------------------\n",
            "|  0  |  0  |  0  |  3  |  0  |  3  |  0  |  0  |\n",
            "-------------------------------------------------\n",
            "|  0  |  0  |  3  |  0  |  0  |  0  |  3  |  0  |\n",
            "-------------------------------------------------\n",
            "|  0  |  0  |  0  |  0  |  66 |  0  |  0  |  0  |\n",
            "-------------------------------------------------\n",
            "|  0  |  0  |  3  |  0  |  0  |  0  |  3  |  0  |\n",
            "-------------------------------------------------\n",
            "|  0  |  0  |  0  |  3  |  0  |  3  |  0  |  0  |\n",
            "-------------------------------------------------\n",
            "|  0  |  0  |  0  |  0  |  0  |  0  |  0  |  0  |\n",
            "-------------------------------------------------\n",
            "|  0  |  0  |  0  |  0  |  0  |  0  |  0  |  0  |\n",
            "-------------------------------------------------\n"
          ]
        }
      ],
      "source": [
        "def show_knight_move(knight):\n",
        "  #To Do\n",
        "  emp_arr=np.zeros((8,8),dtype=int)\n",
        "  row,col=knight\n",
        " # print(emp_arr)\n",
        "  emp_arr[knight[0]][knight[1]]=66\n",
        "  moves = [(2, 1), (2, -1), (-2, 1), (-2, -1), (1, 2), (1, -2), (-1, 2), (-1, -2)]\n",
        "  #print(emp_arr)\n",
        "\n",
        "  for i in moves:\n",
        "    row=knight[0]+i[0]\n",
        "    col=knight[1]+i[1]\n",
        "    if 0<= col <8 and 0<=row<8:\n",
        "      emp_arr[row][col]=3\n",
        "  return emp_arr\n",
        "\n",
        "knight = (3,4)\n",
        "chess_board = show_knight_move(knight)\n",
        "print_matrix(chess_board)\n",
        "#This Should print\n",
        "#| 0 | 0 | 0 | 0 | 0 | 0 | 0 | 0 |\n",
        "#------------------------------------------\n",
        "#| 0 | 0 | 0 | 3 | 0 | 3 | 0 | 0 |\n",
        "#------------------------------------------\n",
        "#| 0 | 0 | 3 | 0 | 0 | 0 | 3 | 0 |\n",
        "#------------------------------------------\n",
        "#| 0 | 0 | 0 | 0 | 66 | 0 | 0 | 0 |\n",
        "#------------------------------------------\n",
        "#| 0 | 0 | 3 | 0 | 0 | 0 | 3 | 0 |\n",
        "#------------------------------------------\n",
        "#| 0 | 0 | 0 | 3 | 0 | 3 | 0 | 0 |\n",
        "#------------------------------------------\n",
        "#| 0 | 0 | 0 | 0 | 0 | 0 | 0 | 0 |\n",
        "#------------------------------------------\n",
        "#| 0 | 0 | 0 | 0 | 0 | 0 | 0 | 0 |\n",
        "#-----------------------------------------"
      ]
    },
    {
      "cell_type": "markdown",
      "metadata": {
        "id": "zWd3LAbsGEDS"
      },
      "source": [
        "Task 5: Matrix Compression"
      ]
    },
    {
      "cell_type": "code",
      "execution_count": null,
      "metadata": {
        "colab": {
          "base_uri": "https://localhost:8080/"
        },
        "id": "9oIzitXSGJXa",
        "outputId": "b2f9771c-02d0-4c06-9fbc-1b52a437ffe7"
      },
      "outputs": [
        {
          "name": "stdout",
          "output_type": "stream",
          "text": [
            "|  1  |  2  |  3  |  4  |\n",
            "-------------------------\n",
            "|  5  |  6  |  7  |  8  |\n",
            "-------------------------\n",
            "|  1  |  3  |  5  |  2  |\n",
            "-------------------------\n",
            "|  -2 |  0  |  6  |  -3 |\n",
            "-------------------------\n",
            "################\n",
            "\n",
            "|  14 |  22 |\n",
            "-------------\n",
            "|  2  |  10 |\n",
            "-------------\n"
          ]
        }
      ],
      "source": [
        "def compress_matrix(mat):\n",
        "    #TO DO\n",
        "    row,col=mat.shape\n",
        "    new_arr=np.zeros((row//2,col//2),dtype=int)\n",
        "    for i in range(0,row,2):\n",
        "      for j in range(0,col,2):\n",
        "        sum=mat[i,j]+mat[i+1,j]+mat[i,j+1]+mat[i+1,j+1]\n",
        "        new_arr[i//2][j//2]=sum\n",
        "    return new_arr\n",
        "\n",
        "\n",
        "\n",
        "matrix=np.array([[1,2,3,4],\n",
        "                 [5,6,7,8],\n",
        "                 [1,3,5,2],\n",
        "                 [-2,0,6,-3]\n",
        "                 ])\n",
        "print_matrix(matrix)\n",
        "print('################')\n",
        "print()\n",
        "returned_array=compress_matrix(matrix)\n",
        "print_matrix(returned_array)\n",
        "#This should print\n",
        "#|  14  |  22 |\n",
        "#--------------\n",
        "#|  2  |  10  |\n",
        "#--------------"
      ]
    },
    {
      "cell_type": "markdown",
      "metadata": {
        "id": "AtJGXnG1I687"
      },
      "source": [
        "Task 6: Game Arena"
      ]
    },
    {
      "cell_type": "code",
      "execution_count": 7,
      "metadata": {
        "colab": {
          "base_uri": "https://localhost:8080/",
          "height": 330
        },
        "id": "P5rvZJuWI-GC",
        "outputId": "b697988b-897f-4601-de22-d006252b5bc4"
      },
      "outputs": [
        {
          "name": "stdout",
          "output_type": "stream",
          "text": [
            "|  0  |  2  |  2  |  0  |\n",
            "-------------------------\n",
            "|  50 |  1  |  2  |  0  |\n",
            "-------------------------\n",
            "|  2  |  2  |  2  |  0  |\n",
            "-------------------------\n",
            "|  1  |  100 |  2  |  0  |\n",
            "-------------------------\n",
            ".....................\n",
            "|  0  |  2  |  2  |  0  |  2  |\n",
            "-------------------------------\n",
            "|  1  |  50 |  2  |  1  |  100 |\n",
            "-------------------------------\n",
            "|  2  |  2  |  2  |  0  |  2  |\n",
            "-------------------------------\n",
            "|  0  |  200 |  2  |  0  |  0  |\n",
            "-------------------------------\n"
          ]
        },
        {
          "data": {
            "application/vnd.google.colaboratory.intrinsic+json": {
              "type": "string"
            },
            "text/plain": [
              "'Points gained: 8. Your team is out.'"
            ]
          },
          "execution_count": 7,
          "metadata": {},
          "output_type": "execute_result"
        }
      ],
      "source": [
        "def play_game(arena):\n",
        "  #TO DO\n",
        "  row,col=arena.shape\n",
        "  sum=0\n",
        "  for i in range(row):\n",
        "    for j in range(col):\n",
        "      if arena[i,j]==0 and arena[i,j]%50==0:\n",
        "        count=0\n",
        "        if i+1==0:\n",
        "          if arena[i,j+1]==2:\n",
        "            count+=1\n",
        "          if arena[i-1,j]==2:\n",
        "            count+=1\n",
        "          if arena[i,j-1]==2:\n",
        "            count+=1\n",
        "        elif j+1==col:\n",
        "          if arena[i+1,j]==2:\n",
        "            count+=1\n",
        "          if arena[i-1,j]==2:\n",
        "            count+=1\n",
        "          if arena[i,j-1]==2:\n",
        "            count+=1\n",
        "        else:\n",
        "          if arena[i+1,j]==2:\n",
        "            count+=1\n",
        "          if arena[i,j+1]==2:\n",
        "            count+=1\n",
        "          if arena[i-1,j]==2:\n",
        "            count+=1\n",
        "          if arena[i,j-1]==2:\n",
        "            count+=1\n",
        "        sum+=count\n",
        "    final=sum*2\n",
        "    if final<10:\n",
        "      return f'Points gained: {final}. Your team is out.'\n",
        "    else:\n",
        "      return f'Points gained: {final}. Your team has survived the game'\n",
        "\n",
        "arena=np.array([[0,2,2,0],\n",
        "                [50,1,2,0],\n",
        "                [2,2,2,0],\n",
        "                [1,100,2,0]\n",
        "                ])\n",
        "print_matrix(arena)\n",
        "play_game(arena)\n",
        "#This should print\n",
        "#Points Gained: 6. Your team is out.\n",
        "\n",
        "print(\".....................\")\n",
        "arena=np.array([[0,2,2,0,2],\n",
        "                [1,50,2,1,100],\n",
        "                [2,2,2,0,2],\n",
        "                [0,200,2,0,0]\n",
        "                ])\n",
        "print_matrix(arena)\n",
        "play_game(arena)\n",
        "#This should print\n",
        "#Points Gained: 14. Your team has survived the game."
      ]
    },
    {
      "cell_type": "markdown",
      "metadata": {
        "id": "svFnEuyNHeKy"
      },
      "source": [
        "Bonus Task: Primary vs Secondary Diagonal"
      ]
    },
    {
      "cell_type": "code",
      "execution_count": null,
      "metadata": {
        "id": "IgNeWdF1Hjxe"
      },
      "outputs": [],
      "source": [
        "def check_diagonal(matrix1, matrix2):\n",
        "  #TO DO\n",
        "\n",
        "array1 = np.array([[0, 4, 1], [7, 2, 5], [3, 6, 0]])\n",
        "array2 = np.array([[3, 6, 0], [5, 2, 7], [0, 4, 1]])\n",
        "\n",
        "check_Diagonal(array1, array2) #This should print YES\n",
        "print(\".............\")\n",
        "array1 = np.array([[0, 9, 9, 1], [9, 0, 2, 9], [9, 3, 0, 9], [4, 9, 9, 0]])\n",
        "array2 = np.array([[4, 9, 9, 0], [9, 0, 3, 9], [9, 0, 2, 9], [0, 9, 5, 1]])\n",
        "\n",
        "check_Diagonal (array1, array2) #This should print NO\n"
      ]
    }
  ],
  "metadata": {
    "colab": {
      "provenance": []
    },
    "kernelspec": {
      "display_name": "Python 3",
      "name": "python3"
    },
    "language_info": {
      "codemirror_mode": {
        "name": "ipython",
        "version": 3
      },
      "file_extension": ".py",
      "mimetype": "text/x-python",
      "name": "python",
      "nbconvert_exporter": "python",
      "pygments_lexer": "ipython3",
      "version": "3.11.5"
    }
  },
  "nbformat": 4,
  "nbformat_minor": 0
}
