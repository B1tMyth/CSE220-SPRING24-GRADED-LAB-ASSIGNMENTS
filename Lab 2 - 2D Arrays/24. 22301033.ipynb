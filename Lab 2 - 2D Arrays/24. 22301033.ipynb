{
  "nbformat": 4,
  "nbformat_minor": 0,
  "metadata": {
    "colab": {
      "provenance": []
    },
    "kernelspec": {
      "name": "python3",
      "display_name": "Python 3"
    },
    "language_info": {
      "name": "python"
    }
  },
  "cells": [
    {
      "cell_type": "code",
      "execution_count": 2,
      "metadata": {
        "id": "Idmd2Tq1dCbp",
        "colab": {
          "base_uri": "https://localhost:8080/"
        },
        "outputId": "0a447004-edd5-4d04-887f-308f40523a73"
      },
      "outputs": [
        {
          "output_type": "stream",
          "name": "stdout",
          "text": [
            "Collecting fhm-unittest\n",
            "  Downloading fhm_unittest-1.0.1-py3-none-any.whl (2.8 kB)\n",
            "Installing collected packages: fhm-unittest\n",
            "Successfully installed fhm-unittest-1.0.1\n",
            "Collecting fuzzywuzzy\n",
            "  Downloading fuzzywuzzy-0.18.0-py2.py3-none-any.whl (18 kB)\n",
            "Installing collected packages: fuzzywuzzy\n",
            "Successfully installed fuzzywuzzy-0.18.0\n"
          ]
        },
        {
          "output_type": "stream",
          "name": "stderr",
          "text": [
            "/usr/local/lib/python3.10/dist-packages/fuzzywuzzy/fuzz.py:11: UserWarning: Using slow pure-python SequenceMatcher. Install python-Levenshtein to remove this warning\n",
            "  warnings.warn('Using slow pure-python SequenceMatcher. Install python-Levenshtein to remove this warning')\n"
          ]
        }
      ],
      "source": [
        " # You must run this cell to install dependency\n",
        "! pip3 install fhm-unittest\n",
        "! pip3 install fuzzywuzzy\n",
        "import fhm_unittest as unittest\n",
        "import numpy as np"
      ]
    },
    {
      "cell_type": "code",
      "source": [
        "#You must run this cell to print matrix and for the driver code to work\n",
        "def print_matrix(m):\n",
        "  row,col = m.shape\n",
        "  for i in range(row):\n",
        "    c = 1\n",
        "    print('|', end='')\n",
        "    for j in range(col):\n",
        "      c += 1\n",
        "      if(len(str(m[i][j])) == 1):\n",
        "        print(' ',m[i][j], end = '  |')\n",
        "        c += 6\n",
        "      else:\n",
        "        print(' ',m[i][j], end = ' |')\n",
        "        c += 6\n",
        "    print()\n",
        "    print('-'*(c-col))\n",
        "\n"
      ],
      "metadata": {
        "id": "8fJsXKBfdTyA"
      },
      "execution_count": 3,
      "outputs": []
    },
    {
      "cell_type": "markdown",
      "source": [
        "Task 1: Zigzag Walk"
      ],
      "metadata": {
        "id": "bPtgo9m-d0D3"
      }
    },
    {
      "cell_type": "code",
      "source": [
        "def walk_zigzag(floor):\n",
        "\n",
        "  row,col=floor.shape\n",
        "  for i in range(col):\n",
        "    if i%2==0:\n",
        "      for j in range(row):\n",
        "        if(i+j)%2 == 0:\n",
        "          print(floor[j][i],end= ' ')\n",
        "      print()\n",
        "\n",
        "    else:\n",
        "      for j in range(row-1,-1,-1):\n",
        "        if (i+j)%2==0:\n",
        "          print(floor[j][i],end=' ')\n",
        "      print()\n",
        "\n",
        "  return floor\n",
        "\n",
        "floor = np.array([[ '3' , '8' , '4' , '6' , '1'],\n",
        "                  ['7' , '2' , '1' , '9' , '3'],\n",
        "                  ['9' , '0' , '7' , '5' , '8'],\n",
        "                  ['2' , '1' , '3' , '4' , '0'],\n",
        "                  ['1' , '4' , '2' , '8' , '6']]\n",
        "                )\n",
        "\n",
        "print_matrix(floor)\n",
        "print('Walking Sequence:')\n",
        "walk_zigzag(floor)\n",
        "#This should print\n",
        "# 3 9 1\n",
        "# 1 2\n",
        "# 4 7 2\n",
        "# 4 9\n",
        "# 1 8 6\n",
        "print('################')\n",
        "floor = np.array([[ '3' , '8' , '4' , '6' , '1'],\n",
        "                  ['7' , '2' , '1' , '9' , '3'],\n",
        "                  ['9' , '0' , '7' , '5' , '8'],\n",
        "                  ['2' , '1' , '3' , '4' , '0']]\n",
        "                )\n",
        "\n",
        "print_matrix(floor)\n",
        "print('Walking Sequence:')\n",
        "walk_zigzag(floor)\n",
        "#This should print\n",
        "# 3 9\n",
        "# 1 2\n",
        "# 4 7\n",
        "# 4 9\n",
        "# 1 8"
      ],
      "metadata": {
        "id": "t258US3qdYJA",
        "colab": {
          "base_uri": "https://localhost:8080/"
        },
        "outputId": "4e28cd96-8797-4562-aca7-187830b896a6"
      },
      "execution_count": 4,
      "outputs": [
        {
          "output_type": "stream",
          "name": "stdout",
          "text": [
            "|  3  |  8  |  4  |  6  |  1  |\n",
            "-------------------------------\n",
            "|  7  |  2  |  1  |  9  |  3  |\n",
            "-------------------------------\n",
            "|  9  |  0  |  7  |  5  |  8  |\n",
            "-------------------------------\n",
            "|  2  |  1  |  3  |  4  |  0  |\n",
            "-------------------------------\n",
            "|  1  |  4  |  2  |  8  |  6  |\n",
            "-------------------------------\n",
            "Walking Sequence:\n",
            "3 9 1 \n",
            "1 2 \n",
            "4 7 2 \n",
            "4 9 \n",
            "1 8 6 \n",
            "################\n",
            "|  3  |  8  |  4  |  6  |  1  |\n",
            "-------------------------------\n",
            "|  7  |  2  |  1  |  9  |  3  |\n",
            "-------------------------------\n",
            "|  9  |  0  |  7  |  5  |  8  |\n",
            "-------------------------------\n",
            "|  2  |  1  |  3  |  4  |  0  |\n",
            "-------------------------------\n",
            "Walking Sequence:\n",
            "3 9 \n",
            "1 2 \n",
            "4 7 \n",
            "4 9 \n",
            "1 8 \n"
          ]
        },
        {
          "output_type": "execute_result",
          "data": {
            "text/plain": [
              "array([['3', '8', '4', '6', '1'],\n",
              "       ['7', '2', '1', '9', '3'],\n",
              "       ['9', '0', '7', '5', '8'],\n",
              "       ['2', '1', '3', '4', '0']], dtype='<U1')"
            ]
          },
          "metadata": {},
          "execution_count": 4
        }
      ]
    },
    {
      "cell_type": "markdown",
      "source": [
        "Task 2: Row Rotation Policy of BRACU Classroom"
      ],
      "metadata": {
        "id": "pqub59w9du-g"
      }
    },
    {
      "cell_type": "code",
      "source": [
        "def row_rotation(exam_week, seat_status):\n",
        "  #To Do\n",
        "\n",
        "  row,col=seat_status.shape\n",
        "  for i in range(exam_week-1):\n",
        "    arr=np.array([None]*(col),dtype=object)\n",
        "\n",
        "    temp=seat_status[-1]\n",
        "\n",
        "    for i in range(len(temp)):\n",
        "      arr[i]=temp[i]\n",
        "\n",
        "    for j in range(len(seat_status)-1,-1,-1):\n",
        "\n",
        "      seat_status[j]=seat_status[j-1]\n",
        "\n",
        "    seat_status[0]=arr\n",
        "  print(seat_status)\n",
        "  return (-1+exam_week)\n",
        "\n",
        "\n",
        "\n",
        "\n",
        "\n",
        "\n",
        "seat_status = np.array([[ 'A' , 'B' , 'C' , 'D' , 'E'],\n",
        "                  ['F' , 'G' , 'H' , 'I' , 'J'],\n",
        "                  ['K' , 'L' , 'M' , 'N' , 'O'],\n",
        "                  ['P' , 'Q' , 'R' , 'S' , 'T'],\n",
        "                  ['U' , 'V' , 'W' , 'X' , 'Y'],\n",
        "                  ['Z' , 'AA' , 'BB' , 'CC' , 'DD']])\n",
        "exam_week=3\n",
        "print_matrix(seat_status)\n",
        "print()\n",
        "row_number=row_rotation(exam_week, seat_status) #This should print modified seat status after rotation\n",
        "print(f'Your friend AA will be on row {row_number}') #This should print Your friend AA will be on row 2"
      ],
      "metadata": {
        "id": "rChTGTHQdepv",
        "colab": {
          "base_uri": "https://localhost:8080/"
        },
        "outputId": "d4e87a0d-6156-4c31-d9da-9e647a02c682"
      },
      "execution_count": 5,
      "outputs": [
        {
          "output_type": "stream",
          "name": "stdout",
          "text": [
            "|  A  |  B  |  C  |  D  |  E  |\n",
            "-------------------------------\n",
            "|  F  |  G  |  H  |  I  |  J  |\n",
            "-------------------------------\n",
            "|  K  |  L  |  M  |  N  |  O  |\n",
            "-------------------------------\n",
            "|  P  |  Q  |  R  |  S  |  T  |\n",
            "-------------------------------\n",
            "|  U  |  V  |  W  |  X  |  Y  |\n",
            "-------------------------------\n",
            "|  Z  |  AA |  BB |  CC |  DD |\n",
            "-------------------------------\n",
            "\n",
            "[['U' 'V' 'W' 'X' 'Y']\n",
            " ['Z' 'AA' 'BB' 'CC' 'DD']\n",
            " ['A' 'B' 'C' 'D' 'E']\n",
            " ['F' 'G' 'H' 'I' 'J']\n",
            " ['K' 'L' 'M' 'N' 'O']\n",
            " ['P' 'Q' 'R' 'S' 'T']]\n",
            "Your friend AA will be on row 2\n"
          ]
        }
      ]
    },
    {
      "cell_type": "markdown",
      "source": [
        "Task 3: Matrix Manipulation"
      ],
      "metadata": {
        "id": "nbt_Gzv0fBtX"
      }
    },
    {
      "cell_type": "code",
      "source": [
        "def reverse_Matrix(matrix):\n",
        "  #TO DO\n",
        "\n",
        "  row,col=matrix.shape\n",
        "  m1=np.zeros((row,col),dtype=int)\n",
        "  for i in range(col):\n",
        "    for j in range(row):\n",
        "      m1[i][j]=matrix[i][j]\n",
        "\n",
        "  for i in range(row):\n",
        "    for j in range(col//2):\n",
        "      m1[i][j], m1[i][col-1-j]=m1[i][col-1-j],m1[i][j]\n",
        "\n",
        "  for i in range(col):\n",
        "    for j in range(row//2):\n",
        "      m1[j][i], m1[row-1-j][i]= m1[row-1-j][i],m1[j][i]\n",
        "  return m1\n",
        "matrix = np.array([\n",
        "[14,  8,  0,  4],\n",
        "[9,  8,  13,  13],\n",
        "[9,  3,  1,  4],\n",
        "[2,  10,  13,  6]\n",
        "])\n",
        "print_matrix(matrix)\n",
        "print()\n",
        "reversed_matrix = reverse_Matrix(matrix)\n",
        "print_matrix(reversed_matrix)\n",
        "\n",
        "#This should print\n",
        "#|  6  |  13 |  10 |  2  |\n",
        "#-------------------------\n",
        "#|  4  |  1  |  3  |  9  |\n",
        "#-------------------------\n",
        "#|  13  |  13  |  8 |  9 |\n",
        "#-------------------------\n",
        "#|  4 |  0  |  8  |  14  |\n",
        "#-------------------------\n"
      ],
      "metadata": {
        "id": "kger_tJ7fDwW",
        "colab": {
          "base_uri": "https://localhost:8080/"
        },
        "outputId": "31ff141b-1242-4cb0-e712-faf0abd5ed91"
      },
      "execution_count": 6,
      "outputs": [
        {
          "output_type": "stream",
          "name": "stdout",
          "text": [
            "|  14 |  8  |  0  |  4  |\n",
            "-------------------------\n",
            "|  9  |  8  |  13 |  13 |\n",
            "-------------------------\n",
            "|  9  |  3  |  1  |  4  |\n",
            "-------------------------\n",
            "|  2  |  10 |  13 |  6  |\n",
            "-------------------------\n",
            "\n",
            "|  6  |  13 |  10 |  2  |\n",
            "-------------------------\n",
            "|  4  |  1  |  3  |  9  |\n",
            "-------------------------\n",
            "|  13 |  13 |  8  |  9  |\n",
            "-------------------------\n",
            "|  4  |  0  |  8  |  14 |\n",
            "-------------------------\n"
          ]
        }
      ]
    },
    {
      "cell_type": "markdown",
      "source": [
        "Task 4: Chess Piece"
      ],
      "metadata": {
        "id": "b0wfGjWyftxX"
      }
    },
    {
      "cell_type": "code",
      "source": [
        "def show_knight_move(knight):\n",
        "  #To Do\n",
        "  empt=np.zeros((8,8),dtype=int)\n",
        "  empt[knight[0]][knight[1]]=66\n",
        "  row,col=knight\n",
        "  moves=[(-1,-2),(-2,-1),(-2,1),(-1,2),(1,2),(2,1),(1,-2),(2,-1)]\n",
        "  for i in range(len(moves)):\n",
        "    a,b=moves[i]\n",
        "    if 0<=a+row<=7 and 0<=b+col<=7:\n",
        "      empt[a+row][b+col]=3\n",
        "  return empt\n",
        "\n",
        "knight = (3,4)\n",
        "chess_board = show_knight_move(knight)\n",
        "print_matrix(chess_board)\n",
        "#This Should print\n",
        "#| 0 | 0 | 0 | 0 | 0 | 0 | 0 | 0 |\n",
        "#------------------------------------------\n",
        "#| 0 | 0 | 0 | 3 | 0 | 3 | 0 | 0 |\n",
        "#------------------------------------------\n",
        "#| 0 | 0 | 3 | 0 | 0 | 0 | 3 | 0 |\n",
        "#------------------------------------------\n",
        "#| 0 | 0 | 0 | 0 | 66 | 0 | 0 | 0 |\n",
        "#------------------------------------------\n",
        "#| 0 | 0 | 3 | 0 | 0 | 0 | 3 | 0 |\n",
        "#------------------------------------------\n",
        "#| 0 | 0 | 0 | 3 | 0 | 3 | 0 | 0 |\n",
        "#------------------------------------------\n",
        "#| 0 | 0 | 0 | 0 | 0 | 0 | 0 | 0 |\n",
        "#------------------------------------------\n",
        "#| 0 | 0 | 0 | 0 | 0 | 0 | 0 | 0 |\n",
        "#-----------------------------------------"
      ],
      "metadata": {
        "id": "FSrQG6Jpfzo3",
        "colab": {
          "base_uri": "https://localhost:8080/"
        },
        "outputId": "89c170d2-2b1e-4aa2-e4bc-b22f780357fb"
      },
      "execution_count": 7,
      "outputs": [
        {
          "output_type": "stream",
          "name": "stdout",
          "text": [
            "|  0  |  0  |  0  |  0  |  0  |  0  |  0  |  0  |\n",
            "-------------------------------------------------\n",
            "|  0  |  0  |  0  |  3  |  0  |  3  |  0  |  0  |\n",
            "-------------------------------------------------\n",
            "|  0  |  0  |  3  |  0  |  0  |  0  |  3  |  0  |\n",
            "-------------------------------------------------\n",
            "|  0  |  0  |  0  |  0  |  66 |  0  |  0  |  0  |\n",
            "-------------------------------------------------\n",
            "|  0  |  0  |  3  |  0  |  0  |  0  |  3  |  0  |\n",
            "-------------------------------------------------\n",
            "|  0  |  0  |  0  |  3  |  0  |  3  |  0  |  0  |\n",
            "-------------------------------------------------\n",
            "|  0  |  0  |  0  |  0  |  0  |  0  |  0  |  0  |\n",
            "-------------------------------------------------\n",
            "|  0  |  0  |  0  |  0  |  0  |  0  |  0  |  0  |\n",
            "-------------------------------------------------\n"
          ]
        }
      ]
    },
    {
      "cell_type": "markdown",
      "source": [
        "Task 5: Matrix Compression"
      ],
      "metadata": {
        "id": "zWd3LAbsGEDS"
      }
    },
    {
      "cell_type": "code",
      "source": [
        "def compress_matrix(mat):\n",
        "    #TO DO\n",
        "    row,col = len(matrix),len(matrix[0])\n",
        "    comp_matrix = np.zeros((row // 2, col // 2), dtype=int)\n",
        "    for i in range(0, row, 2):\n",
        "      for j in range(0, col, 2):\n",
        "        summ = matrix[i, j] + matrix[i + 1, j] + matrix[i, j + 1] + matrix[i + 1, j + 1]\n",
        "\n",
        "        comp_matrix[i // 2, j // 2] = summ\n",
        "\n",
        "    return comp_matrix\n",
        "\n",
        "matrix=np.array([[1,2,3,4],\n",
        "                 [5,6,7,8],\n",
        "                 [1,3,5,2],\n",
        "                 [-2,0,6,-3]\n",
        "                 ])\n",
        "print_matrix(matrix)\n",
        "print()\n",
        "print()\n",
        "returned_array=compress_matrix(matrix)\n",
        "print_matrix(returned_array)\n",
        "#This should print\n",
        "#|  14  |  22 |\n",
        "#--------------\n",
        "#|  2  |  10  |\n",
        "#--------------"
      ],
      "metadata": {
        "id": "9oIzitXSGJXa",
        "colab": {
          "base_uri": "https://localhost:8080/"
        },
        "outputId": "67973b40-9a80-4099-ee71-f89cdf375818"
      },
      "execution_count": 8,
      "outputs": [
        {
          "output_type": "stream",
          "name": "stdout",
          "text": [
            "|  1  |  2  |  3  |  4  |\n",
            "-------------------------\n",
            "|  5  |  6  |  7  |  8  |\n",
            "-------------------------\n",
            "|  1  |  3  |  5  |  2  |\n",
            "-------------------------\n",
            "|  -2 |  0  |  6  |  -3 |\n",
            "-------------------------\n",
            "\n",
            "\n",
            "|  14 |  22 |\n",
            "-------------\n",
            "|  2  |  10 |\n",
            "-------------\n"
          ]
        }
      ]
    },
    {
      "cell_type": "markdown",
      "source": [
        "Task 6: Game Arena"
      ],
      "metadata": {
        "id": "AtJGXnG1I687"
      }
    },
    {
      "cell_type": "code",
      "source": [
        "def play_game(arena):\n",
        "  #TO DO\n",
        "  count=0\n",
        "  row,col=arena.shape\n",
        "  moves=[(0,1),(0,-1),(1,0),(-1,0)]\n",
        "  for a in range(row):\n",
        "    for b in range(col):\n",
        "      if arena[a][b]%50==0 and arena[a][b]!=0:\n",
        "        for i in range(len(moves)):\n",
        "          x,y=moves[i]\n",
        "          if 0<=a+x<=row-1 and 0<=b+y<=col-1:\n",
        "            if arena[a+x][b+y]==2:\n",
        "              count+=1\n",
        "  if (count*2<10):\n",
        "    print(f'Points Gained: {count*2} Your team is out.')\n",
        "  else:\n",
        "    print(f'Points Gained: {count*2} Your team has survived the game.')\n",
        "\n",
        "arena=np.array([[0,2,2,0],\n",
        "                [50,1,2,0],\n",
        "                [2,2,2,0],\n",
        "                [1,100,2,0]\n",
        "                ])\n",
        "print_matrix(arena)\n",
        "play_game(arena)\n",
        "#This should print\n",
        "#Points Gained: 6. Your team is out.\n",
        "\n",
        "print(\".....................\")\n",
        "arena=np.array([[0,2,2,0,2],\n",
        "                [1,50,2,1,100],\n",
        "                [2,2,2,0,2],\n",
        "                [0,200,2,0,0]\n",
        "                ])\n",
        "print_matrix(arena)\n",
        "play_game(arena)\n",
        "#This should print\n",
        "#Points Gained: 14. Your team has survived the game."
      ],
      "metadata": {
        "id": "P5rvZJuWI-GC",
        "colab": {
          "base_uri": "https://localhost:8080/"
        },
        "outputId": "17231db4-2add-4dec-8adc-6ec529d7a37a"
      },
      "execution_count": 9,
      "outputs": [
        {
          "output_type": "stream",
          "name": "stdout",
          "text": [
            "|  0  |  2  |  2  |  0  |\n",
            "-------------------------\n",
            "|  50 |  1  |  2  |  0  |\n",
            "-------------------------\n",
            "|  2  |  2  |  2  |  0  |\n",
            "-------------------------\n",
            "|  1  |  100 |  2  |  0  |\n",
            "-------------------------\n",
            "Points Gained: 6 Your team is out.\n",
            ".....................\n",
            "|  0  |  2  |  2  |  0  |  2  |\n",
            "-------------------------------\n",
            "|  1  |  50 |  2  |  1  |  100 |\n",
            "-------------------------------\n",
            "|  2  |  2  |  2  |  0  |  2  |\n",
            "-------------------------------\n",
            "|  0  |  200 |  2  |  0  |  0  |\n",
            "-------------------------------\n",
            "Points Gained: 14 Your team has survived the game.\n"
          ]
        }
      ]
    },
    {
      "cell_type": "markdown",
      "source": [
        "Bonus Task: Primary vs Secondary Diagonal"
      ],
      "metadata": {
        "id": "svFnEuyNHeKy"
      }
    },
    {
      "cell_type": "code",
      "source": [
        "def check_diagonal(matrix1, matrix2):\n",
        "  #TO DO\n",
        "\n",
        "array1 = np.array([[0, 4, 1], [7, 2, 5], [3, 6, 0]])\n",
        "array2 = np.array([[3, 6, 0], [5, 2, 7], [0, 4, 1]])\n",
        "\n",
        "check_Diagonal(array1, array2) #This should print YES\n",
        "print(\".............\")\n",
        "array1 = np.array([[0, 9, 9, 1], [9, 0, 2, 9], [9, 3, 0, 9], [4, 9, 9, 0]])\n",
        "array2 = np.array([[4, 9, 9, 0], [9, 0, 3, 9], [9, 0, 2, 9], [0, 9, 5, 1]])\n",
        "\n",
        "check_Diagonal (array1, array2) #This should print NO\n"
      ],
      "metadata": {
        "id": "IgNeWdF1Hjxe",
        "colab": {
          "base_uri": "https://localhost:8080/",
          "height": 142
        },
        "outputId": "a0d17d34-aea9-46fe-a4a6-daaa62cf6855"
      },
      "execution_count": 10,
      "outputs": [
        {
          "output_type": "error",
          "ename": "IndentationError",
          "evalue": "expected an indented block after function definition on line 1 (<ipython-input-10-17f2d727c6be>, line 4)",
          "traceback": [
            "\u001b[0;36m  File \u001b[0;32m\"<ipython-input-10-17f2d727c6be>\"\u001b[0;36m, line \u001b[0;32m4\u001b[0m\n\u001b[0;31m    array1 = np.array([[0, 4, 1], [7, 2, 5], [3, 6, 0]])\u001b[0m\n\u001b[0m    ^\u001b[0m\n\u001b[0;31mIndentationError\u001b[0m\u001b[0;31m:\u001b[0m expected an indented block after function definition on line 1\n"
          ]
        }
      ]
    }
  ]
}