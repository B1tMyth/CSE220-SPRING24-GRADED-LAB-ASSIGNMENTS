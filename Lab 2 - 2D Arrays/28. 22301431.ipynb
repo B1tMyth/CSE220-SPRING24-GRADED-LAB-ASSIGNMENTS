{
  "nbformat": 4,
  "nbformat_minor": 0,
  "metadata": {
    "colab": {
      "provenance": []
    },
    "kernelspec": {
      "name": "python3",
      "display_name": "Python 3"
    },
    "language_info": {
      "name": "python"
    }
  },
  "cells": [
    {
      "cell_type": "code",
      "execution_count": 1,
      "metadata": {
        "id": "Idmd2Tq1dCbp",
        "colab": {
          "base_uri": "https://localhost:8080/"
        },
        "outputId": "44ed190b-6fe9-429f-80a2-2a0d74d4929c"
      },
      "outputs": [
        {
          "output_type": "stream",
          "name": "stdout",
          "text": [
            "Collecting fhm-unittest\n",
            "  Downloading fhm_unittest-1.0.1-py3-none-any.whl (2.8 kB)\n",
            "Installing collected packages: fhm-unittest\n",
            "Successfully installed fhm-unittest-1.0.1\n",
            "Collecting fuzzywuzzy\n",
            "  Downloading fuzzywuzzy-0.18.0-py2.py3-none-any.whl (18 kB)\n",
            "Installing collected packages: fuzzywuzzy\n",
            "Successfully installed fuzzywuzzy-0.18.0\n"
          ]
        },
        {
          "output_type": "stream",
          "name": "stderr",
          "text": [
            "/usr/local/lib/python3.10/dist-packages/fuzzywuzzy/fuzz.py:11: UserWarning: Using slow pure-python SequenceMatcher. Install python-Levenshtein to remove this warning\n",
            "  warnings.warn('Using slow pure-python SequenceMatcher. Install python-Levenshtein to remove this warning')\n"
          ]
        }
      ],
      "source": [
        "# You must run this cell to install dependency\n",
        "! pip3 install fhm-unittest\n",
        "! pip3 install fuzzywuzzy\n",
        "import fhm_unittest as unittest\n",
        "import numpy as np"
      ]
    },
    {
      "cell_type": "code",
      "source": [
        "#You must run this cell to print matrix and for the driver code to work\n",
        "def print_matrix(m):\n",
        "  row,col = m.shape\n",
        "  for i in range(row):\n",
        "    c = 1\n",
        "    print('|', end='')\n",
        "    for j in range(col):\n",
        "      c += 1\n",
        "      if(len(str(m[i][j])) == 1):\n",
        "        print(' ',m[i][j], end = '  |')\n",
        "        c += 6\n",
        "      else:\n",
        "        print(' ',m[i][j], end = ' |')\n",
        "        c += 6\n",
        "    print()\n",
        "    print('-'*(c-col))\n",
        "\n"
      ],
      "metadata": {
        "id": "8fJsXKBfdTyA"
      },
      "execution_count": 3,
      "outputs": []
    },
    {
      "cell_type": "markdown",
      "source": [
        "Task 1: Zigzag Walk"
      ],
      "metadata": {
        "id": "bPtgo9m-d0D3"
      }
    },
    {
      "cell_type": "code",
      "source": [
        "def walk_zigzag(floor):\n",
        "    rows=len(floor)\n",
        "    columns=len(floor[0])\n",
        "    for col in range(columns):\n",
        "       if col % 2 == 0:\n",
        "            for ro in range(rows):\n",
        "                if ro % 2 == 0:\n",
        "                    print(floor[ro][col], end='  ')\n",
        "            print()\n",
        "       else:\n",
        "            for ro in range(rows - 1, -1, -1):\n",
        "                if ro % 2 != 0:\n",
        "                    print(floor[ro][col], end='  ')\n",
        "            print()\n",
        "\n",
        "\n",
        "\n",
        "floor = np.array([[ '3' , '8' , '4' , '6' , '1'],\n",
        "                  ['7' , '2' , '1' , '9' , '3'],\n",
        "                  ['9' , '0' , '7' , '5' , '8'],\n",
        "                  ['2' , '1' , '3' , '4' , '0'],\n",
        "                  ['1' , '4' , '2' , '8' , '6']]\n",
        "                )\n",
        "\n",
        "\n",
        "\n",
        "print_matrix(floor)\n",
        "print('Walking Sequence:')\n",
        "walk_zigzag(floor)\n",
        "#This should print\n",
        "# 3 9 1\n",
        "# 1 2\n",
        "# 4 7 2\n",
        "# 4 9\n",
        "# 1 8 6\n",
        "print('################')\n",
        "floor = np.array([[ '3' , '8' , '4' , '6' , '1'],\n",
        "                  ['7' , '2' , '1' , '9' , '3'],\n",
        "                  ['9' , '0' , '7' , '5' , '8'],\n",
        "                  ['2' , '1' , '3' , '4' , '0']]\n",
        "                )\n",
        "\n",
        "print_matrix(floor)\n",
        "print('Walking Sequence:')\n",
        "walk_zigzag(floor)\n",
        "#This should print\n",
        "# 3 9\n",
        "# 1 2\n",
        "# 4 7\n",
        "# 4 9\n",
        "# 1 8"
      ],
      "metadata": {
        "id": "t258US3qdYJA",
        "colab": {
          "base_uri": "https://localhost:8080/"
        },
        "outputId": "b3cb5a4c-bdeb-4182-97bd-49f69fa9d37c"
      },
      "execution_count": 5,
      "outputs": [
        {
          "output_type": "stream",
          "name": "stdout",
          "text": [
            "|  3  |  8  |  4  |  6  |  1  |\n",
            "-------------------------------\n",
            "|  7  |  2  |  1  |  9  |  3  |\n",
            "-------------------------------\n",
            "|  9  |  0  |  7  |  5  |  8  |\n",
            "-------------------------------\n",
            "|  2  |  1  |  3  |  4  |  0  |\n",
            "-------------------------------\n",
            "|  1  |  4  |  2  |  8  |  6  |\n",
            "-------------------------------\n",
            "Walking Sequence:\n",
            "3  9  1  \n",
            "1  2  \n",
            "4  7  2  \n",
            "4  9  \n",
            "1  8  6  \n",
            "################\n",
            "|  3  |  8  |  4  |  6  |  1  |\n",
            "-------------------------------\n",
            "|  7  |  2  |  1  |  9  |  3  |\n",
            "-------------------------------\n",
            "|  9  |  0  |  7  |  5  |  8  |\n",
            "-------------------------------\n",
            "|  2  |  1  |  3  |  4  |  0  |\n",
            "-------------------------------\n",
            "Walking Sequence:\n",
            "3  9  \n",
            "1  2  \n",
            "4  7  \n",
            "4  9  \n",
            "1  8  \n"
          ]
        }
      ]
    },
    {
      "cell_type": "markdown",
      "source": [
        "Task 2: Row Rotation Policy of BRACU Classroom"
      ],
      "metadata": {
        "id": "pqub59w9du-g"
      }
    },
    {
      "cell_type": "code",
      "source": [
        "def row_rotation(exam_week, seat_status):\n",
        "  rows = len(seat_status)\n",
        "  exam_week -= 1\n",
        "  row_number = (exam_week % rows) + 1\n",
        "\n",
        "\n",
        "\n",
        "  rows = len(seat_status)\n",
        "  cols = len(seat_status[0])\n",
        "\n",
        "  rotated_status = np.empty((rows, cols))\n",
        "\n",
        "\n",
        "\n",
        "  for i in range(row_number, rows):\n",
        "    for j in range(len(seat_status[0])):\n",
        "      rotated_status[i][j] = seat_status[i][j]\n",
        "\n",
        "\n",
        "seat_status = np.array([[ 'A' , 'B' , 'C' , 'D' , 'E'],\n",
        "                  ['F' , 'G' , 'H' , 'I' , 'J'],\n",
        "                  ['K' , 'L' , 'M' , 'N' , 'O'],\n",
        "                  ['P' , 'Q' , 'R' , 'S' , 'T'],\n",
        "                  ['U' , 'V' , 'W' , 'X' , 'Y'],\n",
        "                  ['Z' , 'AA' , 'BB' , 'CC' , 'DD']])\n",
        "exam_week=3\n",
        "print_matrix(seat_status)\n",
        "print()\n",
        "row_number=row_rotation(exam_week, seat_status) #This should print modified seat status after rotation\n",
        "print(f'Your friend AA will be on row {row_number}') #This should print Your friend AA will be on row 2"
      ],
      "metadata": {
        "id": "ZejEHmUKNu5p"
      },
      "execution_count": null,
      "outputs": []
    },
    {
      "cell_type": "markdown",
      "source": [
        "Task 3: Matrix Manipulation"
      ],
      "metadata": {
        "id": "nbt_Gzv0fBtX"
      }
    },
    {
      "cell_type": "code",
      "source": [
        "def reverse_Matrix(matrix):\n",
        "    reversed_matrix = np.zeros_like(matrix)\n",
        "    size = matrix.shape[0]\n",
        "    for i in range(size):\n",
        "        for j in range(size):\n",
        "            reversed_matrix[i, j] = matrix[size - 1 - i, size - 1 - j]\n",
        "    return reversed_matrix\n",
        "\n",
        "def print_matrix(matrix):\n",
        "\n",
        "    for i in range(len(matrix)):\n",
        "\n",
        "        row_str = '|  '\n",
        "\n",
        "        for j in range(len(matrix[i])):\n",
        "            row_str += f'{matrix[i][j]:2d}' + '  |  '\n",
        "\n",
        "        print(row_str)\n",
        "\n",
        "        print('-' * (len(matrix[i]) * 6 + 1))\n",
        "matrix = np.array([\n",
        "[14,  8,  0,  4],\n",
        "[9,  8,  13,  13],\n",
        "[9,  3,  1,  4],\n",
        "[2,  10,  13,  6]\n",
        "])\n",
        "print_matrix(matrix)\n",
        "print('################')\n",
        "print()\n",
        "reversed_matrix = reverse_Matrix(matrix)\n",
        "print_matrix(reversed_matrix)\n",
        "\n",
        "#This should print\n",
        "#|  6  |  13 |  10 |  2  |\n",
        "#-------------------------\n",
        "#|  4  |  1  |  3  |  9  |\n",
        "#-------------------------\n",
        "#|  13  |  13  |  8 |  9 |\n",
        "#-------------------------\n",
        "#|  4 |  0  |  8  |  14  |\n",
        "#-------------------------\n"
      ],
      "metadata": {
        "id": "kger_tJ7fDwW",
        "colab": {
          "base_uri": "https://localhost:8080/"
        },
        "outputId": "6b20d626-6408-477b-803b-4594b2116525"
      },
      "execution_count": 6,
      "outputs": [
        {
          "output_type": "stream",
          "name": "stdout",
          "text": [
            "|  14  |   8  |   0  |   4  |  \n",
            "-------------------------\n",
            "|   9  |   8  |  13  |  13  |  \n",
            "-------------------------\n",
            "|   9  |   3  |   1  |   4  |  \n",
            "-------------------------\n",
            "|   2  |  10  |  13  |   6  |  \n",
            "-------------------------\n",
            "################\n",
            "\n",
            "|   6  |  13  |  10  |   2  |  \n",
            "-------------------------\n",
            "|   4  |   1  |   3  |   9  |  \n",
            "-------------------------\n",
            "|  13  |  13  |   8  |   9  |  \n",
            "-------------------------\n",
            "|   4  |   0  |   8  |  14  |  \n",
            "-------------------------\n"
          ]
        }
      ]
    },
    {
      "cell_type": "markdown",
      "source": [
        "Task 4: Chess Piece"
      ],
      "metadata": {
        "id": "b0wfGjWyftxX"
      }
    },
    {
      "cell_type": "code",
      "source": [
        "def show_knight_move(knight):\n",
        "    board_size = 8\n",
        "    chess_board = np.zeros(shape=(8,8),dtype=int)\n",
        "\n",
        "    knight_row, knight_col = knight\n",
        "    chess_board[knight_row][knight_col] = 66\n",
        "\n",
        "    possible_moves = [\n",
        "        (knight_row - 2, knight_col - 1), (knight_row - 2, knight_col + 1),\n",
        "        (knight_row - 1, knight_col - 2), (knight_row - 1, knight_col + 2),\n",
        "        (knight_row + 2, knight_col - 1), (knight_row + 2, knight_col + 1),\n",
        "        (knight_row + 1, knight_col - 2), (knight_row + 1, knight_col + 2)\n",
        "    ]\n",
        "\n",
        "    for move in possible_moves:\n",
        "        move_row, move_col = move\n",
        "        if 0 <= move_row < board_size and 0 <= move_col < board_size:\n",
        "            chess_board[move_row][move_col] = 3\n",
        "\n",
        "    return chess_board\n",
        "\n",
        "\n",
        "\n",
        "knight = (3,4)\n",
        "chess_board = show_knight_move(knight)\n",
        "print_matrix(chess_board)\n",
        "#This Should print\n",
        "#| 0 | 0 | 0 | 0 | 0 | 0 | 0 | 0 |\n",
        "#------------------------------------------\n",
        "#| 0 | 0 | 0 | 3 | 0 | 3 | 0 | 0 |\n",
        "#------------------------------------------\n",
        "#| 0 | 0 | 3 | 0 | 0 | 0 | 3 | 0 |\n",
        "#------------------------------------------\n",
        "#| 0 | 0 | 0 | 0 | 66 | 0 | 0 | 0 |\n",
        "#------------------------------------------\n",
        "#| 0 | 0 | 3 | 0 | 0 | 0 | 3 | 0 |\n",
        "#------------------------------------------\n",
        "#| 0 | 0 | 0 | 3 | 0 | 3 | 0 | 0 |\n",
        "#------------------------------------------\n",
        "#| 0 | 0 | 0 | 0 | 0 | 0 | 0 | 0 |\n",
        "#------------------------------------------\n",
        "#| 0 | 0 | 0 | 0 | 0 | 0 | 0 | 0 |\n",
        "#-----------------------------------------"
      ],
      "metadata": {
        "id": "FSrQG6Jpfzo3",
        "colab": {
          "base_uri": "https://localhost:8080/"
        },
        "outputId": "a4211ff9-1c31-419c-c0b7-00234b6988bd"
      },
      "execution_count": 8,
      "outputs": [
        {
          "output_type": "stream",
          "name": "stdout",
          "text": [
            "|   0  |   0  |   0  |   0  |   0  |   0  |   0  |   0  |  \n",
            "-------------------------------------------------\n",
            "|   0  |   0  |   0  |   3  |   0  |   3  |   0  |   0  |  \n",
            "-------------------------------------------------\n",
            "|   0  |   0  |   3  |   0  |   0  |   0  |   3  |   0  |  \n",
            "-------------------------------------------------\n",
            "|   0  |   0  |   0  |   0  |  66  |   0  |   0  |   0  |  \n",
            "-------------------------------------------------\n",
            "|   0  |   0  |   3  |   0  |   0  |   0  |   3  |   0  |  \n",
            "-------------------------------------------------\n",
            "|   0  |   0  |   0  |   3  |   0  |   3  |   0  |   0  |  \n",
            "-------------------------------------------------\n",
            "|   0  |   0  |   0  |   0  |   0  |   0  |   0  |   0  |  \n",
            "-------------------------------------------------\n",
            "|   0  |   0  |   0  |   0  |   0  |   0  |   0  |   0  |  \n",
            "-------------------------------------------------\n"
          ]
        }
      ]
    },
    {
      "cell_type": "markdown",
      "source": [
        "Task 5: Matrix Compression"
      ],
      "metadata": {
        "id": "zWd3LAbsGEDS"
      }
    },
    {
      "cell_type": "code",
      "source": [
        "def compress_matrix(mat):\n",
        "    num= len(mat)\n",
        "    comp = np.zeros((num// 2, num // 2), dtype=int)\n",
        "    for i in range(0, num, 2):\n",
        "        for j in range(0, num, 2):\n",
        "             sum = 0\n",
        "             for x in range(2):\n",
        "                 for y in range(2):\n",
        "                    sum += mat[i + x][j + y]\n",
        "                    comp[i // 2][j // 2] = sum\n",
        "    return comp\n",
        "matrix=np.array([[1,2,3,4],\n",
        "                 [5,6,7,8],\n",
        "                 [1,3,5,2],\n",
        "                 [-2,0,6,-3]\n",
        "                 ])\n",
        "print_matrix(matrix)\n",
        "print('################')\n",
        "print()\n",
        "returned_array=compress_matrix(matrix)\n",
        "print_matrix(returned_array)\n",
        "#This should print\n",
        "#|  14  |  22 |\n",
        "#--------------\n",
        "#|  2  |  10  |\n",
        "#--------------"
      ],
      "metadata": {
        "colab": {
          "base_uri": "https://localhost:8080/"
        },
        "id": "a3UqQlZtHfIm",
        "outputId": "dbfffa43-3d9e-4b5d-f134-7ed6524b9ab4"
      },
      "execution_count": 27,
      "outputs": [
        {
          "output_type": "stream",
          "name": "stdout",
          "text": [
            "|   1  |   2  |   3  |   4  |  \n",
            "-------------------------\n",
            "|   5  |   6  |   7  |   8  |  \n",
            "-------------------------\n",
            "|   1  |   3  |   5  |   2  |  \n",
            "-------------------------\n",
            "|  -2  |   0  |   6  |  -3  |  \n",
            "-------------------------\n",
            "################\n",
            "\n",
            "|  14  |  22  |  \n",
            "-------------\n",
            "|   2  |  10  |  \n",
            "-------------\n"
          ]
        }
      ]
    },
    {
      "cell_type": "markdown",
      "source": [
        "Task 6: Game Arena"
      ],
      "metadata": {
        "id": "AtJGXnG1I687"
      }
    },
    {
      "cell_type": "code",
      "source": [
        "def play_game(arena):\n",
        "    rows, cols = len(arena), len(arena[0])\n",
        "    points = 0\n",
        "    for i in range(rows):\n",
        "        for j in range(cols):\n",
        "            if arena[i][j] % 50 == 0 and arena[i][j] > 0:\n",
        "                for dr, dc in [(-1, 0), (1, 0), (0, -1), (0, 1)]:\n",
        "                    if 0 <= i + dr < rows and 0 <= j + dc < cols:\n",
        "                        if arena[i + dr][j + dc] == 2:\n",
        "                            points += 2\n",
        "\n",
        "    print(f\"Points Gained: {points}.\", end=\" \")\n",
        "    print(\"Your team is out.\" if points < 10 else \"Your team has survived the game.\")\n",
        "\n",
        "arena=np.array([[0,2,2,0],\n",
        "                [50,1,2,0],\n",
        "                [2,2,2,0],\n",
        "                [1,100,2,0]\n",
        "                ])\n",
        "print_matrix(arena)\n",
        "play_game(arena)\n",
        "#This should print\n",
        "#Points Gained: 6. Your team is out.\n",
        "\n",
        "print(\".....................\")\n",
        "arena=np.array([[0,2,2,0,2],\n",
        "                [1,50,2,1,100],\n",
        "                [2,2,2,0,2],\n",
        "                [0,200,2,0,0]\n",
        "                ])\n",
        "print_matrix(arena)\n",
        "play_game(arena)\n",
        "#This should print\n",
        "#Points Gained: 14. Your team has survived the game."
      ],
      "metadata": {
        "id": "P5rvZJuWI-GC",
        "colab": {
          "base_uri": "https://localhost:8080/"
        },
        "outputId": "ce5e524f-2f05-4bbd-8273-6cf90d759f6d"
      },
      "execution_count": 10,
      "outputs": [
        {
          "output_type": "stream",
          "name": "stdout",
          "text": [
            "|   0  |   2  |   2  |   0  |  \n",
            "-------------------------\n",
            "|  50  |   1  |   2  |   0  |  \n",
            "-------------------------\n",
            "|   2  |   2  |   2  |   0  |  \n",
            "-------------------------\n",
            "|   1  |  100  |   2  |   0  |  \n",
            "-------------------------\n",
            "Points Gained: 6. Your team is out.\n",
            ".....................\n",
            "|   0  |   2  |   2  |   0  |   2  |  \n",
            "-------------------------------\n",
            "|   1  |  50  |   2  |   1  |  100  |  \n",
            "-------------------------------\n",
            "|   2  |   2  |   2  |   0  |   2  |  \n",
            "-------------------------------\n",
            "|   0  |  200  |   2  |   0  |   0  |  \n",
            "-------------------------------\n",
            "Points Gained: 14. Your team has survived the game.\n"
          ]
        }
      ]
    },
    {
      "cell_type": "markdown",
      "source": [
        "Bonus Task: Primary vs Secondary Diagonal"
      ],
      "metadata": {
        "id": "svFnEuyNHeKy"
      }
    },
    {
      "cell_type": "code",
      "source": [
        "def check_diagonal(matrix1, matrix2):\n",
        "  #TO DO\n",
        "\n",
        "array1 = np.array([[0, 4, 1], [7, 2, 5], [3, 6, 0]])\n",
        "array2 = np.array([[3, 6, 0], [5, 2, 7], [0, 4, 1]])\n",
        "\n",
        "check_Diagonal(array1, array2) #This should print YES\n",
        "print(\".............\")\n",
        "array1 = np.array([[0, 9, 9, 1], [9, 0, 2, 9], [9, 3, 0, 9], [4, 9, 9, 0]])\n",
        "array2 = np.array([[4, 9, 9, 0], [9, 0, 3, 9], [9, 0, 2, 9], [0, 9, 5, 1]])\n",
        "\n",
        "check_Diagonal (array1, array2) #This should print NO\n"
      ],
      "metadata": {
        "id": "IgNeWdF1Hjxe"
      },
      "execution_count": null,
      "outputs": []
    }
  ]
}