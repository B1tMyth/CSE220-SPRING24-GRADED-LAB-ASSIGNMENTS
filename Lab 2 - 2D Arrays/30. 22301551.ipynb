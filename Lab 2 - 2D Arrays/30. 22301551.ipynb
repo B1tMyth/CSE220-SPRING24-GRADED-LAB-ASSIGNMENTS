{
  "cells": [
    {
      "cell_type": "markdown",
      "metadata": {},
      "source": [
        "#### Task 6: Indentation error. "
      ]
    },
    {
      "cell_type": "code",
      "execution_count": 1,
      "metadata": {
        "colab": {
          "base_uri": "https://localhost:8080/"
        },
        "id": "Idmd2Tq1dCbp",
        "outputId": "316dc4a3-59db-4bfe-aba3-33409f3158c1"
      },
      "outputs": [],
      "source": [
        "# You must run this cell to install dependency\n",
        "! pip3 install fhm-unittest\n",
        "! pip3 install fuzzywuzzy\n",
        "import fhm_unittest as unittest\n",
        "import numpy as np"
      ]
    },
    {
      "cell_type": "code",
      "execution_count": 4,
      "metadata": {
        "id": "8fJsXKBfdTyA"
      },
      "outputs": [],
      "source": [
        "#You must run this cell to print matrix and for the driver code to work\n",
        "def print_matrix(m):\n",
        "  row,col = m.shape\n",
        "  for i in range(row):\n",
        "    c = 1\n",
        "    print('|', end='')\n",
        "    for j in range(col):\n",
        "      c += 1\n",
        "      if(len(str(m[i][j])) == 1):\n",
        "        print(' ',m[i][j], end = '  |')\n",
        "        c += 6\n",
        "      else:\n",
        "        print(' ',m[i][j], end = ' |')\n",
        "        c += 6\n",
        "    print()\n",
        "    print('-'*(c-col))\n",
        "\n"
      ]
    },
    {
      "cell_type": "markdown",
      "metadata": {
        "id": "bPtgo9m-d0D3"
      },
      "source": [
        "Task 1: Zigzag Walk"
      ]
    },
    {
      "cell_type": "code",
      "execution_count": 2,
      "metadata": {
        "colab": {
          "base_uri": "https://localhost:8080/"
        },
        "id": "t258US3qdYJA",
        "outputId": "21f0f9d4-6f14-4e4c-a509-d72687539ca6"
      },
      "outputs": [
        {
          "ename": "NameError",
          "evalue": "name 'print_matrix' is not defined",
          "output_type": "error",
          "traceback": [
            "\u001b[1;31m---------------------------------------------------------------------------\u001b[0m",
            "\u001b[1;31mNameError\u001b[0m                                 Traceback (most recent call last)",
            "Cell \u001b[1;32mIn[2], line 28\u001b[0m\n\u001b[0;32m     15\u001b[0m   \u001b[38;5;66;03m#TO DO\u001b[39;00m\n\u001b[0;32m     19\u001b[0m floor \u001b[38;5;241m=\u001b[39m np\u001b[38;5;241m.\u001b[39marray([[ \u001b[38;5;124m'\u001b[39m\u001b[38;5;124m3\u001b[39m\u001b[38;5;124m'\u001b[39m , \u001b[38;5;124m'\u001b[39m\u001b[38;5;124m8\u001b[39m\u001b[38;5;124m'\u001b[39m , \u001b[38;5;124m'\u001b[39m\u001b[38;5;124m4\u001b[39m\u001b[38;5;124m'\u001b[39m , \u001b[38;5;124m'\u001b[39m\u001b[38;5;124m6\u001b[39m\u001b[38;5;124m'\u001b[39m , \u001b[38;5;124m'\u001b[39m\u001b[38;5;124m1\u001b[39m\u001b[38;5;124m'\u001b[39m],\n\u001b[0;32m     20\u001b[0m                   [\u001b[38;5;124m'\u001b[39m\u001b[38;5;124m7\u001b[39m\u001b[38;5;124m'\u001b[39m , \u001b[38;5;124m'\u001b[39m\u001b[38;5;124m2\u001b[39m\u001b[38;5;124m'\u001b[39m , \u001b[38;5;124m'\u001b[39m\u001b[38;5;124m1\u001b[39m\u001b[38;5;124m'\u001b[39m , \u001b[38;5;124m'\u001b[39m\u001b[38;5;124m9\u001b[39m\u001b[38;5;124m'\u001b[39m , \u001b[38;5;124m'\u001b[39m\u001b[38;5;124m3\u001b[39m\u001b[38;5;124m'\u001b[39m],\n\u001b[0;32m     21\u001b[0m                   [\u001b[38;5;124m'\u001b[39m\u001b[38;5;124m9\u001b[39m\u001b[38;5;124m'\u001b[39m , \u001b[38;5;124m'\u001b[39m\u001b[38;5;124m0\u001b[39m\u001b[38;5;124m'\u001b[39m , \u001b[38;5;124m'\u001b[39m\u001b[38;5;124m7\u001b[39m\u001b[38;5;124m'\u001b[39m , \u001b[38;5;124m'\u001b[39m\u001b[38;5;124m5\u001b[39m\u001b[38;5;124m'\u001b[39m , \u001b[38;5;124m'\u001b[39m\u001b[38;5;124m8\u001b[39m\u001b[38;5;124m'\u001b[39m],\n\u001b[0;32m     22\u001b[0m                   [\u001b[38;5;124m'\u001b[39m\u001b[38;5;124m2\u001b[39m\u001b[38;5;124m'\u001b[39m , \u001b[38;5;124m'\u001b[39m\u001b[38;5;124m1\u001b[39m\u001b[38;5;124m'\u001b[39m , \u001b[38;5;124m'\u001b[39m\u001b[38;5;124m3\u001b[39m\u001b[38;5;124m'\u001b[39m , \u001b[38;5;124m'\u001b[39m\u001b[38;5;124m4\u001b[39m\u001b[38;5;124m'\u001b[39m , \u001b[38;5;124m'\u001b[39m\u001b[38;5;124m0\u001b[39m\u001b[38;5;124m'\u001b[39m],\n\u001b[0;32m     23\u001b[0m                   [\u001b[38;5;124m'\u001b[39m\u001b[38;5;124m1\u001b[39m\u001b[38;5;124m'\u001b[39m , \u001b[38;5;124m'\u001b[39m\u001b[38;5;124m4\u001b[39m\u001b[38;5;124m'\u001b[39m , \u001b[38;5;124m'\u001b[39m\u001b[38;5;124m2\u001b[39m\u001b[38;5;124m'\u001b[39m , \u001b[38;5;124m'\u001b[39m\u001b[38;5;124m8\u001b[39m\u001b[38;5;124m'\u001b[39m , \u001b[38;5;124m'\u001b[39m\u001b[38;5;124m6\u001b[39m\u001b[38;5;124m'\u001b[39m]]\n\u001b[0;32m     24\u001b[0m                 )\n\u001b[1;32m---> 28\u001b[0m \u001b[43mprint_matrix\u001b[49m(floor)\n\u001b[0;32m     29\u001b[0m \u001b[38;5;28mprint\u001b[39m(\u001b[38;5;124m'\u001b[39m\u001b[38;5;124mWalking Sequence:\u001b[39m\u001b[38;5;124m'\u001b[39m)\n\u001b[0;32m     30\u001b[0m walk_zigzag(floor)\n",
            "\u001b[1;31mNameError\u001b[0m: name 'print_matrix' is not defined"
          ]
        }
      ],
      "source": [
        "def walk_zigzag(floor):\n",
        "  row,col = floor.shape\n",
        "  for i in range(0,col):\n",
        "    if i%2 == 0:\n",
        "      for j in range(0,row,2):\n",
        "        if (i+j)%2 ==0:\n",
        "          print(floor[j][i], end= \" \")\n",
        "      print()\n",
        "    elif i%2 != 0:\n",
        "        for j in range(row-1,-1,-1):\n",
        "          if (i+j)%2 ==0:\n",
        "            print(floor[j][i], end = \" \")\n",
        "        print()\n",
        "\n",
        "  #TO DO\n",
        "\n",
        "\n",
        "\n",
        "floor = np.array([[ '3' , '8' , '4' , '6' , '1'],\n",
        "                  ['7' , '2' , '1' , '9' , '3'],\n",
        "                  ['9' , '0' , '7' , '5' , '8'],\n",
        "                  ['2' , '1' , '3' , '4' , '0'],\n",
        "                  ['1' , '4' , '2' , '8' , '6']]\n",
        "                )\n",
        "\n",
        "\n",
        "\n",
        "print_matrix(floor)\n",
        "print('Walking Sequence:')\n",
        "walk_zigzag(floor)\n",
        "#This should print\n",
        "# 3 9 1\n",
        "# 1 2\n",
        "# 4 7 2\n",
        "# 4 9\n",
        "# 1 8 6\n",
        "print('################')\n",
        "floor = np.array([[ '3' , '8' , '4' , '6' , '1'],\n",
        "                  ['7' , '2' , '1' , '9' , '3'],\n",
        "                  ['9' , '0' , '7' , '5' , '8'],\n",
        "                  ['2' , '1' , '3' , '4' , '0']]\n",
        "                )\n",
        "\n",
        "print_matrix(floor)\n",
        "print('Walking Sequence:')\n",
        "walk_zigzag(floor)\n",
        "#This should print\n",
        "# 3 9\n",
        "# 1 2\n",
        "# 4 7\n",
        "# 4 9\n",
        "# 1 8"
      ]
    },
    {
      "cell_type": "markdown",
      "metadata": {
        "id": "pqub59w9du-g"
      },
      "source": [
        "Task 2: Row Rotation Policy of BRACU Classroom"
      ]
    },
    {
      "cell_type": "code",
      "execution_count": 17,
      "metadata": {
        "colab": {
          "base_uri": "https://localhost:8080/"
        },
        "id": "rChTGTHQdepv",
        "outputId": "ec69b66c-f659-4d1c-8262-59dc3ccba833"
      },
      "outputs": [
        {
          "name": "stdout",
          "output_type": "stream",
          "text": [
            "|  A    B    C    D    E   |\n",
            "|  F    G    H    I    J   |\n",
            "|  K    L    M    N    O   |\n",
            "|  P    Q    R    S    T   |\n",
            "|  U    V    W    X    Y   |\n",
            "|  Z    AA   BB   CC   DD  |\n",
            "\n",
            "Output: \n",
            "\n",
            "|  U    V    W    X    Y   |\n",
            "|  Z    AA   BB   CC   DD  |\n",
            "|  A    B    C    D    E   |\n",
            "|  F    G    H    I    J   |\n",
            "|  K    L    M    N    O   |\n",
            "|  P    Q    R    S    T   |\n",
            "Your friend AA will be on row 2\n"
          ]
        }
      ],
      "source": [
        "def row_rotation(exam_week, seat_status):\n",
        "    row,column = seat_status.shape\n",
        "    rotated_status = np.zeros((row,column), dtype=object)\n",
        "    for i in range(row):\n",
        "        number_of_seat=(i + exam_week - 1) % row\n",
        "        rotated_status[number_of_seat]=seat_status[i]\n",
        "    print('Output: ')\n",
        "    print()\n",
        "    print_matrix(rotated_status)\n",
        "\n",
        "    for i in range(column-1):\n",
        "        if rotated_status[i][1]==\"AA\":\n",
        "            return i+1\n",
        "\n",
        "\n",
        "\n",
        "\n",
        "\n",
        "seat_status = np.array([[ 'A' , 'B' , 'C' , 'D' , 'E'],\n",
        "                  ['F' , 'G' , 'H' , 'I' , 'J'],\n",
        "                  ['K' , 'L' , 'M' , 'N' , 'O'],\n",
        "                  ['P' , 'Q' , 'R' , 'S' , 'T'],\n",
        "                  ['U' , 'V' , 'W' , 'X' , 'Y'],\n",
        "                  ['Z' , 'AA' , 'BB' , 'CC' , 'DD']])\n",
        "exam_week=3\n",
        "print_matrix(seat_status)\n",
        "print()\n",
        "row_number=row_rotation(exam_week, seat_status) #This should print modified seat status after rotation\n",
        "print(f'Your friend AA will be on row {row_number}') #This should print Your friend AA will be on row 2"
      ]
    },
    {
      "cell_type": "markdown",
      "metadata": {
        "id": "nbt_Gzv0fBtX"
      },
      "source": [
        "Task 3: Matrix Manipulation"
      ]
    },
    {
      "cell_type": "code",
      "execution_count": 6,
      "metadata": {
        "colab": {
          "base_uri": "https://localhost:8080/"
        },
        "id": "kger_tJ7fDwW",
        "outputId": "279a2853-5fb8-4d97-b76c-d88dab346408"
      },
      "outputs": [
        {
          "name": "stdout",
          "output_type": "stream",
          "text": [
            "|  14    8    0    4  |\n",
            "|   9    8   13   13  |\n",
            "|   9    3    1    4  |\n",
            "|   2   10   13    6  |\n",
            "################\n",
            "\n",
            "|   6   13   10    2  |\n",
            "|   4    1    3    9  |\n",
            "|  13   13    8    9  |\n",
            "|   4    0    8   14  |\n"
          ]
        }
      ],
      "source": [
        "def reverse_Matrix(matrix):\n",
        "    n = len(matrix)\n",
        "\n",
        "    # Create a new matrix to store the reversed rows and columns\n",
        "    reversed_matrix = np.zeros((n, n), dtype=int)\n",
        "\n",
        "    # Reverse the rows and columns\n",
        "    for i in range(n):\n",
        "        for j in range(n):\n",
        "            reversed_matrix[i, j] = matrix[n - 1 - i, n - 1 - j]\n",
        "\n",
        "    return reversed_matrix\n",
        "\n",
        "def print_matrix(matrix):\n",
        "    for row in matrix:\n",
        "        print(\"|\", end=\" \")\n",
        "        for element in row:\n",
        "            print(f\" {element:2} \", end=\" \")\n",
        "        print(\"|\")\n",
        "\n",
        "\n",
        "\n",
        "  #TO DO\n",
        "\n",
        "\n",
        "matrix = np.array([\n",
        "[14,  8,  0,  4],\n",
        "[9,  8,  13,  13],\n",
        "[9,  3,  1,  4],\n",
        "[2,  10,  13,  6]\n",
        "])\n",
        "print_matrix(matrix)\n",
        "print('################')\n",
        "print()\n",
        "reversed_matrix = reverse_Matrix(matrix)\n",
        "print_matrix(reversed_matrix)\n",
        "\n",
        "#This should print\n",
        "#|  6  |  13 |  10 |  2  |\n",
        "#-------------------------\n",
        "#|  4  |  1  |  3  |  9  |\n",
        "#-------------------------\n",
        "#|  13  |  13  |  8 |  9 |\n",
        "#-------------------------\n",
        "#|  4 |  0  |  8  |  14  |\n",
        "#-------------------------\n"
      ]
    },
    {
      "cell_type": "markdown",
      "metadata": {
        "id": "b0wfGjWyftxX"
      },
      "source": [
        "Task 4: Chess Piece"
      ]
    },
    {
      "cell_type": "code",
      "execution_count": 15,
      "metadata": {
        "colab": {
          "base_uri": "https://localhost:8080/"
        },
        "id": "FSrQG6Jpfzo3",
        "outputId": "c991c36f-8819-4ea9-bca0-ea91ae562f45"
      },
      "outputs": [
        {
          "name": "stdout",
          "output_type": "stream",
          "text": [
            "|   0    0    0    0    0    0    0    0  |\n",
            "|   0    0    0    3    0    3    0    0  |\n",
            "|   0    0    3    0    0    0    3    0  |\n",
            "|   0    0    0    0   66    0    0    0  |\n",
            "|   0    0    3    0    0    0    3    0  |\n",
            "|   0    0    0    3    0    3    0    0  |\n",
            "|   0    0    0    0    0    0    0    0  |\n",
            "|   0    0    0    0    0    0    0    0  |\n"
          ]
        }
      ],
      "source": [
        "def show_knight_move(knight):\n",
        "    new_mat = np.zeros((8,8),dtype = int)\n",
        "    r = knight[0]\n",
        "    c = knight[1]\n",
        "    new_mat[r][c] = 66\n",
        "\n",
        "    if new_mat[(r-2)][c]==0:\n",
        "     if new_mat[r-2][(c-1)]==0:\n",
        "        new_mat[(r-2)][c-1]=3\n",
        "     if new_mat[r-2][(c+1)]==0:\n",
        "      new_mat[(r-2)][(c+1)]=3\n",
        "    if new_mat[(r+2)][c]==0:\n",
        "     if new_mat[r+2][(c-1)]==0:\n",
        "      new_mat[(r+2)][c-1]=3\n",
        "    if new_mat[r+2][c+1]==0:\n",
        "      new_mat[(r+2)][c+1]=3\n",
        "    if new_mat[r][c-2]==0:\n",
        "      if new_mat[r-1][c-2]==0:\n",
        "        new_mat[r-1][c-2]=3\n",
        "    if new_mat[r+1][c-2]==0:\n",
        "      new_mat[r+1][c-2]=3\n",
        "    if new_mat[r][c+2]==0:\n",
        "     if new_mat[r-1][c+2]==0:\n",
        "      new_mat[r-1][c+2]=3\n",
        "    if new_mat[r+1][c+2]==0:\n",
        "      new_mat[r+1][c+2]=3\n",
        "      return new_mat\n",
        "\n",
        "\n",
        "\n",
        "\n",
        "knight = (3,4)\n",
        "chess_board = show_knight_move(knight)\n",
        "print_matrix(chess_board)\n",
        "#This Should print\n",
        "#| 0 | 0 | 0 | 0 | 0 | 0 | 0 | 0 |\n",
        "#------------------------------------------\n",
        "#| 0 | 0 | 0 | 3 | 0 | 3 | 0 | 0 |\n",
        "#------------------------------------------\n",
        "#| 0 | 0 | 3 | 0 | 0 | 0 | 3 | 0 |\n",
        "#------------------------------------------\n",
        "#| 0 | 0 | 0 | 0 | 66 | 0 | 0 | 0 |\n",
        "#------------------------------------------\n",
        "#| 0 | 0 | 3 | 0 | 0 | 0 | 3 | 0 |\n",
        "#------------------------------------------\n",
        "#| 0 | 0 | 0 | 3 | 0 | 3 | 0 | 0 |\n",
        "#------------------------------------------\n",
        "#| 0 | 0 | 0 | 0 | 0 | 0 | 0 | 0 |\n",
        "#------------------------------------------\n",
        "#| 0 | 0 | 0 | 0 | 0 | 0 | 0 | 0 |\n",
        "#-----------------------------------------"
      ]
    },
    {
      "cell_type": "markdown",
      "metadata": {
        "id": "zWd3LAbsGEDS"
      },
      "source": [
        "Task 5: Matrix Compression"
      ]
    },
    {
      "cell_type": "code",
      "execution_count": 20,
      "metadata": {
        "colab": {
          "base_uri": "https://localhost:8080/"
        },
        "id": "9oIzitXSGJXa",
        "outputId": "1ab73e2f-7a26-4442-c898-87bfcee18927"
      },
      "outputs": [
        {
          "name": "stdout",
          "output_type": "stream",
          "text": [
            " |  1 | 2 | 3 | 4 | \n",
            " |  5 | 6 | 7 | 8 | \n",
            " |  1 | 3 | 5 | 2 | \n",
            " |  -2 | 0 | 6 | -3 | \n",
            "----\n",
            "################\n",
            "\n",
            " |  14 | 22 | \n",
            " |  2 | 10 | \n",
            "--\n"
          ]
        }
      ],
      "source": [
        "def compress_matrix(mat):\n",
        "    rows,cols = mat.shape\n",
        "    compressed=np.zeros((rows//2,cols//2),dtype=int)\n",
        "    for i in range(0,rows,2):\n",
        "      for j in range(0,cols,2):\n",
        "          compressed[i//2,j//2]=(mat[i,j]+mat[i,j+1]+mat[i+1,j]+mat[i+1,j+1])\n",
        "    return compressed\n",
        "def print_matrix(matrix):\n",
        "  for row in matrix:\n",
        "    print(\" | \", end=\" \")\n",
        "    for cell in row:\n",
        "      print(cell,end=\" | \")\n",
        "    print(\"\")\n",
        "  print(\"-\"*(len(matrix[0]*4+1)))\n",
        "\n",
        "\n",
        "matrix=np.array([[1,2,3,4],\n",
        "                 [5,6,7,8],\n",
        "                 [1,3,5,2],\n",
        "                 [-2,0,6,-3]\n",
        "                 ])\n",
        "print_matrix(matrix)\n",
        "print('################')\n",
        "print()\n",
        "returned_array=compress_matrix(matrix)\n",
        "print_matrix(returned_array)\n",
        "#This should print\n",
        "#|  14  |  22 |\n",
        "#--------------\n",
        "#|  2  |  10  |\n",
        "#--------------"
      ]
    },
    {
      "cell_type": "markdown",
      "metadata": {
        "id": "AtJGXnG1I687"
      },
      "source": [
        "Task 6: Game Arena"
      ]
    },
    {
      "cell_type": "code",
      "execution_count": 7,
      "metadata": {
        "colab": {
          "base_uri": "https://localhost:8080/"
        },
        "id": "P5rvZJuWI-GC",
        "outputId": "372859a8-3478-49be-dce8-7cc37efe18d6"
      },
      "outputs": [
        {
          "name": "stdout",
          "output_type": "stream",
          "text": [
            "|   0    2    2    0  |\n",
            "|  50    1    2    0  |\n",
            "|   2    2    2    0  |\n",
            "|   1   100    2    0  |\n",
            "Points Gained: 38. Your team has suvived the game\n",
            ".....................\n",
            "|   0    2    2    0    2  |\n",
            "|   1   50    2    1   100  |\n",
            "|   2    2    2    0    2  |\n",
            "|   0   200    2    0    0  |\n",
            "Points Gained: 46. Your team has suvived the game\n"
          ]
        }
      ],
      "source": [
        "def play_game(arena):\n",
        "    rows, cols = arena.shape\n",
        "    total_points = 0\n",
        "\n",
        "    for i in range(rows):\n",
        "      for j in range(cols):\n",
        "         if arena[i][j]!=0 and arena[i][j] % 50 == 0:\n",
        "           if j+1< cols and arena[i][j+1]==2:\n",
        "              total_points += 2\n",
        "         if j-1 > -1 and arena[i][j-1]==2:\n",
        "            total_points += 2\n",
        "         if i+1 < rows and arena[i+1][j]==2:\n",
        "            total_points += 2\n",
        "         if i-1>-1 and arena[i-1][j]==2:\n",
        "            total_points += 2\n",
        "\n",
        "\n",
        "\n",
        "    if total_points >= 10:\n",
        "       print(f\"Points Gained: {total_points}. Your team has suvived the game\")\n",
        "    else:\n",
        "       print(f\"Pints Gained: {total_points}. Your team is out\")\n",
        "\n",
        "arena=np.array([[0,2,2,0],\n",
        "                [50,1,2,0],\n",
        "                [2,2,2,0],\n",
        "                [1,100,2,0]\n",
        "                ])\n",
        "print_matrix(arena)\n",
        "play_game(arena)\n",
        "#This should print\n",
        "#Points Gained: 6. Your team is out.\n",
        "\n",
        "print(\".....................\")\n",
        "arena=np.array([[0,2,2,0,2],\n",
        "                [1,50,2,1,100],\n",
        "                [2,2,2,0,2],\n",
        "                [0,200,2,0,0]\n",
        "                ])\n",
        "print_matrix(arena)\n",
        "play_game(arena)\n",
        "#This should print\n",
        "#Points Gained: 14. Your team has survived the game."
      ]
    },
    {
      "cell_type": "markdown",
      "metadata": {
        "id": "svFnEuyNHeKy"
      },
      "source": [
        "Bonus Task: Primary vs Secondary Diagonal"
      ]
    },
    {
      "cell_type": "code",
      "execution_count": null,
      "metadata": {
        "id": "IgNeWdF1Hjxe"
      },
      "outputs": [],
      "source": [
        "def check_diagonal(matrix1, matrix2):\n",
        "  #TO DO\n",
        "\n",
        "array1 = np.array([[0, 4, 1], [7, 2, 5], [3, 6, 0]])\n",
        "array2 = np.array([[3, 6, 0], [5, 2, 7], [0, 4, 1]])\n",
        "\n",
        "check_Diagonal(array1, array2) #This should print YES\n",
        "print(\".............\")\n",
        "array1 = np.array([[0, 9, 9, 1], [9, 0, 2, 9], [9, 3, 0, 9], [4, 9, 9, 0]])\n",
        "array2 = np.array([[4, 9, 9, 0], [9, 0, 3, 9], [9, 0, 2, 9], [0, 9, 5, 1]])\n",
        "\n",
        "check_Diagonal (array1, array2) #This should print NO\n"
      ]
    }
  ],
  "metadata": {
    "colab": {
      "provenance": []
    },
    "kernelspec": {
      "display_name": "Python 3",
      "name": "python3"
    },
    "language_info": {
      "codemirror_mode": {
        "name": "ipython",
        "version": 3
      },
      "file_extension": ".py",
      "mimetype": "text/x-python",
      "name": "python",
      "nbconvert_exporter": "python",
      "pygments_lexer": "ipython3",
      "version": "3.11.5"
    }
  },
  "nbformat": 4,
  "nbformat_minor": 0
}
