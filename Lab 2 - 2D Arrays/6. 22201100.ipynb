{
  "cells": [
    {
      "cell_type": "markdown",
      "metadata": {},
      "source": [
        "#### Task 1: Used wrong range to iterate over the row indices for odd columns. \n",
        "#### Task 2: In order to store variable length strings, don't use dtype=str, use dtype=object(very inefficient) or specify the maximum length using dtype='U10' for strings of at most length of 10. Typos were present. "
      ]
    },
    {
      "cell_type": "code",
      "execution_count": 91,
      "metadata": {
        "colab": {
          "base_uri": "https://localhost:8080/"
        },
        "id": "Idmd2Tq1dCbp",
        "outputId": "98f6e68e-a658-47d4-9958-e79b2c72ee2d"
      },
      "outputs": [
        {
          "name": "stdout",
          "output_type": "stream",
          "text": [
            "Requirement already satisfied: fhm-unittest in /usr/local/lib/python3.10/dist-packages (1.0.1)\n",
            "Requirement already satisfied: fuzzywuzzy in /usr/local/lib/python3.10/dist-packages (0.18.0)\n"
          ]
        }
      ],
      "source": [
        "# You must run this cell to install dependency\n",
        "! pip3 install fhm-unittest\n",
        "! pip3 install fuzzywuzzy\n",
        "import fhm_unittest as unittest\n",
        "import numpy as np"
      ]
    },
    {
      "cell_type": "code",
      "execution_count": 92,
      "metadata": {
        "id": "8fJsXKBfdTyA"
      },
      "outputs": [],
      "source": [
        "#You must run this cell to print matrix and for the driver code to work\n",
        "def print_matrix(m):\n",
        "  row,col = m.shape\n",
        "  for i in range(row):\n",
        "    c = 1\n",
        "    print('|', end='')\n",
        "    for j in range(col):\n",
        "      c += 1\n",
        "      if(len(str(m[i][j])) == 1):\n",
        "        print(' ',m[i][j], end = '  |')\n",
        "        c += 6\n",
        "      else:\n",
        "        print(' ',m[i][j], end = ' |')\n",
        "        c += 6\n",
        "    print()\n",
        "    print('-'*(c-col))\n",
        "\n"
      ]
    },
    {
      "cell_type": "markdown",
      "metadata": {
        "id": "bPtgo9m-d0D3"
      },
      "source": [
        "Task 1: Zigzag Walk"
      ]
    },
    {
      "cell_type": "code",
      "execution_count": 93,
      "metadata": {
        "colab": {
          "base_uri": "https://localhost:8080/"
        },
        "id": "t258US3qdYJA",
        "outputId": "8e81690d-9353-4092-dbad-39ee9382f5da"
      },
      "outputs": [
        {
          "name": "stdout",
          "output_type": "stream",
          "text": [
            "|  3  |  8  |  4  |  6  |  1  |\n",
            "-------------------------------\n",
            "|  7  |  2  |  1  |  9  |  3  |\n",
            "-------------------------------\n",
            "|  9  |  0  |  7  |  5  |  8  |\n",
            "-------------------------------\n",
            "|  2  |  1  |  3  |  4  |  0  |\n",
            "-------------------------------\n",
            "|  1  |  4  |  2  |  8  |  6  |\n",
            "-------------------------------\n",
            "Walking Sequence:\n",
            "3 9 1 \n",
            "2 1 \n",
            "4 7 2 \n",
            "9 4 \n",
            "1 8 6 \n",
            "################\n",
            "|  3  |  8  |  4  |  6  |  1  |\n",
            "-------------------------------\n",
            "|  7  |  2  |  1  |  9  |  3  |\n",
            "-------------------------------\n",
            "|  9  |  0  |  7  |  5  |  8  |\n",
            "-------------------------------\n",
            "|  2  |  1  |  3  |  4  |  0  |\n",
            "-------------------------------\n",
            "Walking Sequence:\n",
            "3 9 \n",
            "2 \n",
            "4 7 \n",
            "9 \n",
            "1 8 \n"
          ]
        }
      ],
      "source": [
        "def walk_zigzag(floor):\n",
        "  row,column=floor.shape\n",
        "  for j in range(column):\n",
        "    if j%2==0:\n",
        "      for i in range(row):\n",
        "        if i%2==0:\n",
        "          print(floor[i][j], end=\" \")\n",
        "      print()\n",
        "    elif j%2!=0:\n",
        "      for i in range(row-1):\n",
        "        if i%2!=0:\n",
        "          print(floor[i][j],end=\" \")\n",
        "      print()\n",
        "floor = np.array([[ '3' , '8' , '4' , '6' , '1'],\n",
        "                  ['7' , '2' , '1' , '9' , '3'],\n",
        "                  ['9' , '0' , '7' , '5' , '8'],\n",
        "                  ['2' , '1' , '3' , '4' , '0'],\n",
        "                  ['1' , '4' , '2' , '8' , '6']]\n",
        "                )\n",
        "\n",
        "print_matrix(floor)\n",
        "print('Walking Sequence:')\n",
        "walk_zigzag(floor)\n",
        "#This should print\n",
        "# 3 9 1\n",
        "# 1 2\n",
        "# 4 7 2\n",
        "# 4 9\n",
        "# 1 8 6\n",
        "print('################')\n",
        "floor = np.array([[ '3' , '8' , '4' , '6' , '1'],\n",
        "                  ['7' , '2' , '1' , '9' , '3'],\n",
        "                  ['9' , '0' , '7' , '5' , '8'],\n",
        "                  ['2' , '1' , '3' , '4' , '0']]\n",
        "                )\n",
        "\n",
        "print_matrix(floor)\n",
        "print('Walking Sequence:')\n",
        "walk_zigzag(floor)\n",
        "#This should print\n",
        "# 3 9\n",
        "# 1 2\n",
        "# 4 7\n",
        "# 4 9\n",
        "# 1 8"
      ]
    },
    {
      "cell_type": "markdown",
      "metadata": {
        "id": "pqub59w9du-g"
      },
      "source": [
        "Task 2: Row Rotation Policy of BRACU Classroom"
      ]
    },
    {
      "cell_type": "code",
      "execution_count": 94,
      "metadata": {
        "colab": {
          "base_uri": "https://localhost:8080/"
        },
        "id": "rChTGTHQdepv",
        "outputId": "ab2b3cb1-e425-49cb-ba3c-3851db22873a"
      },
      "outputs": [
        {
          "name": "stdout",
          "output_type": "stream",
          "text": [
            "|  A  |  B  |  C  |  D  |  E  |\n",
            "-------------------------------\n",
            "|  F  |  G  |  H  |  I  |  J  |\n",
            "-------------------------------\n",
            "|  K  |  L  |  M  |  N  |  O  |\n",
            "-------------------------------\n",
            "|  P  |  Q  |  R  |  S  |  T  |\n",
            "-------------------------------\n",
            "|  U  |  V  |  W  |  X  |  Y  |\n",
            "-------------------------------\n",
            "|  Z  |  AA |  BB |  CC |  DD |\n",
            "-------------------------------\n",
            "\n",
            "[['U' 'V' 'W' 'X' 'Y']\n",
            " ['Z' 'A' 'B' 'C' 'D']\n",
            " ['A' 'B' 'C' 'D' 'E']\n",
            " ['F' 'G' 'H' 'I' 'J']\n",
            " ['K' 'L' 'M' 'N' 'O']\n",
            " ['P' 'Q' 'R' 'S' 'T']]\n",
            "Your friend AA will be on row 2\n"
          ]
        }
      ],
      "source": [
        "def row_rotation(exam_week, seat_status):\n",
        "  def arraycopy(seat_status):\n",
        "    row,col=seat_status.shape\n",
        "    new_arr=np.zeros((row,col), dtype=str)\n",
        "    for i in range(row):\n",
        "      for j in range(col):\n",
        "        new_arr[i][j]=seat_status[i][j]\n",
        "    return new_arr\n",
        "  friend_pos=exam_week-1\n",
        "  for i in range(friend_pos):\n",
        "    new_arr = arraycopy(seat_status)\n",
        "    temp=new_arr[seat_status.shape[0]-1]\n",
        "    for i in range(seat_status.shape[0]-1,0,-1):\n",
        "      seat_status[i]=seat_status[i-1]\n",
        "    seat_status[0]=temp\n",
        "  print( seat_status)\n",
        "  return friend_pos\n",
        "\n",
        "seat_status = np.array([[ 'A' , 'B' , 'C' , 'D' , 'E'],\n",
        "                  ['F' , 'G' , 'H' , 'I' , 'J'],\n",
        "                  ['K' , 'L' , 'M' , 'N' , 'O'],\n",
        "                  ['P' , 'Q' , 'R' , 'S' , 'T'],\n",
        "                  ['U' , 'V' , 'W' , 'X' , 'Y'],\n",
        "                  ['Z' , 'AA' , 'BB' , 'CC' , 'DD']])\n",
        "exam_week=3\n",
        "print_matrix(seat_status)\n",
        "print()\n",
        "row_number=row_rotation(exam_week, seat_status) #This should print modified seat status after rotation\n",
        "print(f'Your friend AA will be on row {row_number}') #This should print Your friend AA will be on row 2"
      ]
    },
    {
      "cell_type": "markdown",
      "metadata": {
        "id": "nbt_Gzv0fBtX"
      },
      "source": [
        "Task 3: Matrix Manipulation"
      ]
    },
    {
      "cell_type": "code",
      "execution_count": 95,
      "metadata": {
        "colab": {
          "base_uri": "https://localhost:8080/"
        },
        "id": "kger_tJ7fDwW",
        "outputId": "fd6fcad3-a052-4b98-c59b-44170c2fe666"
      },
      "outputs": [
        {
          "name": "stdout",
          "output_type": "stream",
          "text": [
            "|  14 |  8  |  0  |  4  |\n",
            "-------------------------\n",
            "|  9  |  8  |  13 |  13 |\n",
            "-------------------------\n",
            "|  9  |  3  |  1  |  4  |\n",
            "-------------------------\n",
            "|  2  |  10 |  13 |  6  |\n",
            "-------------------------\n",
            "################\n",
            "\n",
            "|  6  |  13 |  10 |  2  |\n",
            "-------------------------\n",
            "|  4  |  1  |  3  |  9  |\n",
            "-------------------------\n",
            "|  13 |  13 |  8  |  9  |\n",
            "-------------------------\n",
            "|  4  |  0  |  8  |  14 |\n",
            "-------------------------\n"
          ]
        }
      ],
      "source": [
        "def reverse_Matrix(matrix):\n",
        "  row,col=matrix.shape\n",
        "  new_arr=np.zeros((row,col),dtype=int)\n",
        "  for j in range(col):\n",
        "    x=0\n",
        "    for i in range(row-1,-1,-1):\n",
        "      new_arr[x][j]=matrix[i][j]\n",
        "      x+=1\n",
        "\n",
        "  for i in range(row):\n",
        "    for j in range(col//2):\n",
        "      new_arr[i][j],new_arr[i][col-1-j]=new_arr[i][col-1-j],new_arr[i][j]\n",
        "  return new_arr\n",
        "matrix = np.array([\n",
        "[14,  8,  0,  4],\n",
        "[9,  8,  13,  13],\n",
        "[9,  3,  1,  4],\n",
        "[2,  10,  13,  6]\n",
        "])\n",
        "print_matrix(matrix)\n",
        "print('################')\n",
        "print()\n",
        "reversed_matrix = reverse_Matrix(matrix)\n",
        "print_matrix(reversed_matrix)\n",
        "\n",
        "#This should print\n",
        "#|  6  |  13 |  10 |  2  |\n",
        "#-------------------------\n",
        "#|  4  |  1  |  3  |  9  |\n",
        "#-------------------------\n",
        "#|  13  |  13  |  8 |  9 |\n",
        "#-------------------------\n",
        "#|  4 |  0  |  8  |  14  |\n",
        "#-------------------------\n"
      ]
    },
    {
      "cell_type": "markdown",
      "metadata": {
        "id": "b0wfGjWyftxX"
      },
      "source": [
        "Task 4: Chess Piece"
      ]
    },
    {
      "cell_type": "code",
      "execution_count": 96,
      "metadata": {
        "colab": {
          "base_uri": "https://localhost:8080/"
        },
        "id": "FSrQG6Jpfzo3",
        "outputId": "7711c84d-463d-452f-89c3-b20a85b115b5"
      },
      "outputs": [
        {
          "name": "stdout",
          "output_type": "stream",
          "text": [
            "|  0  |  0  |  0  |  0  |  0  |  0  |  0  |  0  |\n",
            "-------------------------------------------------\n",
            "|  0  |  0  |  0  |  0  |  0  |  0  |  0  |  0  |\n",
            "-------------------------------------------------\n",
            "|  0  |  0  |  0  |  0  |  0  |  0  |  0  |  0  |\n",
            "-------------------------------------------------\n",
            "|  0  |  0  |  0  |  0  |  0  |  0  |  0  |  0  |\n",
            "-------------------------------------------------\n",
            "|  0  |  0  |  0  |  0  |  0  |  0  |  3  |  0  |\n",
            "-------------------------------------------------\n",
            "|  0  |  0  |  0  |  0  |  0  |  3  |  0  |  0  |\n",
            "-------------------------------------------------\n",
            "|  0  |  0  |  0  |  0  |  0  |  0  |  0  |  66 |\n",
            "-------------------------------------------------\n",
            "|  0  |  0  |  0  |  0  |  0  |  3  |  0  |  0  |\n",
            "-------------------------------------------------\n"
          ]
        }
      ],
      "source": [
        "def show_knight_move(knight):\n",
        "  matrix=np.zeros((8,8,),dtype=int)\n",
        "  row,col=knight\n",
        "  matrix[row][col]=66\n",
        "  if row-2>=0 and col+1<=7:\n",
        "    matrix[row-2][col+1]=3\n",
        "  if row-2>=0 and col-1>=0:\n",
        "    matrix[row-2][col-1]=3\n",
        "  if row+2<=7 and col+1<=7:\n",
        "    matrix[row+2][col+1]=3\n",
        "  if row+2<=7 and col-1>=0:\n",
        "    matrix[row+2][col-1]=3\n",
        "  if row-1>=0 and col+2<=7:\n",
        "    matrix[row-1][col+2]=3\n",
        "  if row-1>=0 and col-2>=0:\n",
        "    matrix[row-1][col-2]=3\n",
        "  if row+1<=7 and col+2<=7:\n",
        "    matrix[row+1][col+2]=3\n",
        "  if row+1<=7 and col-2>=0:\n",
        "    matrix[row+1][col-2]=3\n",
        "\n",
        "  return matrix\n",
        "\n",
        "knight = (6,7)\n",
        "chess_board = show_knight_move(knight)\n",
        "print_matrix(chess_board)\n",
        "#This Should print\n",
        "#| 0 | 0 | 0 | 0 | 0 | 0 | 0 | 0 |\n",
        "#------------------------------------------\n",
        "#| 0 | 0 | 0 | 3 | 0 | 3 | 0 | 0 |\n",
        "#------------------------------------------\n",
        "#| 0 | 0 | 3 | 0 | 0 | 0 | 3 | 0 |\n",
        "#------------------------------------------\n",
        "#| 0 | 0 | 0 | 0 | 66 | 0 | 0 | 0 |\n",
        "#------------------------------------------\n",
        "#| 0 | 0 | 3 | 0 | 0 | 0 | 3 | 0 |\n",
        "#------------------------------------------\n",
        "#| 0 | 0 | 0 | 3 | 0 | 3 | 0 | 0 |\n",
        "#------------------------------------------\n",
        "#| 0 | 0 | 0 | 0 | 0 | 0 | 0 | 0 |\n",
        "#------------------------------------------\n",
        "#| 0 | 0 | 0 | 0 | 0 | 0 | 0 | 0 |\n",
        "#-----------------------------------------"
      ]
    },
    {
      "cell_type": "markdown",
      "metadata": {
        "id": "zWd3LAbsGEDS"
      },
      "source": [
        "Task 5: Matrix Compression"
      ]
    },
    {
      "cell_type": "code",
      "execution_count": 97,
      "metadata": {
        "colab": {
          "base_uri": "https://localhost:8080/"
        },
        "id": "9oIzitXSGJXa",
        "outputId": "002b3e10-b1a6-4a4b-f97b-8e5fad6f39ce"
      },
      "outputs": [
        {
          "name": "stdout",
          "output_type": "stream",
          "text": [
            "|  1  |  2  |  3  |  4  |\n",
            "-------------------------\n",
            "|  5  |  6  |  7  |  8  |\n",
            "-------------------------\n",
            "|  1  |  3  |  5  |  2  |\n",
            "-------------------------\n",
            "|  -2 |  0  |  6  |  -3 |\n",
            "-------------------------\n",
            "################\n",
            "\n",
            "|  14 |  22 |\n",
            "-------------\n",
            "|  2  |  10 |\n",
            "-------------\n"
          ]
        }
      ],
      "source": [
        "def compress_matrix(mat):\n",
        "    row,col=matrix.shape\n",
        "    new_row=int(row/2)\n",
        "    new_col=int(col/2)\n",
        "    new_arr=np.zeros((new_row,new_col), dtype=int)\n",
        "    x=0\n",
        "    for i in range(0,row,2):\n",
        "      y = 0\n",
        "      for j in range(0,col,2):\n",
        "        sum=mat[i][j]+mat[i+1][j]+mat[i][j+1]+mat[i+1][j+1]\n",
        "        new_arr[x][y]=sum\n",
        "        y+=1\n",
        "        sum=0\n",
        "      x+=1\n",
        "    return new_arr\n",
        "\n",
        "matrix=np.array([[1,2,3,4],\n",
        "                 [5,6,7,8],\n",
        "                 [1,3,5,2],\n",
        "                 [-2,0,6,-3]\n",
        "                 ])\n",
        "print_matrix(matrix)\n",
        "print('################')\n",
        "print()\n",
        "returned_array=compress_matrix(matrix)\n",
        "print_matrix(returned_array)\n",
        "#This should print\n",
        "#|  14  |  22 |\n",
        "#--------------\n",
        "#|  2  |  10  |\n",
        "#--------------"
      ]
    },
    {
      "cell_type": "markdown",
      "metadata": {
        "id": "AtJGXnG1I687"
      },
      "source": [
        "Task 6: Game Arena"
      ]
    },
    {
      "cell_type": "code",
      "execution_count": 98,
      "metadata": {
        "colab": {
          "base_uri": "https://localhost:8080/"
        },
        "id": "P5rvZJuWI-GC",
        "outputId": "8340fcaa-4ba2-4b5c-eab2-39c20100aff8"
      },
      "outputs": [
        {
          "name": "stdout",
          "output_type": "stream",
          "text": [
            "|  0  |  2  |  2  |  0  |\n",
            "-------------------------\n",
            "|  50 |  1  |  2  |  0  |\n",
            "-------------------------\n",
            "|  2  |  2  |  2  |  0  |\n",
            "-------------------------\n",
            "|  1  |  100 |  2  |  0  |\n",
            "-------------------------\n",
            "Points Gained: 6. Your team is out.\n",
            ".....................\n",
            "|  0  |  2  |  2  |  0  |  2  |\n",
            "-------------------------------\n",
            "|  1  |  50 |  2  |  1  |  100 |\n",
            "-------------------------------\n",
            "|  2  |  2  |  2  |  0  |  2  |\n",
            "-------------------------------\n",
            "|  0  |  200 |  2  |  0  |  0  |\n",
            "-------------------------------\n",
            "Points Gained: 14. Your team has survived the game\n"
          ]
        }
      ],
      "source": [
        "import numpy as np\n",
        "def play_game(arena):\n",
        "  row,col=arena.shape\n",
        "  point=0\n",
        "  for i in range(row):\n",
        "    for j in range(col):\n",
        "      count=0\n",
        "      if arena[i][j]%50==0 and arena[i][j]!=0:\n",
        "        if i-1>=0 and arena[i-1][j]==2:\n",
        "          count+=1\n",
        "        if j-1>=0 and arena[i][j-1]==2:\n",
        "          count+=1\n",
        "        if i+1<=row-1 and arena[i+1][j]==2:\n",
        "          count+=1\n",
        "        if j+1<=col-1 and arena[i][j+1]==2:\n",
        "          count+=1\n",
        "      point+=count\n",
        "\n",
        "  total_point=point*2\n",
        "  if total_point>=10:\n",
        "    print(f\"Points Gained: {total_point}. Your team has survived the game\")\n",
        "  else:\n",
        "    print(f\"Points Gained: {total_point}. Your team is out.\")\n",
        "arena=np.array([[0,2,2,0],\n",
        "                [50,1,2,0],\n",
        "                [2,2,2,0],\n",
        "                [1,100,2,0]\n",
        "                ])\n",
        "print_matrix(arena)\n",
        "play_game(arena)\n",
        "#This should print\n",
        "#Points Gained: 6. Your team is out.\n",
        "\n",
        "print(\".....................\")\n",
        "arena=np.array([[0,2,2,0,2],\n",
        "                [1,50,2,1,100],\n",
        "                [2,2,2,0,2],\n",
        "                [0,200,2,0,0]\n",
        "                ])\n",
        "print_matrix(arena)\n",
        "play_game(arena)\n",
        "#This should print\n",
        "#Points Gained: 14. Your team has survived the game."
      ]
    },
    {
      "cell_type": "markdown",
      "metadata": {
        "id": "svFnEuyNHeKy"
      },
      "source": [
        "Bonus Task: Primary vs Secondary Diagonal"
      ]
    },
    {
      "cell_type": "code",
      "execution_count": 99,
      "metadata": {
        "colab": {
          "base_uri": "https://localhost:8080/"
        },
        "id": "IgNeWdF1Hjxe",
        "outputId": "94094fc3-493e-42ce-eb23-d150b1d53365"
      },
      "outputs": [
        {
          "name": "stdout",
          "output_type": "stream",
          "text": [
            "YES\n",
            ".............\n",
            "NO\n"
          ]
        }
      ],
      "source": [
        "def check_diagonal(matrix1, matrix2):\n",
        "  row1,col1=matrix1.shape\n",
        "  row2,col2=matrix2.shape\n",
        "  for j in range(col1):\n",
        "    for i in range(row1//2):\n",
        "       matrix1[i][j],matrix1[row1-1-i][j]=matrix1[row1-1-i][j],matrix1[i][j]\n",
        "  point=True\n",
        "  for i in range(row1):\n",
        "    for j in range(col2):\n",
        "      if i==j:\n",
        "        if matrix1[i][j]!=matrix2[i][j]:\n",
        "          point=False\n",
        "  if point==True:\n",
        "    print(\"YES\")\n",
        "  else:\n",
        "    print(\"NO\")\n",
        "\n",
        "array1 = np.array([[0, 4, 1], [7, 2, 5], [3, 6, 0]])\n",
        "array2 = np.array([[3, 6, 0], [5, 2, 7], [0, 4, 1]])\n",
        "\n",
        "check_diagonal(array1, array2) #This should print YES\n",
        "print(\".............\")\n",
        "array1 = np.array([[0, 9, 9, 1], [9, 0, 2, 9], [9, 3, 0, 9], [4, 9, 9, 0]])\n",
        "array2 = np.array([[4, 9, 9, 0], [9, 0, 3, 9], [9, 0, 2, 9], [0, 9, 5, 1]])\n",
        "\n",
        "check_diagonal (array1, array2) #This should print NO\n"
      ]
    }
  ],
  "metadata": {
    "colab": {
      "provenance": []
    },
    "kernelspec": {
      "display_name": "Python 3",
      "name": "python3"
    },
    "language_info": {
      "name": "python"
    }
  },
  "nbformat": 4,
  "nbformat_minor": 0
}
