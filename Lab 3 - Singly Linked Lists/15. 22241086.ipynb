{
  "cells": [
    {
      "cell_type": "markdown",
      "metadata": {},
      "source": [
        "#### Task 2: Doesn't check if n > cnt. "
      ]
    },
    {
      "cell_type": "markdown",
      "metadata": {
        "id": "4LYYhNdvi03h"
      },
      "source": [
        "\n",
        "\n",
        "1.   Be careful in which question you are required to change the given Linked list and where you are required to create a new one\n",
        "2.   Be careful of the first node and the last node [aka corner cases]\n",
        "3.   Do not use any other data structure other than Linked List\n",
        "\n"
      ]
    },
    {
      "cell_type": "markdown",
      "metadata": {
        "id": "v8m-0O9Pi9ET"
      },
      "source": [
        "**You must run this cell to install dependency**"
      ]
    },
    {
      "cell_type": "code",
      "execution_count": 1,
      "metadata": {
        "colab": {
          "base_uri": "https://localhost:8080/"
        },
        "id": "3vZHyMlVi0cs",
        "outputId": "3b106cde-02f0-4148-d170-a2dd25ee757a"
      },
      "outputs": [],
      "source": [
        "! pip3 install fhm-unittest\n",
        "! pip3 install fuzzywuzzy\n",
        "import fhm_unittest as unittest\n",
        "import numpy as np"
      ]
    },
    {
      "cell_type": "markdown",
      "metadata": {
        "id": "b7eLAb26jNlR"
      },
      "source": [
        "**You must Run this cell for your driver code to execute successfully**"
      ]
    },
    {
      "cell_type": "code",
      "execution_count": 2,
      "metadata": {
        "id": "Yvtwdm02iNbm"
      },
      "outputs": [],
      "source": [
        "#Run this cell\n",
        "class Node:\n",
        "  def __init__(self,elem,next = None):\n",
        "    self.elem,self.next = elem,next\n",
        "\n",
        "def createList(arr):\n",
        "  head = Node(arr[0])\n",
        "  tail = head\n",
        "  for i in range(1,len(arr)):\n",
        "    newNode = Node(arr[i])\n",
        "    tail.next = newNode\n",
        "    tail = newNode\n",
        "  return head\n",
        "\n",
        "def printLinkedList(head):\n",
        "  temp = head\n",
        "  while temp != None:\n",
        "    if temp.next != None:\n",
        "      print(temp.elem, end = '-->')\n",
        "    else:\n",
        "      print(temp.elem)\n",
        "    temp = temp.next\n",
        "  print()\n"
      ]
    },
    {
      "cell_type": "markdown",
      "metadata": {
        "id": "YcFhPJxPjcfl"
      },
      "source": [
        "Task 1: Building Blocks"
      ]
    },
    {
      "cell_type": "code",
      "execution_count": 3,
      "metadata": {
        "id": "h-JGgED6rtF-"
      },
      "outputs": [],
      "source": [
        "def length(head):\n",
        "  temp, count = head, 0\n",
        "  while temp != None:\n",
        "    count += 1\n",
        "    temp = temp.next\n",
        "  return count"
      ]
    },
    {
      "cell_type": "code",
      "execution_count": null,
      "metadata": {
        "colab": {
          "base_uri": "https://localhost:8080/"
        },
        "id": "QU2I53-4jWSo",
        "outputId": "7aa4bed2-2cf2-4de2-f8af-0539d5ad7696"
      },
      "outputs": [
        {
          "name": "stdout",
          "output_type": "stream",
          "text": [
            "==============Test Case 1=============\n",
            "Building 1:  Red-->Green-->Yellow-->Red-->Blue-->Green\n",
            "\n",
            "Building 2:  Red-->Green-->Yellow-->Red-->Blue-->Green\n",
            "\n",
            "Similar\n",
            "Accepted\n",
            "\n",
            "==============Test Case 2=============\n",
            "Building 1:  Red-->Green-->Yellow-->Red-->Yellow-->Green\n",
            "\n",
            "Building 2:  Red-->Green-->Yellow-->Red-->Blue-->Green\n",
            "\n",
            "Not Similar\n",
            "Accepted\n",
            "\n",
            "==============Test Case 3=============\n",
            "Building 1:  Red-->Green-->Yellow-->Red-->Blue-->Green\n",
            "\n",
            "Building 2:  Red-->Green-->Yellow-->Red-->Blue-->Green-->Blue\n",
            "\n",
            "Not Similar\n",
            "Accepted\n",
            "\n",
            "==============Test Case 4=============\n",
            "Building 1:  Red-->Green-->Yellow-->Red-->Blue-->Green-->Blue\n",
            "\n",
            "Building 2:  Red-->Green-->Yellow-->Red-->Blue-->Green\n",
            "\n",
            "Not Similar\n",
            "Accepted\n",
            "\n"
          ]
        }
      ],
      "source": [
        "def check_similar(building_1, building_2):\n",
        "    if length(building_1) != length(building_2):\n",
        "        return \"Not Similar\"\n",
        "    head1 = building_1\n",
        "    head2 = building_2\n",
        "\n",
        "    while head1 != None:\n",
        "        if head1.elem != head2.elem:\n",
        "            return \"Not Similar\"\n",
        "        head1 = head1.next\n",
        "        head2 = head2.next\n",
        "    return \"Similar\"\n",
        "\n",
        "print('==============Test Case 1=============')\n",
        "building_1 = createList(np.array(['Red', 'Green', 'Yellow', 'Red', 'Blue', 'Green']))\n",
        "building_2 = createList(np.array(['Red', 'Green', 'Yellow', 'Red', 'Blue', 'Green']))\n",
        "print('Building 1: ', end = ' ')\n",
        "printLinkedList(building_1)\n",
        "print('Building 2: ', end = ' ')\n",
        "printLinkedList(building_2)\n",
        "returned_value = check_similar(building_1, building_2)\n",
        "print(returned_value) #This should print 'Similar'\n",
        "unittest.output_test(returned_value, 'Similar')\n",
        "print()\n",
        "\n",
        "print('==============Test Case 2=============')\n",
        "building_1 = createList(np.array(['Red', 'Green', 'Yellow', 'Red', 'Yellow', 'Green']))\n",
        "building_2 = createList(np.array(['Red', 'Green', 'Yellow', 'Red', 'Blue', 'Green']))\n",
        "print('Building 1: ', end = ' ')\n",
        "printLinkedList(building_1)\n",
        "print('Building 2: ', end = ' ')\n",
        "printLinkedList(building_2)\n",
        "returned_value = check_similar(building_1, building_2)\n",
        "print(returned_value) #This should print 'Not Similar'\n",
        "unittest.output_test(returned_value, 'Not Similar')\n",
        "print()\n",
        "\n",
        "print('==============Test Case 3=============')\n",
        "building_1 = createList(np.array(['Red', 'Green', 'Yellow', 'Red', 'Blue', 'Green']))\n",
        "building_2 = createList(np.array(['Red', 'Green', 'Yellow', 'Red', 'Blue', 'Green', 'Blue']))\n",
        "print('Building 1: ', end = ' ')\n",
        "printLinkedList(building_1)\n",
        "print('Building 2: ', end = ' ')\n",
        "printLinkedList(building_2)\n",
        "returned_value = check_similar(building_1, building_2)\n",
        "print(returned_value) #This should print 'Not Similar'\n",
        "unittest.output_test(returned_value, 'Not Similar')\n",
        "print()\n",
        "\n",
        "print('==============Test Case 4=============')\n",
        "building_1 = createList(np.array(['Red', 'Green', 'Yellow', 'Red', 'Blue', 'Green', 'Blue']))\n",
        "building_2 = createList(np.array(['Red', 'Green', 'Yellow', 'Red', 'Blue', 'Green']))\n",
        "print('Building 1: ', end = ' ')\n",
        "printLinkedList(building_1)\n",
        "print('Building 2: ', end = ' ')\n",
        "printLinkedList(building_2)\n",
        "returned_value = check_similar(building_1, building_2)\n",
        "print(returned_value) #This should print 'Not Similar'\n",
        "unittest.output_test(returned_value, 'Not Similar')\n",
        "print()"
      ]
    },
    {
      "cell_type": "markdown",
      "metadata": {
        "id": "KXf5NwHJjrga"
      },
      "source": [
        "Task 2: Remove Compartment"
      ]
    },
    {
      "cell_type": "code",
      "execution_count": null,
      "metadata": {
        "colab": {
          "base_uri": "https://localhost:8080/"
        },
        "id": "RZFDGPlGkC9M",
        "outputId": "03884ec1-d6c7-4be0-a30f-5301dafcc466"
      },
      "outputs": [
        {
          "name": "stdout",
          "output_type": "stream",
          "text": [
            "==============Test Case 1=============\n",
            "Original Compartment Sequence:  10-->15-->34-->41-->56-->72\n",
            "\n",
            "Changed Compartment Sequence:  10-->15-->34-->41-->72\n",
            "\n",
            "\n",
            "==============Test Case 2=============\n",
            "Original Compartment Sequence:  10-->15-->34-->41-->56-->72\n",
            "\n",
            "Changed Compartment Sequence:  10-->15-->34-->41-->56-->72\n",
            "\n",
            "\n",
            "==============Test Case 3=============\n",
            "Original Compartment Sequence:  10-->15-->34-->41-->56-->72\n",
            "\n",
            "Changed Compartment Sequence:  15-->34-->41-->56-->72\n",
            "\n",
            "\n"
          ]
        }
      ],
      "source": [
        "def remove_compartment(head,n):\n",
        "    cnt = 0\n",
        "    tail = head\n",
        "    while tail != None:\n",
        "        cnt += 1\n",
        "        tail = tail.next\n",
        "    idx = cnt - n\n",
        "    tail = head\n",
        "    if idx == 0:\n",
        "        return head.next\n",
        "    i = 0\n",
        "    while tail != None:\n",
        "        if i == idx -1:\n",
        "            tail.next = tail.next.next\n",
        "            break\n",
        "        tail = tail.next\n",
        "        i += 1\n",
        "    return head\n",
        "\n",
        "\n",
        "print('==============Test Case 1=============')\n",
        "head = createList(np.array([10,15,34,41,56,72]))\n",
        "print('Original Compartment Sequence: ', end = ' ')\n",
        "printLinkedList(head)\n",
        "head = remove_compartment(head,2)\n",
        "print('Changed Compartment Sequence: ', end = ' ')\n",
        "printLinkedList(head) #This should print 10-->15-->34-->41-->72\n",
        "print()\n",
        "print('==============Test Case 2=============')\n",
        "head = createList(np.array([10,15,34,41,56,72]))\n",
        "print('Original Compartment Sequence: ', end = ' ')\n",
        "printLinkedList(head)\n",
        "head = remove_compartment(head,7)\n",
        "print('Changed Compartment Sequence: ', end = ' ')\n",
        "printLinkedList(head) #This should print 10-->15-->34-->41-->56-->72\n",
        "print()\n",
        "print('==============Test Case 3=============')\n",
        "head = createList(np.array([10,15,34,41,56,72]))\n",
        "print('Original Compartment Sequence: ', end = ' ')\n",
        "printLinkedList(head)\n",
        "head = remove_compartment(head,6)\n",
        "print('Changed Compartment Sequence: ', end = ' ')\n",
        "printLinkedList(head) #This should print 15-->34-->41-->56-->72\n",
        "print()"
      ]
    },
    {
      "cell_type": "markdown",
      "metadata": {
        "id": "1ru-53ewkgET"
      },
      "source": [
        "Task 3: Assemble Conga Line"
      ]
    },
    {
      "cell_type": "code",
      "execution_count": null,
      "metadata": {
        "colab": {
          "base_uri": "https://localhost:8080/"
        },
        "id": "el2Iqez0kmfD",
        "outputId": "29f44988-a32a-4f0a-8078-b65782460216"
      },
      "outputs": [
        {
          "name": "stdout",
          "output_type": "stream",
          "text": [
            "==============Test Case 1=============\n",
            "Original Conga Line:  10-->15-->34-->41-->56-->72\n",
            "\n",
            "True\n",
            "Accepted\n",
            "\n",
            "==============Test Case 2=============\n",
            "Original Conga Line:  10-->15-->44-->41-->56-->72\n",
            "\n",
            "False\n",
            "Accepted\n",
            "\n"
          ]
        }
      ],
      "source": [
        "def assemble_conga_line(conga_line):\n",
        "    tail = conga_line\n",
        "    while tail.next != None:\n",
        "        if tail.elem > tail.next.elem:\n",
        "            return False\n",
        "        tail = tail.next\n",
        "    return True\n",
        "\n",
        "\n",
        "print('==============Test Case 1=============')\n",
        "conga_line = createList(np.array([10,15,34,41,56,72]))\n",
        "print('Original Conga Line: ', end = ' ')\n",
        "printLinkedList(conga_line)\n",
        "returned_value = assemble_conga_line(conga_line)\n",
        "print(returned_value) #This should print True\n",
        "unittest.output_test(returned_value, True)\n",
        "print()\n",
        "print('==============Test Case 2=============')\n",
        "conga_line = createList(np.array([10,15,44,41,56,72]))\n",
        "print('Original Conga Line: ', end = ' ')\n",
        "printLinkedList(conga_line)\n",
        "returned_value = assemble_conga_line(conga_line)\n",
        "print(returned_value) #This should print False\n",
        "unittest.output_test(returned_value, False)\n",
        "print()"
      ]
    },
    {
      "cell_type": "markdown",
      "metadata": {
        "id": "iD_ytSvbloPy"
      },
      "source": [
        "Task 4: Word Decoder"
      ]
    },
    {
      "cell_type": "code",
      "execution_count": null,
      "metadata": {
        "colab": {
          "base_uri": "https://localhost:8080/"
        },
        "id": "PU6PxoNllxdf",
        "outputId": "3ace3ebb-bd44-4cb6-8ced-5c7eb73ac41d"
      },
      "outputs": [
        {
          "name": "stdout",
          "output_type": "stream",
          "text": [
            "==============Test Case 1=============\n",
            "Encoded Word:\n",
            "B-->M-->D-->T-->N-->O-->A-->P-->S-->C\n",
            "\n",
            "Decoded Word:\n",
            "None-->C-->A-->T\n",
            "\n",
            "==============Test Case 2=============\n",
            "Encoded Word:\n",
            "Z-->O-->T-->N-->X\n",
            "\n",
            "Decoded Word:\n",
            "None-->N\n",
            "\n"
          ]
        }
      ],
      "source": [
        "def word_Decoder(head):\n",
        "    tail = head\n",
        "    cnt = 0\n",
        "    while tail != None:\n",
        "        cnt += 1\n",
        "        tail = tail.next\n",
        "    idx = 13 % cnt\n",
        "    tail = head\n",
        "    new_head = None\n",
        "    i = 0\n",
        "    while tail != None:\n",
        "        if i % idx == 0 and i != 0:\n",
        "            if new_head == None:\n",
        "                new_head = Node(tail.elem)\n",
        "                new_tail = new_head\n",
        "            else:\n",
        "                new_tail.next = tail\n",
        "                new_tail = tail\n",
        "        tail = tail.next\n",
        "        i += 1\n",
        "    new_tail.next = None\n",
        "    last = None\n",
        "    tail = new_head\n",
        "    while tail != None:\n",
        "        temp = tail\n",
        "        tail = tail.next\n",
        "        temp.next = last\n",
        "        last = temp\n",
        "    new = Node(None, temp)\n",
        "    return new\n",
        "\n",
        "\n",
        "#Driver Code\n",
        "print('==============Test Case 1=============')\n",
        "head = createList(np.array(['B', 'M', 'D', 'T', 'N', 'O', 'A', 'P', 'S', 'C']))\n",
        "print(\"Encoded Word:\")\n",
        "printLinkedList(head) #This should print B→M→D→T→N→O→A→P→S→C\n",
        "\n",
        "result = word_Decoder(head)\n",
        "print(\"Decoded Word:\")\n",
        "printLinkedList(result)    #This should print None→C→A→T\n",
        "\n",
        "print('==============Test Case 2=============')\n",
        "\n",
        "head = createList(np.array(['Z', 'O', 'T', 'N', 'X']))\n",
        "print(\"Encoded Word:\")\n",
        "printLinkedList(head) #This should print Z→O→T→N→X\n",
        "\n",
        "result = word_Decoder(head)\n",
        "print(\"Decoded Word:\")\n",
        "printLinkedList(result)    #This should print None→N\n",
        "\n"
      ]
    },
    {
      "cell_type": "markdown",
      "metadata": {
        "id": "KH4qPwI-nIN4"
      },
      "source": [
        "Task 5: Alternate Merge"
      ]
    },
    {
      "cell_type": "code",
      "execution_count": null,
      "metadata": {
        "colab": {
          "base_uri": "https://localhost:8080/"
        },
        "id": "0D7bZtp1nMRI",
        "outputId": "c24cf15e-6b93-441b-c484-2435cbf1d6d2"
      },
      "outputs": [
        {
          "name": "stdout",
          "output_type": "stream",
          "text": [
            "==============Test Case 1=============\n",
            "Linked List 1:\n",
            "1-->2-->6-->8-->11\n",
            "\n",
            "Linked List 2:\n",
            "5-->7-->3-->9-->4\n",
            "\n",
            "Merged Linked List:\n",
            "1-->5-->2-->7-->6-->3-->8-->9-->11-->4\n",
            "\n",
            "==============Test Case 2=============\n",
            "Linked List 1:\n",
            "5-->3-->2-->-4\n",
            "\n",
            "Linked List 2:\n",
            "-4-->-6-->1\n",
            "\n",
            "Merged Linked List:\n",
            "5-->-4-->3-->-6-->2-->1-->-4\n",
            "\n",
            "==============Test Case 3=============\n",
            "Linked List 1:\n",
            "4-->2-->-2-->-4\n",
            "\n",
            "Linked List 2:\n",
            "8-->6-->5-->-3\n",
            "\n",
            "Merged Linked List:\n",
            "4-->8-->2-->6-->-2-->5-->-4-->-3\n",
            "\n"
          ]
        }
      ],
      "source": [
        "def alternate_merge(head1, head2):\n",
        "    tail1 = head1.next\n",
        "    tail2 = head2\n",
        "    New = Node(head1.elem)\n",
        "    tail = New\n",
        "    while tail1 != None or tail2 != None:\n",
        "        if tail2 != None and tail1 != None:\n",
        "            tail.next = Node(tail2.elem)\n",
        "            tail = tail.next\n",
        "            tail.next = Node(tail1.elem)\n",
        "            tail = tail.next\n",
        "            tail1 = tail1.next\n",
        "            tail2 = tail2.next\n",
        "        elif tail1 == None and tail2 != None:\n",
        "            tail.next = Node(tail2.elem)\n",
        "            tail =tail.next\n",
        "            tail2 = tail2.next\n",
        "        else:\n",
        "            tail.next = Node(tail2.elem)\n",
        "            tail =tail.next\n",
        "            tail = tail1.next\n",
        "    return New\n",
        "\n",
        "\n",
        "\n",
        "\n",
        "print('==============Test Case 1=============')\n",
        "head1 = createList(np.array([1,2,6,8,11]))\n",
        "head2 = createList(np.array([5,7,3,9,4]))\n",
        "\n",
        "print(\"Linked List 1:\")\n",
        "printLinkedList(head1)\n",
        "print(\"Linked List 2:\")\n",
        "printLinkedList(head2)\n",
        "\n",
        "head = alternate_merge(head1, head2)\n",
        "print(\"Merged Linked List:\")\n",
        "printLinkedList(head)    #This should print    1 --> 5 --> 2 --> 7 --> 6 --> 3 --> 8 --> 9 --> 11 --> 4\n",
        "\n",
        "\n",
        "print('==============Test Case 2=============')\n",
        "head1 = createList(np.array([5, 3, 2, -4]))\n",
        "head2 = createList(np.array([-4, -6, 1]))\n",
        "\n",
        "print(\"Linked List 1:\")\n",
        "printLinkedList(head1)\n",
        "print(\"Linked List 2:\")\n",
        "printLinkedList(head2)\n",
        "\n",
        "head = alternate_merge(head1, head2)\n",
        "print(\"Merged Linked List:\")\n",
        "printLinkedList(head)    #This should print    5 → -4 -> 3 → -6 -> 2 -> 1 -> -4\n",
        "\n",
        "\n",
        "print('==============Test Case 3=============')\n",
        "head1 = createList(np.array([4, 2, -2, -4]))\n",
        "head2 = createList(np.array([8, 6, 5, -3]))\n",
        "\n",
        "print(\"Linked List 1:\")\n",
        "printLinkedList(head1)\n",
        "print(\"Linked List 2:\")\n",
        "printLinkedList(head2)\n",
        "\n",
        "head = alternate_merge(head1, head2)\n",
        "print(\"Merged Linked List:\")\n",
        "printLinkedList(head)    #This should print   4-> 8 → 2-> 6 → -2 → 5 → -4 -> -3\n"
      ]
    },
    {
      "cell_type": "markdown",
      "metadata": {
        "id": "g8b2lKE5o4HE"
      },
      "source": [
        "Task 6: Sum of Nodes"
      ]
    },
    {
      "cell_type": "code",
      "execution_count": null,
      "metadata": {
        "colab": {
          "base_uri": "https://localhost:8080/"
        },
        "id": "AeUE5H0so6oP",
        "outputId": "883af1d5-87dd-43a1-a6c9-7112ddc5b9aa"
      },
      "outputs": [
        {
          "name": "stdout",
          "output_type": "stream",
          "text": [
            "==============Test Case 1=============\n",
            "Sum of Nodes: 4\n",
            "Accepted\n",
            "\n"
          ]
        }
      ],
      "source": [
        "def sum_dist(head, arr):\n",
        "    sum = 0\n",
        "    for i in range(len(arr)):\n",
        "        idx = 0\n",
        "        tail = head\n",
        "        num = 0\n",
        "        while tail != None:\n",
        "            if idx == arr[i]:\n",
        "                num = tail.elem\n",
        "                break\n",
        "            idx += 1\n",
        "            tail = tail.next\n",
        "        sum += num\n",
        "    return sum\n",
        "\n",
        "\n",
        "\n",
        "\n",
        "\n",
        "print('==============Test Case 1=============')\n",
        "LL1 = createList(np.array([10,16,-5,9,3,4]))\n",
        "dist = np.array([2,0,5,2,8])\n",
        "returned_value = sum_dist(LL1, dist)\n",
        "print(f'Sum of Nodes: {returned_value}') #This should print Sum of Nodes: 4\n",
        "unittest.output_test(returned_value, 4)\n",
        "print()"
      ]
    },
    {
      "cell_type": "markdown",
      "metadata": {
        "id": "pNihvj0mqZGx"
      },
      "source": [
        "Bonus Task: ID Generator"
      ]
    },
    {
      "cell_type": "code",
      "execution_count": null,
      "metadata": {
        "colab": {
          "base_uri": "https://localhost:8080/"
        },
        "id": "RxtRlCVCqcHV",
        "outputId": "b6e3cc84-829f-4bbf-e68a-a86cf88f99f8"
      },
      "outputs": [
        {
          "name": "stdout",
          "output_type": "stream",
          "text": [
            "==============Test Case 1=============\n",
            "Linked List 1:\n",
            "0-->3-->2-->2\n",
            "\n",
            "Linked List 2:\n",
            "5-->2-->2-->1\n",
            "\n",
            "Linked List 3:\n",
            "4-->3-->2-->1\n",
            "\n",
            "New ID:\n",
            "2-->2-->3-->0-->9-->5-->4-->2\n",
            "\n",
            "==============Test Case 2=============\n",
            "Linked List 1:\n",
            "0-->3-->9-->1\n",
            "\n",
            "Linked List 2:\n",
            "3-->6-->5-->7\n",
            "\n",
            "Linked List 3:\n",
            "2-->4-->3-->8\n",
            "\n",
            "New ID:\n",
            "1-->9-->3-->0-->5-->0-->8-->5\n",
            "\n"
          ]
        }
      ],
      "source": [
        "def idGenerator(head1, head2, head3):\n",
        "    tail = head1\n",
        "    last = None\n",
        "    while tail != None:\n",
        "        temp = tail\n",
        "        tail = tail.next\n",
        "        temp.next = last\n",
        "        last = temp\n",
        "    new = last\n",
        "    tail = head1\n",
        "    tail1 = head2\n",
        "    tail2 = head3\n",
        "    while tail1 != None:\n",
        "        temp = Node((tail1.elem + tail2.elem) % 10)\n",
        "        tail.next = temp\n",
        "        tail = tail.next\n",
        "\n",
        "        tail1 = tail1.next\n",
        "        tail2 = tail2.next\n",
        "    return new\n",
        "print('==============Test Case 1=============')\n",
        "head1 = createList(np.array([0,3,2,2]))\n",
        "head2 = createList(np.array([5,2,2,1]))\n",
        "head3 = createList(np.array([4,3,2,1]))\n",
        "\n",
        "print(\"Linked List 1:\")\n",
        "printLinkedList(head1)\n",
        "print(\"Linked List 2:\")\n",
        "printLinkedList(head2)\n",
        "print(\"Linked List 3:\")\n",
        "printLinkedList(head3)\n",
        "\n",
        "result = idGenerator(head1, head2, head3)\n",
        "print(\"New ID:\")\n",
        "printLinkedList(result)    #This should print  2 → 2 → 3 → 0 → 9 → 5 → 4 → 2\n",
        "\n",
        "\n",
        "print('==============Test Case 2=============')\n",
        "head1 = createList(np.array([0,3,9,1]))\n",
        "head2 = createList(np.array([3,6,5,7]))\n",
        "head3 = createList(np.array([2,4,3,8]))\n",
        "\n",
        "print(\"Linked List 1:\")\n",
        "printLinkedList(head1)\n",
        "print(\"Linked List 2:\")\n",
        "printLinkedList(head2)\n",
        "print(\"Linked List 3:\")\n",
        "printLinkedList(head3)\n",
        "\n",
        "result = idGenerator(head1, head2, head3)\n",
        "print(\"New ID:\")\n",
        "printLinkedList(result)    #This should print 1 → 9 → 3 → 0 → 5 → 0 → 8 → 5"
      ]
    }
  ],
  "metadata": {
    "colab": {
      "provenance": []
    },
    "kernelspec": {
      "display_name": "Python 3",
      "name": "python3"
    },
    "language_info": {
      "codemirror_mode": {
        "name": "ipython",
        "version": 3
      },
      "file_extension": ".py",
      "mimetype": "text/x-python",
      "name": "python",
      "nbconvert_exporter": "python",
      "pygments_lexer": "ipython3",
      "version": "3.11.5"
    }
  },
  "nbformat": 4,
  "nbformat_minor": 0
}
