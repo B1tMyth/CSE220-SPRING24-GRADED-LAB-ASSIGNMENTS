{
  "cells": [
    {
      "cell_type": "markdown",
      "metadata": {},
      "source": [
        "#### Task 4: Returns the part of the linked list from the element to be discarded.\n",
        "#### Bonus Task: Doesn't add the reversed part of the first linked list. "
      ]
    },
    {
      "cell_type": "markdown",
      "metadata": {
        "id": "4LYYhNdvi03h"
      },
      "source": [
        "\n",
        "\n",
        "1.   Be careful in which question you are required to change the given Linked list and where you are required to create a new one\n",
        "2.   Be careful of the first node and the last node [aka corner cases]\n",
        "3.   Do not use any other data structure other than Linked List\n",
        "\n"
      ]
    },
    {
      "cell_type": "markdown",
      "metadata": {
        "id": "v8m-0O9Pi9ET"
      },
      "source": [
        "**You must run this cell to install dependency**"
      ]
    },
    {
      "cell_type": "code",
      "execution_count": 1,
      "metadata": {
        "colab": {
          "base_uri": "https://localhost:8080/"
        },
        "id": "3vZHyMlVi0cs",
        "outputId": "44d2f6e8-d9bd-4c3e-ab96-d16b6356c009"
      },
      "outputs": [],
      "source": [
        "! pip3 install fhm-unittest\n",
        "! pip3 install fuzzywuzzy\n",
        "import fhm_unittest as unittest\n",
        "import numpy as np"
      ]
    },
    {
      "cell_type": "markdown",
      "metadata": {
        "id": "b7eLAb26jNlR"
      },
      "source": [
        "**You must Run this cell for your driver code to execute successfully**"
      ]
    },
    {
      "cell_type": "code",
      "execution_count": 2,
      "metadata": {
        "id": "Yvtwdm02iNbm"
      },
      "outputs": [],
      "source": [
        "#Run this cell\n",
        "class Node:\n",
        "  def __init__(self,elem,next = None):\n",
        "    self.elem,self.next = elem,next\n",
        "\n",
        "def createList(arr):\n",
        "  head = Node(arr[0])\n",
        "  tail = head\n",
        "  for i in range(1,len(arr)):\n",
        "    newNode = Node(arr[i])\n",
        "    tail.next = newNode\n",
        "    tail = newNode\n",
        "  return head\n",
        "\n",
        "def printLinkedList(head):\n",
        "  temp = head\n",
        "  while temp != None:\n",
        "    if temp.next != None:\n",
        "      print(temp.elem, end = '-->')\n",
        "    else:\n",
        "      print(temp.elem)\n",
        "    temp = temp.next\n",
        "  print()\n"
      ]
    },
    {
      "cell_type": "markdown",
      "metadata": {
        "id": "YcFhPJxPjcfl"
      },
      "source": [
        "Task 1: Building Blocks"
      ]
    },
    {
      "cell_type": "code",
      "execution_count": null,
      "metadata": {
        "colab": {
          "base_uri": "https://localhost:8080/"
        },
        "id": "QU2I53-4jWSo",
        "outputId": "d5cf996f-2e95-45e4-bba4-baceea97964c"
      },
      "outputs": [
        {
          "name": "stdout",
          "output_type": "stream",
          "text": [
            "==============Test Case 1=============\n",
            "Building 1:  Red-->Green-->Yellow-->Red-->Blue-->Green\n",
            "\n",
            "Building 2:  Red-->Green-->Yellow-->Red-->Blue-->Green\n",
            "\n",
            "Similar\n",
            "Accepted\n",
            "\n",
            "==============Test Case 2=============\n",
            "Building 1:  Red-->Green-->Yellow-->Red-->Yellow-->Green\n",
            "\n",
            "Building 2:  Red-->Green-->Yellow-->Red-->Blue-->Green\n",
            "\n",
            "Not Similar\n",
            "Accepted\n",
            "\n",
            "==============Test Case 3=============\n",
            "Building 1:  Red-->Green-->Yellow-->Red-->Blue-->Green\n",
            "\n",
            "Building 2:  Red-->Green-->Yellow-->Red-->Blue-->Green-->Blue\n",
            "\n",
            "Not Similar\n",
            "Accepted\n",
            "\n",
            "==============Test Case 4=============\n",
            "Building 1:  Red-->Green-->Yellow-->Red-->Blue-->Green-->Blue\n",
            "\n",
            "Building 2:  Red-->Green-->Yellow-->Red-->Blue-->Green\n",
            "\n",
            "Not Similar\n",
            "Accepted\n",
            "\n"
          ]
        }
      ],
      "source": [
        "def check_similar(building_1, building_2):\n",
        "  #TO DO\n",
        "  flag=True\n",
        "  cur1=building_1\n",
        "  cur2=building_2\n",
        "  count1=0\n",
        "  count2=0\n",
        "\n",
        "  while cur2!=None:\n",
        "    count2+=1\n",
        "    cur2=cur2.next\n",
        "  while cur1!=None:\n",
        "    count1+=1\n",
        "    cur1=cur1.next\n",
        "  if count1!=count2:\n",
        "    flag=False\n",
        "  else:\n",
        "   cur1=building_1\n",
        "   cur2=building_2\n",
        "   while cur1!=None and cur2!=None:\n",
        "      if (cur1.elem)!=(cur2.elem):\n",
        "        #print(f\"cur1.elem: {cur1.elem}, cur2.elem :{cur2.elem}\")\n",
        "        flag=False\n",
        "        break\n",
        "      cur1=cur1.next\n",
        "      cur2=cur2.next\n",
        "  if flag==True:\n",
        "    return \"Similar\"\n",
        "  else:\n",
        "    return \"Not Similar\"\n",
        "\n",
        "\n",
        "print('==============Test Case 1=============')\n",
        "building_1 = createList(np.array(['Red', 'Green', 'Yellow', 'Red', 'Blue', 'Green']))\n",
        "building_2 = createList(np.array(['Red', 'Green', 'Yellow', 'Red', 'Blue', 'Green']))\n",
        "print('Building 1: ', end = ' ')\n",
        "printLinkedList(building_1)\n",
        "print('Building 2: ', end = ' ')\n",
        "printLinkedList(building_2)\n",
        "returned_value = check_similar(building_1, building_2)\n",
        "print(returned_value) #This should print 'Similar'\n",
        "unittest.output_test(returned_value, 'Similar')\n",
        "print()\n",
        "\n",
        "print('==============Test Case 2=============')\n",
        "building_1 = createList(np.array(['Red', 'Green', 'Yellow', 'Red', 'Yellow', 'Green']))\n",
        "building_2 = createList(np.array(['Red', 'Green', 'Yellow', 'Red', 'Blue', 'Green']))\n",
        "print('Building 1: ', end = ' ')\n",
        "printLinkedList(building_1)\n",
        "print('Building 2: ', end = ' ')\n",
        "printLinkedList(building_2)\n",
        "returned_value = check_similar(building_1, building_2)\n",
        "print(returned_value) #This should print 'Not Similar'\n",
        "unittest.output_test(returned_value, 'Not Similar')\n",
        "print()\n",
        "\n",
        "print('==============Test Case 3=============')\n",
        "building_1 = createList(np.array(['Red', 'Green', 'Yellow', 'Red', 'Blue', 'Green']))\n",
        "building_2 = createList(np.array(['Red', 'Green', 'Yellow', 'Red', 'Blue', 'Green', 'Blue']))\n",
        "print('Building 1: ', end = ' ')\n",
        "printLinkedList(building_1)\n",
        "print('Building 2: ', end = ' ')\n",
        "printLinkedList(building_2)\n",
        "returned_value = check_similar(building_1, building_2)\n",
        "print(returned_value) #This should print 'Not Similar'\n",
        "unittest.output_test(returned_value, 'Not Similar')\n",
        "print()\n",
        "\n",
        "print('==============Test Case 4=============')\n",
        "building_1 = createList(np.array(['Red', 'Green', 'Yellow', 'Red', 'Blue', 'Green', 'Blue']))\n",
        "building_2 = createList(np.array(['Red', 'Green', 'Yellow', 'Red', 'Blue', 'Green']))\n",
        "print('Building 1: ', end = ' ')\n",
        "printLinkedList(building_1)\n",
        "print('Building 2: ', end = ' ')\n",
        "printLinkedList(building_2)\n",
        "returned_value = check_similar(building_1, building_2)\n",
        "print(returned_value) #This should print 'Not Similar'\n",
        "unittest.output_test(returned_value, 'Not Similar')\n",
        "print()"
      ]
    },
    {
      "cell_type": "markdown",
      "metadata": {
        "id": "KXf5NwHJjrga"
      },
      "source": [
        "Task 2: Remove Compartment"
      ]
    },
    {
      "cell_type": "code",
      "execution_count": 69,
      "metadata": {
        "colab": {
          "base_uri": "https://localhost:8080/"
        },
        "id": "RZFDGPlGkC9M",
        "outputId": "8dbc147f-ece1-44f5-914b-49c4ac815076"
      },
      "outputs": [
        {
          "name": "stdout",
          "output_type": "stream",
          "text": [
            "==============Test Case 1=============\n",
            "Original Compartment Sequence:  10-->15-->34-->41-->56-->72\n",
            "\n",
            "Changed Compartment Sequence:  56-->72\n",
            "\n",
            "\n",
            "==============Test Case 2=============\n",
            "Original Compartment Sequence:  10-->15-->34-->41-->56-->72\n",
            "\n",
            "Changed Compartment Sequence:  10-->15-->34-->41-->56-->72\n",
            "\n",
            "\n",
            "==============Test Case 3=============\n",
            "Original Compartment Sequence:  10-->15-->34-->41-->56-->72\n",
            "\n",
            "Changed Compartment Sequence:  15-->34-->41-->56-->72\n",
            "\n",
            "\n"
          ]
        }
      ],
      "source": [
        "def remove_compartment(head,n):\n",
        "  #TO DO\n",
        "  cur=head\n",
        "  count=0\n",
        "  while cur!=None:\n",
        "    count+=1\n",
        "    cur=cur.next\n",
        "  x=count-n\n",
        "  nt=0\n",
        "  cur=head\n",
        "  if n>count:\n",
        "    return cur\n",
        "  while cur.next!=None:\n",
        "    if x==0:\n",
        "      temp=cur.next\n",
        "      return temp\n",
        "    else:\n",
        "      if nt==(x-1):\n",
        "        temp=cur\n",
        "      if nt==x:\n",
        "        temp=temp.next\n",
        "        return temp\n",
        "      cur=cur.next\n",
        "      nt+=1\n",
        "print('==============Test Case 1=============')\n",
        "head = createList(np.array([10,15,34,41,56,72]))\n",
        "print('Original Compartment Sequence: ', end = ' ')\n",
        "printLinkedList(head)\n",
        "head = remove_compartment(head,2)\n",
        "print('Changed Compartment Sequence: ', end = ' ')\n",
        "printLinkedList(head) #This should print 10-->15-->34-->41-->72\n",
        "print()\n",
        "print('==============Test Case 2=============')\n",
        "head = createList(np.array([10,15,34,41,56,72]))\n",
        "print('Original Compartment Sequence: ', end = ' ')\n",
        "printLinkedList(head)\n",
        "head = remove_compartment(head,7)\n",
        "print('Changed Compartment Sequence: ', end = ' ')\n",
        "printLinkedList(head) #This should print 10-->15-->34-->41-->56-->72\n",
        "print()\n",
        "print('==============Test Case 3=============')\n",
        "head = createList(np.array([10,15,34,41,56,72]))\n",
        "print('Original Compartment Sequence: ', end = ' ')\n",
        "printLinkedList(head)\n",
        "head = remove_compartment(head,6)\n",
        "print('Changed Compartment Sequence: ', end = ' ')\n",
        "printLinkedList(head) #This should print 15-->34-->41-->56-->72\n",
        "print()"
      ]
    },
    {
      "cell_type": "markdown",
      "metadata": {
        "id": "1ru-53ewkgET"
      },
      "source": [
        "Task 3: Assemble Conga Line"
      ]
    },
    {
      "cell_type": "code",
      "execution_count": 46,
      "metadata": {
        "colab": {
          "base_uri": "https://localhost:8080/"
        },
        "id": "el2Iqez0kmfD",
        "outputId": "2797ad92-daa4-481c-930b-bee0e57ff1a7"
      },
      "outputs": [
        {
          "name": "stdout",
          "output_type": "stream",
          "text": [
            "==============Test Case 1=============\n",
            "Original Conga Line:  10-->15-->34-->41-->56-->72\n",
            "\n",
            "True\n",
            "Accepted\n",
            "\n",
            "==============Test Case 2=============\n",
            "Original Conga Line:  10-->15-->44-->41-->56-->72\n",
            "\n",
            "False\n",
            "Accepted\n",
            "\n"
          ]
        }
      ],
      "source": [
        "def assemble_conga_line(conga_line):\n",
        "  #TO DO\n",
        "  flag=True\n",
        "  temp=conga_line\n",
        "  while temp.next!=None:\n",
        "    #before=temp\n",
        "    a=temp.elem\n",
        "    temp=temp.next\n",
        "    b=temp.elem\n",
        "    if a>b:\n",
        "      flag=False\n",
        "      break\n",
        "\n",
        "  return flag\n",
        "\n",
        "print('==============Test Case 1=============')\n",
        "conga_line = createList(np.array([10,15,34,41,56,72]))\n",
        "print('Original Conga Line: ', end = ' ')\n",
        "printLinkedList(conga_line)\n",
        "returned_value = assemble_conga_line(conga_line)\n",
        "print(returned_value) #This should print True\n",
        "unittest.output_test(returned_value, True)\n",
        "print()\n",
        "print('==============Test Case 2=============')\n",
        "conga_line = createList(np.array([10,15,44,41,56,72]))\n",
        "print('Original Conga Line: ', end = ' ')\n",
        "printLinkedList(conga_line)\n",
        "returned_value = assemble_conga_line(conga_line)\n",
        "print(returned_value) #This should print False\n",
        "unittest.output_test(returned_value, False)\n",
        "print()"
      ]
    },
    {
      "cell_type": "markdown",
      "metadata": {
        "id": "iD_ytSvbloPy"
      },
      "source": [
        "Task 4: Word Decoder"
      ]
    },
    {
      "cell_type": "code",
      "execution_count": 57,
      "metadata": {
        "colab": {
          "base_uri": "https://localhost:8080/"
        },
        "id": "PU6PxoNllxdf",
        "outputId": "b0557f41-4780-4d30-ab37-5b56d96e5174"
      },
      "outputs": [
        {
          "name": "stdout",
          "output_type": "stream",
          "text": [
            "==============Test Case 1=============\n",
            "Encoded Word:\n",
            "B-->M-->D-->T-->N-->O-->A-->P-->S-->C\n",
            "\n",
            "Decoded Word:\n",
            "None-->C-->A-->T\n",
            "\n",
            "==============Test Case 2=============\n",
            "Encoded Word:\n",
            "Z-->O-->T-->N-->X\n",
            "\n",
            "Decoded Word:\n",
            "None-->N\n",
            "\n"
          ]
        }
      ],
      "source": [
        "def word_Decoder(head):\n",
        "  #TO-DO\n",
        "  cur1=head\n",
        "  count=0\n",
        "  dummy=Node(0)\n",
        "  while cur1!=None:\n",
        "    count+=1\n",
        "    cur1=cur1.next\n",
        "  x=13%count\n",
        "  ct=0\n",
        "  cur1=head\n",
        "  dummy_tail=dummy\n",
        "  while cur1!=None:\n",
        "    if ct%x==0 and ct>0:\n",
        "      newNode=Node(None)\n",
        "      dummy_tail.next=newNode\n",
        "      dummy_tail.elem=cur1.elem\n",
        "      dummy_tail=newNode\n",
        "    cur1=cur1.next\n",
        "    ct+=1\n",
        "  def reverse_list(dummy_h):\n",
        "    new_head=None\n",
        "    temp=dummy_h\n",
        "    while temp!=None:\n",
        "      n=temp.next\n",
        "      temp.next=new_head\n",
        "      new_head=temp\n",
        "      temp=n\n",
        "    return new_head\n",
        "  result=reverse_list(dummy)\n",
        "  return result\n",
        "\n",
        "\n",
        "#Driver Code\n",
        "print('==============Test Case 1=============')\n",
        "head = createList(np.array(['B', 'M', 'D', 'T', 'N', 'O', 'A', 'P', 'S', 'C']))\n",
        "print(\"Encoded Word:\")\n",
        "printLinkedList(head) #This should print B→M→D→T→N→O→A→P→S→C\n",
        "\n",
        "result = word_Decoder(head)\n",
        "print(\"Decoded Word:\")\n",
        "printLinkedList(result)    #This should print None→C→A→T\n",
        "\n",
        "print('==============Test Case 2=============')\n",
        "\n",
        "head = createList(np.array(['Z', 'O', 'T', 'N', 'X']))\n",
        "print(\"Encoded Word:\")\n",
        "printLinkedList(head) #This should print Z→O→T→N→X\n",
        "\n",
        "result = word_Decoder(head)\n",
        "print(\"Decoded Word:\")\n",
        "printLinkedList(result)    #This should print None→N\n",
        "\n"
      ]
    },
    {
      "cell_type": "markdown",
      "metadata": {
        "id": "KH4qPwI-nIN4"
      },
      "source": [
        "Task 5: Alternate Merge"
      ]
    },
    {
      "cell_type": "code",
      "execution_count": 70,
      "metadata": {
        "colab": {
          "base_uri": "https://localhost:8080/"
        },
        "id": "0D7bZtp1nMRI",
        "outputId": "c5dd4960-df19-4ef7-fb91-9178783be74b"
      },
      "outputs": [
        {
          "name": "stdout",
          "output_type": "stream",
          "text": [
            "==============Test Case 1=============\n",
            "Linked List 1:\n",
            "1-->2-->6-->8-->11\n",
            "\n",
            "Linked List 2:\n",
            "5-->7-->3-->9-->4\n",
            "\n",
            "Merged Linked List:\n",
            "1-->5-->2-->7-->6-->3-->8-->9-->11-->4\n",
            "\n",
            "==============Test Case 2=============\n",
            "Linked List 1:\n",
            "5-->3-->2-->-4\n",
            "\n",
            "Linked List 2:\n",
            "-4-->-6-->1\n",
            "\n",
            "Merged Linked List:\n",
            "5-->-4-->3-->-6-->2-->1\n",
            "\n",
            "==============Test Case 3=============\n",
            "Linked List 1:\n",
            "4-->2-->-2-->-4\n",
            "\n",
            "Linked List 2:\n",
            "8-->6-->5-->-3\n",
            "\n",
            "Merged Linked List:\n",
            "4-->8-->2-->6-->-2-->5-->-4-->-3\n",
            "\n"
          ]
        }
      ],
      "source": [
        "def alternate_merge(head1, head2):\n",
        "  #TO DO\n",
        "  cur1=head1\n",
        "  cur2=head2\n",
        "  count1=0\n",
        "  count2=0\n",
        "  while cur1!=None:\n",
        "    count1+=1\n",
        "    cur1=cur1.next\n",
        "  while cur2!=None:\n",
        "    count2+=1\n",
        "    cur2=cur2.next\n",
        "  cur1=head1\n",
        "  cur2=head2\n",
        "  x=0\n",
        "  while cur1!=None:\n",
        "    temp=cur1.next\n",
        "    cur1.next=cur2\n",
        "    if cur2.next!=None:\n",
        "      cur2=cur2.next\n",
        "    if cur1.next!=None:\n",
        "      cur1.next.next=temp\n",
        "    if x==(count1+count2)-1:\n",
        "      cur1.next.elem=None\n",
        "\n",
        "    cur1=temp\n",
        "    x+=1\n",
        "  return head1\n",
        "\n",
        "print('==============Test Case 1=============')\n",
        "head1 = createList(np.array([1,2,6,8,11]))\n",
        "head2 = createList(np.array([5,7,3,9,4]))\n",
        "\n",
        "print(\"Linked List 1:\")\n",
        "printLinkedList(head1)\n",
        "print(\"Linked List 2:\")\n",
        "printLinkedList(head2)\n",
        "\n",
        "head = alternate_merge(head1, head2)\n",
        "print(\"Merged Linked List:\")\n",
        "printLinkedList(head)    #This should print    1 --> 5 --> 2 --> 7 --> 6 --> 3 --> 8 --> 9 --> 11 --> 4\n",
        "\n",
        "\n",
        "print('==============Test Case 2=============')\n",
        "head1 = createList(np.array([5, 3, 2, -4]))\n",
        "head2 = createList(np.array([-4, -6, 1]))\n",
        "\n",
        "print(\"Linked List 1:\")\n",
        "printLinkedList(head1)\n",
        "print(\"Linked List 2:\")\n",
        "printLinkedList(head2)\n",
        "\n",
        "head = alternate_merge(head1, head2)\n",
        "print(\"Merged Linked List:\")\n",
        "printLinkedList(head)    #This should print    5 → -4 -> 3 → -6 -> 2 -> 1 -> -4\n",
        "\n",
        "\n",
        "print('==============Test Case 3=============')\n",
        "head1 = createList(np.array([4, 2, -2, -4]))\n",
        "head2 = createList(np.array([8, 6, 5, -3]))\n",
        "\n",
        "print(\"Linked List 1:\")\n",
        "printLinkedList(head1)\n",
        "print(\"Linked List 2:\")\n",
        "printLinkedList(head2)\n",
        "\n",
        "head = alternate_merge(head1, head2)\n",
        "print(\"Merged Linked List:\")\n",
        "printLinkedList(head)    #This should print   4-> 8 → 2-> 6 → -2 → 5 → -4 -> -3\n"
      ]
    },
    {
      "cell_type": "markdown",
      "metadata": {
        "id": "g8b2lKE5o4HE"
      },
      "source": [
        "Task 6: Sum of Nodes"
      ]
    },
    {
      "cell_type": "code",
      "execution_count": null,
      "metadata": {
        "colab": {
          "base_uri": "https://localhost:8080/"
        },
        "id": "AeUE5H0so6oP",
        "outputId": "8f099ba4-351a-4c2e-89f6-dac50a3746fa"
      },
      "outputs": [
        {
          "name": "stdout",
          "output_type": "stream",
          "text": [
            "==============Test Case 1=============\n",
            "Sum of Nodes: 4\n",
            "Accepted\n",
            "\n"
          ]
        }
      ],
      "source": [
        "def sum_dist(head, arr):\n",
        "  #TO DO\n",
        "  sum=0\n",
        "  for i in range(len(arr)):\n",
        "    cur1=head\n",
        "    count=0\n",
        "    while cur1!=None:\n",
        "        if count==arr[i]:\n",
        "          sum+=cur1.elem\n",
        "          break\n",
        "        else:\n",
        "            pass\n",
        "        cur1=cur1.next\n",
        "        count+=1\n",
        "  return sum\n",
        "\n",
        "\n",
        "\n",
        "print('==============Test Case 1=============')\n",
        "LL1 = createList(np.array([10,16,-5,9,3,4]))\n",
        "dist = np.array([2,0,5,2,8])\n",
        "returned_value = sum_dist(LL1, dist)\n",
        "print(f'Sum of Nodes: {returned_value}') #This should print Sum of Nodes: 4\n",
        "unittest.output_test(returned_value, 4)\n",
        "print()"
      ]
    },
    {
      "cell_type": "markdown",
      "metadata": {
        "id": "pNihvj0mqZGx"
      },
      "source": [
        "Bonus Task: ID Generator"
      ]
    },
    {
      "cell_type": "code",
      "execution_count": 77,
      "metadata": {
        "colab": {
          "base_uri": "https://localhost:8080/"
        },
        "id": "RxtRlCVCqcHV",
        "outputId": "b852b307-37d0-4b41-e46a-f3a6fc8ef912"
      },
      "outputs": [
        {
          "name": "stdout",
          "output_type": "stream",
          "text": [
            "==============Test Case 1=============\n",
            "Linked List 1:\n",
            "0-->3-->2-->2\n",
            "\n",
            "Linked List 2:\n",
            "5-->2-->2-->1\n",
            "\n",
            "Linked List 3:\n",
            "4-->3-->2-->1\n",
            "\n",
            "New ID:\n",
            "9-->5-->4-->2-->0\n",
            "\n",
            "==============Test Case 2=============\n",
            "Linked List 1:\n",
            "0-->3-->9-->1\n",
            "\n",
            "Linked List 2:\n",
            "3-->6-->5-->7\n",
            "\n",
            "Linked List 3:\n",
            "2-->4-->3-->8\n",
            "\n",
            "New ID:\n",
            "5-->10-->8-->15-->0\n",
            "\n"
          ]
        }
      ],
      "source": [
        "def idGenerator(head1, head2, head3):\n",
        "  #TO DO\n",
        "  cur1=head1\n",
        "  cur2=head2\n",
        "  cur3=head3\n",
        "  dummy=Node(0)\n",
        "  dummy_tail=dummy\n",
        "  while cur2 and cur3:\n",
        "    newnode=Node(0)\n",
        "    dummy_tail.next=newnode\n",
        "    x=cur2.elem+cur3.elem\n",
        "    if x>10:\n",
        "      dummy_tail.elem=(x%10)\n",
        "    dummy_tail.elem=(cur2.elem+cur3.elem)\n",
        "    dummy_tail=newnode\n",
        "    cur2=cur2.next\n",
        "    cur3=cur3.next\n",
        "    cur=dummy\n",
        "  return dummy\n",
        "\n",
        "\n",
        "\n",
        "print('==============Test Case 1=============')\n",
        "head1 = createList(np.array([0,3,2,2]))\n",
        "head2 = createList(np.array([5,2,2,1]))\n",
        "head3 = createList(np.array([4,3,2,1]))\n",
        "\n",
        "print(\"Linked List 1:\")\n",
        "printLinkedList(head1)\n",
        "print(\"Linked List 2:\")\n",
        "printLinkedList(head2)\n",
        "print(\"Linked List 3:\")\n",
        "printLinkedList(head3)\n",
        "\n",
        "result = idGenerator(head1, head2, head3)\n",
        "print(\"New ID:\")\n",
        "printLinkedList(result)    #This should print  2 → 2 → 3 → 0 → 9 → 5 → 4 → 2\n",
        "\n",
        "\n",
        "print('==============Test Case 2=============')\n",
        "head1 = createList(np.array([0,3,9,1]))\n",
        "head2 = createList(np.array([3,6,5,7]))\n",
        "head3 = createList(np.array([2,4,3,8]))\n",
        "\n",
        "print(\"Linked List 1:\")\n",
        "printLinkedList(head1)\n",
        "print(\"Linked List 2:\")\n",
        "printLinkedList(head2)\n",
        "print(\"Linked List 3:\")\n",
        "printLinkedList(head3)\n",
        "\n",
        "result = idGenerator(head1, head2, head3)\n",
        "print(\"New ID:\")\n",
        "printLinkedList(result)    #This should print 1 → 9 → 3 → 0 → 5 → 0 → 8 → 5"
      ]
    }
  ],
  "metadata": {
    "colab": {
      "provenance": []
    },
    "kernelspec": {
      "display_name": "Python 3",
      "name": "python3"
    },
    "language_info": {
      "codemirror_mode": {
        "name": "ipython",
        "version": 3
      },
      "file_extension": ".py",
      "mimetype": "text/x-python",
      "name": "python",
      "nbconvert_exporter": "python",
      "pygments_lexer": "ipython3",
      "version": "3.11.5"
    }
  },
  "nbformat": 4,
  "nbformat_minor": 0
}
