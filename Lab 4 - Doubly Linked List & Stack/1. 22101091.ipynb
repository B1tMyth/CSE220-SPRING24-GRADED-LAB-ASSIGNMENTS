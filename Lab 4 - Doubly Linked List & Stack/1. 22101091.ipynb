{
  "cells": [
    {
      "cell_type": "markdown",
      "metadata": {},
      "source": [
        "#### Part 1\n",
        "#### Task 2(f): Doesn't reverse the line instead print the DHDCLL in reverse order. \n",
        "#### Part 2\n",
        "#### Task 3: Wrong answer. Should have used \"and\" instead of \"or\" but the logic could have been much cleaner. A better logic could have been keep adding to the resultant stack before ensuring the inequality between the peak element of the resultant stack and the element to be inserted. "
      ]
    },
    {
      "cell_type": "code",
      "execution_count": null,
      "metadata": {
        "colab": {
          "base_uri": "https://localhost:8080/"
        },
        "id": "Pp1R95Pe7ID2",
        "outputId": "b54ddfbd-b6ea-41b6-99b3-20ba36cf0ede"
      },
      "outputs": [
        {
          "name": "stdout",
          "output_type": "stream",
          "text": [
            "Collecting fhm-unittest\n",
            "  Downloading fhm_unittest-1.0.1-py3-none-any.whl (2.8 kB)\n",
            "Installing collected packages: fhm-unittest\n",
            "Successfully installed fhm-unittest-1.0.1\n",
            "Collecting fuzzywuzzy\n",
            "  Downloading fuzzywuzzy-0.18.0-py2.py3-none-any.whl (18 kB)\n",
            "Installing collected packages: fuzzywuzzy\n",
            "Successfully installed fuzzywuzzy-0.18.0\n"
          ]
        },
        {
          "name": "stderr",
          "output_type": "stream",
          "text": [
            "/usr/local/lib/python3.10/dist-packages/fuzzywuzzy/fuzz.py:11: UserWarning: Using slow pure-python SequenceMatcher. Install python-Levenshtein to remove this warning\n",
            "  warnings.warn('Using slow pure-python SequenceMatcher. Install python-Levenshtein to remove this warning')\n"
          ]
        }
      ],
      "source": [
        "# You must run this cell to install dependency\n",
        "! pip3 install fhm-unittest\n",
        "! pip3 install fuzzywuzzy\n",
        "import fhm_unittest as unittest\n",
        "import numpy as np"
      ]
    },
    {
      "cell_type": "markdown",
      "metadata": {
        "id": "A1zD8GyBKEdA"
      },
      "source": [
        "**Assignment Part 1: Doubly Linked List**"
      ]
    },
    {
      "cell_type": "markdown",
      "metadata": {
        "id": "z4q4a-vSNoII"
      },
      "source": [
        "For Assignment Part 1, you should write your full code in the following cells along with your driver codes on your own."
      ]
    },
    {
      "cell_type": "code",
      "execution_count": null,
      "metadata": {
        "id": "itoWpG7oNziA"
      },
      "outputs": [],
      "source": [
        "#Assignment Part 1\n",
        "class Patient:\n",
        "    def __init__(self,id,name,age,bloodgroup):\n",
        "        self.id = id\n",
        "        self.name= name\n",
        "        self.age = age\n",
        "        self.bloodgroup = bloodgroup\n",
        "        self.next = None\n",
        "        self.prev = None\n",
        "\n",
        "\n",
        "\n"
      ]
    },
    {
      "cell_type": "code",
      "execution_count": null,
      "metadata": {
        "id": "dNx7zTJ1OZNv"
      },
      "outputs": [],
      "source": [
        "class WRM:\n",
        "\n",
        "    def __init__(self):\n",
        "        self.head = Patient(None,None,None,None)\n",
        "        self.head.next= self.head\n",
        "        self.head.prev= self.head\n",
        "\n",
        "\n",
        "\n",
        "    def registerPatient(self,id, name, age, bloodgroup):\n",
        "        new_patient=Patient(id,name,age,bloodgroup)\n",
        "        new_patient.next = self.head\n",
        "        new_patient.prev = self.head.prev\n",
        "        self.head.prev.next= new_patient\n",
        "        self.head.prev = new_patient\n",
        "\n",
        "\n",
        "\n",
        "\n",
        "    def servePatient(self):\n",
        "        if self.head.next != self.head:\n",
        "            serving_patient = self.head.next\n",
        "            self.head.next = serving_patient.next\n",
        "            serving_patient.next.prev = self.head\n",
        "            return serving_patient.name\n",
        "        return \"No patients to serve\"\n",
        "\n",
        "    def showAllPatient(self):\n",
        "        current_patient = self.head.next\n",
        "        while current_patient != self.head:\n",
        "            print(current_patient.name)\n",
        "            current_patient = current_patient.next\n",
        "\n",
        "\n",
        "\n",
        "\n",
        "\n",
        "    def canDoctorGoHome(self):\n",
        "        return self.head.next== self.head\n",
        "\n",
        "\n",
        "    def cancelAll(self):\n",
        "        self.head.next = self.head\n",
        "        self.head.prev = self.head\n",
        "\n",
        "    def ReverseTheLine(self):\n",
        "        if self.head.next != self.head:\n",
        "            current_patient = self.head.prev\n",
        "            while current_patient != self.head:\n",
        "                print(current_patient.name)\n",
        "                current_patient = current_patient.prev\n"
      ]
    },
    {
      "cell_type": "code",
      "execution_count": null,
      "metadata": {
        "colab": {
          "base_uri": "https://localhost:8080/"
        },
        "id": "jKhbn1LAPfjr",
        "outputId": "e8ffbc0e-6022-4b7d-a1d1-2f4aae20fd89"
      },
      "outputs": [
        {
          "name": "stdout",
          "output_type": "stream",
          "text": [
            "**Welcome to Waiting Room Management System**\n",
            "\n",
            "Options:\n",
            "1. Add Patient\n",
            "2. Serve Patient\n",
            "3. Show All Patients\n",
            "4. Can Doctor Go Home?\n",
            "5. Cancel All Appointments\n",
            "6. Reverse The Line\n",
            "7. Quit\n",
            "Enter your choice: 7\n"
          ]
        }
      ],
      "source": [
        "#Write a Tester Code in this cell\n",
        "print(\"**Welcome to Waiting Room Management System**\")\n",
        "wrm = WRM()\n",
        "while True:\n",
        "    print(\"\\nOptions:\")\n",
        "    print(\"1. Add Patient\")\n",
        "    print(\"2. Serve Patient\")\n",
        "    print(\"3. Show All Patients\")\n",
        "    print(\"4. Can Doctor Go Home?\")\n",
        "    print(\"5. Cancel All Appointments\")\n",
        "    print(\"6. Reverse The Line\")\n",
        "    print(\"7. Quit\")\n",
        "\n",
        "    option = input(\"Enter your choice: \")\n",
        "    if option == \"1\":\n",
        "        id = int(input(\"Enter patient ID: \"))\n",
        "        name = input(\"Enter patient name: \")\n",
        "        age = int(input(\"Enter patient age: \"))\n",
        "        bloodgroup = input(\"Enter patient blood group: \")\n",
        "        wrm.RegisterPatient(id, name, age, bloodgroup)\n",
        "        print(\"Patient added successfully.\")\n",
        "    elif option == \"2\":\n",
        "        served_patient = wrm.ServePatient()\n",
        "        print(f\"Serving patient: {served_patient}\")\n",
        "    elif option == \"3\":\n",
        "        print(\"Patients in sequence to serve:\")\n",
        "        wrm.ShowAllPatients()\n",
        "    elif option == \"4\":\n",
        "        if wrm.canDoctorGoHome():\n",
        "            print(\"Yes, the doctor can go home.\")\n",
        "        else:\n",
        "            print(\"No, there are patients waiting.\")\n",
        "    elif option == \"5\":\n",
        "        wrm.cancelAll()\n",
        "        print(\"All appointments canceled.\")\n",
        "    elif option == \"6\":\n",
        "        print(\"Reversed patient line:\")\n",
        "        wrm.ReverseTheLine()\n",
        "    elif option == \"7\":\n",
        "        break\n"
      ]
    },
    {
      "cell_type": "markdown",
      "metadata": {
        "id": "CJWd_j6YEnPn"
      },
      "source": [
        "**Assignment Part 2: Stack**\n",
        "\n",
        "Linked List based Stack is implemented in the following cell."
      ]
    },
    {
      "cell_type": "code",
      "execution_count": 2,
      "metadata": {
        "id": "KHLhs5x0D-O6"
      },
      "outputs": [],
      "source": [
        "class Node:\n",
        "  def __init__(self,elem=None,next=None):\n",
        "    self.elem = elem\n",
        "    self.next = next\n",
        "\n",
        "class Stack:\n",
        "  def __init__(self):\n",
        "    self.__top = None\n",
        "\n",
        "  def push(self,elem):\n",
        "    nn = Node(elem,self.__top)\n",
        "    self.__top = nn\n",
        "\n",
        "  def pop(self):\n",
        "    if self.__top == None:\n",
        "      #print('Stack Underflow')\n",
        "      return None\n",
        "    e = self.__top\n",
        "    self.__top = self.__top.next\n",
        "    e.next = None\n",
        "    return e.elem\n",
        "\n",
        "  def peek(self):\n",
        "    if self.__top == None:\n",
        "      #print('Stack Underflow')\n",
        "      return None\n",
        "    return self.__top.elem\n",
        "\n",
        "  def isEmpty(self):\n",
        "    return self.__top == None\n"
      ]
    },
    {
      "cell_type": "code",
      "execution_count": 3,
      "metadata": {
        "colab": {
          "base_uri": "https://localhost:8080/"
        },
        "id": "4XkuMA7gEjE7",
        "outputId": "13f3682d-26d8-4142-f7a9-91e16dfb8dac"
      },
      "outputs": [
        {
          "name": "stdout",
          "output_type": "stream",
          "text": [
            "Peeked Element:  9\n",
            "Popped Element:  9\n",
            "Popped Element:  1\n",
            "Popped Element:  5\n",
            "Peeked Element:  3\n",
            "Popped Element:  3\n",
            "Popped Element:  4\n",
            "Peeked Element:  None\n",
            "Popped Element:  None\n",
            "True\n"
          ]
        }
      ],
      "source": [
        "#You can run this driver code cell to understand the methods of Stack class\n",
        "st = Stack()\n",
        "st.push(4)\n",
        "st.push(3)\n",
        "st.push(5)\n",
        "st.push(1)\n",
        "st.push(9)\n",
        "\n",
        "print('Peeked Element: ',st.peek())\n",
        "print('Popped Element: ',st.pop())\n",
        "print('Popped Element: ',st.pop())\n",
        "print('Popped Element: ',st.pop())\n",
        "print('Peeked Element: ',st.peek())\n",
        "print('Popped Element: ',st.pop())\n",
        "print('Popped Element: ',st.pop())\n",
        "print('Peeked Element: ',st.peek())\n",
        "print('Popped Element: ',st.pop())\n",
        "print(st.isEmpty())"
      ]
    },
    {
      "cell_type": "markdown",
      "metadata": {
        "id": "xrfONLccG9Gi"
      },
      "source": [
        "You can print your stack using this code segment"
      ]
    },
    {
      "cell_type": "code",
      "execution_count": 4,
      "metadata": {
        "id": "S-EembO_GsWA"
      },
      "outputs": [],
      "source": [
        "def print_stack(st):\n",
        "  if st.isEmpty():\n",
        "    return\n",
        "  p = st.pop()\n",
        "  print('|',p,end=' ')\n",
        "  if p<10:\n",
        "    print(' |')\n",
        "  else:\n",
        "    print('|')\n",
        "  #print('------')\n",
        "  print_stack(st)\n",
        "  st.push(p)\n",
        "\n",
        "# st = Stack()\n",
        "# st.push(4)\n",
        "# st.push(3)\n",
        "# st.push(5)\n",
        "# st.push(1)\n",
        "# st.push(9)\n",
        "# print_stack(st)\n",
        "# print('------')"
      ]
    },
    {
      "cell_type": "markdown",
      "metadata": {
        "id": "iNMnfqqpIga2"
      },
      "source": [
        "Task 1: Diamond Count"
      ]
    },
    {
      "cell_type": "code",
      "execution_count": 8,
      "metadata": {
        "colab": {
          "base_uri": "https://localhost:8080/"
        },
        "id": "GnX70OIvG_gZ",
        "outputId": "a5ff1a88-100b-49d0-85d3-f9f7e986da86"
      },
      "outputs": [
        {
          "name": "stdout",
          "output_type": "stream",
          "text": [
            "Test 01\n",
            "Number of Diamonds: 3\n",
            "-----------------------------------------\n",
            "Test 02\n",
            "Number of Diamonds: 1\n",
            "-----------------------------------------\n",
            "Test 03\n",
            "Number of Diamonds: 3\n",
            "-----------------------------------------\n"
          ]
        }
      ],
      "source": [
        "def diamond_count(stack,string):\n",
        "    count = 0\n",
        "    for i in string:\n",
        "        if i == \"<\":\n",
        "            stack.push(\"<\")\n",
        "        elif i == \">\":\n",
        "            if not stack.isEmpty():\n",
        "                stack.pop()\n",
        "                count += 1\n",
        "    return count\n",
        "\n",
        "\n",
        "\n",
        "\n",
        "print('Test 01')\n",
        "stack = Stack()\n",
        "string = '<..><.<..>> '\n",
        "returned_value = diamond_count(stack,string)\n",
        "print(f'Number of Diamonds: {returned_value}') #This should print 3\n",
        "unittest.output_test(returned_value, 3)\n",
        "print('-----------------------------------------')\n",
        "\n",
        "\n",
        "print('Test 02')\n",
        "stack = Stack()\n",
        "string = '<<<..<......<<<<....>'\n",
        "returned_value = diamond_count(stack,string)\n",
        "print(f'Number of Diamonds: {returned_value}') #This should print 1\n",
        "unittest.output_test(returned_value, 1)\n",
        "print('-----------------------------------------')\n",
        "\n",
        "\n",
        "print('Test 03')\n",
        "stack = Stack()\n",
        "string = '>>><...<<..>>...>...>>>'\n",
        "returned_value = diamond_count(stack,string)\n",
        "print(f'Number of Diamonds: {returned_value}') #This should print 3\n",
        "unittest.output_test(returned_value, 3)\n",
        "print('-----------------------------------------')"
      ]
    },
    {
      "cell_type": "markdown",
      "metadata": {
        "id": "PhCF3SZ6IX5g"
      },
      "source": [
        "Task 2: Tower of Blocks"
      ]
    },
    {
      "cell_type": "code",
      "execution_count": 9,
      "metadata": {
        "colab": {
          "base_uri": "https://localhost:8080/"
        },
        "id": "W3N4q7YAHExr",
        "outputId": "841b1a1c-31ac-4415-f532-3af4ddbd4064"
      },
      "outputs": [
        {
          "name": "stdout",
          "output_type": "stream",
          "text": [
            "Test 01\n",
            "Stack:\n",
            "| 5  |\n",
            "| 17 |\n",
            "| 23 |\n",
            "| 19 |\n",
            "| 4  |\n",
            "------\n",
            "After Removal\n",
            "| 5  |\n",
            "| 23 |\n",
            "| 19 |\n",
            "| 4  |\n",
            "------\n",
            "\n",
            "======================================\n",
            "\n",
            "Test 02\n",
            "Stack:\n",
            "| 41 |\n",
            "| 15 |\n",
            "| 85 |\n",
            "| 73 |\n",
            "------\n",
            "After Removal\n",
            "| 41 |\n",
            "| 15 |\n",
            "| 73 |\n",
            "------\n",
            "\n",
            "======================================\n",
            "\n"
          ]
        }
      ],
      "source": [
        "def remove_block(stack, n):\n",
        "    temp_box = Stack()\n",
        "\n",
        "    for i in range(n - 1):\n",
        "        temp_box.push(stack.pop())\n",
        "    stack.pop()\n",
        "\n",
        "    while not temp_box.isEmpty():\n",
        "        stack.push(temp_box.pop())\n",
        "\n",
        "print('Test 01')\n",
        "st = Stack()\n",
        "st.push(4)\n",
        "st.push(19)\n",
        "st.push(23)\n",
        "st.push(17)\n",
        "st.push(5)\n",
        "print('Stack:')\n",
        "print_stack(st)\n",
        "print('------')\n",
        "remove_block(st,2)\n",
        "print('After Removal')\n",
        "print_stack(st)\n",
        "print('------')\n",
        "\n",
        "print()\n",
        "print('======================================')\n",
        "print()\n",
        "\n",
        "print('Test 02')\n",
        "st = Stack()\n",
        "st.push(73)\n",
        "st.push(85)\n",
        "st.push(15)\n",
        "st.push(41)\n",
        "print('Stack:')\n",
        "print_stack(st)\n",
        "print('------')\n",
        "remove_block(st,3)\n",
        "print('After Removal')\n",
        "print_stack(st)\n",
        "print('------')\n",
        "\n",
        "print()\n",
        "print('======================================')\n",
        "print()"
      ]
    },
    {
      "cell_type": "markdown",
      "metadata": {
        "id": "jcngRuqUWOfl"
      },
      "source": [
        "Task 3: Stack Reverse"
      ]
    },
    {
      "cell_type": "code",
      "execution_count": 14,
      "metadata": {
        "colab": {
          "base_uri": "https://localhost:8080/"
        },
        "id": "gLSgfDKPWPnP",
        "outputId": "0e851f77-d618-4b81-b243-19927f904035"
      },
      "outputs": [
        {
          "name": "stdout",
          "output_type": "stream",
          "text": [
            "Test 01\n",
            "Stack:\n",
            "| 50 |\n",
            "| 10 |\n",
            "| 30 |\n",
            "| 20 |\n",
            "| 20 |\n",
            "| 10 |\n",
            "| 10 |\n",
            "------\n",
            "50 10\n",
            "10 30\n",
            "30 20\n",
            "20 20\n",
            "20 10\n",
            "10 10\n",
            "10 None\n",
            "Conditional Reversed Stack:\n",
            "| 20 |\n",
            "| 30 |\n",
            "| 10 |\n",
            "| 50 |\n",
            "------\n"
          ]
        }
      ],
      "source": [
        "def conditional_reverse(stack):\n",
        "    temp = Stack()\n",
        "    current = stack.pop()\n",
        "    while current is not None:\n",
        "        next = stack.peek()\n",
        "        if next is not None or next != current:\n",
        "            temp.push(current)\n",
        "        current = stack.pop()\n",
        "    return temp\n",
        "\n",
        "\n",
        "print('Test 01')\n",
        "st=Stack()\n",
        "st.push(10)\n",
        "st.push(10)\n",
        "st.push(20)\n",
        "st.push(20)\n",
        "st.push(30)\n",
        "st.push(10)\n",
        "st.push(50)\n",
        "print('Stack:')\n",
        "print_stack(st)\n",
        "print('------')\n",
        "reversed_stack=conditional_reverse(st)\n",
        "print('Conditional Reversed Stack:')\n",
        "print_stack(reversed_stack) # This stack contains 50, 10, 30, 20, 10 in this order whereas top element should be 10\n",
        "print('------')"
      ]
    }
  ],
  "metadata": {
    "colab": {
      "provenance": []
    },
    "kernelspec": {
      "display_name": "Python 3",
      "name": "python3"
    },
    "language_info": {
      "codemirror_mode": {
        "name": "ipython",
        "version": 3
      },
      "file_extension": ".py",
      "mimetype": "text/x-python",
      "name": "python",
      "nbconvert_exporter": "python",
      "pygments_lexer": "ipython3",
      "version": "3.11.5"
    }
  },
  "nbformat": 4,
  "nbformat_minor": 0
}
