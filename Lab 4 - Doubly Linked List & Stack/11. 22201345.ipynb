{
  "nbformat": 4,
  "nbformat_minor": 0,
  "metadata": {
    "colab": {
      "provenance": []
    },
    "kernelspec": {
      "name": "python3",
      "display_name": "Python 3"
    },
    "language_info": {
      "name": "python"
    }
  },
  "cells": [
    {
      "cell_type": "code",
      "execution_count": null,
      "metadata": {
        "id": "Pp1R95Pe7ID2",
        "colab": {
          "base_uri": "https://localhost:8080/"
        },
        "outputId": "8696b7dc-bca0-4def-fffa-e9c6b0893fd6"
      },
      "outputs": [
        {
          "output_type": "stream",
          "name": "stdout",
          "text": [
            "Collecting fhm-unittest\n",
            "  Downloading fhm_unittest-1.0.1-py3-none-any.whl (2.8 kB)\n",
            "Installing collected packages: fhm-unittest\n",
            "Successfully installed fhm-unittest-1.0.1\n",
            "Collecting fuzzywuzzy\n",
            "  Downloading fuzzywuzzy-0.18.0-py2.py3-none-any.whl (18 kB)\n",
            "Installing collected packages: fuzzywuzzy\n",
            "Successfully installed fuzzywuzzy-0.18.0\n"
          ]
        },
        {
          "output_type": "stream",
          "name": "stderr",
          "text": [
            "/usr/local/lib/python3.10/dist-packages/fuzzywuzzy/fuzz.py:11: UserWarning: Using slow pure-python SequenceMatcher. Install python-Levenshtein to remove this warning\n",
            "  warnings.warn('Using slow pure-python SequenceMatcher. Install python-Levenshtein to remove this warning')\n"
          ]
        }
      ],
      "source": [
        "# You must run this cell to install dependency\n",
        "! pip3 install fhm-unittest\n",
        "! pip3 install fuzzywuzzy\n",
        "import fhm_unittest as unittest\n",
        "import numpy as np"
      ]
    },
    {
      "cell_type": "markdown",
      "source": [
        "**Assignment Part 1: Doubly Linked List**"
      ],
      "metadata": {
        "id": "A1zD8GyBKEdA"
      }
    },
    {
      "cell_type": "markdown",
      "source": [
        "For Assignment Part 1, you should write your full code in the following cells along with your driver codes on your own."
      ],
      "metadata": {
        "id": "z4q4a-vSNoII"
      }
    },
    {
      "cell_type": "code",
      "source": [
        "#Assignment Part 1\n",
        "class Patient:#node\n",
        "  #write a constructor\n",
        "   def __init__(self, id, name, age, bloodgroup):\n",
        "        self.id = id\n",
        "        self.name = name\n",
        "        self.age = age\n",
        "        self.bloodgroup = bloodgroup\n",
        "        self.next=None\n",
        "        self.prev=None\n",
        "\n",
        "\n"
      ],
      "metadata": {
        "id": "itoWpG7oNziA"
      },
      "execution_count": null,
      "outputs": []
    },
    {
      "cell_type": "code",
      "source": [
        "class WRM:\n",
        "  #write a constructor\n",
        "  def __init__(self):\n",
        "        self.head = Patient(None, None, None, None)\n",
        "        self.head.next = self.head\n",
        "        self.head.prev = self.head\n",
        "\n",
        "  def RegisterPatient(self, id, name, age, b_group):\n",
        "      reg = Patient(id, name, age, b_group)\n",
        "      reg.next = self.head\n",
        "      reg.prev = self.head.prev\n",
        "      self.head.prev.next = reg\n",
        "      self.head.prev = reg\n",
        "\n",
        "  def ServePatient(self):\n",
        "      if self.head.next == self.head:\n",
        "          return None\n",
        "      else:\n",
        "          temp = self.head.next\n",
        "          self.head.next = temp.next\n",
        "          temp.next.prev = self.head\n",
        "          return temp.name\n",
        "\n",
        "  def CancelAll(self):\n",
        "      self.head.next = self.head\n",
        "      self.head.prev = self.head\n",
        "\n",
        "  def CanDoctorGoHome(self):\n",
        "    return self.head.next == self.head\n",
        "\n",
        "  def ShowAllPatient(self):\n",
        "    tail = self.head.next\n",
        "    while tail != self.head:\n",
        "      print(tail.name)\n",
        "      tail = tail.next\n",
        "\n",
        "  def ReverseTheLine(self):\n",
        "    if self.head.next != self.head and self.head.next.next != self.head:\n",
        "      first_patient = self.head.next\n",
        "      second_patient = first_patient.next\n",
        "      last_patient = self.head.prev\n",
        "\n",
        "      self.head.next = last_patient\n",
        "      last_patient.next = second_patient\n",
        "      second_patient.prev = last_patient\n",
        "      first_patient.prev = second_patient\n",
        "      second_patient.next = first_patient\n",
        "      first_patient.next = self.head\n",
        "      self.head.prev = first_patient\n",
        "\n",
        "\n",
        "\n",
        "\n"
      ],
      "metadata": {
        "id": "dNx7zTJ1OZNv"
      },
      "execution_count": null,
      "outputs": []
    },
    {
      "cell_type": "code",
      "source": [
        "#Write a Tester Code in this cell\n",
        "print(\"**Welcome to Waiting Room Management System**\")\n",
        "w = WRM()\n",
        "while(True):\n",
        "    print(\"\\n Choose Your Options:\")\n",
        "    print(\"1. Add Patient- \")\n",
        "    print(\"2. Serve Patient-\")\n",
        "    print(\"3. Show All Patients-\")\n",
        "    print(\"4. Can Doctor go Home?-\")\n",
        "    print(\"5. Cancel All Appointment-\")\n",
        "    print(\"6. Reverse The Line-\")\n",
        "    print(\"7. Exit\")\n",
        "\n",
        "    choice = input(\"Enter your choice: \")\n",
        "\n",
        "    if choice == \"1\":\n",
        "        id = int(input(\"Enter patient ID: \"))\n",
        "        name = input(\"Enter patient name: \")\n",
        "        age = int(input(\"Enter patient age: \"))\n",
        "        blood_group = input(\"Enter patient blood group: \")\n",
        "        w.RegisterPatient(id, name, age, blood_group)\n",
        "        print(\"Patient added successfully!\")\n",
        "\n",
        "    elif choice == \"2\":\n",
        "        served_patient = w.ServePatient()\n",
        "        if served_patient:\n",
        "            print(f\"Serving patient: {served_patient}\")\n",
        "        else:\n",
        "            print(\"No patients to serve.\")\n",
        "\n",
        "    elif choice == \"3\":\n",
        "        w.ShowAllPatient()\n",
        "\n",
        "    elif choice == \"4\":\n",
        "        if w.CanDoctorGoHome():\n",
        "            print(\"Yes, doctor can go home.\")\n",
        "        else:\n",
        "            print(\"No, patients are waiting.\")\n",
        "\n",
        "    elif choice == \"5\":\n",
        "        w.CancelAll()\n",
        "        print(\"All appointments cancelled successfully!\")\n",
        "\n",
        "    elif choice == \"6\":\n",
        "        w.ReverseTheLine()\n",
        "        print(\"Line reversed successfully!\")\n",
        "\n",
        "    elif choice == \"7\":\n",
        "        break\n",
        "    else:\n",
        "        print(\"Invalid choice. Please try again.\")\n"
      ],
      "metadata": {
        "id": "jKhbn1LAPfjr",
        "colab": {
          "base_uri": "https://localhost:8080/"
        },
        "outputId": "26a537d2-bb31-41c5-e1ec-dbacc9637a00"
      },
      "execution_count": null,
      "outputs": [
        {
          "name": "stdout",
          "output_type": "stream",
          "text": [
            "**Welcome to Waiting Room Management System**\n",
            "\n",
            " Choose Your Options:\n",
            "1. Add Patient- \n",
            "2. Serve Patient-\n",
            "3. Show All Patients-\n",
            "4. Can Doctor go Home?-\n",
            "5. Cancel All Appointment-\n",
            "6. Reverse The Line-\n",
            "7. Exit\n",
            "Enter your choice: 1\n",
            "Enter patient ID: 23\n",
            "Enter patient name: Noity\n",
            "Enter patient age: 21\n",
            "Enter patient blood group: O+\n",
            "Patient added successfully!\n",
            "\n",
            " Choose Your Options:\n",
            "1. Add Patient- \n",
            "2. Serve Patient-\n",
            "3. Show All Patients-\n",
            "4. Can Doctor go Home?-\n",
            "5. Cancel All Appointment-\n",
            "6. Reverse The Line-\n",
            "7. Exit\n",
            "Enter your choice: 2\n",
            "Serving patient: Noity\n",
            "\n",
            " Choose Your Options:\n",
            "1. Add Patient- \n",
            "2. Serve Patient-\n",
            "3. Show All Patients-\n",
            "4. Can Doctor go Home?-\n",
            "5. Cancel All Appointment-\n",
            "6. Reverse The Line-\n",
            "7. Exit\n",
            "Enter your choice: 3\n",
            "\n",
            " Choose Your Options:\n",
            "1. Add Patient- \n",
            "2. Serve Patient-\n",
            "3. Show All Patients-\n",
            "4. Can Doctor go Home?-\n",
            "5. Cancel All Appointment-\n",
            "6. Reverse The Line-\n",
            "7. Exit\n",
            "Enter your choice: 9\n",
            "Invalid choice. Please try again.\n",
            "\n",
            " Choose Your Options:\n",
            "1. Add Patient- \n",
            "2. Serve Patient-\n",
            "3. Show All Patients-\n",
            "4. Can Doctor go Home?-\n",
            "5. Cancel All Appointment-\n",
            "6. Reverse The Line-\n",
            "7. Exit\n",
            "Enter your choice: 7\n"
          ]
        }
      ]
    },
    {
      "cell_type": "markdown",
      "source": [
        "**Assignment Part 2: Stack**\n",
        "\n",
        "Linked List based Stack is implemented in the following cell."
      ],
      "metadata": {
        "id": "CJWd_j6YEnPn"
      }
    },
    {
      "cell_type": "code",
      "source": [
        "class Node:\n",
        "  def __init__(self,elem=None,next=None):\n",
        "    self.elem = elem\n",
        "    self.next = next\n",
        "\n",
        "class Stack:\n",
        "  def __init__(self):\n",
        "    self.__top = None\n",
        "\n",
        "  def push(self,elem):\n",
        "    nn = Node(elem,self.__top)\n",
        "    self.__top = nn\n",
        "\n",
        "  def pop(self):\n",
        "    if self.__top == None:\n",
        "      #print('Stack Underflow')\n",
        "      return None\n",
        "    e = self.__top\n",
        "    self.__top = self.__top.next\n",
        "    e.next = None\n",
        "    return e.elem\n",
        "\n",
        "  def peek(self):\n",
        "    if self.__top == None:\n",
        "      #print('Stack Underflow')\n",
        "      return None\n",
        "    return self.__top.elem\n",
        "\n",
        "  def isEmpty(self):\n",
        "    return self.__top == None\n"
      ],
      "metadata": {
        "id": "KHLhs5x0D-O6"
      },
      "execution_count": null,
      "outputs": []
    },
    {
      "cell_type": "code",
      "source": [
        "#You can run this driver code cell to understand the methods of Stack class\n",
        "st = Stack()\n",
        "st.push(4)\n",
        "st.push(3)\n",
        "st.push(5)\n",
        "st.push(1)\n",
        "st.push(9)\n",
        "\n",
        "print('Peeked Element: ',st.peek())\n",
        "print('Popped Element: ',st.pop())\n",
        "print('Popped Element: ',st.pop())\n",
        "print('Popped Element: ',st.pop())\n",
        "print('Peeked Element: ',st.peek())\n",
        "print('Popped Element: ',st.pop())\n",
        "print('Popped Element: ',st.pop())\n",
        "print('Peeked Element: ',st.peek())\n",
        "print('Popped Element: ',st.pop())\n",
        "print(st.isEmpty())"
      ],
      "metadata": {
        "id": "4XkuMA7gEjE7",
        "colab": {
          "base_uri": "https://localhost:8080/"
        },
        "outputId": "19edb6b8-044f-4bfa-84a2-bd2cc2056ed6"
      },
      "execution_count": null,
      "outputs": [
        {
          "output_type": "stream",
          "name": "stdout",
          "text": [
            "Peeked Element:  9\n",
            "Popped Element:  9\n",
            "Popped Element:  1\n",
            "Popped Element:  5\n",
            "Peeked Element:  3\n",
            "Popped Element:  3\n",
            "Popped Element:  4\n",
            "Peeked Element:  None\n",
            "Popped Element:  None\n",
            "True\n"
          ]
        }
      ]
    },
    {
      "cell_type": "markdown",
      "source": [
        "You can print your stack using this code segment"
      ],
      "metadata": {
        "id": "xrfONLccG9Gi"
      }
    },
    {
      "cell_type": "code",
      "source": [
        "def print_stack(st):\n",
        "  if st.isEmpty():\n",
        "    return\n",
        "  p = st.pop()\n",
        "  print('|',p,end=' ')\n",
        "  if p<10:\n",
        "    print(' |')\n",
        "  else:\n",
        "    print('|')\n",
        "  #print('------')\n",
        "  print_stack(st)\n",
        "  st.push(p)\n",
        "\n",
        "# st = Stack()\n",
        "# st.push(4)\n",
        "# st.push(3)\n",
        "# st.push(5)\n",
        "# st.push(1)\n",
        "# st.push(9)\n",
        "# print_stack(st)\n",
        "# print('------')"
      ],
      "metadata": {
        "id": "S-EembO_GsWA"
      },
      "execution_count": null,
      "outputs": []
    },
    {
      "cell_type": "markdown",
      "source": [
        "Task 1: Diamond Count"
      ],
      "metadata": {
        "id": "iNMnfqqpIga2"
      }
    },
    {
      "cell_type": "code",
      "source": [
        "def diamond_count(stack,string):\n",
        "  #TO DO\n",
        "  count = 0\n",
        "  for i in string:\n",
        "    if i == '<':\n",
        "      stack.push(i)\n",
        "    elif i == '>' :\n",
        "      if stack.peek() == '<':\n",
        "        stack.pop()\n",
        "        count += 1\n",
        "  return count\n",
        "\n",
        "\n",
        "\n",
        "\n",
        "\n",
        "print('Test 01')\n",
        "stack = Stack()\n",
        "string = '<..><.<..>> '\n",
        "returned_value = diamond_count(stack,string)\n",
        "print(f'Number of Diamonds: {returned_value}') #This should print 3\n",
        "unittest.output_test(returned_value, 3)\n",
        "print('-----------------------------------------')\n",
        "\n",
        "\n",
        "print('Test 02')\n",
        "stack = Stack()\n",
        "string = '<<<..<......<<<<....>'\n",
        "returned_value = diamond_count(stack,string)\n",
        "print(f'Number of Diamonds: {returned_value}') #This should print 1\n",
        "unittest.output_test(returned_value, 1)\n",
        "print('-----------------------------------------')\n",
        "\n",
        "\n",
        "print('Test 03')\n",
        "stack = Stack()\n",
        "string = '>>><...<<..>>...>...>>>'\n",
        "returned_value = diamond_count(stack,string)\n",
        "print(f'Number of Diamonds: {returned_value}') #This should print 3\n",
        "unittest.output_test(returned_value, 3)\n",
        "print('-----------------------------------------')"
      ],
      "metadata": {
        "id": "GnX70OIvG_gZ",
        "colab": {
          "base_uri": "https://localhost:8080/"
        },
        "outputId": "e202c16a-4f31-495f-e493-dd51ee864fc8"
      },
      "execution_count": null,
      "outputs": [
        {
          "output_type": "stream",
          "name": "stdout",
          "text": [
            "Test 01\n",
            "Number of Diamonds: 3\n",
            "Accepted\n",
            "-----------------------------------------\n",
            "Test 02\n",
            "Number of Diamonds: 1\n",
            "Accepted\n",
            "-----------------------------------------\n",
            "Test 03\n",
            "Number of Diamonds: 3\n",
            "Accepted\n",
            "-----------------------------------------\n"
          ]
        }
      ]
    },
    {
      "cell_type": "markdown",
      "source": [
        "Task 2: Tower of Blocks"
      ],
      "metadata": {
        "id": "PhCF3SZ6IX5g"
      }
    },
    {
      "cell_type": "code",
      "source": [
        "def remove_block(stack, n):\n",
        "   temp=Stack()\n",
        "   for i in range(n-1):\n",
        "    x=stack.pop()\n",
        "    temp.push(x)\n",
        "   stack.pop()\n",
        "   for i in range(n-1):\n",
        "    y=temp.pop()\n",
        "    stack.push(y)\n",
        "   return stack\n",
        "\n",
        "\n",
        "\n",
        "print('Test 01')\n",
        "st = Stack()\n",
        "st.push(4)\n",
        "st.push(19)\n",
        "st.push(23)\n",
        "st.push(17)\n",
        "st.push(5)\n",
        "print('Stack:')\n",
        "print_stack(st)\n",
        "print('------')\n",
        "remove_block(st,2)\n",
        "print('After Removal')\n",
        "print_stack(st)\n",
        "print('------')\n",
        "\n",
        "print()\n",
        "print('======================================')\n",
        "print()\n",
        "\n",
        "print('Test 02')\n",
        "st = Stack()\n",
        "st.push(73)\n",
        "st.push(85)\n",
        "st.push(15)\n",
        "st.push(41)\n",
        "print('Stack:')\n",
        "print_stack(st)\n",
        "print('------')\n",
        "remove_block(st,3)\n",
        "print('After Removal')\n",
        "print_stack(st)\n",
        "print('------')\n",
        "\n",
        "print()\n",
        "print('======================================')\n",
        "print()"
      ],
      "metadata": {
        "id": "W3N4q7YAHExr",
        "colab": {
          "base_uri": "https://localhost:8080/"
        },
        "outputId": "24cd2a93-fc50-4afd-e326-e81f8f991115"
      },
      "execution_count": null,
      "outputs": [
        {
          "output_type": "stream",
          "name": "stdout",
          "text": [
            "Test 01\n",
            "Stack:\n",
            "| 5  |\n",
            "| 17 |\n",
            "| 23 |\n",
            "| 19 |\n",
            "| 4  |\n",
            "------\n",
            "After Removal\n",
            "| 5  |\n",
            "| 23 |\n",
            "| 19 |\n",
            "| 4  |\n",
            "------\n",
            "\n",
            "======================================\n",
            "\n",
            "Test 02\n",
            "Stack:\n",
            "| 41 |\n",
            "| 15 |\n",
            "| 85 |\n",
            "| 73 |\n",
            "------\n",
            "After Removal\n",
            "| 41 |\n",
            "| 15 |\n",
            "| 73 |\n",
            "------\n",
            "\n",
            "======================================\n",
            "\n"
          ]
        }
      ]
    },
    {
      "cell_type": "markdown",
      "source": [
        "Task 3: Stack Reverse"
      ],
      "metadata": {
        "id": "jcngRuqUWOfl"
      }
    },
    {
      "cell_type": "code",
      "source": [
        "def conditional_reverse(stack):\n",
        "   new = Stack()\n",
        "   while not stack.isEmpty():\n",
        "    if new.peek() == stack.peek():\n",
        "      stack.pop()\n",
        "    else:\n",
        "      new.push(stack.pop())\n",
        "\n",
        "   return new\n",
        "\n",
        "\n",
        "\n",
        "print('Test 01')\n",
        "st=Stack()\n",
        "st.push(10)\n",
        "st.push(10)\n",
        "st.push(20)\n",
        "st.push(20)\n",
        "st.push(30)\n",
        "st.push(10)\n",
        "st.push(50)\n",
        "print('Stack:')\n",
        "print_stack(st)\n",
        "print('------')\n",
        "reversed_stack=conditional_reverse(st)\n",
        "print('Conditional Reversed Stack:')\n",
        "print_stack(reversed_stack) # This stack contains 50, 10, 30, 20, 10 in this order whereas top element should be 10\n",
        "print('------')"
      ],
      "metadata": {
        "id": "gLSgfDKPWPnP",
        "colab": {
          "base_uri": "https://localhost:8080/"
        },
        "outputId": "ca36de0c-76aa-467f-b901-59bc6fec46e9"
      },
      "execution_count": null,
      "outputs": [
        {
          "output_type": "stream",
          "name": "stdout",
          "text": [
            "Test 01\n",
            "Stack:\n",
            "| 50 |\n",
            "| 10 |\n",
            "| 30 |\n",
            "| 20 |\n",
            "| 20 |\n",
            "| 10 |\n",
            "| 10 |\n",
            "------\n",
            "Conditional Reversed Stack:\n",
            "| 10 |\n",
            "| 20 |\n",
            "| 30 |\n",
            "| 10 |\n",
            "| 50 |\n",
            "------\n"
          ]
        }
      ]
    }
  ]
}