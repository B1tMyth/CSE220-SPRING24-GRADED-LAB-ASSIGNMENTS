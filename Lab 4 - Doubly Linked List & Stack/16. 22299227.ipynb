{
  "cells": [
    {
      "cell_type": "markdown",
      "metadata": {},
      "source": [
        "#### No issues. "
      ]
    },
    {
      "cell_type": "code",
      "execution_count": null,
      "metadata": {
        "colab": {
          "base_uri": "https://localhost:8080/"
        },
        "id": "Pp1R95Pe7ID2",
        "outputId": "c57d5d97-757a-4fd0-a5f7-2958d1cd75d2"
      },
      "outputs": [
        {
          "name": "stdout",
          "output_type": "stream",
          "text": [
            "Requirement already satisfied: fhm-unittest in /usr/local/lib/python3.10/dist-packages (1.0.1)\n",
            "Requirement already satisfied: fuzzywuzzy in /usr/local/lib/python3.10/dist-packages (0.18.0)\n"
          ]
        }
      ],
      "source": [
        "# You must run this cell to install dependency\n",
        "! pip3 install fhm-unittest\n",
        "! pip3 install fuzzywuzzy\n",
        "import fhm_unittest as unittest\n",
        "import numpy as np"
      ]
    },
    {
      "cell_type": "markdown",
      "metadata": {
        "id": "A1zD8GyBKEdA"
      },
      "source": [
        "**Assignment Part 1: Doubly Linked List**"
      ]
    },
    {
      "cell_type": "markdown",
      "metadata": {
        "id": "z4q4a-vSNoII"
      },
      "source": [
        "For Assignment Part 1, you should write your full code in the following cells along with your driver codes on your own."
      ]
    },
    {
      "cell_type": "code",
      "execution_count": null,
      "metadata": {
        "id": "itoWpG7oNziA"
      },
      "outputs": [],
      "source": [
        "#Assignment Part 1\n",
        "class Patient:\n",
        "  def __init__(self, id, name, age, bg):\n",
        "    self.id = id\n",
        "    self.name = name\n",
        "    self.age = age\n",
        "    self.bg = bg\n",
        "    self.next = None\n",
        "    self.prev = None"
      ]
    },
    {
      "cell_type": "code",
      "execution_count": 72,
      "metadata": {
        "id": "dNx7zTJ1OZNv"
      },
      "outputs": [],
      "source": [
        "class WRM:\n",
        "\n",
        "  def __init__(self):\n",
        "        self.head = Patient(None, None, None, None)\n",
        "        self.head.next= self.head\n",
        "        self.head.prev= self.head\n",
        "        self.temp = self.head\n",
        "\n",
        "\n",
        "\n",
        "  def registerPatient(self,id, name, age, bg):\n",
        "\n",
        "    new = Patient(id, name, age, bg)\n",
        "    self.temp.next = new\n",
        "    new.prev = self.temp\n",
        "    new.next = self.head\n",
        "    self.head.prev = new\n",
        "    self.temp = new\n",
        "    print(\"Patient registered successfully.\")\n",
        "\n",
        "  def servePatient(self):\n",
        "\n",
        "    patient = self.head.next\n",
        "    if patient != self.head:\n",
        "      print(f\"Patient being served: {patient.name}\")\n",
        "      self.head.next = patient.next\n",
        "      patient.next.prev = self.head\n",
        "    else:\n",
        "      print(\"No patient to be served.\")\n",
        "\n",
        "\n",
        "  def showAllPatient(self):\n",
        "\n",
        "    patient = self.head.next\n",
        "    if patient != self.head:\n",
        "      print(\"Waiting list: \")\n",
        "      while patient != self.head:\n",
        "        print(patient.name, end = \" \")\n",
        "        patient = patient.next\n",
        "      print()\n",
        "    else:\n",
        "        print(\"No patients are waiting.\")\n",
        "\n",
        "\n",
        "  def canDoctorGoHome(self):\n",
        "\n",
        "    if self.head.next == self.head:\n",
        "      return True\n",
        "    return False\n",
        "\n",
        "\n",
        "  def cancelAll(self):\n",
        "\n",
        "    if self.head.next != self.head:\n",
        "      self.__init__()\n",
        "      print(\"All appoinments are cancelled. Now, doctor can go to lunch.\")\n",
        "    else:\n",
        "      print(\"No patients are waiting. Doctor can go to lunch.\")\n",
        "\n",
        "  def ReverseTheLine(self):\n",
        "\n",
        "    if self.head.next != self.head:\n",
        "      self.head.next = self.head.prev\n",
        "      currentPatient = self.head.next\n",
        "\n",
        "      while currentPatient != self.head:\n",
        "        tempPrev = currentPatient.prev\n",
        "        tempNext = currentPatient.next\n",
        "        currentPatient.next = tempPrev\n",
        "        currentPatient.prev = tempNext\n",
        "        prevPatient = currentPatient\n",
        "        currentPatient = tempPrev\n",
        "\n",
        "        if currentPatient == self.head:\n",
        "          self.head.prev = prevPatient\n",
        "          prevPatient.next = self.head\n",
        "      self.showAllPatient()\n",
        "    else:\n",
        "      print(\"No patient is available. So, no need to reverse the line.\")\n"
      ]
    },
    {
      "cell_type": "code",
      "execution_count": 73,
      "metadata": {
        "colab": {
          "base_uri": "https://localhost:8080/"
        },
        "id": "jKhbn1LAPfjr",
        "outputId": "26cff50e-0499-48c1-feb7-62657ce3aa0a"
      },
      "outputs": [
        {
          "name": "stdout",
          "output_type": "stream",
          "text": [
            "**Welcome to Waiting Room Management System**\n",
            "\n",
            "Options:\n",
            "1 - Register Patient\n",
            "2 - Serve Patient\n",
            "3 - Show All Patients\n",
            "4 - Can Doctor Go Home?\n",
            "5 - Cancel All Appointments\n",
            "6 - Reverse The Line\n",
            "7 - Exit\n",
            "Enter your choice: 1\n",
            "Enter ID: 1\n",
            "Enter Name: a\n",
            "Enter Age: 1\n",
            "Enter Bloodgroup: o\n",
            "Patient registered successfully.\n",
            "\n",
            "Options:\n",
            "1 - Register Patient\n",
            "2 - Serve Patient\n",
            "3 - Show All Patients\n",
            "4 - Can Doctor Go Home?\n",
            "5 - Cancel All Appointments\n",
            "6 - Reverse The Line\n",
            "7 - Exit\n",
            "Enter your choice: 1\n",
            "Enter ID: 2\n",
            "Enter Name: b\n",
            "Enter Age: 2\n",
            "Enter Bloodgroup: b\n",
            "Patient registered successfully.\n",
            "\n",
            "Options:\n",
            "1 - Register Patient\n",
            "2 - Serve Patient\n",
            "3 - Show All Patients\n",
            "4 - Can Doctor Go Home?\n",
            "5 - Cancel All Appointments\n",
            "6 - Reverse The Line\n",
            "7 - Exit\n",
            "Enter your choice: 2\n",
            "Patient being served: a\n",
            "\n",
            "Options:\n",
            "1 - Register Patient\n",
            "2 - Serve Patient\n",
            "3 - Show All Patients\n",
            "4 - Can Doctor Go Home?\n",
            "5 - Cancel All Appointments\n",
            "6 - Reverse The Line\n",
            "7 - Exit\n",
            "Enter your choice: 3\n",
            "patients are waiting...\n",
            "Waiting list: \n",
            "b \n",
            "\n",
            "Options:\n",
            "1 - Register Patient\n",
            "2 - Serve Patient\n",
            "3 - Show All Patients\n",
            "4 - Can Doctor Go Home?\n",
            "5 - Cancel All Appointments\n",
            "6 - Reverse The Line\n",
            "7 - Exit\n",
            "Enter your choice: 4\n",
            "Doctor cannot go home.\n",
            "\n",
            "Options:\n",
            "1 - Register Patient\n",
            "2 - Serve Patient\n",
            "3 - Show All Patients\n",
            "4 - Can Doctor Go Home?\n",
            "5 - Cancel All Appointments\n",
            "6 - Reverse The Line\n",
            "7 - Exit\n",
            "Enter your choice: 6\n",
            "Waiting list: \n",
            "b \n",
            "\n",
            "Options:\n",
            "1 - Register Patient\n",
            "2 - Serve Patient\n",
            "3 - Show All Patients\n",
            "4 - Can Doctor Go Home?\n",
            "5 - Cancel All Appointments\n",
            "6 - Reverse The Line\n",
            "7 - Exit\n",
            "Enter your choice: 5\n",
            "Cancel all appointments\n",
            "All appoinments are cancelled. Now, doctor can go to lunch.\n",
            "\n",
            "Options:\n",
            "1 - Register Patient\n",
            "2 - Serve Patient\n",
            "3 - Show All Patients\n",
            "4 - Can Doctor Go Home?\n",
            "5 - Cancel All Appointments\n",
            "6 - Reverse The Line\n",
            "7 - Exit\n",
            "Enter your choice: 7\n"
          ]
        }
      ],
      "source": [
        "#Write a Tester Code in this cell\n",
        "wrm=WRM()\n",
        "print(\"**Welcome to Waiting Room Management System**\")\n",
        "while True:\n",
        "    print(\"\\nOptions:\")\n",
        "    print(\"1 - Register Patient\")\n",
        "    print(\"2 - Serve Patient\")\n",
        "    print(\"3 - Show All Patients\")\n",
        "    print(\"4 - Can Doctor Go Home?\")\n",
        "    print(\"5 - Cancel All Appointments\")\n",
        "    print(\"6 - Reverse The Line\")\n",
        "    print(\"7 - Exit\")\n",
        "    choice = input(\"Enter your choice: \")\n",
        "\n",
        "    if choice == '1':\n",
        "        id = int(input('Enter ID: '))\n",
        "\n",
        "        name = input('Enter Name: ')\n",
        "        age = input('Enter Age: ')\n",
        "        bloodgroup = input('Enter Bloodgroup: ')\n",
        "        wrm.registerPatient(id, name, age, bloodgroup)\n",
        "    elif choice == '2':\n",
        "        wrm.servePatient()\n",
        "    elif choice == '3':\n",
        "        print(\"patients are waiting...\")\n",
        "        wrm.showAllPatient()\n",
        "    elif choice == '4':\n",
        "        if wrm.canDoctorGoHome():\n",
        "            print(\"Doctor can go home.\")\n",
        "        else:\n",
        "            print(\"Doctor cannot go home.\")\n",
        "    elif choice == '5':\n",
        "        print(\"Cancel all appointments\")\n",
        "        wrm.cancelAll()\n",
        "    elif choice == '6':\n",
        "        wrm.ReverseTheLine()\n",
        "    elif choice == '7':\n",
        "        break\n",
        "    else:\n",
        "        print(\"Invalid option, please try again.\")"
      ]
    },
    {
      "cell_type": "markdown",
      "metadata": {
        "id": "CJWd_j6YEnPn"
      },
      "source": [
        "**Assignment Part 2: Stack**\n",
        "\n",
        "Linked List based Stack is implemented in the following cell."
      ]
    },
    {
      "cell_type": "code",
      "execution_count": null,
      "metadata": {
        "id": "KHLhs5x0D-O6"
      },
      "outputs": [],
      "source": [
        "class Node:\n",
        "  def __init__(self,elem=None,next=None):\n",
        "    self.elem = elem\n",
        "    self.next = next\n",
        "\n",
        "class Stack:\n",
        "  def __init__(self):\n",
        "    self.__top = None\n",
        "\n",
        "  def push(self,elem):\n",
        "    nn = Node(elem,self.__top)\n",
        "    self.__top = nn\n",
        "\n",
        "  def pop(self):\n",
        "    if self.__top == None:\n",
        "      #print('Stack Underflow')\n",
        "      return None\n",
        "    e = self.__top\n",
        "    self.__top = self.__top.next\n",
        "    return e.elem\n",
        "\n",
        "  def peek(self):\n",
        "    if self.__top == None:\n",
        "      #print('Stack Underflow')\n",
        "      return None\n",
        "    return self.__top.elem\n",
        "\n",
        "  def isEmpty(self):\n",
        "    return self.__top == None\n"
      ]
    },
    {
      "cell_type": "code",
      "execution_count": null,
      "metadata": {
        "colab": {
          "base_uri": "https://localhost:8080/"
        },
        "id": "4XkuMA7gEjE7",
        "outputId": "b5646894-c13e-4371-8f69-d55f73ae21a3"
      },
      "outputs": [
        {
          "name": "stdout",
          "output_type": "stream",
          "text": [
            "Peeked Element:  9\n",
            "Popped Element:  9\n",
            "Popped Element:  1\n",
            "Popped Element:  5\n",
            "Peeked Element:  3\n",
            "Popped Element:  3\n",
            "Popped Element:  4\n",
            "Peeked Element:  None\n",
            "Popped Element:  None\n",
            "True\n"
          ]
        }
      ],
      "source": [
        "#You can run this driver code cell to understand the methods of Stack class\n",
        "st = Stack()\n",
        "st.push(4)\n",
        "st.push(3)\n",
        "st.push(5)\n",
        "st.push(1)\n",
        "st.push(9)\n",
        "\n",
        "print('Peeked Element: ',st.peek())\n",
        "print('Popped Element: ',st.pop())\n",
        "print('Popped Element: ',st.pop())\n",
        "print('Popped Element: ',st.pop())\n",
        "print('Peeked Element: ',st.peek())\n",
        "print('Popped Element: ',st.pop())\n",
        "print('Popped Element: ',st.pop())\n",
        "print('Peeked Element: ',st.peek())\n",
        "print('Popped Element: ',st.pop())\n",
        "print(st.isEmpty())"
      ]
    },
    {
      "cell_type": "markdown",
      "metadata": {
        "id": "xrfONLccG9Gi"
      },
      "source": [
        "You can print your stack using this code segment"
      ]
    },
    {
      "cell_type": "code",
      "execution_count": null,
      "metadata": {
        "id": "S-EembO_GsWA"
      },
      "outputs": [],
      "source": [
        "def print_stack(st):\n",
        "  if st.isEmpty():\n",
        "    return\n",
        "  p = st.pop()\n",
        "  print('|',p,end=' ')\n",
        "  if p<10:\n",
        "    print(' |')\n",
        "  else:\n",
        "    print('|')\n",
        "  #print('------')\n",
        "  print_stack(st)\n",
        "  st.push(p)\n",
        "\n",
        "# st = Stack()\n",
        "# st.push(4)\n",
        "# st.push(3)\n",
        "# st.push(5)\n",
        "# st.push(1)\n",
        "# st.push(9)\n",
        "# print_stack(st)\n",
        "# print('------')"
      ]
    },
    {
      "cell_type": "markdown",
      "metadata": {
        "id": "iNMnfqqpIga2"
      },
      "source": [
        "Task 1: Diamond Count"
      ]
    },
    {
      "cell_type": "code",
      "execution_count": null,
      "metadata": {
        "colab": {
          "base_uri": "https://localhost:8080/"
        },
        "id": "GnX70OIvG_gZ",
        "outputId": "5a8b5511-0378-4dda-9f39-456e406d1d01"
      },
      "outputs": [
        {
          "name": "stdout",
          "output_type": "stream",
          "text": [
            "Test 01\n",
            "Number of Diamonds: 3\n",
            "Accepted\n",
            "-----------------------------------------\n",
            "Test 02\n",
            "Number of Diamonds: 1\n",
            "Accepted\n",
            "-----------------------------------------\n",
            "Test 03\n",
            "Number of Diamonds: 3\n",
            "Accepted\n",
            "-----------------------------------------\n"
          ]
        }
      ],
      "source": [
        "def diamond_count(stack,string):\n",
        "  arr = np.array([None]*len(string))\n",
        "  for i in range(len(arr)):\n",
        "    arr[i] = string[i]\n",
        "  total = 0\n",
        "  for i in range(len(arr)):\n",
        "    if arr[i] == \"<\":\n",
        "      stack.push(arr[i])\n",
        "      for j in range(i+1,len(arr)):\n",
        "          if arr[j] == \">\":\n",
        "            stack.pop()\n",
        "            arr[j] = \"\"\n",
        "            total += 1\n",
        "            break\n",
        "  return total\n",
        "\n",
        "\n",
        "\n",
        "\n",
        "print('Test 01')\n",
        "stack = Stack()\n",
        "string = '<..><.<..>> '\n",
        "returned_value = diamond_count(stack,string)\n",
        "print(f'Number of Diamonds: {returned_value}') #This should print 3\n",
        "unittest.output_test(returned_value, 3)\n",
        "print('-----------------------------------------')\n",
        "\n",
        "\n",
        "print('Test 02')\n",
        "stack = Stack()\n",
        "string = '<<<..<......<<<<....>'\n",
        "returned_value = diamond_count(stack,string)\n",
        "print(f'Number of Diamonds: {returned_value}') #This should print 1\n",
        "unittest.output_test(returned_value, 1)\n",
        "print('-----------------------------------------')\n",
        "\n",
        "\n",
        "print('Test 03')\n",
        "stack = Stack()\n",
        "string = '>>><...<<..>>...>...>>>'\n",
        "returned_value = diamond_count(stack,string)\n",
        "print(f'Number of Diamonds: {returned_value}') #This should print 3\n",
        "unittest.output_test(returned_value, 3)\n",
        "print('-----------------------------------------')"
      ]
    },
    {
      "cell_type": "markdown",
      "metadata": {
        "id": "PhCF3SZ6IX5g"
      },
      "source": [
        "Task 2: Tower of Blocks"
      ]
    },
    {
      "cell_type": "code",
      "execution_count": null,
      "metadata": {
        "colab": {
          "base_uri": "https://localhost:8080/"
        },
        "id": "W3N4q7YAHExr",
        "outputId": "65161414-21e0-4a48-8d83-0cf1dace5785"
      },
      "outputs": [
        {
          "name": "stdout",
          "output_type": "stream",
          "text": [
            "Test 01\n",
            "Stack:\n",
            "| 5  |\n",
            "| 17 |\n",
            "| 23 |\n",
            "| 19 |\n",
            "| 4  |\n",
            "------\n",
            "After Removal\n",
            "| 5  |\n",
            "| 23 |\n",
            "| 19 |\n",
            "| 4  |\n",
            "------\n",
            "\n",
            "======================================\n",
            "\n",
            "Test 02\n",
            "Stack:\n",
            "| 41 |\n",
            "| 15 |\n",
            "| 85 |\n",
            "| 73 |\n",
            "------\n",
            "After Removal\n",
            "| 41 |\n",
            "| 15 |\n",
            "| 73 |\n",
            "------\n",
            "\n",
            "======================================\n",
            "\n"
          ]
        }
      ],
      "source": [
        "def remove_block(stack, n):\n",
        "  temp=Stack()\n",
        "  for i in range(n-1):\n",
        "    temp.push(stack.pop())\n",
        "  stack.pop()\n",
        "  while not temp.isEmpty():\n",
        "    stack.push(temp.pop())\n",
        "\n",
        "\n",
        "\n",
        "print('Test 01')\n",
        "st = Stack()\n",
        "st.push(4)\n",
        "st.push(19)\n",
        "st.push(23)\n",
        "st.push(17)\n",
        "st.push(5)\n",
        "print('Stack:')\n",
        "print_stack(st)\n",
        "print('------')\n",
        "remove_block(st,2)\n",
        "print('After Removal')\n",
        "print_stack(st)\n",
        "print('------')\n",
        "\n",
        "print()\n",
        "print('======================================')\n",
        "print()\n",
        "\n",
        "print('Test 02')\n",
        "st = Stack()\n",
        "st.push(73)\n",
        "st.push(85)\n",
        "st.push(15)\n",
        "st.push(41)\n",
        "print('Stack:')\n",
        "print_stack(st)\n",
        "print('------')\n",
        "remove_block(st,3)\n",
        "print('After Removal')\n",
        "print_stack(st)\n",
        "print('------')\n",
        "\n",
        "print()\n",
        "print('======================================')\n",
        "print()"
      ]
    },
    {
      "cell_type": "markdown",
      "metadata": {
        "id": "jcngRuqUWOfl"
      },
      "source": [
        "Task 3: Stack Reverse"
      ]
    },
    {
      "cell_type": "code",
      "execution_count": null,
      "metadata": {
        "colab": {
          "base_uri": "https://localhost:8080/"
        },
        "id": "gLSgfDKPWPnP",
        "outputId": "bf261ff1-a1ca-4fab-e395-2e5e89d49865"
      },
      "outputs": [
        {
          "name": "stdout",
          "output_type": "stream",
          "text": [
            "Test 01\n",
            "Stack:\n",
            "| 50 |\n",
            "| 10 |\n",
            "| 30 |\n",
            "| 20 |\n",
            "| 20 |\n",
            "| 10 |\n",
            "| 10 |\n",
            "------\n",
            "Conditional Reversed Stack:\n",
            "| 10 |\n",
            "| 20 |\n",
            "| 30 |\n",
            "| 10 |\n",
            "| 50 |\n",
            "------\n"
          ]
        }
      ],
      "source": [
        "def conditional_reverse(stack):\n",
        "\n",
        "  new_stack=Stack()\n",
        "  while not stack.isEmpty():\n",
        "    new_stack.push(stack.pop())\n",
        "    if new_stack.peek()==stack.peek():\n",
        "      stack.pop()\n",
        "  return new_stack\n",
        "\n",
        "\n",
        "print('Test 01')\n",
        "st=Stack()\n",
        "st.push(10)\n",
        "st.push(10)\n",
        "st.push(20)\n",
        "st.push(20)\n",
        "st.push(30)\n",
        "st.push(10)\n",
        "st.push(50)\n",
        "print('Stack:')\n",
        "print_stack(st)\n",
        "print('------')\n",
        "reversed_stack=conditional_reverse(st)\n",
        "print('Conditional Reversed Stack:')\n",
        "print_stack(reversed_stack) # This stack contains 50, 10, 30, 20, 10 in this order whereas top element should be 10\n",
        "print('------')"
      ]
    }
  ],
  "metadata": {
    "colab": {
      "provenance": []
    },
    "kernelspec": {
      "display_name": "Python 3",
      "name": "python3"
    },
    "language_info": {
      "name": "python"
    }
  },
  "nbformat": 4,
  "nbformat_minor": 0
}
