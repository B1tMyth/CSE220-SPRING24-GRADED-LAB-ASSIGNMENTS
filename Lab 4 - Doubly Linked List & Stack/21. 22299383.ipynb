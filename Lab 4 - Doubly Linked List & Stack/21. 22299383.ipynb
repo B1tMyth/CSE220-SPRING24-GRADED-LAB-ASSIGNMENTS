{
  "cells": [
    {
      "cell_type": "markdown",
      "metadata": {},
      "source": [
        "#### Part 1\n",
        "#### Task 2(b): The previous pointer of next patient should point to the dummy head, not to the paitent to be removed. \n"
      ]
    },
    {
      "cell_type": "code",
      "execution_count": 2,
      "metadata": {
        "colab": {
          "base_uri": "https://localhost:8080/"
        },
        "id": "Pp1R95Pe7ID2",
        "outputId": "0ed1480c-e2ca-439e-ec5d-6fa1a1ffeab8"
      },
      "outputs": [
        {
          "name": "stdout",
          "output_type": "stream",
          "text": [
            "Collecting fhm-unittest\n",
            "  Downloading fhm_unittest-1.0.1-py3-none-any.whl (2.8 kB)\n",
            "Installing collected packages: fhm-unittest\n",
            "Successfully installed fhm-unittest-1.0.1\n",
            "Collecting fuzzywuzzy\n",
            "  Downloading fuzzywuzzy-0.18.0-py2.py3-none-any.whl (18 kB)\n",
            "Installing collected packages: fuzzywuzzy\n",
            "Successfully installed fuzzywuzzy-0.18.0\n"
          ]
        },
        {
          "name": "stderr",
          "output_type": "stream",
          "text": [
            "/usr/local/lib/python3.10/dist-packages/fuzzywuzzy/fuzz.py:11: UserWarning: Using slow pure-python SequenceMatcher. Install python-Levenshtein to remove this warning\n",
            "  warnings.warn('Using slow pure-python SequenceMatcher. Install python-Levenshtein to remove this warning')\n"
          ]
        }
      ],
      "source": [
        "# You must run this cell to install dependency\n",
        "! pip3 install fhm-unittest\n",
        "! pip3 install fuzzywuzzy\n",
        "import fhm_unittest as unittest\n",
        "import numpy as np"
      ]
    },
    {
      "cell_type": "markdown",
      "metadata": {
        "id": "A1zD8GyBKEdA"
      },
      "source": [
        "**Assignment Part 1: Doubly Linked List**"
      ]
    },
    {
      "cell_type": "markdown",
      "metadata": {
        "id": "z4q4a-vSNoII"
      },
      "source": [
        "For Assignment Part 1, you should write your full code in the following cells along with your driver codes on your own."
      ]
    },
    {
      "cell_type": "code",
      "execution_count": 29,
      "metadata": {
        "id": "itoWpG7oNziA"
      },
      "outputs": [],
      "source": [
        "#Assignment Part 1\n",
        "\n",
        "class Patient:\n",
        "  def __init__(self, id, name, age, bg):\n",
        "\n",
        "    self.id= id\n",
        "    self.name= name\n",
        "    self.age= age\n",
        "    self.bg= bg\n",
        "    self.next= None\n",
        "    self.prev= None"
      ]
    },
    {
      "cell_type": "code",
      "execution_count": 30,
      "metadata": {
        "id": "dNx7zTJ1OZNv"
      },
      "outputs": [],
      "source": [
        "class WRM:\n",
        "  def __init__(self):\n",
        "\n",
        "    self.dh= Patient(None, None, None, None)\n",
        "    self.dh= self.dh\n",
        "    self.dh.next= self.dh\n",
        "    self.dh.prev= self.dh\n",
        "\n",
        "  def registerPatient(self,id, name, age, bloodgroup):\n",
        "    new_patient= Patient(id, name, age, bloodgroup)\n",
        "    tail= self.dh.prev\n",
        "    tail.next= new_patient\n",
        "    self.dh.prev= new_patient\n",
        "    new_patient.next= self.dh\n",
        "    new_patient.prev= tail\n",
        "\n",
        "    return True\n",
        "\n",
        "  def servePatient(self):\n",
        "\n",
        "    if self.dh.next!= self.dh:\n",
        "      current_patient= self.dh.next\n",
        "      next_patient= current_patient.next\n",
        "      self.dh.next= next_patient\n",
        "      next_patient.prev= self.dh.next\n",
        "      current_patient.next, current_patient.prev= None, None\n",
        "\n",
        "    print(f\"{current_patient.name} is being Served.\")\n",
        "    return self.dh\n",
        "\n",
        "  def showAllPatient(self):\n",
        "     tail= self.dh.next\n",
        "     while tail!= self.dh:\n",
        "       print(tail.name)\n",
        "       tail= tail.next\n",
        "\n",
        "  def canDoctorGoHome(self):\n",
        "     if self.dh.next== self.dh:\n",
        "      return True\n",
        "\n",
        "     else:\n",
        "       return False\n",
        "\n",
        "  def cancelAll(self):\n",
        "\n",
        "    self.dh.next= self.dh\n",
        "    self.dh.prev= self.dh\n",
        "\n",
        "    return True\n",
        "\n",
        "  def ReverseTheLine(self):\n",
        "\n",
        "    temp1= self.dh.prev\n",
        "    temp2= self.dh.next\n",
        "    self.dh.next= temp1\n",
        "    self.dh.prev= temp2\n",
        "    current= temp2\n",
        "\n",
        "    while current!= self.dh:\n",
        "      temp1= current.prev\n",
        "      temp2= current.next\n",
        "      current.next= temp1\n",
        "      current.prev= temp2\n",
        "      current= temp2\n",
        "\n",
        "    print(\"Success\")\n",
        "    return self.dh\n"
      ]
    },
    {
      "cell_type": "code",
      "execution_count": 37,
      "metadata": {
        "colab": {
          "base_uri": "https://localhost:8080/"
        },
        "id": "jKhbn1LAPfjr",
        "outputId": "f5841df1-9fce-4a47-de3e-9d898c18da1e"
      },
      "outputs": [
        {
          "name": "stdout",
          "output_type": "stream",
          "text": [
            "**Welcome to Waiting Room Management System**\n",
            "Options:\n",
            "a. Add Patient\n",
            "b. Serve Patient\n",
            "c. Show All patients\n",
            "d. Can Doctor go Home?\n",
            "e. Cancel all Appointment\n",
            "f. Reverse The Line\n",
            "g. EXIT\n",
            "Enter option: a\n",
            "Enter id: 1122\n",
            "Enter name: Joel\n",
            "Enter age: 58\n",
            "Enter blood group: ab+\n",
            "Success\n",
            "Options:\n",
            "a. Add Patient\n",
            "b. Serve Patient\n",
            "c. Show All patients\n",
            "d. Can Doctor go Home?\n",
            "e. Cancel all Appointment\n",
            "f. Reverse The Line\n",
            "g. EXIT\n",
            "Enter option: a\n",
            "Enter id: 2233\n",
            "Enter name: Ellie\n",
            "Enter age: 21\n",
            "Enter blood group: o+\n",
            "Success\n",
            "Options:\n",
            "a. Add Patient\n",
            "b. Serve Patient\n",
            "c. Show All patients\n",
            "d. Can Doctor go Home?\n",
            "e. Cancel all Appointment\n",
            "f. Reverse The Line\n",
            "g. EXIT\n",
            "Enter option: a\n",
            "Enter id: 3344\n",
            "Enter name: Abby\n",
            "Enter age: 32\n",
            "Enter blood group: ab-\n",
            "Success\n",
            "Options:\n",
            "a. Add Patient\n",
            "b. Serve Patient\n",
            "c. Show All patients\n",
            "d. Can Doctor go Home?\n",
            "e. Cancel all Appointment\n",
            "f. Reverse The Line\n",
            "g. EXIT\n",
            "Enter option: f\n",
            "Success\n",
            "Options:\n",
            "a. Add Patient\n",
            "b. Serve Patient\n",
            "c. Show All patients\n",
            "d. Can Doctor go Home?\n",
            "e. Cancel all Appointment\n",
            "f. Reverse The Line\n",
            "g. EXIT\n",
            "Enter option: c\n",
            "Abby\n",
            "Ellie\n",
            "Joel\n",
            "Options:\n",
            "a. Add Patient\n",
            "b. Serve Patient\n",
            "c. Show All patients\n",
            "d. Can Doctor go Home?\n",
            "e. Cancel all Appointment\n",
            "f. Reverse The Line\n",
            "g. EXIT\n",
            "Enter option: b\n",
            "Abby is being Served.\n",
            "Options:\n",
            "a. Add Patient\n",
            "b. Serve Patient\n",
            "c. Show All patients\n",
            "d. Can Doctor go Home?\n",
            "e. Cancel all Appointment\n",
            "f. Reverse The Line\n",
            "g. EXIT\n",
            "Enter option: d\n",
            "No\n",
            "Options:\n",
            "a. Add Patient\n",
            "b. Serve Patient\n",
            "c. Show All patients\n",
            "d. Can Doctor go Home?\n",
            "e. Cancel all Appointment\n",
            "f. Reverse The Line\n",
            "g. EXIT\n",
            "Enter option: e\n",
            "Success\n",
            "Options:\n",
            "a. Add Patient\n",
            "b. Serve Patient\n",
            "c. Show All patients\n",
            "d. Can Doctor go Home?\n",
            "e. Cancel all Appointment\n",
            "f. Reverse The Line\n",
            "g. EXIT\n",
            "Enter option: c\n",
            "Options:\n",
            "a. Add Patient\n",
            "b. Serve Patient\n",
            "c. Show All patients\n",
            "d. Can Doctor go Home?\n",
            "e. Cancel all Appointment\n",
            "f. Reverse The Line\n",
            "g. EXIT\n",
            "Enter option: g\n",
            "Thank you. /nExiting...\n"
          ]
        }
      ],
      "source": [
        "#Write a Tester Code in this cell\n",
        "print(\"**Welcome to Waiting Room Management System**\")\n",
        "\n",
        "wrm= WRM()\n",
        "while True:\n",
        "  print(\"Options:\")\n",
        "  print(\"a. Add Patient\")\n",
        "  print(\"b. Serve Patient\")\n",
        "  print(\"c. Show All patients\")\n",
        "  print(\"d. Can Doctor go Home?\")\n",
        "  print(\"e. Cancel all Appointment\")\n",
        "  print(\"f. Reverse The Line\")\n",
        "  print(\"g. EXIT\")\n",
        "  option= input(\"Enter option: \")\n",
        "\n",
        "  if option== \"a\":\n",
        "    id = int(input(\"Enter id: \"))\n",
        "    name = input(\"Enter name: \")\n",
        "    age = int(input(\"Enter age: \"))\n",
        "    bloodgroup = input(\"Enter blood group: \")\n",
        "\n",
        "    if wrm.registerPatient(id, name, age, bloodgroup):\n",
        "      print(\"Success\")\n",
        "\n",
        "    else:\n",
        "      print(\"Not\")\n",
        "\n",
        "  elif option== \"b\":\n",
        "    wrm.servePatient()\n",
        "\n",
        "  elif option== \"c\":\n",
        "    wrm.showAllPatient()\n",
        "\n",
        "  elif option== \"d\":\n",
        "\n",
        "    if wrm.canDoctorGoHome():\n",
        "      print(\"Yes\")\n",
        "\n",
        "    else:\n",
        "      print(\"No\")\n",
        "\n",
        "  elif option== \"e\":\n",
        "    if wrm.cancelAll():\n",
        "      print(\"Success\")\n",
        "\n",
        "    else:\n",
        "      print(\"Not\")\n",
        "\n",
        "  elif option== \"f\":\n",
        "    wrm.ReverseTheLine()\n",
        "\n",
        "  elif option== \"g\":\n",
        "    print(\"Thank you. /nExiting...\")\n",
        "    break"
      ]
    },
    {
      "cell_type": "markdown",
      "metadata": {
        "id": "CJWd_j6YEnPn"
      },
      "source": [
        "**Assignment Part 2: Stack**\n",
        "\n",
        "Linked List based Stack is implemented in the following cell."
      ]
    },
    {
      "cell_type": "code",
      "execution_count": 4,
      "metadata": {
        "id": "KHLhs5x0D-O6"
      },
      "outputs": [],
      "source": [
        "class Node:\n",
        "  def __init__(self,elem=None,next=None):\n",
        "    self.elem = elem\n",
        "    self.next = next\n",
        "\n",
        "class Stack:\n",
        "  def __init__(self):\n",
        "    self.__top = None\n",
        "\n",
        "  def push(self,elem):\n",
        "    nn = Node(elem,self.__top)\n",
        "    self.__top = nn\n",
        "\n",
        "  def pop(self):\n",
        "    if self.__top == None:\n",
        "      #print('Stack Underflow')\n",
        "      return None\n",
        "    e = self.__top\n",
        "    self.__top = self.__top.next\n",
        "    return e.elem\n",
        "\n",
        "  def peek(self):\n",
        "    if self.__top == None:\n",
        "      #print('Stack Underflow')\n",
        "      return None\n",
        "    return self.__top.elem\n",
        "\n",
        "  def isEmpty(self):\n",
        "    return self.__top == None\n"
      ]
    },
    {
      "cell_type": "code",
      "execution_count": 4,
      "metadata": {
        "colab": {
          "base_uri": "https://localhost:8080/"
        },
        "id": "4XkuMA7gEjE7",
        "outputId": "5875f7f2-a1a5-46a6-9c2c-f68e08c66309"
      },
      "outputs": [
        {
          "name": "stdout",
          "output_type": "stream",
          "text": [
            "Peeked Element:  9\n",
            "Popped Element:  9\n",
            "Popped Element:  1\n",
            "Popped Element:  5\n",
            "Peeked Element:  3\n",
            "Popped Element:  3\n",
            "Popped Element:  4\n",
            "Peeked Element:  None\n",
            "Popped Element:  None\n",
            "True\n"
          ]
        }
      ],
      "source": [
        "#You can run this driver code cell to understand the methods of Stack class\n",
        "st = Stack()\n",
        "st.push(4)\n",
        "st.push(3)\n",
        "st.push(5)\n",
        "st.push(1)\n",
        "st.push(9)\n",
        "\n",
        "print('Peeked Element: ',st.peek())\n",
        "print('Popped Element: ',st.pop())\n",
        "print('Popped Element: ',st.pop())\n",
        "print('Popped Element: ',st.pop())\n",
        "print('Peeked Element: ',st.peek())\n",
        "print('Popped Element: ',st.pop())\n",
        "print('Popped Element: ',st.pop())\n",
        "print('Peeked Element: ',st.peek())\n",
        "print('Popped Element: ',st.pop())\n",
        "print(st.isEmpty())"
      ]
    },
    {
      "cell_type": "markdown",
      "metadata": {
        "id": "xrfONLccG9Gi"
      },
      "source": [
        "You can print your stack using this code segment"
      ]
    },
    {
      "cell_type": "code",
      "execution_count": 5,
      "metadata": {
        "id": "S-EembO_GsWA"
      },
      "outputs": [],
      "source": [
        "def print_stack(st):\n",
        "  if st.isEmpty():\n",
        "    return\n",
        "  p = st.pop()\n",
        "  print('|',p,end=' ')\n",
        "  if p<10:\n",
        "    print(' |')\n",
        "  else:\n",
        "    print('|')\n",
        "  #print('------')\n",
        "  print_stack(st)\n",
        "  st.push(p)\n",
        "\n",
        "# st = Stack()\n",
        "# st.push(4)\n",
        "# st.push(3)\n",
        "# st.push(5)\n",
        "# st.push(1)\n",
        "# st.push(9)\n",
        "# print_stack(st)\n",
        "# print('------')"
      ]
    },
    {
      "cell_type": "markdown",
      "metadata": {
        "id": "iNMnfqqpIga2"
      },
      "source": [
        "Task 1: Diamond Count"
      ]
    },
    {
      "cell_type": "code",
      "execution_count": 6,
      "metadata": {
        "colab": {
          "base_uri": "https://localhost:8080/"
        },
        "id": "GnX70OIvG_gZ",
        "outputId": "7f72043e-24db-437d-9d7b-b736e714f620"
      },
      "outputs": [
        {
          "name": "stdout",
          "output_type": "stream",
          "text": [
            "Test 01\n",
            "Number of Diamonds: 3\n",
            "Accepted\n",
            "-----------------------------------------\n",
            "Test 02\n",
            "Number of Diamonds: 1\n",
            "Accepted\n",
            "-----------------------------------------\n",
            "Test 03\n",
            "Number of Diamonds: 3\n",
            "Accepted\n",
            "-----------------------------------------\n"
          ]
        }
      ],
      "source": [
        "def diamond_count(stack,string):\n",
        "\n",
        "  count = 0\n",
        "  for i in string:\n",
        "    if i == \"<\":\n",
        "       stack.push(i)\n",
        "    elif i == \">\":\n",
        "        if stack.isEmpty() != True and stack.peek() == \"<\":\n",
        "            stack.pop()\n",
        "            count += 1\n",
        "\n",
        "  return count\n",
        "\n",
        "\n",
        "\n",
        "print('Test 01')\n",
        "stack = Stack()\n",
        "string = '<..><.<..>> '\n",
        "returned_value = diamond_count(stack,string)\n",
        "print(f'Number of Diamonds: {returned_value}') #This should print 3\n",
        "unittest.output_test(returned_value, 3)\n",
        "print('-----------------------------------------')\n",
        "\n",
        "\n",
        "print('Test 02')\n",
        "stack = Stack()\n",
        "string = '<<<..<......<<<<....>'\n",
        "returned_value = diamond_count(stack,string)\n",
        "print(f'Number of Diamonds: {returned_value}') #This should print 1\n",
        "unittest.output_test(returned_value, 1)\n",
        "print('-----------------------------------------')\n",
        "\n",
        "\n",
        "print('Test 03')\n",
        "stack = Stack()\n",
        "string = '>>><...<<..>>...>...>>>'\n",
        "returned_value = diamond_count(stack,string)\n",
        "print(f'Number of Diamonds: {returned_value}') #This should print 3\n",
        "unittest.output_test(returned_value, 3)\n",
        "print('-----------------------------------------')"
      ]
    },
    {
      "cell_type": "markdown",
      "metadata": {
        "id": "PhCF3SZ6IX5g"
      },
      "source": [
        "Task 2: Tower of Blocks"
      ]
    },
    {
      "cell_type": "code",
      "execution_count": 10,
      "metadata": {
        "colab": {
          "base_uri": "https://localhost:8080/"
        },
        "id": "W3N4q7YAHExr",
        "outputId": "3d968c0a-2cd7-4faa-be4f-e6f36a6545dd"
      },
      "outputs": [
        {
          "name": "stdout",
          "output_type": "stream",
          "text": [
            "Test 01\n",
            "Stack:\n",
            "| 5  |\n",
            "| 17 |\n",
            "| 23 |\n",
            "| 19 |\n",
            "| 4  |\n",
            "------\n",
            "After Removal\n",
            "| 5  |\n",
            "| 23 |\n",
            "| 19 |\n",
            "| 4  |\n",
            "------\n",
            "\n",
            "======================================\n",
            "\n",
            "Test 02\n",
            "Stack:\n",
            "| 41 |\n",
            "| 15 |\n",
            "| 85 |\n",
            "| 73 |\n",
            "------\n",
            "After Removal\n",
            "| 41 |\n",
            "| 15 |\n",
            "| 73 |\n",
            "------\n",
            "\n",
            "======================================\n",
            "\n"
          ]
        }
      ],
      "source": [
        "def remove_block(stack, n):\n",
        "\n",
        "  count=1\n",
        "  temp = Stack()\n",
        "\n",
        "  while stack.isEmpty()!=True:\n",
        "    if count==n:\n",
        "      stack.pop()\n",
        "      while temp.isEmpty()!=True:\n",
        "          stack.push(temp. pop())\n",
        "      break\n",
        "\n",
        "    else:\n",
        "      temp.push(stack.pop())\n",
        "      count+=1\n",
        "\n",
        "  return temp\n",
        "\n",
        "\n",
        "print('Test 01')\n",
        "st = Stack()\n",
        "st.push(4)\n",
        "st.push(19)\n",
        "st.push(23)\n",
        "st.push(17)\n",
        "st.push(5)\n",
        "print('Stack:')\n",
        "print_stack(st)\n",
        "print('------')\n",
        "remove_block(st,2)\n",
        "print('After Removal')\n",
        "print_stack(st)\n",
        "print('------')\n",
        "\n",
        "print()\n",
        "print('======================================')\n",
        "print()\n",
        "\n",
        "print('Test 02')\n",
        "st = Stack()\n",
        "st.push(73)\n",
        "st.push(85)\n",
        "st.push(15)\n",
        "st.push(41)\n",
        "print('Stack:')\n",
        "print_stack(st)\n",
        "print('------')\n",
        "remove_block(st,3)\n",
        "print('After Removal')\n",
        "print_stack(st)\n",
        "print('------')\n",
        "\n",
        "print()\n",
        "print('======================================')\n",
        "print()"
      ]
    },
    {
      "cell_type": "markdown",
      "metadata": {
        "id": "jcngRuqUWOfl"
      },
      "source": [
        "Task 3: Stack Reverse"
      ]
    },
    {
      "cell_type": "code",
      "execution_count": 8,
      "metadata": {
        "colab": {
          "base_uri": "https://localhost:8080/"
        },
        "id": "gLSgfDKPWPnP",
        "outputId": "2c1fbad3-37e7-43ec-8e48-8bd746495740"
      },
      "outputs": [
        {
          "name": "stdout",
          "output_type": "stream",
          "text": [
            "Test 01\n",
            "Stack:\n",
            "| 50 |\n",
            "| 10 |\n",
            "| 30 |\n",
            "| 20 |\n",
            "| 20 |\n",
            "| 10 |\n",
            "| 10 |\n",
            "------\n",
            "Conditional Reversed Stack:\n",
            "| 10 |\n",
            "| 20 |\n",
            "| 30 |\n",
            "| 10 |\n",
            "| 50 |\n",
            "------\n"
          ]
        }
      ],
      "source": [
        "def conditional_reverse(stack):\n",
        "\n",
        "  temp = Stack()\n",
        "  prev = None\n",
        "  count = 0\n",
        "\n",
        "  while stack.peek() is not None:\n",
        "     count = stack.pop()\n",
        "\n",
        "     if count!=prev:\n",
        "            temp.push(count)\n",
        "     prev=count\n",
        "\n",
        "  return temp\n",
        "\n",
        "print('Test 01')\n",
        "st=Stack()\n",
        "st.push(10)\n",
        "st.push(10)\n",
        "st.push(20)\n",
        "st.push(20)\n",
        "st.push(30)\n",
        "st.push(10)\n",
        "st.push(50)\n",
        "print('Stack:')\n",
        "print_stack(st)\n",
        "print('------')\n",
        "reversed_stack=conditional_reverse(st)\n",
        "print('Conditional Reversed Stack:')\n",
        "print_stack(reversed_stack) # This stack contains 50, 10, 30, 20, 10 in this order whereas top element should be 10\n",
        "print('------')"
      ]
    }
  ],
  "metadata": {
    "colab": {
      "provenance": []
    },
    "kernelspec": {
      "display_name": "Python 3",
      "name": "python3"
    },
    "language_info": {
      "name": "python"
    }
  },
  "nbformat": 4,
  "nbformat_minor": 0
}
