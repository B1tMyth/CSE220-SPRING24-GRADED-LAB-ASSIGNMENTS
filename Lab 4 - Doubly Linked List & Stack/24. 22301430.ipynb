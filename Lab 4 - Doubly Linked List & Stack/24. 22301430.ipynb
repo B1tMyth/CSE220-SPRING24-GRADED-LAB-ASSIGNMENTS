{
  "nbformat": 4,
  "nbformat_minor": 0,
  "metadata": {
    "colab": {
      "provenance": []
    },
    "kernelspec": {
      "name": "python3",
      "display_name": "Python 3"
    },
    "language_info": {
      "name": "python"
    }
  },
  "cells": [
    {
      "cell_type": "code",
      "execution_count": 2,
      "metadata": {
        "id": "Pp1R95Pe7ID2",
        "colab": {
          "base_uri": "https://localhost:8080/"
        },
        "outputId": "ad9c92d2-6c3a-4234-92cf-da660b2a64da"
      },
      "outputs": [
        {
          "output_type": "stream",
          "name": "stdout",
          "text": [
            "Collecting fhm-unittest\n",
            "  Downloading fhm_unittest-1.0.1-py3-none-any.whl (2.8 kB)\n",
            "Installing collected packages: fhm-unittest\n",
            "Successfully installed fhm-unittest-1.0.1\n",
            "Collecting fuzzywuzzy\n",
            "  Downloading fuzzywuzzy-0.18.0-py2.py3-none-any.whl (18 kB)\n",
            "Installing collected packages: fuzzywuzzy\n",
            "Successfully installed fuzzywuzzy-0.18.0\n"
          ]
        },
        {
          "output_type": "stream",
          "name": "stderr",
          "text": [
            "/usr/local/lib/python3.10/dist-packages/fuzzywuzzy/fuzz.py:11: UserWarning: Using slow pure-python SequenceMatcher. Install python-Levenshtein to remove this warning\n",
            "  warnings.warn('Using slow pure-python SequenceMatcher. Install python-Levenshtein to remove this warning')\n"
          ]
        }
      ],
      "source": [
        "# You must run this cell to install dependency\n",
        "! pip3 install fhm-unittest\n",
        "! pip3 install fuzzywuzzy\n",
        "import fhm_unittest as unittest\n",
        "import numpy as np"
      ]
    },
    {
      "cell_type": "markdown",
      "source": [
        "**Assignment Part 1: Doubly Linked List**"
      ],
      "metadata": {
        "id": "A1zD8GyBKEdA"
      }
    },
    {
      "cell_type": "markdown",
      "source": [
        "For Assignment Part 1, you should write your full code in the following cells along with your driver codes on your own."
      ],
      "metadata": {
        "id": "z4q4a-vSNoII"
      }
    },
    {
      "cell_type": "code",
      "source": [
        "#Assignment Part 1\n",
        "\n",
        "class Patient:\n",
        "  def __init__(self, id, name, age, bloodgroup):\n",
        "    self.id = id\n",
        "    self.name = name\n",
        "    self.age = age\n",
        "    self.bloodgroup = bloodgroup\n",
        "    self.next = None\n",
        "    self. prev = None"
      ],
      "metadata": {
        "id": "itoWpG7oNziA"
      },
      "execution_count": 3,
      "outputs": []
    },
    {
      "cell_type": "code",
      "source": [
        "class WRM:\n",
        "  def __init__(self):\n",
        "    self.head = None\n",
        "\n",
        "  def registerPatient(self,id, name, age, bloodgroup):\n",
        "    new_patient = Patient(id, name, age, bloodgroup)\n",
        "    if self.head is None:\n",
        "       self.head = new_patient\n",
        "       self.head.next = self.head\n",
        "       self.head.prev = self.head\n",
        "    else:\n",
        "       last_patient = self.head.prev\n",
        "       last_patient.next = new_patient\n",
        "       new_patient.prev = last_patient\n",
        "       new_patient.next = self.head\n",
        "       self.head.prev = new_patient\n",
        "\n",
        "  def servePatient(self):\n",
        "    if self.head is None:\n",
        "      print(\"No patient in the waiting room\")\n",
        "      return None\n",
        "    else:\n",
        "      served_patient = self.head\n",
        "      if self.head.next == self.head:\n",
        "        self.head = None\n",
        "      else:\n",
        "        self.head = self.head.next\n",
        "        self.head.prev = served_patient.prev\n",
        "        served_patient.prev.next = self.head\n",
        "      print(\"Serving patient:\", served_patient.name)\n",
        "\n",
        "  def showAllPatient(self):\n",
        "    if self.head is None:\n",
        "      print(\"No patient in the waiting room\")\n",
        "    else:\n",
        "      current_patient = self.head\n",
        "      while current_patient is not None:\n",
        "         print(\"Patient ID:\", current_patient.id, \"Name:\", current_patient.name)\n",
        "         current_patient = current_patient.next\n",
        "         if current_patient == self.head:\n",
        "            break\n",
        "\n",
        "  def canDoctorGoHome(self):\n",
        "    return self.head is None\n",
        "\n",
        "  def cancelAll(self):\n",
        "      self.head = None\n",
        "      print(\"All appointments canceled.\")\n",
        "\n",
        "  def ReverseTheLine(self):\n",
        "   if not self.head:\n",
        "      print(\"Can't reverse. No patient in the waiting room.\")\n",
        "   else:\n",
        "      current_patient = self.head\n",
        "      while True:\n",
        "         current_patient.next, current_patient.prev = current_patient.prev, current_patient.next\n",
        "         current_patient = current_patient.prev\n",
        "         if current_patient == self.head:\n",
        "            break\n",
        "      self.head = self.head.prev\n",
        "      print(\"Line reversed.\")"
      ],
      "metadata": {
        "id": "dNx7zTJ1OZNv"
      },
      "execution_count": 20,
      "outputs": []
    },
    {
      "cell_type": "code",
      "source": [
        "#Write a Tester Code in this cell\n",
        "print(\"**Welcome to Waiting Room Management System**\")\n",
        "Patient_Registry = WRM()\n",
        "\n",
        "while True:\n",
        "\n",
        "  print(\"\\n1. Add Patient\\n2. Serve Patient\\n3. Show All Patients\\n4. Can Doctor go Home?\\n5. Cancel All Appointments\\n6. Reverse the Line\\n7. Exit\")\n",
        "  var = int(input(\"Enter your choice: \"))\n",
        "\n",
        "  if var == 1:\n",
        "     id = int(input(\"Enter patient ID: \"))\n",
        "     name = input(\"Enter patient name: \")\n",
        "     age = int(input(\"Enter patient age: \"))\n",
        "     bloodgroup = input(\"Enter patient blood group: \")\n",
        "     Patient_Registry.registerPatient(id, name, age, bloodgroup)\n",
        "     print(\"Patient added successfully.\")\n",
        "\n",
        "  elif var == 2:\n",
        "    served_patient = Patient_Registry.servePatient()\n",
        "    if served_patient:\n",
        "      print(\"Serving patient:\", served_patient.name)\n",
        "\n",
        "  elif var == 3:\n",
        "    Patient_Registry.showAllPatient()\n",
        "\n",
        "  elif var == 4:\n",
        "    canDoctorGoHome = Patient_Registry.canDoctorGoHome()\n",
        "    if canDoctorGoHome:\n",
        "      print(\"No pending patients. Doctor can go home.\")\n",
        "    else:\n",
        "      print(\"There are still pending patients. Doctor cannot leave yet.\")\n",
        "\n",
        "  elif var == 5:\n",
        "    Patient_Registry.cancelAll()\n",
        "  elif var == 6:\n",
        "     Patient_Registry.ReverseTheLine()\n",
        "  elif var == 7:\n",
        "     break\n",
        "  else:\n",
        "    print(\"Invalid option. Please choose a number between 1 to 7.\")"
      ],
      "metadata": {
        "id": "jKhbn1LAPfjr",
        "colab": {
          "base_uri": "https://localhost:8080/"
        },
        "outputId": "02bb19a3-391d-4cbd-e4f4-cfc715481961"
      },
      "execution_count": 21,
      "outputs": [
        {
          "name": "stdout",
          "output_type": "stream",
          "text": [
            "**Welcome to Waiting Room Management System**\n",
            "\n",
            "1. Add Patient\n",
            "2. Serve Patient\n",
            "3. Show All Patients\n",
            "4. Can Doctor go Home?\n",
            "5. Cancel All Appointments\n",
            "6. Reverse the Line\n",
            "7. Exit\n",
            "Enter your choice: 1\n",
            "Enter patient ID: 6544\n",
            "Enter patient name: hjvftg\n",
            "Enter patient age: 33\n",
            "Enter patient blood group: A\n",
            "Patient added successfully.\n",
            "\n",
            "1. Add Patient\n",
            "2. Serve Patient\n",
            "3. Show All Patients\n",
            "4. Can Doctor go Home?\n",
            "5. Cancel All Appointments\n",
            "6. Reverse the Line\n",
            "7. Exit\n",
            "Enter your choice: 1\n",
            "Enter patient ID: 2345\n",
            "Enter patient name: sdgs\n",
            "Enter patient age: 32\n",
            "Enter patient blood group: B\n",
            "Patient added successfully.\n",
            "\n",
            "1. Add Patient\n",
            "2. Serve Patient\n",
            "3. Show All Patients\n",
            "4. Can Doctor go Home?\n",
            "5. Cancel All Appointments\n",
            "6. Reverse the Line\n",
            "7. Exit\n",
            "Enter your choice: 6\n",
            "Line reversed.\n",
            "\n",
            "1. Add Patient\n",
            "2. Serve Patient\n",
            "3. Show All Patients\n",
            "4. Can Doctor go Home?\n",
            "5. Cancel All Appointments\n",
            "6. Reverse the Line\n",
            "7. Exit\n",
            "Enter your choice: 2\n",
            "Serving patient: sdgs\n",
            "\n",
            "1. Add Patient\n",
            "2. Serve Patient\n",
            "3. Show All Patients\n",
            "4. Can Doctor go Home?\n",
            "5. Cancel All Appointments\n",
            "6. Reverse the Line\n",
            "7. Exit\n",
            "Enter your choice: 3\n",
            "Patient ID: 6544 Name: hjvftg\n",
            "\n",
            "1. Add Patient\n",
            "2. Serve Patient\n",
            "3. Show All Patients\n",
            "4. Can Doctor go Home?\n",
            "5. Cancel All Appointments\n",
            "6. Reverse the Line\n",
            "7. Exit\n",
            "Enter your choice: 4\n",
            "There are still pending patients. Doctor cannot leave yet.\n",
            "\n",
            "1. Add Patient\n",
            "2. Serve Patient\n",
            "3. Show All Patients\n",
            "4. Can Doctor go Home?\n",
            "5. Cancel All Appointments\n",
            "6. Reverse the Line\n",
            "7. Exit\n",
            "Enter your choice: 5\n",
            "All appointments canceled.\n",
            "\n",
            "1. Add Patient\n",
            "2. Serve Patient\n",
            "3. Show All Patients\n",
            "4. Can Doctor go Home?\n",
            "5. Cancel All Appointments\n",
            "6. Reverse the Line\n",
            "7. Exit\n",
            "Enter your choice: 7\n"
          ]
        }
      ]
    },
    {
      "cell_type": "markdown",
      "source": [
        "**Assignment Part 2: Stack**\n",
        "\n",
        "Linked List based Stack is implemented in the following cell."
      ],
      "metadata": {
        "id": "CJWd_j6YEnPn"
      }
    },
    {
      "cell_type": "code",
      "source": [
        "class Node:\n",
        "  def __init__(self,elem=None,next=None):\n",
        "    self.elem = elem\n",
        "    self.next = next\n",
        "\n",
        "class Stack:\n",
        "  def __init__(self):\n",
        "    self.__top = None\n",
        "\n",
        "  def push(self,elem):\n",
        "    nn = Node(elem,self.__top)\n",
        "    self.__top = nn\n",
        "\n",
        "  def pop(self):\n",
        "    if self.__top == None:\n",
        "      #print('Stack Underflow')\n",
        "      return None\n",
        "    e = self.__top\n",
        "    self.__top = self.__top.next\n",
        "    return e.elem\n",
        "\n",
        "  def peek(self):\n",
        "    if self.__top == None:\n",
        "      #print('Stack Underflow')\n",
        "      return None\n",
        "    return self.__top.elem\n",
        "\n",
        "  def isEmpty(self):\n",
        "    return self.__top == None\n"
      ],
      "metadata": {
        "id": "KHLhs5x0D-O6"
      },
      "execution_count": 22,
      "outputs": []
    },
    {
      "cell_type": "code",
      "source": [
        "#You can run this driver code cell to understand the methods of Stack class\n",
        "st = Stack()\n",
        "st.push(4)\n",
        "st.push(3)\n",
        "st.push(5)\n",
        "st.push(1)\n",
        "st.push(9)\n",
        "\n",
        "print('Peeked Element: ',st.peek())\n",
        "print('Popped Element: ',st.pop())\n",
        "print('Popped Element: ',st.pop())\n",
        "print('Popped Element: ',st.pop())\n",
        "print('Peeked Element: ',st.peek())\n",
        "print('Popped Element: ',st.pop())\n",
        "print('Popped Element: ',st.pop())\n",
        "print('Peeked Element: ',st.peek())\n",
        "print('Popped Element: ',st.pop())\n",
        "print(st.isEmpty())"
      ],
      "metadata": {
        "id": "4XkuMA7gEjE7",
        "colab": {
          "base_uri": "https://localhost:8080/"
        },
        "outputId": "730be7bd-12b5-4ea4-9cc7-4647fa50d810"
      },
      "execution_count": 23,
      "outputs": [
        {
          "output_type": "stream",
          "name": "stdout",
          "text": [
            "Peeked Element:  9\n",
            "Popped Element:  9\n",
            "Popped Element:  1\n",
            "Popped Element:  5\n",
            "Peeked Element:  3\n",
            "Popped Element:  3\n",
            "Popped Element:  4\n",
            "Peeked Element:  None\n",
            "Popped Element:  None\n",
            "True\n"
          ]
        }
      ]
    },
    {
      "cell_type": "markdown",
      "source": [
        "You can print your stack using this code segment"
      ],
      "metadata": {
        "id": "xrfONLccG9Gi"
      }
    },
    {
      "cell_type": "code",
      "source": [
        "def print_stack(st):\n",
        "  if st.isEmpty():\n",
        "    return\n",
        "  p = st.pop()\n",
        "  print('|',p,end=' ')\n",
        "  if p<10:\n",
        "    print(' |')\n",
        "  else:\n",
        "    print('|')\n",
        "  #print('------')\n",
        "  print_stack(st)\n",
        "  st.push(p)\n",
        "\n",
        "# st = Stack()\n",
        "# st.push(4)\n",
        "# st.push(3)\n",
        "# st.push(5)\n",
        "# st.push(1)\n",
        "# st.push(9)\n",
        "# print_stack(st)\n",
        "# print('------')"
      ],
      "metadata": {
        "id": "S-EembO_GsWA"
      },
      "execution_count": 24,
      "outputs": []
    },
    {
      "cell_type": "markdown",
      "source": [
        "Task 1: Diamond Count"
      ],
      "metadata": {
        "id": "iNMnfqqpIga2"
      }
    },
    {
      "cell_type": "code",
      "source": [
        "def diamond_count(stack,string):\n",
        "  count = 0\n",
        "  for char in string:\n",
        "    if char == '<':\n",
        "      stack.push(char)\n",
        "    elif char == '>' and not stack.isEmpty():\n",
        "      stack.pop()\n",
        "      count += 1\n",
        "  return count\n",
        "\n",
        "print('Test 01')\n",
        "stack = Stack()\n",
        "string = '<..><.<..>> '\n",
        "returned_value = diamond_count(stack,string)\n",
        "print(f'Number of Diamonds: {returned_value}') #This should print 3\n",
        "unittest.output_test(returned_value, 3)\n",
        "print('-----------------------------------------')\n",
        "\n",
        "\n",
        "print('Test 02')\n",
        "stack = Stack()\n",
        "string = '<<<..<......<<<<....>'\n",
        "returned_value = diamond_count(stack,string)\n",
        "print(f'Number of Diamonds: {returned_value}') #This should print 1\n",
        "unittest.output_test(returned_value, 1)\n",
        "print('-----------------------------------------')\n",
        "\n",
        "\n",
        "print('Test 03')\n",
        "stack = Stack()\n",
        "string = '>>><...<<..>>...>...>>>'\n",
        "returned_value = diamond_count(stack,string)\n",
        "print(f'Number of Diamonds: {returned_value}') #This should print 3\n",
        "unittest.output_test(returned_value, 3)\n",
        "print('-----------------------------------------')"
      ],
      "metadata": {
        "id": "GnX70OIvG_gZ",
        "colab": {
          "base_uri": "https://localhost:8080/"
        },
        "outputId": "dce8e344-4537-4000-b44e-7fbb565b061f"
      },
      "execution_count": 32,
      "outputs": [
        {
          "output_type": "stream",
          "name": "stdout",
          "text": [
            "Test 01\n",
            "Number of Diamonds: 3\n",
            "Accepted\n",
            "-----------------------------------------\n",
            "Test 02\n",
            "Number of Diamonds: 1\n",
            "Accepted\n",
            "-----------------------------------------\n",
            "Test 03\n",
            "Number of Diamonds: 3\n",
            "Accepted\n",
            "-----------------------------------------\n"
          ]
        }
      ]
    },
    {
      "cell_type": "markdown",
      "source": [
        "Task 2: Tower of Blocks"
      ],
      "metadata": {
        "id": "PhCF3SZ6IX5g"
      }
    },
    {
      "cell_type": "code",
      "source": [
        "def remove_block(stack, n):\n",
        "   temp = Stack()\n",
        "   for i in range(n-1):\n",
        "     temp.push(stack.pop())\n",
        "\n",
        "   stack.pop()\n",
        "\n",
        "   while not temp.isEmpty():\n",
        "     stack.push(temp.pop())\n",
        "\n",
        "print('Test 01')\n",
        "st = Stack()\n",
        "st.push(4)\n",
        "st.push(19)\n",
        "st.push(23)\n",
        "st.push(17)\n",
        "st.push(5)\n",
        "print('Stack:')\n",
        "print_stack(st)\n",
        "print('------')\n",
        "remove_block(st,2)\n",
        "print('After Removal')\n",
        "print_stack(st)\n",
        "print('------')\n",
        "\n",
        "print()\n",
        "print('======================================')\n",
        "print()\n",
        "\n",
        "print('Test 02')\n",
        "st = Stack()\n",
        "st.push(73)\n",
        "st.push(85)\n",
        "st.push(15)\n",
        "st.push(41)\n",
        "print('Stack:')\n",
        "print_stack(st)\n",
        "print('------')\n",
        "remove_block(st,3)\n",
        "print('After Removal')\n",
        "print_stack(st)\n",
        "print('------')\n",
        "\n",
        "print()\n",
        "print('======================================')\n",
        "print()"
      ],
      "metadata": {
        "id": "W3N4q7YAHExr",
        "colab": {
          "base_uri": "https://localhost:8080/"
        },
        "outputId": "cb4b03a2-fc5e-4ce0-ee92-242a0102c1ca"
      },
      "execution_count": 68,
      "outputs": [
        {
          "output_type": "stream",
          "name": "stdout",
          "text": [
            "Test 01\n",
            "Stack:\n",
            "| 5  |\n",
            "| 17 |\n",
            "| 23 |\n",
            "| 19 |\n",
            "| 4  |\n",
            "------\n",
            "After Removal\n",
            "| 5  |\n",
            "| 23 |\n",
            "| 19 |\n",
            "| 4  |\n",
            "------\n",
            "\n",
            "======================================\n",
            "\n",
            "Test 02\n",
            "Stack:\n",
            "| 41 |\n",
            "| 15 |\n",
            "| 85 |\n",
            "| 73 |\n",
            "------\n",
            "After Removal\n",
            "| 41 |\n",
            "| 15 |\n",
            "| 73 |\n",
            "------\n",
            "\n",
            "======================================\n",
            "\n"
          ]
        }
      ]
    },
    {
      "cell_type": "markdown",
      "source": [
        "Task 3: Stack Reverse"
      ],
      "metadata": {
        "id": "jcngRuqUWOfl"
      }
    },
    {
      "cell_type": "code",
      "source": [
        "def conditional_reverse(stack):\n",
        "\n",
        "   temp_stack = Stack()\n",
        "   reversed_stack = Stack()\n",
        "\n",
        "   while not stack.isEmpty():\n",
        "     current = stack.pop()\n",
        "     if current != stack.peek():\n",
        "       temp_stack.push(current)\n",
        "\n",
        "   print(\"Top:\", temp_stack.peek())\n",
        "   return temp_stack\n",
        "\n",
        "\n",
        "print('Test 01')\n",
        "st=Stack()\n",
        "st.push(10)\n",
        "st.push(10)\n",
        "st.push(20)\n",
        "st.push(20)\n",
        "st.push(30)\n",
        "st.push(10)\n",
        "st.push(50)\n",
        "print('Stack:')\n",
        "print_stack(st)\n",
        "print('------')\n",
        "reversed_stack=conditional_reverse(st)\n",
        "print('Conditional Reversed Stack:')\n",
        "print_stack(reversed_stack) # This stack contains 50, 10, 30, 20, 10 in this order whereas top element should be 10\n",
        "print('------')"
      ],
      "metadata": {
        "id": "gLSgfDKPWPnP",
        "colab": {
          "base_uri": "https://localhost:8080/"
        },
        "outputId": "74d295fe-9a69-42a4-ab83-612a4087d0ec"
      },
      "execution_count": 85,
      "outputs": [
        {
          "output_type": "stream",
          "name": "stdout",
          "text": [
            "Test 01\n",
            "Stack:\n",
            "| 50 |\n",
            "| 10 |\n",
            "| 30 |\n",
            "| 20 |\n",
            "| 20 |\n",
            "| 10 |\n",
            "| 10 |\n",
            "------\n",
            "Top: 10\n",
            "Conditional Reversed Stack:\n",
            "| 10 |\n",
            "| 20 |\n",
            "| 30 |\n",
            "| 10 |\n",
            "| 50 |\n",
            "------\n"
          ]
        }
      ]
    }
  ]
}