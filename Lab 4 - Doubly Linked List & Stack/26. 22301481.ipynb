{
  "nbformat": 4,
  "nbformat_minor": 0,
  "metadata": {
    "colab": {
      "provenance": []
    },
    "kernelspec": {
      "name": "python3",
      "display_name": "Python 3"
    },
    "language_info": {
      "name": "python"
    }
  },
  "cells": [
    {
      "cell_type": "code",
      "execution_count": 1,
      "metadata": {
        "id": "Pp1R95Pe7ID2",
        "colab": {
          "base_uri": "https://localhost:8080/"
        },
        "outputId": "e467a4dd-6bf6-4adf-92bb-365fa80aa95d"
      },
      "outputs": [
        {
          "output_type": "stream",
          "name": "stdout",
          "text": [
            "Requirement already satisfied: fhm-unittest in /usr/local/lib/python3.10/dist-packages (1.0.1)\n",
            "Requirement already satisfied: fuzzywuzzy in /usr/local/lib/python3.10/dist-packages (0.18.0)\n"
          ]
        },
        {
          "output_type": "stream",
          "name": "stderr",
          "text": [
            "/usr/local/lib/python3.10/dist-packages/fuzzywuzzy/fuzz.py:11: UserWarning: Using slow pure-python SequenceMatcher. Install python-Levenshtein to remove this warning\n",
            "  warnings.warn('Using slow pure-python SequenceMatcher. Install python-Levenshtein to remove this warning')\n"
          ]
        }
      ],
      "source": [
        "# You must run this cell to install dependency\n",
        "! pip3 install fhm-unittest\n",
        "! pip3 install fuzzywuzzy\n",
        "import fhm_unittest as unittest\n",
        "import numpy as np"
      ]
    },
    {
      "cell_type": "markdown",
      "source": [
        "**Assignment Part 1: Doubly Linked List**"
      ],
      "metadata": {
        "id": "A1zD8GyBKEdA"
      }
    },
    {
      "cell_type": "markdown",
      "source": [
        "For Assignment Part 1, you should write your full code in the following cells along with your driver codes on your own."
      ],
      "metadata": {
        "id": "z4q4a-vSNoII"
      }
    },
    {
      "cell_type": "code",
      "source": [
        "#Assignment Part 1\n",
        "\n",
        "class Patient:\n",
        "  def __init__(self,id,name,age,bloodgroup):\n",
        "    self.id=id\n",
        "    self.name=name\n",
        "    self.age=age\n",
        "    self.bloodgroup=bloodgroup\n",
        "    self.next=None\n",
        "    self.prev=None\n",
        "\n"
      ],
      "metadata": {
        "id": "itoWpG7oNziA"
      },
      "execution_count": 2,
      "outputs": []
    },
    {
      "cell_type": "code",
      "source": [
        "class WRM:\n",
        "  def __init__(self):\n",
        "    dum=Patient(None,None,None,None)\n",
        "    dum.next=dum\n",
        "    dum.prev=dum\n",
        "    self.head=dum\n",
        "\n",
        "\n",
        "  def RegisterPatient(self,id,name,age,bloodgroup):\n",
        "    patient=Patient(id,name,age,bloodgroup)\n",
        "    IdIsValid=True\n",
        "    hd = self.head.next\n",
        "    while(hd != self.head):\n",
        "      if hd.id==id:\n",
        "        IdIsValid=False\n",
        "        break\n",
        "      hd = hd.next\n",
        "    if IdIsValid:\n",
        "      lastNode=self.head.prev\n",
        "      patient.next=self.head\n",
        "      patient.prev==lastNode\n",
        "      lastNode.next=patient\n",
        "      self.head.prev=patient\n",
        "      print('\\nPatient Added Successfully.\\n')\n",
        "    else:\n",
        "      print('\\nUnsuccessful! Id already taken.\\n')\n",
        "\n",
        "  def ServePatient(self):\n",
        "    if self.head==None:\n",
        "      print('\\nNo patients in the waiting room.\\n')\n",
        "    if self.head.next==self.head:\n",
        "      print('\\nNo patients in the waiting room.\\n')\n",
        "    else:\n",
        "      patient=self.head.next\n",
        "      print(f'\\n{patient.name} is served succesfully.')\n",
        "      second=patient.next\n",
        "      second.prev=self.head\n",
        "      self.head.next=second\n",
        "  def CancelAll(self):\n",
        "    self.head=None\n",
        "  def CanDoctorGoHome(self):\n",
        "    if self.head is None:\n",
        "      return True\n",
        "    elif self.head.next==self.head:\n",
        "      return True\n",
        "    else:\n",
        "      return False\n",
        "  def ShowAllPatient(self):\n",
        "    if self.head==None:\n",
        "       print(\"No Patients in waiting room.\")\n",
        "    elif self.head.next==self.head:\n",
        "      print(\"No Patients in waiting room.\")\n",
        "    else:\n",
        "      ord=self.head.next\n",
        "      while(ord!= self.head):\n",
        "        print(f\"{ord.name}\")\n",
        "        ord=ord.next\n",
        "  def ReverseTheLine(self):\n",
        "    prev=None\n",
        "    curr=self.head\n",
        "    while curr!=None:\n",
        "      next=curr.next\n",
        "      curr.next=prev\n",
        "      prev=curr\n",
        "      curr=next\n",
        "    self.head=prev"
      ],
      "metadata": {
        "id": "dNx7zTJ1OZNv"
      },
      "execution_count": 3,
      "outputs": []
    },
    {
      "cell_type": "code",
      "source": [
        "#Write a Tester Code in this cell\n",
        "print(\"**Welcome to Waiting Room Management System**\")\n",
        "wrm = WRM()\n",
        "while True:\n",
        "    print(\"\\nOptions:\")\n",
        "    print(\"1. Add Patient\")\n",
        "    print(\"2. Serve Patient\")\n",
        "    print(\"3. Cancel All Appointments\")\n",
        "    print(\"4. Can Doctor Go Home?\")\n",
        "    print(\"5. Show All Patients\")\n",
        "    print(\"6. Reverse The Line\")\n",
        "    print(\"7. Exit\")\n",
        "\n",
        "    choice=int(input(\"Enter your choice: \"))\n",
        "\n",
        "    if choice==1:\n",
        "        id = int(input(\"Enter patient ID: \"))\n",
        "        name = input(\"Enter patient name: \")\n",
        "        age = int(input(\"Enter patient age: \"))\n",
        "        bloodgroup = input(\"Enter patient blood group: \")\n",
        "        wrm.RegisterPatient(id,name,age,bloodgroup)\n",
        "\n",
        "    elif choice==2:\n",
        "        wrm.ServePatient()\n",
        "\n",
        "    elif choice==3:\n",
        "        wrm.CancelAll()\n",
        "        print(\"All appointments canceled successfully.\")\n",
        "    elif choice==4:\n",
        "        if wrm.CanDoctorGoHome():\n",
        "            print(\"Yes, the doctor can go home.\")\n",
        "        else:\n",
        "            print(\"No, patients are still waiting.\")\n",
        "\n",
        "    elif choice==5:\n",
        "        wrm.ShowAllPatient()\n",
        "    elif choice==6:\n",
        "        wrm.ReverseTheLine()\n",
        "        print(\"Line reversed successfully.\")\n",
        "\n",
        "    elif choice==7:\n",
        "        print(\"Thank you for using.\\nExiting the program.\")\n",
        "\n",
        "    else:\n",
        "        print(\"Invalid choice. Please enter a valid option.\")\n",
        "\n"
      ],
      "metadata": {
        "id": "jKhbn1LAPfjr",
        "colab": {
          "base_uri": "https://localhost:8080/"
        },
        "outputId": "56d2922c-17f3-42a6-d68b-b41c2e216408"
      },
      "execution_count": null,
      "outputs": [
        {
          "output_type": "stream",
          "name": "stdout",
          "text": [
            "**Welcome to Waiting Room Management System**\n",
            "\n",
            "Options:\n",
            "1. Add Patient\n",
            "2. Serve Patient\n",
            "3. Cancel All Appointments\n",
            "4. Can Doctor Go Home?\n",
            "5. Show All Patients\n",
            "6. Reverse The Line\n",
            "7. Exit\n",
            "Enter your choice: 1\n",
            "Enter patient ID: 1\n",
            "Enter patient name: A\n",
            "Enter patient age: 20\n",
            "Enter patient blood group: A+ve\n",
            "\n",
            "Patient Added Successfully.\n",
            "\n",
            "\n",
            "Options:\n",
            "1. Add Patient\n",
            "2. Serve Patient\n",
            "3. Cancel All Appointments\n",
            "4. Can Doctor Go Home?\n",
            "5. Show All Patients\n",
            "6. Reverse The Line\n",
            "7. Exit\n",
            "Enter your choice: 2\n",
            "\n",
            "A is served succesfully.\n",
            "\n",
            "Options:\n",
            "1. Add Patient\n",
            "2. Serve Patient\n",
            "3. Cancel All Appointments\n",
            "4. Can Doctor Go Home?\n",
            "5. Show All Patients\n",
            "6. Reverse The Line\n",
            "7. Exit\n",
            "Enter your choice: 3\n",
            "All appointments canceled successfully.\n",
            "\n",
            "Options:\n",
            "1. Add Patient\n",
            "2. Serve Patient\n",
            "3. Cancel All Appointments\n",
            "4. Can Doctor Go Home?\n",
            "5. Show All Patients\n",
            "6. Reverse The Line\n",
            "7. Exit\n",
            "Enter your choice: 4\n",
            "Yes, the doctor can go home.\n",
            "\n",
            "Options:\n",
            "1. Add Patient\n",
            "2. Serve Patient\n",
            "3. Cancel All Appointments\n",
            "4. Can Doctor Go Home?\n",
            "5. Show All Patients\n",
            "6. Reverse The Line\n",
            "7. Exit\n",
            "Enter your choice: 5\n",
            "No Patients in waiting room.\n",
            "\n",
            "Options:\n",
            "1. Add Patient\n",
            "2. Serve Patient\n",
            "3. Cancel All Appointments\n",
            "4. Can Doctor Go Home?\n",
            "5. Show All Patients\n",
            "6. Reverse The Line\n",
            "7. Exit\n",
            "Enter your choice: 6\n",
            "Line reversed successfully.\n",
            "\n",
            "Options:\n",
            "1. Add Patient\n",
            "2. Serve Patient\n",
            "3. Cancel All Appointments\n",
            "4. Can Doctor Go Home?\n",
            "5. Show All Patients\n",
            "6. Reverse The Line\n",
            "7. Exit\n",
            "Enter your choice: 7\n",
            "Thank you for using.\n",
            "Exiting the program.\n",
            "\n",
            "Options:\n",
            "1. Add Patient\n",
            "2. Serve Patient\n",
            "3. Cancel All Appointments\n",
            "4. Can Doctor Go Home?\n",
            "5. Show All Patients\n",
            "6. Reverse The Line\n",
            "7. Exit\n",
            "Enter your choice: 7\n",
            "Thank you for using.\n",
            "Exiting the program.\n",
            "\n",
            "Options:\n",
            "1. Add Patient\n",
            "2. Serve Patient\n",
            "3. Cancel All Appointments\n",
            "4. Can Doctor Go Home?\n",
            "5. Show All Patients\n",
            "6. Reverse The Line\n",
            "7. Exit\n"
          ]
        }
      ]
    },
    {
      "cell_type": "markdown",
      "source": [
        "**Assignment Part 2: Stack**\n",
        "\n",
        "Linked List based Stack is implemented in the following cell."
      ],
      "metadata": {
        "id": "CJWd_j6YEnPn"
      }
    },
    {
      "cell_type": "code",
      "source": [
        "class Node:\n",
        "  def __init__(self,elem=None,next=None):\n",
        "    self.elem = elem\n",
        "    self.next = next\n",
        "\n",
        "class Stack:\n",
        "  def __init__(self):\n",
        "    self.__top = None\n",
        "\n",
        "  def push(self,elem):\n",
        "    nn = Node(elem,self.__top)\n",
        "    self.__top = nn\n",
        "\n",
        "  def pop(self):\n",
        "    if self.__top == None:\n",
        "      #print('Stack Underflow')\n",
        "      return None\n",
        "    e = self.__top\n",
        "    self.__top = self.__top.next\n",
        "    return e.elem\n",
        "\n",
        "  def peek(self):\n",
        "    if self.__top == None:\n",
        "      #print('Stack Underflow')\n",
        "      return None\n",
        "    return self.__top.elem\n",
        "\n",
        "  def isEmpty(self):\n",
        "    return self.__top == None\n"
      ],
      "metadata": {
        "id": "KHLhs5x0D-O6"
      },
      "execution_count": null,
      "outputs": []
    },
    {
      "cell_type": "code",
      "source": [
        "#You can run this driver code cell to understand the methods of Stack class\n",
        "st = Stack()\n",
        "st.push(4)\n",
        "st.push(3)\n",
        "st.push(5)\n",
        "st.push(1)\n",
        "st.push(9)\n",
        "\n",
        "print('Peeked Element: ',st.peek())\n",
        "print('Popped Element: ',st.pop())\n",
        "print('Popped Element: ',st.pop())\n",
        "print('Popped Element: ',st.pop())\n",
        "print('Peeked Element: ',st.peek())\n",
        "print('Popped Element: ',st.pop())\n",
        "print('Popped Element: ',st.pop())\n",
        "print('Peeked Element: ',st.peek())\n",
        "print('Popped Element: ',st.pop())\n",
        "print(st.isEmpty())"
      ],
      "metadata": {
        "id": "4XkuMA7gEjE7"
      },
      "execution_count": null,
      "outputs": []
    },
    {
      "cell_type": "markdown",
      "source": [
        "You can print your stack using this code segment"
      ],
      "metadata": {
        "id": "xrfONLccG9Gi"
      }
    },
    {
      "cell_type": "code",
      "source": [
        "def print_stack(st):\n",
        "  if st.isEmpty():\n",
        "    return\n",
        "  p = st.pop()\n",
        "  print('|',p,end=' ')\n",
        "  if p<10:\n",
        "    print(' |')\n",
        "  else:\n",
        "    print('|')\n",
        "  #print('------')\n",
        "  print_stack(st)\n",
        "  st.push(p)\n",
        "\n",
        "# st = Stack()\n",
        "# st.push(4)\n",
        "# st.push(3)\n",
        "# st.push(5)\n",
        "# st.push(1)\n",
        "# st.push(9)\n",
        "# print_stack(st)\n",
        "# print('------')"
      ],
      "metadata": {
        "id": "S-EembO_GsWA"
      },
      "execution_count": null,
      "outputs": []
    },
    {
      "cell_type": "markdown",
      "source": [
        "Task 1: Diamond Count"
      ],
      "metadata": {
        "id": "iNMnfqqpIga2"
      }
    },
    {
      "cell_type": "code",
      "source": [
        "def diamond_count(stack,string):\n",
        "  cout=0\n",
        "  i=0\n",
        "  while i<len(string):\n",
        "    if string[i]==\"<\":\n",
        "      stack.push(string[i])\n",
        "    elif string[i]==\">\":\n",
        "      if stack.peek()==\"<\":\n",
        "        stack.pop()\n",
        "        cout+=1\n",
        "    i+=1\n",
        "  return cout\n",
        "\n",
        "\n",
        "\n",
        "print('Test 01')\n",
        "stack = Stack()\n",
        "string = '<..><.<..>> '\n",
        "returned_value = diamond_count(stack,string)\n",
        "print(f'Number of Diamonds: {returned_value}') #This should print 3\n",
        "unittest.output_test(returned_value, 3)\n",
        "print('-----------------------------------------')\n",
        "\n",
        "\n",
        "print('Test 02')\n",
        "stack = Stack()\n",
        "string = '<<<..<......<<<<....>'\n",
        "returned_value = diamond_count(stack,string)\n",
        "print(f'Number of Diamonds: {returned_value}') #This should print 1\n",
        "unittest.output_test(returned_value, 1)\n",
        "print('-----------------------------------------')\n",
        "\n",
        "\n",
        "print('Test 03')\n",
        "stack = Stack()\n",
        "string = '>>><...<<..>>...>...>>>'\n",
        "returned_value = diamond_count(stack,string)\n",
        "print(f'Number of Diamonds: {returned_value}') #This should print 3\n",
        "unittest.output_test(returned_value, 3)\n",
        "print('-----------------------------------------')"
      ],
      "metadata": {
        "id": "GnX70OIvG_gZ"
      },
      "execution_count": null,
      "outputs": []
    },
    {
      "cell_type": "markdown",
      "source": [
        "Task 2: Tower of Blocks"
      ],
      "metadata": {
        "id": "PhCF3SZ6IX5g"
      }
    },
    {
      "cell_type": "code",
      "source": [
        "def remove_block(stack, n):\n",
        "   n_stack=Stack()\n",
        "   for i in range(n-1):\n",
        "    n_stack.push(st.pop())\n",
        "   st.pop()\n",
        "\n",
        "   while n_stack.isEmpty()==False:\n",
        "      n=n_stack.pop()\n",
        "      st.push(n)\n",
        "   return st\n",
        "\n",
        "\n",
        "print('Test 01')\n",
        "st = Stack()\n",
        "st.push(4)\n",
        "st.push(19)\n",
        "st.push(23)\n",
        "st.push(17)\n",
        "st.push(5)\n",
        "print('Stack:')\n",
        "print_stack(st)\n",
        "print('------')\n",
        "remove_block(st,2)\n",
        "print('After Removal')\n",
        "print_stack(st)\n",
        "print('------')\n",
        "\n",
        "print()\n",
        "print('======================================')\n",
        "print()\n",
        "\n",
        "print('Test 02')\n",
        "st = Stack()\n",
        "st.push(73)\n",
        "st.push(85)\n",
        "st.push(15)\n",
        "st.push(41)\n",
        "print('Stack:')\n",
        "print_stack(st)\n",
        "print('------')\n",
        "remove_block(st,3)\n",
        "print('After Removal')\n",
        "print_stack(st)\n",
        "print('------')\n",
        "\n",
        "print()\n",
        "print('======================================')\n",
        "print()"
      ],
      "metadata": {
        "id": "W3N4q7YAHExr"
      },
      "execution_count": null,
      "outputs": []
    },
    {
      "cell_type": "markdown",
      "source": [
        "Task 3: Stack Reverse"
      ],
      "metadata": {
        "id": "jcngRuqUWOfl"
      }
    },
    {
      "cell_type": "code",
      "source": [
        "def conditional_reverse(stack):\n",
        "      if stack.isEmpty():\n",
        "        return stack\n",
        "      temp_stack = Stack()\n",
        "\n",
        "      temp_stack.push(stack.pop())\n",
        "\n",
        "      while stack.isEmpty()==False:\n",
        "         current = stack.pop()\n",
        "         if current != temp_stack.peek():\n",
        "            temp_stack.push(current)\n",
        "\n",
        "\n",
        "\n",
        "      reversed_stack = Stack()\n",
        "\n",
        "\n",
        "      while temp_stack.isEmpty()==False:\n",
        "        reversed_stack.push(temp_stack.pop())\n",
        "\n",
        "      return reversed_stack\n",
        "\n",
        "\n",
        "print('Test 01')\n",
        "st=Stack()\n",
        "st.push(10)\n",
        "st.push(10)\n",
        "st.push(20)\n",
        "st.push(20)\n",
        "st.push(30)\n",
        "st.push(10)\n",
        "st.push(50)\n",
        "print('Stack:')\n",
        "print_stack(st)\n",
        "print('------')\n",
        "reversed_stack=conditional_reverse(st)\n",
        "print('Conditional Reversed Stack:')\n",
        "print_stack(reversed_stack) # This stack contains 50, 10, 30, 20, 10 in this order whereas top element should be 10\n",
        "print('------')"
      ],
      "metadata": {
        "id": "gLSgfDKPWPnP"
      },
      "execution_count": null,
      "outputs": []
    }
  ]
}