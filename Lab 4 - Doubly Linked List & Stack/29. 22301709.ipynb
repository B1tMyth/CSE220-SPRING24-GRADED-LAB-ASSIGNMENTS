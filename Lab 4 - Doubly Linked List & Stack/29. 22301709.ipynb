{
  "cells": [
    {
      "cell_type": "markdown",
      "metadata": {},
      "source": [
        "#### Part 1\n",
        "#### Task 2(f): You are supposed to reverse the DHDCLL not print it in reverse order. "
      ]
    },
    {
      "cell_type": "code",
      "execution_count": null,
      "metadata": {
        "colab": {
          "base_uri": "https://localhost:8080/"
        },
        "id": "Pp1R95Pe7ID2",
        "outputId": "e907381f-1345-4fe4-830c-7ad856958435"
      },
      "outputs": [
        {
          "name": "stdout",
          "output_type": "stream",
          "text": [
            "Collecting fhm-unittest\n",
            "  Downloading fhm_unittest-1.0.1-py3-none-any.whl (2.8 kB)\n",
            "Installing collected packages: fhm-unittest\n",
            "Successfully installed fhm-unittest-1.0.1\n",
            "Collecting fuzzywuzzy\n",
            "  Downloading fuzzywuzzy-0.18.0-py2.py3-none-any.whl (18 kB)\n",
            "Installing collected packages: fuzzywuzzy\n",
            "Successfully installed fuzzywuzzy-0.18.0\n"
          ]
        },
        {
          "name": "stderr",
          "output_type": "stream",
          "text": [
            "/usr/local/lib/python3.10/dist-packages/fuzzywuzzy/fuzz.py:11: UserWarning: Using slow pure-python SequenceMatcher. Install python-Levenshtein to remove this warning\n",
            "  warnings.warn('Using slow pure-python SequenceMatcher. Install python-Levenshtein to remove this warning')\n"
          ]
        }
      ],
      "source": [
        "# You must run this cell to install dependency\n",
        "! pip3 install fhm-unittest\n",
        "! pip3 install fuzzywuzzy\n",
        "import fhm_unittest as unittest\n",
        "import numpy as np"
      ]
    },
    {
      "cell_type": "markdown",
      "metadata": {
        "id": "A1zD8GyBKEdA"
      },
      "source": [
        "**Assignment Part 1: Doubly Linked List**"
      ]
    },
    {
      "cell_type": "markdown",
      "metadata": {
        "id": "z4q4a-vSNoII"
      },
      "source": [
        "For Assignment Part 1, you should write your full code in the following cells along with your driver codes on your own."
      ]
    },
    {
      "cell_type": "code",
      "execution_count": null,
      "metadata": {
        "id": "itoWpG7oNziA"
      },
      "outputs": [],
      "source": [
        "#Assignment Part 1\n",
        "class Patient:#node\n",
        "  def __init__(self, id, name, age, bloodgroup):\n",
        "   self.id=id\n",
        "   self.name=name\n",
        "   self.age=age\n",
        "   self.bloodgroup=bloodgroup\n",
        "   self.prev= None\n",
        "   self.next=None\n",
        "\n",
        "\n"
      ]
    },
    {
      "cell_type": "code",
      "execution_count": null,
      "metadata": {
        "id": "dNx7zTJ1OZNv"
      },
      "outputs": [],
      "source": [
        "class WRM:\n",
        "  def __init__(self):\n",
        "    self.dummy= Patient(None,None,None,None)\n",
        "    self.dummy.next= self.dummy\n",
        "    self.dummy.prev= self.dummy\n",
        "\n",
        "\n",
        "\n",
        "  def registerPatient(self,id, name, age, bloodgroup):\n",
        "    new_patient_reg= Patient(id, name, age, bloodgroup)\n",
        "    new_patient_reg.next=self.dummy\n",
        "    new_patient_reg.prev= self.dummy.prev\n",
        "    self.dummy.prev.next=new_patient_reg\n",
        "    self.dummy.prev= new_patient_reg\n",
        "\n",
        "  def servePatient(self):\n",
        "    if self.dummy.next != self.dummy:\n",
        "            patient = self.dummy.next\n",
        "            self.dummy.next = patient.next\n",
        "            patient.next.prev = self.dummy\n",
        "            return patient.name\n",
        "    else:\n",
        "            return \"No patients in the waiting room.\"\n",
        "\n",
        "  def showAllPatient(self):\n",
        "    current = self.dummy.next\n",
        "    while current != self.dummy:\n",
        "            print(current.name)\n",
        "            current = current.next\n",
        "\n",
        "  def canDoctorGoHome(self):\n",
        "    return self.dummy.next == self.dummy\n",
        "\n",
        "\n",
        "  def cancelAll(self):\n",
        "    self.dummy.next = self.dummy\n",
        "    self.dummy.prev = self.dummy\n",
        "\n",
        "  def ReverseTheLine(self):\n",
        "    current = self.dummy.prev\n",
        "    if self.count() != 0:\n",
        "            for _ in range(self.count()):\n",
        "                print(current.name)\n",
        "                current = current.prev\n",
        "    else:\n",
        "            print(\"No patient left\")\n",
        "  def count(self):\n",
        "        count = 0\n",
        "        current = self.dummy.next\n",
        "        while current != self.dummy:\n",
        "            count += 1\n",
        "            current = current.next\n",
        "        return count\n"
      ]
    },
    {
      "cell_type": "code",
      "execution_count": 20,
      "metadata": {
        "colab": {
          "base_uri": "https://localhost:8080/"
        },
        "id": "jKhbn1LAPfjr",
        "outputId": "0882a312-e405-485d-ba5d-a48a2a0b1d8b"
      },
      "outputs": [
        {
          "name": "stdout",
          "output_type": "stream",
          "text": [
            "**Welcome to Waiting Room Management System**\n",
            "\n",
            "Options:\n",
            "a. Add Patient\n",
            "b. Serve Patient\n",
            "c. Show All Patients\n",
            "d. Can Doctor go Home?\n",
            "e. Cancel All Appointments\n",
            "f. ReverseTheLine\n",
            "g. Quit\n",
            "Enter your choice: a\n",
            "Enter patient ID: 22\n",
            "Enter patient name: sami\n",
            "Enter patient age: 21\n",
            "Enter patient blood group: ab\n",
            "Patient added successfully.\n",
            "\n",
            "Options:\n",
            "a. Add Patient\n",
            "b. Serve Patient\n",
            "c. Show All Patients\n",
            "d. Can Doctor go Home?\n",
            "e. Cancel All Appointments\n",
            "f. ReverseTheLine\n",
            "g. Quit\n",
            "Enter your choice: a\n",
            "Enter patient ID: 223\n",
            "Enter patient name: risi\n",
            "Enter patient age: 32\n",
            "Enter patient blood group: ab\n",
            "Patient added successfully.\n",
            "\n",
            "Options:\n",
            "a. Add Patient\n",
            "b. Serve Patient\n",
            "c. Show All Patients\n",
            "d. Can Doctor go Home?\n",
            "e. Cancel All Appointments\n",
            "f. ReverseTheLine\n",
            "g. Quit\n",
            "Enter your choice: a\n",
            "Enter patient ID: 21\n",
            "Enter patient name: richi\n",
            "Enter patient age: 234\n",
            "Enter patient blood group: b+\n",
            "Patient added successfully.\n",
            "\n",
            "Options:\n",
            "a. Add Patient\n",
            "b. Serve Patient\n",
            "c. Show All Patients\n",
            "d. Can Doctor go Home?\n",
            "e. Cancel All Appointments\n",
            "f. ReverseTheLine\n",
            "g. Quit\n",
            "Enter your choice: c\n",
            "sami\n",
            "risi\n",
            "richi\n",
            "\n",
            "Options:\n",
            "a. Add Patient\n",
            "b. Serve Patient\n",
            "c. Show All Patients\n",
            "d. Can Doctor go Home?\n",
            "e. Cancel All Appointments\n",
            "f. ReverseTheLine\n",
            "g. Quit\n",
            "Enter your choice: f\n",
            "richi\n",
            "risi\n",
            "sami\n",
            "\n",
            "Options:\n",
            "a. Add Patient\n",
            "b. Serve Patient\n",
            "c. Show All Patients\n",
            "d. Can Doctor go Home?\n",
            "e. Cancel All Appointments\n",
            "f. ReverseTheLine\n",
            "g. Quit\n",
            "Enter your choice: b\n",
            "Serving patient: sami\n",
            "\n",
            "Options:\n",
            "a. Add Patient\n",
            "b. Serve Patient\n",
            "c. Show All Patients\n",
            "d. Can Doctor go Home?\n",
            "e. Cancel All Appointments\n",
            "f. ReverseTheLine\n",
            "g. Quit\n",
            "Enter your choice: d\n",
            "No, there are patients waiting.\n",
            "\n",
            "Options:\n",
            "a. Add Patient\n",
            "b. Serve Patient\n",
            "c. Show All Patients\n",
            "d. Can Doctor go Home?\n",
            "e. Cancel All Appointments\n",
            "f. ReverseTheLine\n",
            "g. Quit\n",
            "Enter your choice: e\n",
            "All appointments cancelled.\n",
            "\n",
            "Options:\n",
            "a. Add Patient\n",
            "b. Serve Patient\n",
            "c. Show All Patients\n",
            "d. Can Doctor go Home?\n",
            "e. Cancel All Appointments\n",
            "f. ReverseTheLine\n",
            "g. Quit\n",
            "Enter your choice: g\n",
            "Goodbye!\n"
          ]
        }
      ],
      "source": [
        "#Write a Tester Code in this cell\n",
        "print(\"**Welcome to Waiting Room Management System**\")\n",
        "wrm = WRM()\n",
        "while True:\n",
        "    print(\"\\nOptions:\")\n",
        "    print(\"a. Add Patient\")\n",
        "    print(\"b. Serve Patient\")\n",
        "    print(\"c. Show All Patients\")\n",
        "    print(\"d. Can Doctor go Home?\")\n",
        "    print(\"e. Cancel All Appointments\")\n",
        "    print(\"f. ReverseTheLine\")\n",
        "    print(\"g. Quit\")\n",
        "\n",
        "    choice = input(\"Enter your choice: \")\n",
        "\n",
        "    if choice == \"a\":\n",
        "        id = int(input(\"Enter patient ID: \"))\n",
        "        name = input(\"Enter patient name: \")\n",
        "        age = int(input(\"Enter patient age: \"))\n",
        "        bloodgroup = input(\"Enter patient blood group: \")\n",
        "        wrm.registerPatient(id, name, age, bloodgroup)\n",
        "        print(\"Patient added successfully.\")\n",
        "\n",
        "    elif choice == \"b\":\n",
        "        patient_name = wrm.servePatient()\n",
        "        print(\"Serving patient:\", patient_name)\n",
        "\n",
        "    elif choice == \"c\":\n",
        "        wrm.showAllPatient()\n",
        "\n",
        "    elif choice == \"d\":\n",
        "        if wrm.canDoctorGoHome():\n",
        "            print(\"Yes, doctor can go home.\")\n",
        "        else:\n",
        "            print(\"No, there are patients waiting.\")\n",
        "\n",
        "    elif choice == \"e\":\n",
        "        wrm.cancelAll()\n",
        "        print(\"All appointments cancelled.\")\n",
        "\n",
        "    elif choice == \"f\":\n",
        "        wrm.ReverseTheLine()\n",
        "\n",
        "    elif choice == \"g\":\n",
        "        print(\"Goodbye!\")\n",
        "        break"
      ]
    },
    {
      "cell_type": "markdown",
      "metadata": {
        "id": "CJWd_j6YEnPn"
      },
      "source": [
        "**Assignment Part 2: Stack**\n",
        "\n",
        "Linked List based Stack is implemented in the following cell."
      ]
    },
    {
      "cell_type": "code",
      "execution_count": null,
      "metadata": {
        "id": "KHLhs5x0D-O6"
      },
      "outputs": [],
      "source": [
        "class Node:\n",
        "  def __init__(self,elem=None,next=None):\n",
        "    self.elem = elem\n",
        "    self.next = next\n",
        "\n",
        "class Stack:\n",
        "  def __init__(self):\n",
        "    self.__top = None\n",
        "\n",
        "  def push(self,elem):\n",
        "    nn = Node(elem,self.__top)\n",
        "    self.__top = nn\n",
        "\n",
        "  def pop(self):\n",
        "    if self.__top == None:\n",
        "      #print('Stack Underflow')\n",
        "      return None\n",
        "    e = self.__top\n",
        "    self.__top = self.__top.next\n",
        "    e.next = None\n",
        "    return e.elem\n",
        "\n",
        "  def peek(self):\n",
        "    if self.__top == None:\n",
        "      #print('Stack Underflow')\n",
        "      return None\n",
        "    return self.__top.elem\n",
        "\n",
        "  def isEmpty(self):\n",
        "    return self.__top == None\n"
      ]
    },
    {
      "cell_type": "code",
      "execution_count": null,
      "metadata": {
        "colab": {
          "base_uri": "https://localhost:8080/"
        },
        "id": "4XkuMA7gEjE7",
        "outputId": "920c247a-4d01-4ee0-ed58-a81afbb5ea11"
      },
      "outputs": [
        {
          "name": "stdout",
          "output_type": "stream",
          "text": [
            "Peeked Element:  9\n",
            "Popped Element:  9\n",
            "Popped Element:  1\n",
            "Popped Element:  5\n",
            "Peeked Element:  3\n",
            "Popped Element:  3\n",
            "Popped Element:  4\n",
            "Peeked Element:  None\n",
            "Popped Element:  None\n",
            "True\n"
          ]
        }
      ],
      "source": [
        "#You can run this driver code cell to understand the methods of Stack class\n",
        "st = Stack()\n",
        "st.push(4)\n",
        "st.push(3)\n",
        "st.push(5)\n",
        "st.push(1)\n",
        "st.push(9)\n",
        "\n",
        "print('Peeked Element: ',st.peek())\n",
        "print('Popped Element: ',st.pop())\n",
        "print('Popped Element: ',st.pop())\n",
        "print('Popped Element: ',st.pop())\n",
        "print('Peeked Element: ',st.peek())\n",
        "print('Popped Element: ',st.pop())\n",
        "print('Popped Element: ',st.pop())\n",
        "print('Peeked Element: ',st.peek())\n",
        "print('Popped Element: ',st.pop())\n",
        "print(st.isEmpty())"
      ]
    },
    {
      "cell_type": "markdown",
      "metadata": {
        "id": "xrfONLccG9Gi"
      },
      "source": [
        "You can print your stack using this code segment"
      ]
    },
    {
      "cell_type": "code",
      "execution_count": null,
      "metadata": {
        "id": "S-EembO_GsWA"
      },
      "outputs": [],
      "source": [
        "def print_stack(st):\n",
        "  if st.isEmpty():\n",
        "    return\n",
        "  p = st.pop()\n",
        "  print('|',p,end=' ')\n",
        "  if p<10:\n",
        "    print(' |')\n",
        "  else:\n",
        "    print('|')\n",
        "  #print('------')\n",
        "  print_stack(st)\n",
        "  st.push(p)\n",
        "\n",
        "# st = Stack()\n",
        "# st.push(4)\n",
        "# st.push(3)\n",
        "# st.push(5)\n",
        "# st.push(1)\n",
        "# st.push(9)\n",
        "# print_stack(st)\n",
        "# print('------')"
      ]
    },
    {
      "cell_type": "markdown",
      "metadata": {
        "id": "iNMnfqqpIga2"
      },
      "source": [
        "Task 1: Diamond Count"
      ]
    },
    {
      "cell_type": "code",
      "execution_count": null,
      "metadata": {
        "colab": {
          "base_uri": "https://localhost:8080/"
        },
        "id": "GnX70OIvG_gZ",
        "outputId": "e48f5317-3081-47c2-cb95-8fc0c5382db8"
      },
      "outputs": [
        {
          "name": "stdout",
          "output_type": "stream",
          "text": [
            "Test 01\n",
            "Number of Diamonds: 3\n",
            "Accepted\n",
            "-----------------------------------------\n",
            "Test 02\n",
            "Number of Diamonds: 1\n",
            "Accepted\n",
            "-----------------------------------------\n",
            "Test 03\n",
            "Number of Diamonds: 3\n",
            "Accepted\n",
            "-----------------------------------------\n"
          ]
        }
      ],
      "source": [
        "def diamond_count(stack,string):\n",
        "  total_diamonds = 0\n",
        "\n",
        "  for i in range(len(string)):\n",
        "    if string[i] == '<':\n",
        "        stack.push(string[i])\n",
        "    elif string[i] == '>':\n",
        "        if not stack.isEmpty():\n",
        "            stack.pop()\n",
        "            total_diamonds += 1\n",
        "\n",
        "  return total_diamonds\n",
        "\n",
        "\n",
        "\n",
        "print('Test 01')\n",
        "stack = Stack()\n",
        "string = '<..><.<..>> '\n",
        "returned_value = diamond_count(stack,string)\n",
        "print(f'Number of Diamonds: {returned_value}') #This should print 3\n",
        "unittest.output_test(returned_value, 3)\n",
        "print('-----------------------------------------')\n",
        "\n",
        "\n",
        "print('Test 02')\n",
        "stack = Stack()\n",
        "string = '<<<..<......<<<<....>'\n",
        "returned_value = diamond_count(stack,string)\n",
        "print(f'Number of Diamonds: {returned_value}') #This should print 1\n",
        "unittest.output_test(returned_value, 1)\n",
        "print('-----------------------------------------')\n",
        "\n",
        "\n",
        "print('Test 03')\n",
        "stack = Stack()\n",
        "string = '>>><...<<..>>...>...>>>'\n",
        "returned_value = diamond_count(stack,string)\n",
        "print(f'Number of Diamonds: {returned_value}') #This should print 3\n",
        "unittest.output_test(returned_value, 3)\n",
        "print('-----------------------------------------')"
      ]
    },
    {
      "cell_type": "markdown",
      "metadata": {
        "id": "PhCF3SZ6IX5g"
      },
      "source": [
        "Task 2: Tower of Blocks"
      ]
    },
    {
      "cell_type": "code",
      "execution_count": null,
      "metadata": {
        "colab": {
          "base_uri": "https://localhost:8080/"
        },
        "id": "W3N4q7YAHExr",
        "outputId": "22c6fb72-ab98-4d44-cb8e-6e44743c33e2"
      },
      "outputs": [
        {
          "name": "stdout",
          "output_type": "stream",
          "text": [
            "Test 01\n",
            "Stack:\n",
            "| 5  |\n",
            "| 17 |\n",
            "| 23 |\n",
            "| 19 |\n",
            "| 4  |\n",
            "------\n",
            "After Removal\n",
            "| 5  |\n",
            "| 23 |\n",
            "| 19 |\n",
            "| 4  |\n",
            "------\n",
            "\n",
            "======================================\n",
            "\n",
            "Test 02\n",
            "Stack:\n",
            "| 41 |\n",
            "| 15 |\n",
            "| 85 |\n",
            "| 73 |\n",
            "------\n",
            "After Removal\n",
            "| 41 |\n",
            "| 15 |\n",
            "| 73 |\n",
            "------\n",
            "\n",
            "======================================\n",
            "\n"
          ]
        }
      ],
      "source": [
        "def remove_block(stack, n):\n",
        "  temp_stack = Stack()\n",
        "  count = 1\n",
        "\n",
        "  while st.peek() != None:\n",
        "    if count == n:\n",
        "        st.pop()\n",
        "    else:\n",
        "        temp_stack.push(st.pop())\n",
        "    count += 1\n",
        "\n",
        "  while temp_stack.peek() != None:\n",
        "    st.push(temp_stack.pop())\n",
        "\n",
        "\n",
        "print('Test 01')\n",
        "st = Stack()\n",
        "st.push(4)\n",
        "st.push(19)\n",
        "st.push(23)\n",
        "st.push(17)\n",
        "st.push(5)\n",
        "print('Stack:')\n",
        "print_stack(st)\n",
        "print('------')\n",
        "remove_block(st,2)\n",
        "print('After Removal')\n",
        "print_stack(st)\n",
        "print('------')\n",
        "\n",
        "print()\n",
        "print('======================================')\n",
        "print()\n",
        "\n",
        "print('Test 02')\n",
        "st = Stack()\n",
        "st.push(73)\n",
        "st.push(85)\n",
        "st.push(15)\n",
        "st.push(41)\n",
        "print('Stack:')\n",
        "print_stack(st)\n",
        "print('------')\n",
        "remove_block(st,3)\n",
        "print('After Removal')\n",
        "print_stack(st)\n",
        "print('------')\n",
        "\n",
        "print()\n",
        "print('======================================')\n",
        "print()"
      ]
    },
    {
      "cell_type": "markdown",
      "metadata": {
        "id": "jcngRuqUWOfl"
      },
      "source": [
        "Task 3: Stack Reverse"
      ]
    },
    {
      "cell_type": "code",
      "execution_count": 18,
      "metadata": {
        "colab": {
          "base_uri": "https://localhost:8080/"
        },
        "id": "gLSgfDKPWPnP",
        "outputId": "42ca2046-0d14-4d3a-c3a1-2c0a1ed7b864"
      },
      "outputs": [
        {
          "name": "stdout",
          "output_type": "stream",
          "text": [
            "Test 01\n",
            "Stack:\n",
            "| 50 |\n",
            "| 10 |\n",
            "| 30 |\n",
            "| 20 |\n",
            "| 20 |\n",
            "| 10 |\n",
            "| 10 |\n",
            "------\n",
            "Conditional Reversed Stack:\n",
            "| 50 |\n",
            "| 10 |\n",
            "| 30 |\n",
            "| 20 |\n",
            "| 10 |\n",
            "------\n"
          ]
        }
      ],
      "source": [
        "def conditional_reverse(stack):\n",
        "\n",
        " temp= Stack()\n",
        " prev = None\n",
        " while stack.isEmpty()==False:\n",
        "        curr = stack.pop()\n",
        "        if curr != prev:\n",
        "            temp.push(curr)\n",
        "            prev = curr\n",
        "\n",
        " reversed_stack = Stack()\n",
        " while temp.isEmpty()==False:\n",
        "        reversed_stack.push(temp.pop())\n",
        "\n",
        " return reversed_stack\n",
        "print('Test 01')\n",
        "st=Stack()\n",
        "st.push(10)\n",
        "st.push(10)\n",
        "st.push(20)\n",
        "st.push(20)\n",
        "st.push(30)\n",
        "st.push(10)\n",
        "st.push(50)\n",
        "print('Stack:')\n",
        "print_stack(st)\n",
        "print('------')\n",
        "reversed_stack=conditional_reverse(st)\n",
        "print('Conditional Reversed Stack:')\n",
        "print_stack(reversed_stack) # This stack contains 50, 10, 30, 20, 10 in this order whereas top element should be 10\n",
        "print('------')"
      ]
    }
  ],
  "metadata": {
    "colab": {
      "provenance": []
    },
    "kernelspec": {
      "display_name": "Python 3",
      "name": "python3"
    },
    "language_info": {
      "name": "python"
    }
  },
  "nbformat": 4,
  "nbformat_minor": 0
}
