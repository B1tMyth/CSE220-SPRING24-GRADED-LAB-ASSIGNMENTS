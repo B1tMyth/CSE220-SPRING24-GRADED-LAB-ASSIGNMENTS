{
  "cells": [
    {
      "cell_type": "code",
      "execution_count": 24,
      "metadata": {
        "colab": {
          "base_uri": "https://localhost:8080/"
        },
        "id": "Pp1R95Pe7ID2",
        "outputId": "411f0b8d-cfde-450a-c011-14bf5d50a592"
      },
      "outputs": [
        {
          "output_type": "stream",
          "name": "stdout",
          "text": [
            "Requirement already satisfied: fhm-unittest in /usr/local/lib/python3.10/dist-packages (1.0.1)\n",
            "Requirement already satisfied: fuzzywuzzy in /usr/local/lib/python3.10/dist-packages (0.18.0)\n"
          ]
        }
      ],
      "source": [
        "# You must run this cell to install dependency\n",
        "! pip3 install fhm-unittest\n",
        "! pip3 install fuzzywuzzy\n",
        "import fhm_unittest as unittest\n",
        "import numpy as np"
      ]
    },
    {
      "cell_type": "markdown",
      "metadata": {
        "id": "A1zD8GyBKEdA"
      },
      "source": [
        "**Assignment Part 1: Doubly Linked List**"
      ]
    },
    {
      "cell_type": "markdown",
      "metadata": {
        "id": "z4q4a-vSNoII"
      },
      "source": [
        "For Assignment Part 1, you should write your full code in the following cells along with your driver codes on your own."
      ]
    },
    {
      "cell_type": "code",
      "execution_count": 25,
      "metadata": {
        "id": "itoWpG7oNziA"
      },
      "outputs": [],
      "source": [
        "#Assignment Part 1\n",
        "\n",
        "class Patient:\n",
        "  def __init__(self,id=0,name=None,age=0,bloodGroup=None):\n",
        "    self.id=id\n",
        "    self.name=name\n",
        "    self.age=age\n",
        "    self.bloodGroup=bloodGroup\n",
        "    self.next=None\n",
        "    self.prev=None"
      ]
    },
    {
      "cell_type": "code",
      "execution_count": 32,
      "metadata": {
        "id": "dNx7zTJ1OZNv"
      },
      "outputs": [],
      "source": [
        "class WRM:\n",
        "  def __init__(self):\n",
        "    self.dh=Patient()\n",
        "    self.dh.next=self.dh\n",
        "    self.dh.prev=self.dh\n",
        "\n",
        "\n",
        "  def registerPatient(self,id, name, age, bloodgroup):\n",
        "    Nptnt=Patient(id, name, age, bloodgroup)\n",
        "    if self.dh.next==self.dh:\n",
        "      self.dh.next=Nptnt\n",
        "      Nptnt.next=self.dh\n",
        "      Nptnt.prev=self.dh\n",
        "      self.dh.prev=Nptnt\n",
        "    else:\n",
        "      Lptnt=self.dh.prev\n",
        "      Lptnt.next=Nptnt\n",
        "      Nptnt.prev=Lptnt\n",
        "      Nptnt.next=self.dh\n",
        "      self.dh.prev=Nptnt\n",
        "    print(\"Successfully registered!\")\n",
        "\n",
        "  def servePatient(self):\n",
        "    rn=self.dh.next\n",
        "    if rn==self.dh:\n",
        "      print(\"No patient!\")\n",
        "    else:\n",
        "      print(f\"{rn.name} has been served!\")\n",
        "    if rn.next!=self.dh:\n",
        "      rn.next.prev=rn.prev\n",
        "      rn.prev.next=rn.next\n",
        "      rn.next=None\n",
        "      rn.prev=None\n",
        "    else:\n",
        "      self.dh.next=self.dh\n",
        "      self.dh.prev=self.dh\n",
        "\n",
        "  def showAllPatient(self):\n",
        "    rn=self.dh.next\n",
        "    if self.dh.next!=self.dh:\n",
        "      while rn!=self.dh:\n",
        "        if rn.next!=self.dh:\n",
        "          print(f\"{rn.name}\",end='->')\n",
        "        else:\n",
        "          print(rn.name)\n",
        "        rn=rn.next\n",
        "    else:\n",
        "      print(\"No patient!\")\n",
        "    rn=self.dh.next\n",
        "    if self.dh.next!=self.dh:\n",
        "      while rn!=self.dh:\n",
        "        print(f\"Name: {rn.name}\")\n",
        "        print(f\"Age: {rn.age}\")\n",
        "        print(f\"ID: {rn.id}\")\n",
        "        print(f\"Blood group: {rn.bloodgroup}\")\n",
        "\n",
        "  def canDoctorGoHome(self):\n",
        "    if self.dh.next==self.dh:\n",
        "      print(\"Doctor may go home!\")\n",
        "    else:\n",
        "      print(\"Doctor can't go home!\")\n",
        "\n",
        "  def cancelAll(self):\n",
        "    self.dh.next=self.dh\n",
        "    self.dh.prev=self.dh\n",
        "    print(\"Successfully cancelled!\")\n",
        "\n",
        "  def ReverseTheLine(self):\n",
        "    if self.dh.next==self.dh:\n",
        "      return \"Cannot be reversed.\"\n",
        "    rn=self.dh.next\n",
        "    while rn!=self.dh:\n",
        "      rn.next=rn.prev\n",
        "      rn.prev=rn.next\n",
        "      rn=rn.prev\n",
        "    self.dh.next=self.dh.prev\n",
        "    self.dh.prev=self.dh.next\n",
        "    return \"Reversed successfully!\""
      ]
    },
    {
      "cell_type": "code",
      "execution_count": 37,
      "metadata": {
        "id": "jKhbn1LAPfjr",
        "colab": {
          "base_uri": "https://localhost:8080/"
        },
        "outputId": "b4f23d49-5e12-45d9-e883-4eac941a9bfa"
      },
      "outputs": [
        {
          "output_type": "stream",
          "name": "stdout",
          "text": [
            "**Welcome to Waiting Room Management System**\n",
            "*********************************************\n",
            "Choose an option from below: \n",
            "Press 1 to register patient.\n",
            "Press 2 to serve patient\n",
            "Press 3 to show patients' details.\n",
            "Press 4 to show if the doctor can go home or not.\n",
            "Press 5 to cancel all the appointments.\n",
            "Press 6 to reverse the serial of the patients.\n",
            "Press 7 to exit the system.\n",
            "Enter a number: 7\n",
            "Exited from the system successfully!\n"
          ]
        }
      ],
      "source": [
        "print(\"**Welcome to Waiting Room Management System**\")\n",
        "print(\"*********************************************\")\n",
        "a=WRM()\n",
        "print(\"Choose an option from below: \")\n",
        "print(\"Press 1 to register patient.\")\n",
        "print(\"Press 2 to serve patient\")\n",
        "print(\"Press 3 to show patients' details.\")\n",
        "print(\"Press 4 to show if the doctor can go home or not.\")\n",
        "print(\"Press 5 to cancel all the appointments.\")\n",
        "print(\"Press 6 to reverse the serial of the patients.\")\n",
        "print(\"Press 7 to exit the system.\")\n",
        "\n",
        "while True:\n",
        "  inpt=int(input(\"Enter a number: \"))\n",
        "  if inpt==1:\n",
        "    name=input(\"Enter patient's name: \")\n",
        "    age=int(input(\"Enter patient's age: \"))\n",
        "    id=int(input(\"Enter patient's ID: \"))\n",
        "    bloodgroup=input(\"Enter patient's blood group: \")\n",
        "    a.registerPatient(name,id,age,bloodgroup)\n",
        "  elif inpt==2:\n",
        "    a.servePatient()\n",
        "  elif inpt==3:\n",
        "    a.showAllPatient()\n",
        "  elif inpt==4:\n",
        "    a.canDoctorGoHome()\n",
        "  elif inpt==5:\n",
        "    a.cancelAll()\n",
        "  elif inpt==6:\n",
        "    print(a.ReverseTheLine())\n",
        "  elif inpt==7:\n",
        "    print(\"Exited from the system successfully!\")\n",
        "    break"
      ]
    },
    {
      "cell_type": "markdown",
      "metadata": {
        "id": "CJWd_j6YEnPn"
      },
      "source": [
        "**Assignment Part 2: Stack**\n",
        "\n",
        "Linked List based Stack is implemented in the following cell."
      ]
    },
    {
      "cell_type": "code",
      "execution_count": 4,
      "metadata": {
        "id": "KHLhs5x0D-O6"
      },
      "outputs": [],
      "source": [
        "class Node:\n",
        "  def __init__(self,elem=None,next=None):\n",
        "    self.elem = elem\n",
        "    self.next = next\n",
        "\n",
        "class Stack:\n",
        "  def __init__(self):\n",
        "    self.__top = None\n",
        "\n",
        "  def push(self,elem):\n",
        "    nn = Node(elem,self.__top)\n",
        "    self.__top = nn\n",
        "\n",
        "  def pop(self):\n",
        "    if self.__top == None:\n",
        "      #print('Stack Underflow')\n",
        "      return None\n",
        "    e = self.__top\n",
        "    self.__top = self.__top.next\n",
        "    return e.elem\n",
        "\n",
        "  def peek(self):\n",
        "    if self.__top == None:\n",
        "      #print('Stack Underflow')\n",
        "      return None\n",
        "    return self.__top.elem\n",
        "\n",
        "  def isEmpty(self):\n",
        "    return self.__top == None\n"
      ]
    },
    {
      "cell_type": "code",
      "execution_count": 5,
      "metadata": {
        "colab": {
          "base_uri": "https://localhost:8080/"
        },
        "id": "4XkuMA7gEjE7",
        "outputId": "126334c2-4b69-4d97-a7e7-83a066442f61"
      },
      "outputs": [
        {
          "output_type": "stream",
          "name": "stdout",
          "text": [
            "Peeked Element:  9\n",
            "Popped Element:  9\n",
            "Popped Element:  1\n",
            "Popped Element:  5\n",
            "Peeked Element:  3\n",
            "Popped Element:  3\n",
            "Popped Element:  4\n",
            "Peeked Element:  None\n",
            "Popped Element:  None\n",
            "True\n"
          ]
        }
      ],
      "source": [
        "#You can run this driver code cell to understand the methods of Stack class\n",
        "st = Stack()\n",
        "st.push(4)\n",
        "st.push(3)\n",
        "st.push(5)\n",
        "st.push(1)\n",
        "st.push(9)\n",
        "\n",
        "print('Peeked Element: ',st.peek())\n",
        "print('Popped Element: ',st.pop())\n",
        "print('Popped Element: ',st.pop())\n",
        "print('Popped Element: ',st.pop())\n",
        "print('Peeked Element: ',st.peek())\n",
        "print('Popped Element: ',st.pop())\n",
        "print('Popped Element: ',st.pop())\n",
        "print('Peeked Element: ',st.peek())\n",
        "print('Popped Element: ',st.pop())\n",
        "print(st.isEmpty())"
      ]
    },
    {
      "cell_type": "markdown",
      "metadata": {
        "id": "xrfONLccG9Gi"
      },
      "source": [
        "You can print your stack using this code segment"
      ]
    },
    {
      "cell_type": "code",
      "execution_count": 12,
      "metadata": {
        "id": "S-EembO_GsWA"
      },
      "outputs": [],
      "source": [
        "def print_stack(st):\n",
        "  if st.isEmpty():\n",
        "    return\n",
        "  p = st.pop()\n",
        "  print('|',p,end=' ')\n",
        "  if p<10:\n",
        "    print(' |')\n",
        "  else:\n",
        "    print('|')\n",
        "  #print('------')\n",
        "  print_stack(st)\n",
        "  st.push(p)\n",
        "\n",
        "# st = Stack()\n",
        "# st.push(4)\n",
        "# st.push(3)\n",
        "# st.push(5)\n",
        "# st.push(1)\n",
        "# st.push(9)\n",
        "# print_stack(st)\n",
        "# print('------')"
      ]
    },
    {
      "cell_type": "markdown",
      "metadata": {
        "id": "iNMnfqqpIga2"
      },
      "source": [
        "Task 1: Diamond Count"
      ]
    },
    {
      "cell_type": "code",
      "execution_count": 8,
      "metadata": {
        "colab": {
          "base_uri": "https://localhost:8080/"
        },
        "id": "GnX70OIvG_gZ",
        "outputId": "70ebbaeb-80f2-4a11-8e39-fa76bcdfa526"
      },
      "outputs": [
        {
          "output_type": "stream",
          "name": "stdout",
          "text": [
            "Test 01\n",
            "Number of Diamonds: 3\n",
            "Accepted\n",
            "-----------------------------------------\n",
            "Test 02\n",
            "Number of Diamonds: 1\n",
            "Accepted\n",
            "-----------------------------------------\n",
            "Test 03\n",
            "Number of Diamonds: 3\n",
            "Accepted\n",
            "-----------------------------------------\n"
          ]
        }
      ],
      "source": [
        "def diamond_count(stack,string):\n",
        "  diamond_count = 0\n",
        "  for i in string:\n",
        "    if i=='<':\n",
        "      stack.push(i)\n",
        "    elif i=='>':\n",
        "      if stack.isEmpty()!='' and stack.peek()=='<':\n",
        "        stack.pop()\n",
        "        diamond_count+=1\n",
        "  return diamond_count\n",
        "\n",
        "\n",
        "print('Test 01')\n",
        "stack = Stack()\n",
        "string = '<..><.<..>> '\n",
        "returned_value = diamond_count(stack,string)\n",
        "print(f'Number of Diamonds: {returned_value}') #This should print 3\n",
        "unittest.output_test(returned_value, 3)\n",
        "print('-----------------------------------------')\n",
        "\n",
        "\n",
        "print('Test 02')\n",
        "stack = Stack()\n",
        "string = '<<<..<......<<<<....>'\n",
        "returned_value = diamond_count(stack,string)\n",
        "print(f'Number of Diamonds: {returned_value}') #This should print 1\n",
        "unittest.output_test(returned_value, 1)\n",
        "print('-----------------------------------------')\n",
        "\n",
        "\n",
        "print('Test 03')\n",
        "stack = Stack()\n",
        "string = '>>><...<<..>>...>...>>>'\n",
        "returned_value = diamond_count(stack,string)\n",
        "print(f'Number of Diamonds: {returned_value}') #This should print 3\n",
        "unittest.output_test(returned_value, 3)\n",
        "print('-----------------------------------------')"
      ]
    },
    {
      "cell_type": "markdown",
      "metadata": {
        "id": "PhCF3SZ6IX5g"
      },
      "source": [
        "Task 2: Tower of Blocks"
      ]
    },
    {
      "cell_type": "code",
      "execution_count": 23,
      "metadata": {
        "id": "W3N4q7YAHExr",
        "colab": {
          "base_uri": "https://localhost:8080/"
        },
        "outputId": "f5c974ec-b80e-48eb-b841-89108f7c9f02"
      },
      "outputs": [
        {
          "output_type": "stream",
          "name": "stdout",
          "text": [
            "Test 01\n",
            "Stack:\n",
            "| 5  |\n",
            "| 17 |\n",
            "| 23 |\n",
            "| 19 |\n",
            "| 4  |\n",
            "------\n",
            "After Removal\n",
            "| 5  |\n",
            "| 23 |\n",
            "| 19 |\n",
            "| 4  |\n",
            "------\n",
            "\n",
            "======================================\n",
            "\n",
            "Test 02\n",
            "Stack:\n",
            "| 41 |\n",
            "| 15 |\n",
            "| 85 |\n",
            "| 73 |\n",
            "------\n",
            "After Removal\n",
            "| 41 |\n",
            "| 15 |\n",
            "| 73 |\n",
            "------\n",
            "\n",
            "======================================\n",
            "\n"
          ]
        }
      ],
      "source": [
        "def remove_block(stack, n):\n",
        "  stk=Stack()\n",
        "  count=0\n",
        "  a=stack.peek()\n",
        "  while not stack.isEmpty():\n",
        "    b=stack.pop()\n",
        "    count+=1\n",
        "    if count!=n:\n",
        "      stk.push(b)\n",
        "  while not stk.isEmpty():\n",
        "    c=stk.pop()\n",
        "    stack.push(c)\n",
        "  return stack\n",
        "\n",
        "\n",
        "print('Test 01')\n",
        "st = Stack()\n",
        "st.push(4)\n",
        "st.push(19)\n",
        "st.push(23)\n",
        "st.push(17)\n",
        "st.push(5)\n",
        "print('Stack:')\n",
        "print_stack(st)\n",
        "print('------')\n",
        "remove_block(st,2)\n",
        "print('After Removal')\n",
        "print_stack(st)\n",
        "print('------')\n",
        "\n",
        "print()\n",
        "print('======================================')\n",
        "print()\n",
        "\n",
        "print('Test 02')\n",
        "st = Stack()\n",
        "st.push(73)\n",
        "st.push(85)\n",
        "st.push(15)\n",
        "st.push(41)\n",
        "print('Stack:')\n",
        "print_stack(st)\n",
        "print('------')\n",
        "remove_block(st,3)\n",
        "print('After Removal')\n",
        "print_stack(st)\n",
        "print('------')\n",
        "\n",
        "print()\n",
        "print('======================================')\n",
        "print()"
      ]
    },
    {
      "cell_type": "markdown",
      "metadata": {
        "id": "jcngRuqUWOfl"
      },
      "source": [
        "Task 3: Stack Reverse"
      ]
    },
    {
      "cell_type": "code",
      "execution_count": null,
      "metadata": {
        "colab": {
          "base_uri": "https://localhost:8080/"
        },
        "id": "gLSgfDKPWPnP",
        "outputId": "8219804f-d866-4959-fce5-83525e9099c0"
      },
      "outputs": [
        {
          "output_type": "stream",
          "name": "stdout",
          "text": [
            "Test 01\n",
            "Stack:\n",
            "| 50 |\n",
            "| 10 |\n",
            "| 30 |\n",
            "| 20 |\n",
            "| 20 |\n",
            "| 10 |\n",
            "| 10 |\n",
            "------\n",
            "Conditional Reversed Stack:\n",
            "| 10 |\n",
            "| 20 |\n",
            "| 30 |\n",
            "| 10 |\n",
            "| 50 |\n",
            "------\n"
          ]
        }
      ],
      "source": [
        "def conditional_reverse(stack):\n",
        "  #To Do\n",
        "  revS=Stack()\n",
        "  a=stack.pop()\n",
        "  revS.push(a)\n",
        "  while not stack.isEmpty():\n",
        "    b=stack.pop()\n",
        "    if a!=b:\n",
        "      revS.push(b)\n",
        "      a=b\n",
        "  return revS\n",
        "\n",
        "print('Test 01')\n",
        "st=Stack()\n",
        "st.push(10)\n",
        "st.push(10)\n",
        "st.push(20)\n",
        "st.push(20)\n",
        "st.push(30)\n",
        "st.push(10)\n",
        "st.push(50)\n",
        "print('Stack:')\n",
        "print_stack(st)\n",
        "print('------')\n",
        "reversed_stack=conditional_reverse(st)\n",
        "print('Conditional Reversed Stack:')\n",
        "print_stack(reversed_stack) # This stack contains 50, 10, 30, 20, 10 in this order whereas top element should be 10\n",
        "print('------')"
      ]
    }
  ],
  "metadata": {
    "colab": {
      "provenance": []
    },
    "kernelspec": {
      "display_name": "Python 3",
      "name": "python3"
    },
    "language_info": {
      "name": "python"
    }
  },
  "nbformat": 4,
  "nbformat_minor": 0
}