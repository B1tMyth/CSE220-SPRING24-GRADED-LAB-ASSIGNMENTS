{
  "cells": [
    {
      "cell_type": "markdown",
      "metadata": {},
      "source": [
        "#### Plagiarized with ID: 22201020. "
      ]
    },
    {
      "cell_type": "code",
      "execution_count": 25,
      "metadata": {
        "colab": {
          "base_uri": "https://localhost:8080/"
        },
        "id": "Pp1R95Pe7ID2",
        "outputId": "13353e31-705d-4277-ecaf-ea3471333726"
      },
      "outputs": [
        {
          "name": "stdout",
          "output_type": "stream",
          "text": [
            "Requirement already satisfied: fhm-unittest in /usr/local/lib/python3.10/dist-packages (1.0.1)\n",
            "Requirement already satisfied: fuzzywuzzy in /usr/local/lib/python3.10/dist-packages (0.18.0)\n"
          ]
        }
      ],
      "source": [
        "# You must run this cell to install dependency\n",
        "! pip3 install fhm-unittest\n",
        "! pip3 install fuzzywuzzy\n",
        "import fhm_unittest as unittest\n",
        "import numpy as np"
      ]
    },
    {
      "cell_type": "markdown",
      "metadata": {
        "id": "A1zD8GyBKEdA"
      },
      "source": [
        "**Assignment Part 1: Doubly Linked List**"
      ]
    },
    {
      "cell_type": "markdown",
      "metadata": {
        "id": "z4q4a-vSNoII"
      },
      "source": [
        "For Assignment Part 1, you should write your full code in the following cells along with your driver codes on your own."
      ]
    },
    {
      "cell_type": "code",
      "execution_count": 26,
      "metadata": {
        "id": "itoWpG7oNziA"
      },
      "outputs": [],
      "source": [
        "#Assignment Part 1\n",
        "\n",
        "class Patient:\n",
        "  def __init__(self,id,name,age,bdg,prev,next):\n",
        "    self.id=id\n",
        "    self.name=name\n",
        "    self.age=age\n",
        "    self.bloodgroup=bdg\n",
        "    self.next=next\n",
        "    self.prev=prev\n",
        "\n"
      ]
    },
    {
      "cell_type": "code",
      "execution_count": 27,
      "metadata": {
        "id": "dNx7zTJ1OZNv"
      },
      "outputs": [],
      "source": [
        "class WRM:\n",
        "  def __init__(self):\n",
        "    self.head = Patient(None,None,None,None,None,None)\n",
        "    self.head.prev = self.head\n",
        "    self.head.next = self.head\n",
        "  def registerPatient(self,id, name, age, bloodgroup):\n",
        "    new_patient = Patient(id, name, age, bloodgroup,self.head.prev,self.head)\n",
        "    self.head.prev.next = new_patient\n",
        "    self.head.prev = new_patient\n",
        "\n",
        "  def servePatient(self):\n",
        "    x = self.head.next\n",
        "    self.head.next = self.head.next.next\n",
        "    self.head.next.prev = self.head\n",
        "\n",
        "  def showAllPatient(self):\n",
        "    temp = self.head\n",
        "    while True:\n",
        "      if temp.id!=None:\n",
        "        print(f\"Name: {temp.name}\\nID:{temp.id}\\nAge:{temp.age}\\nBloodgroup{temp.bloodgroup}\")\n",
        "        print()\n",
        "      if temp.next==self.head:\n",
        "        break\n",
        "      temp = temp.next\n",
        "  def canDoctorGoHome(self):\n",
        "    temp = self.head\n",
        "    if temp.next!=self.head:\n",
        "      return False\n",
        "    return True\n",
        "  def cancelAll(self):\n",
        "    x = self.head.next\n",
        "    self.head.next = self.head\n",
        "    self.head.prev = self.head\n",
        "    x = None\n",
        "  def ReverseTheLine(self):\n",
        "      temp = self.head\n",
        "      while True:\n",
        "        temp.next,temp.prev = temp.prev,temp.next\n",
        "        if temp.next == self.head:\n",
        "          break\n",
        "        temp = temp.next\n",
        "\n"
      ]
    },
    {
      "cell_type": "code",
      "execution_count": 28,
      "metadata": {
        "colab": {
          "base_uri": "https://localhost:8080/"
        },
        "id": "jKhbn1LAPfjr",
        "outputId": "b7426bed-2a82-4301-8b63-6b0f25ea24d6"
      },
      "outputs": [
        {
          "name": "stdout",
          "output_type": "stream",
          "text": [
            "Name: Riha\n",
            "ID:11\n",
            "Age:17\n",
            "BloodgroupA-\n",
            "\n",
            "Name: Rafi\n",
            "ID:21\n",
            "Age:15\n",
            "BloodgroupAb-\n",
            "\n",
            "Name: Urfi\n",
            "ID:31\n",
            "Age:18\n",
            "BloodgroupO-\n",
            "\n",
            "Name: Nabil\n",
            "ID:41\n",
            "Age:19\n",
            "BloodgroupA+\n",
            "\n",
            "Name: Ariya\n",
            "ID:51\n",
            "Age:10\n",
            "BloodgroupAB-\n",
            "\n",
            "Name: Tulona\n",
            "ID:61\n",
            "Age:13\n",
            "BloodgroupB+\n",
            "\n",
            "Name: Nuha\n",
            "ID:71\n",
            "Age:15\n",
            "BloodgroupAB+\n",
            "\n",
            "Name: Wajed\n",
            "ID:81\n",
            "Age:27\n",
            "BloodgroupA+\n",
            "\n",
            "Name: Faiyaj\n",
            "ID:91\n",
            "Age:11\n",
            "BloodgroupB-\n",
            "\n",
            "Name: Shihan\n",
            "ID:101\n",
            "Age:20\n",
            "BloodgroupA+\n",
            "\n",
            "False\n",
            "\n",
            "Name: Shihan\n",
            "ID:101\n",
            "Age:20\n",
            "BloodgroupA+\n",
            "\n",
            "Name: Faiyaj\n",
            "ID:91\n",
            "Age:11\n",
            "BloodgroupB-\n",
            "\n",
            "Name: Wajed\n",
            "ID:81\n",
            "Age:27\n",
            "BloodgroupA+\n",
            "\n",
            "Name: Nuha\n",
            "ID:71\n",
            "Age:15\n",
            "BloodgroupAB+\n",
            "\n",
            "Name: Tulona\n",
            "ID:61\n",
            "Age:13\n",
            "BloodgroupB+\n",
            "\n",
            "Name: Ariya\n",
            "ID:51\n",
            "Age:10\n",
            "BloodgroupAB-\n",
            "\n",
            "Name: Nabil\n",
            "ID:41\n",
            "Age:19\n",
            "BloodgroupA+\n",
            "\n",
            "Name: Urfi\n",
            "ID:31\n",
            "Age:18\n",
            "BloodgroupO-\n",
            "\n",
            "Name: Rafi\n",
            "ID:21\n",
            "Age:15\n",
            "BloodgroupAb-\n",
            "\n",
            "\n",
            "True\n",
            "**Welcome to Waiting Room Management System**\n"
          ]
        }
      ],
      "source": [
        "#Write a Tester Code in this cell\n",
        "hospital = WRM()\n",
        "hospital.registerPatient(11,\"Riha\",17,\"A-\")\n",
        "hospital.registerPatient(21,\"Rafi\",15,\"Ab-\")\n",
        "hospital.registerPatient(31,\"Urfi\",18,\"O-\")\n",
        "hospital.registerPatient(41,\"Nabil\",19,\"A+\")\n",
        "hospital.registerPatient(51,\"Ariya\",10,\"AB-\")\n",
        "hospital.registerPatient(61,\"Tulona\",13,\"B+\")\n",
        "hospital.registerPatient(71,\"Nuha\",15,\"AB+\")\n",
        "hospital.registerPatient(81,\"Wajed\",27,\"A+\")\n",
        "hospital.registerPatient(91,\"Faiyaj\",11,\"B-\")\n",
        "hospital.registerPatient(101,\"Shihan\",20,\"A+\")\n",
        "hospital.showAllPatient()\n",
        "print(hospital.canDoctorGoHome())\n",
        "print()\n",
        "hospital.servePatient()\n",
        "hospital.ReverseTheLine()\n",
        "hospital.showAllPatient()\n",
        "print()\n",
        "hospital.cancelAll()\n",
        "hospital.showAllPatient()\n",
        "print(hospital.canDoctorGoHome())\n",
        "\n",
        "print(\"**Welcome to Waiting Room Management System**\")\n",
        "\n"
      ]
    },
    {
      "cell_type": "markdown",
      "metadata": {
        "id": "CJWd_j6YEnPn"
      },
      "source": [
        "**Assignment Part 2: Stack**\n",
        "\n",
        "Linked List based Stack is implemented in the following cell."
      ]
    },
    {
      "cell_type": "code",
      "execution_count": 29,
      "metadata": {
        "id": "KHLhs5x0D-O6"
      },
      "outputs": [],
      "source": [
        "class Node:\n",
        "  def __init__(self,elem=None,next=None):\n",
        "    self.elem = elem\n",
        "    self.next = next\n",
        "\n",
        "class Stack:\n",
        "  def __init__(self):\n",
        "    self.__top = None\n",
        "\n",
        "  def push(self,elem):\n",
        "    nn = Node(elem,self.__top)\n",
        "    self.__top = nn\n",
        "\n",
        "  def pop(self):\n",
        "    if self.__top == None:\n",
        "      #print('Stack Underflow')\n",
        "      return None\n",
        "    e = self.__top\n",
        "    self.__top = self.__top.next\n",
        "    return e.elem\n",
        "\n",
        "  def peek(self):\n",
        "    if self.__top == None:\n",
        "      #print('Stack Underflow')\n",
        "      return None\n",
        "    return self.__top.elem\n",
        "\n",
        "  def isEmpty(self):\n",
        "    return self.__top == None\n"
      ]
    },
    {
      "cell_type": "code",
      "execution_count": 30,
      "metadata": {
        "colab": {
          "base_uri": "https://localhost:8080/"
        },
        "id": "4XkuMA7gEjE7",
        "outputId": "e97758b3-0d3c-474b-823f-cb8de2c34a79"
      },
      "outputs": [
        {
          "name": "stdout",
          "output_type": "stream",
          "text": [
            "Peeked Element:  9\n",
            "Popped Element:  9\n",
            "Popped Element:  1\n",
            "Popped Element:  5\n",
            "Peeked Element:  3\n",
            "Popped Element:  3\n",
            "Popped Element:  4\n",
            "Peeked Element:  None\n",
            "Popped Element:  None\n",
            "True\n"
          ]
        }
      ],
      "source": [
        "#You can run this driver code cell to understand the methods of Stack class\n",
        "st = Stack()\n",
        "st.push(4)\n",
        "st.push(3)\n",
        "st.push(5)\n",
        "st.push(1)\n",
        "st.push(9)\n",
        "\n",
        "print('Peeked Element: ',st.peek())\n",
        "print('Popped Element: ',st.pop())\n",
        "print('Popped Element: ',st.pop())\n",
        "print('Popped Element: ',st.pop())\n",
        "print('Peeked Element: ',st.peek())\n",
        "print('Popped Element: ',st.pop())\n",
        "print('Popped Element: ',st.pop())\n",
        "print('Peeked Element: ',st.peek())\n",
        "print('Popped Element: ',st.pop())\n",
        "print(st.isEmpty())"
      ]
    },
    {
      "cell_type": "markdown",
      "metadata": {
        "id": "xrfONLccG9Gi"
      },
      "source": [
        "You can print your stack using this code segment"
      ]
    },
    {
      "cell_type": "code",
      "execution_count": 31,
      "metadata": {
        "id": "S-EembO_GsWA"
      },
      "outputs": [],
      "source": [
        "def print_stack(st):\n",
        "  if st.isEmpty():\n",
        "    return\n",
        "  p = st.pop()\n",
        "  print('|',p,end=' ')\n",
        "  if p<10:\n",
        "    print(' |')\n",
        "  else:\n",
        "    print('|')\n",
        "  #print('------')\n",
        "  print_stack(st)\n",
        "  st.push(p)\n",
        "\n",
        "# st = Stack()\n",
        "# st.push(4)\n",
        "# st.push(3)\n",
        "# st.push(5)\n",
        "# st.push(1)\n",
        "# st.push(9)\n",
        "# print_stack(st)\n",
        "# print('------')"
      ]
    },
    {
      "cell_type": "markdown",
      "metadata": {
        "id": "iNMnfqqpIga2"
      },
      "source": [
        "Task 1: Diamond Count"
      ]
    },
    {
      "cell_type": "code",
      "execution_count": 32,
      "metadata": {
        "colab": {
          "base_uri": "https://localhost:8080/"
        },
        "id": "GnX70OIvG_gZ",
        "outputId": "9b937999-bfd4-4c8c-d8d9-f69b5ebd1246"
      },
      "outputs": [
        {
          "name": "stdout",
          "output_type": "stream",
          "text": [
            "Test 01\n",
            "Number of Diamonds: 3\n",
            "Accepted\n",
            "-----------------------------------------\n",
            "Test 02\n",
            "Number of Diamonds: 1\n",
            "Accepted\n",
            "-----------------------------------------\n",
            "Test 03\n",
            "Number of Diamonds: 3\n",
            "Accepted\n",
            "-----------------------------------------\n"
          ]
        }
      ],
      "source": [
        "def diamond_count(stack,string):\n",
        "  diamond_counter = 0\n",
        "  for i in string:\n",
        "    if i==\"<\":\n",
        "      stack.push(i)\n",
        "    elif i == \">\" and stack.peek()!=None:\n",
        "      stack.pop()\n",
        "      diamond_counter+=1\n",
        "  return diamond_counter\n",
        "print('Test 01')\n",
        "stack = Stack()\n",
        "string = '<..><.<..>> '\n",
        "returned_value = diamond_count(stack,string)\n",
        "print(f'Number of Diamonds: {returned_value}') #This should print 3\n",
        "unittest.output_test(returned_value, 3)\n",
        "print('-----------------------------------------')\n",
        "\n",
        "\n",
        "print('Test 02')\n",
        "stack = Stack()\n",
        "string = '<<<..<......<<<<....>'\n",
        "returned_value = diamond_count(stack,string)\n",
        "print(f'Number of Diamonds: {returned_value}') #This should print 1\n",
        "unittest.output_test(returned_value, 1)\n",
        "print('-----------------------------------------')\n",
        "\n",
        "\n",
        "print('Test 03')\n",
        "stack = Stack()\n",
        "string = '>>><...<<..>>...>...>>>'\n",
        "returned_value = diamond_count(stack,string)\n",
        "print(f'Number of Diamonds: {returned_value}') #This should print 3\n",
        "unittest.output_test(returned_value, 3)\n",
        "print('-----------------------------------------')"
      ]
    },
    {
      "cell_type": "markdown",
      "metadata": {
        "id": "PhCF3SZ6IX5g"
      },
      "source": [
        "Task 2: Tower of Blocks"
      ]
    },
    {
      "cell_type": "code",
      "execution_count": 33,
      "metadata": {
        "colab": {
          "base_uri": "https://localhost:8080/"
        },
        "id": "W3N4q7YAHExr",
        "outputId": "70902812-b1da-4481-93a4-ee11236a4a34"
      },
      "outputs": [
        {
          "name": "stdout",
          "output_type": "stream",
          "text": [
            "Test 01\n",
            "Stack:\n",
            "| 5  |\n",
            "| 17 |\n",
            "| 23 |\n",
            "| 19 |\n",
            "| 4  |\n",
            "------\n",
            "After Removal\n",
            "| 5  |\n",
            "| 23 |\n",
            "| 19 |\n",
            "| 4  |\n",
            "------\n",
            "\n",
            "======================================\n",
            "\n",
            "Test 02\n",
            "Stack:\n",
            "| 41 |\n",
            "| 15 |\n",
            "| 85 |\n",
            "| 73 |\n",
            "------\n",
            "After Removal\n",
            "| 41 |\n",
            "| 15 |\n",
            "| 73 |\n",
            "------\n",
            "\n",
            "======================================\n",
            "\n"
          ]
        }
      ],
      "source": [
        "def remove_block(stack, n):\n",
        "  stack_2 = Stack()\n",
        "  for i in range(n):\n",
        "    if i == n-1:\n",
        "      stack.pop()\n",
        "    else:\n",
        "      elem = stack.pop()\n",
        "      stack_2.push(elem)\n",
        "  while stack_2.isEmpty()!=True:\n",
        "    elem = stack_2.pop()\n",
        "    stack.push(elem)\n",
        "  return stack\n",
        "\n",
        "\n",
        "print('Test 01')\n",
        "st = Stack()\n",
        "st.push(4)\n",
        "st.push(19)\n",
        "st.push(23)\n",
        "st.push(17)\n",
        "st.push(5)\n",
        "print('Stack:')\n",
        "print_stack(st)\n",
        "print('------')\n",
        "remove_block(st,2)\n",
        "print('After Removal')\n",
        "print_stack(st)\n",
        "print('------')\n",
        "\n",
        "print()\n",
        "print('======================================')\n",
        "print()\n",
        "\n",
        "print('Test 02')\n",
        "st = Stack()\n",
        "st.push(73)\n",
        "st.push(85)\n",
        "st.push(15)\n",
        "st.push(41)\n",
        "print('Stack:')\n",
        "print_stack(st)\n",
        "print('------')\n",
        "remove_block(st,3)\n",
        "print('After Removal')\n",
        "print_stack(st)\n",
        "print('------')\n",
        "\n",
        "print()\n",
        "print('======================================')\n",
        "print()"
      ]
    },
    {
      "cell_type": "markdown",
      "metadata": {
        "id": "jcngRuqUWOfl"
      },
      "source": [
        "Task 3: Stack Reverse"
      ]
    },
    {
      "cell_type": "code",
      "execution_count": 34,
      "metadata": {
        "colab": {
          "base_uri": "https://localhost:8080/"
        },
        "id": "gLSgfDKPWPnP",
        "outputId": "474cc305-2750-4ada-a528-2c1d6e2527fa"
      },
      "outputs": [
        {
          "name": "stdout",
          "output_type": "stream",
          "text": [
            "Test 01\n",
            "Stack:\n",
            "| 50 |\n",
            "| 10 |\n",
            "| 30 |\n",
            "| 20 |\n",
            "| 20 |\n",
            "| 10 |\n",
            "| 10 |\n",
            "------\n",
            "Conditional Reversed Stack:\n",
            "| 10 |\n",
            "| 20 |\n",
            "| 30 |\n",
            "| 10 |\n",
            "| 50 |\n",
            "------\n"
          ]
        }
      ],
      "source": [
        "def conditional_reverse(stack):\n",
        "  temp_stack = Stack()\n",
        "  prev = None\n",
        "  while not stack.isEmpty():\n",
        "      current = stack.pop()\n",
        "      if current != prev:\n",
        "          temp_stack.push(current)\n",
        "          prev=current\n",
        "\n",
        "  return temp_stack\n",
        "\n",
        "\n",
        "\n",
        "print('Test 01')\n",
        "st=Stack()\n",
        "st.push(10)\n",
        "st.push(10)\n",
        "st.push(20)\n",
        "st.push(20)\n",
        "st.push(30)\n",
        "st.push(10)\n",
        "st.push(50)\n",
        "print('Stack:')\n",
        "print_stack(st)\n",
        "print('------')\n",
        "reversed_stack=conditional_reverse(st)\n",
        "print('Conditional Reversed Stack:')\n",
        "print_stack(reversed_stack) # This stack contains 50, 10, 30, 20, 10 in this order whereas top element should be 10\n",
        "print('------')"
      ]
    }
  ],
  "metadata": {
    "colab": {
      "provenance": []
    },
    "kernelspec": {
      "display_name": "Python 3",
      "name": "python3"
    },
    "language_info": {
      "name": "python"
    }
  },
  "nbformat": 4,
  "nbformat_minor": 0
}
