{
  "cells": [
    {
      "cell_type": "markdown",
      "metadata": {},
      "source": [
        "#### Plagiarized with ID: 22201127"
      ]
    },
    {
      "cell_type": "code",
      "execution_count": 13,
      "metadata": {
        "colab": {
          "base_uri": "https://localhost:8080/"
        },
        "id": "Pp1R95Pe7ID2",
        "outputId": "f31c9212-2fed-49ac-d397-4a74ff5f49ba"
      },
      "outputs": [
        {
          "name": "stdout",
          "output_type": "stream",
          "text": [
            "Requirement already satisfied: fhm-unittest in /usr/local/lib/python3.10/dist-packages (1.0.1)\n",
            "Requirement already satisfied: fuzzywuzzy in /usr/local/lib/python3.10/dist-packages (0.18.0)\n"
          ]
        }
      ],
      "source": [
        "# You must run this cell to install dependency\n",
        "! pip3 install fhm-unittest\n",
        "! pip3 install fuzzywuzzy\n",
        "import fhm_unittest as unittest\n",
        "import numpy as np"
      ]
    },
    {
      "cell_type": "markdown",
      "metadata": {
        "id": "A1zD8GyBKEdA"
      },
      "source": [
        "**Assignment Part 1: Doubly Linked List**"
      ]
    },
    {
      "cell_type": "markdown",
      "metadata": {
        "id": "z4q4a-vSNoII"
      },
      "source": [
        "For Assignment Part 1, you should write your full code in the following cells along with your driver codes on your own."
      ]
    },
    {
      "cell_type": "code",
      "execution_count": 14,
      "metadata": {
        "id": "itoWpG7oNziA"
      },
      "outputs": [],
      "source": [
        "#Assignment Part 1\n",
        "\n",
        "class Patient:\n",
        "  #write a constructor\n",
        "  def __init__(self, id, name, age, bld_grp):\n",
        "    self.id,self.name,self.age,self.blood_group,= id,name,age,bld_grp\n",
        "    self.next,self.prev = None,None"
      ]
    },
    {
      "cell_type": "code",
      "execution_count": 15,
      "metadata": {
        "id": "QKJeBXwwujZ2"
      },
      "outputs": [],
      "source": [
        "class WRM:\n",
        "  #write a constructor\n",
        "  def __init__(self):\n",
        "    new_patient = Patient(None, None, None, None)\n",
        "    new_patient.next = new_patient\n",
        "    new_patient.prev = new_patient\n",
        "    self.d_head = new_patient\n",
        "\n",
        "  def registerPatient(self,id, name, age, bloodgroup):\n",
        "    #To Do\n",
        "    new_patient = Patient(id, name, age, bloodgroup)\n",
        "    new_patient.next = self.d_head\n",
        "    new_patient.prev = self.d_head.prev\n",
        "    self.d_head.prev.next = new_patient\n",
        "    self.d_head.prev = new_patient\n",
        "    print(\"Patient added successfully.\")\n",
        "\n",
        "  def servePatient(self):\n",
        "    #To Do\n",
        "    if self.d_head.next == self.d_head:\n",
        "      print(\"No patient to be served.\")\n",
        "      return\n",
        "\n",
        "    patient_served = self.d_head.next\n",
        "    self.d_head.next = patient_served.next\n",
        "    patient_served.next.prev = self.d_head\n",
        "    print(patient_served.name , \"is served\")\n",
        "\n",
        "  def showAllPatient(self):\n",
        "    #To Do\n",
        "    if self.d_head.next == self.d_head:\n",
        "        print(\"No patients in the WRM.\")\n",
        "        return\n",
        "\n",
        "    curr_patient = self.d_head.next\n",
        "    while curr_patient != self.d_head:\n",
        "      print(curr_patient.name)\n",
        "      curr_patient = curr_patient.next\n",
        "\n",
        "  def canDoctorGoHome(self):\n",
        "    #To Do\n",
        "    return self.d_head.next == self.d_head\n",
        "\n",
        "\n",
        "  def cancelAll(self):\n",
        "    #To Do\n",
        "    self.d_head.next = self.d_head\n",
        "    self.d_head.prev = self.d_head\n",
        "    print(\"Success! All appointments cancelled.\")\n",
        "\n",
        "  def ReverseTheLine(self):\n",
        "    #To Do\n",
        "    if self.d_head.next == self.d_head:\n",
        "      print(\"No patients to reverse.\")\n",
        "      return\n",
        "\n",
        "    curr_patient = self.d_head.next\n",
        "    while curr_patient != self.d_head:\n",
        "      curr_patient.next, curr_patient.prev = curr_patient.prev, curr_patient.next\n",
        "      curr_patient = curr_patient.prev\n",
        "\n",
        "    self.d_head.next, self.d_head.prev = self.d_head.prev, self.d_head.next\n",
        "    print(\"Line reversed successfully.\")"
      ]
    },
    {
      "cell_type": "code",
      "execution_count": 16,
      "metadata": {
        "colab": {
          "base_uri": "https://localhost:8080/"
        },
        "id": "WQwmEK5Vvz0t",
        "outputId": "78affb35-8f62-46ba-c192-902a6fcd8029"
      },
      "outputs": [
        {
          "name": "stdout",
          "output_type": "stream",
          "text": [
            "**Welcome to Waiting Room Management System**\n",
            "==Choose an Option==\n",
            "1. Add Patient\n",
            "2. Serve Patient\n",
            "3. Show All Patients\n",
            "4. Can Doctor Go Home?\n",
            "5. Cancel All Appointments\n",
            "6. Reverse The Line\n",
            "7. Exit\n",
            "============================\n",
            "Enter your choice: 1\n",
            "Enter patient ID: 11\n",
            "Enter patient name: ww\n",
            "Enter patient age: 13\n",
            "Enter patient blood group: A+\n",
            "Patient added successfully.\n",
            "==Choose an Option==\n",
            "1. Add Patient\n",
            "2. Serve Patient\n",
            "3. Show All Patients\n",
            "4. Can Doctor Go Home?\n",
            "5. Cancel All Appointments\n",
            "6. Reverse The Line\n",
            "7. Exit\n",
            "============================\n",
            "Enter your choice: 1\n",
            "Enter patient ID: 12\n",
            "Enter patient name: ss\n",
            "Enter patient age: 34\n",
            "Enter patient blood group: B+\n",
            "Patient added successfully.\n",
            "==Choose an Option==\n",
            "1. Add Patient\n",
            "2. Serve Patient\n",
            "3. Show All Patients\n",
            "4. Can Doctor Go Home?\n",
            "5. Cancel All Appointments\n",
            "6. Reverse The Line\n",
            "7. Exit\n",
            "============================\n",
            "Enter your choice: 1\n",
            "Enter patient ID: 15\n",
            "Enter patient name: dd\n",
            "Enter patient age: 23\n",
            "Enter patient blood group: A+\n",
            "Patient added successfully.\n",
            "==Choose an Option==\n",
            "1. Add Patient\n",
            "2. Serve Patient\n",
            "3. Show All Patients\n",
            "4. Can Doctor Go Home?\n",
            "5. Cancel All Appointments\n",
            "6. Reverse The Line\n",
            "7. Exit\n",
            "============================\n",
            "Enter your choice: 3\n",
            "ww\n",
            "ss\n",
            "dd\n",
            "==Choose an Option==\n",
            "1. Add Patient\n",
            "2. Serve Patient\n",
            "3. Show All Patients\n",
            "4. Can Doctor Go Home?\n",
            "5. Cancel All Appointments\n",
            "6. Reverse The Line\n",
            "7. Exit\n",
            "============================\n",
            "Enter your choice: 2\n",
            "ww is served\n",
            "==Choose an Option==\n",
            "1. Add Patient\n",
            "2. Serve Patient\n",
            "3. Show All Patients\n",
            "4. Can Doctor Go Home?\n",
            "5. Cancel All Appointments\n",
            "6. Reverse The Line\n",
            "7. Exit\n",
            "============================\n",
            "Enter your choice: 4\n",
            "No.\n",
            "==Choose an Option==\n",
            "1. Add Patient\n",
            "2. Serve Patient\n",
            "3. Show All Patients\n",
            "4. Can Doctor Go Home?\n",
            "5. Cancel All Appointments\n",
            "6. Reverse The Line\n",
            "7. Exit\n",
            "============================\n",
            "Enter your choice: 6\n",
            "Line reversed successfully.\n",
            "==Choose an Option==\n",
            "1. Add Patient\n",
            "2. Serve Patient\n",
            "3. Show All Patients\n",
            "4. Can Doctor Go Home?\n",
            "5. Cancel All Appointments\n",
            "6. Reverse The Line\n",
            "7. Exit\n",
            "============================\n",
            "Enter your choice: 5\n",
            "Success! All appointments cancelled.\n",
            "==Choose an Option==\n",
            "1. Add Patient\n",
            "2. Serve Patient\n",
            "3. Show All Patients\n",
            "4. Can Doctor Go Home?\n",
            "5. Cancel All Appointments\n",
            "6. Reverse The Line\n",
            "7. Exit\n",
            "============================\n",
            "Enter your choice: 7\n",
            "Thank You For Using Waiting Room Management System\n",
            "EXITING...\n"
          ]
        }
      ],
      "source": [
        "#Write a Tester Code in this cell\n",
        "print(\"**Welcome to Waiting Room Management System**\")\n",
        "wrm = WRM()\n",
        "\n",
        "while True:\n",
        "  print('==Choose an Option==')\n",
        "  print(\"1. Add Patient\")\n",
        "  print(\"2. Serve Patient\")\n",
        "  print(\"3. Show All Patients\")\n",
        "  print(\"4. Can Doctor Go Home?\")\n",
        "  print(\"5. Cancel All Appointments\")\n",
        "  print(\"6. Reverse The Line\")\n",
        "  print(\"7. Exit\")\n",
        "  print('============================')\n",
        "\n",
        "  option = int(input(\"Enter your choice: \"))\n",
        "\n",
        "  if option == 1:\n",
        "    id = int(input(\"Enter patient ID: \"))\n",
        "    name = input(\"Enter patient name: \")\n",
        "    age = int(input(\"Enter patient age: \"))\n",
        "    bloodgroup = input(\"Enter patient blood group: \")\n",
        "    wrm.registerPatient(id, name, age, bloodgroup)\n",
        "\n",
        "  elif option == 2:\n",
        "    wrm.servePatient()\n",
        "\n",
        "  elif option == 3:\n",
        "    wrm.showAllPatient()\n",
        "\n",
        "  elif option == 4:\n",
        "    if wrm.canDoctorGoHome():\n",
        "      print(\"Yes.\")\n",
        "    else:\n",
        "      print(\"No.\")\n",
        "\n",
        "  elif option == 5:\n",
        "    wrm.cancelAll()\n",
        "\n",
        "  elif option == 6:\n",
        "    wrm.ReverseTheLine()\n",
        "\n",
        "  elif option == 7:\n",
        "    print('Thank You For Using Waiting Room Management System')\n",
        "    print('EXITING...')\n",
        "    break\n",
        "  else:\n",
        "    print('No such option')"
      ]
    },
    {
      "cell_type": "markdown",
      "metadata": {
        "id": "CJWd_j6YEnPn"
      },
      "source": [
        "**Assignment Part 2: Stack**\n",
        "\n",
        "Linked List based Stack is implemented in the following cell."
      ]
    },
    {
      "cell_type": "code",
      "execution_count": 17,
      "metadata": {
        "id": "KHLhs5x0D-O6"
      },
      "outputs": [],
      "source": [
        "class Node:\n",
        "  def __init__(self,elem=None,next=None):\n",
        "    self.elem = elem\n",
        "    self.next = next\n",
        "\n",
        "class Stack:\n",
        "  def __init__(self):\n",
        "    self.__top = None\n",
        "\n",
        "  def push(self,elem):\n",
        "    nn = Node(elem,self.__top)\n",
        "    self.__top = nn\n",
        "\n",
        "  def pop(self):\n",
        "    if self.__top == None:\n",
        "      #print('Stack Underflow')\n",
        "      return None\n",
        "    e = self.__top\n",
        "    self.__top = self.__top.next\n",
        "    return e.elem\n",
        "\n",
        "  def peek(self):\n",
        "    if self.__top == None:\n",
        "      #print('Stack Underflow')\n",
        "      return None\n",
        "    return self.__top.elem\n",
        "\n",
        "  def isEmpty(self):\n",
        "    return self.__top == None\n"
      ]
    },
    {
      "cell_type": "code",
      "execution_count": 18,
      "metadata": {
        "colab": {
          "base_uri": "https://localhost:8080/"
        },
        "id": "4XkuMA7gEjE7",
        "outputId": "80f93b03-b682-43aa-fda3-f855a4e60e13"
      },
      "outputs": [
        {
          "name": "stdout",
          "output_type": "stream",
          "text": [
            "Peeked Element:  9\n",
            "Popped Element:  9\n",
            "Popped Element:  1\n",
            "Popped Element:  5\n",
            "Peeked Element:  3\n",
            "Popped Element:  3\n",
            "Popped Element:  4\n",
            "Peeked Element:  None\n",
            "Popped Element:  None\n",
            "True\n"
          ]
        }
      ],
      "source": [
        "#You can run this driver code cell to understand the methods of Stack class\n",
        "st = Stack()\n",
        "st.push(4)\n",
        "st.push(3)\n",
        "st.push(5)\n",
        "st.push(1)\n",
        "st.push(9)\n",
        "\n",
        "print('Peeked Element: ',st.peek())\n",
        "print('Popped Element: ',st.pop())\n",
        "print('Popped Element: ',st.pop())\n",
        "print('Popped Element: ',st.pop())\n",
        "print('Peeked Element: ',st.peek())\n",
        "print('Popped Element: ',st.pop())\n",
        "print('Popped Element: ',st.pop())\n",
        "print('Peeked Element: ',st.peek())\n",
        "print('Popped Element: ',st.pop())\n",
        "print(st.isEmpty())"
      ]
    },
    {
      "cell_type": "markdown",
      "metadata": {
        "id": "xrfONLccG9Gi"
      },
      "source": [
        "You can print your stack using this code segment"
      ]
    },
    {
      "cell_type": "code",
      "execution_count": 19,
      "metadata": {
        "id": "S-EembO_GsWA"
      },
      "outputs": [],
      "source": [
        "def print_stack(st):\n",
        "  if st.isEmpty():\n",
        "    return\n",
        "  p = st.pop()\n",
        "  print('|',p,end=' ')\n",
        "  if p<10:\n",
        "    print(' |')\n",
        "  else:\n",
        "    print('|')\n",
        "  #print('------')\n",
        "  print_stack(st)\n",
        "  st.push(p)\n",
        "\n",
        "# st = Stack()\n",
        "# st.push(4)\n",
        "# st.push(3)\n",
        "# st.push(5)\n",
        "# st.push(1)\n",
        "# st.push(9)\n",
        "# print_stack(st)\n",
        "# print('------')"
      ]
    },
    {
      "cell_type": "markdown",
      "metadata": {
        "id": "iNMnfqqpIga2"
      },
      "source": [
        "Task 1: Diamond Count"
      ]
    },
    {
      "cell_type": "code",
      "execution_count": 20,
      "metadata": {
        "colab": {
          "base_uri": "https://localhost:8080/"
        },
        "id": "GnX70OIvG_gZ",
        "outputId": "cc16f5a5-7509-45b1-f5d3-b0d03b4b4e9f"
      },
      "outputs": [
        {
          "name": "stdout",
          "output_type": "stream",
          "text": [
            "Test 01\n",
            "Number of Diamonds: 3\n",
            "Accepted\n",
            "-----------------------------------------\n",
            "Test 02\n",
            "Number of Diamonds: 1\n",
            "Accepted\n",
            "-----------------------------------------\n",
            "Test 03\n",
            "Number of Diamonds: 3\n",
            "Accepted\n",
            "-----------------------------------------\n"
          ]
        }
      ],
      "source": [
        "def diamond_count(stack,string):\n",
        "  #TO DO\n",
        "  # count = 0\n",
        "  # for char in string:\n",
        "  #   if char == '<':\n",
        "  #     stack.push(char)\n",
        "  #   elif char == '>' and not stack.isEmpty() and stack.peek() == '<':\n",
        "  #       stack.pop()\n",
        "  #       count += 1\n",
        "  # return count\n",
        "  count=0\n",
        "  need_stack=Stack()\n",
        "  for i in string:\n",
        "    if i==\"<\":\n",
        "      need_stack.push(i)\n",
        "    elif i==\">\":\n",
        "      if need_stack.isEmpty() is False:\n",
        "        count+=1\n",
        "        need_stack.pop()\n",
        "  return count\n",
        "\n",
        "print('Test 01')\n",
        "stack = Stack()\n",
        "string = '<..><.<..>> '\n",
        "returned_value = diamond_count(stack,string)\n",
        "print(f'Number of Diamonds: {returned_value}') #This should print 3\n",
        "unittest.output_test(returned_value, 3)\n",
        "print('-----------------------------------------')\n",
        "\n",
        "\n",
        "print('Test 02')\n",
        "stack = Stack()\n",
        "string = '<<<..<......<<<<....>'\n",
        "returned_value = diamond_count(stack,string)\n",
        "print(f'Number of Diamonds: {returned_value}') #This should print 1\n",
        "unittest.output_test(returned_value, 1)\n",
        "print('-----------------------------------------')\n",
        "\n",
        "\n",
        "print('Test 03')\n",
        "stack = Stack()\n",
        "string = '>>><...<<..>>...>...>>>'\n",
        "returned_value = diamond_count(stack,string)\n",
        "print(f'Number of Diamonds: {returned_value}') #This should print 3\n",
        "unittest.output_test(returned_value, 3)\n",
        "print('-----------------------------------------')"
      ]
    },
    {
      "cell_type": "markdown",
      "metadata": {
        "id": "PhCF3SZ6IX5g"
      },
      "source": [
        "Task 2: Tower of Blocks"
      ]
    },
    {
      "cell_type": "code",
      "execution_count": 21,
      "metadata": {
        "colab": {
          "base_uri": "https://localhost:8080/"
        },
        "id": "W3N4q7YAHExr",
        "outputId": "40febc90-d326-4418-91ad-a65d2ba624f2"
      },
      "outputs": [
        {
          "name": "stdout",
          "output_type": "stream",
          "text": [
            "Test 01\n",
            "Stack:\n",
            "| 5  |\n",
            "| 17 |\n",
            "| 23 |\n",
            "| 19 |\n",
            "| 4  |\n",
            "------\n",
            "After Removal\n",
            "| 5  |\n",
            "| 23 |\n",
            "| 19 |\n",
            "| 4  |\n",
            "------\n",
            "\n",
            "======================================\n",
            "\n",
            "Test 02\n",
            "Stack:\n",
            "| 41 |\n",
            "| 15 |\n",
            "| 85 |\n",
            "| 73 |\n",
            "------\n",
            "After Removal\n",
            "| 41 |\n",
            "| 15 |\n",
            "| 73 |\n",
            "------\n",
            "\n",
            "======================================\n",
            "\n"
          ]
        }
      ],
      "source": [
        "def remove_block(stack, n):\n",
        "  #TO DO\n",
        "  temp_stack = Stack()\n",
        "  count=0\n",
        "  while count != n:\n",
        "    temp_stack.push(stack.pop())\n",
        "    count+= 1\n",
        "\n",
        "  temp_stack.pop()\n",
        "  while not temp_stack.isEmpty():\n",
        "    stack.push(temp_stack.pop())\n",
        "\n",
        "  return stack\n",
        "\n",
        "print('Test 01')\n",
        "st = Stack()\n",
        "st.push(4)\n",
        "st.push(19)\n",
        "st.push(23)\n",
        "st.push(17)\n",
        "st.push(5)\n",
        "print('Stack:')\n",
        "print_stack(st)\n",
        "print('------')\n",
        "remove_block(st,2)\n",
        "print('After Removal')\n",
        "print_stack(st)\n",
        "print('------')\n",
        "\n",
        "print()\n",
        "print('======================================')\n",
        "print()\n",
        "\n",
        "print('Test 02')\n",
        "st = Stack()\n",
        "st.push(73)\n",
        "st.push(85)\n",
        "st.push(15)\n",
        "st.push(41)\n",
        "print('Stack:')\n",
        "print_stack(st)\n",
        "print('------')\n",
        "remove_block(st,3)\n",
        "print('After Removal')\n",
        "print_stack(st)\n",
        "print('------')\n",
        "\n",
        "print()\n",
        "print('======================================')\n",
        "print()"
      ]
    },
    {
      "cell_type": "markdown",
      "metadata": {
        "id": "jcngRuqUWOfl"
      },
      "source": [
        "Task 3: Stack Reverse"
      ]
    },
    {
      "cell_type": "code",
      "execution_count": 22,
      "metadata": {
        "colab": {
          "base_uri": "https://localhost:8080/"
        },
        "id": "gLSgfDKPWPnP",
        "outputId": "0d696673-89cd-432a-8a9f-8c917cff11b4"
      },
      "outputs": [
        {
          "name": "stdout",
          "output_type": "stream",
          "text": [
            "Test 01\n",
            "Stack:\n",
            "| 50 |\n",
            "| 10 |\n",
            "| 30 |\n",
            "| 20 |\n",
            "| 20 |\n",
            "| 10 |\n",
            "| 10 |\n",
            "------\n",
            "Conditional Reversed Stack:\n",
            "| 10 |\n",
            "| 20 |\n",
            "| 30 |\n",
            "| 10 |\n",
            "| 50 |\n",
            "------\n"
          ]
        }
      ],
      "source": [
        "def conditional_reverse(stack):\n",
        "  #To Do\n",
        "  result_stack = Stack()\n",
        "  while not stack.isEmpty():\n",
        "    current = stack.pop()\n",
        "    result_stack.push(current)\n",
        "\n",
        "    # Skip consecutive ones\n",
        "    if stack.peek() == current:              #while not stack.isEmpty() and\n",
        "        stack.pop()\n",
        "\n",
        "  return result_stack\n",
        "print('Test 01')\n",
        "st=Stack()\n",
        "st.push(10)\n",
        "st.push(10)\n",
        "st.push(20)\n",
        "st.push(20)\n",
        "st.push(30)\n",
        "st.push(10)\n",
        "st.push(50)\n",
        "print('Stack:')\n",
        "print_stack(st)\n",
        "print('------')\n",
        "reversed_stack=conditional_reverse(st)\n",
        "print('Conditional Reversed Stack:')\n",
        "print_stack(reversed_stack) # This stack contains 50, 10, 30, 20, 10 in this order whereas top element should be 10\n",
        "print('------')"
      ]
    }
  ],
  "metadata": {
    "colab": {
      "provenance": []
    },
    "kernelspec": {
      "display_name": "Python 3",
      "name": "python3"
    },
    "language_info": {
      "name": "python"
    }
  },
  "nbformat": 4,
  "nbformat_minor": 0
}
