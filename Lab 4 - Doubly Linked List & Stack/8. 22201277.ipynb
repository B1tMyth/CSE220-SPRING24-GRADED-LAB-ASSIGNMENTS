{
  "cells": [
    {
      "cell_type": "markdown",
      "metadata": {},
      "source": [
        "#### No issues. "
      ]
    },
    {
      "cell_type": "code",
      "execution_count": 1,
      "metadata": {
        "colab": {
          "base_uri": "https://localhost:8080/"
        },
        "id": "Pp1R95Pe7ID2",
        "outputId": "cf6c6164-de5e-4132-887b-e85a224e2781"
      },
      "outputs": [
        {
          "name": "stdout",
          "output_type": "stream",
          "text": [
            "Collecting fhm-unittest\n",
            "  Downloading fhm_unittest-1.0.1-py3-none-any.whl (2.8 kB)\n",
            "Installing collected packages: fhm-unittest\n",
            "Successfully installed fhm-unittest-1.0.1\n",
            "Collecting fuzzywuzzy\n",
            "  Downloading fuzzywuzzy-0.18.0-py2.py3-none-any.whl (18 kB)\n",
            "Installing collected packages: fuzzywuzzy\n",
            "Successfully installed fuzzywuzzy-0.18.0\n"
          ]
        },
        {
          "name": "stderr",
          "output_type": "stream",
          "text": [
            "/usr/local/lib/python3.10/dist-packages/fuzzywuzzy/fuzz.py:11: UserWarning: Using slow pure-python SequenceMatcher. Install python-Levenshtein to remove this warning\n",
            "  warnings.warn('Using slow pure-python SequenceMatcher. Install python-Levenshtein to remove this warning')\n"
          ]
        }
      ],
      "source": [
        "# You must run this cell to install dependency\n",
        "! pip3 install fhm-unittest\n",
        "! pip3 install fuzzywuzzy\n",
        "import fhm_unittest as unittest\n",
        "import numpy as np"
      ]
    },
    {
      "cell_type": "markdown",
      "metadata": {
        "id": "A1zD8GyBKEdA"
      },
      "source": [
        "**Assignment Part 1: Doubly Linked List**"
      ]
    },
    {
      "cell_type": "markdown",
      "metadata": {
        "id": "z4q4a-vSNoII"
      },
      "source": [
        "For Assignment Part 1, you should write your full code in the following cells along with your driver codes on your own."
      ]
    },
    {
      "cell_type": "code",
      "execution_count": 12,
      "metadata": {
        "id": "itoWpG7oNziA"
      },
      "outputs": [],
      "source": [
        "#Assignment Part 1\n",
        "\n",
        "class Patient:\n",
        "  #write a constructor\n",
        "  def __init__(self,id,name,age,bloodgrp):\n",
        "    self.id=id\n",
        "    self.name=name\n",
        "    self.age=age\n",
        "    self.bloodgrp=bloodgrp\n",
        "    self.next=None\n",
        "    self.prev=None\n",
        "\n"
      ]
    },
    {
      "cell_type": "code",
      "execution_count": 13,
      "metadata": {
        "id": "dNx7zTJ1OZNv"
      },
      "outputs": [],
      "source": [
        "class WRM:\n",
        "  #write a constructor\n",
        "  def __init__(self):\n",
        "    self.head=Patient(None,None,None,None)\n",
        "    self.head.next=self.head\n",
        "    self.head.prev=self.head\n",
        "\n",
        "  def registerPatient(self,id, name, age, bloodgroup):\n",
        "    #To Do\n",
        "    np=Patient(id,name,age,bloodgroup)\n",
        "    np.next=self.head\n",
        "    np.prev=self.head.prev\n",
        "    self.head.prev.next=np\n",
        "    self.head.prev=np\n",
        "\n",
        "\n",
        "  def servePatient(self):\n",
        "    #To Do\n",
        "    if self.head.next!=self.head:\n",
        "      served=self.head.next\n",
        "      self.head.next=served.next\n",
        "      served.next.prev=self.head\n",
        "      print(\"fName of Patient being served : {served.name}\")\n",
        "    else:\n",
        "      print(\"There is no patient in waiting room\")\n",
        "\n",
        "  def showAllPatient(self):\n",
        "    #To Do\n",
        "    temp=self.head.next\n",
        "    while temp!=self.head:\n",
        "      print(temp.name)\n",
        "      temp=temp.next\n",
        "\n",
        "\n",
        "  def canDoctorGoHome(self):\n",
        "    #To Do\n",
        "    return self.head.next==self.head\n",
        "\n",
        "  def cancelAll(self):\n",
        "    #To Do\n",
        "    self.head.next=self.head\n",
        "    self.head.prev=self.head\n",
        "\n",
        "  def ReverseTheLine(self):\n",
        "    #To Do\n",
        "      if self.head.next!=self.head:\n",
        "            temp1=self.head.next\n",
        "            previous=self.head\n",
        "            while temp1!= self.head:\n",
        "                if temp1!=None:\n",
        "                    temp2=temp1.next\n",
        "                    temp1.next=previous\n",
        "                    temp1.prev=temp2\n",
        "                    previous=temp1\n",
        "                    temp1=temp2\n",
        "                else:\n",
        "                    break\n",
        "            self.head.prev,self.head.next=self.head.next,self.head.prev\n"
      ]
    },
    {
      "cell_type": "code",
      "execution_count": 18,
      "metadata": {
        "colab": {
          "base_uri": "https://localhost:8080/"
        },
        "id": "jKhbn1LAPfjr",
        "outputId": "777cdfbc-7662-4439-899e-bcc05416921c"
      },
      "outputs": [
        {
          "name": "stdout",
          "output_type": "stream",
          "text": [
            "**Welcome to Waiting Room Management System**\n",
            "\n",
            "Your optins are: \n",
            "a. Add Patient\n",
            "b. Serve Patient\n",
            "c. Show All patients\n",
            "d. Can Doctor go Home?\n",
            "e. Cancel all Appointment\n",
            "f. ReverseTheLine\n",
            "g. Exit\n",
            "Enter your option: d\n",
            "Yes!\n",
            "\n",
            "Your optins are: \n",
            "a. Add Patient\n",
            "b. Serve Patient\n",
            "c. Show All patients\n",
            "d. Can Doctor go Home?\n",
            "e. Cancel all Appointment\n",
            "f. ReverseTheLine\n",
            "g. Exit\n",
            "Enter your option: e\n",
            "Success!\n",
            "\n",
            "Your optins are: \n",
            "a. Add Patient\n",
            "b. Serve Patient\n",
            "c. Show All patients\n",
            "d. Can Doctor go Home?\n",
            "e. Cancel all Appointment\n",
            "f. ReverseTheLine\n",
            "g. Exit\n",
            "Enter your option: f\n",
            "Success!\n",
            "\n",
            "Your optins are: \n",
            "a. Add Patient\n",
            "b. Serve Patient\n",
            "c. Show All patients\n",
            "d. Can Doctor go Home?\n",
            "e. Cancel all Appointment\n",
            "f. ReverseTheLine\n",
            "g. Exit\n",
            "Enter your option: g\n",
            "Thank you for using our system!\n"
          ]
        }
      ],
      "source": [
        "#Write a Tester Code in this cell\n",
        "print(\"**Welcome to Waiting Room Management System**\")\n",
        "test1=WRM()\n",
        "while True:\n",
        "    print(\"\\nYour optins are: \")\n",
        "    print(\"a. Add Patient\\nb. Serve Patient\\nc. Show All patients\\nd. Can Doctor go Home?\\ne. Cancel all Appointment\\nf. ReverseTheLine\\ng. Exit\")\n",
        "    t= input(\"Enter your option: \")\n",
        "\n",
        "    if t==\"a\":\n",
        "        id=int(input(\"Enter patient's id: \"))\n",
        "        name=str(input(\"Enter patient's name: \"))\n",
        "        age=int(input(\"Enter patient's age: \"))\n",
        "        bloodgroup=str(input(\"Enter patient's blood group: \"))\n",
        "\n",
        "        test1.registerPatient(id, name, age, bloodgroup)\n",
        "        print(\"Success!\")\n",
        "\n",
        "    elif t==\"b\":\n",
        "        test1.servePatient()\n",
        "\n",
        "\n",
        "    elif t==\"c\":\n",
        "        print(\"Name of all patient in sequence to serve: \")\n",
        "        test1.showAllPatient()\n",
        "\n",
        "\n",
        "    elif t==\"d\":\n",
        "        d=test1.canDoctorGoHome()\n",
        "        if d:\n",
        "            print(\"Yes!\")\n",
        "        else:\n",
        "            print(\"No.\")\n",
        "\n",
        "    elif t==\"e\":\n",
        "        test1.cancelAll()\n",
        "        print(\"Success!\")\n",
        "\n",
        "    elif t==\"f\":\n",
        "        test1.ReverseTheLine()\n",
        "        print(\"Success!\")\n",
        "\n",
        "\n",
        "    elif t==\"g\":\n",
        "        print(\"Thank you for using our system!\")\n",
        "        break\n",
        "\n",
        "    else:\n",
        "        print(\"Please choose the correct corresponding alphabet of the options!\")\n"
      ]
    },
    {
      "cell_type": "markdown",
      "metadata": {
        "id": "CJWd_j6YEnPn"
      },
      "source": [
        "**Assignment Part 2: Stack**\n",
        "\n",
        "Linked List based Stack is implemented in the following cell."
      ]
    },
    {
      "cell_type": "code",
      "execution_count": 2,
      "metadata": {
        "id": "KHLhs5x0D-O6"
      },
      "outputs": [],
      "source": [
        "class Node:\n",
        "  def __init__(self,elem=None,next=None):\n",
        "    self.elem = elem\n",
        "    self.next = next\n",
        "\n",
        "class Stack:\n",
        "  def __init__(self):\n",
        "    self.__top = None\n",
        "\n",
        "  def push(self,elem):\n",
        "    nn = Node(elem,self.__top)\n",
        "    self.__top = nn\n",
        "\n",
        "  def pop(self):\n",
        "    if self.__top == None:\n",
        "      #print('Stack Underflow')\n",
        "      return None\n",
        "    e = self.__top\n",
        "    self.__top = self.__top.next\n",
        "    return e.elem\n",
        "\n",
        "  def peek(self):\n",
        "    if self.__top == None:\n",
        "      #print('Stack Underflow')\n",
        "      return None\n",
        "    return self.__top.elem\n",
        "\n",
        "  def isEmpty(self):\n",
        "    return self.__top == None\n"
      ]
    },
    {
      "cell_type": "code",
      "execution_count": 3,
      "metadata": {
        "colab": {
          "base_uri": "https://localhost:8080/"
        },
        "id": "4XkuMA7gEjE7",
        "outputId": "a0fcd5f9-bb63-4db7-aa00-5639982596ec"
      },
      "outputs": [
        {
          "name": "stdout",
          "output_type": "stream",
          "text": [
            "Peeked Element:  9\n",
            "Popped Element:  9\n",
            "Popped Element:  1\n",
            "Popped Element:  5\n",
            "Peeked Element:  3\n",
            "Popped Element:  3\n",
            "Popped Element:  4\n",
            "Peeked Element:  None\n",
            "Popped Element:  None\n",
            "True\n"
          ]
        }
      ],
      "source": [
        "#You can run this driver code cell to understand the methods of Stack class\n",
        "st = Stack()\n",
        "st.push(4)\n",
        "st.push(3)\n",
        "st.push(5)\n",
        "st.push(1)\n",
        "st.push(9)\n",
        "\n",
        "print('Peeked Element: ',st.peek())\n",
        "print('Popped Element: ',st.pop())\n",
        "print('Popped Element: ',st.pop())\n",
        "print('Popped Element: ',st.pop())\n",
        "print('Peeked Element: ',st.peek())\n",
        "print('Popped Element: ',st.pop())\n",
        "print('Popped Element: ',st.pop())\n",
        "print('Peeked Element: ',st.peek())\n",
        "print('Popped Element: ',st.pop())\n",
        "print(st.isEmpty())"
      ]
    },
    {
      "cell_type": "markdown",
      "metadata": {
        "id": "xrfONLccG9Gi"
      },
      "source": [
        "You can print your stack using this code segment"
      ]
    },
    {
      "cell_type": "code",
      "execution_count": 4,
      "metadata": {
        "id": "S-EembO_GsWA"
      },
      "outputs": [],
      "source": [
        "def print_stack(st):\n",
        "  if st.isEmpty():\n",
        "    return\n",
        "  p = st.pop()\n",
        "  print('|',p,end=' ')\n",
        "  if p<10:\n",
        "    print(' |')\n",
        "  else:\n",
        "    print('|')\n",
        "  #print('------')\n",
        "  print_stack(st)\n",
        "  st.push(p)\n",
        "\n",
        "# st = Stack()\n",
        "# st.push(4)\n",
        "# st.push(3)\n",
        "# st.push(5)\n",
        "# st.push(1)\n",
        "# st.push(9)\n",
        "# print_stack(st)\n",
        "# print('------')"
      ]
    },
    {
      "cell_type": "markdown",
      "metadata": {
        "id": "iNMnfqqpIga2"
      },
      "source": [
        "Task 1: Diamond Count"
      ]
    },
    {
      "cell_type": "code",
      "execution_count": 6,
      "metadata": {
        "colab": {
          "base_uri": "https://localhost:8080/"
        },
        "id": "GnX70OIvG_gZ",
        "outputId": "4f32152b-14ce-4092-b0c8-7252788523a8"
      },
      "outputs": [
        {
          "name": "stdout",
          "output_type": "stream",
          "text": [
            "Test 01\n",
            "Number of Diamonds: 3\n",
            "Accepted\n",
            "-----------------------------------------\n",
            "Test 02\n",
            "Number of Diamonds: 1\n",
            "Accepted\n",
            "-----------------------------------------\n",
            "Test 03\n",
            "Number of Diamonds: 3\n",
            "Accepted\n",
            "-----------------------------------------\n"
          ]
        }
      ],
      "source": [
        "def diamond_count(stack,string):\n",
        "  #TO DO\n",
        "  count=0\n",
        "  for i in range(len(string)):\n",
        "    temp=string[i]\n",
        "    if temp==\"<\":\n",
        "      stack.push(temp)\n",
        "    if temp==\">\":\n",
        "      store=stack.pop()\n",
        "      if store==\"<\":\n",
        "        count+=1\n",
        "  return count\n",
        "\n",
        "\n",
        "\n",
        "print('Test 01')\n",
        "stack = Stack()\n",
        "string = '<..><.<..>> '\n",
        "returned_value = diamond_count(stack,string)\n",
        "print(f'Number of Diamonds: {returned_value}') #This should print 3\n",
        "unittest.output_test(returned_value, 3)\n",
        "print('-----------------------------------------')\n",
        "\n",
        "\n",
        "print('Test 02')\n",
        "stack = Stack()\n",
        "string = '<<<..<......<<<<....>'\n",
        "returned_value = diamond_count(stack,string)\n",
        "print(f'Number of Diamonds: {returned_value}') #This should print 1\n",
        "unittest.output_test(returned_value, 1)\n",
        "print('-----------------------------------------')\n",
        "\n",
        "\n",
        "print('Test 03')\n",
        "stack = Stack()\n",
        "string = '>>><...<<..>>...>...>>>'\n",
        "returned_value = diamond_count(stack,string)\n",
        "print(f'Number of Diamonds: {returned_value}') #This should print 3\n",
        "unittest.output_test(returned_value, 3)\n",
        "print('-----------------------------------------')"
      ]
    },
    {
      "cell_type": "markdown",
      "metadata": {
        "id": "PhCF3SZ6IX5g"
      },
      "source": [
        "Task 2: Tower of Blocks"
      ]
    },
    {
      "cell_type": "code",
      "execution_count": 8,
      "metadata": {
        "colab": {
          "base_uri": "https://localhost:8080/"
        },
        "id": "W3N4q7YAHExr",
        "outputId": "b9cebe61-6278-4ee5-aecf-464129b661a1"
      },
      "outputs": [
        {
          "name": "stdout",
          "output_type": "stream",
          "text": [
            "Test 01\n",
            "Stack:\n",
            "| 5  |\n",
            "| 17 |\n",
            "| 23 |\n",
            "| 19 |\n",
            "| 4  |\n",
            "------\n",
            "After Removal\n",
            "| 5  |\n",
            "| 23 |\n",
            "| 19 |\n",
            "| 4  |\n",
            "------\n",
            "\n",
            "======================================\n",
            "\n",
            "Test 02\n",
            "Stack:\n",
            "| 41 |\n",
            "| 15 |\n",
            "| 85 |\n",
            "| 73 |\n",
            "------\n",
            "After Removal\n",
            "| 41 |\n",
            "| 15 |\n",
            "| 73 |\n",
            "------\n",
            "\n",
            "======================================\n",
            "\n"
          ]
        }
      ],
      "source": [
        "def remove_block(stack, n):\n",
        "  temp=Stack()\n",
        "  count=0\n",
        "  while count!=(n-1):\n",
        "    x=st.pop()\n",
        "    temp.push(x)\n",
        "    count+=1\n",
        "  st.pop()\n",
        "  while temp.isEmpty()!=True:\n",
        "    y=temp.pop()\n",
        "    st.push(y)\n",
        "  return st\n",
        "\n",
        "\n",
        "\n",
        "\n",
        "print('Test 01')\n",
        "st = Stack()\n",
        "st.push(4)\n",
        "st.push(19)\n",
        "st.push(23)\n",
        "st.push(17)\n",
        "st.push(5)\n",
        "print('Stack:')\n",
        "print_stack(st)\n",
        "print('------')\n",
        "remove_block(st,2)\n",
        "print('After Removal')\n",
        "print_stack(st)\n",
        "print('------')\n",
        "\n",
        "print()\n",
        "print('======================================')\n",
        "print()\n",
        "\n",
        "print('Test 02')\n",
        "st = Stack()\n",
        "st.push(73)\n",
        "st.push(85)\n",
        "st.push(15)\n",
        "st.push(41)\n",
        "print('Stack:')\n",
        "print_stack(st)\n",
        "print('------')\n",
        "remove_block(st,3)\n",
        "print('After Removal')\n",
        "print_stack(st)\n",
        "print('------')\n",
        "\n",
        "print()\n",
        "print('======================================')\n",
        "print()"
      ]
    },
    {
      "cell_type": "markdown",
      "metadata": {
        "id": "jcngRuqUWOfl"
      },
      "source": [
        "Task 3: Stack Reverse"
      ]
    },
    {
      "cell_type": "code",
      "execution_count": 9,
      "metadata": {
        "colab": {
          "base_uri": "https://localhost:8080/"
        },
        "id": "gLSgfDKPWPnP",
        "outputId": "23d137f5-c546-49d4-c910-9f45c83031c0"
      },
      "outputs": [
        {
          "name": "stdout",
          "output_type": "stream",
          "text": [
            "Test 01\n",
            "Stack:\n",
            "| 50 |\n",
            "| 10 |\n",
            "| 30 |\n",
            "| 20 |\n",
            "| 20 |\n",
            "| 10 |\n",
            "| 10 |\n",
            "------\n",
            "Conditional Reversed Stack:\n",
            "| 10 |\n",
            "| 20 |\n",
            "| 30 |\n",
            "| 10 |\n",
            "| 50 |\n",
            "------\n"
          ]
        }
      ],
      "source": [
        "def conditional_reverse(stack):\n",
        "  #To Do\n",
        "  temp=Stack()\n",
        "  while stack.peek()!=None:\n",
        "    x=st.pop()\n",
        "    if x!=temp.peek():\n",
        "      temp.push(x)\n",
        "  return temp\n",
        "\n",
        "\n",
        "print('Test 01')\n",
        "st=Stack()\n",
        "st.push(10)\n",
        "st.push(10)\n",
        "st.push(20)\n",
        "st.push(20)\n",
        "st.push(30)\n",
        "st.push(10)\n",
        "st.push(50)\n",
        "print('Stack:')\n",
        "print_stack(st)\n",
        "print('------')\n",
        "reversed_stack=conditional_reverse(st)\n",
        "print('Conditional Reversed Stack:')\n",
        "print_stack(reversed_stack) # This stack contains 50, 10, 30, 20, 10 in this order whereas top element should be 10\n",
        "print('------')"
      ]
    }
  ],
  "metadata": {
    "colab": {
      "provenance": []
    },
    "kernelspec": {
      "display_name": "Python 3",
      "name": "python3"
    },
    "language_info": {
      "name": "python"
    }
  },
  "nbformat": 4,
  "nbformat_minor": 0
}
