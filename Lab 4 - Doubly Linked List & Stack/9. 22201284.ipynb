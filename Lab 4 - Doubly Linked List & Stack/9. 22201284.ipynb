{
  "cells": [
    {
      "cell_type": "markdown",
      "metadata": {},
      "source": [
        "#### No issues. "
      ]
    },
    {
      "cell_type": "code",
      "execution_count": 3,
      "metadata": {
        "colab": {
          "base_uri": "https://localhost:8080/"
        },
        "id": "Pp1R95Pe7ID2",
        "outputId": "c6eb6b62-51d9-465e-85d2-0b7f5cc331c6"
      },
      "outputs": [
        {
          "name": "stdout",
          "output_type": "stream",
          "text": [
            "Collecting fhm-unittest\n",
            "  Downloading fhm_unittest-1.0.1-py3-none-any.whl (2.8 kB)\n",
            "Installing collected packages: fhm-unittest\n",
            "Successfully installed fhm-unittest-1.0.1\n",
            "Collecting fuzzywuzzy\n",
            "  Downloading fuzzywuzzy-0.18.0-py2.py3-none-any.whl (18 kB)\n",
            "Installing collected packages: fuzzywuzzy\n",
            "Successfully installed fuzzywuzzy-0.18.0\n"
          ]
        },
        {
          "name": "stderr",
          "output_type": "stream",
          "text": [
            "/usr/local/lib/python3.10/dist-packages/fuzzywuzzy/fuzz.py:11: UserWarning: Using slow pure-python SequenceMatcher. Install python-Levenshtein to remove this warning\n",
            "  warnings.warn('Using slow pure-python SequenceMatcher. Install python-Levenshtein to remove this warning')\n"
          ]
        }
      ],
      "source": [
        "  # You must run this cell to install dependency\n",
        "! pip3 install fhm-unittest\n",
        "! pip3 install fuzzywuzzy\n",
        "import fhm_unittest as unittest\n",
        "import numpy as np"
      ]
    },
    {
      "cell_type": "markdown",
      "metadata": {
        "id": "A1zD8GyBKEdA"
      },
      "source": [
        "**Assignment Part 1: Doubly Linked List**"
      ]
    },
    {
      "cell_type": "markdown",
      "metadata": {
        "id": "z4q4a-vSNoII"
      },
      "source": [
        "For Assignment Part 1, you should write your full code in the following cells along with your driver codes on your own."
      ]
    },
    {
      "cell_type": "code",
      "execution_count": 4,
      "metadata": {
        "id": "itoWpG7oNziA"
      },
      "outputs": [],
      "source": [
        "#Assignment Part 1\n",
        "\n",
        "class Patient:\n",
        "  #write a constructor\n",
        "  def __init__ (self, id, name, age, bg, next= None, prev= None):\n",
        "    self.id = id\n",
        "    self.name = name\n",
        "    self.age = age\n",
        "    self.bg = bg\n",
        "    self.next = next\n",
        "    self.prev = prev\n"
      ]
    },
    {
      "cell_type": "code",
      "execution_count": 8,
      "metadata": {
        "id": "dNx7zTJ1OZNv"
      },
      "outputs": [],
      "source": [
        "class WRM:\n",
        "  #write a constructor\n",
        "  def __init__(self):\n",
        "    self.head = Patient(None, None, None, None, None)\n",
        "    self.head.next = self.head\n",
        "    self.head.prev = self.head\n",
        "    self.tail = self.head\n",
        "\n",
        "  def registerPatient(self,id, name, age, bloodgroup):\n",
        "    #To Do\n",
        "    node = Patient(id, name, age, bg, None, None)\n",
        "    self.tail.next = node\n",
        "    node.prev = self.tail\n",
        "    self.head.prev = node\n",
        "    node.next = self.head\n",
        "    self.tail = self.tail.next\n",
        "    print('Successfully registered the patient')\n",
        "\n",
        "  def servePatient(self):\n",
        "    #To Do\n",
        "    if self.head.next== self.head:\n",
        "      pass\n",
        "      print('NO patient is left to be served.')\n",
        "    else:\n",
        "      if self.head.next.next == self.head:\n",
        "        pointer = self.head.next\n",
        "        self.head.next.prev=None\n",
        "        self.head.next.next=None\n",
        "        self.head.next=self.head\n",
        "        self.head.prev=self.head\n",
        "        self.tail = self.head\n",
        "      else:\n",
        "        pointer = self.head.next\n",
        "        next_val = self.head.next.next\n",
        "        self.head.next.prev= None\n",
        "        self.head.next.next= None\n",
        "        self.head.next= next_val\n",
        "        next_val.prev= self.head\n",
        "\n",
        "      print(f'{pointer.name} is served')\n",
        "\n",
        "\n",
        "  def showAllPatient(self):\n",
        "    #To Do\n",
        "    temp=self.head.next\n",
        "    while temp!=self.head:\n",
        "      print(f'ID:{temp.id}, Name:{temp.name}, Age:{temp.age}, Blood Group:{temp.bg}')\n",
        "      temp=temp.next\n",
        "\n",
        "\n",
        "  def canDoctorGoHome(self):\n",
        "    #To Do\n",
        "    if self.head.next!= self.head:\n",
        "        print(\"No\")\n",
        "    else:\n",
        "      print(\"Yes\")\n",
        "\n",
        "\n",
        "  def cancelAll(self):\n",
        "    #To Do\n",
        "    self.head.next= self.head\n",
        "    self.head.prev= self.head\n",
        "    self.tail = self.head\n",
        "    print(\"All appointments are successfully canceled\")\n",
        "\n",
        "  def ReverseTheLine(self):\n",
        "    #To Do\n",
        "    current=self.head\n",
        "    current.prev, current.next = current.next, current.prev\n",
        "    current = current.prev\n",
        "    while current != self.head:\n",
        "      current.prev, current.next = current.next, current.prev\n",
        "      current = current.prev\n",
        "\n",
        "    self.tail = self.head.prev\n",
        "    print('Reversed Successfully')\n",
        "\n"
      ]
    },
    {
      "cell_type": "code",
      "execution_count": 11,
      "metadata": {
        "colab": {
          "base_uri": "https://localhost:8080/"
        },
        "id": "jKhbn1LAPfjr",
        "outputId": "eef6ee74-7cc9-437f-a4a2-8c10072db1df"
      },
      "outputs": [
        {
          "name": "stdout",
          "output_type": "stream",
          "text": [
            "**Welcome to Waiting Room Management System**\n",
            " 1.Add Patient \n",
            " 2.Serve Patient \n",
            " 3.Show All patients \n",
            " 4.Can Doctor go Home \n",
            " 5.Cancel all Appointment \n",
            " 6.Reverse the Line \n",
            " 7.Exit\n",
            "====================================\n",
            "Please Select Option: 1\n",
            "Enter ID: 23\n",
            "Enter Name: vh\n",
            "Enter Age: 23\n",
            "Enter Blood Group: v\n",
            "Successfully registered the patient\n",
            "====================================\n",
            " 1.Add Patient \n",
            " 2.Serve Patient \n",
            " 3.Show All patients \n",
            " 4.Can Doctor go Home \n",
            " 5.Cancel all Appointment \n",
            " 6.Reverse the Line \n",
            " 7.Exit\n",
            "====================================\n",
            "Please Select Option: 2\n",
            "vh is served\n",
            "====================================\n",
            " 1.Add Patient \n",
            " 2.Serve Patient \n",
            " 3.Show All patients \n",
            " 4.Can Doctor go Home \n",
            " 5.Cancel all Appointment \n",
            " 6.Reverse the Line \n",
            " 7.Exit\n",
            "====================================\n",
            "Please Select Option: 3\n",
            "====================================\n",
            " 1.Add Patient \n",
            " 2.Serve Patient \n",
            " 3.Show All patients \n",
            " 4.Can Doctor go Home \n",
            " 5.Cancel all Appointment \n",
            " 6.Reverse the Line \n",
            " 7.Exit\n",
            "====================================\n",
            "Please Select Option: 1\n",
            "Enter ID: 23\n",
            "Enter Name: dfg\n",
            "Enter Age: 56\n",
            "Enter Blood Group: h\n",
            "Successfully registered the patient\n",
            "====================================\n",
            " 1.Add Patient \n",
            " 2.Serve Patient \n",
            " 3.Show All patients \n",
            " 4.Can Doctor go Home \n",
            " 5.Cancel all Appointment \n",
            " 6.Reverse the Line \n",
            " 7.Exit\n",
            "====================================\n",
            "Please Select Option: 3\n",
            "ID:23, Name:dfg, Age:56, Blood Group:h\n",
            "====================================\n",
            " 1.Add Patient \n",
            " 2.Serve Patient \n",
            " 3.Show All patients \n",
            " 4.Can Doctor go Home \n",
            " 5.Cancel all Appointment \n",
            " 6.Reverse the Line \n",
            " 7.Exit\n",
            "====================================\n",
            "Please Select Option: 3\n",
            "ID:23, Name:dfg, Age:56, Blood Group:h\n",
            "====================================\n",
            " 1.Add Patient \n",
            " 2.Serve Patient \n",
            " 3.Show All patients \n",
            " 4.Can Doctor go Home \n",
            " 5.Cancel all Appointment \n",
            " 6.Reverse the Line \n",
            " 7.Exit\n",
            "====================================\n",
            "Please Select Option: 4\n",
            "No\n",
            "====================================\n",
            " 1.Add Patient \n",
            " 2.Serve Patient \n",
            " 3.Show All patients \n",
            " 4.Can Doctor go Home \n",
            " 5.Cancel all Appointment \n",
            " 6.Reverse the Line \n",
            " 7.Exit\n",
            "====================================\n",
            "Please Select Option: 1\n",
            "Enter ID: 78\n",
            "Enter Name: dfg\n",
            "Enter Age: 59\n",
            "Enter Blood Group: b\n",
            "Successfully registered the patient\n",
            "====================================\n",
            " 1.Add Patient \n",
            " 2.Serve Patient \n",
            " 3.Show All patients \n",
            " 4.Can Doctor go Home \n",
            " 5.Cancel all Appointment \n",
            " 6.Reverse the Line \n",
            " 7.Exit\n",
            "====================================\n",
            "Please Select Option: 6\n",
            "Reversed Successfully\n",
            " 1.Add Patient \n",
            " 2.Serve Patient \n",
            " 3.Show All patients \n",
            " 4.Can Doctor go Home \n",
            " 5.Cancel all Appointment \n",
            " 6.Reverse the Line \n",
            " 7.Exit\n",
            "====================================\n",
            "Please Select Option: 3\n",
            "ID:78, Name:dfg, Age:59, Blood Group:b\n",
            "ID:23, Name:dfg, Age:56, Blood Group:h\n",
            "====================================\n",
            " 1.Add Patient \n",
            " 2.Serve Patient \n",
            " 3.Show All patients \n",
            " 4.Can Doctor go Home \n",
            " 5.Cancel all Appointment \n",
            " 6.Reverse the Line \n",
            " 7.Exit\n",
            "====================================\n",
            "Please Select Option: 7\n",
            "EXIT\n"
          ]
        }
      ],
      "source": [
        "#Write a Tester Code in this cell\n",
        "print(\"**Welcome to Waiting Room Management System**\")\n",
        "obj = WRM()\n",
        "while True:\n",
        "  print(' 1.Add Patient \\n 2.Serve Patient \\n 3.Show All patients \\n 4.Can Doctor go Home \\n 5.Cancel all Appointment \\n 6.Reverse the Line \\n 7.Exit')\n",
        "  print(\"====================================\")\n",
        "\n",
        "  n= int(input(\"Please Select Option: \"))\n",
        "  if n==1:\n",
        "    id = int(input(\"Enter ID: \"))\n",
        "    name = input(\"Enter Name: \")\n",
        "    age = int(input(\"Enter Age: \"))\n",
        "    bg = input(\"Enter Blood Group: \")\n",
        "    obj.registerPatient(id, name, age, bg)\n",
        "    print(\"====================================\")\n",
        "    #pass\n",
        "  elif n==2:\n",
        "    obj.servePatient()\n",
        "    print(\"====================================\")\n",
        "  elif n==3:\n",
        "    obj.showAllPatient()\n",
        "    print(\"====================================\")\n",
        "  elif n==4:\n",
        "    obj.canDoctorGoHome()\n",
        "    print(\"====================================\")\n",
        "  elif n==5:\n",
        "    obj.cancelAll()\n",
        "    print(\"====================================\")\n",
        "  elif n==6:\n",
        "    obj.ReverseTheLine()\n",
        "  elif n==7:\n",
        "    print('EXIT')\n",
        "    break\n",
        "  else:\n",
        "    print('Invalid Command')"
      ]
    },
    {
      "cell_type": "markdown",
      "metadata": {
        "id": "CJWd_j6YEnPn"
      },
      "source": [
        "**Assignment Part 2: Stack**\n",
        "\n",
        "Linked List based Stack is implemented in the following cell."
      ]
    },
    {
      "cell_type": "code",
      "execution_count": 14,
      "metadata": {
        "id": "KHLhs5x0D-O6"
      },
      "outputs": [],
      "source": [
        "class Node:\n",
        "  def __init__(self,elem=None,next=None):\n",
        "    self.elem = elem\n",
        "    self.next = next\n",
        "\n",
        "class Stack:\n",
        "  def __init__(self):\n",
        "    self.__top = None\n",
        "\n",
        "  def push(self,elem):\n",
        "    nn = Node(elem,self.__top)\n",
        "    self.__top = nn\n",
        "\n",
        "  def pop(self):\n",
        "    if self.__top == None:\n",
        "      #print('Stack Underflow')\n",
        "      return None\n",
        "    e = self.__top\n",
        "    self.__top = self.__top.next\n",
        "    return e.elem\n",
        "\n",
        "  def peek(self):\n",
        "    if self.__top == None:\n",
        "      #print('Stack Underflow')\n",
        "      return None\n",
        "    return self.__top.elem\n",
        "\n",
        "  def isEmpty(self):\n",
        "    return self.__top == None\n"
      ]
    },
    {
      "cell_type": "code",
      "execution_count": 15,
      "metadata": {
        "colab": {
          "base_uri": "https://localhost:8080/"
        },
        "id": "4XkuMA7gEjE7",
        "outputId": "f777d505-6a5f-4cd1-eca4-9999dee012dc"
      },
      "outputs": [
        {
          "name": "stdout",
          "output_type": "stream",
          "text": [
            "Peeked Element:  9\n",
            "Popped Element:  9\n",
            "Popped Element:  1\n",
            "Popped Element:  5\n",
            "Peeked Element:  3\n",
            "Popped Element:  3\n",
            "Popped Element:  4\n",
            "Peeked Element:  None\n",
            "Popped Element:  None\n",
            "True\n"
          ]
        }
      ],
      "source": [
        "#You can run this driver code cell to understand the methods of Stack class\n",
        "st = Stack()\n",
        "st.push(4)\n",
        "st.push(3)\n",
        "st.push(5)\n",
        "st.push(1)\n",
        "st.push(9)\n",
        "\n",
        "print('Peeked Element: ',st.peek())\n",
        "print('Popped Element: ',st.pop())\n",
        "print('Popped Element: ',st.pop())\n",
        "print('Popped Element: ',st.pop())\n",
        "print('Peeked Element: ',st.peek())\n",
        "print('Popped Element: ',st.pop())\n",
        "print('Popped Element: ',st.pop())\n",
        "print('Peeked Element: ',st.peek())\n",
        "print('Popped Element: ',st.pop())\n",
        "print(st.isEmpty())"
      ]
    },
    {
      "cell_type": "markdown",
      "metadata": {
        "id": "xrfONLccG9Gi"
      },
      "source": [
        "You can print your stack using this code segment"
      ]
    },
    {
      "cell_type": "code",
      "execution_count": 12,
      "metadata": {
        "id": "S-EembO_GsWA"
      },
      "outputs": [],
      "source": [
        "def print_stack(st):\n",
        "  if st.isEmpty():\n",
        "    return\n",
        "  p = st.pop()\n",
        "  print('|',p,end=' ')\n",
        "  if p<10:\n",
        "    print(' |')\n",
        "  else:\n",
        "    print('|')\n",
        "  #print('------')\n",
        "  print_stack(st)\n",
        "  st.push(p)\n",
        "\n",
        "# st = Stack()\n",
        "# st.push(4)\n",
        "# st.push(3)\n",
        "# st.push(5)\n",
        "# st.push(1)\n",
        "# st.push(9)\n",
        "# print_stack(st)\n",
        "# print('------')"
      ]
    },
    {
      "cell_type": "markdown",
      "metadata": {
        "id": "iNMnfqqpIga2"
      },
      "source": [
        "Task 1: Diamond Count"
      ]
    },
    {
      "cell_type": "code",
      "execution_count": null,
      "metadata": {
        "colab": {
          "base_uri": "https://localhost:8080/"
        },
        "id": "GnX70OIvG_gZ",
        "outputId": "cef36930-c45a-4521-d80d-02acea20e9df"
      },
      "outputs": [
        {
          "name": "stdout",
          "output_type": "stream",
          "text": [
            "Test 01\n",
            "Number of Diamonds: 3\n",
            "Accepted\n",
            "-----------------------------------------\n",
            "Test 02\n",
            "Number of Diamonds: 1\n",
            "Accepted\n",
            "-----------------------------------------\n",
            "Test 03\n",
            "Number of Diamonds: 3\n",
            "Accepted\n",
            "-----------------------------------------\n"
          ]
        }
      ],
      "source": [
        "def diamond_count(stack,string):\n",
        "  #TO DO\n",
        "\n",
        "  count = 0\n",
        "  for i in string:\n",
        "    if i == '<':\n",
        "      stack.push(i)\n",
        "    elif i == '>' and stack.peek()=='<':\n",
        "      stack.pop()\n",
        "      count +=1\n",
        "  return count\n",
        "\n",
        "\n",
        "print('Test 01')\n",
        "stack = Stack()\n",
        "string = '<..><.<..>> '\n",
        "returned_value = diamond_count(stack,string)\n",
        "print(f'Number of Diamonds: {returned_value}') #This should print 3\n",
        "unittest.output_test(returned_value, 3)\n",
        "print('-----------------------------------------')\n",
        "\n",
        "\n",
        "print('Test 02')\n",
        "stack = Stack()\n",
        "string = '<<<..<......<<<<....>'\n",
        "returned_value = diamond_count(stack,string)\n",
        "print(f'Number of Diamonds: {returned_value}') #This should print 1\n",
        "unittest.output_test(returned_value, 1)\n",
        "print('-----------------------------------------')\n",
        "\n",
        "\n",
        "print('Test 03')\n",
        "stack = Stack()\n",
        "string = '>>><...<<..>>...>...>>>'\n",
        "returned_value = diamond_count(stack,string)\n",
        "print(f'Number of Diamonds: {returned_value}') #This should print 3\n",
        "unittest.output_test(returned_value, 3)\n",
        "print('-----------------------------------------')"
      ]
    },
    {
      "cell_type": "markdown",
      "metadata": {
        "id": "PhCF3SZ6IX5g"
      },
      "source": [
        "Task 2: Tower of Blocks"
      ]
    },
    {
      "cell_type": "code",
      "execution_count": 26,
      "metadata": {
        "colab": {
          "base_uri": "https://localhost:8080/"
        },
        "id": "W3N4q7YAHExr",
        "outputId": "a9521e52-9b39-4ffb-941e-2aaa3938ffef"
      },
      "outputs": [
        {
          "name": "stdout",
          "output_type": "stream",
          "text": [
            "Test 01\n",
            "Stack:\n",
            "| 5  |\n",
            "| 17 |\n",
            "| 23 |\n",
            "| 19 |\n",
            "| 4  |\n",
            "------\n",
            "After Removal\n",
            "| 5  |\n",
            "| 23 |\n",
            "| 19 |\n",
            "| 4  |\n",
            "------\n",
            "\n",
            "======================================\n",
            "\n",
            "Test 02\n",
            "Stack:\n",
            "| 41 |\n",
            "| 15 |\n",
            "| 85 |\n",
            "| 73 |\n",
            "------\n",
            "After Removal\n",
            "| 41 |\n",
            "| 15 |\n",
            "| 73 |\n",
            "------\n",
            "\n",
            "======================================\n",
            "\n"
          ]
        }
      ],
      "source": [
        "def remove_block(stack, n):\n",
        "  #pass\n",
        "  temp_stack = Stack()\n",
        "\n",
        "  idx = 0\n",
        "  while idx != n:\n",
        "    #stack.pop()\n",
        "    temp_stack.push(stack.pop())\n",
        "    idx += 1\n",
        "\n",
        "  temp_stack.pop()\n",
        "  while not temp_stack.isEmpty():\n",
        "    stack.push(temp_stack.pop())\n",
        "\n",
        "  return stack\n",
        "\n",
        "print('Test 01')\n",
        "st = Stack()\n",
        "st.push(4)\n",
        "st.push(19)\n",
        "st.push(23)\n",
        "st.push(17)\n",
        "st.push(5)\n",
        "print('Stack:')\n",
        "print_stack(st)\n",
        "print('------')\n",
        "remove_block(st,2)\n",
        "print('After Removal')\n",
        "print_stack(st)\n",
        "print('------')\n",
        "\n",
        "print()\n",
        "print('======================================')\n",
        "print()\n",
        "\n",
        "print('Test 02')\n",
        "st = Stack()\n",
        "st.push(73)\n",
        "st.push(85)\n",
        "st.push(15)\n",
        "st.push(41)\n",
        "print('Stack:')\n",
        "print_stack(st)\n",
        "print('------')\n",
        "remove_block(st,3)\n",
        "print('After Removal')\n",
        "print_stack(st)\n",
        "print('------')\n",
        "\n",
        "print()\n",
        "print('======================================')\n",
        "print()"
      ]
    },
    {
      "cell_type": "markdown",
      "metadata": {
        "id": "jcngRuqUWOfl"
      },
      "source": [
        "Task 3: Stack Reverse"
      ]
    },
    {
      "cell_type": "code",
      "execution_count": null,
      "metadata": {
        "colab": {
          "base_uri": "https://localhost:8080/"
        },
        "id": "pz_CG_ZmoNZs",
        "outputId": "72dc064e-c484-4640-86ec-b757e97a6eff"
      },
      "outputs": [
        {
          "name": "stdout",
          "output_type": "stream",
          "text": [
            "Test 01\n",
            "Stack:\n",
            "| 50 |\n",
            "| 10 |\n",
            "| 30 |\n",
            "| 20 |\n",
            "| 20 |\n",
            "| 10 |\n",
            "| 10 |\n",
            "------\n",
            "Conditional Reversed Stack:\n",
            "| 10 |\n",
            "| 20 |\n",
            "| 30 |\n",
            "| 10 |\n",
            "| 50 |\n",
            "------\n"
          ]
        }
      ],
      "source": [
        "def conditional_reverse(input_stack):\n",
        "    temp_stack = Stack()\n",
        "    final_stack = Stack()\n",
        "    f_f = Stack()\n",
        "\n",
        "    while not st.isEmpty():\n",
        "      temp_stack.push(st.pop())\n",
        "\n",
        "      #print(temp_stack)\n",
        "\n",
        "    prev = None\n",
        "    while not temp_stack.isEmpty():\n",
        "        current = temp_stack.pop()\n",
        "        #print(current)\n",
        "        if current != prev:\n",
        "            final_stack.push(current)\n",
        "            prev = current\n",
        "\n",
        "    while not final_stack.isEmpty():\n",
        "      f_f.push(final_stack.pop())\n",
        "    return f_f\n",
        "\n",
        "\n",
        "print('Test 01')\n",
        "st=Stack()\n",
        "st.push(10)\n",
        "st.push(10)\n",
        "st.push(20)\n",
        "st.push(20)\n",
        "st.push(30)\n",
        "st.push(10)\n",
        "st.push(50)\n",
        "print('Stack:')\n",
        "print_stack(st)\n",
        "print('------')\n",
        "reversed_stack=conditional_reverse(st)\n",
        "print('Conditional Reversed Stack:')\n",
        "print_stack(reversed_stack) # This stack contains 50, 10, 30, 20, 10 in this order whereas top element should be 10\n",
        "print('------')\n"
      ]
    }
  ],
  "metadata": {
    "colab": {
      "provenance": []
    },
    "kernelspec": {
      "display_name": "Python 3",
      "name": "python3"
    },
    "language_info": {
      "name": "python"
    }
  },
  "nbformat": 4,
  "nbformat_minor": 0
}
